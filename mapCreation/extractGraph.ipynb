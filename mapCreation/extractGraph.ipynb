{
 "cells": [
  {
   "cell_type": "code",
   "execution_count": 150,
   "id": "87c6dcfa",
   "metadata": {},
   "outputs": [],
   "source": [
    "using OpenStreetMapX"
   ]
  },
  {
   "cell_type": "code",
   "execution_count": 167,
   "id": "68aaf54c",
   "metadata": {},
   "outputs": [
    {
     "data": {
      "text/plain": [
       "\"/media/root/data/analysis/map\""
      ]
     },
     "execution_count": 167,
     "metadata": {},
     "output_type": "execute_result"
    }
   ],
   "source": [
    "city = \"Kolkata\"\n",
    "PATH = \"/media/root/data/analysis/map\""
   ]
  },
  {
   "cell_type": "code",
   "execution_count": 168,
   "id": "7e5bf44b",
   "metadata": {
    "scrolled": true
   },
   "outputs": [
    {
     "data": {
      "text/plain": [
       "MapData(OpenStreetMapX.Bounds{LLA}(22.3452411, 22.9809325, 88.2089414, 88.5425844), Dict{Int64,ENU}(9555515456 => ENU(-4648.017251791017, -17406.803565636532, -25.57018787748075),2021455447 => ENU(3815.879898856483, -10072.743703889773, -9.13636235800277),9406886931 => ENU(2245.184870585889, 29931.828139413516, -70.99575034750706),9603000007 => ENU(-11109.626123182672, 2473.4072521525604, -10.15282520477433),9598569208 => ENU(1831.7202015420417, 6260.258290866778, -3.351260450261634),2230861293 => ENU(2457.467584436463, 5238.58136834929, -2.6357691249052095),2245051055 => ENU(-7753.379520571557, 2109.139573364546, -5.060785210190943),9407920577 => ENU(-3039.4799530710925, 26660.476586196957, -56.73558085095465),9577471072 => ENU(-8392.22497282609, 2406.3146271167084, -5.974713668102709),9523511719 => ENU(-627.3099166388533, -33098.52044935283, -86.36267306678019)…), OpenStreetMapX.Way[OpenStreetMapX.Way(22828588, [422246678, 422246676, 2163540471, 663941564, 2163540477, 422246674, 2163540478, 422246672, 429365364, 245707099, 245707159, 663941498], Dict(\"oneway\" => \"yes\",\"lanes\" => \"3\",\"surface\" => \"asphalt\",\"bridge\" => \"yes\",\"name\" => \"Vidyasagar Setu\",\"layer\" => \"1\",\"ref\" => \"NH12\",\"highway\" => \"trunk\",\"foot\" => \"no\",\"bicycle\" => \"yes\"…)), OpenStreetMapX.Way(26774680, [293685285, 293685287], Dict(\"created_by\" => \"JOSM\",\"highway\" => \"residential\")), OpenStreetMapX.Way(26774681, [293685303, 2030023040, 1662343218, 293685305], Dict(\"highway\" => \"residential\")), OpenStreetMapX.Way(26774683, [5524944759, 5524944760, 293685311, 293685302], Dict(\"highway\" => \"residential\")), OpenStreetMapX.Way(26774684, [1742495589, 293685301, 293685322, 1662341075], Dict(\"highway\" => \"residential\")), OpenStreetMapX.Way(26774686, [293685331, 293685335], Dict(\"highway\" => \"residential\")), OpenStreetMapX.Way(27377888, [1329367920, 302477513, 302477514, 302477515, 1331164053, 1330979253, 300544713, 1331093653, 1331093759, 1331093632  …  302477517, 302477518, 1332592426, 302477519, 302477520, 302477521, 1332794173, 302477522, 302477523, 1331093610], Dict(\"lit\" => \"yes\",\"name\" => \"Dr. Meghnad Saha Road\",\"name:etymology:wikidata\" => \"Q377898\",\"oneway\" => \"yes\",\"highway\" => \"tertiary\",\"lanes\" => \"3\",\"sidewalk\" => \"both\",\"maxspeed\" => \"40\",\"surface\" => \"asphalt\")), OpenStreetMapX.Way(27552922, [1274591041, 1274591209, 9894607301, 4329298996, 302472318, 302472319, 9565518223, 4329298997, 1364659432, 6508615583, 1364659426, 10020005448, 302472320, 1319827064, 302472321], Dict(\"name\" => \"Ballygunge Circular Road (Pramatesh Barua Sarani)\",\"highway\" => \"residential\",\"surface\" => \"asphalt\")), OpenStreetMapX.Way(27552925, [1274591028, 1274591360], Dict(\"name\" => \"Lansdowne Road (Sarat Bose Road)\",\"oneway\" => \"yes\",\"highway\" => \"secondary\")), OpenStreetMapX.Way(27552926, [664439124, 663846992, 1215798032, 1215797969, 1207704645, 2281800912, 8021483483, 1215797941, 663846991, 1207704795  …  1202332476, 1217614545, 1202332497, 1202332469, 1217614542, 1217614540, 663847548, 1202168735, 1217614493, 9490449622], Dict(\"name\" => \"Acharya Prafulla Chandra Bose Road\",\"name:etymology:wikidata\" => \"Q3351086\",\"oneway\" => \"yes\",\"source\" => \"Yahoo hires\",\"highway\" => \"primary\",\"maxspeed\" => \"40\",\"ref\" => \"SH1\"))  …  OpenStreetMapX.Way(1103118449, [10094786497, 10094786498], Dict(\"highway\" => \"residential\")), OpenStreetMapX.Way(1103120424, [10094783268, 10094783269, 10094783270, 10094783271, 10094783272, 10094783273, 9199729630], Dict(\"highway\" => \"residential\")), OpenStreetMapX.Way(1103120425, [10094783273, 10094783274], Dict(\"highway\" => \"residential\")), OpenStreetMapX.Way(1103120426, [7122637997, 10094783275], Dict(\"highway\" => \"residential\")), OpenStreetMapX.Way(1103120427, [7122637993, 10094783276, 10094783277, 10094783278, 10094783279, 10094783280], Dict(\"highway\" => \"residential\")), OpenStreetMapX.Way(1103128602, [10094815799, 10094815800], Dict(\"highway\" => \"residential\")), OpenStreetMapX.Way(1103128603, [4905189839, 9171994327, 10094815801], Dict(\"source\" => \"maxar\",\"highway\" => \"residential\")), OpenStreetMapX.Way(1103128604, [10094815800, 10094815801], Dict(\"highway\" => \"residential\")), OpenStreetMapX.Way(1103128605, [9171994327, 10094815802], Dict(\"highway\" => \"residential\")), OpenStreetMapX.Way(1103132729, [10094883959, 10094883960], Dict(\"highway\" => \"residential\"))], Dict{Int64,Set{Int64}}(4011828820 => Set([398422046, 398422047, 398422033]),7220594082 => Set([773560783, 216578161]),2230861293 => Set([213375300, 1026685599]),2231166824 => Set([213416057, 316222547, 213416171]),2245051055 => Set([215086874, 215086860]),9407920577 => Set([1031096433, 1020040330]),9544871212 => Set([1035973040, 688333832]),9548918433 => Set([432769907, 1036463190]),9577471072 => Set([1040179037, 1040179035]),9589334802 => Set([1041610500, 1041610499])…), {1073612, 2248748} directed simple Int64 graph, Dict(9555515456 => 808435,2021455447 => 701266,9406886931 => 90474,9603000007 => 812458,9598569208 => 751429,2230861293 => 652075,2245051055 => 559626,9407920577 => 59945,9577471072 => 231392,9523511719 => 282010…), [9523563215, 9523563214, 9579904065, 9579904066, 9598870892, 9598870893, 9462660529, 9462113045, 4683336216, 4683336217  …  9393651855, 9604680386, 1335919130, 9544470562, 9170768535, 9622873926, 9560111434, 773916792, 9455651917, 2454592955], [(9523563215, 9523563214), (9579904065, 9579904066), (9598870892, 9598870893), (9462660529, 9462113045), (4683336216, 4683336217), (1719052065, 1719052071), (9444194327, 9443751072), (9577496442, 9577496439), (2244865578, 3631156105), (4287106898, 4287106899)  …  (3201565022, 3201565027), (1325701164, 1325701379), (9532317303, 7517587372), (9179801691, 9179801692), (9544096722, 9544096721), (9154651674, 9154651675), (6152907151, 6158871113), (4903076052, 4903076051), (9555718877, 6157738176), (9412265444, 9412265445)], \n",
       "  [2      ,       1]  =  3.94558\n",
       "  [1053723,       1]  =  18.8633\n",
       "  [1      ,       2]  =  3.94558\n",
       "  [966905 ,       2]  =  3.52269\n",
       "  [4      ,       3]  =  3.69356\n",
       "  [406639 ,       3]  =  4.62328\n",
       "  [3      ,       4]  =  3.69356\n",
       "  [633829 ,       4]  =  2.9099\n",
       "  [6      ,       5]  =  64.0576\n",
       "  [5      ,       6]  =  64.0576\n",
       "  [218492 ,       6]  =  15.3793\n",
       "  [418234 ,       6]  =  33.5017\n",
       "  ⋮\n",
       "  [1053061, 1073600]  =  38.5781\n",
       "  [897689 , 1073601]  =  14.9008\n",
       "  [695485 , 1073602]  =  11.9964\n",
       "  [801202 , 1073603]  =  47.674\n",
       "  [514868 , 1073604]  =  73.9198\n",
       "  [349789 , 1073605]  =  23.2756\n",
       "  [945772 , 1073606]  =  23.056\n",
       "  [39943  , 1073607]  =  60.4934\n",
       "  [917930 , 1073608]  =  18.2392\n",
       "  [180887 , 1073609]  =  30.9061\n",
       "  [1072586, 1073610]  =  27.7712\n",
       "  [431112 , 1073611]  =  11.2552\n",
       "  [913096 , 1073612]  =  9.46708, [6, 6, 6, 6, 6, 6, 6, 6, 5, 6  …  6, 5, 6, 6, 6, 6, 5, 6, 6, 6])"
      ]
     },
     "execution_count": 168,
     "metadata": {},
     "output_type": "execute_result"
    }
   ],
   "source": [
    "md = get_map_data(\"$(PATH)/OSMFiles/map_$(city).osm\", use_cache=false, trim_to_connected_graph=true, only_intersections=false)"
   ]
  },
  {
   "cell_type": "code",
   "execution_count": 169,
   "id": "add2eaa0",
   "metadata": {},
   "outputs": [],
   "source": [
    "nodesf = open(\"$(PATH)/juliaGraph/nodes_$(city).csv\", \"w\")\n",
    "print(nodesf, \"node_id,lat,long\\n\")"
   ]
  },
  {
   "cell_type": "code",
   "execution_count": 170,
   "id": "96c272ce",
   "metadata": {},
   "outputs": [],
   "source": [
    "for i = 1:length(md.v)\n",
    "    lat, long = OpenStreetMapX.latlon(md,i);\n",
    "    println(nodesf,string(i)*\",\"*string(lat)*\",\"*string(long))\n",
    "end"
   ]
  },
  {
   "cell_type": "code",
   "execution_count": 171,
   "id": "df71c705",
   "metadata": {},
   "outputs": [],
   "source": [
    "close(nodesf)"
   ]
  },
  {
   "cell_type": "code",
   "execution_count": 172,
   "id": "31ef9cb1",
   "metadata": {},
   "outputs": [],
   "source": [
    "edgef = open(\"$(PATH)/juliaGraph/edges_$(city).csv\", \"w\")\n",
    "print(edgef, \"node1,node2,dist\\n\")"
   ]
  },
  {
   "cell_type": "code",
   "execution_count": 173,
   "id": "134a9ff5",
   "metadata": {},
   "outputs": [],
   "source": [
    "inds = Tuple.(findall(!iszero, md.w))\n",
    "for k in inds\n",
    "    if(md.w[k] == 0.0)\n",
    "        continue\n",
    "    end\n",
    "    println(edgef, string(k[1])*\",\"*string(k[2])*\",\"*string(md.w[k]))\n",
    "end"
   ]
  },
  {
   "cell_type": "code",
   "execution_count": 174,
   "id": "6b561833",
   "metadata": {},
   "outputs": [],
   "source": [
    "close(edgef)"
   ]
  },
  {
   "cell_type": "code",
   "execution_count": null,
   "id": "3efa8047",
   "metadata": {},
   "outputs": [],
   "source": []
  },
  {
   "cell_type": "code",
   "execution_count": null,
   "id": "bba13077",
   "metadata": {},
   "outputs": [],
   "source": []
  }
 ],
 "metadata": {
  "kernelspec": {
   "display_name": "Python 3 (ipykernel)",
   "language": "python",
   "name": "python3"
  },
  "language_info": {
   "codemirror_mode": {
    "name": "ipython",
    "version": 3
   },
   "file_extension": ".py",
   "mimetype": "text/x-python",
   "name": "python",
   "nbconvert_exporter": "python",
   "pygments_lexer": "ipython3",
   "version": "3.8.10"
  }
 },
 "nbformat": 4,
 "nbformat_minor": 5
}
