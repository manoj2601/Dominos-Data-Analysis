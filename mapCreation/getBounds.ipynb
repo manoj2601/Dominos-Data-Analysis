{
 "cells": [
  {
   "cell_type": "code",
   "execution_count": 181,
   "id": "c20dbf24",
   "metadata": {},
   "outputs": [],
   "source": [
    "import pandas as pd\n",
    "import datetime\n",
    "import matplotlib.pyplot as plt\n",
    "import glob\n",
    "import numpy as np\n",
    "import os\n",
    "import re"
   ]
  },
  {
   "cell_type": "code",
   "execution_count": 196,
   "id": "33504b12",
   "metadata": {},
   "outputs": [],
   "source": [
    "city = 'Bhopal'"
   ]
  },
  {
   "cell_type": "code",
   "execution_count": 197,
   "id": "70fb969d",
   "metadata": {},
   "outputs": [],
   "source": [
    "PATH = f'/media/root/data/analysis/data/Order_wise_data/{city}/'"
   ]
  },
  {
   "cell_type": "code",
   "execution_count": 198,
   "id": "08c67340",
   "metadata": {},
   "outputs": [],
   "source": [
    "files = [f for f in os.listdir(PATH) if re.match(f'{city}_((July)|(Dec))\\.csv', f)]"
   ]
  },
  {
   "cell_type": "code",
   "execution_count": 199,
   "id": "7e393503",
   "metadata": {},
   "outputs": [
    {
     "data": {
      "text/plain": [
       "['Bhopal_Dec.csv', 'Bhopal_July.csv']"
      ]
     },
     "execution_count": 199,
     "metadata": {},
     "output_type": "execute_result"
    }
   ],
   "source": [
    "files"
   ]
  },
  {
   "cell_type": "code",
   "execution_count": 200,
   "id": "1ce6510e",
   "metadata": {},
   "outputs": [],
   "source": [
    "dfs = []\n",
    "for i in range(1, len(files)):\n",
    "    dfs.append(pd.read_csv(os.path.join(PATH, files[i])))"
   ]
  },
  {
   "cell_type": "code",
   "execution_count": 201,
   "id": "380ed1f5",
   "metadata": {},
   "outputs": [],
   "source": [
    "mini_lat = 4321.0\n",
    "mini_long = 4321.0\n",
    "max_lat = 0.0\n",
    "max_long = 0.0"
   ]
  },
  {
   "cell_type": "code",
   "execution_count": 202,
   "id": "ff42a0ac",
   "metadata": {},
   "outputs": [],
   "source": [
    "for df in dfs:\n",
    "    for index, order in df.iterrows():\n",
    "        lat = order['Delivery_lat']\n",
    "        long = order['Delivery_lng']\n",
    "        mini_lat = min(mini_lat, lat)\n",
    "        mini_long = min(mini_long, long)\n",
    "        max_lat = max(max_lat, lat)\n",
    "        max_long = max(max_long, long)\n",
    "        \n",
    "        lat = order['Store_lat']\n",
    "        long = order['Store_lng']\n",
    "        mini_lat = min(mini_lat, lat)\n",
    "        mini_long = min(mini_long, long)\n",
    "        max_lat = max(max_lat, lat)\n",
    "        max_long = max(max_long, long)\n",
    "        "
   ]
  },
  {
   "cell_type": "code",
   "execution_count": 203,
   "id": "faabdf00",
   "metadata": {},
   "outputs": [
    {
     "data": {
      "text/plain": [
       "(23.1383117, 77.313596, 24.2454582, 78.4533734)"
      ]
     },
     "execution_count": 203,
     "metadata": {},
     "output_type": "execute_result"
    }
   ],
   "source": [
    "mini_lat, mini_long, max_lat, max_long"
   ]
  },
  {
   "cell_type": "code",
   "execution_count": 204,
   "id": "3d9d6fa4",
   "metadata": {},
   "outputs": [],
   "source": [
    "link = f\"https://overpass-api.de/api/map?bbox={mini_long},{mini_lat},{max_long},{max_lat}\""
   ]
  },
  {
   "cell_type": "code",
   "execution_count": 205,
   "id": "5b6449fe",
   "metadata": {},
   "outputs": [
    {
     "data": {
      "text/plain": [
       "'https://overpass-api.de/api/map?bbox=77.313596,23.1383117,78.4533734,24.2454582'"
      ]
     },
     "execution_count": 205,
     "metadata": {},
     "output_type": "execute_result"
    }
   ],
   "source": [
    "link"
   ]
  },
  {
   "cell_type": "code",
   "execution_count": 206,
   "id": "70c4a237",
   "metadata": {},
   "outputs": [],
   "source": [
    "saveLocation = f'map_{city}.osm'"
   ]
  },
  {
   "cell_type": "code",
   "execution_count": 207,
   "id": "f5c40e25",
   "metadata": {},
   "outputs": [
    {
     "name": "stdout",
     "output_type": "stream",
     "text": [
      "map_Bhopal.osm\n"
     ]
    },
    {
     "data": {
      "text/plain": [
       "'https://overpass-api.de/api/map?bbox=77.313596,23.1383117,78.4533734,24.2454582'"
      ]
     },
     "execution_count": 207,
     "metadata": {},
     "output_type": "execute_result"
    }
   ],
   "source": [
    "print(saveLocation)\n",
    "link"
   ]
  },
  {
   "cell_type": "code",
   "execution_count": 208,
   "id": "7a9aa1a1",
   "metadata": {},
   "outputs": [],
   "source": [
    "cmd = \"sudo wget -O \"+saveLocation+\" \\\"\"+link+\"\\\"\""
   ]
  },
  {
   "cell_type": "code",
   "execution_count": 209,
   "id": "a49ac320",
   "metadata": {
    "scrolled": false
   },
   "outputs": [
    {
     "data": {
      "text/plain": [
       "'sudo wget -O map_Bhopal.osm \"https://overpass-api.de/api/map?bbox=77.313596,23.1383117,78.4533734,24.2454582\"'"
      ]
     },
     "execution_count": 209,
     "metadata": {},
     "output_type": "execute_result"
    }
   ],
   "source": [
    "cmd"
   ]
  },
  {
   "cell_type": "code",
   "execution_count": null,
   "id": "495b6458",
   "metadata": {},
   "outputs": [],
   "source": []
  },
  {
   "cell_type": "code",
   "execution_count": null,
   "id": "82d4f22f",
   "metadata": {},
   "outputs": [],
   "source": []
  }
 ],
 "metadata": {
  "kernelspec": {
   "display_name": "Python 3 (ipykernel)",
   "language": "python",
   "name": "python3"
  },
  "language_info": {
   "codemirror_mode": {
    "name": "ipython",
    "version": 3
   },
   "file_extension": ".py",
   "mimetype": "text/x-python",
   "name": "python",
   "nbconvert_exporter": "python",
   "pygments_lexer": "ipython3",
   "version": "3.8.10"
  }
 },
 "nbformat": 4,
 "nbformat_minor": 5
}
