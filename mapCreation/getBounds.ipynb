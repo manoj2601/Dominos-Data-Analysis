{
 "cells": [
  {
   "cell_type": "code",
   "execution_count": 1,
   "id": "c20dbf24",
   "metadata": {
    "ExecuteTime": {
     "end_time": "2022-11-10T20:02:53.096247Z",
     "start_time": "2022-11-10T20:02:50.377766Z"
    }
   },
   "outputs": [],
   "source": [
    "import pandas as pd\n",
    "import datetime\n",
    "import matplotlib.pyplot as plt\n",
    "import glob\n",
    "import numpy as np\n",
    "import os\n",
    "import re"
   ]
  },
  {
   "cell_type": "code",
   "execution_count": 2,
   "id": "33504b12",
   "metadata": {
    "ExecuteTime": {
     "end_time": "2022-11-10T20:02:53.120326Z",
     "start_time": "2022-11-10T20:02:53.112356Z"
    }
   },
   "outputs": [],
   "source": [
    "city = 'Mumbai'"
   ]
  },
  {
   "cell_type": "code",
   "execution_count": 3,
   "id": "70fb969d",
   "metadata": {
    "ExecuteTime": {
     "end_time": "2022-11-10T20:02:53.132707Z",
     "start_time": "2022-11-10T20:02:53.125100Z"
    }
   },
   "outputs": [],
   "source": [
    "PATH = f'/media/root/data/analysis/data/Order_wise_data/{city}/'"
   ]
  },
  {
   "cell_type": "code",
   "execution_count": 4,
   "id": "08c67340",
   "metadata": {
    "ExecuteTime": {
     "end_time": "2022-11-10T20:02:54.193811Z",
     "start_time": "2022-11-10T20:02:54.163240Z"
    }
   },
   "outputs": [
    {
     "data": {
      "text/plain": [
       "['Mumbai_Dec.csv', 'Mumbai_July.csv']"
      ]
     },
     "execution_count": 4,
     "metadata": {},
     "output_type": "execute_result"
    }
   ],
   "source": [
    "files = [f for f in os.listdir(PATH) if re.match(f'{city}_((July)|(Dec))\\.csv', f)]\n",
    "files"
   ]
  },
  {
   "cell_type": "code",
   "execution_count": 5,
   "id": "1ce6510e",
   "metadata": {
    "ExecuteTime": {
     "end_time": "2022-11-10T20:03:01.902134Z",
     "start_time": "2022-11-10T20:02:55.512672Z"
    }
   },
   "outputs": [],
   "source": [
    "dfs = []\n",
    "for i in range(0, len(files)):\n",
    "    df = pd.read_csv(os.path.join(PATH, files[i]))\n",
    "    if city == 'Mumbai':\n",
    "        df = df[pd.notna(df['Delivery_lat']) & (df['Delivery_lat']>18) & (df['Delivery_lat']<21) & (df['Delivery_lng']<75)]\n",
    "    dfs.append(df)"
   ]
  },
  {
   "cell_type": "code",
   "execution_count": 6,
   "id": "380ed1f5",
   "metadata": {
    "ExecuteTime": {
     "end_time": "2022-11-10T20:03:01.912498Z",
     "start_time": "2022-11-10T20:03:01.907527Z"
    }
   },
   "outputs": [],
   "source": [
    "mini_lat = 4321.0\n",
    "mini_long = 4321.0\n",
    "max_lat = 0.0\n",
    "max_long = 0.0"
   ]
  },
  {
   "cell_type": "code",
   "execution_count": 10,
   "id": "7decf737",
   "metadata": {
    "ExecuteTime": {
     "end_time": "2022-11-10T20:11:40.917502Z",
     "start_time": "2022-11-10T20:11:39.978827Z"
    }
   },
   "outputs": [
    {
     "data": {
      "text/html": [
       "<div>\n",
       "<style scoped>\n",
       "    .dataframe tbody tr th:only-of-type {\n",
       "        vertical-align: middle;\n",
       "    }\n",
       "\n",
       "    .dataframe tbody tr th {\n",
       "        vertical-align: top;\n",
       "    }\n",
       "\n",
       "    .dataframe thead th {\n",
       "        text-align: right;\n",
       "    }\n",
       "</style>\n",
       "<table border=\"1\" class=\"dataframe\">\n",
       "  <thead>\n",
       "    <tr style=\"text-align: right;\">\n",
       "      <th></th>\n",
       "      <th>Delivery_lng</th>\n",
       "      <th>Delivery_lat</th>\n",
       "      <th>Completion_status</th>\n",
       "      <th>Time</th>\n",
       "    </tr>\n",
       "  </thead>\n",
       "  <tbody>\n",
       "    <tr>\n",
       "      <th>0</th>\n",
       "      <td>72.513674</td>\n",
       "      <td>19.818956</td>\n",
       "      <td>Completed</td>\n",
       "      <td>1</td>\n",
       "    </tr>\n",
       "    <tr>\n",
       "      <th>1</th>\n",
       "      <td>72.791349</td>\n",
       "      <td>18.948526</td>\n",
       "      <td>Completed</td>\n",
       "      <td>1</td>\n",
       "    </tr>\n",
       "    <tr>\n",
       "      <th>2</th>\n",
       "      <td>72.791698</td>\n",
       "      <td>18.924400</td>\n",
       "      <td>Completed</td>\n",
       "      <td>1</td>\n",
       "    </tr>\n",
       "    <tr>\n",
       "      <th>3</th>\n",
       "      <td>72.792017</td>\n",
       "      <td>19.144605</td>\n",
       "      <td>Completed</td>\n",
       "      <td>1</td>\n",
       "    </tr>\n",
       "    <tr>\n",
       "      <th>4</th>\n",
       "      <td>72.792110</td>\n",
       "      <td>18.949687</td>\n",
       "      <td>Completed</td>\n",
       "      <td>1</td>\n",
       "    </tr>\n",
       "    <tr>\n",
       "      <th>...</th>\n",
       "      <td>...</td>\n",
       "      <td>...</td>\n",
       "      <td>...</td>\n",
       "      <td>...</td>\n",
       "    </tr>\n",
       "    <tr>\n",
       "      <th>411131</th>\n",
       "      <td>73.203964</td>\n",
       "      <td>19.196038</td>\n",
       "      <td>Completed</td>\n",
       "      <td>1</td>\n",
       "    </tr>\n",
       "    <tr>\n",
       "      <th>411132</th>\n",
       "      <td>73.204058</td>\n",
       "      <td>19.195969</td>\n",
       "      <td>Completed</td>\n",
       "      <td>1</td>\n",
       "    </tr>\n",
       "    <tr>\n",
       "      <th>411133</th>\n",
       "      <td>73.219500</td>\n",
       "      <td>20.109824</td>\n",
       "      <td>Completed</td>\n",
       "      <td>1</td>\n",
       "    </tr>\n",
       "    <tr>\n",
       "      <th>411134</th>\n",
       "      <td>73.302817</td>\n",
       "      <td>19.071286</td>\n",
       "      <td>Completed</td>\n",
       "      <td>1</td>\n",
       "    </tr>\n",
       "    <tr>\n",
       "      <th>411135</th>\n",
       "      <td>73.462812</td>\n",
       "      <td>19.632942</td>\n",
       "      <td>Completed</td>\n",
       "      <td>1</td>\n",
       "    </tr>\n",
       "  </tbody>\n",
       "</table>\n",
       "<p>411136 rows × 4 columns</p>\n",
       "</div>"
      ],
      "text/plain": [
       "        Delivery_lng  Delivery_lat Completion_status  Time\n",
       "0          72.513674     19.818956         Completed     1\n",
       "1          72.791349     18.948526         Completed     1\n",
       "2          72.791698     18.924400         Completed     1\n",
       "3          72.792017     19.144605         Completed     1\n",
       "4          72.792110     18.949687         Completed     1\n",
       "...              ...           ...               ...   ...\n",
       "411131     73.203964     19.196038         Completed     1\n",
       "411132     73.204058     19.195969         Completed     1\n",
       "411133     73.219500     20.109824         Completed     1\n",
       "411134     73.302817     19.071286         Completed     1\n",
       "411135     73.462812     19.632942         Completed     1\n",
       "\n",
       "[411136 rows x 4 columns]"
      ]
     },
     "execution_count": 10,
     "metadata": {},
     "output_type": "execute_result"
    }
   ],
   "source": [
    "# l = list(dfs[1].Delivery_lat.unique())\n",
    "# l.sort()\n",
    "# l\n",
    "df = dfs[1].groupby([\"Delivery_lng\", \"Delivery_lat\", 'Completion_status']).size().reset_index(name=\"Time\")\n",
    "df"
   ]
  },
  {
   "cell_type": "code",
   "execution_count": 8,
   "id": "107ccfc6",
   "metadata": {
    "ExecuteTime": {
     "end_time": "2022-11-10T20:03:08.354944Z",
     "start_time": "2022-11-10T20:03:08.040891Z"
    }
   },
   "outputs": [
    {
     "data": {
      "text/html": [
       "<div>\n",
       "<style scoped>\n",
       "    .dataframe tbody tr th:only-of-type {\n",
       "        vertical-align: middle;\n",
       "    }\n",
       "\n",
       "    .dataframe tbody tr th {\n",
       "        vertical-align: top;\n",
       "    }\n",
       "\n",
       "    .dataframe thead th {\n",
       "        text-align: right;\n",
       "    }\n",
       "</style>\n",
       "<table border=\"1\" class=\"dataframe\">\n",
       "  <thead>\n",
       "    <tr style=\"text-align: right;\">\n",
       "      <th></th>\n",
       "      <th>Delivery_lat</th>\n",
       "      <th>Delivery_lng</th>\n",
       "      <th>Time</th>\n",
       "    </tr>\n",
       "  </thead>\n",
       "  <tbody>\n",
       "    <tr>\n",
       "      <th>0</th>\n",
       "      <td>18.895291</td>\n",
       "      <td>72.809635</td>\n",
       "      <td>2</td>\n",
       "    </tr>\n",
       "    <tr>\n",
       "      <th>1</th>\n",
       "      <td>18.895386</td>\n",
       "      <td>72.810387</td>\n",
       "      <td>1</td>\n",
       "    </tr>\n",
       "    <tr>\n",
       "      <th>2</th>\n",
       "      <td>18.895390</td>\n",
       "      <td>72.810399</td>\n",
       "      <td>1</td>\n",
       "    </tr>\n",
       "    <tr>\n",
       "      <th>3</th>\n",
       "      <td>18.895400</td>\n",
       "      <td>72.810386</td>\n",
       "      <td>1</td>\n",
       "    </tr>\n",
       "    <tr>\n",
       "      <th>4</th>\n",
       "      <td>18.895459</td>\n",
       "      <td>72.809895</td>\n",
       "      <td>1</td>\n",
       "    </tr>\n",
       "    <tr>\n",
       "      <th>...</th>\n",
       "      <td>...</td>\n",
       "      <td>...</td>\n",
       "      <td>...</td>\n",
       "    </tr>\n",
       "    <tr>\n",
       "      <th>189325</th>\n",
       "      <td>19.279965</td>\n",
       "      <td>72.876341</td>\n",
       "      <td>1</td>\n",
       "    </tr>\n",
       "    <tr>\n",
       "      <th>189326</th>\n",
       "      <td>19.279996</td>\n",
       "      <td>72.876143</td>\n",
       "      <td>1</td>\n",
       "    </tr>\n",
       "    <tr>\n",
       "      <th>189327</th>\n",
       "      <td>19.280008</td>\n",
       "      <td>72.876416</td>\n",
       "      <td>1</td>\n",
       "    </tr>\n",
       "    <tr>\n",
       "      <th>189328</th>\n",
       "      <td>19.280009</td>\n",
       "      <td>72.876519</td>\n",
       "      <td>1</td>\n",
       "    </tr>\n",
       "    <tr>\n",
       "      <th>189329</th>\n",
       "      <td>19.280068</td>\n",
       "      <td>72.876640</td>\n",
       "      <td>1</td>\n",
       "    </tr>\n",
       "  </tbody>\n",
       "</table>\n",
       "<p>189330 rows × 3 columns</p>\n",
       "</div>"
      ],
      "text/plain": [
       "        Delivery_lat  Delivery_lng  Time\n",
       "0          18.895291     72.809635     2\n",
       "1          18.895386     72.810387     1\n",
       "2          18.895390     72.810399     1\n",
       "3          18.895400     72.810386     1\n",
       "4          18.895459     72.809895     1\n",
       "...              ...           ...   ...\n",
       "189325     19.279965     72.876341     1\n",
       "189326     19.279996     72.876143     1\n",
       "189327     19.280008     72.876416     1\n",
       "189328     19.280009     72.876519     1\n",
       "189329     19.280068     72.876640     1\n",
       "\n",
       "[189330 rows x 3 columns]"
      ]
     },
     "execution_count": 8,
     "metadata": {},
     "output_type": "execute_result"
    }
   ],
   "source": [
    "dfs[0].groupby([\"Delivery_lat\", \"Delivery_lng\"]).size().reset_index(name=\"Time\")"
   ]
  },
  {
   "cell_type": "code",
   "execution_count": 17,
   "id": "7d516524",
   "metadata": {
    "ExecuteTime": {
     "end_time": "2022-11-10T19:56:38.218232Z",
     "start_time": "2022-11-10T19:56:35.017264Z"
    },
    "scrolled": false
   },
   "outputs": [
    {
     "name": "stdout",
     "output_type": "stream",
     "text": [
      "\n",
      "[18.91811, 72.80977, 18.8952909, 72.792]\n"
     ]
    },
    {
     "name": "stderr",
     "output_type": "stream",
     "text": [
      "/tmp/ipykernel_244182/841052027.py:5: FutureWarning: Dropping of nuisance columns in DataFrame reductions (with 'numeric_only=None') is deprecated; in a future version this will raise TypeError.  Select only valid columns before calling the reduction.\n",
      "  print(list(df2.min())[5:9])\n"
     ]
    },
    {
     "name": "stdout",
     "output_type": "stream",
     "text": [
      "[18.91811, 72.80977, 18.8963353, 72.5136744]\n",
      "\n",
      "\n",
      "[19.267684, 73.1865, 19.28006839, 73.20492949]\n",
      "[19.267684, 73.1865, 20.109824, 73.462812]\n"
     ]
    },
    {
     "name": "stderr",
     "output_type": "stream",
     "text": [
      "/tmp/ipykernel_244182/841052027.py:10: FutureWarning: Dropping of nuisance columns in DataFrame reductions (with 'numeric_only=None') is deprecated; in a future version this will raise TypeError.  Select only valid columns before calling the reduction.\n",
      "  print(list(df2.max())[5:9])\n"
     ]
    }
   ],
   "source": [
    "a = 0\n",
    "print()\n",
    "for df in dfs:\n",
    "    df2 = df[pd.notna(df['Delivery_lat']) & (df['Delivery_lat']>18) & (df['Delivery_lat']<21) & (df['Delivery_lng']<75)]\n",
    "    print(list(df2.min())[5:9])\n",
    "print()\n",
    "print()\n",
    "for df in dfs:\n",
    "    df2 = df[pd.notna(df['Delivery_lat']) & (df['Delivery_lat']>18) & (df['Delivery_lat']<21) & (df['Delivery_lng']<75)]\n",
    "    print(list(df2.max())[5:9])\n"
   ]
  },
  {
   "cell_type": "code",
   "execution_count": null,
   "id": "68dc734e",
   "metadata": {},
   "outputs": [],
   "source": [
    "mini_lat, mini_long, max_lat, max_long = 18.8952909, 72.5136744, 20.109824, 73.462812"
   ]
  },
  {
   "cell_type": "code",
   "execution_count": 15,
   "id": "a1daafae",
   "metadata": {
    "ExecuteTime": {
     "end_time": "2022-11-10T18:12:44.438732Z",
     "start_time": "2022-11-10T18:12:44.429819Z"
    }
   },
   "outputs": [],
   "source": [
    "#Delhi\n",
    "mini_lat, mini_long, max_lat, max_long = 28.119624, 76.878243, 28.752734, 77.565681"
   ]
  },
  {
   "cell_type": "code",
   "execution_count": 40,
   "id": "faabdf00",
   "metadata": {
    "ExecuteTime": {
     "end_time": "2022-11-03T09:39:09.610873Z",
     "start_time": "2022-11-03T09:39:09.603844Z"
    }
   },
   "outputs": [
    {
     "data": {
      "text/plain": [
       "(16.789445, 42.687846)"
      ]
     },
     "execution_count": 40,
     "metadata": {},
     "output_type": "execute_result"
    }
   ],
   "source": [
    "mini_lat, mini_long = 16.789445, 42.687846\n",
    "mini_lat, mini_long"
   ]
  },
  {
   "cell_type": "code",
   "execution_count": 41,
   "id": "b3a551ea",
   "metadata": {
    "ExecuteTime": {
     "end_time": "2022-11-03T09:39:10.641597Z",
     "start_time": "2022-11-03T09:39:10.633309Z"
    }
   },
   "outputs": [
    {
     "data": {
      "text/plain": [
       "(19.280068, 77.22981)"
      ]
     },
     "execution_count": 41,
     "metadata": {},
     "output_type": "execute_result"
    }
   ],
   "source": [
    "max_lat, max_long = 19.280068, 77.22981\n",
    "max_lat, max_long"
   ]
  },
  {
   "cell_type": "code",
   "execution_count": 42,
   "id": "3d9d6fa4",
   "metadata": {
    "ExecuteTime": {
     "end_time": "2022-11-03T09:39:11.911295Z",
     "start_time": "2022-11-03T09:39:11.906495Z"
    }
   },
   "outputs": [],
   "source": [
    "link = f\"https://overpass-api.de/api/map?bbox={mini_long},{mini_lat},{max_long},{max_lat}\""
   ]
  },
  {
   "cell_type": "code",
   "execution_count": 43,
   "id": "5b6449fe",
   "metadata": {
    "ExecuteTime": {
     "end_time": "2022-11-03T09:39:12.631864Z",
     "start_time": "2022-11-03T09:39:12.623795Z"
    }
   },
   "outputs": [
    {
     "data": {
      "text/plain": [
       "'https://overpass-api.de/api/map?bbox=42.687846,16.789445,77.22981,19.280068'"
      ]
     },
     "execution_count": 43,
     "metadata": {},
     "output_type": "execute_result"
    }
   ],
   "source": [
    "link"
   ]
  },
  {
   "cell_type": "code",
   "execution_count": 44,
   "id": "d4c3f97d",
   "metadata": {
    "ExecuteTime": {
     "end_time": "2022-11-03T09:39:14.081763Z",
     "start_time": "2022-11-03T09:39:14.077177Z"
    }
   },
   "outputs": [],
   "source": [
    "bbox = f\"{mini_long},{mini_lat},{max_long},{max_lat}\""
   ]
  },
  {
   "cell_type": "code",
   "execution_count": 45,
   "id": "d360341e",
   "metadata": {
    "ExecuteTime": {
     "end_time": "2022-11-03T09:39:16.378072Z",
     "start_time": "2022-11-03T09:39:16.371757Z"
    }
   },
   "outputs": [],
   "source": [
    "link = \"http://overpass-api.de/api/interpreter?data=[timeout:86400][maxsize:1073741824];(node(\" + bbox + \");<;);out meta;\""
   ]
  },
  {
   "cell_type": "code",
   "execution_count": 46,
   "id": "73ed83eb",
   "metadata": {
    "ExecuteTime": {
     "end_time": "2022-11-03T09:39:16.965151Z",
     "start_time": "2022-11-03T09:39:16.959865Z"
    }
   },
   "outputs": [],
   "source": [
    "saveLocation = f'/media/root/data/analysis/map/OSMFiles/map_{city}.osm'"
   ]
  },
  {
   "cell_type": "code",
   "execution_count": 47,
   "id": "f5c40e25",
   "metadata": {
    "ExecuteTime": {
     "end_time": "2022-11-03T09:39:17.865580Z",
     "start_time": "2022-11-03T09:39:17.856135Z"
    }
   },
   "outputs": [
    {
     "name": "stdout",
     "output_type": "stream",
     "text": [
      "/media/root/data/analysis/map/OSMFiles/map_Mumbai.osm\n"
     ]
    },
    {
     "data": {
      "text/plain": [
       "'http://overpass-api.de/api/interpreter?data=[timeout:86400][maxsize:1073741824];(node(42.687846,16.789445,77.22981,19.280068);<;);out meta;'"
      ]
     },
     "execution_count": 47,
     "metadata": {},
     "output_type": "execute_result"
    }
   ],
   "source": [
    "print(saveLocation)\n",
    "link"
   ]
  },
  {
   "cell_type": "code",
   "execution_count": 29,
   "id": "7a9aa1a1",
   "metadata": {
    "ExecuteTime": {
     "end_time": "2022-11-03T09:26:12.241357Z",
     "start_time": "2022-11-03T09:26:12.235472Z"
    }
   },
   "outputs": [],
   "source": [
    "cmd = \"sudo wget -O \"+saveLocation+\" \\\"\"+link+\"\\\"\""
   ]
  },
  {
   "cell_type": "code",
   "execution_count": 30,
   "id": "a49ac320",
   "metadata": {
    "ExecuteTime": {
     "end_time": "2022-11-03T09:26:12.927266Z",
     "start_time": "2022-11-03T09:26:12.919681Z"
    },
    "scrolled": false
   },
   "outputs": [
    {
     "data": {
      "text/plain": [
       "'sudo wget -O /media/root/data/analysis/map/OSMFiles/map_Delhi.osm \"http://overpass-api.de/api/interpreter?data=[timeout:86400][maxsize:1073741824];(node(76.878243,28.119624,77.565681,28.752734);<;);out meta;\"'"
      ]
     },
     "execution_count": 30,
     "metadata": {},
     "output_type": "execute_result"
    }
   ],
   "source": [
    "cmd"
   ]
  },
  {
   "cell_type": "markdown",
   "id": "40a37a33",
   "metadata": {},
   "source": [
    "##### Delhi wget -O ./map_bpl.xml \"http://overpass-api.de/api/interpreter?data=[out:xml][timeout:86400][maxsize:1073741824];(node(22.9612675,77.3164983,23.4053184,78.8065779);<;);out meta;\""
   ]
  },
  {
   "cell_type": "code",
   "execution_count": null,
   "id": "34887962",
   "metadata": {},
   "outputs": [],
   "source": []
  },
  {
   "cell_type": "code",
   "execution_count": 63,
   "id": "e639ed1d",
   "metadata": {
    "ExecuteTime": {
     "end_time": "2022-11-03T10:21:52.650784Z",
     "start_time": "2022-11-03T10:21:52.252065Z"
    },
    "collapsed": true
   },
   "outputs": [
    {
     "data": {
      "image/png": "[encoded data removed]",
      "text/plain": [
       "<Figure size 432x288 with 1 Axes>"
      ]
     },
     "metadata": {
      "needs_background": "light"
     },
     "output_type": "display_data"
    }
   ],
   "source": [
    "# df12 =  df1.groupby(\"Order_date\").size().reset_index(name=\"Time\")\n",
    "X, y = [], []\n",
    "for id,x in df12.iterrows():\n",
    "    X.append(x['Order_date'])\n",
    "    y.append(x['Time'])\n",
    "#     print(x['Order_date'], x['Time'])\n",
    "plt.bar(X, y)\n",
    "plt.xticks(X, rotation='vertical')\n",
    "# plt.autofmt_xdate\n",
    "plt.xlabel(\"Date\")\n",
    "plt.ylabel(\"No. of orders\")\n",
    "plt.title(\"Mumbai\")\n",
    "plt.show()"
   ]
  },
  {
   "cell_type": "code",
   "execution_count": 48,
   "id": "544f906b",
   "metadata": {
    "ExecuteTime": {
     "end_time": "2022-11-03T10:03:51.179971Z",
     "start_time": "2022-11-03T10:03:51.120199Z"
    },
    "collapsed": true
   },
   "outputs": [
    {
     "data": {
      "text/html": [
       "<div>\n",
       "<style scoped>\n",
       "    .dataframe tbody tr th:only-of-type {\n",
       "        vertical-align: middle;\n",
       "    }\n",
       "\n",
       "    .dataframe tbody tr th {\n",
       "        vertical-align: top;\n",
       "    }\n",
       "\n",
       "    .dataframe thead th {\n",
       "        text-align: right;\n",
       "    }\n",
       "</style>\n",
       "<table border=\"1\" class=\"dataframe\">\n",
       "  <thead>\n",
       "    <tr style=\"text-align: right;\">\n",
       "      <th></th>\n",
       "      <th>Store_id</th>\n",
       "      <th>City_name</th>\n",
       "      <th>Order_date</th>\n",
       "      <th>Order_number</th>\n",
       "      <th>Order_Items</th>\n",
       "      <th>Store_lat</th>\n",
       "      <th>Store_lng</th>\n",
       "      <th>Delivery_lat</th>\n",
       "      <th>Delivery_lng</th>\n",
       "      <th>Completion_status</th>\n",
       "    </tr>\n",
       "  </thead>\n",
       "  <tbody>\n",
       "    <tr>\n",
       "      <th>0</th>\n",
       "      <td>dft80003</td>\n",
       "      <td>Mumbai</td>\n",
       "      <td>2021-12-17</td>\n",
       "      <td>39</td>\n",
       "      <td>{\"order_menu\":[{\"menu_description\":\"SID-Cheesy...</td>\n",
       "      <td>19.15456</td>\n",
       "      <td>72.884480</td>\n",
       "      <td>19.155185</td>\n",
       "      <td>72.886352</td>\n",
       "      <td>Completed</td>\n",
       "    </tr>\n",
       "    <tr>\n",
       "      <th>1</th>\n",
       "      <td>dft80003</td>\n",
       "      <td>Mumbai</td>\n",
       "      <td>2021-12-17</td>\n",
       "      <td>33</td>\n",
       "      <td>{\"order_menu\":[{\"menu_description\":\"PEPSI\",\"qu...</td>\n",
       "      <td>19.15456</td>\n",
       "      <td>72.884480</td>\n",
       "      <td>19.153979</td>\n",
       "      <td>72.885503</td>\n",
       "      <td>Completed</td>\n",
       "    </tr>\n",
       "    <tr>\n",
       "      <th>2</th>\n",
       "      <td>dft80003</td>\n",
       "      <td>Mumbai</td>\n",
       "      <td>2021-12-17</td>\n",
       "      <td>28</td>\n",
       "      <td>{\"order_menu\":[{\"menu_description\":\"PEPSI\",\"qu...</td>\n",
       "      <td>19.15456</td>\n",
       "      <td>72.884480</td>\n",
       "      <td>19.153826</td>\n",
       "      <td>72.884459</td>\n",
       "      <td>Completed</td>\n",
       "    </tr>\n",
       "    <tr>\n",
       "      <th>3</th>\n",
       "      <td>dft80003</td>\n",
       "      <td>Mumbai</td>\n",
       "      <td>2021-12-17</td>\n",
       "      <td>26</td>\n",
       "      <td>{\"order_menu\":[{\"menu_description\":\"SID-Cheesy...</td>\n",
       "      <td>19.15456</td>\n",
       "      <td>72.884480</td>\n",
       "      <td>19.153987</td>\n",
       "      <td>72.885997</td>\n",
       "      <td>Completed</td>\n",
       "    </tr>\n",
       "    <tr>\n",
       "      <th>4</th>\n",
       "      <td>dft80003</td>\n",
       "      <td>Mumbai</td>\n",
       "      <td>2021-12-17</td>\n",
       "      <td>24</td>\n",
       "      <td>{\"order_menu\":[{\"menu_description\":\"_SV-Marghe...</td>\n",
       "      <td>19.15456</td>\n",
       "      <td>72.884480</td>\n",
       "      <td>19.155245</td>\n",
       "      <td>72.884723</td>\n",
       "      <td>Completed</td>\n",
       "    </tr>\n",
       "    <tr>\n",
       "      <th>...</th>\n",
       "      <td>...</td>\n",
       "      <td>...</td>\n",
       "      <td>...</td>\n",
       "      <td>...</td>\n",
       "      <td>...</td>\n",
       "      <td>...</td>\n",
       "      <td>...</td>\n",
       "      <td>...</td>\n",
       "      <td>...</td>\n",
       "      <td>...</td>\n",
       "    </tr>\n",
       "    <tr>\n",
       "      <th>236025</th>\n",
       "      <td>dpi67035</td>\n",
       "      <td>Mumbai</td>\n",
       "      <td>2021-12-31</td>\n",
       "      <td>722</td>\n",
       "      <td>{\"order_menu\":[{\"menu_description\":\"Pepper Bar...</td>\n",
       "      <td>18.97972</td>\n",
       "      <td>73.116479</td>\n",
       "      <td>18.972895</td>\n",
       "      <td>73.109287</td>\n",
       "      <td>Completed</td>\n",
       "    </tr>\n",
       "    <tr>\n",
       "      <th>236026</th>\n",
       "      <td>dpi67035</td>\n",
       "      <td>Mumbai</td>\n",
       "      <td>2021-12-31</td>\n",
       "      <td>723</td>\n",
       "      <td>{\"order_menu\":[{\"menu_description\":\"Moroccan S...</td>\n",
       "      <td>18.97972</td>\n",
       "      <td>73.116479</td>\n",
       "      <td>18.980442</td>\n",
       "      <td>73.118001</td>\n",
       "      <td>Completed</td>\n",
       "    </tr>\n",
       "    <tr>\n",
       "      <th>236027</th>\n",
       "      <td>dpi67035</td>\n",
       "      <td>Mumbai</td>\n",
       "      <td>2021-12-31</td>\n",
       "      <td>732</td>\n",
       "      <td>{\"order_menu\":[{\"menu_description\":\"SID-Cheesy...</td>\n",
       "      <td>18.97972</td>\n",
       "      <td>73.116479</td>\n",
       "      <td>18.991567</td>\n",
       "      <td>73.113834</td>\n",
       "      <td>Partially Completed</td>\n",
       "    </tr>\n",
       "    <tr>\n",
       "      <th>236028</th>\n",
       "      <td>dpi67035</td>\n",
       "      <td>Mumbai</td>\n",
       "      <td>2021-12-31</td>\n",
       "      <td>733</td>\n",
       "      <td>{\"order_menu\":[{\"menu_description\":\"SID-Cheesy...</td>\n",
       "      <td>18.97972</td>\n",
       "      <td>73.116479</td>\n",
       "      <td>18.981853</td>\n",
       "      <td>73.120748</td>\n",
       "      <td>Completed</td>\n",
       "    </tr>\n",
       "    <tr>\n",
       "      <th>236029</th>\n",
       "      <td>dpi67035</td>\n",
       "      <td>Mumbai</td>\n",
       "      <td>2021-12-31</td>\n",
       "      <td>734</td>\n",
       "      <td>{\"order_menu\":[{\"menu_description\":\"_PIZ55-Piz...</td>\n",
       "      <td>18.97972</td>\n",
       "      <td>73.116479</td>\n",
       "      <td>18.980806</td>\n",
       "      <td>73.119029</td>\n",
       "      <td>Completed</td>\n",
       "    </tr>\n",
       "  </tbody>\n",
       "</table>\n",
       "<p>236030 rows × 10 columns</p>\n",
       "</div>"
      ],
      "text/plain": [
       "        Store_id City_name  Order_date  Order_number  \\\n",
       "0       dft80003    Mumbai  2021-12-17            39   \n",
       "1       dft80003    Mumbai  2021-12-17            33   \n",
       "2       dft80003    Mumbai  2021-12-17            28   \n",
       "3       dft80003    Mumbai  2021-12-17            26   \n",
       "4       dft80003    Mumbai  2021-12-17            24   \n",
       "...          ...       ...         ...           ...   \n",
       "236025  dpi67035    Mumbai  2021-12-31           722   \n",
       "236026  dpi67035    Mumbai  2021-12-31           723   \n",
       "236027  dpi67035    Mumbai  2021-12-31           732   \n",
       "236028  dpi67035    Mumbai  2021-12-31           733   \n",
       "236029  dpi67035    Mumbai  2021-12-31           734   \n",
       "\n",
       "                                              Order_Items  Store_lat  \\\n",
       "0       {\"order_menu\":[{\"menu_description\":\"SID-Cheesy...   19.15456   \n",
       "1       {\"order_menu\":[{\"menu_description\":\"PEPSI\",\"qu...   19.15456   \n",
       "2       {\"order_menu\":[{\"menu_description\":\"PEPSI\",\"qu...   19.15456   \n",
       "3       {\"order_menu\":[{\"menu_description\":\"SID-Cheesy...   19.15456   \n",
       "4       {\"order_menu\":[{\"menu_description\":\"_SV-Marghe...   19.15456   \n",
       "...                                                   ...        ...   \n",
       "236025  {\"order_menu\":[{\"menu_description\":\"Pepper Bar...   18.97972   \n",
       "236026  {\"order_menu\":[{\"menu_description\":\"Moroccan S...   18.97972   \n",
       "236027  {\"order_menu\":[{\"menu_description\":\"SID-Cheesy...   18.97972   \n",
       "236028  {\"order_menu\":[{\"menu_description\":\"SID-Cheesy...   18.97972   \n",
       "236029  {\"order_menu\":[{\"menu_description\":\"_PIZ55-Piz...   18.97972   \n",
       "\n",
       "        Store_lng  Delivery_lat  Delivery_lng    Completion_status  \n",
       "0       72.884480     19.155185     72.886352            Completed  \n",
       "1       72.884480     19.153979     72.885503            Completed  \n",
       "2       72.884480     19.153826     72.884459            Completed  \n",
       "3       72.884480     19.153987     72.885997            Completed  \n",
       "4       72.884480     19.155245     72.884723            Completed  \n",
       "...           ...           ...           ...                  ...  \n",
       "236025  73.116479     18.972895     73.109287            Completed  \n",
       "236026  73.116479     18.980442     73.118001            Completed  \n",
       "236027  73.116479     18.991567     73.113834  Partially Completed  \n",
       "236028  73.116479     18.981853     73.120748            Completed  \n",
       "236029  73.116479     18.980806     73.119029            Completed  \n",
       "\n",
       "[236030 rows x 10 columns]"
      ]
     },
     "execution_count": 48,
     "metadata": {},
     "output_type": "execute_result"
    }
   ],
   "source": [
    "df1 = dfs[0]\n",
    "df2 = dfs[1]\n",
    "df1"
   ]
  },
  {
   "cell_type": "code",
   "execution_count": 51,
   "id": "50b4086b",
   "metadata": {
    "ExecuteTime": {
     "end_time": "2022-11-03T10:05:06.564852Z",
     "start_time": "2022-11-03T10:05:06.497821Z"
    },
    "collapsed": true
   },
   "outputs": [
    {
     "data": {
      "text/html": [
       "<div>\n",
       "<style scoped>\n",
       "    .dataframe tbody tr th:only-of-type {\n",
       "        vertical-align: middle;\n",
       "    }\n",
       "\n",
       "    .dataframe tbody tr th {\n",
       "        vertical-align: top;\n",
       "    }\n",
       "\n",
       "    .dataframe thead th {\n",
       "        text-align: right;\n",
       "    }\n",
       "</style>\n",
       "<table border=\"1\" class=\"dataframe\">\n",
       "  <thead>\n",
       "    <tr style=\"text-align: right;\">\n",
       "      <th></th>\n",
       "      <th>Order_date</th>\n",
       "      <th>Time</th>\n",
       "    </tr>\n",
       "  </thead>\n",
       "  <tbody>\n",
       "    <tr>\n",
       "      <th>0</th>\n",
       "      <td>2022-07-01</td>\n",
       "      <td>15608</td>\n",
       "    </tr>\n",
       "    <tr>\n",
       "      <th>1</th>\n",
       "      <td>2022-07-02</td>\n",
       "      <td>18510</td>\n",
       "    </tr>\n",
       "    <tr>\n",
       "      <th>2</th>\n",
       "      <td>2022-07-03</td>\n",
       "      <td>18394</td>\n",
       "    </tr>\n",
       "    <tr>\n",
       "      <th>3</th>\n",
       "      <td>2022-07-04</td>\n",
       "      <td>11877</td>\n",
       "    </tr>\n",
       "    <tr>\n",
       "      <th>4</th>\n",
       "      <td>2022-07-05</td>\n",
       "      <td>13208</td>\n",
       "    </tr>\n",
       "    <tr>\n",
       "      <th>5</th>\n",
       "      <td>2022-07-06</td>\n",
       "      <td>12232</td>\n",
       "    </tr>\n",
       "    <tr>\n",
       "      <th>6</th>\n",
       "      <td>2022-07-07</td>\n",
       "      <td>12511</td>\n",
       "    </tr>\n",
       "    <tr>\n",
       "      <th>7</th>\n",
       "      <td>2022-07-08</td>\n",
       "      <td>13939</td>\n",
       "    </tr>\n",
       "    <tr>\n",
       "      <th>8</th>\n",
       "      <td>2022-07-09</td>\n",
       "      <td>16840</td>\n",
       "    </tr>\n",
       "    <tr>\n",
       "      <th>9</th>\n",
       "      <td>2022-07-10</td>\n",
       "      <td>17930</td>\n",
       "    </tr>\n",
       "    <tr>\n",
       "      <th>10</th>\n",
       "      <td>2022-07-11</td>\n",
       "      <td>12187</td>\n",
       "    </tr>\n",
       "    <tr>\n",
       "      <th>11</th>\n",
       "      <td>2022-07-12</td>\n",
       "      <td>12354</td>\n",
       "    </tr>\n",
       "    <tr>\n",
       "      <th>12</th>\n",
       "      <td>2022-07-13</td>\n",
       "      <td>13242</td>\n",
       "    </tr>\n",
       "    <tr>\n",
       "      <th>13</th>\n",
       "      <td>2022-07-14</td>\n",
       "      <td>13229</td>\n",
       "    </tr>\n",
       "    <tr>\n",
       "      <th>14</th>\n",
       "      <td>2022-07-15</td>\n",
       "      <td>14587</td>\n",
       "    </tr>\n",
       "    <tr>\n",
       "      <th>15</th>\n",
       "      <td>2022-07-16</td>\n",
       "      <td>16969</td>\n",
       "    </tr>\n",
       "    <tr>\n",
       "      <th>16</th>\n",
       "      <td>2022-07-17</td>\n",
       "      <td>17855</td>\n",
       "    </tr>\n",
       "    <tr>\n",
       "      <th>17</th>\n",
       "      <td>2022-07-18</td>\n",
       "      <td>10729</td>\n",
       "    </tr>\n",
       "    <tr>\n",
       "      <th>18</th>\n",
       "      <td>2022-07-19</td>\n",
       "      <td>11236</td>\n",
       "    </tr>\n",
       "    <tr>\n",
       "      <th>19</th>\n",
       "      <td>2022-07-20</td>\n",
       "      <td>11623</td>\n",
       "    </tr>\n",
       "    <tr>\n",
       "      <th>20</th>\n",
       "      <td>2022-07-21</td>\n",
       "      <td>11915</td>\n",
       "    </tr>\n",
       "    <tr>\n",
       "      <th>21</th>\n",
       "      <td>2022-07-22</td>\n",
       "      <td>13996</td>\n",
       "    </tr>\n",
       "    <tr>\n",
       "      <th>22</th>\n",
       "      <td>2022-07-23</td>\n",
       "      <td>17358</td>\n",
       "    </tr>\n",
       "    <tr>\n",
       "      <th>23</th>\n",
       "      <td>2022-07-24</td>\n",
       "      <td>17938</td>\n",
       "    </tr>\n",
       "    <tr>\n",
       "      <th>24</th>\n",
       "      <td>2022-07-25</td>\n",
       "      <td>10831</td>\n",
       "    </tr>\n",
       "    <tr>\n",
       "      <th>25</th>\n",
       "      <td>2022-07-26</td>\n",
       "      <td>11757</td>\n",
       "    </tr>\n",
       "    <tr>\n",
       "      <th>26</th>\n",
       "      <td>2022-07-27</td>\n",
       "      <td>12767</td>\n",
       "    </tr>\n",
       "    <tr>\n",
       "      <th>27</th>\n",
       "      <td>2022-07-28</td>\n",
       "      <td>12803</td>\n",
       "    </tr>\n",
       "    <tr>\n",
       "      <th>28</th>\n",
       "      <td>2022-07-29</td>\n",
       "      <td>15019</td>\n",
       "    </tr>\n",
       "    <tr>\n",
       "      <th>29</th>\n",
       "      <td>2022-07-30</td>\n",
       "      <td>18388</td>\n",
       "    </tr>\n",
       "    <tr>\n",
       "      <th>30</th>\n",
       "      <td>2022-07-31</td>\n",
       "      <td>18935</td>\n",
       "    </tr>\n",
       "  </tbody>\n",
       "</table>\n",
       "</div>"
      ],
      "text/plain": [
       "    Order_date   Time\n",
       "0   2022-07-01  15608\n",
       "1   2022-07-02  18510\n",
       "2   2022-07-03  18394\n",
       "3   2022-07-04  11877\n",
       "4   2022-07-05  13208\n",
       "5   2022-07-06  12232\n",
       "6   2022-07-07  12511\n",
       "7   2022-07-08  13939\n",
       "8   2022-07-09  16840\n",
       "9   2022-07-10  17930\n",
       "10  2022-07-11  12187\n",
       "11  2022-07-12  12354\n",
       "12  2022-07-13  13242\n",
       "13  2022-07-14  13229\n",
       "14  2022-07-15  14587\n",
       "15  2022-07-16  16969\n",
       "16  2022-07-17  17855\n",
       "17  2022-07-18  10729\n",
       "18  2022-07-19  11236\n",
       "19  2022-07-20  11623\n",
       "20  2022-07-21  11915\n",
       "21  2022-07-22  13996\n",
       "22  2022-07-23  17358\n",
       "23  2022-07-24  17938\n",
       "24  2022-07-25  10831\n",
       "25  2022-07-26  11757\n",
       "26  2022-07-27  12767\n",
       "27  2022-07-28  12803\n",
       "28  2022-07-29  15019\n",
       "29  2022-07-30  18388\n",
       "30  2022-07-31  18935"
      ]
     },
     "execution_count": 51,
     "metadata": {},
     "output_type": "execute_result"
    }
   ],
   "source": [
    "# df22 =  df2.groupby(\"Order_date\").size().reset_index(name=\"Time\")\n",
    "df22"
   ]
  },
  {
   "cell_type": "code",
   "execution_count": 69,
   "id": "d4dcec32",
   "metadata": {
    "ExecuteTime": {
     "end_time": "2022-11-03T11:57:36.382486Z",
     "start_time": "2022-11-03T11:57:36.377327Z"
    }
   },
   "outputs": [],
   "source": [
    "df = dfs[1]"
   ]
  },
  {
   "cell_type": "code",
   "execution_count": 70,
   "id": "fbaae82a",
   "metadata": {
    "ExecuteTime": {
     "end_time": "2022-11-03T11:57:42.394985Z",
     "start_time": "2022-11-03T11:57:42.360711Z"
    },
    "collapsed": true
   },
   "outputs": [
    {
     "data": {
      "text/html": [
       "<div>\n",
       "<style scoped>\n",
       "    .dataframe tbody tr th:only-of-type {\n",
       "        vertical-align: middle;\n",
       "    }\n",
       "\n",
       "    .dataframe tbody tr th {\n",
       "        vertical-align: top;\n",
       "    }\n",
       "\n",
       "    .dataframe thead th {\n",
       "        text-align: right;\n",
       "    }\n",
       "</style>\n",
       "<table border=\"1\" class=\"dataframe\">\n",
       "  <thead>\n",
       "    <tr style=\"text-align: right;\">\n",
       "      <th></th>\n",
       "      <th>Store_id</th>\n",
       "      <th>City_name</th>\n",
       "      <th>Order_date</th>\n",
       "      <th>Order_number</th>\n",
       "      <th>Order_Items</th>\n",
       "      <th>Store_lat</th>\n",
       "      <th>Store_lng</th>\n",
       "      <th>Delivery_lat</th>\n",
       "      <th>Delivery_lng</th>\n",
       "      <th>Completion_status</th>\n",
       "    </tr>\n",
       "  </thead>\n",
       "  <tbody>\n",
       "    <tr>\n",
       "      <th>0</th>\n",
       "      <td>DPI66562</td>\n",
       "      <td>Jaipur</td>\n",
       "      <td>2022-07-04</td>\n",
       "      <td>183</td>\n",
       "      <td>[{\"quantity\": 1, \"menu_code\": \"PIZ0201\", \"volu...</td>\n",
       "      <td>26.964173</td>\n",
       "      <td>75.780800</td>\n",
       "      <td>26.969079</td>\n",
       "      <td>75.766885</td>\n",
       "      <td>delivered</td>\n",
       "    </tr>\n",
       "    <tr>\n",
       "      <th>1</th>\n",
       "      <td>DPI65918</td>\n",
       "      <td>Jaipur</td>\n",
       "      <td>2022-07-04</td>\n",
       "      <td>152</td>\n",
       "      <td>[{\"quantity\": 1, \"menu_code\": \"PIZ0201\", \"volu...</td>\n",
       "      <td>26.915651</td>\n",
       "      <td>75.810273</td>\n",
       "      <td>26.908024</td>\n",
       "      <td>75.792935</td>\n",
       "      <td>delivered</td>\n",
       "    </tr>\n",
       "    <tr>\n",
       "      <th>2</th>\n",
       "      <td>DPI63886</td>\n",
       "      <td>Jaipur</td>\n",
       "      <td>2022-07-05</td>\n",
       "      <td>121</td>\n",
       "      <td>[{\"quantity\": 1, \"menu_code\": \"PIZ0119\", \"volu...</td>\n",
       "      <td>26.894069</td>\n",
       "      <td>75.748494</td>\n",
       "      <td>26.884650</td>\n",
       "      <td>75.743545</td>\n",
       "      <td>delivered</td>\n",
       "    </tr>\n",
       "    <tr>\n",
       "      <th>3</th>\n",
       "      <td>DPI66159</td>\n",
       "      <td>Jaipur</td>\n",
       "      <td>2022-07-07</td>\n",
       "      <td>64</td>\n",
       "      <td>[{\"quantity\": 1, \"menu_code\": \"PIZ0162\", \"volu...</td>\n",
       "      <td>26.912792</td>\n",
       "      <td>75.743534</td>\n",
       "      <td>26.924736</td>\n",
       "      <td>75.754542</td>\n",
       "      <td>delivered</td>\n",
       "    </tr>\n",
       "    <tr>\n",
       "      <th>4</th>\n",
       "      <td>DPI67185</td>\n",
       "      <td>Jaipur</td>\n",
       "      <td>2022-07-08</td>\n",
       "      <td>76</td>\n",
       "      <td>[{\"quantity\": 1, \"menu_code\": \"PIZ0191\", \"volu...</td>\n",
       "      <td>26.895394</td>\n",
       "      <td>75.829251</td>\n",
       "      <td>26.904075</td>\n",
       "      <td>75.824101</td>\n",
       "      <td>delivered</td>\n",
       "    </tr>\n",
       "    <tr>\n",
       "      <th>...</th>\n",
       "      <td>...</td>\n",
       "      <td>...</td>\n",
       "      <td>...</td>\n",
       "      <td>...</td>\n",
       "      <td>...</td>\n",
       "      <td>...</td>\n",
       "      <td>...</td>\n",
       "      <td>...</td>\n",
       "      <td>...</td>\n",
       "      <td>...</td>\n",
       "    </tr>\n",
       "    <tr>\n",
       "      <th>63597</th>\n",
       "      <td>DPI66738</td>\n",
       "      <td>Jaipur</td>\n",
       "      <td>2022-07-30</td>\n",
       "      <td>114</td>\n",
       "      <td>[{\"quantity\": 1, \"menu_code\": \"PIZ0194\", \"volu...</td>\n",
       "      <td>26.947720</td>\n",
       "      <td>75.724203</td>\n",
       "      <td>26.961974</td>\n",
       "      <td>75.740495</td>\n",
       "      <td>delivered</td>\n",
       "    </tr>\n",
       "    <tr>\n",
       "      <th>63598</th>\n",
       "      <td>DPI66981</td>\n",
       "      <td>Jaipur</td>\n",
       "      <td>2022-07-29</td>\n",
       "      <td>264</td>\n",
       "      <td>[{\"quantity\": 1, \"menu_code\": \"PIZ0195\", \"volu...</td>\n",
       "      <td>26.890880</td>\n",
       "      <td>75.769141</td>\n",
       "      <td>26.896728</td>\n",
       "      <td>75.777535</td>\n",
       "      <td>delivered</td>\n",
       "    </tr>\n",
       "    <tr>\n",
       "      <th>63599</th>\n",
       "      <td>DPI66159</td>\n",
       "      <td>Jaipur</td>\n",
       "      <td>2022-07-30</td>\n",
       "      <td>17</td>\n",
       "      <td>[{\"quantity\": 1, \"menu_code\": \"PIZ0200\", \"volu...</td>\n",
       "      <td>26.912792</td>\n",
       "      <td>75.743534</td>\n",
       "      <td>26.906017</td>\n",
       "      <td>75.736635</td>\n",
       "      <td>delivered</td>\n",
       "    </tr>\n",
       "    <tr>\n",
       "      <th>63600</th>\n",
       "      <td>DPI66159</td>\n",
       "      <td>Jaipur</td>\n",
       "      <td>2022-07-30</td>\n",
       "      <td>107</td>\n",
       "      <td>[{\"quantity\": 1, \"menu_code\": \"BEV0119\", \"volu...</td>\n",
       "      <td>26.912792</td>\n",
       "      <td>75.743534</td>\n",
       "      <td>26.915112</td>\n",
       "      <td>75.743042</td>\n",
       "      <td>delivered</td>\n",
       "    </tr>\n",
       "    <tr>\n",
       "      <th>63601</th>\n",
       "      <td>DPI63916</td>\n",
       "      <td>Jaipur</td>\n",
       "      <td>2022-07-30</td>\n",
       "      <td>231</td>\n",
       "      <td>[{\"quantity\": 1, \"menu_code\": \"PIZ0191\", \"volu...</td>\n",
       "      <td>26.870490</td>\n",
       "      <td>75.780960</td>\n",
       "      <td>26.858959</td>\n",
       "      <td>75.782809</td>\n",
       "      <td>delivered</td>\n",
       "    </tr>\n",
       "  </tbody>\n",
       "</table>\n",
       "<p>63602 rows × 10 columns</p>\n",
       "</div>"
      ],
      "text/plain": [
       "       Store_id City_name  Order_date  Order_number  \\\n",
       "0      DPI66562    Jaipur  2022-07-04           183   \n",
       "1      DPI65918    Jaipur  2022-07-04           152   \n",
       "2      DPI63886    Jaipur  2022-07-05           121   \n",
       "3      DPI66159    Jaipur  2022-07-07            64   \n",
       "4      DPI67185    Jaipur  2022-07-08            76   \n",
       "...         ...       ...         ...           ...   \n",
       "63597  DPI66738    Jaipur  2022-07-30           114   \n",
       "63598  DPI66981    Jaipur  2022-07-29           264   \n",
       "63599  DPI66159    Jaipur  2022-07-30            17   \n",
       "63600  DPI66159    Jaipur  2022-07-30           107   \n",
       "63601  DPI63916    Jaipur  2022-07-30           231   \n",
       "\n",
       "                                             Order_Items  Store_lat  \\\n",
       "0      [{\"quantity\": 1, \"menu_code\": \"PIZ0201\", \"volu...  26.964173   \n",
       "1      [{\"quantity\": 1, \"menu_code\": \"PIZ0201\", \"volu...  26.915651   \n",
       "2      [{\"quantity\": 1, \"menu_code\": \"PIZ0119\", \"volu...  26.894069   \n",
       "3      [{\"quantity\": 1, \"menu_code\": \"PIZ0162\", \"volu...  26.912792   \n",
       "4      [{\"quantity\": 1, \"menu_code\": \"PIZ0191\", \"volu...  26.895394   \n",
       "...                                                  ...        ...   \n",
       "63597  [{\"quantity\": 1, \"menu_code\": \"PIZ0194\", \"volu...  26.947720   \n",
       "63598  [{\"quantity\": 1, \"menu_code\": \"PIZ0195\", \"volu...  26.890880   \n",
       "63599  [{\"quantity\": 1, \"menu_code\": \"PIZ0200\", \"volu...  26.912792   \n",
       "63600  [{\"quantity\": 1, \"menu_code\": \"BEV0119\", \"volu...  26.912792   \n",
       "63601  [{\"quantity\": 1, \"menu_code\": \"PIZ0191\", \"volu...  26.870490   \n",
       "\n",
       "       Store_lng  Delivery_lat  Delivery_lng Completion_status  \n",
       "0      75.780800     26.969079     75.766885         delivered  \n",
       "1      75.810273     26.908024     75.792935         delivered  \n",
       "2      75.748494     26.884650     75.743545         delivered  \n",
       "3      75.743534     26.924736     75.754542         delivered  \n",
       "4      75.829251     26.904075     75.824101         delivered  \n",
       "...          ...           ...           ...               ...  \n",
       "63597  75.724203     26.961974     75.740495         delivered  \n",
       "63598  75.769141     26.896728     75.777535         delivered  \n",
       "63599  75.743534     26.906017     75.736635         delivered  \n",
       "63600  75.743534     26.915112     75.743042         delivered  \n",
       "63601  75.780960     26.858959     75.782809         delivered  \n",
       "\n",
       "[63602 rows x 10 columns]"
      ]
     },
     "execution_count": 70,
     "metadata": {},
     "output_type": "execute_result"
    }
   ],
   "source": [
    "df"
   ]
  },
  {
   "cell_type": "code",
   "execution_count": 62,
   "id": "113e4890",
   "metadata": {
    "ExecuteTime": {
     "end_time": "2022-11-03T10:21:48.150801Z",
     "start_time": "2022-11-03T10:21:47.497127Z"
    },
    "collapsed": true
   },
   "outputs": [
    {
     "data": {
      "image/png": "[encoded data removed]",
      "text/plain": [
       "<Figure size 432x288 with 1 Axes>"
      ]
     },
     "metadata": {
      "needs_background": "light"
     },
     "output_type": "display_data"
    }
   ],
   "source": [
    "X, y = [], []\n",
    "for id,x in df22.iterrows():\n",
    "    X.append(x['Order_date'])\n",
    "    y.append(x['Time'])\n",
    "#     print(x['Order_date'], x['Time'])\n",
    "plt.bar(X, y)\n",
    "plt.xticks(X, rotation='vertical')\n",
    "# plt.autofmt_xdate\n",
    "plt.xlabel(\"Date\")\n",
    "plt.ylabel(\"No. of orders\")\n",
    "plt.title(\"Mumbai\")\n",
    "plt.show()"
   ]
  },
  {
   "cell_type": "raw",
   "id": "a2c2d31b",
   "metadata": {
    "ExecuteTime": {
     "end_time": "2022-11-03T09:18:39.043233Z",
     "start_time": "2022-11-03T09:16:25.798784Z"
    }
   },
   "source": [
    "for df in dfs:\n",
    "    for index, order in df.iterrows():\n",
    "        lat = order['Delivery_lat']\n",
    "        long = order['Delivery_lng']\n",
    "        mini_lat = min(mini_lat, lat)\n",
    "        mini_long = min(mini_long, long)\n",
    "        max_lat = max(max_lat, lat)\n",
    "        max_long = max(max_long, long)\n",
    "        \n",
    "        lat = order['Store_lat']\n",
    "        long = order['Store_lng']\n",
    "        mini_lat = min(mini_lat, lat)\n",
    "        mini_long = min(mini_long, long)\n",
    "        max_lat = max(max_lat, lat)\n",
    "        max_long = max(max_long, long)\n",
    "#     break\n",
    "        "
   ]
  }
 ],
 "metadata": {
  "kernelspec": {
   "display_name": "Python 3 (ipykernel)",
   "language": "python",
   "name": "python3"
  },
  "language_info": {
   "codemirror_mode": {
    "name": "ipython",
    "version": 3
   },
   "file_extension": ".py",
   "mimetype": "text/x-python",
   "name": "python",
   "nbconvert_exporter": "python",
   "pygments_lexer": "ipython3",
   "version": "3.8.10"
  }
 },
 "nbformat": 4,
 "nbformat_minor": 5
}
