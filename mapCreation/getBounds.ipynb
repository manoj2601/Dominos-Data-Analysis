{
 "cells": [
  {
   "cell_type": "code",
   "execution_count": 45,
   "id": "c20dbf24",
   "metadata": {},
   "outputs": [],
   "source": [
    "import pandas as pd\n",
    "import datetime\n",
    "import matplotlib.pyplot as plt\n",
    "import glob\n",
    "import numpy as np\n",
    "import os\n",
    "import re"
   ]
  },
  {
   "cell_type": "code",
   "execution_count": 46,
   "id": "33504b12",
   "metadata": {},
   "outputs": [],
   "source": [
    "city = 'Bhopal'"
   ]
  },
  {
   "cell_type": "code",
   "execution_count": 47,
   "id": "70fb969d",
   "metadata": {},
   "outputs": [],
   "source": [
    "PATH = f'/media/root/data/analysis/data/Order_wise_data/{city}/'"
   ]
  },
  {
   "cell_type": "code",
   "execution_count": 108,
   "id": "08c67340",
   "metadata": {},
   "outputs": [],
   "source": [
    "files = [f for f in os.listdir(PATH) if re.match(f'{city}_((July)|(Dec))\\.csv', f)]"
   ]
  },
  {
   "cell_type": "code",
   "execution_count": 109,
   "id": "7e393503",
   "metadata": {},
   "outputs": [
    {
     "data": {
      "text/plain": [
       "['Bhopal_Dec.csv', 'Bhopal_July.csv']"
      ]
     },
     "execution_count": 109,
     "metadata": {},
     "output_type": "execute_result"
    }
   ],
   "source": [
    "files"
   ]
  },
  {
   "cell_type": "code",
   "execution_count": 51,
   "id": "1ce6510e",
   "metadata": {},
   "outputs": [],
   "source": [
    "dfs = []\n",
    "for i in range(0, len(files)):\n",
    "    dfs.append(pd.read_excel(os.path.join(PATH, files[i])))"
   ]
  },
  {
   "cell_type": "code",
   "execution_count": 60,
   "id": "380ed1f5",
   "metadata": {},
   "outputs": [],
   "source": [
    "mini_lat = 4321.0\n",
    "mini_long = 4321.0\n",
    "max_lat = 0.0\n",
    "max_long = 0.0"
   ]
  },
  {
   "cell_type": "code",
   "execution_count": 62,
   "id": "ff42a0ac",
   "metadata": {},
   "outputs": [],
   "source": [
    "for df in dfs:\n",
    "    for index, order in df.iterrows():\n",
    "        lat = order['Delivery_lat']\n",
    "        long = order['Delivery_lng']\n",
    "        mini_lat = min(mini_lat, lat)\n",
    "        mini_long = min(mini_long, long)\n",
    "        max_lat = max(max_lat, lat)\n",
    "        max_long = max(max_long, long)\n",
    "        \n",
    "        lat = order['Store_lat']\n",
    "        long = order['Store_lng']\n",
    "        mini_lat = min(mini_lat, lat)\n",
    "        mini_long = min(mini_long, long)\n",
    "        max_lat = max(max_lat, lat)\n",
    "        max_long = max(max_long, long)\n",
    "    break\n",
    "        "
   ]
  },
  {
   "cell_type": "code",
   "execution_count": 63,
   "id": "faabdf00",
   "metadata": {},
   "outputs": [
    {
     "data": {
      "text/plain": [
       "23.1383117"
      ]
     },
     "execution_count": 63,
     "metadata": {},
     "output_type": "execute_result"
    }
   ],
   "source": [
    "mini_lat"
   ]
  },
  {
   "cell_type": "code",
   "execution_count": 64,
   "id": "f27fe611",
   "metadata": {},
   "outputs": [
    {
     "data": {
      "text/plain": [
       "77.313596"
      ]
     },
     "execution_count": 64,
     "metadata": {},
     "output_type": "execute_result"
    }
   ],
   "source": [
    "mini_long"
   ]
  },
  {
   "cell_type": "code",
   "execution_count": 110,
   "id": "3d9d6fa4",
   "metadata": {},
   "outputs": [],
   "source": [
    "link = f\"https://overpass-api.de/api/map?bbox={mini_long},{mini_lat},{max_long},{max_lat}\""
   ]
  },
  {
   "cell_type": "code",
   "execution_count": 111,
   "id": "5b6449fe",
   "metadata": {},
   "outputs": [
    {
     "data": {
      "text/plain": [
       "'https://overpass-api.de/api/map?bbox=77.313596,23.1383117,78.4533734,24.2454582'"
      ]
     },
     "execution_count": 111,
     "metadata": {},
     "output_type": "execute_result"
    }
   ],
   "source": [
    "link"
   ]
  },
  {
   "cell_type": "code",
   "execution_count": 98,
   "id": "d4c3f97d",
   "metadata": {},
   "outputs": [],
   "source": [
    "bbox = f\"{mini_long},{mini_lat},{max_long},{max_lat}\""
   ]
  },
  {
   "cell_type": "code",
   "execution_count": 99,
   "id": "d360341e",
   "metadata": {},
   "outputs": [],
   "source": [
    "link = \"http://overpass-api.de/api/interpreter?data=[timeout:86400][maxsize:1073741824];(node(\" + bbox + \");<;);out meta;\""
   ]
  },
  {
   "cell_type": "code",
   "execution_count": 100,
   "id": "73ed83eb",
   "metadata": {},
   "outputs": [],
   "source": [
    "saveLocation = f'/media/root/data/analysis/map/OSMFiles/map_{city}.osm'"
   ]
  },
  {
   "cell_type": "code",
   "execution_count": 101,
   "id": "f5c40e25",
   "metadata": {},
   "outputs": [
    {
     "name": "stdout",
     "output_type": "stream",
     "text": [
      "/media/root/data/analysis/map/OSMFiles/map_Bhopal.osm\n"
     ]
    },
    {
     "data": {
      "text/plain": [
       "'http://overpass-api.de/api/interpreter?data=[timeout:86400][maxsize:1073741824];(node(77.313596,23.1383117,78.4533734,24.2454582);<;);out meta;'"
      ]
     },
     "execution_count": 101,
     "metadata": {},
     "output_type": "execute_result"
    }
   ],
   "source": [
    "print(saveLocation)\n",
    "link"
   ]
  },
  {
   "cell_type": "code",
   "execution_count": 104,
   "id": "7a9aa1a1",
   "metadata": {},
   "outputs": [],
   "source": [
    "cmd = \"sudo wget -O \"+saveLocation+\" \\\"\"+link+\"\\\"\""
   ]
  },
  {
   "cell_type": "code",
   "execution_count": 105,
   "id": "a49ac320",
   "metadata": {
    "scrolled": false
   },
   "outputs": [
    {
     "data": {
      "text/plain": [
       "'sudo wget -O /media/root/data/analysis/map/OSMFiles/map_Bhopal.osm \"http://overpass-api.de/api/interpreter?data=[timeout:86400][maxsize:1073741824];(node(77.313596,23.1383117,78.4533734,24.2454582);<;);out meta;\"'"
      ]
     },
     "execution_count": 105,
     "metadata": {},
     "output_type": "execute_result"
    }
   ],
   "source": [
    "cmd"
   ]
  }
 ],
 "metadata": {
  "kernelspec": {
   "display_name": "Python 3 (ipykernel)",
   "language": "python",
   "name": "python3"
  },
  "language_info": {
   "codemirror_mode": {
    "name": "ipython",
    "version": 3
   },
   "file_extension": ".py",
   "mimetype": "text/x-python",
   "name": "python",
   "nbconvert_exporter": "python",
   "pygments_lexer": "ipython3",
   "version": "3.8.10"
  }
 },
 "nbformat": 4,
 "nbformat_minor": 5
}
