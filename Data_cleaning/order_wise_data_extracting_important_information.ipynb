{
 "cells": [
  {
   "cell_type": "code",
   "execution_count": 1,
   "id": "08f631ca",
   "metadata": {
    "ExecuteTime": {
     "end_time": "2022-10-19T20:45:37.594692Z",
     "start_time": "2022-10-19T20:45:37.138398Z"
    }
   },
   "outputs": [],
   "source": [
    "import os\n",
    "from os.path import join\n",
    "import pandas as pd\n",
    "import numpy as np\n",
    "\n",
    "# ['Store_id', 'City_name', 'Order_date', 'Order_number', 'Order_Items', 'Store_lat', 'Store_lng', \n",
    "# 'Delivery_lat', 'Delivery_lng', 'Order_cancelled_at', 'Completion_status']\n",
    "path = \"/media/root/data/analysis/data/\""
   ]
  },
  {
   "cell_type": "code",
   "execution_count": 2,
   "id": "57d7f014",
   "metadata": {
    "ExecuteTime": {
     "end_time": "2022-10-19T20:38:56.530064Z",
     "start_time": "2022-10-19T20:38:56.512919Z"
    },
    "collapsed": true
   },
   "outputs": [
    {
     "name": "stdout",
     "output_type": "stream",
     "text": [
      "/Analysis.ipynb\n",
      "Item_wise_data/Bhopal/Item_wise-Bhopal-17-23-Dec-2021.xlsx\n",
      "Item_wise_data/Kolkata/Item_wise-Kolkata-17-23-Dec-2021.xlsx\n",
      "Item_wise_data/Jaipur/Item_wise-Jaipur-17-23-Dec-2021.xlsx\n",
      "Item_wise_data/Jaipur/Item_wise-Jaipur-1-31-July-2022.xlsx\n",
      "Order_wise_data/Delhi/jfl delhi 25 to 31 july 2022.csv\n",
      "Order_wise_data/Delhi/Delhi_Dec.csv\n",
      "Order_wise_data/Delhi/JFL 1 o 7 july 2022.csv\n",
      "Order_wise_data/Delhi/JFL 24 to 31 dec.csv\n",
      "Order_wise_data/Delhi/Delhi_July.csv\n",
      "Order_wise_data/Delhi/JFL 17 to 24 dec.csv\n",
      "Order_wise_data/Bhopal/Bhopal_July.xlsx\n",
      "Order_wise_data/Bhopal/Bhopal_24_To_31_Dec.xlsx\n",
      "Order_wise_data/Bhopal/Bhopal_Dec.csv\n",
      "Order_wise_data/Bhopal/Bhopal_17_To_23_Dec.xlsx\n",
      "Order_wise_data/Bhopal/Bhopal_July.csv\n",
      "Order_wise_data/Kolkata/Kolkata_July.csv\n",
      "Order_wise_data/Kolkata/Kolkata 17 to 31 dec.csv\n",
      "Order_wise_data/Kolkata/Kolkata july 2022.csv\n",
      "Order_wise_data/Kolkata/Kolkata_Dec.csv\n",
      "Order_wise_data/Jaipur/jaipur july.csv\n",
      "Order_wise_data/Jaipur/Jaipur_Dec.csv\n",
      "Order_wise_data/Jaipur/Jaipur_July.csv\n",
      "Order_wise_data/Jaipur/Jaipur 17 to 24 dec.csv\n",
      "Order_wise_data/Jaipur/Jaipur 24 to 31 dec.csv\n",
      "Order_wise_data/Mumbai/Mumbai_17_To_23_Dec.xlsx\n",
      "Order_wise_data/Mumbai/Mumbai_Dec.csv\n",
      "Order_wise_data/Mumbai/Mumbai_24_To_31_Dec.xlsx\n",
      "Order_wise_data/Mumbai/Mumbai_July.xlsx\n",
      "Order_wise_data/Mumbai/Mumbai_all_orders.csv\n",
      "Order_wise_data/Mumbai/Mumbai_July.csv\n",
      ".ipynb_checkpoints/Analysis-checkpoint.ipynb\n"
     ]
    }
   ],
   "source": [
    "for x in os.walk(f\"{path}\"):\n",
    "    for y in x[2]:\n",
    "        print(x[0][31:]+\"/\"+y)"
   ]
  },
  {
   "cell_type": "markdown",
   "id": "0acd0fc2",
   "metadata": {},
   "source": [
    "# To view the final files used for lat_long."
   ]
  },
  {
   "cell_type": "code",
   "execution_count": 2,
   "id": "83e87a1b",
   "metadata": {
    "ExecuteTime": {
     "end_time": "2022-10-19T20:46:01.381720Z",
     "start_time": "2022-10-19T20:45:40.135087Z"
    }
   },
   "outputs": [
    {
     "name": "stdout",
     "output_type": "stream",
     "text": [
      "Mumbai Dec (236030, 10)\n",
      "0.0 to 19.28006839, 180758\n",
      "Mumbai July (446767, 11)\n",
      "16.7894453118 to 35.4341364, 376613\n",
      "Bhopal Dec (19881, 10)\n",
      "0.0 to 23.3243638605495, 15435\n",
      "Bhopal July (44566, 11)\n",
      "23.1383117 to 24.2454582, 37332\n",
      "Jaipur Dec (31446, 10)\n",
      "26.76198 to 26.98856474203763, 27148\n",
      "Jaipur July (63602, 10)\n",
      "26.78117575564247 to 26.9889291, 51127\n",
      "Kolkata Dec (88849, 10)\n",
      "22.34524111809632 to 22.980932509713178, 73421\n",
      "Kolkata July (201325, 10)\n",
      "22.33821159002053 to 23.416266253760387, 147515\n",
      "Delhi Dec (480612, 10)\n",
      "19.05898405318049 to 28.7527341, 365274\n",
      "Delhi July (402299, 10)\n",
      "19.05898405318049 to 28.7527223, 321395\n"
     ]
    }
   ],
   "source": [
    "city  = [\"Mumbai\", \"Bhopal\", \"Jaipur\", \"Kolkata\", \"Delhi\"]\n",
    "month = [\"Dec\", \"July\"]\n",
    "ln = []\n",
    "dn = {}\n",
    "for c in city:\n",
    "    for m in month:    \n",
    "        x = f'./Order_wise_data/{c}/{c}_{m}.csv'\n",
    "        ln.append(x)\n",
    "        \n",
    "        df = pd.read_csv(join(path,x))\n",
    "        dn[x] = df\n",
    "        df = dn[x]\n",
    "        print(c, m, df.shape)\n",
    "#         print(df.Order_date.unique())\n",
    "        l = df.Delivery_lat.unique()\n",
    "        print(f\"{min(l)} to {max(l)}, {len(l)}\")\n",
    "#         print(df.columns)\n",
    "        "
   ]
  },
  {
   "cell_type": "code",
   "execution_count": 3,
   "id": "24795528",
   "metadata": {
    "ExecuteTime": {
     "end_time": "2022-10-19T20:46:01.390985Z",
     "start_time": "2022-10-19T20:46:01.385558Z"
    }
   },
   "outputs": [],
   "source": [
    "l = [\n",
    " './Order_wise_data/Bhopal/Bhopal_24_To_31_Dec.xlsx',\n",
    " './Order_wise_data/Bhopal/Bhopal_17_To_23_Dec.xlsx',\n",
    " './Order_wise_data/Mumbai/Mumbai_17_To_23_Dec.xlsx',\n",
    " './Order_wise_data/Mumbai/Mumbai_24_To_31_Dec.xlsx',\n",
    " './Order_wise_data/Bhopal/Bhopal_July.xlsx',\n",
    " './Order_wise_data/Mumbai/Mumbai_July.xlsx'\n",
    "]\n",
    "# l"
   ]
  },
  {
   "cell_type": "code",
   "execution_count": 4,
   "id": "ce151454",
   "metadata": {
    "ExecuteTime": {
     "end_time": "2022-10-19T20:46:01.400626Z",
     "start_time": "2022-10-19T20:46:01.393699Z"
    }
   },
   "outputs": [],
   "source": [
    "l2 = [\n",
    "'./Order_wise_data/Delhi/jfl delhi 25 to 31 july 2022.csv',\n",
    "'./Order_wise_data/Delhi/JFL 1 o 7 july 2022.csv',\n",
    "'./Order_wise_data/Delhi/JFL 24 to 31 dec.csv',\n",
    "'./Order_wise_data/Delhi/JFL 17 to 24 dec.csv',\n",
    "'./Order_wise_data/Kolkata/Kolkata 17 to 31 dec.csv',\n",
    "'./Order_wise_data/Kolkata/Kolkata july 2022.csv',\n",
    "'./Order_wise_data/Jaipur/jaipur july.csv',\n",
    "'./Order_wise_data/Jaipur/Jaipur 17 to 24 dec.csv',\n",
    "'./Order_wise_data/Jaipur/Jaipur 24 to 31 dec.csv'\n",
    "]\n",
    "# l2"
   ]
  },
  {
   "cell_type": "code",
   "execution_count": 6,
   "id": "34fd96c2",
   "metadata": {
    "ExecuteTime": {
     "end_time": "2022-10-19T20:56:41.667964Z",
     "start_time": "2022-10-19T20:51:04.301747Z"
    }
   },
   "outputs": [
    {
     "name": "stdout",
     "output_type": "stream",
     "text": [
      "./Order_wise_data/Bhopal/Bhopal_24_To_31_Dec.xlsx (11627, 27)\n",
      "./Order_wise_data/Bhopal/Bhopal_17_To_23_Dec.xlsx (8254, 27)\n",
      "./Order_wise_data/Mumbai/Mumbai_17_To_23_Dec.xlsx (94668, 28)\n",
      "./Order_wise_data/Mumbai/Mumbai_24_To_31_Dec.xlsx (141362, 30)\n",
      "./Order_wise_data/Bhopal/Bhopal_July.xlsx (44566, 11)\n",
      "./Order_wise_data/Mumbai/Mumbai_July.xlsx (446767, 11)\n"
     ]
    }
   ],
   "source": [
    "# Bhopal, Mumbai\n",
    "d = {}\n",
    "for x in l:\n",
    "    df = pd.read_excel(join(path,x))\n",
    "    print(x, df.shape)\n",
    "    d[x] = df"
   ]
  },
  {
   "cell_type": "code",
   "execution_count": 7,
   "id": "72aa5d79",
   "metadata": {
    "ExecuteTime": {
     "end_time": "2022-10-19T20:57:55.706445Z",
     "start_time": "2022-10-19T20:56:41.672157Z"
    }
   },
   "outputs": [
    {
     "name": "stdout",
     "output_type": "stream",
     "text": [
      "./Order_wise_data/Delhi/jfl delhi 25 to 31 july 2022.csv (200907, 34)\n",
      "./Order_wise_data/Delhi/JFL 1 o 7 july 2022.csv (201392, 34)\n",
      "./Order_wise_data/Delhi/JFL 24 to 31 dec.csv (262627, 34)\n",
      "./Order_wise_data/Delhi/JFL 17 to 24 dec.csv (217985, 34)\n",
      "./Order_wise_data/Kolkata/Kolkata 17 to 31 dec.csv (88849, 30)\n",
      "./Order_wise_data/Kolkata/Kolkata july 2022.csv (201325, 34)\n",
      "./Order_wise_data/Jaipur/jaipur july.csv (63602, 30)\n",
      "./Order_wise_data/Jaipur/Jaipur 17 to 24 dec.csv (14972, 30)\n",
      "./Order_wise_data/Jaipur/Jaipur 24 to 31 dec.csv (16474, 30)\n"
     ]
    }
   ],
   "source": [
    "# Delhi, Kolkata, Jaipur\n",
    "for x in l2:\n",
    "    df = pd.read_csv(join(path,x))\n",
    "    print(x, df.shape)\n",
    "    d[x] = df"
   ]
  },
  {
   "cell_type": "code",
   "execution_count": 12,
   "id": "6273021e",
   "metadata": {
    "ExecuteTime": {
     "end_time": "2022-10-19T21:14:01.064085Z",
     "start_time": "2022-10-19T21:14:01.052386Z"
    },
    "collapsed": true
   },
   "outputs": [
    {
     "name": "stdout",
     "output_type": "stream",
     "text": [
      "./Order_wise_data/Bhopal/Bhopal_24_To_31_Dec.xlsx (11627, 27)\n",
      "./Order_wise_data/Bhopal/Bhopal_17_To_23_Dec.xlsx (8254, 27)\n",
      "./Order_wise_data/Mumbai/Mumbai_17_To_23_Dec.xlsx (94668, 28)\n",
      "./Order_wise_data/Mumbai/Mumbai_24_To_31_Dec.xlsx (141362, 30)\n",
      "./Order_wise_data/Bhopal/Bhopal_July.xlsx (44566, 11)\n",
      "./Order_wise_data/Mumbai/Mumbai_July.xlsx (446767, 11)\n",
      "Index(['ORDER_DATE', 'ORDER_NUMBER', 'SDP_EMPLOYEE_CODE', 'SDP_NAME',\n",
      "       'STORE_ID', 'STORE_LATITUDE', 'STORE_LONGITUDE', 'ORDER_ITEMS',\n",
      "       'REACHED_GATE_IN_MINS', 'DRIVE_OUT_KMS', 'DRIVE_OUT_KMS.1',\n",
      "       'ORDER_RECEIVED_DATE_TIME', 'KITCHEN_DISPLAY_TIME',\n",
      "       'ORDER_MAKELINE_DATE_TIME', 'ORDER_RECEIVED_AT_FAREYE',\n",
      "       'DELIVERY_DISPATCH_DATE_TIME', 'BIKER_AT_VEHICLE_DATE_TIME',\n",
      "       'REACHED_CUSTOMER_DATE_TIME', 'DELIVERY_DATE_TIME',\n",
      "       'BACK_TO_STORE_DATE_TIME', 'LAST_MODE_OF_OPERATION', 'DELIVERY_LAT',\n",
      "       'DELIVERY_LNG', 'VEHICLE_LAT', 'VEHICLE_LNG', 'IS_MULTIRUN',\n",
      "       'COMPLETION_STATUS'],\n",
      "      dtype='object')\n",
      "Index(['Store_id', 'City_name', 'Order_date', 'Order_number', 'Order_Items',\n",
      "       'Store_lat', 'Store_lng', 'Delivery_lat', 'Delivery_lng',\n",
      "       'Order_cancelled_at', 'Completion_status'],\n",
      "      dtype='object')\n"
     ]
    }
   ],
   "source": [
    "# Bhopal rufwork\n",
    "# print(d[l[0]].columns)\n",
    "for x in l[:]:\n",
    "    print(x, d[x].shape)\n",
    "#     print(d[x].columns)\n",
    "#     print(d[x].STORE_LATITUDE.unique())\n",
    "#     print(d[x].groupby(['ORDER_DATE']).size().reset_index(name=\"count\"))\n",
    "\n",
    "#ruf work2\n",
    "print(d[l[0]].columns)\n",
    "print(d[l[4]].columns)\n",
    "# for x in l[4:]:\n",
    "#     print(x, d[x].shape)\n",
    "#     print(d[x].columns)\n",
    "#     print(d[x].City_name.unique())\n",
    "#     print(d[x].groupby(['Order_cancelled_at']).size().reset_index(name=\"count\"))"
   ]
  },
  {
   "cell_type": "code",
   "execution_count": 13,
   "id": "9455997f",
   "metadata": {
    "ExecuteTime": {
     "end_time": "2022-10-19T21:15:08.044951Z",
     "start_time": "2022-10-19T21:15:07.982257Z"
    }
   },
   "outputs": [
    {
     "name": "stdout",
     "output_type": "stream",
     "text": [
      "./Order_wise_data/Delhi/jfl delhi 25 to 31 july 2022.csv\t(200907, 34)\n",
      "28.145017 28.73593\n",
      "./Order_wise_data/Delhi/JFL 1 o 7 july 2022.csv\t(201392, 34)\n",
      "28.145017 28.73593\n",
      "./Order_wise_data/Delhi/JFL 24 to 31 dec.csv\t(262627, 34)\n",
      "28.145017 28.73593\n",
      "./Order_wise_data/Delhi/JFL 17 to 24 dec.csv\t(217985, 34)\n",
      "28.145017 28.73593\n",
      "./Order_wise_data/Kolkata/Kolkata 17 to 31 dec.csv\t(88849, 30)\n",
      "22.356321 22.9519\n",
      "./Order_wise_data/Kolkata/Kolkata july 2022.csv\t(201325, 34)\n",
      "22.356321 23.404275\n",
      "./Order_wise_data/Jaipur/jaipur july.csv\t(63602, 30)\n",
      "26.799442 26.964173\n",
      "./Order_wise_data/Jaipur/Jaipur 17 to 24 dec.csv\t(14972, 30)\n",
      "26.803073 26.964173\n",
      "./Order_wise_data/Jaipur/Jaipur 24 to 31 dec.csv\t(16474, 30)\n",
      "26.803073 26.964173\n",
      "['order_date', 'order_number', 'order_items', 'store_id', 'store_lat', 'store_lng', 'customer_lat', 'customer_lng', 'score', 'rider_id', 'rider_name', 'order_status', 'rider_type', 'order_assigned_time', 'startbike_time', 'reachedgate_time', 'startbike_to_reachedgate_in_mins', 'delivered_time', 'backtostore_time', 'makeline_time', 'order_saved_time', 'order_received_time', 'multi_run_order', 'allocation_source', 'planned_delivery_distance_km', 'planned_return_hub_distance_km', 'actual_delivery_distance_km', 'actual_return_hub_distance_km', 'suspicious_reachedgate_flag', 'suspicious_delivered_flag', 'startbike_lat_lng', 'reachedgate_lat_lng', 'delivered_lat_lng', 'backtostore_lat_lng'] 34\n"
     ]
    }
   ],
   "source": [
    "#Delhi rufwork\n",
    "col = []\n",
    "for x in l2:\n",
    "    print(x, d[x].shape, sep=\"\\t\")\n",
    "    print(min(d[x].store_lat.unique()), max(d[x].store_lat.unique()))\n",
    "    col.append(d[x].columns.to_list())\n",
    "\n",
    "#ruf work2\n",
    "for x in col:\n",
    "    print(x, len(x))\n",
    "    break"
   ]
  },
  {
   "cell_type": "markdown",
   "id": "1b7840c7",
   "metadata": {},
   "source": [
    "# Delhi, Kolkata, Jaipur"
   ]
  },
  {
   "cell_type": "code",
   "execution_count": 34,
   "id": "e236075e",
   "metadata": {
    "ExecuteTime": {
     "end_time": "2022-10-11T20:42:04.034480Z",
     "start_time": "2022-10-11T20:42:03.977061Z"
    },
    "collapsed": true
   },
   "outputs": [
    {
     "name": "stdout",
     "output_type": "stream",
     "text": [
      "./Order_wise_data/Delhi/jfl delhi 25 to 31 july 2022.csv\t(200907, 34)\n",
      "28.145017 28.73593\n",
      "./Order_wise_data/Delhi/JFL 1 o 7 july 2022.csv\t(201392, 34)\n",
      "28.145017 28.73593\n",
      "./Order_wise_data/Delhi/JFL 24 to 31 dec.csv\t(262627, 34)\n",
      "28.145017 28.73593\n",
      "./Order_wise_data/Delhi/JFL 17 to 24 dec.csv\t(217985, 34)\n",
      "28.145017 28.73593\n",
      "./Order_wise_data/Kolkata/Kolkata 17 to 31 dec.csv\t(88849, 30)\n",
      "22.356321 22.9519\n",
      "./Order_wise_data/Kolkata/Kolkata july 2022.csv\t(201325, 34)\n",
      "22.356321 23.404275\n",
      "./Order_wise_data/Jaipur/jaipur july.csv\t(63602, 30)\n",
      "26.799442 26.964173\n",
      "./Order_wise_data/Jaipur/Jaipur 17 to 24 dec.csv\t(14972, 30)\n",
      "26.803073 26.964173\n",
      "./Order_wise_data/Jaipur/Jaipur 24 to 31 dec.csv\t(16474, 30)\n",
      "26.803073 26.964173\n"
     ]
    }
   ],
   "source": [
    "col = []\n",
    "for x in l2:\n",
    "    print(x, d[x].shape, sep=\"\\t\")\n",
    "    print(min(d[x].store_lat.unique()), max(d[x].store_lat.unique()))\n",
    "    col.append(d[x].columns.to_list())\n",
    "#     print(d[x].groupby(['order_date']).size().reset_index(name=\"count\"))\n",
    "# [(len(x), x[0]) for x in col]"
   ]
  },
  {
   "cell_type": "code",
   "execution_count": 37,
   "id": "a87fe504",
   "metadata": {
    "ExecuteTime": {
     "end_time": "2022-10-11T20:42:30.763984Z",
     "start_time": "2022-10-11T20:42:30.758370Z"
    },
    "collapsed": true
   },
   "outputs": [
    {
     "name": "stdout",
     "output_type": "stream",
     "text": [
      "['order_date', 'order_number', 'order_items', 'store_id', 'store_lat', 'store_lng', 'customer_lat', 'customer_lng', 'score', 'rider_id', 'rider_name', 'order_status', 'rider_type', 'order_assigned_time', 'startbike_time', 'reachedgate_time', 'startbike_to_reachedgate_in_mins', 'delivered_time', 'backtostore_time', 'makeline_time', 'order_saved_time', 'order_received_time', 'multi_run_order', 'allocation_source', 'planned_delivery_distance_km', 'planned_return_hub_distance_km', 'actual_delivery_distance_km', 'actual_return_hub_distance_km', 'suspicious_reachedgate_flag', 'suspicious_delivered_flag', 'startbike_lat_lng', 'reachedgate_lat_lng', 'delivered_lat_lng', 'backtostore_lat_lng'] 34\n"
     ]
    }
   ],
   "source": [
    "for x in col:\n",
    "    print(x, len(x))\n",
    "    break"
   ]
  },
  {
   "cell_type": "code",
   "execution_count": 71,
   "id": "1a8c0cf4",
   "metadata": {
    "ExecuteTime": {
     "end_time": "2022-10-12T09:35:58.486660Z",
     "start_time": "2022-10-12T09:35:41.144287Z"
    },
    "collapsed": true
   },
   "outputs": [
    {
     "name": "stdout",
     "output_type": "stream",
     "text": [
      "(201392, 34)\n",
      "(200907, 34)\n",
      "(402299, 35)\n",
      "(402299, 10) Index(['store_id', 'City_name', 'order_date', 'order_number', 'order_items',\n",
      "       'store_lat', 'store_lng', 'customer_lat', 'customer_lng',\n",
      "       'order_status'],\n",
      "      dtype='object')\n",
      "(402299, 10) Index(['Store_id', 'City_name', 'Order_date', 'Order_number', 'Order_Items',\n",
      "       'Store_lat', 'Store_lng', 'Delivery_lat', 'Delivery_lng',\n",
      "       'Completion_status'],\n",
      "      dtype='object')\n"
     ]
    }
   ],
   "source": [
    "df1 = d[l2[1]]\n",
    "df2 = d[l2[0]]\n",
    "print(df1.shape)\n",
    "print(df2.shape)\n",
    "df3 = pd.concat([df1, df2])\n",
    "df3['City_name'] = \"Delhi\"\n",
    "print(df3.shape)\n",
    "# df3\n",
    "df4 = df3[['store_id', 'City_name', 'order_date', 'order_number', 'order_items', 'store_lat', 'store_lng', 'customer_lat', 'customer_lng', 'order_status']]\n",
    "print(df4.shape, df4.columns)\n",
    "df4.columns = ['Store_id', 'City_name', 'Order_date', 'Order_number', 'Order_Items', 'Store_lat', 'Store_lng', 'Delivery_lat', 'Delivery_lng', 'Completion_status']\n",
    "print(df4.shape, df4.columns)\n",
    "df4.head()\n",
    "df4.to_csv(f\"{path}/Order_wise_data/Delhi/Delhi_July.csv\", index=False)"
   ]
  },
  {
   "cell_type": "code",
   "execution_count": 70,
   "id": "695a776a",
   "metadata": {
    "ExecuteTime": {
     "end_time": "2022-10-12T09:34:54.699929Z",
     "start_time": "2022-10-12T09:34:37.459339Z"
    },
    "collapsed": true
   },
   "outputs": [
    {
     "name": "stdout",
     "output_type": "stream",
     "text": [
      "(217985, 34)\n",
      "(262627, 34)\n",
      "(480612, 35)\n",
      "(480612, 10) Index(['store_id', 'City_name', 'order_date', 'order_number', 'order_items',\n",
      "       'store_lat', 'store_lng', 'customer_lat', 'customer_lng',\n",
      "       'order_status'],\n",
      "      dtype='object')\n",
      "(480612, 10) Index(['Store_id', 'City_name', 'Order_date', 'Order_number', 'Order_Items',\n",
      "       'Store_lat', 'Store_lng', 'Delivery_lat', 'Delivery_lng',\n",
      "       'Completion_status'],\n",
      "      dtype='object')\n"
     ]
    }
   ],
   "source": [
    "df1 = d[l2[3]]\n",
    "df2 = d[l2[2]]\n",
    "print(df1.shape)\n",
    "print(df2.shape)\n",
    "df3 = pd.concat([df1, df2])\n",
    "df3['City_name'] = \"Delhi\"\n",
    "print(df3.shape)\n",
    "# df3\n",
    "df4 = df3[['store_id', 'City_name', 'order_date', 'order_number', 'order_items', 'store_lat', 'store_lng', 'customer_lat', 'customer_lng', 'order_status']]\n",
    "print(df4.shape, df4.columns)\n",
    "df4.columns = ['Store_id', 'City_name', 'Order_date', 'Order_number', 'Order_Items', 'Store_lat', 'Store_lng', 'Delivery_lat', 'Delivery_lng', 'Completion_status']\n",
    "print(df4.shape, df4.columns)\n",
    "df4.head()\n",
    "df4.to_csv(f\"{path}/Order_wise_data/Delhi/Delhi_Dec.csv\", index=False)"
   ]
  },
  {
   "cell_type": "code",
   "execution_count": 66,
   "id": "5ee3d0ae",
   "metadata": {
    "ExecuteTime": {
     "end_time": "2022-10-12T09:31:24.943176Z",
     "start_time": "2022-10-12T09:31:21.594958Z"
    },
    "collapsed": true
   },
   "outputs": [
    {
     "name": "stdout",
     "output_type": "stream",
     "text": [
      "(88849, 30)\n",
      "(88849, 31)\n",
      "(88849, 10) Index(['store_id', 'City_name', 'order_date', 'order_number', 'order_items',\n",
      "       'store_lat', 'store_lng', 'customer_lat', 'customer_lng',\n",
      "       'order_status'],\n",
      "      dtype='object')\n",
      "(88849, 10) Index(['Store_id', 'City_name', 'Order_date', 'Order_number', 'Order_Items',\n",
      "       'Store_lat', 'Store_lng', 'Delivery_lat', 'Delivery_lng',\n",
      "       'Completion_status'],\n",
      "      dtype='object')\n"
     ]
    }
   ],
   "source": [
    "df = d[l2[4]]\n",
    "print(df.shape)\n",
    "df['City_name'] = \"Kolkata\"\n",
    "print(df.shape)\n",
    "df2 = df[['store_id', 'City_name', 'order_date', 'order_number', 'order_items', 'store_lat', 'store_lng', 'customer_lat', 'customer_lng', 'order_status']]\n",
    "print(df2.shape, df2.columns)\n",
    "df2.columns = ['Store_id', 'City_name', 'Order_date', 'Order_number', 'Order_Items', 'Store_lat', 'Store_lng', 'Delivery_lat', 'Delivery_lng', 'Completion_status']\n",
    "print(df2.shape, df2.columns)\n",
    "df2.head()\n",
    "df2.to_csv(f\"{path}/Order_wise_data/Kolkata/Kolkata_Dec.csv\", index=False)"
   ]
  },
  {
   "cell_type": "code",
   "execution_count": 67,
   "id": "eda1899e",
   "metadata": {
    "ExecuteTime": {
     "end_time": "2022-10-12T09:31:30.435539Z",
     "start_time": "2022-10-12T09:31:24.947522Z"
    },
    "collapsed": true
   },
   "outputs": [
    {
     "name": "stdout",
     "output_type": "stream",
     "text": [
      "(201325, 34)\n",
      "(201325, 35)\n",
      "(201325, 10) Index(['store_id', 'City_name', 'order_date', 'order_number', 'order_items',\n",
      "       'store_lat', 'store_lng', 'customer_lat', 'customer_lng',\n",
      "       'order_status'],\n",
      "      dtype='object')\n",
      "(201325, 10) Index(['Store_id', 'City_name', 'Order_date', 'Order_number', 'Order_Items',\n",
      "       'Store_lat', 'Store_lng', 'Delivery_lat', 'Delivery_lng',\n",
      "       'Completion_status'],\n",
      "      dtype='object')\n"
     ]
    }
   ],
   "source": [
    "df = d[l2[5]]\n",
    "print(df.shape)\n",
    "df['City_name'] = \"Kolkata\"\n",
    "print(df.shape)\n",
    "df2 = df[['store_id', 'City_name', 'order_date', 'order_number', 'order_items', 'store_lat', 'store_lng', 'customer_lat', 'customer_lng', 'order_status']]\n",
    "print(df2.shape, df2.columns)\n",
    "df2.columns = ['Store_id', 'City_name', 'Order_date', 'Order_number', 'Order_Items', 'Store_lat', 'Store_lng', 'Delivery_lat', 'Delivery_lng', 'Completion_status']\n",
    "print(df2.shape, df2.columns)\n",
    "df2.head()\n",
    "df2.to_csv(f\"{path}/Order_wise_data/Kolkata/Kolkata_July.csv\", index=False)"
   ]
  },
  {
   "cell_type": "code",
   "execution_count": 56,
   "id": "1180bd0a",
   "metadata": {
    "ExecuteTime": {
     "end_time": "2022-10-12T09:07:58.741672Z",
     "start_time": "2022-10-12T09:07:55.887639Z"
    },
    "collapsed": true
   },
   "outputs": [
    {
     "name": "stdout",
     "output_type": "stream",
     "text": [
      "(63602, 31)\n",
      "(63602, 31)\n",
      "(63602, 10) Index(['store_id', 'City_name', 'order_date', 'order_number', 'order_items',\n",
      "       'store_lat', 'store_lng', 'customer_lat', 'customer_lng',\n",
      "       'order_status'],\n",
      "      dtype='object')\n",
      "(63602, 10) Index(['Store_id', 'City_name', 'Order_date', 'Order_number', 'Order_Items',\n",
      "       'Store_lat', 'Store_lng', 'Delivery_lat', 'Delivery_lng',\n",
      "       'Completion_status'],\n",
      "      dtype='object')\n"
     ]
    }
   ],
   "source": [
    "df = d[l2[6]]\n",
    "print(df.shape)\n",
    "df['City_name'] = \"Jaipur\"\n",
    "print(df.shape)\n",
    "df2 = df[['store_id', 'City_name', 'order_date', 'order_number', 'order_items', 'store_lat', 'store_lng', 'customer_lat', 'customer_lng', 'order_status']]\n",
    "print(df2.shape, df2.columns)\n",
    "df2.columns = ['Store_id', 'City_name', 'Order_date', 'Order_number', 'Order_Items', 'Store_lat', 'Store_lng', 'Delivery_lat', 'Delivery_lng', 'Completion_status']\n",
    "print(df2.shape, df2.columns)\n",
    "df2.head()\n",
    "df2.to_csv(f\"{path}/Order_wise_data/Jaipur/Jaipur_July.csv\", index=False)"
   ]
  },
  {
   "cell_type": "code",
   "execution_count": 47,
   "id": "28b5c924",
   "metadata": {
    "ExecuteTime": {
     "end_time": "2022-10-11T20:56:18.493278Z",
     "start_time": "2022-10-11T20:56:17.038708Z"
    },
    "collapsed": true
   },
   "outputs": [
    {
     "name": "stdout",
     "output_type": "stream",
     "text": [
      "(14972, 30)\n",
      "(16474, 30)\n",
      "(31446, 31)\n",
      "(31446, 10) Index(['store_id', 'City_name', 'order_date', 'order_number', 'order_items',\n",
      "       'store_lat', 'store_lng', 'customer_lat', 'customer_lng',\n",
      "       'order_status'],\n",
      "      dtype='object')\n",
      "(31446, 10) Index(['Store_id', 'City_name', 'Order_date', 'Order_number', 'Order_Items',\n",
      "       'Store_lat', 'Store_lng', 'Delivery_lat', 'Delivery_lng',\n",
      "       'Completion_status'],\n",
      "      dtype='object')\n"
     ]
    }
   ],
   "source": [
    "df1 = d[l2[7]]\n",
    "df2 = d[l2[8]]\n",
    "print(df1.shape)\n",
    "print(df2.shape)\n",
    "df3 = pd.concat([df1, df2])\n",
    "df3['City_name'] = \"Jaipur\"\n",
    "print(df3.shape)\n",
    "# df3\n",
    "df4 = df3[['store_id', 'City_name', 'order_date', 'order_number', 'order_items', 'store_lat', 'store_lng', 'customer_lat', 'customer_lng', 'order_status']]\n",
    "print(df4.shape, df4.columns)\n",
    "df4.columns = ['Store_id', 'City_name', 'Order_date', 'Order_number', 'Order_Items', 'Store_lat', 'Store_lng', 'Delivery_lat', 'Delivery_lng', 'Completion_status']\n",
    "print(df4.shape, df4.columns)\n",
    "df4.head()\n",
    "df4.to_csv(f\"{path}/Order_wise_data/Jaipur/Jaipur_Dec.csv\", index=False)"
   ]
  },
  {
   "cell_type": "markdown",
   "id": "ebdec540",
   "metadata": {},
   "source": [
    "# Bhopal, Mumbai"
   ]
  },
  {
   "cell_type": "code",
   "execution_count": 7,
   "id": "87c9b0de",
   "metadata": {
    "ExecuteTime": {
     "end_time": "2022-10-11T20:07:27.231137Z",
     "start_time": "2022-10-11T20:07:27.224856Z"
    }
   },
   "outputs": [
    {
     "name": "stdout",
     "output_type": "stream",
     "text": [
      "./Order_wise_data/Bhopal/Bhopal_24_To_31_Dec.xlsx (11627, 27)\n",
      "./Order_wise_data/Bhopal/Bhopal_17_To_23_Dec.xlsx (8254, 27)\n",
      "./Order_wise_data/Mumbai/Mumbai_17_To_23_Dec.xlsx (94668, 28)\n",
      "./Order_wise_data/Mumbai/Mumbai_24_To_31_Dec.xlsx (141362, 30)\n"
     ]
    }
   ],
   "source": [
    "# print(d[l[0]].columns)\n",
    "for x in l[:4]:\n",
    "    print(x, d[x].shape)\n",
    "#     print(d[x].columns)\n",
    "#     print(d[x].STORE_LATITUDE.unique())\n",
    "#     print(d[x].groupby(['ORDER_DATE']).size().reset_index(name=\"count\"))"
   ]
  },
  {
   "cell_type": "code",
   "execution_count": 25,
   "id": "2bed61e3",
   "metadata": {
    "ExecuteTime": {
     "end_time": "2022-10-11T20:25:51.007096Z",
     "start_time": "2022-10-11T20:25:51.000768Z"
    }
   },
   "outputs": [
    {
     "name": "stdout",
     "output_type": "stream",
     "text": [
      "Index(['Store_id', 'City_name', 'Order_date', 'Order_number', 'Order_Items',\n",
      "       'Store_lat', 'Store_lng', 'Delivery_lat', 'Delivery_lng',\n",
      "       'Order_cancelled_at', 'Completion_status'],\n",
      "      dtype='object')\n",
      "./Order_wise_data/Bhopal/Bhopal_July.xlsx (44566, 11)\n",
      "./Order_wise_data/Mumbai/Mumbai_July.xlsx (446767, 11)\n"
     ]
    }
   ],
   "source": [
    "print(d[l[4]].columns)\n",
    "for x in l[4:]:\n",
    "    print(x, d[x].shape)\n",
    "#     print(d[x].columns)\n",
    "#     print(d[x].City_name.unique())\n",
    "#     print(d[x].groupby(['Order_cancelled_at']).size().reset_index(name=\"count\"))"
   ]
  },
  {
   "cell_type": "code",
   "execution_count": 48,
   "id": "6d559c8c",
   "metadata": {
    "ExecuteTime": {
     "end_time": "2022-10-11T20:57:32.301582Z",
     "start_time": "2022-10-11T20:57:31.715794Z"
    }
   },
   "outputs": [
    {
     "name": "stdout",
     "output_type": "stream",
     "text": [
      "(11627, 27)\n",
      "(8254, 27)\n",
      "(19881, 29)\n",
      "(19881, 10) Index(['STORE_ID', 'City_name', 'ORDER_DATE', 'ORDER_NUMBER', 'ORDER_ITEMS',\n",
      "       'STORE_LATITUDE', 'STORE_LONGITUDE', 'DELIVERY_LAT', 'DELIVERY_LNG',\n",
      "       'COMPLETION_STATUS'],\n",
      "      dtype='object')\n",
      "(19881, 10) Index(['Store_id', 'City_name', 'Order_date', 'Order_number', 'Order_Items',\n",
      "       'Store_lat', 'Store_lng', 'Delivery_lat', 'Delivery_lng',\n",
      "       'Completion_status'],\n",
      "      dtype='object')\n"
     ]
    }
   ],
   "source": [
    "df1 = d[l[0]]\n",
    "df2 = d[l[1]]\n",
    "print(df1.shape)\n",
    "print(df2.shape)\n",
    "df3 = pd.concat([df1, df2])\n",
    "df3['City_name'] = \"Bhopal\"\n",
    "print(df3.shape)\n",
    "df4 = df3[['STORE_ID', 'City_name', 'ORDER_DATE', 'ORDER_NUMBER', 'ORDER_ITEMS', 'STORE_LATITUDE', 'STORE_LONGITUDE', 'DELIVERY_LAT', 'DELIVERY_LNG', 'COMPLETION_STATUS']]\n",
    "print(df4.shape, df4.columns)\n",
    "df4.columns = ['Store_id', 'City_name', 'Order_date', 'Order_number', 'Order_Items', 'Store_lat', 'Store_lng', 'Delivery_lat', 'Delivery_lng', 'Completion_status']\n",
    "print(df4.shape, df4.columns)\n",
    "df4.head()\n",
    "df4.to_csv(f\"{path}/Order_wise_data/Bhopal/Bhopal_Dec.csv\", index=False)"
   ]
  },
  {
   "cell_type": "code",
   "execution_count": 58,
   "id": "a079d6b3",
   "metadata": {
    "ExecuteTime": {
     "end_time": "2022-10-12T09:09:49.579497Z",
     "start_time": "2022-10-12T09:09:41.241953Z"
    }
   },
   "outputs": [
    {
     "name": "stdout",
     "output_type": "stream",
     "text": [
      "(236030, 27)\n",
      "(236030, 28)\n",
      "(236030, 10) Index(['STORE_ID', 'City_name', 'ORDER_DATE', 'ORDER_NUMBER', 'ORDER_ITEMS',\n",
      "       'STORE_LATITUDE', 'STORE_LONGITUDE', 'DELIVERY_LAT', 'DELIVERY_LNG',\n",
      "       'COMPLETION_STATUS'],\n",
      "      dtype='object')\n",
      "(236030, 10) Index(['Store_id', 'City_name', 'Order_date', 'Order_number', 'Order_Items',\n",
      "       'Store_lat', 'Store_lng', 'Delivery_lat', 'Delivery_lng',\n",
      "       'Completion_status'],\n",
      "      dtype='object')\n"
     ]
    }
   ],
   "source": [
    "df = pd.read_csv(f\"{path}/Order_wise_data/Mumbai/Mumbai_all_orders.csv\")\n",
    "print(df.shape)\n",
    "df['City_name'] = \"Mumbai\"\n",
    "print(df.shape)\n",
    "df2 = df[['STORE_ID', 'City_name', 'ORDER_DATE', 'ORDER_NUMBER', 'ORDER_ITEMS', 'STORE_LATITUDE', 'STORE_LONGITUDE', 'DELIVERY_LAT', 'DELIVERY_LNG', 'COMPLETION_STATUS']]\n",
    "print(df2.shape, df2.columns)\n",
    "df2.columns = ['Store_id', 'City_name', 'Order_date', 'Order_number', 'Order_Items', 'Store_lat', 'Store_lng', 'Delivery_lat', 'Delivery_lng', 'Completion_status']\n",
    "print(df2.shape, df2.columns)\n",
    "df2.head()\n",
    "df2.to_csv(f\"{path}/Order_wise_data/Mumbai/Mumbai_Dec.csv\", index=False)"
   ]
  },
  {
   "cell_type": "code",
   "execution_count": 26,
   "id": "fc210166",
   "metadata": {
    "ExecuteTime": {
     "end_time": "2022-10-11T20:27:09.657854Z",
     "start_time": "2022-10-11T20:27:08.582473Z"
    }
   },
   "outputs": [],
   "source": [
    "d[l[4]].to_csv(f'{path}/Order_wise_data/Bhopal/Bhopal_July.csv', index = False)"
   ]
  },
  {
   "cell_type": "code",
   "execution_count": 27,
   "id": "209d7120",
   "metadata": {
    "ExecuteTime": {
     "end_time": "2022-10-11T20:28:38.334512Z",
     "start_time": "2022-10-11T20:28:31.233521Z"
    }
   },
   "outputs": [],
   "source": [
    "d[l[5]].to_csv(f'{path}/Order_wise_data/Mumbai/Mumbai_July.csv', index = False)"
   ]
  },
  {
   "cell_type": "code",
   "execution_count": null,
   "id": "e8d7fe10",
   "metadata": {},
   "outputs": [],
   "source": []
  }
 ],
 "metadata": {
  "kernelspec": {
   "display_name": "Python 3 (ipykernel)",
   "language": "python",
   "name": "python3"
  },
  "language_info": {
   "codemirror_mode": {
    "name": "ipython",
    "version": 3
   },
   "file_extension": ".py",
   "mimetype": "text/x-python",
   "name": "python",
   "nbconvert_exporter": "python",
   "pygments_lexer": "ipython3",
   "version": "3.8.10"
  }
 },
 "nbformat": 4,
 "nbformat_minor": 5
}
