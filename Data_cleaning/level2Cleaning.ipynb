{
 "cells": [
  {
   "cell_type": "code",
   "execution_count": 1,
   "id": "350a2a7e",
   "metadata": {
    "scrolled": true
   },
   "outputs": [],
   "source": [
    "import pandas as pd\n",
    "import datetime\n",
    "import numpy as np\n",
    "import json\n",
    "\n",
    "df = pd.read_excel('./LevelOneCleaning/Bhopal.xlsx', sheet_name='Orders')\n",
    "# l = df.to_dict('records')"
   ]
  },
  {
   "cell_type": "code",
   "execution_count": 2,
   "id": "1c29047f",
   "metadata": {},
   "outputs": [],
   "source": [
    "df2 = pd.read_excel('./LevelOneCleaning/Mumbai.xlsx', sheet_name='Orders')"
   ]
  },
  {
   "cell_type": "code",
   "execution_count": 3,
   "id": "d3769249",
   "metadata": {},
   "outputs": [
    {
     "data": {
      "text/plain": [
       "Index(['ID', 'ORDER_DATE', 'ORDER_NUMBER', 'SDP_EMPLOYEE_CODE', 'STORE_ID',\n",
       "       'ORDER_ITEMS', 'ORDER_RECEIVED_DATE_TIME', 'KITCHEN_DISPLAY_TIME',\n",
       "       'ORDER_MAKELINE_DATE_TIME', 'ORDER_RECEIVED_AT_FAREYE',\n",
       "       'DELIVERY_DISPATCH_DATE_TIME', 'BIKER_AT_VEHICLE_DATE_TIME',\n",
       "       'REACHED_CUSTOMER_DATE_TIME', 'DELIVERY_DATE_TIME',\n",
       "       'BACK_TO_STORE_DATE_TIME', 'DELIVERY_LAT', 'DELIVERY_LNG',\n",
       "       'COMPLETION_STATUS', 'IS_MULTIRUN', 'REACHED_GATE_IN_MINS',\n",
       "       'DRIVE_IN_KMS', 'DRIVE_OUT_KMS', 'LAST_MODE_OF_OPERATION',\n",
       "       'VEHICLE_LAT', 'VEHICLE_LNG'],\n",
       "      dtype='object')"
      ]
     },
     "execution_count": 3,
     "metadata": {},
     "output_type": "execute_result"
    }
   ],
   "source": [
    "df.columns"
   ]
  },
  {
   "cell_type": "code",
   "execution_count": 4,
   "id": "aa19685a",
   "metadata": {},
   "outputs": [
    {
     "data": {
      "text/plain": [
       "18309"
      ]
     },
     "execution_count": 4,
     "metadata": {},
     "output_type": "execute_result"
    }
   ],
   "source": [
    "l = df.to_dict('records')\n",
    "len(l)"
   ]
  },
  {
   "cell_type": "code",
   "execution_count": 5,
   "id": "d6f5104f",
   "metadata": {},
   "outputs": [],
   "source": [
    "orders = []\n",
    "for dic in l:\n",
    "\torders.append(dic)"
   ]
  },
  {
   "cell_type": "code",
   "execution_count": 33,
   "id": "c9615d98",
   "metadata": {},
   "outputs": [],
   "source": [
    "ordersBhopal = []\n",
    "for dic in l:\n",
    "    ordersBhopal.append(dic)"
   ]
  },
  {
   "cell_type": "code",
   "execution_count": 34,
   "id": "f244e697",
   "metadata": {},
   "outputs": [
    {
     "data": {
      "text/plain": [
       "18309"
      ]
     },
     "execution_count": 34,
     "metadata": {},
     "output_type": "execute_result"
    }
   ],
   "source": [
    "len(ordersBhopal)"
   ]
  },
  {
   "cell_type": "code",
   "execution_count": 6,
   "id": "e27df974",
   "metadata": {},
   "outputs": [
    {
     "data": {
      "text/plain": [
       "225717"
      ]
     },
     "execution_count": 6,
     "metadata": {},
     "output_type": "execute_result"
    }
   ],
   "source": [
    "l2 = df2.to_dict('records')\n",
    "len(l2)"
   ]
  },
  {
   "cell_type": "code",
   "execution_count": 7,
   "id": "caf26cc8",
   "metadata": {},
   "outputs": [],
   "source": [
    "for dic in l2:\n",
    "    orders.append(dic)"
   ]
  },
  {
   "cell_type": "code",
   "execution_count": 6,
   "id": "b028882b",
   "metadata": {},
   "outputs": [],
   "source": [
    "def validate_ORDER_DATE(date):\n",
    "    if (date >= '2021-12-17' and date <= '2021-12-31'):\n",
    "        return True\n",
    "    else:\n",
    "        return False"
   ]
  },
  {
   "cell_type": "code",
   "execution_count": 7,
   "id": "10d3b3c4",
   "metadata": {},
   "outputs": [],
   "source": [
    "for index, order in df.iterrows():\n",
    "    if (not validate_ORDER_DATE(order['ORDER_DATE'])):\n",
    "        print(index, order)"
   ]
  },
  {
   "cell_type": "code",
   "execution_count": 8,
   "id": "c385c7ec",
   "metadata": {},
   "outputs": [],
   "source": [
    "def validate_order_number(on):\n",
    "    a = 0\n",
    "    try:\n",
    "        a = int(on)\n",
    "        return True\n",
    "    except:\n",
    "        return False"
   ]
  },
  {
   "cell_type": "code",
   "execution_count": 9,
   "id": "26084a42",
   "metadata": {},
   "outputs": [],
   "source": [
    "def validate_sdp_employee_code(c):\n",
    "    if c == \"\":\n",
    "        return False\n",
    "    return True"
   ]
  },
  {
   "cell_type": "code",
   "execution_count": 10,
   "id": "14802fb8",
   "metadata": {},
   "outputs": [],
   "source": [
    "def validate_store_id(sid):\n",
    "    if sid == \"\":\n",
    "        return False\n",
    "    if sid[0:2] != 'dp':\n",
    "        return False\n",
    "    return True"
   ]
  },
  {
   "cell_type": "code",
   "execution_count": 35,
   "id": "44b56471",
   "metadata": {},
   "outputs": [],
   "source": [
    "def validate_order_items(oi):\n",
    "    try:\n",
    "        res = json.loads(oi)\n",
    "        a = res['order_menu']\n",
    "        for y in a:\n",
    "            l1 = [y['menu_description'], y['quantity'], y['order_line_total'], y['menu_code']]\n",
    "        return True\n",
    "    except:\n",
    "        return False"
   ]
  },
  {
   "cell_type": "code",
   "execution_count": 58,
   "id": "66e00610",
   "metadata": {},
   "outputs": [],
   "source": [
    "def validate_DateTime(dt):\n",
    "    try:\n",
    "        dateTime = datetime.datetime.now()\n",
    "        try:\n",
    "            dateTime = datetime.datetime.strptime(dt, \"%Y-%m-%d %H:%M:%S\")\n",
    "        except:\n",
    "            dateTime = datetime.datetime.strptime(dt, \"%Y-%m-%d %H:%M:%S.%f\")\n",
    "        t = dateTime.time()\n",
    "        d = dateTime.date()\n",
    "        dStart = datetime.datetime(2021, 12, 17)\n",
    "        dEnd = datetime.datetime(2022, 1, 1)\n",
    "        if (d >= dStart.date() and d <= dEnd.date()):\n",
    "            return True\n",
    "        else:\n",
    "            return False\n",
    "    except:\n",
    "        return False"
   ]
  },
  {
   "cell_type": "code",
   "execution_count": 59,
   "id": "08d4c572",
   "metadata": {},
   "outputs": [],
   "source": [
    "for index, order in df.iterrows():\n",
    "    if (not validate_order_number(order['ORDER_NUMBER'])):\n",
    "        print(\"error in validating order number\")\n",
    "        print(index, order)\n",
    "    if (not validate_sdp_employee_code(order['SDP_EMPLOYEE_CODE'])):\n",
    "        print(\"error in validating SDP employee code\")\n",
    "        print(index, order)\n",
    "    if (not validate_store_id(order['STORE_ID'])):\n",
    "        print(\"error in validating store id\")\n",
    "        print(index, order)\n",
    "    if(not validate_order_items(order['ORDER_ITEMS'])):\n",
    "        print(\"error in validating order items\")\n",
    "        print(index, order)\n",
    "    if (not validate_DateTime(order['ORDER_RECEIVED_DATE_TIME'])):\n",
    "        print(\"error in validating order received date time\")\n",
    "        print(index, order)\n",
    "        break\n",
    "    if (not validate_DateTime(order['KITCHEN_DISPLAY_TIME'])):\n",
    "        print(\"error in validating order KITCHEN_DISPLAY_TIME\")\n",
    "        print(index, order)\n",
    "    if (not validate_DateTime(order['ORDER_MAKELINE_DATE_TIME'])):\n",
    "        print(\"error in validating ORDER_MAKELINE_DATE_TIME\")\n",
    "        print(index, order)\n",
    "    if (not validate_DateTime(order['ORDER_RECEIVED_AT_FAREYE'])):\n",
    "        print(\"error in validating ORDER_RECEIVED_AT_FAREYE\")\n",
    "        print(index, order)\n",
    "    if (not validate_DateTime(order['DELIVERY_DISPATCH_DATE_TIME'])):\n",
    "        print(\"error in validating DELIVERY_DISPATCH_DATE_TIME\")\n",
    "        print(index, order)\n",
    "    if (not validate_DateTime(order['BIKER_AT_VEHICLE_DATE_TIME'])):\n",
    "        print(\"error in validating BIKER_AT_VEHICLE_DATE_TIME\")\n",
    "        print(index, order)\n",
    "    if (not validate_DateTime(order['REACHED_CUSTOMER_DATE_TIME'])):\n",
    "        print(\"error in validating REACHED_CUSTOMER_DATE_TIME\")\n",
    "        print(index, order)\n",
    "    if (not validate_DateTime(order['DELIVERY_DATE_TIME'])):\n",
    "        print(\"error in validating DELIVERY_DATE_TIME\")\n",
    "        print(index, order)\n",
    "    if (not validate_DateTime(order['BACK_TO_STORE_DATE_TIME'])):\n",
    "        print(\"error in validating BACK_TO_STORE_DATE_TIME\")\n",
    "        print(index, order)"
   ]
  },
  {
   "cell_type": "code",
   "execution_count": 60,
   "id": "b3ff1e83",
   "metadata": {},
   "outputs": [
    {
     "data": {
      "text/plain": [
       "Index(['ID', 'ORDER_DATE', 'ORDER_NUMBER', 'SDP_EMPLOYEE_CODE', 'STORE_ID',\n",
       "       'ORDER_ITEMS', 'ORDER_RECEIVED_DATE_TIME', 'KITCHEN_DISPLAY_TIME',\n",
       "       'ORDER_MAKELINE_DATE_TIME', 'ORDER_RECEIVED_AT_FAREYE',\n",
       "       'DELIVERY_DISPATCH_DATE_TIME', 'BIKER_AT_VEHICLE_DATE_TIME',\n",
       "       'REACHED_CUSTOMER_DATE_TIME', 'DELIVERY_DATE_TIME',\n",
       "       'BACK_TO_STORE_DATE_TIME', 'DELIVERY_LAT', 'DELIVERY_LNG',\n",
       "       'COMPLETION_STATUS', 'IS_MULTIRUN', 'REACHED_GATE_IN_MINS',\n",
       "       'DRIVE_IN_KMS', 'DRIVE_OUT_KMS', 'LAST_MODE_OF_OPERATION',\n",
       "       'VEHICLE_LAT', 'VEHICLE_LNG'],\n",
       "      dtype='object')"
      ]
     },
     "execution_count": 60,
     "metadata": {},
     "output_type": "execute_result"
    }
   ],
   "source": [
    "df.columns"
   ]
  },
  {
   "cell_type": "code",
   "execution_count": 75,
   "id": "2dad78ef",
   "metadata": {},
   "outputs": [],
   "source": [
    "def diff_datetime(dts1, dts2):\n",
    "    d1 = datetime.datetime.now()\n",
    "    d2 = d1\n",
    "    try:\n",
    "        dt1 = datetime.datetime.strptime(dts1, \"%Y-%m-%d %H:%M:%S\")\n",
    "    except:\n",
    "        dt1 = datetime.datetime.strptime(dts1, \"%Y-%m-%d %H:%M:%S.%f\")\n",
    "\n",
    "    try:\n",
    "        dt2 = datetime.datetime.strptime(dts2, \"%Y-%m-%d %H:%M:%S\")\n",
    "    except:\n",
    "        dt2 = datetime.datetime.strptime(dts2, \"%Y-%m-%d %H:%M:%S.%f\")\n",
    "    diff = dt2 - dt1\n",
    "    return diff.total_seconds()\n",
    "    "
   ]
  },
  {
   "cell_type": "code",
   "execution_count": 81,
   "id": "86f45dbc",
   "metadata": {},
   "outputs": [],
   "source": [
    "minA = 1000000\n",
    "minB = 1000000\n",
    "minC = 1000000\n",
    "minD = 1000000\n",
    "minE = 1000000\n",
    "minF = 1000000\n",
    "minG = 1000000\n",
    "maxA, maxB, maxC, maxD, maxE, maxF, maxG = 0, 0, 0, 0, 0, 0, 0\n",
    "for index, order in df.iterrows():\n",
    "    a = diff_datetime(order['ORDER_RECEIVED_DATE_TIME'], order['KITCHEN_DISPLAY_TIME'])\n",
    "    b = diff_datetime(order['ORDER_MAKELINE_DATE_TIME'], order['ORDER_RECEIVED_AT_FAREYE'])\n",
    "    c = diff_datetime(order['ORDER_RECEIVED_AT_FAREYE'], order['DELIVERY_DISPATCH_DATE_TIME'])\n",
    "    d = diff_datetime(order['DELIVERY_DISPATCH_DATE_TIME'], order['BIKER_AT_VEHICLE_DATE_TIME'])\n",
    "    e = diff_datetime(order['BIKER_AT_VEHICLE_DATE_TIME'], order['REACHED_CUSTOMER_DATE_TIME'])\n",
    "    f = diff_datetime(order['REACHED_CUSTOMER_DATE_TIME'], order['DELIVERY_DATE_TIME'])\n",
    "    g = diff_datetime(order['DELIVERY_DATE_TIME'], order['BACK_TO_STORE_DATE_TIME'])\n",
    "    minA = min(a, minA)\n",
    "    maxA = max(a, maxA)\n",
    "    minB = min(b, minB)\n",
    "    maxB = max(b, maxB)\n",
    "    minC = min(c, minC)\n",
    "    maxC = max(c, maxC)\n",
    "    minD = min(d, minD)\n",
    "    maxD = max(d, maxD)\n",
    "    minE = min(e, minE)\n",
    "    maxE = max(e, maxE)\n",
    "    minF = min(f, minF)\n",
    "    maxF = max(f, maxF)\n",
    "    minG = min(g, minG)\n",
    "    maxG = max(g, maxG)"
   ]
  },
  {
   "cell_type": "code",
   "execution_count": 82,
   "id": "fabe5bf5",
   "metadata": {},
   "outputs": [
    {
     "name": "stdout",
     "output_type": "stream",
     "text": [
      "0.0 2.036 4.3 -101.847 -1348.0 60.0 59.0\n",
      "79951.0 3148.0 11209.019 2783.967 3078.0 2971.0 7864.0\n"
     ]
    }
   ],
   "source": [
    "print(minA, minB, minC, minD, minE, minF, minG)\n",
    "print(maxA, maxB, maxC, maxD, maxE, maxF, maxG)"
   ]
  },
  {
   "cell_type": "code",
   "execution_count": 20,
   "id": "6efee3fd",
   "metadata": {},
   "outputs": [
    {
     "name": "stdout",
     "output_type": "stream",
     "text": [
      "0 ID                                                                             2\n",
      "ORDER_DATE                                                            2021-12-17\n",
      "ORDER_NUMBER                                                                 137\n",
      "SDP_EMPLOYEE_CODE                                                900609_dpi63827\n",
      "STORE_ID                                                                dpi63827\n",
      "ORDER_ITEMS                    {\"order_menu\":[{\"menu_description\":\"_SV-Marghe...\n",
      "ORDER_RECEIVED_DATE_TIME                                     2021-12-17 22:30:46\n",
      "KITCHEN_DISPLAY_TIME                                         2021-12-17 22:30:46\n",
      "ORDER_MAKELINE_DATE_TIME                                     2021-12-17 22:32:11\n",
      "ORDER_RECEIVED_AT_FAREYE                                 2021-12-17 22:32:50.447\n",
      "DELIVERY_DISPATCH_DATE_TIME                              2021-12-17 22:42:03.441\n",
      "BIKER_AT_VEHICLE_DATE_TIME                                   2021-12-17 22:44:17\n",
      "REACHED_CUSTOMER_DATE_TIME                                   2021-12-17 22:46:21\n",
      "DELIVERY_DATE_TIME                                           2021-12-17 22:57:01\n",
      "BACK_TO_STORE_DATE_TIME                                      2021-12-17 23:04:26\n",
      "DELIVERY_LAT                                                           23.174282\n",
      "DELIVERY_LNG                                                           77.420568\n",
      "COMPLETION_STATUS                                                      Completed\n",
      "IS_MULTIRUN                                                                    f\n",
      "REACHED_GATE_IN_MINS                                                        15.5\n",
      "DRIVE_IN_KMS                                                                0.92\n",
      "DRIVE_OUT_KMS                                                              0.878\n",
      "LAST_MODE_OF_OPERATION         Virtual Pool, Instore Driver Found, Order Assi...\n",
      "VEHICLE_LAT                                                            23.174578\n",
      "VEHICLE_LNG                                                            77.420742\n",
      "Name: 0, dtype: object\n"
     ]
    }
   ],
   "source": [
    "for index, order in df.iterrows():\n",
    "    print(index, order)\n",
    "    break"
   ]
  },
  {
   "cell_type": "code",
   "execution_count": 84,
   "id": "06a047b0",
   "metadata": {
    "scrolled": false
   },
   "outputs": [
    {
     "name": "stdout",
     "output_type": "stream",
     "text": [
      "Error\n",
      "2021-12-31 21:11:24.26 2021-12-31 20:50:23\n"
     ]
    }
   ],
   "source": [
    "for order in orders:\n",
    "    if(order['DELIVERY_DISPATCH_DATE_TIME'] > order['REACHED_CUSTOMER_DATE_TIME']):\n",
    "        print(\"Error\")\n",
    "        print(order['DELIVERY_DISPATCH_DATE_TIME'], order['REACHED_CUSTOMER_DATE_TIME'])\n",
    "        exit(1)"
   ]
  },
  {
   "cell_type": "code",
   "execution_count": 19,
   "id": "6004f05b",
   "metadata": {},
   "outputs": [],
   "source": [
    "def add_order_items(oi, dic):\n",
    "    res = json.loads(oi)\n",
    "    a = res['order_menu']\n",
    "    for y in a:\n",
    "        l1 = [y['menu_description'], y['quantity'], y['order_line_total'], y['menu_code']]\n",
    "        if y['menu_description'] not in dic:\n",
    "            dic[y['menu_description']] = (y['menu_code'], int(y['quantity']))\n",
    "        else:\n",
    "            dic[y['menu_description']] = (y['menu_code'], dic[y['menu_description']][1]+int(y['quantity']))\n",
    "    return dic"
   ]
  },
  {
   "cell_type": "code",
   "execution_count": 20,
   "id": "8684a903",
   "metadata": {},
   "outputs": [],
   "source": [
    "dic = {}\n",
    "for order in orders:\n",
    "    dic = add_order_items(order['ORDER_ITEMS'], dic)"
   ]
  },
  {
   "cell_type": "code",
   "execution_count": null,
   "id": "367d02c1",
   "metadata": {
    "scrolled": true
   },
   "outputs": [],
   "source": [
    "dic"
   ]
  },
  {
   "cell_type": "code",
   "execution_count": 23,
   "id": "22508728",
   "metadata": {},
   "outputs": [],
   "source": [
    "with open ('order_items.csv', 'w') as f:\n",
    "    f.write(\"ITEM_NAME,ITEM_CODE,TOTAL_COUNT\\n\")\n",
    "    for key in dic.keys():\n",
    "        f.write(\"%s,%s,%s\\n\"%(key, dic[key][0], dic[key][1]))"
   ]
  },
  {
   "cell_type": "code",
   "execution_count": 27,
   "id": "51fddb26",
   "metadata": {},
   "outputs": [],
   "source": [
    "# ML Model\n",
    "import pandas as pd\n",
    "import numpy as np\n",
    "import random\n",
    "import datetime\n",
    "from sklearn.feature_extraction.text import CountVectorizer\n",
    "from sklearn.feature_extraction.text import TfidfVectorizer\n",
    "from sklearn.linear_model import LogisticRegression\n",
    "from sklearn.model_selection import train_test_split\n",
    "\n",
    "from time import time\n",
    "import matplotlib.pyplot as plt\n",
    "\n",
    "from sklearn.model_selection import train_test_split\n",
    "from sklearn.preprocessing import StandardScaler\n",
    "from sklearn.neural_network import MLPClassifier\n",
    "from sklearn.metrics import classification_report, confusion_matrix"
   ]
  },
  {
   "cell_type": "code",
   "execution_count": 28,
   "id": "95279106",
   "metadata": {},
   "outputs": [],
   "source": [
    "def makeFeaturesFromItems(oi):\n",
    "    res = json.loads(oi)\n",
    "    a = res['order_menu']\n",
    "    for y in a:\n",
    "        l1 = [y['menu_description'], y['quantity'], y['order_line_total'], y['menu_code']]\n",
    "        if(y['menu_code'][0:3] == 'BEV' or y['menu_code'][0:3] == 'DIP'):\n",
    "            continue\n",
    "        dic[y['menu_code']] = int(y['quantity'])\n",
    "    return dic"
   ]
  },
  {
   "cell_type": "code",
   "execution_count": 29,
   "id": "05c8244a",
   "metadata": {},
   "outputs": [],
   "source": [
    "def getOneHotEncodingRestaurant(dp):\n",
    "    restaurants = ['dpi63827', 'dpi63919', 'dpi64196','dpi66154','dpi66221','dpi66313','dpi66373','dpi66449','dpi66576','dpi66653','dpi67072']\n",
    "    l = []\n",
    "    for i in range(0, len(restaurants)):\n",
    "        if(restaurants[i] == dp):\n",
    "            l.append(1)\n",
    "        else:\n",
    "            l.append(0)\n",
    "    return l"
   ]
  },
  {
   "cell_type": "code",
   "execution_count": 30,
   "id": "a75be348",
   "metadata": {},
   "outputs": [],
   "source": [
    "def getItemsFeatures(it):\n",
    "    itd = makeFeaturesFromItems(it)\n",
    "    item_types = ['BRD','CAK','DST','NVP','PIZ','SID','TAC','VGP']\n",
    "    l = []\n",
    "    for i in range(0, len(item_types)):\n",
    "        l.append(0)\n",
    "    for key in itd.keys():\n",
    "        for i in range(0, len(item_types)):\n",
    "            if(item_types[i] == key):\n",
    "                l[i] = itd[key]\n",
    "                break\n",
    "    return l"
   ]
  },
  {
   "cell_type": "code",
   "execution_count": 31,
   "id": "b18621fd",
   "metadata": {},
   "outputs": [],
   "source": [
    "total_slots = 24\n",
    "def getTimeIndex(dt):\n",
    "\tcurrent = datetime.datetime(2011, 1, 1)\n",
    "\tt1 = current.time()\n",
    "\tt2 = dt.time()\n",
    "\tfor i in range(0, total_slots):\n",
    "\t\tcurrent = current + datetime.timedelta(minutes = 60)\n",
    "\t\tif(current.time() > t2):\n",
    "\t\t\treturn i\n",
    "\treturn total_slots-1"
   ]
  },
  {
   "cell_type": "code",
   "execution_count": 32,
   "id": "e6c73402",
   "metadata": {},
   "outputs": [],
   "source": [
    "def getOneHotEncodingTimeSlot(ts):\n",
    "    l = []\n",
    "    for i in range(0, 24):\n",
    "        l.append(0)\n",
    "    l[ts] = 1\n",
    "    return l"
   ]
  },
  {
   "cell_type": "code",
   "execution_count": 35,
   "id": "db657dbf",
   "metadata": {},
   "outputs": [],
   "source": [
    "def get_preparation_time(order):\n",
    "\tdt1 = datetime.datetime.strptime(order['ORDER_MAKELINE_DATE_TIME'], \"%Y-%m-%d %H:%M:%S\")\n",
    "\tdt2 = datetime.datetime.strptime(order['KITCHEN_DISPLAY_TIME'], \"%Y-%m-%d %H:%M:%S\")\n",
    "\tdiff = dt1 - dt2\n",
    "\treturn diff.total_seconds()"
   ]
  },
  {
   "cell_type": "code",
   "execution_count": 70,
   "id": "0616821f",
   "metadata": {},
   "outputs": [],
   "source": [
    "# features for Bhopal Model\n",
    "# \n",
    "\n",
    "X = []\n",
    "y = []\n",
    "for order in ordersBhopal:\n",
    "    features = []\n",
    "    features = getItemsFeatures(order['ORDER_ITEMS'])\n",
    "    features = features + getOneHotEncodingRestaurant(order['STORE_ID'])\n",
    "    features = features + getOneHotEncodingTimeSlot(getTimeIndex(datetime.datetime.strptime(order['ORDER_RECEIVED_DATE_TIME'], \"%Y-%m-%d %H:%M:%S\")))\n",
    "    if(get_preparation_time(order) > 21*60):\n",
    "        continue\n",
    "    X.append(features)\n",
    "    y.append(540+get_preparation_time(order))    "
   ]
  },
  {
   "cell_type": "code",
   "execution_count": 71,
   "id": "0b712cb4",
   "metadata": {},
   "outputs": [],
   "source": [
    "X_train, X_test, y_train, y_test = train_test_split(X, y, test_size = 0.20)"
   ]
  },
  {
   "cell_type": "code",
   "execution_count": 72,
   "id": "adaa62b6",
   "metadata": {},
   "outputs": [],
   "source": [
    "mlp = MLPClassifier(hidden_layer_sizes=(25, 20, 10), max_iter=1000)"
   ]
  },
  {
   "cell_type": "code",
   "execution_count": 73,
   "id": "520c09c9",
   "metadata": {},
   "outputs": [
    {
     "data": {
      "text/plain": [
       "MLPClassifier(hidden_layer_sizes=(25, 20, 10), max_iter=1000)"
      ]
     },
     "execution_count": 73,
     "metadata": {},
     "output_type": "execute_result"
    }
   ],
   "source": [
    "mlp.fit(X_train, y_train)"
   ]
  },
  {
   "cell_type": "code",
   "execution_count": 56,
   "id": "17ed32c1",
   "metadata": {},
   "outputs": [],
   "source": [
    "predictions = mlp.predict(X_test)"
   ]
  },
  {
   "cell_type": "code",
   "execution_count": 66,
   "id": "7c087fc2",
   "metadata": {},
   "outputs": [
    {
     "name": "stdout",
     "output_type": "stream",
     "text": [
      "760 3662\n"
     ]
    }
   ],
   "source": [
    "cnt=0\n",
    "for x, y in zip(y_test, predictions):\n",
    "    if(abs(x-y) >= 120):\n",
    "        cnt+=1\n",
    "#         print(x, y, x-y)\n",
    "\n",
    "print(cnt, len(y_test))\n",
    "\n"
   ]
  },
  {
   "cell_type": "code",
   "execution_count": 67,
   "id": "d84c4362",
   "metadata": {},
   "outputs": [
    {
     "data": {
      "text/plain": [
       "0.2075368651010377"
      ]
     },
     "execution_count": 67,
     "metadata": {},
     "output_type": "execute_result"
    }
   ],
   "source": [
    "760/3662"
   ]
  }
 ],
 "metadata": {
  "kernelspec": {
   "display_name": "Python 3 (ipykernel)",
   "language": "python",
   "name": "python3"
  },
  "language_info": {
   "codemirror_mode": {
    "name": "ipython",
    "version": 3
   },
   "file_extension": ".py",
   "mimetype": "text/x-python",
   "name": "python",
   "nbconvert_exporter": "python",
   "pygments_lexer": "ipython3",
   "version": "3.8.10"
  }
 },
 "nbformat": 4,
 "nbformat_minor": 5
}
