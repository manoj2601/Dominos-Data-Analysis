{
 "cells": [
  {
   "cell_type": "code",
   "execution_count": 1,
   "id": "6aebe6fa",
   "metadata": {},
   "outputs": [],
   "source": [
    "city = 'Mumbai'\n",
    "dictLatLong = {}\n",
    "mainFile = f'edgesLatLong_{city}.csv'"
   ]
  },
  {
   "cell_type": "code",
   "execution_count": 2,
   "id": "8848f762",
   "metadata": {},
   "outputs": [],
   "source": [
    "with open(f'/media/root/data/analysis/map/juliaGraph/nodes_{city}.csv', 'r') as f:\n",
    "    header = f.readline()\n",
    "#     print(header)\n",
    "    Lines = f.readlines()\n",
    "    for line in Lines:\n",
    "        a = line.strip().split(',')\n",
    "        dictLatLong[int(a[0])] = (float(\"{:.7f}\".format(float(a[1]))), float(\"{:.7f}\".format(float(a[2]))))"
   ]
  },
  {
   "cell_type": "code",
   "execution_count": 3,
   "id": "c08cef93",
   "metadata": {},
   "outputs": [],
   "source": [
    "finaltable = []"
   ]
  },
  {
   "cell_type": "code",
   "execution_count": 4,
   "id": "fefec3c8",
   "metadata": {},
   "outputs": [],
   "source": [
    "with open(f'/media/root/data/analysis/map/juliaGraph/edges_{city}.csv', 'r') as f:\n",
    "    header = f.readline()\n",
    "    Lines = f.readlines()\n",
    "    for line in Lines:\n",
    "        a = line.split(',')\n",
    "        origin = int(a[0])\n",
    "        dest = int(a[1])\n",
    "        t = []\n",
    "        t.append(dictLatLong[origin][0])\n",
    "        t.append(dictLatLong[origin][1])\n",
    "        t.append(dictLatLong[dest][0])\n",
    "        t.append(dictLatLong[dest][1])\n",
    "        finaltable.append(t)"
   ]
  },
  {
   "cell_type": "code",
   "execution_count": 6,
   "id": "4693e9fe",
   "metadata": {},
   "outputs": [],
   "source": [
    "import csv\n",
    "with open(mainFile, 'w') as csvfile:\n",
    "    csvwriter = csv.writer(csvfile)\n",
    "    csvwriter.writerow(['originLat', 'originLong', 'destLat', 'destLong'])\n",
    "    csvwriter.writerows(finaltable)"
   ]
  },
  {
   "cell_type": "code",
   "execution_count": null,
   "id": "4da2d297",
   "metadata": {},
   "outputs": [],
   "source": []
  }
 ],
 "metadata": {
  "kernelspec": {
   "display_name": "Python 3 (ipykernel)",
   "language": "python",
   "name": "python3"
  },
  "language_info": {
   "codemirror_mode": {
    "name": "ipython",
    "version": 3
   },
   "file_extension": ".py",
   "mimetype": "text/x-python",
   "name": "python",
   "nbconvert_exporter": "python",
   "pygments_lexer": "ipython3",
   "version": "3.8.10"
  }
 },
 "nbformat": 4,
 "nbformat_minor": 5
}
