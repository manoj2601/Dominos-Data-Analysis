{
 "cells": [
  {
   "cell_type": "code",
   "execution_count": 1,
   "id": "cb92d391",
   "metadata": {
    "ExecuteTime": {
     "end_time": "2022-10-28T11:51:34.446608Z",
     "start_time": "2022-10-28T11:51:33.843499Z"
    }
   },
   "outputs": [],
   "source": [
    "import pandas as pd"
   ]
  },
  {
   "cell_type": "code",
   "execution_count": 3,
   "id": "5d2ea552",
   "metadata": {
    "ExecuteTime": {
     "end_time": "2022-10-28T11:52:37.365687Z",
     "start_time": "2022-10-28T11:52:37.360206Z"
    }
   },
   "outputs": [],
   "source": [
    "path = '/media/root/data/analysis/data/'"
   ]
  },
  {
   "cell_type": "code",
   "execution_count": 6,
   "id": "94a54579",
   "metadata": {
    "ExecuteTime": {
     "end_time": "2022-10-28T11:54:32.457276Z",
     "start_time": "2022-10-28T11:54:00.490081Z"
    }
   },
   "outputs": [],
   "source": [
    "df1 = pd.read_excel(f\"{path}Item_wise_data/Bhopal/Item_wise-Bhopal-17-23-Dec-2021.xlsx\")"
   ]
  },
  {
   "cell_type": "code",
   "execution_count": 7,
   "id": "3d90d956",
   "metadata": {
    "ExecuteTime": {
     "end_time": "2022-10-28T11:55:10.400353Z",
     "start_time": "2022-10-28T11:55:09.853520Z"
    }
   },
   "outputs": [],
   "source": [
    "df2 = pd.read_csv(f\"{path}Order_wise_data/Bhopal/Bhopal_Dec.csv\")"
   ]
  },
  {
   "cell_type": "code",
   "execution_count": 11,
   "id": "b161e77a",
   "metadata": {
    "ExecuteTime": {
     "end_time": "2022-10-28T11:57:41.785380Z",
     "start_time": "2022-10-28T11:57:41.772186Z"
    }
   },
   "outputs": [
    {
     "name": "stdout",
     "output_type": "stream",
     "text": [
      "Location_Code\n",
      "storedesc\n",
      "city\n",
      "Order_Date\n",
      "Order_Number\n",
      "Customer_Code\n",
      "Customer_Name\n",
      "Actual_Order_Date\n",
      "Order_Status_Code\n",
      "Order_Type_Code\n",
      "Order_Saved\n",
      "Order_Time\n",
      "Driver_ID\n",
      "Driver_Shift\n",
      "Route_Time\n",
      "Return_Time\n",
      "Kitchen_Display_Time\n",
      "Oven_Time\n",
      "Delayed_Order\n",
      "Order_Taker_ID\n",
      "Order_Taker_Shift\n",
      "Closed_Order_Time\n",
      "Customer_Address_Id\n",
      "Original_Location_Code\n",
      "Order_Id\n",
      "Menu_Code\n",
      "Item Description\n",
      "Quantity\n",
      "Delivery_Time\n"
     ]
    }
   ],
   "source": [
    "for x in df1.columns:\n",
    "    print(x)"
   ]
  },
  {
   "cell_type": "code",
   "execution_count": 10,
   "id": "00b599c9",
   "metadata": {
    "ExecuteTime": {
     "end_time": "2022-10-28T11:56:49.356925Z",
     "start_time": "2022-10-28T11:56:49.325872Z"
    }
   },
   "outputs": [
    {
     "name": "stdout",
     "output_type": "stream",
     "text": [
      "Store_id\n",
      "City_name\n",
      "Order_date\n",
      "Order_number\n",
      "Order_Items\n",
      "Store_lat\n",
      "Store_lng\n",
      "Delivery_lat\n",
      "Delivery_lng\n",
      "Completion_status\n"
     ]
    }
   ],
   "source": [
    "for x in df2.columns:\n",
    "    print(x)"
   ]
  },
  {
   "cell_type": "code",
   "execution_count": null,
   "id": "d3449a6e",
   "metadata": {},
   "outputs": [],
   "source": []
  }
 ],
 "metadata": {
  "kernelspec": {
   "display_name": "Python 3 (ipykernel)",
   "language": "python",
   "name": "python3"
  },
  "language_info": {
   "codemirror_mode": {
    "name": "ipython",
    "version": 3
   },
   "file_extension": ".py",
   "mimetype": "text/x-python",
   "name": "python",
   "nbconvert_exporter": "python",
   "pygments_lexer": "ipython3",
   "version": "3.8.10"
  }
 },
 "nbformat": 4,
 "nbformat_minor": 5
}
