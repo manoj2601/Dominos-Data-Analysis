{
 "cells": [
  {
   "cell_type": "code",
   "execution_count": 1,
   "id": "c2f4650d",
   "metadata": {
    "ExecuteTime": {
     "end_time": "2022-11-02T19:01:37.211135Z",
     "start_time": "2022-11-02T19:01:34.746686Z"
    }
   },
   "outputs": [],
   "source": [
    "# imports\n",
    "import json\n",
    "import pandas as pd\n",
    "import numpy as np\n",
    "import random\n",
    "from datetime import datetime, timedelta\n",
    "import sklearn\n",
    "import math\n",
    "from sklearn.feature_extraction.text import CountVectorizer\n",
    "from sklearn.feature_extraction.text import TfidfVectorizer\n",
    "from sklearn.linear_model import LogisticRegression\n",
    "from sklearn.model_selection import train_test_split\n",
    "\n",
    "from time import time\n",
    "import matplotlib.pyplot as plt\n",
    "\n",
    "from sklearn.model_selection import train_test_split\n",
    "from sklearn.preprocessing import StandardScaler\n",
    "from sklearn.neural_network import MLPClassifier\n",
    "from sklearn.metrics import classification_report, confusion_matrix\n",
    "from sklearn.ensemble import RandomForestRegressor \n",
    "from statistics import mean"
   ]
  },
  {
   "cell_type": "code",
   "execution_count": 2,
   "id": "c83d6951",
   "metadata": {
    "ExecuteTime": {
     "end_time": "2022-11-02T19:01:37.220457Z",
     "start_time": "2022-11-02T19:01:37.215335Z"
    }
   },
   "outputs": [],
   "source": [
    "city = 'Kolkata'\n",
    "PATH = f'/media/root/data/analysis/data/Item_wise_data/{city}/'"
   ]
  },
  {
   "cell_type": "code",
   "execution_count": 3,
   "id": "8cf6c28f",
   "metadata": {
    "ExecuteTime": {
     "end_time": "2022-11-02T19:06:10.512174Z",
     "start_time": "2022-11-02T19:01:37.548217Z"
    }
   },
   "outputs": [],
   "source": [
    "# data read\n",
    "df1 = pd.read_excel(PATH+f'Item_wise-details-{city}-17-23-Dec-2021.xlsx')\n",
    "df2 = pd.read_excel(PATH+f'Item_wise-details-{city}-24-31-Dec-2021.xlsx')"
   ]
  },
  {
   "cell_type": "code",
   "execution_count": 4,
   "id": "f632ce37",
   "metadata": {
    "ExecuteTime": {
     "end_time": "2022-11-02T19:06:11.320098Z",
     "start_time": "2022-11-02T19:06:10.517270Z"
    }
   },
   "outputs": [],
   "source": [
    "# exclude non baking items\n",
    "df = pd.concat([df1, df2])\n",
    "df = df[pd.notna(df['Oven_Time'])]\n",
    "df = df.sort_values(by =['Kitchen_Display_Time', 'Location_Code', 'Order_Number'])"
   ]
  },
  {
   "cell_type": "code",
   "execution_count": 5,
   "id": "90698808",
   "metadata": {
    "ExecuteTime": {
     "end_time": "2022-11-02T19:06:11.604331Z",
     "start_time": "2022-11-02T19:06:11.323972Z"
    }
   },
   "outputs": [
    {
     "name": "stdout",
     "output_type": "stream",
     "text": [
      "(319080, 27)\n",
      "(319080, 7)\n",
      "(319080, 8)\n"
     ]
    },
    {
     "data": {
      "text/html": [
       "<div>\n",
       "<style scoped>\n",
       "    .dataframe tbody tr th:only-of-type {\n",
       "        vertical-align: middle;\n",
       "    }\n",
       "\n",
       "    .dataframe tbody tr th {\n",
       "        vertical-align: top;\n",
       "    }\n",
       "\n",
       "    .dataframe thead th {\n",
       "        text-align: right;\n",
       "    }\n",
       "</style>\n",
       "<table border=\"1\" class=\"dataframe\">\n",
       "  <thead>\n",
       "    <tr style=\"text-align: right;\">\n",
       "      <th></th>\n",
       "      <th>Location_Code</th>\n",
       "      <th>Order_Date</th>\n",
       "      <th>Order_Number</th>\n",
       "      <th>Kitchen_Display_Time</th>\n",
       "      <th>Oven_Time</th>\n",
       "      <th>Menu_Code</th>\n",
       "      <th>Item Description</th>\n",
       "      <th>prep_time</th>\n",
       "    </tr>\n",
       "  </thead>\n",
       "  <tbody>\n",
       "    <tr>\n",
       "      <th>38132</th>\n",
       "      <td>DPI66010</td>\n",
       "      <td>2021-12-17</td>\n",
       "      <td>1</td>\n",
       "      <td>2021-12-17 11:01:02.263</td>\n",
       "      <td>2021-12-17 11:18:02.407</td>\n",
       "      <td>PIZ0129</td>\n",
       "      <td>_PIZ35-Pizza Mania Onion</td>\n",
       "      <td>1440</td>\n",
       "    </tr>\n",
       "    <tr>\n",
       "      <th>42809</th>\n",
       "      <td>DPI66010</td>\n",
       "      <td>2021-12-17</td>\n",
       "      <td>1</td>\n",
       "      <td>2021-12-17 11:01:02.263</td>\n",
       "      <td>2021-12-17 11:18:03.910</td>\n",
       "      <td>PIZ5109</td>\n",
       "      <td>PM Chicken Sausage</td>\n",
       "      <td>1442</td>\n",
       "    </tr>\n",
       "    <tr>\n",
       "      <th>42810</th>\n",
       "      <td>DPI66010</td>\n",
       "      <td>2021-12-17</td>\n",
       "      <td>1</td>\n",
       "      <td>2021-12-17 11:01:02.263</td>\n",
       "      <td>2021-12-17 11:18:04.330</td>\n",
       "      <td>PIZ5109</td>\n",
       "      <td>PM Chicken Sausage</td>\n",
       "      <td>1442</td>\n",
       "    </tr>\n",
       "    <tr>\n",
       "      <th>42811</th>\n",
       "      <td>DPI66010</td>\n",
       "      <td>2021-12-17</td>\n",
       "      <td>1</td>\n",
       "      <td>2021-12-17 11:01:02.263</td>\n",
       "      <td>2021-12-17 11:18:04.723</td>\n",
       "      <td>PIZ5109</td>\n",
       "      <td>PM Chicken Sausage</td>\n",
       "      <td>1442</td>\n",
       "    </tr>\n",
       "    <tr>\n",
       "      <th>42812</th>\n",
       "      <td>DPI66010</td>\n",
       "      <td>2021-12-17</td>\n",
       "      <td>1</td>\n",
       "      <td>2021-12-17 11:01:02.263</td>\n",
       "      <td>2021-12-17 11:18:05.540</td>\n",
       "      <td>PIZ5109</td>\n",
       "      <td>PM Chicken Sausage</td>\n",
       "      <td>1443</td>\n",
       "    </tr>\n",
       "  </tbody>\n",
       "</table>\n",
       "</div>"
      ],
      "text/plain": [
       "      Location_Code Order_Date  Order_Number    Kitchen_Display_Time  \\\n",
       "38132      DPI66010 2021-12-17             1 2021-12-17 11:01:02.263   \n",
       "42809      DPI66010 2021-12-17             1 2021-12-17 11:01:02.263   \n",
       "42810      DPI66010 2021-12-17             1 2021-12-17 11:01:02.263   \n",
       "42811      DPI66010 2021-12-17             1 2021-12-17 11:01:02.263   \n",
       "42812      DPI66010 2021-12-17             1 2021-12-17 11:01:02.263   \n",
       "\n",
       "                    Oven_Time Menu_Code          Item Description  prep_time  \n",
       "38132 2021-12-17 11:18:02.407   PIZ0129  _PIZ35-Pizza Mania Onion       1440  \n",
       "42809 2021-12-17 11:18:03.910   PIZ5109        PM Chicken Sausage       1442  \n",
       "42810 2021-12-17 11:18:04.330   PIZ5109        PM Chicken Sausage       1442  \n",
       "42811 2021-12-17 11:18:04.723   PIZ5109        PM Chicken Sausage       1442  \n",
       "42812 2021-12-17 11:18:05.540   PIZ5109        PM Chicken Sausage       1443  "
      ]
     },
     "execution_count": 5,
     "metadata": {},
     "output_type": "execute_result"
    }
   ],
   "source": [
    "print(df.shape)\n",
    "df = df.drop(['storedesc', 'city', 'Customer_Code', 'Customer_Name', 'Actual_Order_Date', 'Order_Status_Code', 'Order_Type_Code', 'Order_Saved', 'Order_Time', 'Driver_ID', 'Driver_Shift', 'Route_Time', 'Return_Time', 'Delayed_Order', 'Order_Taker_ID','Order_Taker_Shift', 'Closed_Order_Time', 'Customer_Address_Id', 'Original_Location_Code', 'Order_Id',], axis=1)\n",
    "print(df.shape)\n",
    "df['Kitchen_Display_Time'] = pd.to_datetime(df['Kitchen_Display_Time'])\n",
    "df['Oven_Time'] = pd.to_datetime(df['Oven_Time'])\n",
    "df['prep_time'] = df['Oven_Time'] - df['Kitchen_Display_Time']\n",
    "df['prep_time'] = round(df['prep_time']/np.timedelta64(1, 's')).astype(int) + 7*60\n",
    "print(df.shape)\n",
    "df.head()"
   ]
  },
  {
   "cell_type": "code",
   "execution_count": 6,
   "id": "5b1180d6",
   "metadata": {
    "ExecuteTime": {
     "end_time": "2022-11-02T19:06:11.662763Z",
     "start_time": "2022-11-02T19:06:11.609481Z"
    }
   },
   "outputs": [],
   "source": [
    "allMenuCodes = df['Menu_Code'].unique()\n",
    "allStoreIds = df['Location_Code'].unique()"
   ]
  },
  {
   "cell_type": "code",
   "execution_count": 7,
   "id": "9f85e8d0",
   "metadata": {
    "ExecuteTime": {
     "end_time": "2022-11-02T19:06:13.774558Z",
     "start_time": "2022-11-02T19:06:11.666089Z"
    }
   },
   "outputs": [],
   "source": [
    "sampleItem=None\n",
    "for index, item in df.iterrows():\n",
    "    sampleItem = item\n",
    "    break"
   ]
  },
  {
   "cell_type": "code",
   "execution_count": 8,
   "id": "a366b592",
   "metadata": {
    "ExecuteTime": {
     "end_time": "2022-11-02T19:06:13.785946Z",
     "start_time": "2022-11-02T19:06:13.778289Z"
    }
   },
   "outputs": [
    {
     "data": {
      "text/plain": [
       "Location_Code                             DPI66010\n",
       "Order_Date                     2021-12-17 00:00:00\n",
       "Order_Number                                     1\n",
       "Kitchen_Display_Time    2021-12-17 11:01:02.263000\n",
       "Oven_Time               2021-12-17 11:18:02.407000\n",
       "Menu_Code                                  PIZ0129\n",
       "Item Description          _PIZ35-Pizza Mania Onion\n",
       "prep_time                                     1440\n",
       "Name: 38132, dtype: object"
      ]
     },
     "execution_count": 8,
     "metadata": {},
     "output_type": "execute_result"
    }
   ],
   "source": [
    "sampleItem"
   ]
  },
  {
   "cell_type": "code",
   "execution_count": 9,
   "id": "82ae6338",
   "metadata": {
    "ExecuteTime": {
     "end_time": "2022-11-02T19:06:13.803957Z",
     "start_time": "2022-11-02T19:06:13.789562Z"
    }
   },
   "outputs": [],
   "source": [
    "# Feature 1: store id\n",
    "def getOneHotEncodingStore(storeId, stores=allStoreIds):\n",
    "    oneHotEncodingList = []\n",
    "    for i in range(0, len(stores)):\n",
    "        if(stores[i] == storeId):\n",
    "            oneHotEncodingList.append(1)\n",
    "        else:\n",
    "            oneHotEncodingList.append(0)\n",
    "    return oneHotEncodingList\n",
    "\n",
    "# returns the feature store id for an order\n",
    "def getStoreId(item, isOneHotEncodingRequired=False):\n",
    "    if isOneHotEncodingRequired:\n",
    "        return getOneHotEncodingStore(item['Location_Code'], allStoreIds)\n",
    "    else:\n",
    "        return [item['Location_Code']]"
   ]
  },
  {
   "cell_type": "code",
   "execution_count": 10,
   "id": "00c99098",
   "metadata": {
    "ExecuteTime": {
     "end_time": "2022-11-02T19:06:13.820644Z",
     "start_time": "2022-11-02T19:06:13.807819Z"
    }
   },
   "outputs": [
    {
     "name": "stdout",
     "output_type": "stream",
     "text": [
      "['DPI66010']\n",
      "[1, 0, 0, 0, 0, 0, 0, 0, 0, 0, 0, 0, 0, 0, 0, 0, 0, 0, 0, 0, 0, 0, 0, 0, 0, 0, 0, 0, 0, 0, 0, 0, 0, 0, 0, 0, 0, 0, 0, 0, 0, 0, 0, 0, 0, 0, 0, 0, 0, 0, 0, 0]\n"
     ]
    }
   ],
   "source": [
    "print(getStoreId(sampleItem))\n",
    "print(getStoreId(sampleItem, True))"
   ]
  },
  {
   "cell_type": "code",
   "execution_count": 11,
   "id": "efc16550",
   "metadata": {
    "ExecuteTime": {
     "end_time": "2022-11-02T19:06:13.851105Z",
     "start_time": "2022-11-02T19:06:13.824704Z"
    }
   },
   "outputs": [],
   "source": [
    "# Feature 2: Item Type\n",
    "def getOneHotEncodingItem(item, items=allMenuCodes, clubCategoryWise=False):\n",
    "    if clubCategoryWise:\n",
    "        newItemsList = []\n",
    "        newItemsList = [i[0:3] for i in items]\n",
    "        unique_items = list(dict.fromkeys(newItemsList))\n",
    "        return getOneHotEncodingItem(item[0:3], unique_items, False)\n",
    "    \n",
    "    oneHotEncodingList=[]\n",
    "    for i in range(0, len(items)):\n",
    "        if (items[i] == item):\n",
    "            oneHotEncodingList.append(1)\n",
    "        else:\n",
    "            oneHotEncodingList.append(0)\n",
    "    return oneHotEncodingList\n",
    "\n",
    "def getItemType(item, isOneHotEncodingRequired=False, clubCategoryWise=False):\n",
    "    if (not isOneHotEncodingRequired):\n",
    "        if clubCategoryWise:\n",
    "            return [item['Menu_Code'][0:3]]\n",
    "        return [item['Menu_Code']]\n",
    "    else:\n",
    "        return getOneHotEncodingItem(item['Menu_Code'], allMenuCodes, clubCategoryWise)"
   ]
  },
  {
   "cell_type": "code",
   "execution_count": 12,
   "id": "f32862ec",
   "metadata": {
    "ExecuteTime": {
     "end_time": "2022-11-02T19:06:13.868133Z",
     "start_time": "2022-11-02T19:06:13.858372Z"
    }
   },
   "outputs": [
    {
     "name": "stdout",
     "output_type": "stream",
     "text": [
      "['PIZ0129']\n",
      "[1, 0, 0, 0, 0, 0, 0, 0, 0, 0, 0, 0, 0, 0, 0, 0, 0, 0, 0, 0, 0, 0, 0, 0, 0, 0, 0, 0, 0, 0, 0, 0, 0, 0, 0, 0, 0, 0, 0, 0, 0, 0, 0, 0, 0, 0, 0, 0, 0, 0, 0, 0, 0, 0, 0, 0, 0, 0, 0, 0, 0, 0, 0, 0, 0, 0, 0, 0, 0, 0, 0, 0, 0, 0, 0, 0, 0, 0, 0, 0, 0, 0, 0, 0, 0, 0, 0, 0, 0, 0, 0, 0, 0]\n",
      "['PIZ']\n",
      "[1, 0, 0, 0, 0, 0, 0, 0]\n"
     ]
    }
   ],
   "source": [
    "print(getItemType(sampleItem))\n",
    "print(getItemType(sampleItem, True))\n",
    "print(getItemType(sampleItem, clubCategoryWise=True))\n",
    "print(getItemType(sampleItem, True, True))"
   ]
  },
  {
   "cell_type": "code",
   "execution_count": 13,
   "id": "69429a92",
   "metadata": {
    "ExecuteTime": {
     "end_time": "2022-11-02T19:06:13.882001Z",
     "start_time": "2022-11-02T19:06:13.871829Z"
    }
   },
   "outputs": [],
   "source": [
    "# Feature 3: TimeSlot of kitchen display time\n",
    "total_slots = 24\n",
    "def getTimeslot(dt, slots=total_slots):\n",
    "\tcurrent = datetime(2011, 1, 1)\n",
    "\tt1 = current.time()\n",
    "\tt2 = dt.time()\n",
    "\tfor i in range(0, slots):\n",
    "\t\tcurrent = current + timedelta(minutes = 60*24/slots)\n",
    "\t\tif(current.time() > t2):\n",
    "\t\t\treturn i\n",
    "\treturn slots-1\n",
    "\n",
    "def getOneHotEncodingTimeSlot(timeslot):\n",
    "    oneHotEncodingList = []\n",
    "    for i in range(0, 24):\n",
    "        oneHotEncodingList.append(0)\n",
    "    oneHotEncodingList[timeslot] = 1\n",
    "    return oneHotEncodingList\n",
    "\n",
    "def getTimeSlotOfKitchenDisplayTime(item, isOneHotEncodingRequired=False):\n",
    "    timeslot = getTimeslot(item['Kitchen_Display_Time'], 24)\n",
    "    if isOneHotEncodingRequired:\n",
    "        return getOneHotEncodingTimeSlot(timeslot)\n",
    "    else:\n",
    "        return [timeslot]"
   ]
  },
  {
   "cell_type": "code",
   "execution_count": 14,
   "id": "e017e620",
   "metadata": {
    "ExecuteTime": {
     "end_time": "2022-11-02T19:06:13.890126Z",
     "start_time": "2022-11-02T19:06:13.885746Z"
    }
   },
   "outputs": [],
   "source": [
    "def get_preparation_time(item):\n",
    "    return item['prep_time']\n",
    "# \tdiff = item['Oven_Time'] - item['Kitchen_Display_Time']\n",
    "# \treturn diff.total_seconds() + 7*60"
   ]
  },
  {
   "cell_type": "code",
   "execution_count": 15,
   "id": "ab5dcdcb",
   "metadata": {
    "ExecuteTime": {
     "end_time": "2022-11-02T20:27:58.575009Z",
     "start_time": "2022-11-02T19:06:13.894079Z"
    },
    "collapsed": true
   },
   "outputs": [
    {
     "name": "stderr",
     "output_type": "stream",
     "text": [
      "/tmp/ipykernel_103677/2016951000.py:29: SettingWithCopyWarning: \n",
      "A value is trying to be set on a copy of a slice from a DataFrame\n",
      "\n",
      "See the caveats in the documentation: https://pandas.pydata.org/pandas-docs/stable/user_guide/indexing.html#returning-a-view-versus-a-copy\n",
      "  df['pre_prep_time'][index] = 10*60\n",
      "/tmp/ipykernel_103677/2016951000.py:25: SettingWithCopyWarning: \n",
      "A value is trying to be set on a copy of a slice from a DataFrame\n",
      "\n",
      "See the caveats in the documentation: https://pandas.pydata.org/pandas-docs/stable/user_guide/indexing.html#returning-a-view-versus-a-copy\n",
      "  df['pre_prep_time'][index] = 10*60\n",
      "/tmp/ipykernel_103677/2016951000.py:23: SettingWithCopyWarning: \n",
      "A value is trying to be set on a copy of a slice from a DataFrame\n",
      "\n",
      "See the caveats in the documentation: https://pandas.pydata.org/pandas-docs/stable/user_guide/indexing.html#returning-a-view-versus-a-copy\n",
      "  df['pre_prep_time'][index] = pt/count\n"
     ]
    }
   ],
   "source": [
    "#DON\"T RUN IT AGAIN AND AGAIN, it will take much more time\n",
    "# Feature 4 : Count of all baking items of all orders received by the store in the last 20 minutes.\n",
    "\n",
    "# Pre-preparation of data\n",
    "df['pre_prep_time'] = 0\n",
    "\n",
    "StoreWiseItems = {}\n",
    "for index, item in df.iterrows():\n",
    "    store = item['Location_Code']\n",
    "    if store in StoreWiseItems:\n",
    "        dtKitchenDisplay = item['Kitchen_Display_Time']\n",
    "        lastTime = dtKitchenDisplay - timedelta(minutes=60)\n",
    "        count = 0\n",
    "        pt = 0\n",
    "        for i in reversed(range(len(StoreWiseItems[store]))):\n",
    "            if(StoreWiseItems[store][i]['Kitchen_Display_Time'] >= lastTime and StoreWiseItems[store][i]['Kitchen_Display_Time'] < dtKitchenDisplay):\n",
    "                if(StoreWiseItems[store][i]['Menu_Code'] == item['Menu_Code']):\n",
    "                    pt += get_preparation_time(item)\n",
    "                    count+=1\n",
    "            else:\n",
    "                break\n",
    "        if count != 0:\n",
    "            df['pre_prep_time'][index] = pt/count\n",
    "        else:\n",
    "            df['pre_prep_time'][index] = 10*60\n",
    "        StoreWiseItems[store].append(item)\n",
    "    else:\n",
    "        StoreWiseItems[store] = [item]\n",
    "        df['pre_prep_time'][index] = 10*60\n",
    "\n",
    "        \n",
    "storeWiseCumulativeItems = {}\n",
    "StoreWiseDFs = {}\n",
    "for store in StoreWiseItems.keys():\n",
    "    StoreWiseDFs[store] = pd.DataFrame.from_dict(StoreWiseItems[store])\n",
    "    storeWiseCumulativeItems[store] = {}\n",
    "\n",
    "# item count per slot\n",
    "for store in StoreWiseItems.keys():\n",
    "    for item in StoreWiseItems[store]:\n",
    "        date = item['Order_Date']\n",
    "        minuteSlot = getTimeslot(item['Kitchen_Display_Time'], 24*60)\n",
    "        if date in storeWiseCumulativeItems[store]:\n",
    "            storeWiseCumulativeItems[store][date][minuteSlot]+=1\n",
    "        else:\n",
    "            t = []\n",
    "            for i in range(0, 24*60):\n",
    "                t.append(0)\n",
    "            storeWiseCumulativeItems[store][date] = t\n",
    "            storeWiseCumulativeItems[store][date][minuteSlot] = 1\n",
    "            \n",
    "#prefix sum            \n",
    "for store in storeWiseCumulativeItems.keys():\n",
    "    for date in storeWiseCumulativeItems[store].keys():\n",
    "        for i in range(1, 24*60):\n",
    "            storeWiseCumulativeItems[store][date][i] += storeWiseCumulativeItems[store][date][i-1]\n",
    "            \n",
    "            \n",
    "def countPastOrders(item, storeWiseCumulativeItems=storeWiseCumulativeItems, slotTime=30):\n",
    "    minuteSlot = getTimeslot(item['Kitchen_Display_Time'], 24*60)\n",
    "    total = storeWiseCumulativeItems[item['Location_Code']][item['Order_Date']][minuteSlot]\n",
    "    prev = storeWiseCumulativeItems[item['Location_Code']][item['Order_Date']][max(minuteSlot-slotTime, 0)]\n",
    "    return [(total-prev)]"
   ]
  },
  {
   "cell_type": "code",
   "execution_count": 16,
   "id": "deff2369",
   "metadata": {
    "ExecuteTime": {
     "end_time": "2022-11-02T20:27:58.597185Z",
     "start_time": "2022-11-02T20:27:58.581766Z"
    }
   },
   "outputs": [
    {
     "name": "stdout",
     "output_type": "stream",
     "text": [
      "[13]\n",
      "[13]\n"
     ]
    }
   ],
   "source": [
    "print(countPastOrders(sampleItem))\n",
    "print(countPastOrders(sampleItem, slotTime=10))\n",
    "\n",
    "d = datetime.strptime('2021-12-20 00:00:00', '%Y-%m-%d %H:%M:%S')\n",
    "# storeWiseCumulativeItems[sampleItem['Location_Code']][d]"
   ]
  },
  {
   "cell_type": "code",
   "execution_count": 17,
   "id": "16758989",
   "metadata": {
    "ExecuteTime": {
     "end_time": "2022-11-02T20:27:58.644046Z",
     "start_time": "2022-11-02T20:27:58.602589Z"
    }
   },
   "outputs": [
    {
     "data": {
      "text/plain": [
       "list"
      ]
     },
     "execution_count": 17,
     "metadata": {},
     "output_type": "execute_result"
    }
   ],
   "source": [
    "type(StoreWiseItems[sampleItem['Location_Code']])"
   ]
  },
  {
   "cell_type": "code",
   "execution_count": 18,
   "id": "1871e71a",
   "metadata": {
    "ExecuteTime": {
     "end_time": "2022-11-02T20:27:58.674486Z",
     "start_time": "2022-11-02T20:27:58.649380Z"
    }
   },
   "outputs": [],
   "source": [
    "# Feature 5 : Avg prep time of the same item in the same store in last 60 minutes.\n",
    "\n",
    "def getPreviousPrepTime(item, StoreWiseItems=StoreWiseItems, clubCategoryWise=False, timeslot = 60):\n",
    "    dtKitchenDisplay = item['Kitchen_Display_Time']\n",
    "    lastTime = dtKitchenDisplay - timedelta(minutes=timeslot)\n",
    "    \n",
    "    orderedItem = item['Menu_Code']\n",
    "    prepTime = []\n",
    "    if clubCategoryWise:\n",
    "        orderedItem = orderedItem[0:3]\n",
    "    d = StoreWiseDFs[item['Location_Code']]\n",
    "    tdf = d[(d['Menu_Code'].str[0:len(orderedItem)]==orderedItem) \\\n",
    "             & (d['Kitchen_Display_Time'] >= lastTime) & (d['Kitchen_Display_Time'] <= dtKitchenDisplay)]\n",
    "\n",
    "    if(len(tdf)>0):\n",
    "        return [tdf['prep_time'].mean()]\n",
    "    else:\n",
    "        return [10*60]\n",
    "\n",
    "\n",
    "# def getPreviousPrepTime(item, StoreWiseItems=StoreWiseItems, clubCategoryWise=False, timeslot = 60):\n",
    "#     dtKitchenDisplay = item['Kitchen_Display_Time']\n",
    "#     lastTime = dtKitchenDisplay - timedelta(minutes=timeslot)\n",
    "    \n",
    "#     orderedItem = item['Menu_Code']\n",
    "#     prepTime = []\n",
    "#     if clubCategoryWise:\n",
    "#         orderedItem = orderedItem[0:3]\n",
    "#     tdf = df[(df['Location_Code']==item['Location_Code']) & (df['Menu_Code'].str[0:len(orderedItem)]==orderedItem) \\\n",
    "#              & (df['Kitchen_Display_Time'] >= lastTime) & (df['Kitchen_Display_Time'] <= dtKitchenDisplay)]\n",
    "\n",
    "#     if(len(tdf)>0):\n",
    "#         return [tdf['prep_time'].mean()]\n",
    "#     else:\n",
    "#         return [10*60]\n",
    "\n",
    "    \n",
    "# Feature 6 : Length of the queue in the store at that time\n",
    "def lengthQueue(item):\n",
    "    dtKitchenDisplay = item['Kitchen_Display_Time']\n",
    "    d = StoreWiseDFs[item['Location_Code']]\n",
    "    tdf = d[(d['Oven_Time'] >= dtKitchenDisplay) & (d['Kitchen_Display_Time'] <= dtKitchenDisplay)]\n",
    "    \n",
    "#     prepTime = []\n",
    "#     tdf = df[(df['Location_Code']==item['Location_Code']) & \\\n",
    "#              (df['Oven_Time'] >= dtKitchenDisplay) & (df['Kitchen_Display_Time'] <= dtKitchenDisplay)]\n",
    "    return len(tdf.index)\n",
    "#     for order in StoreWiseItems[item['Location_Code']]:\n",
    "#         if(order['Kitchen_Display_Time'] >= lastTime and order['Kitchen_Display_Time'] <= dtKitchenDisplay):\n",
    "#             if (order['Menu_Code'][0:len(orderedItem)] == orderedItem):\n",
    "#                 prepTime.append(get_preparation_time(order))\n",
    "#     if(len(prepTime) > 0):\n",
    "#         return [mean(prepTime)]\n",
    "#     else:\n",
    "#         return [10*60] # POINT OF DISCUSSION, For now taking 10 minutes"
   ]
  },
  {
   "cell_type": "code",
   "execution_count": 19,
   "id": "d888e7ad",
   "metadata": {
    "ExecuteTime": {
     "end_time": "2022-11-02T20:27:58.705796Z",
     "start_time": "2022-11-02T20:27:58.678019Z"
    }
   },
   "outputs": [
    {
     "data": {
      "text/plain": [
       "13"
      ]
     },
     "execution_count": 19,
     "metadata": {},
     "output_type": "execute_result"
    }
   ],
   "source": [
    "getPreviousPrepTime(sampleItem, StoreWiseItems, False, 60)\n",
    "lengthQueue(sampleItem)"
   ]
  },
  {
   "cell_type": "code",
   "execution_count": 20,
   "id": "6fafe112",
   "metadata": {
    "ExecuteTime": {
     "end_time": "2022-11-02T20:27:59.050588Z",
     "start_time": "2022-11-02T20:27:58.710107Z"
    },
    "collapsed": true
   },
   "outputs": [
    {
     "name": "stdout",
     "output_type": "stream",
     "text": [
      "Location_Code                             DPI66010\n",
      "Order_Date                     2021-12-17 00:00:00\n",
      "Order_Number                                     1\n",
      "Kitchen_Display_Time    2021-12-17 11:01:02.263000\n",
      "Oven_Time               2021-12-17 11:18:02.407000\n",
      "Menu_Code                                  PIZ0129\n",
      "Item Description          _PIZ35-Pizza Mania Onion\n",
      "prep_time                                     1440\n",
      "Name: 38132, dtype: object 13\n",
      "[1458]\n"
     ]
    },
    {
     "data": {
      "text/html": [
       "<div>\n",
       "<style scoped>\n",
       "    .dataframe tbody tr th:only-of-type {\n",
       "        vertical-align: middle;\n",
       "    }\n",
       "\n",
       "    .dataframe tbody tr th {\n",
       "        vertical-align: top;\n",
       "    }\n",
       "\n",
       "    .dataframe thead th {\n",
       "        text-align: right;\n",
       "    }\n",
       "</style>\n",
       "<table border=\"1\" class=\"dataframe\">\n",
       "  <thead>\n",
       "    <tr style=\"text-align: right;\">\n",
       "      <th></th>\n",
       "      <th>Location_Code</th>\n",
       "      <th>Order_Date</th>\n",
       "      <th>Order_Number</th>\n",
       "      <th>Kitchen_Display_Time</th>\n",
       "      <th>Oven_Time</th>\n",
       "      <th>Menu_Code</th>\n",
       "      <th>Item Description</th>\n",
       "      <th>prep_time</th>\n",
       "      <th>pre_prep_time</th>\n",
       "    </tr>\n",
       "  </thead>\n",
       "  <tbody>\n",
       "    <tr>\n",
       "      <th>38132</th>\n",
       "      <td>DPI66010</td>\n",
       "      <td>2021-12-17</td>\n",
       "      <td>1</td>\n",
       "      <td>2021-12-17 11:01:02.263</td>\n",
       "      <td>2021-12-17 11:18:02.407</td>\n",
       "      <td>PIZ0129</td>\n",
       "      <td>_PIZ35-Pizza Mania Onion</td>\n",
       "      <td>1440</td>\n",
       "      <td>600</td>\n",
       "    </tr>\n",
       "    <tr>\n",
       "      <th>42809</th>\n",
       "      <td>DPI66010</td>\n",
       "      <td>2021-12-17</td>\n",
       "      <td>1</td>\n",
       "      <td>2021-12-17 11:01:02.263</td>\n",
       "      <td>2021-12-17 11:18:03.910</td>\n",
       "      <td>PIZ5109</td>\n",
       "      <td>PM Chicken Sausage</td>\n",
       "      <td>1442</td>\n",
       "      <td>600</td>\n",
       "    </tr>\n",
       "    <tr>\n",
       "      <th>42810</th>\n",
       "      <td>DPI66010</td>\n",
       "      <td>2021-12-17</td>\n",
       "      <td>1</td>\n",
       "      <td>2021-12-17 11:01:02.263</td>\n",
       "      <td>2021-12-17 11:18:04.330</td>\n",
       "      <td>PIZ5109</td>\n",
       "      <td>PM Chicken Sausage</td>\n",
       "      <td>1442</td>\n",
       "      <td>600</td>\n",
       "    </tr>\n",
       "    <tr>\n",
       "      <th>42811</th>\n",
       "      <td>DPI66010</td>\n",
       "      <td>2021-12-17</td>\n",
       "      <td>1</td>\n",
       "      <td>2021-12-17 11:01:02.263</td>\n",
       "      <td>2021-12-17 11:18:04.723</td>\n",
       "      <td>PIZ5109</td>\n",
       "      <td>PM Chicken Sausage</td>\n",
       "      <td>1442</td>\n",
       "      <td>600</td>\n",
       "    </tr>\n",
       "    <tr>\n",
       "      <th>42812</th>\n",
       "      <td>DPI66010</td>\n",
       "      <td>2021-12-17</td>\n",
       "      <td>1</td>\n",
       "      <td>2021-12-17 11:01:02.263</td>\n",
       "      <td>2021-12-17 11:18:05.540</td>\n",
       "      <td>PIZ5109</td>\n",
       "      <td>PM Chicken Sausage</td>\n",
       "      <td>1443</td>\n",
       "      <td>600</td>\n",
       "    </tr>\n",
       "    <tr>\n",
       "      <th>45522</th>\n",
       "      <td>DPI66010</td>\n",
       "      <td>2021-12-17</td>\n",
       "      <td>1</td>\n",
       "      <td>2021-12-17 11:01:02.263</td>\n",
       "      <td>2021-12-17 11:18:05.847</td>\n",
       "      <td>PIZ5109</td>\n",
       "      <td>PM Chicken Sausage</td>\n",
       "      <td>1444</td>\n",
       "      <td>600</td>\n",
       "    </tr>\n",
       "    <tr>\n",
       "      <th>45523</th>\n",
       "      <td>DPI66010</td>\n",
       "      <td>2021-12-17</td>\n",
       "      <td>1</td>\n",
       "      <td>2021-12-17 11:01:02.263</td>\n",
       "      <td>2021-12-17 11:18:06.503</td>\n",
       "      <td>PIZ5109</td>\n",
       "      <td>PM Chicken Sausage</td>\n",
       "      <td>1444</td>\n",
       "      <td>600</td>\n",
       "    </tr>\n",
       "    <tr>\n",
       "      <th>45524</th>\n",
       "      <td>DPI66010</td>\n",
       "      <td>2021-12-17</td>\n",
       "      <td>1</td>\n",
       "      <td>2021-12-17 11:01:02.263</td>\n",
       "      <td>2021-12-17 11:18:07.000</td>\n",
       "      <td>PIZ5109</td>\n",
       "      <td>PM Chicken Sausage</td>\n",
       "      <td>1445</td>\n",
       "      <td>1960</td>\n",
       "    </tr>\n",
       "    <tr>\n",
       "      <th>45525</th>\n",
       "      <td>DPI66010</td>\n",
       "      <td>2021-12-17</td>\n",
       "      <td>1</td>\n",
       "      <td>2021-12-17 11:01:02.263</td>\n",
       "      <td>2021-12-17 11:18:07.480</td>\n",
       "      <td>PIZ5109</td>\n",
       "      <td>PM Chicken Sausage</td>\n",
       "      <td>1445</td>\n",
       "      <td>994</td>\n",
       "    </tr>\n",
       "    <tr>\n",
       "      <th>45526</th>\n",
       "      <td>DPI66010</td>\n",
       "      <td>2021-12-17</td>\n",
       "      <td>1</td>\n",
       "      <td>2021-12-17 11:01:02.263</td>\n",
       "      <td>2021-12-17 11:18:08.057</td>\n",
       "      <td>PIZ5109</td>\n",
       "      <td>PM Chicken Sausage</td>\n",
       "      <td>1446</td>\n",
       "      <td>600</td>\n",
       "    </tr>\n",
       "    <tr>\n",
       "      <th>70725</th>\n",
       "      <td>DPI66010</td>\n",
       "      <td>2021-12-17</td>\n",
       "      <td>1</td>\n",
       "      <td>2021-12-17 11:01:02.263</td>\n",
       "      <td>2021-12-17 11:19:07.987</td>\n",
       "      <td>PIZ0132</td>\n",
       "      <td>_PIZ55-Pizza Mania Paneer _On</td>\n",
       "      <td>1506</td>\n",
       "      <td>600</td>\n",
       "    </tr>\n",
       "    <tr>\n",
       "      <th>70726</th>\n",
       "      <td>DPI66010</td>\n",
       "      <td>2021-12-17</td>\n",
       "      <td>1</td>\n",
       "      <td>2021-12-17 11:01:02.263</td>\n",
       "      <td>2021-12-17 11:19:08.260</td>\n",
       "      <td>PIZ0132</td>\n",
       "      <td>_PIZ55-Pizza Mania Paneer _On</td>\n",
       "      <td>1506</td>\n",
       "      <td>600</td>\n",
       "    </tr>\n",
       "    <tr>\n",
       "      <th>70727</th>\n",
       "      <td>DPI66010</td>\n",
       "      <td>2021-12-17</td>\n",
       "      <td>1</td>\n",
       "      <td>2021-12-17 11:01:02.263</td>\n",
       "      <td>2021-12-17 11:19:08.597</td>\n",
       "      <td>PIZ0132</td>\n",
       "      <td>_PIZ55-Pizza Mania Paneer _On</td>\n",
       "      <td>1506</td>\n",
       "      <td>600</td>\n",
       "    </tr>\n",
       "  </tbody>\n",
       "</table>\n",
       "</div>"
      ],
      "text/plain": [
       "      Location_Code Order_Date  Order_Number    Kitchen_Display_Time  \\\n",
       "38132      DPI66010 2021-12-17             1 2021-12-17 11:01:02.263   \n",
       "42809      DPI66010 2021-12-17             1 2021-12-17 11:01:02.263   \n",
       "42810      DPI66010 2021-12-17             1 2021-12-17 11:01:02.263   \n",
       "42811      DPI66010 2021-12-17             1 2021-12-17 11:01:02.263   \n",
       "42812      DPI66010 2021-12-17             1 2021-12-17 11:01:02.263   \n",
       "45522      DPI66010 2021-12-17             1 2021-12-17 11:01:02.263   \n",
       "45523      DPI66010 2021-12-17             1 2021-12-17 11:01:02.263   \n",
       "45524      DPI66010 2021-12-17             1 2021-12-17 11:01:02.263   \n",
       "45525      DPI66010 2021-12-17             1 2021-12-17 11:01:02.263   \n",
       "45526      DPI66010 2021-12-17             1 2021-12-17 11:01:02.263   \n",
       "70725      DPI66010 2021-12-17             1 2021-12-17 11:01:02.263   \n",
       "70726      DPI66010 2021-12-17             1 2021-12-17 11:01:02.263   \n",
       "70727      DPI66010 2021-12-17             1 2021-12-17 11:01:02.263   \n",
       "\n",
       "                    Oven_Time Menu_Code               Item Description  \\\n",
       "38132 2021-12-17 11:18:02.407   PIZ0129       _PIZ35-Pizza Mania Onion   \n",
       "42809 2021-12-17 11:18:03.910   PIZ5109             PM Chicken Sausage   \n",
       "42810 2021-12-17 11:18:04.330   PIZ5109             PM Chicken Sausage   \n",
       "42811 2021-12-17 11:18:04.723   PIZ5109             PM Chicken Sausage   \n",
       "42812 2021-12-17 11:18:05.540   PIZ5109             PM Chicken Sausage   \n",
       "45522 2021-12-17 11:18:05.847   PIZ5109             PM Chicken Sausage   \n",
       "45523 2021-12-17 11:18:06.503   PIZ5109             PM Chicken Sausage   \n",
       "45524 2021-12-17 11:18:07.000   PIZ5109             PM Chicken Sausage   \n",
       "45525 2021-12-17 11:18:07.480   PIZ5109             PM Chicken Sausage   \n",
       "45526 2021-12-17 11:18:08.057   PIZ5109             PM Chicken Sausage   \n",
       "70725 2021-12-17 11:19:07.987   PIZ0132  _PIZ55-Pizza Mania Paneer _On   \n",
       "70726 2021-12-17 11:19:08.260   PIZ0132  _PIZ55-Pizza Mania Paneer _On   \n",
       "70727 2021-12-17 11:19:08.597   PIZ0132  _PIZ55-Pizza Mania Paneer _On   \n",
       "\n",
       "       prep_time  pre_prep_time  \n",
       "38132       1440            600  \n",
       "42809       1442            600  \n",
       "42810       1442            600  \n",
       "42811       1442            600  \n",
       "42812       1443            600  \n",
       "45522       1444            600  \n",
       "45523       1444            600  \n",
       "45524       1445           1960  \n",
       "45525       1445            994  \n",
       "45526       1446            600  \n",
       "70725       1506            600  \n",
       "70726       1506            600  \n",
       "70727       1506            600  "
      ]
     },
     "execution_count": 20,
     "metadata": {},
     "output_type": "execute_result"
    }
   ],
   "source": [
    "item = sampleItem\n",
    "orderedItem = item['Menu_Code']\n",
    "orderedItem = orderedItem[0:3]\n",
    "dtKitchenDisplay = item['Kitchen_Display_Time']\n",
    "lastTime = dtKitchenDisplay - timedelta(minutes=60)\n",
    "tdf = df[(df['Location_Code']==item['Location_Code']) & (df['Menu_Code'].str[0:len(orderedItem)]==orderedItem) \\\n",
    "         & (df['Kitchen_Display_Time'] >= lastTime) & (df['Kitchen_Display_Time'] <= dtKitchenDisplay)]\n",
    "print(item, len(tdf)) \n",
    "if(len(tdf)>0):\n",
    "    print([round(tdf['prep_time'].mean())])\n",
    "tdf"
   ]
  },
  {
   "cell_type": "code",
   "execution_count": 21,
   "id": "66e020fb",
   "metadata": {
    "ExecuteTime": {
     "end_time": "2022-11-02T20:27:59.062391Z",
     "start_time": "2022-11-02T20:27:59.054764Z"
    }
   },
   "outputs": [],
   "source": [
    "# global variables\n",
    "\n",
    "isThresholdForPreparationTime = False\n",
    "thresholdForPreparationTime = 30 # minutes for preparation time (threshold)\n",
    "\n",
    "clubItemsCategoryWise = False\n",
    "\n",
    "splitMethod = 'random'\n",
    "slotTimeForPastOrders = 20 # minutes\n",
    "\n",
    "model = 'RF'\n",
    "isOneHotEncodingRequired = True\n",
    "isNormalizationRequired = True"
   ]
  },
  {
   "cell_type": "code",
   "execution_count": 22,
   "id": "fb107226",
   "metadata": {
    "ExecuteTime": {
     "end_time": "2022-11-02T20:27:59.075378Z",
     "start_time": "2022-11-02T20:27:59.066189Z"
    }
   },
   "outputs": [
    {
     "data": {
      "text/plain": [
       "Location_Code                             DPI66010\n",
       "Order_Date                     2021-12-17 00:00:00\n",
       "Order_Number                                     1\n",
       "Kitchen_Display_Time    2021-12-17 11:01:02.263000\n",
       "Oven_Time               2021-12-17 11:18:02.407000\n",
       "Menu_Code                                  PIZ0129\n",
       "Item Description          _PIZ35-Pizza Mania Onion\n",
       "prep_time                                     1440\n",
       "Name: 38132, dtype: object"
      ]
     },
     "execution_count": 22,
     "metadata": {},
     "output_type": "execute_result"
    }
   ],
   "source": [
    "sampleItem"
   ]
  },
  {
   "cell_type": "code",
   "execution_count": 24,
   "id": "d947bcd9",
   "metadata": {
    "ExecuteTime": {
     "end_time": "2022-11-02T20:28:04.119935Z",
     "start_time": "2022-11-02T20:28:00.559004Z"
    },
    "collapsed": true
   },
   "outputs": [
    {
     "name": "stdout",
     "output_type": "stream",
     "text": [
      "52 [1, 0, 0, 0, 0, 0, 0, 0, 0, 0, 0, 0, 0, 0, 0, 0, 0, 0, 0, 0, 0, 0, 0, 0, 0, 0, 0, 0, 0, 0, 0, 0, 0, 0, 0, 0, 0, 0, 0, 0, 0, 0, 0, 0, 0, 0, 0, 0, 0, 0, 0, 0]\n",
      "145 [1, 0, 0, 0, 0, 0, 0, 0, 0, 0, 0, 0, 0, 0, 0, 0, 0, 0, 0, 0, 0, 0, 0, 0, 0, 0, 0, 0, 0, 0, 0, 0, 0, 0, 0, 0, 0, 0, 0, 0, 0, 0, 0, 0, 0, 0, 0, 0, 0, 0, 0, 0, 1, 0, 0, 0, 0, 0, 0, 0, 0, 0, 0, 0, 0, 0, 0, 0, 0, 0, 0, 0, 0, 0, 0, 0, 0, 0, 0, 0, 0, 0, 0, 0, 0, 0, 0, 0, 0, 0, 0, 0, 0, 0, 0, 0, 0, 0, 0, 0, 0, 0, 0, 0, 0, 0, 0, 0, 0, 0, 0, 0, 0, 0, 0, 0, 0, 0, 0, 0, 0, 0, 0, 0, 0, 0, 0, 0, 0, 0, 0, 0, 0, 0, 0, 0, 0, 0, 0, 0, 0, 0, 0, 0, 0]\n",
      "169 [1, 0, 0, 0, 0, 0, 0, 0, 0, 0, 0, 0, 0, 0, 0, 0, 0, 0, 0, 0, 0, 0, 0, 0, 0, 0, 0, 0, 0, 0, 0, 0, 0, 0, 0, 0, 0, 0, 0, 0, 0, 0, 0, 0, 0, 0, 0, 0, 0, 0, 0, 0, 1, 0, 0, 0, 0, 0, 0, 0, 0, 0, 0, 0, 0, 0, 0, 0, 0, 0, 0, 0, 0, 0, 0, 0, 0, 0, 0, 0, 0, 0, 0, 0, 0, 0, 0, 0, 0, 0, 0, 0, 0, 0, 0, 0, 0, 0, 0, 0, 0, 0, 0, 0, 0, 0, 0, 0, 0, 0, 0, 0, 0, 0, 0, 0, 0, 0, 0, 0, 0, 0, 0, 0, 0, 0, 0, 0, 0, 0, 0, 0, 0, 0, 0, 0, 0, 0, 0, 0, 0, 0, 0, 0, 0, 0, 0, 0, 0, 0, 0, 0, 0, 0, 0, 0, 1, 0, 0, 0, 0, 0, 0, 0, 0, 0, 0, 0, 0]\n",
      "170 [1, 0, 0, 0, 0, 0, 0, 0, 0, 0, 0, 0, 0, 0, 0, 0, 0, 0, 0, 0, 0, 0, 0, 0, 0, 0, 0, 0, 0, 0, 0, 0, 0, 0, 0, 0, 0, 0, 0, 0, 0, 0, 0, 0, 0, 0, 0, 0, 0, 0, 0, 0, 1, 0, 0, 0, 0, 0, 0, 0, 0, 0, 0, 0, 0, 0, 0, 0, 0, 0, 0, 0, 0, 0, 0, 0, 0, 0, 0, 0, 0, 0, 0, 0, 0, 0, 0, 0, 0, 0, 0, 0, 0, 0, 0, 0, 0, 0, 0, 0, 0, 0, 0, 0, 0, 0, 0, 0, 0, 0, 0, 0, 0, 0, 0, 0, 0, 0, 0, 0, 0, 0, 0, 0, 0, 0, 0, 0, 0, 0, 0, 0, 0, 0, 0, 0, 0, 0, 0, 0, 0, 0, 0, 0, 0, 0, 0, 0, 0, 0, 0, 0, 0, 0, 0, 0, 1, 0, 0, 0, 0, 0, 0, 0, 0, 0, 0, 0, 0, 13]\n",
      "171 [1, 0, 0, 0, 0, 0, 0, 0, 0, 0, 0, 0, 0, 0, 0, 0, 0, 0, 0, 0, 0, 0, 0, 0, 0, 0, 0, 0, 0, 0, 0, 0, 0, 0, 0, 0, 0, 0, 0, 0, 0, 0, 0, 0, 0, 0, 0, 0, 0, 0, 0, 0, 1, 0, 0, 0, 0, 0, 0, 0, 0, 0, 0, 0, 0, 0, 0, 0, 0, 0, 0, 0, 0, 0, 0, 0, 0, 0, 0, 0, 0, 0, 0, 0, 0, 0, 0, 0, 0, 0, 0, 0, 0, 0, 0, 0, 0, 0, 0, 0, 0, 0, 0, 0, 0, 0, 0, 0, 0, 0, 0, 0, 0, 0, 0, 0, 0, 0, 0, 0, 0, 0, 0, 0, 0, 0, 0, 0, 0, 0, 0, 0, 0, 0, 0, 0, 0, 0, 0, 0, 0, 0, 0, 0, 0, 0, 0, 0, 0, 0, 0, 0, 0, 0, 0, 0, 1, 0, 0, 0, 0, 0, 0, 0, 0, 0, 0, 0, 0, 13, 1440.0]\n",
      "172 [1, 0, 0, 0, 0, 0, 0, 0, 0, 0, 0, 0, 0, 0, 0, 0, 0, 0, 0, 0, 0, 0, 0, 0, 0, 0, 0, 0, 0, 0, 0, 0, 0, 0, 0, 0, 0, 0, 0, 0, 0, 0, 0, 0, 0, 0, 0, 0, 0, 0, 0, 0, 1, 0, 0, 0, 0, 0, 0, 0, 0, 0, 0, 0, 0, 0, 0, 0, 0, 0, 0, 0, 0, 0, 0, 0, 0, 0, 0, 0, 0, 0, 0, 0, 0, 0, 0, 0, 0, 0, 0, 0, 0, 0, 0, 0, 0, 0, 0, 0, 0, 0, 0, 0, 0, 0, 0, 0, 0, 0, 0, 0, 0, 0, 0, 0, 0, 0, 0, 0, 0, 0, 0, 0, 0, 0, 0, 0, 0, 0, 0, 0, 0, 0, 0, 0, 0, 0, 0, 0, 0, 0, 0, 0, 0, 0, 0, 0, 0, 0, 0, 0, 0, 0, 0, 0, 1, 0, 0, 0, 0, 0, 0, 0, 0, 0, 0, 0, 0, 13, 1440.0, 13]\n",
      "0.00015997886657714844 9.870529174804688e-05 8.487701416015625e-05 0.00098419189453125 0.005852937698364258 0.002248525619506836 3.314018249511719e-05\n"
     ]
    }
   ],
   "source": [
    "X_train, X_test, y_train, y_test = [], [], [], []\n",
    "X = []\n",
    "y = []\n",
    "import time\n",
    "t1 = t2 = t3 = t4 = t5 = t6 = t7 = 0\n",
    "i = 0\n",
    "for index, item in df.iterrows():\n",
    "    i+=1\n",
    "    if(i%1000==0): print(t1, t2, t3, t4, t5, t6, t7)\n",
    "    if(isThresholdForPreparationTime and (get_preparation_time(item) > thresholdForPreparationTime*60)): #removing inputs \n",
    "        continue\n",
    "        \n",
    "    features = []\n",
    "    t = time.time()\n",
    "    features = features + getStoreId(item, isOneHotEncodingRequired)\n",
    "    t1 += time.time() - t\n",
    "    print(len(features), features)\n",
    "    \n",
    "    t = time.time()\n",
    "    features = features + getItemType(item, isOneHotEncodingRequired=isOneHotEncodingRequired, clubCategoryWise=clubItemsCategoryWise)\n",
    "    t2 += time.time() - t\n",
    "    print(len(features), features)\n",
    "\n",
    "    t = time.time()    \n",
    "    features = features + getTimeSlotOfKitchenDisplayTime(item, isOneHotEncodingRequired=isOneHotEncodingRequired)\n",
    "    t3 += time.time() - t\n",
    "    print(len(features), features)\n",
    "\n",
    "    t = time.time()\n",
    "    features = features + countPastOrders(item, storeWiseCumulativeItems, slotTimeForPastOrders) \n",
    "    t4 += time.time() - t\n",
    "    print(len(features), features)\n",
    "\n",
    "    t = time.time()\n",
    "    features = features + getPreviousPrepTime(item, clubCategoryWise=clubItemsCategoryWise, timeslot = 60)  \n",
    "    t5 += time.time() - t\n",
    "    print(len(features), features)\n",
    "\n",
    "    t = time.time()        \n",
    "    features = features + [lengthQueue(item)]\n",
    "    t6 += time.time() - t\n",
    "    print(len(features), features)\n",
    "\n",
    "    t = time.time()\n",
    "    X.append(features)\n",
    "    y.append(get_preparation_time(item))\n",
    "    t7 += time.time() - t\n",
    "    break\n",
    "\n",
    "#     if((order['ORDER_DATE'] >='2021-12-20' and order['ORDER_DATE'] <= '2021-12-24') or (order['ORDER_DATE'] >='2021-12-27' and order['ORDER_DATE'] <= '2021-12-29')):\n",
    "#         X_train.append(features)\n",
    "#         y_train.append(420+round(get_preparation_time(order)))\n",
    "#     elif(order['ORDER_DATE'] =='2021-12-30'):\n",
    "#         X_test.append(features)\n",
    "#         y_test.append(420+round(get_preparation_time(order)))\n",
    "print(t1, t2, t3, t4, t5, t6, t7)"
   ]
  },
  {
   "cell_type": "code",
   "execution_count": 28,
   "id": "2fe17c78",
   "metadata": {
    "ExecuteTime": {
     "end_time": "2022-11-03T08:00:45.486309Z",
     "start_time": "2022-11-03T08:00:45.474780Z"
    }
   },
   "outputs": [
    {
     "name": "stdout",
     "output_type": "stream",
     "text": [
      "52\n",
      "93\n",
      "24 24\n"
     ]
    }
   ],
   "source": [
    "print(len(allStoreIds))\n",
    "print(len(allMenuCodes))\n",
    "print(total_slots, 24)\n"
   ]
  },
  {
   "cell_type": "code",
   "execution_count": 27,
   "id": "fd3e4965",
   "metadata": {
    "ExecuteTime": {
     "end_time": "2022-11-02T22:58:31.934084Z",
     "start_time": "2022-11-02T22:14:14.806081Z"
    },
    "collapsed": true
   },
   "outputs": [
    {
     "name": "stdout",
     "output_type": "stream",
     "text": [
      "0.05244946479797363 0.05461597442626953 0.061420440673828125 1.145925521850586 5.015494346618652 1.4338629245758057 0.0292203426361084\n",
      "0.10144615173339844 0.10643935203552246 0.12420082092285156 2.389873743057251 9.91579794883728 2.86791729927063 0.05788612365722656\n",
      "0.1503918170928955 0.15810918807983398 0.18761038780212402 3.711069107055664 14.783612489700317 4.287933588027954 0.08632254600524902\n",
      "0.19904756546020508 0.20922064781188965 0.2522125244140625 5.122316122055054 19.565389156341553 5.7004618644714355 0.11414766311645508\n",
      "0.24909234046936035 0.2612721920013428 0.319333553314209 6.622399568557739 24.480414152145386 7.141343832015991 0.14287662506103516\n",
      "0.2992079257965088 0.31346583366394043 0.3877882957458496 8.150545835494995 29.328891277313232 8.581228733062744 0.17179298400878906\n",
      "0.3497166633605957 0.36590099334716797 0.4570930004119873 9.744909048080444 34.21784329414368 10.039466619491577 0.20087003707885742\n",
      "0.3994147777557373 0.41752099990844727 0.5266804695129395 11.351936101913452 39.00507402420044 11.500727653503418 0.22997570037841797\n",
      "0.4486997127532959 0.46895575523376465 0.5968866348266602 13.010129690170288 43.89411377906799 12.954458713531494 0.2588925361633301\n",
      "0.49938035011291504 0.5221168994903564 0.669696569442749 14.73310399055481 48.810285806655884 14.407567977905273 0.28798890113830566\n",
      "0.5489449501037598 0.5735728740692139 0.7407453060150146 16.46748685836792 53.699997901916504 15.859750747680664 0.3169074058532715\n",
      "0.5993742942810059 0.6256198883056641 0.8139324188232422 18.252742290496826 58.63364362716675 17.3153715133667 0.34613633155822754\n",
      "0.6491382122039795 0.6774277687072754 0.8857457637786865 20.03835415840149 63.51341533660889 18.7577702999115 0.3748970031738281\n",
      "0.6994256973266602 0.7291431427001953 0.9581787586212158 21.851712226867676 68.44981837272644 20.19324040412903 0.4039945602416992\n",
      "0.7505881786346436 0.7829296588897705 1.0318331718444824 23.691271781921387 73.37142300605774 21.637489795684814 0.43273234367370605\n",
      "0.8015913963317871 0.8357067108154297 1.1075479984283447 25.614420652389526 78.35725688934326 23.095239400863647 0.4618842601776123\n",
      "0.8517494201660156 0.8874537944793701 1.182433843612671 27.546695232391357 83.32055974006653 24.529285669326782 0.4909350872039795\n",
      "0.9014058113098145 0.9386489391326904 1.2424941062927246 28.65824866294861 88.27699089050293 25.98129630088806 0.519601583480835\n",
      "0.9630308151245117 0.9892065525054932 1.3037989139556885 29.83345055580139 93.21236252784729 27.40854263305664 0.5481765270233154\n",
      "1.0158600807189941 1.044433832168579 1.3693735599517822 31.114612340927124 98.22006893157959 28.86625337600708 0.578324556350708\n",
      "1.0673103332519531 1.0981874465942383 1.4362928867340088 32.47765779495239 103.17531967163086 30.276745796203613 0.6073312759399414\n",
      "1.1201996803283691 1.1527431011199951 1.5048298835754395 33.90782141685486 108.15290975570679 31.7167649269104 0.6368358135223389\n",
      "1.1746528148651123 1.2093331813812256 1.5758185386657715 35.41651701927185 113.29722881317139 33.19038152694702 0.6673712730407715\n",
      "1.226860761642456 1.263519287109375 1.6469790935516357 36.94900631904602 118.14956092834473 34.6144802570343 0.6968550682067871\n",
      "1.2769510746002197 1.315441608428955 1.7156529426574707 38.49502110481262 122.92848372459412 36.0093629360199 0.7252109050750732\n",
      "1.3294150829315186 1.370023250579834 1.7890114784240723 40.12702035903931 127.86852550506592 37.44857144355774 0.7548196315765381\n",
      "1.382162094116211 1.4241557121276855 1.860454797744751 41.75213432312012 132.76438117027283 38.89312434196472 0.7841472625732422\n",
      "1.435725212097168 1.4795126914978027 1.9331097602844238 43.4431312084198 137.69602298736572 40.342775106430054 0.8136627674102783\n",
      "1.4871201515197754 1.5331182479858398 2.0057485103607178 45.13675498962402 142.5567512512207 41.74193263053894 0.8426415920257568\n",
      "1.5406262874603271 1.58799147605896 2.0799410343170166 46.89012145996094 147.49049854278564 43.166194677352905 0.8718316555023193\n",
      "1.5918118953704834 1.6410462856292725 2.1522841453552246 48.63768434524536 152.35734820365906 44.56460356712341 0.9001569747924805\n",
      "1.6404342651367188 1.6913986206054688 2.223337173461914 50.39885950088501 157.16851782798767 45.96026635169983 0.9284687042236328\n",
      "1.6896557807922363 1.7424249649047852 2.2961103916168213 52.17696785926819 162.08385801315308 47.40036869049072 0.9576427936553955\n",
      "1.7407207489013672 1.7955341339111328 2.369502067565918 54.0000786781311 166.99865698814392 48.84941554069519 0.9871034622192383\n",
      "1.7932097911834717 1.8488926887512207 2.4446866512298584 55.847336769104004 171.94930911064148 50.27124571800232 1.0168867111206055\n",
      "1.8441710472106934 1.9011504650115967 2.519214153289795 57.72420382499695 176.8459255695343 51.692774295806885 1.0467400550842285\n",
      "1.8959901332855225 1.9541089534759521 2.5946290493011475 59.635220527648926 181.8073422908783 53.12815022468567 1.0760831832885742\n",
      "1.9482042789459229 2.007654905319214 2.67224383354187 61.65760135650635 186.9093198776245 54.53549385070801 1.1050183773040771\n",
      "1.9972500801086426 2.058295249938965 2.72683048248291 62.51328730583191 191.84144139289856 55.912033796310425 1.133213996887207\n",
      "2.0477752685546875 2.1103715896606445 2.7891619205474854 63.69966697692871 196.6643693447113 57.3111732006073 1.1620814800262451\n",
      "2.097775459289551 2.1621487140655518 2.8534512519836426 65.00189566612244 201.59267854690552 58.7350287437439 1.191706657409668\n",
      "2.1476924419403076 2.214195728302002 2.9196765422821045 66.3923077583313 206.5022168159485 60.18781042098999 1.2206134796142578\n",
      "2.196748733520508 2.2649481296539307 2.9858310222625732 67.8293969631195 211.30013871192932 61.60249900817871 1.2493410110473633\n",
      "2.2445130348205566 2.3149824142456055 3.0529048442840576 69.36603307723999 216.1571819782257 62.98788523674011 1.276996374130249\n",
      "2.29231333732605 2.3648178577423096 3.1198890209198 70.90908789634705 220.89730167388916 64.37150931358337 1.3044342994689941\n",
      "2.3400204181671143 2.414231061935425 3.1874067783355713 72.49660968780518 225.67762422561646 65.75919103622437 1.333425521850586\n",
      "2.3906757831573486 2.466931104660034 3.2573626041412354 74.1425576210022 230.63139033317566 67.18838763237 1.3619365692138672\n",
      "2.4381015300750732 2.516756534576416 3.3230361938476562 75.72694182395935 235.32205057144165 68.58460474014282 1.3899567127227783\n",
      "2.4854772090911865 2.566415309906006 3.3887743949890137 77.3280553817749 240.07631468772888 69.98535442352295 1.4177792072296143\n",
      "2.5349462032318115 2.6179404258728027 3.4590060710906982 79.00592303276062 245.00722479820251 71.4266586303711 1.4461376667022705\n",
      "2.583055019378662 2.66809344291687 3.526690721511841 80.66376972198486 249.8310375213623 72.8385500907898 1.4757928848266602\n",
      "2.633849859237671 2.721163749694824 3.5984413623809814 82.40224027633667 254.87805104255676 74.29615879058838 1.504647970199585\n",
      "2.685856342315674 2.774897813796997 3.672194480895996 84.1509759426117 259.84574913978577 75.72402215003967 1.5343842506408691\n",
      "2.7386696338653564 2.829711437225342 3.747652769088745 85.92052626609802 264.8114504814148 77.15335130691528 1.564579725265503\n",
      "2.7917187213897705 2.8844568729400635 3.8241147994995117 87.73380208015442 269.82989597320557 78.6155276298523 1.5949888229370117\n",
      "2.8443174362182617 2.938323736190796 3.8986759185791016 89.53646779060364 274.8336443901062 80.05163431167603 1.6246654987335205\n",
      "2.8971481323242188 2.9933981895446777 3.974684000015259 91.39939260482788 279.83935713768005 81.45925641059875 1.6534674167633057\n",
      "2.950687885284424 3.0486910343170166 4.052956581115723 93.29860711097717 284.9373345375061 82.89058876037598 1.6847481727600098\n",
      "2.998699903488159 3.099259614944458 4.124164581298828 95.14118909835815 289.77781534194946 84.2855293750763 1.7124664783477783\n",
      "3.0480287075042725 3.1508665084838867 4.198211908340454 97.08108925819397 294.69671988487244 85.68383646011353 1.7406885623931885\n",
      "3.1009738445281982 3.2054617404937744 4.2732954025268555 98.93135619163513 299.8503258228302 87.1005117893219 1.769923448562622\n",
      "3.1494038105010986 3.255502700805664 4.329532146453857 99.90367650985718 304.60570335388184 88.46021890640259 1.7978332042694092\n",
      "3.197118043899536 3.305086374282837 4.39009165763855 101.10281085968018 309.29859352111816 89.82362461090088 1.8254494667053223\n",
      "3.2471487522125244 3.357370615005493 4.454863786697388 102.44412755966187 314.0960006713867 91.23222589492798 1.8543939590454102\n"
     ]
    },
    {
     "name": "stdout",
     "output_type": "stream",
     "text": [
      "3.2952330112457275 3.407499313354492 4.51931357383728 103.84864568710327 318.9193949699402 92.64584612846375 1.885000467300415\n",
      "3.3434410095214844 3.4580562114715576 4.585775136947632 105.33879494667053 323.6831851005554 94.0554850101471 1.9135923385620117\n",
      "3.3922762870788574 3.507960796356201 4.651739597320557 106.87297224998474 328.480938911438 95.4678282737732 1.9421675205230713\n",
      "3.4432785511016846 3.561075448989868 4.723073720932007 108.50687575340271 333.3536307811737 96.91135621070862 1.971435546875\n",
      "3.493802547454834 3.6133596897125244 4.793494462966919 110.16357755661011 338.12363505363464 98.3028998374939 1.9998185634613037\n",
      "3.545090913772583 3.6659631729125977 4.864940881729126 111.8401460647583 343.0073926448822 99.68921661376953 2.0285558700561523\n",
      "3.5957603454589844 3.7190418243408203 4.936419725418091 113.55307865142822 347.8593969345093 101.0981776714325 2.0578792095184326\n",
      "3.6487953662872314 3.7736799716949463 5.01270866394043 115.36433482170105 352.84419417381287 102.5264527797699 2.0877301692962646\n",
      "3.70231556892395 3.8292465209960938 5.0891523361206055 117.22420859336853 357.8886547088623 103.98582077026367 2.1209867000579834\n",
      "3.7539517879486084 3.883657932281494 5.165802717208862 119.12717461585999 362.9013216495514 105.40825462341309 2.1498146057128906\n",
      "3.8076491355895996 3.9392213821411133 5.243554592132568 121.06009650230408 367.95276522636414 106.87105822563171 2.1802237033843994\n",
      "3.861239194869995 3.9943807125091553 5.312833547592163 122.55768656730652 373.19182324409485 108.35044980049133 2.2105443477630615\n",
      "3.9140334129333496 4.0487635135650635 5.376444339752197 123.71982860565186 378.30236887931824 109.81376600265503 2.2410225868225098\n",
      "3.9653728008270264 4.1020119190216064 5.441070079803467 124.98885679244995 383.2320923805237 111.26591277122498 2.2709147930145264\n",
      "4.017112731933594 4.15565824508667 5.507447242736816 126.34972548484802 388.114187002182 112.67498850822449 2.3000667095184326\n",
      "4.069241523742676 4.210241079330444 5.5764172077178955 127.83731341362 393.01427149772644 114.07584381103516 2.3291938304901123\n",
      "4.120197296142578 4.263473749160767 5.644908428192139 129.3385133743286 397.948602437973 115.49626016616821 2.358621835708618\n",
      "4.173184156417847 4.319119930267334 5.7159264087677 130.90152096748352 402.9084424972534 116.9506938457489 2.392730236053467\n",
      "4.2254180908203125 4.373211860656738 5.787293434143066 132.51609063148499 407.84195137023926 118.40334177017212 2.4224746227264404\n",
      "4.277325868606567 4.426927804946899 5.858456611633301 134.18206548690796 412.75211334228516 119.80907201766968 2.4521484375\n",
      "4.32603645324707 4.4777443408966064 5.928144454956055 135.83258414268494 417.5376672744751 121.18032002449036 2.480262041091919\n",
      "4.375258445739746 4.529236078262329 5.999142408370972 137.56146955490112 422.46263575553894 122.59148073196411 2.509033441543579\n",
      "4.422513008117676 4.578689336776733 6.0685765743255615 139.28194618225098 427.2336571216583 123.97280693054199 2.5371005535125732\n",
      "4.471532344818115 4.629373788833618 6.141761064529419 141.04291772842407 432.0627682209015 125.4058108329773 2.5667943954467773\n",
      "4.522674798965454 4.681684255599976 6.214773893356323 142.86259579658508 437.0247881412506 126.86103963851929 2.59700870513916\n",
      "4.572527885437012 4.733201503753662 6.289793491363525 144.74208545684814 441.9838330745697 128.31160068511963 2.626584768295288\n",
      "4.621469974517822 4.784264087677002 6.363611459732056 146.64650058746338 446.842116355896 129.73506355285645 2.6553146839141846\n",
      "4.6719629764556885 4.836626052856445 6.4346022605896 148.3761260509491 451.98784613609314 131.18334555625916 2.6871986389160156\n",
      "4.7220618724823 4.888773441314697 6.4952991008758545 149.49358868598938 456.86725068092346 132.60195660591125 2.7160723209381104\n",
      "4.770532131195068 4.93908166885376 6.5570056438446045 150.74309706687927 461.74842643737793 134.01938939094543 2.744659423828125\n",
      "4.819253444671631 4.989288806915283 6.619915246963501 152.06879711151123 466.57508730888367 135.43776893615723 2.773510694503784\n",
      "4.867414712905884 5.039077043533325 6.684444904327393 153.46897888183594 471.34611773490906 136.83340907096863 2.801987648010254\n",
      "4.917297840118408 5.090438604354858 6.751779317855835 154.95453786849976 476.2248213291168 138.2727313041687 2.8312668800354004\n",
      "4.96664571762085 5.141515254974365 6.819849967956543 156.47215270996094 481.0848307609558 139.72252702713013 2.8608968257904053\n",
      "5.0148539543151855 5.191166639328003 6.887658357620239 158.04067039489746 485.8001127243042 141.12135243415833 2.8890974521636963\n",
      "5.063966512680054 5.241873741149902 6.956252098083496 159.6556167602539 490.6146147251129 142.533189535141 2.917722702026367\n",
      "5.112645864486694 5.2921671867370605 7.026408910751343 161.30952835083008 495.3503432273865 143.93847513198853 2.946521282196045\n",
      "5.159728527069092 5.3408708572387695 7.094882249832153 162.99054384231567 500.0866057872772 145.31185221672058 2.974534749984741\n",
      "5.2077577114105225 5.3907763957977295 7.164904356002808 164.73642754554749 504.9351441860199 146.7022488117218 3.0028133392333984\n",
      "5.255445241928101 5.440843105316162 7.236225366592407 166.4842939376831 509.6945023536682 148.08272337913513 3.0345377922058105\n",
      "5.305414199829102 5.4930267333984375 7.3100457191467285 168.3382523059845 514.6286239624023 149.52982711791992 3.064495801925659\n",
      "5.354801893234253 5.543698072433472 7.383029937744141 170.15614986419678 519.5222058296204 150.96406054496765 3.0940780639648438\n",
      "5.404308319091797 5.595201253890991 7.457610845565796 172.0673668384552 524.4898774623871 152.3940246105194 3.122999906539917\n",
      "5.453134059906006 5.6467671394348145 7.533668756484985 174.0232412815094 529.3862488269806 153.80129313468933 3.151979923248291\n",
      "5.504424333572388 5.699251890182495 7.5951244831085205 175.1550576686859 534.4921107292175 155.25562930107117 3.1817431449890137\n",
      "5.554471969604492 5.750812292098999 7.657109498977661 176.32486200332642 539.4523649215698 156.7012016773224 3.211531400680542\n",
      "5.6047022342681885 5.803268671035767 7.720649003982544 177.6307771205902 544.4243848323822 158.1337959766388 3.2406821250915527\n",
      "5.652159929275513 5.85290002822876 7.783488035202026 178.96479749679565 549.168514251709 159.5156548023224 3.2686076164245605\n",
      "5.699996471405029 5.902888298034668 7.847399950027466 180.37064671516418 553.8836965560913 160.89442086219788 3.296530246734619\n",
      "5.748274803161621 5.952972650527954 7.913302183151245 181.8570475578308 558.654580116272 162.2750813961029 3.324934482574463\n",
      "5.798678398132324 6.005425930023193 7.982655048370361 183.4002718925476 563.522294998169 163.67966508865356 3.353670120239258\n",
      "5.848355531692505 6.0559892654418945 8.050431489944458 184.95668172836304 568.2906999588013 165.10249733924866 3.386121988296509\n",
      "5.897610425949097 6.107206583023071 8.119731187820435 186.58734679222107 573.1273834705353 166.52592730522156 3.414701223373413\n",
      "5.94655966758728 6.157624244689941 8.189329862594604 188.2161726951599 577.894921541214 167.953040599823 3.4433882236480713\n",
      "5.997450351715088 6.210281610488892 8.261550903320312 189.90559244155884 582.7806580066681 169.40516424179077 3.4728212356567383\n",
      "6.046818733215332 6.261646270751953 8.332868576049805 191.64421939849854 587.6762108802795 170.83538150787354 3.5014231204986572\n",
      "6.09637451171875 6.313340663909912 8.405855178833008 193.44423747062683 592.6545355319977 172.27178573608398 3.5305893421173096\n",
      "6.145433187484741 6.364487171173096 8.479244470596313 195.25700569152832 597.5704936981201 173.69125747680664 3.5597448348999023\n",
      "6.195340394973755 6.416041374206543 8.553361654281616 197.08445596694946 602.4733426570892 175.10085225105286 3.5885462760925293\n",
      "6.244680166244507 6.467604875564575 8.627976894378662 198.9431381225586 607.345671415329 176.50627660751343 3.6173558235168457\n",
      "6.2948973178863525 6.51990532875061 8.704679250717163 200.89817261695862 612.3393161296844 177.93214297294617 3.6464569568634033\n",
      "6.343447685241699 6.570210695266724 8.76979947090149 202.36136555671692 617.3426241874695 179.33548951148987 3.6749954223632812\n",
      "6.392256021499634 6.620306015014648 8.829150199890137 203.45407962799072 622.162318944931 180.7388997077942 3.703827381134033\n",
      "6.440837383270264 6.670636892318726 8.890307188034058 204.6408727169037 627.0272841453552 182.1554296016693 3.7325241565704346\n"
     ]
    },
    {
     "name": "stdout",
     "output_type": "stream",
     "text": [
      "6.489934921264648 6.721131324768066 8.953305721282959 205.93183827400208 631.9015827178955 183.55668830871582 3.7610373497009277\n",
      "6.54105019569397 6.773671627044678 9.018784284591675 207.27820539474487 636.8875875473022 185.01490950584412 3.790489435195923\n",
      "6.58824610710144 6.82265830039978 9.08171534538269 208.63123035430908 641.6898951530457 186.4078733921051 3.8244168758392334\n",
      "6.6365966796875 6.873437881469727 9.147316455841064 210.07318687438965 646.584418296814 187.79974269866943 3.8527190685272217\n",
      "6.685895681381226 6.924668550491333 9.21524167060852 211.60273003578186 651.5488710403442 189.21544289588928 3.8811233043670654\n",
      "6.7358012199401855 6.976402521133423 9.28409743309021 213.15674352645874 656.4811973571777 190.64168214797974 3.9102399349212646\n",
      "6.787110328674316 7.028504133224487 9.354294776916504 214.76979517936707 661.4296779632568 192.10252833366394 3.940009593963623\n",
      "6.837592363357544 7.080261468887329 9.424211502075195 216.39710021018982 666.3790295124054 193.55194878578186 3.9700493812561035\n",
      "6.888605833053589 7.132333040237427 9.494890213012695 218.01514291763306 671.326847076416 195.0052146911621 3.9996731281280518\n",
      "6.941131114959717 7.185677528381348 9.56834077835083 219.7213842868805 676.3364398479462 196.49154686927795 4.029631853103638\n",
      "6.992918968200684 7.238506317138672 9.642057180404663 221.45300602912903 681.3946425914764 197.9536669254303 4.059524059295654\n",
      "7.042661428451538 7.289502859115601 9.713264465332031 223.18070030212402 686.2193949222565 199.39761900901794 4.088784217834473\n",
      "7.094042778015137 7.342160701751709 9.786638259887695 224.93488097190857 691.1395761966705 200.8383424282074 4.1183552742004395\n",
      "7.143752813339233 7.393754243850708 9.858677864074707 226.6992905139923 696.0637197494507 202.25891423225403 4.147387504577637\n",
      "7.19123911857605 7.4423933029174805 9.929144382476807 228.49507427215576 700.8003029823303 203.6375653743744 4.175313472747803\n",
      "7.241686582565308 7.494375228881836 10.002596139907837 230.33153986930847 705.8117084503174 205.0666263103485 4.204429626464844\n",
      "7.291319131851196 7.545753479003906 10.077458620071411 232.17585968971252 710.7864232063293 206.50981783866882 4.233645915985107\n",
      "7.342867851257324 7.598713159561157 10.154636859893799 234.1090703010559 715.818032503128 207.98245787620544 4.263444185256958\n",
      "7.3931005001068115 7.650605201721191 10.229527711868286 236.02932620048523 720.7484669685364 209.44058561325073 4.300313711166382\n",
      "7.444698810577393 7.7039172649383545 10.307539463043213 238.05835103988647 725.8960490226746 210.89962887763977 4.329751968383789\n",
      "7.495510816574097 7.755617141723633 10.376327514648438 239.62970399856567 731.0785057544708 212.36721229553223 4.359307050704956\n",
      "7.543747186660767 7.804574251174927 10.431954622268677 240.6041762828827 735.9193410873413 213.77396059036255 4.387760400772095\n",
      "7.594362497329712 7.855858325958252 10.493537664413452 241.7761754989624 740.8908114433289 215.2098479270935 4.416633605957031\n",
      "7.643171072006226 7.906246185302734 10.554715394973755 242.99251008033752 745.6997554302216 216.62325716018677 4.445353269577026\n",
      "7.692724704742432 7.957035541534424 10.617782592773438 244.23904156684875 750.591329574585 218.04890656471252 4.474321126937866\n",
      "7.741369009017944 8.006940364837646 10.679527282714844 245.54836344718933 755.3805346488953 219.45475459098816 4.502930164337158\n",
      "7.7903618812561035 8.057322025299072 10.74424958229065 246.93423008918762 760.2152607440948 220.8661801815033 4.531480312347412\n",
      "7.839903116226196 8.109326124191284 10.81111741065979 248.3753387928009 765.0576004981995 222.28235387802124 4.56128716468811\n",
      "7.890960454940796 8.162121295928955 10.877782106399536 249.86089324951172 769.9626665115356 223.70754957199097 4.590307235717773\n",
      "7.940510511398315 8.212991952896118 10.945050954818726 251.3630919456482 774.7598352432251 225.137451171875 4.619067907333374\n",
      "7.989267110824585 8.263376235961914 11.011562824249268 252.8850293159485 779.5593667030334 226.56884002685547 4.64797043800354\n",
      "8.039552927017212 8.315598249435425 11.080506801605225 254.4917368888855 784.4867537021637 228.01290822029114 4.6768224239349365\n",
      "8.090139150619507 8.36742377281189 11.15019178390503 256.09649085998535 789.2810361385345 229.4484612941742 4.706309080123901\n",
      "8.140633821487427 8.41911792755127 11.219943284988403 257.7340176105499 794.1973040103912 230.8884334564209 4.735932350158691\n",
      "8.191734313964844 8.4717378616333 11.290894269943237 259.4055652618408 799.0639119148254 232.31787109375 4.765406370162964\n",
      "8.241808652877808 8.523099660873413 11.361039638519287 261.0931622982025 803.8789236545563 233.73329544067383 4.794034957885742\n",
      "8.292123556137085 8.574540853500366 11.431681394577026 262.7658679485321 808.7325797080994 235.14756226539612 4.823059320449829\n",
      "8.343729496002197 8.626938104629517 11.50440502166748 264.4859735965729 813.6294801235199 236.5767161846161 4.860690116882324\n",
      "8.393041849136353 8.677901983261108 11.575400352478027 266.17445945739746 818.4068970680237 237.9686062335968 4.889151096343994\n",
      "8.442715644836426 8.72878098487854 11.646780967712402 267.91253662109375 823.2169427871704 239.37282705307007 4.917229652404785\n",
      "8.494727373123169 8.782511949539185 11.721087455749512 269.6936378479004 828.139942407608 240.78787088394165 4.946552276611328\n",
      "8.544681310653687 8.833476066589355 11.79271388053894 271.4509265422821 832.9186112880707 242.19863486289978 4.975409269332886\n",
      "8.595747232437134 8.886135816574097 11.865330696105957 273.2255401611328 837.8819286823273 243.63945960998535 5.005241632461548\n",
      "8.647240400314331 8.939307451248169 11.939965963363647 275.0103704929352 842.8296399116516 245.0841031074524 5.035181999206543\n",
      "8.698244333267212 8.992308378219604 12.015114784240723 276.857474565506 847.807886838913 246.52473497390747 5.064480543136597\n",
      "8.750227451324463 9.045632600784302 12.090566873550415 278.73617720603943 852.8085558414459 247.96428990364075 5.093985319137573\n",
      "8.801864624023438 9.098865509033203 12.165821075439453 280.5679061412811 857.7024984359741 249.39429998397827 5.12395715713501\n",
      "8.852272748947144 9.150378942489624 12.23849892616272 282.3938419818878 862.6070251464844 250.815505027771 5.153149366378784\n",
      "8.903293132781982 9.20262861251831 12.31282377243042 284.246027469635 867.569849729538 252.2597999572754 5.183461904525757\n",
      "8.954318761825562 9.254686117172241 12.388089418411255 286.1274256706238 872.5597021579742 253.70699667930603 5.213003396987915\n",
      "9.005064010620117 9.306526899337769 12.463979721069336 288.00616574287415 877.4620649814606 255.13354325294495 5.242375612258911\n",
      "9.05524492263794 9.357258319854736 12.538474321365356 289.89386558532715 882.3108108043671 256.55110144615173 5.271350145339966\n",
      "9.10524868965149 9.407942533493042 12.613345861434937 291.78187012672424 887.1668610572815 257.9653961658478 5.2999427318573\n",
      "9.155506610870361 9.459401369094849 12.688741207122803 293.7022433280945 892.055501461029 259.37964844703674 5.328867673873901\n",
      "9.207579135894775 9.512741327285767 12.768398523330688 295.74257493019104 897.067417383194 260.8338768482208 5.358633756637573\n",
      "9.258504629135132 9.564561367034912 12.845507144927979 297.7775185108185 902.0896334648132 262.27221941947937 5.388261795043945\n",
      "9.309761762619019 9.617978572845459 12.907711505889893 298.97249960899353 907.309680223465 263.7133758068085 5.417515516281128\n",
      "9.357460737228394 9.666885137557983 12.959877014160156 299.7840323448181 912.1780118942261 265.1004183292389 5.451725482940674\n",
      "9.40579867362976 9.716733455657959 13.01997685432434 301.00183057785034 916.871798992157 266.4868907928467 5.479693651199341\n",
      "9.457269430160522 9.769933938980103 13.085594892501831 302.3119285106659 921.8053777217865 267.9418110847473 5.5091657638549805\n",
      "9.510029554367065 9.824329614639282 13.154948949813843 303.7563462257385 926.844544172287 269.4229667186737 5.539590358734131\n",
      "9.560877799987793 9.876156568527222 13.223588705062866 305.2481813430786 931.7840023040771 270.87586998939514 5.569578409194946\n",
      "9.613425970077515 9.931068181991577 13.29477310180664 306.8178074359894 936.7845530509949 272.3218460083008 5.599755764007568\n",
      "9.666640758514404 9.985381364822388 13.365803241729736 308.3912649154663 941.7105612754822 273.7552442550659 5.629719018936157\n",
      "9.718066930770874 10.03801441192627 13.436549663543701 310.0178053379059 946.6455194950104 275.19279193878174 5.659353494644165\n"
     ]
    },
    {
     "name": "stdout",
     "output_type": "stream",
     "text": [
      "9.76822829246521 10.089584350585938 13.50715184211731 311.65577459335327 951.5320014953613 276.6186740398407 5.6883385181427\n",
      "9.819231033325195 10.142439365386963 13.578574657440186 313.34097170829773 956.4658336639404 278.0562882423401 5.717677593231201\n",
      "9.868803262710571 10.193326234817505 13.648635864257812 315.0282504558563 961.2821531295776 279.4764850139618 5.746605157852173\n",
      "9.92288875579834 10.248354196548462 13.724157810211182 316.81047224998474 966.3860065937042 280.9619197845459 5.777291536331177\n",
      "9.973499059677124 10.300086736679077 13.796966552734375 318.54607009887695 971.2906453609467 282.38338899612427 5.806391716003418\n",
      "10.023361921310425 10.351141691207886 13.868093967437744 320.2964220046997 976.1655313968658 283.8088729381561 5.835301876068115\n",
      "10.076436758041382 10.40566086769104 13.943292140960693 322.1133658885956 981.1388230323792 285.25524735450745 5.865152835845947\n",
      "10.127743005752563 10.458125352859497 14.017959833145142 323.93003010749817 986.0716981887817 286.6916561126709 5.894512891769409\n",
      "10.178872346878052 10.510891914367676 14.092819690704346 325.77224802970886 991.0881803035736 288.1179084777832 5.92411732673645\n",
      "10.228748321533203 10.561676740646362 14.166347026824951 327.60514855384827 995.9439260959625 289.5344364643097 5.953173398971558\n",
      "10.278807878494263 10.61256217956543 14.23999309539795 329.47310161590576 1000.8395938873291 290.9584903717041 5.982630491256714\n",
      "10.327985763549805 10.663563251495361 14.31433916091919 331.3473482131958 1005.7116606235504 292.3879704475403 6.011940002441406\n",
      "10.378366470336914 10.715600728988647 14.389948606491089 333.29304456710815 1010.7277743816376 293.82111406326294 6.041624307632446\n",
      "10.4284086227417 10.766722917556763 14.465697050094604 335.24947690963745 1015.678968667984 295.2526354789734 6.071123838424683\n",
      "10.481594562530518 10.821288347244263 14.545100927352905 337.26941084861755 1020.8534948825836 296.7293846607208 6.101566314697266\n",
      "10.534501552581787 10.876044750213623 14.604984521865845 338.21355056762695 1025.917691230774 298.1934289932251 6.14369535446167\n",
      "10.586234092712402 10.930131912231445 14.670622825622559 339.48983454704285 1030.8183753490448 299.6568830013275 6.173811912536621\n",
      "10.636759519577026 10.981831550598145 14.735969543457031 340.8404755592346 1035.704743862152 301.09840273857117 6.203781604766846\n",
      "10.688538551330566 11.03524661064148 14.805317163467407 342.3296136856079 1040.6285367012024 302.5489375591278 6.233510494232178\n",
      "10.739847183227539 11.08816409111023 14.875636339187622 343.93361496925354 1045.509621143341 303.9750897884369 6.262844085693359\n",
      "10.789904117584229 11.139620780944824 14.944921493530273 345.5292899608612 1050.3512587547302 305.39766693115234 6.292020082473755\n",
      "10.840287208557129 11.191051959991455 15.01593279838562 347.15875267982483 1055.2018625736237 306.84425234794617 6.321730375289917\n",
      "10.890565872192383 11.242429971694946 15.087445735931396 348.8461802005768 1060.0702543258667 308.2919466495514 6.351224899291992\n",
      "10.94265866279602 11.29638409614563 15.162007331848145 350.62096428871155 1065.04328250885 309.73143768310547 6.381091833114624\n",
      "10.99464750289917 11.349717617034912 15.23642086982727 352.4106640815735 1069.9881172180176 311.20258498191833 6.4110777378082275\n",
      "11.044820308685303 11.40022611618042 15.308744192123413 354.1628749370575 1074.8448901176453 312.63207507133484 6.440338611602783\n",
      "11.0934419631958 11.449886322021484 15.380950927734375 355.9806454181671 1079.5746111869812 314.0157251358032 6.468435049057007\n",
      "11.145930528640747 11.504592418670654 15.459202527999878 357.9183256626129 1084.6354644298553 315.4777626991272 6.499033212661743\n",
      "11.197460174560547 11.558363437652588 15.537237167358398 359.90939474105835 1089.6310937404633 316.9265248775482 6.529346704483032\n",
      "11.247714757919312 11.610134840011597 15.60664701461792 361.4693591594696 1094.7544658184052 318.38119196891785 6.559314727783203\n",
      "11.298707485198975 11.66266417503357 15.670341491699219 362.65885376930237 1099.7277944087982 319.8254723548889 6.589033365249634\n",
      "11.34782862663269 11.713197231292725 15.73263669013977 363.9244108200073 1104.5481541156769 321.2307107448578 6.617893695831299\n",
      "11.397058725357056 11.763550281524658 15.79674506187439 365.28770422935486 1109.4248406887054 322.64777159690857 6.646759271621704\n",
      "11.449976444244385 11.817890882492065 15.86652135848999 366.76296210289 1114.3787066936493 324.11555433273315 6.67716121673584\n",
      "11.50108790397644 11.870315074920654 15.935323715209961 368.2832000255585 1119.3492476940155 325.5696761608124 6.706861734390259\n",
      "11.553150177001953 11.923860549926758 16.006617307662964 369.9354360103607 1124.3783674240112 327.05499935150146 6.737831115722656\n",
      "11.60537052154541 11.976922273635864 16.079042434692383 371.55930852890015 1129.3246159553528 328.51977038383484 6.767901659011841\n",
      "11.660983800888062 12.033920526504517 16.15490221977234 373.30178332328796 1134.4589529037476 330.0126712322235 6.799540281295776\n",
      "11.710753440856934 12.084929704666138 16.22669506072998 375.0275480747223 1139.2720909118652 331.4275586605072 6.828610420227051\n",
      "11.762333154678345 12.137323379516602 16.300118923187256 376.7630879878998 1144.1619565486908 332.8462052345276 6.858281135559082\n",
      "11.814085960388184 12.19046688079834 16.374148845672607 378.5367612838745 1149.0189287662506 334.26266646385193 6.888190507888794\n",
      "11.865059614181519 12.242785930633545 16.448851585388184 380.37389159202576 1153.9740982055664 335.69768595695496 6.917623996734619\n",
      "11.917373418807983 12.295868873596191 16.52444839477539 382.2467129230499 1158.9100632667542 337.1191818714142 6.95829176902771\n",
      "11.9684739112854 12.348795413970947 16.600412845611572 384.1427345275879 1163.8882579803467 338.54657793045044 6.98761248588562\n",
      "12.017926216125488 12.399585723876953 16.67727303504944 386.11140179634094 1168.895771741867 339.9788649082184 7.0165863037109375\n",
      "12.066802740097046 12.449902296066284 16.74413228034973 387.60495471954346 1173.912884235382 341.4149262905121 7.045370101928711\n",
      "12.115354776382446 12.500322103500366 16.805577278137207 388.8111128807068 1178.7939655780792 342.83191418647766 7.073917865753174\n",
      "12.16312313079834 12.548996925354004 16.86764359474182 390.108336687088 1183.5586502552032 344.20807790756226 7.101707696914673\n",
      "12.212300300598145 12.599099397659302 16.93256163597107 391.51271414756775 1188.413461446762 345.61292791366577 7.130530595779419\n",
      "12.264330387115479 12.652519941329956 17.00126576423645 393.02405643463135 1193.3699870109558 347.0543301105499 7.1600306034088135\n",
      "12.31490159034729 12.704008102416992 17.070430040359497 394.5555155277252 1198.17813706398 348.48267889022827 7.189903736114502\n",
      "12.366000890731812 12.756305456161499 17.139750719070435 396.1648700237274 1203.052051782608 349.8909077644348 7.219050645828247\n",
      "12.415624856948853 12.807206392288208 17.210177659988403 397.79171991348267 1207.796746969223 351.2767150402069 7.247939348220825\n",
      "12.465401649475098 12.857747077941895 17.279730319976807 399.44238328933716 1212.5938227176666 352.6661584377289 7.27692174911499\n",
      "12.514333724975586 12.907732009887695 17.351394176483154 401.15821146965027 1217.3994777202606 354.0922944545746 7.3060853481292725\n",
      "12.564414024353027 12.958935022354126 17.4229838848114 402.88577485084534 1222.2562177181244 355.5312626361847 7.3356544971466064\n",
      "12.614824056625366 13.010536909103394 17.49573278427124 404.6603808403015 1227.146561384201 356.98379945755005 7.365271091461182\n",
      "12.663321733474731 13.059972047805786 17.567729473114014 406.4332914352417 1231.9934484958649 358.39660692214966 7.394213676452637\n",
      "12.711793422698975 13.109546661376953 17.64055371284485 408.27984070777893 1236.786868572235 359.788122177124 7.422759294509888\n",
      "12.762648344039917 13.161429166793823 17.715527057647705 410.17795729637146 1241.6958322525024 361.22488713264465 7.452213764190674\n",
      "12.813083410263062 13.213353395462036 17.791369438171387 412.10522651672363 1246.6721775531769 362.6751194000244 7.481815338134766\n",
      "12.86360788345337 13.264955520629883 17.869412660598755 414.1291346549988 1251.706710577011 364.12970447540283 7.511624336242676\n",
      "12.91424822807312 13.316731691360474 17.927916288375854 415.10360836982727 1256.7613639831543 365.58704113960266 7.541726112365723\n",
      "12.965303897857666 13.368302583694458 17.99053692817688 416.3046476840973 1261.752779006958 367.03808522224426 7.571631669998169\n"
     ]
    },
    {
     "name": "stdout",
     "output_type": "stream",
     "text": [
      "13.01798677444458 13.422460317611694 18.056413412094116 417.6243824958801 1266.8094651699066 368.4964575767517 7.601860523223877\n",
      "13.071213722229004 13.476897716522217 18.12523055076599 419.0523250102997 1271.819017648697 369.9476969242096 7.632172346115112\n",
      "13.12038516998291 13.527437448501587 18.191463947296143 420.50263476371765 1276.5782685279846 371.3300862312317 7.660413026809692\n",
      "13.166537046432495 13.575217723846436 18.25574231147766 421.99642610549927 1281.3023552894592 372.68628907203674 7.687536716461182\n",
      "13.215972423553467 13.626111030578613 18.32385778427124 423.5470848083496 1286.116562128067 374.0971620082855 7.716327428817749\n",
      "13.265661478042603 13.67674994468689 18.392600536346436 425.14217495918274 1290.9172475337982 375.49402618408203 7.7446722984313965\n",
      "13.314646482467651 13.726866006851196 18.46155333518982 426.7909197807312 1295.6899704933167 376.88333535194397 7.77313494682312\n",
      "13.363316774368286 13.776983737945557 18.5316424369812 428.4726529121399 1300.4434821605682 378.2803223133087 7.814061403274536\n",
      "13.412974834442139 13.828056573867798 18.60423254966736 430.20197463035583 1305.2534449100494 379.72044372558594 7.843659162521362\n",
      "13.46371054649353 13.88002347946167 18.677632570266724 431.9943370819092 1310.1208188533783 381.1599118709564 7.872960329055786\n",
      "13.513391971588135 13.931457281112671 18.751476764678955 433.8200035095215 1315.0640516281128 382.59866666793823 7.90188193321228\n",
      "13.563548803329468 13.9827139377594 18.825382709503174 435.6627163887024 1320.018678188324 384.0441327095032 7.930994987487793\n",
      "13.61434531211853 14.034379005432129 18.899688959121704 437.50097608566284 1324.9265365600586 385.48045229911804 7.960492372512817\n",
      "13.664394855499268 14.085553407669067 18.974700927734375 439.3653495311737 1329.9083077907562 386.9188232421875 7.989361763000488\n",
      "13.714553833007812 14.136577367782593 19.050266981124878 441.2699179649353 1334.9359760284424 388.3738169670105 8.018501996994019\n",
      "13.770239353179932 14.186176300048828 19.125030040740967 443.22354912757874 1339.8831696510315 389.80166721343994 8.047346830368042\n",
      "13.820259809494019 14.237499475479126 19.19547128677368 444.8600082397461 1344.9571163654327 391.2426743507385 8.076847076416016\n",
      "13.870509147644043 14.289506196975708 19.25618314743042 445.9491240978241 1353.412719488144 392.7043573856354 8.106510877609253\n",
      "13.921123266220093 14.342077016830444 19.319802284240723 447.16661167144775 1358.5048887729645 394.1674220561981 8.136600732803345\n",
      "13.9718656539917 14.394513368606567 19.383599519729614 448.4510397911072 1363.495815038681 395.6309554576874 8.16651701927185\n",
      "14.023013830184937 14.448088645935059 19.450257062911987 449.80210423469543 1368.4845168590546 397.1143910884857 8.19661808013916\n",
      "14.07439374923706 14.50089693069458 19.516622066497803 451.20757722854614 1373.4212279319763 398.581964969635 8.226598262786865\n",
      "14.126612663269043 14.555069923400879 19.586074113845825 452.68600511550903 1378.4346220493317 400.0346326828003 8.256476640701294\n",
      "14.178747177124023 14.608735799789429 19.65508198738098 454.18332266807556 1383.4009618759155 401.479341506958 8.286578893661499\n",
      "14.231152534484863 14.662863492965698 19.726865768432617 455.74761152267456 1388.5199058055878 402.9482443332672 8.3168363571167\n",
      "14.282461166381836 14.716107845306396 19.796916007995605 457.30645656585693 1393.476300239563 404.39974665641785 8.346330404281616\n",
      "14.33313775062561 14.768168926239014 19.866222858428955 458.88113379478455 1398.3780999183655 405.8186912536621 8.375231504440308\n",
      "14.38345718383789 14.82107138633728 19.943533182144165 460.49600434303284 1403.2443273067474 407.2343661785126 8.404460668563843\n",
      "14.436100244522095 14.875820636749268 20.01637840270996 462.17643547058105 1408.1888258457184 408.66398453712463 8.43388819694519\n",
      "14.486066341400146 14.927611827850342 20.086233377456665 463.8002128601074 1413.0120708942413 410.06085419654846 8.462785005569458\n",
      "14.537312030792236 14.981007099151611 20.158106803894043 465.4839689731598 1417.9882776737213 411.47888350486755 8.491827726364136\n",
      "14.587218999862671 15.033410787582397 20.22948670387268 467.1715941429138 1422.8610031604767 412.8996937274933 8.521176099777222\n",
      "14.637901306152344 15.085818529129028 20.30040955543518 468.86922955513 1427.750646352768 414.3276345729828 8.550224781036377\n",
      "14.688310146331787 15.137988328933716 20.373294353485107 470.556058883667 1432.6715686321259 415.77061104774475 8.58028769493103\n",
      "14.737849950790405 15.189087867736816 20.444613218307495 472.24567914009094 1437.5485217571259 417.20442056655884 8.609697103500366\n",
      "14.789284944534302 15.242448806762695 20.518069744110107 474.00401401519775 1442.6187281608582 418.69501519203186 8.640205383300781\n",
      "14.840950727462769 15.295900106430054 20.591732025146484 475.7578613758087 1447.683911561966 420.20654106140137 8.671211004257202\n",
      "14.891730785369873 15.35603928565979 20.66666579246521 477.48962807655334 1452.759195804596 421.6891260147095 8.701257467269897\n",
      "14.942386627197266 15.417254209518433 20.742223024368286 479.2586214542389 1457.7448463439941 423.1347424983978 8.730710744857788\n",
      "14.99175500869751 15.478232145309448 20.81719136238098 481.0096380710602 1462.7301144599915 424.5763523578644 8.76006293296814\n",
      "15.041411638259888 15.533678531646729 20.890043020248413 482.7680928707123 1467.6467604637146 426.02133679389954 8.803185224533081\n",
      "15.091842412948608 15.589272260665894 20.964969396591187 484.55389618873596 1472.631462097168 427.48374462127686 8.833121061325073\n",
      "15.141711235046387 15.64430046081543 21.03937792778015 486.3401665687561 1477.5572910308838 428.9336543083191 8.862741708755493\n",
      "15.191916465759277 15.698872327804565 21.11488437652588 488.2006576061249 1482.5126321315765 430.39731526374817 8.8925302028656\n",
      "15.243704557418823 15.755544662475586 21.19270157814026 490.1167697906494 1487.6195266246796 431.8892385959625 8.923026323318481\n",
      "15.295859575271606 15.811775207519531 21.268874168395996 491.9678010940552 1492.7077271938324 433.37679839134216 8.953609228134155\n",
      "15.346405982971191 15.865068674087524 21.34275460243225 493.80819487571716 1497.6191365718842 434.8484356403351 8.983583688735962\n",
      "15.396750688552856 15.91817045211792 21.41627788543701 495.6302046775818 1502.5585112571716 436.3256618976593 9.014143228530884\n",
      "15.447180986404419 15.972136974334717 21.489572286605835 497.4687674045563 1507.555324792862 437.80362010002136 9.044708728790283\n",
      "15.498539447784424 16.02614402770996 21.564881801605225 499.30033659935 1512.5699379444122 439.2764811515808 9.075223207473755\n",
      "15.549383163452148 16.07972478866577 21.639899969100952 501.16924476623535 1517.466381072998 440.7571783065796 9.105709791183472\n",
      "15.601608753204346 16.135473012924194 21.718958139419556 503.12492322921753 1522.5551908016205 442.2577016353607 9.136306762695312\n",
      "15.652811288833618 16.18982195854187 21.79506754875183 505.0302617549896 1527.5334758758545 443.72888350486755 9.166690587997437\n",
      "15.703311443328857 16.24355697631836 21.871381759643555 506.92914175987244 1532.5054614543915 445.20106649398804 9.197052240371704\n",
      "15.753957271575928 16.297351360321045 21.94709610939026 508.83971643447876 1537.4128518104553 446.66618371009827 9.227479219436646\n",
      "15.806084871292114 16.352882385253906 22.02626919746399 510.82780265808105 1542.3953838348389 448.15356373786926 9.258272886276245\n",
      "15.858517408370972 16.407787322998047 22.105111122131348 512.8522074222565 1547.311015844345 449.6131680011749 9.287999391555786\n",
      "15.909327745437622 16.46125602722168 22.183032989501953 514.8678071498871 1552.2730402946472 451.0749247074127 9.31777024269104\n",
      "15.95968246459961 16.515430450439453 22.260626077651978 516.8589432239532 1557.263091802597 452.5227725505829 9.347745180130005\n",
      "16.01190161705017 16.570776224136353 22.34243106842041 518.9647567272186 1562.3546571731567 453.99781560897827 9.378050804138184\n",
      "16.06318426132202 16.62537455558777 22.40103268623352 519.9546587467194 1567.474233865738 455.4488363265991 9.40779995918274\n",
      "16.113260746002197 16.678222179412842 22.444632530212402 520.1635842323303 1572.6949093341827 456.9017686843872 9.437404870986938\n",
      "16.11762523651123 16.682761192321777 22.448618173599243 520.1913287639618 1573.1284501552582 457.02599573135376 9.439922332763672\n"
     ]
    }
   ],
   "source": [
    "X_train, X_test, y_train, y_test = [], [], [], []\n",
    "X = []\n",
    "y = []\n",
    "import time\n",
    "t1 = t2 = t3 = t4 = t5 = t6 = t7 = 0\n",
    "i = 0\n",
    "for index, item in df.iterrows():\n",
    "    i+=1\n",
    "    if(i%1000==0): print(t1, t2, t3, t4, t5, t6, t7)\n",
    "    if(isThresholdForPreparationTime and (get_preparation_time(item) > thresholdForPreparationTime*60)): #removing inputs \n",
    "        continue\n",
    "        \n",
    "    features = []\n",
    "    t = time.time()\n",
    "    features = features + getStoreId(item, isOneHotEncodingRequired)\n",
    "    t1 += time.time() - t\n",
    "    \n",
    "    t = time.time()\n",
    "    features = features + getItemType(item, isOneHotEncodingRequired=isOneHotEncodingRequired, clubCategoryWise=clubItemsCategoryWise)\n",
    "    t2 += time.time() - t\n",
    "\n",
    "    t = time.time()    \n",
    "    features = features + getTimeSlotOfKitchenDisplayTime(item, isOneHotEncodingRequired=isOneHotEncodingRequired)\n",
    "    t3 += time.time() - t\n",
    "\n",
    "    t = time.time()\n",
    "    features = features + countPastOrders(item, storeWiseCumulativeItems, slotTimeForPastOrders) \n",
    "    t4 += time.time() - t\n",
    "\n",
    "    t = time.time()\n",
    "    features = features + getPreviousPrepTime(item, clubCategoryWise=clubItemsCategoryWise, timeslot = 60)  \n",
    "    t5 += time.time() - t\n",
    "\n",
    "    t = time.time()        \n",
    "    features = features + [lengthQueue(item)]\n",
    "    t6 += time.time() - t\n",
    "    \n",
    "    t = time.time()\n",
    "    X.append(features)\n",
    "    y.append(get_preparation_time(item))\n",
    "    t7 += time.time() - t\n",
    "\n",
    "#     if((order['ORDER_DATE'] >='2021-12-20' and order['ORDER_DATE'] <= '2021-12-24') or (order['ORDER_DATE'] >='2021-12-27' and order['ORDER_DATE'] <= '2021-12-29')):\n",
    "#         X_train.append(features)\n",
    "#         y_train.append(420+round(get_preparation_time(order)))\n",
    "#     elif(order['ORDER_DATE'] =='2021-12-30'):\n",
    "#         X_test.append(features)\n",
    "#         y_test.append(420+round(get_preparation_time(order)))\n",
    "print(t1, t2, t3, t4, t5, t6, t7)"
   ]
  },
  {
   "cell_type": "code",
   "execution_count": null,
   "id": "bc66b1ba",
   "metadata": {},
   "outputs": [],
   "source": []
  },
  {
   "cell_type": "code",
   "execution_count": null,
   "id": "82ad7f00",
   "metadata": {},
   "outputs": [],
   "source": []
  },
  {
   "cell_type": "code",
   "execution_count": null,
   "id": "f66851e2",
   "metadata": {},
   "outputs": [],
   "source": []
  },
  {
   "cell_type": "code",
   "execution_count": null,
   "id": "e8c9becb",
   "metadata": {},
   "outputs": [],
   "source": []
  },
  {
   "cell_type": "code",
   "execution_count": null,
   "id": "bdd8498b",
   "metadata": {},
   "outputs": [],
   "source": []
  },
  {
   "cell_type": "code",
   "execution_count": null,
   "id": "2e709bef",
   "metadata": {},
   "outputs": [],
   "source": []
  },
  {
   "cell_type": "code",
   "execution_count": null,
   "id": "383ec78f",
   "metadata": {},
   "outputs": [],
   "source": []
  },
  {
   "cell_type": "code",
   "execution_count": 29,
   "id": "039bf216",
   "metadata": {
    "ExecuteTime": {
     "end_time": "2022-11-03T08:01:22.631199Z",
     "start_time": "2022-11-03T08:01:22.619889Z"
    }
   },
   "outputs": [
    {
     "data": {
      "text/plain": [
       "(319080, 319080, 172)"
      ]
     },
     "execution_count": 29,
     "metadata": {},
     "output_type": "execute_result"
    }
   ],
   "source": [
    "len(X), len(y), len(X[0])"
   ]
  },
  {
   "cell_type": "code",
   "execution_count": 37,
   "id": "25e2e04d",
   "metadata": {
    "ExecuteTime": {
     "end_time": "2022-11-03T08:28:55.248369Z",
     "start_time": "2022-11-03T08:28:55.242482Z"
    }
   },
   "outputs": [],
   "source": [
    "bakeup_X = X\n",
    "bakeup_y = y"
   ]
  },
  {
   "cell_type": "code",
   "execution_count": 38,
   "id": "2f31c653",
   "metadata": {
    "ExecuteTime": {
     "end_time": "2022-11-03T08:29:08.202009Z",
     "start_time": "2022-11-03T08:28:58.151439Z"
    }
   },
   "outputs": [],
   "source": [
    "n = len(allStoreIds)\n",
    "store_wise_X = [[] for _ in range(n)]\n",
    "store_wise_y = [[] for _ in range(n)]\n",
    "\n",
    "for j in range(n):\n",
    "    for i in range(len(X)):\n",
    "        if X[i][j] > 0:\n",
    "            store_wise_X[j].append(X[i][n:])\n",
    "            store_wise_y[j].append(y[i])\n",
    "\n",
    "# store_wise_X = [[x for x in X] for j in range(n)]\n",
    "# store_wise_X = [x for j in range(n) for _,y in zip(X,y) if x[j]>0]"
   ]
  },
  {
   "cell_type": "code",
   "execution_count": 39,
   "id": "bf03da4a",
   "metadata": {
    "ExecuteTime": {
     "end_time": "2022-11-03T08:34:24.453859Z",
     "start_time": "2022-11-03T08:29:08.207493Z"
    }
   },
   "outputs": [
    {
     "data": {
      "text/plain": [
       "[(69.74398235134973, 110.73278958157061, 5624, 1407),\n",
       " (16.738956301746523, 49.32246633110388, 5418, 1355),\n",
       " (20.941754553757004, 55.37988339949047, 3900, 975),\n",
       " (12.244685715507316, 33.465189509275554, 7317, 1830),\n",
       " (24.467417227594503, 59.11416492174018, 7378, 1845),\n",
       " (16.887313639164148, 43.10657369954303, 6587, 1647),\n",
       " (13.515021034227676, 33.47246951146438, 4156, 1039),\n",
       " (23.77732100503141, 72.4253925848281, 7211, 1803),\n",
       " (19.286207885640458, 45.76296670557789, 5544, 1387),\n",
       " (17.83889285373208, 42.63308426676605, 6660, 1665),\n",
       " (17.778161821915013, 48.302599405662285, 4647, 1162),\n",
       " (14.040543395987301, 35.90283616130062, 4374, 1094),\n",
       " (13.942417268207851, 35.454505722680864, 4564, 1141),\n",
       " (14.392077412103925, 38.54280595325719, 6808, 1702),\n",
       " (12.269205008270605, 34.767052723558145, 4554, 1139),\n",
       " (12.121267980367186, 31.738060997397362, 1852, 464),\n",
       " (13.649929213959265, 36.74645170966107, 3004, 752),\n",
       " (25.518357864360535, 71.65103986158648, 5135, 1284),\n",
       " (25.61608632287833, 59.67363884805792, 5992, 1498),\n",
       " (19.30355262449779, 45.93041198512772, 3778, 945),\n",
       " (12.092977769937976, 29.756997422734266, 6305, 1577),\n",
       " (14.909048368635059, 42.62418049051106, 4434, 1109),\n",
       " (16.04445562206052, 39.31798143555204, 7810, 1953),\n",
       " (13.279386001763001, 36.76740421345306, 6221, 1556),\n",
       " (14.667079248216885, 37.41720741610458, 3422, 856),\n",
       " (7.848838855301237, 22.365941358295157, 2120, 531),\n",
       " (16.735165010674407, 51.084478098561775, 4163, 1041),\n",
       " (24.02410925454737, 62.36693863372644, 5648, 1412),\n",
       " (21.706657495936973, 53.886169015598, 7477, 1870),\n",
       " (16.918887445346222, 50.7841102357929, 2712, 678),\n",
       " (14.783113730697611, 32.55067157395881, 3596, 900),\n",
       " (17.929902118220745, 45.012988685034514, 6809, 1703),\n",
       " (19.522736886963205, 46.58974031583464, 6834, 1709),\n",
       " (14.28102675221936, 33.45213591062193, 4760, 1190),\n",
       " (8.45637706864142, 21.806428451451232, 2304, 577),\n",
       " (16.69971841045174, 43.748613200587464, 5806, 1452),\n",
       " (16.203080391437663, 38.037165445368274, 3816, 955),\n",
       " (25.388271381734064, 53.29321663147165, 7060, 1765),\n",
       " (18.86494767796391, 44.540710687406026, 4823, 1206),\n",
       " (15.60939049695835, 39.129142631517276, 5700, 1426),\n",
       " (20.62936755079019, 51.560226266215935, 6379, 1595),\n",
       " (11.93197087149969, 33.82543865871016, 3475, 869),\n",
       " (13.220715552422853, 31.984871679588, 7730, 1933),\n",
       " (14.127815695919907, 52.78730247929248, 2262, 566),\n",
       " (20.69808831515894, 51.800579368105936, 6699, 1675),\n",
       " (15.99591896235563, 47.609827843164254, 4321, 1081),\n",
       " (16.26324474824372, 42.830091371656174, 4474, 1119),\n",
       " (19.403830713624316, 49.361575631614116, 3621, 906),\n",
       " (16.10288925974446, 41.587062003959346, 5259, 1315),\n",
       " (13.510481419224213, 32.44582012084818, 1790, 448),\n",
       " (6.790646826811198, 17.47021675860992, 2727, 682),\n",
       " (23.926981268197952, 53.145684819123524, 184, 47)]"
      ]
     },
     "execution_count": 39,
     "metadata": {},
     "output_type": "execute_result"
    }
   ],
   "source": [
    "l = []\n",
    "\n",
    "for i in range(n):\n",
    "    X = store_wise_X[i]\n",
    "    y = store_wise_y[i]\n",
    "    X_train, X_test, y_train, y_test = train_test_split(X, y, test_size = 0.20, random_state = 42)\n",
    "    \n",
    "#     print(\"Random Forest Model\", i, len(y_train), len(y_test))\n",
    "    regressor = RandomForestRegressor()\n",
    "    if(isNormalizationRequired):\n",
    "        scaler = StandardScaler()\n",
    "        scaler.fit(X_train)\n",
    "\n",
    "        X_train = scaler.transform(X_train)\n",
    "        X_test = scaler.transform(X_test)\n",
    "    \n",
    "    regressor.fit(X_train, y_train)\n",
    "    predictions = regressor.predict(X_train)\n",
    "    a = getRMSE(y_train, predictions)\n",
    "#     print(\"RMSE score on train set: \", a)\n",
    "    \n",
    "    predictions = regressor.predict(X_test)\n",
    "    b = getRMSE(y_test, predictions)\n",
    "#     print(\"RMSE score on test set: \", b)\n",
    "    l.append((a, b, len(y_train), len(y_test)))\n",
    "l"
   ]
  },
  {
   "cell_type": "code",
   "execution_count": 41,
   "id": "20201a1f",
   "metadata": {
    "ExecuteTime": {
     "end_time": "2022-11-03T08:47:08.518739Z",
     "start_time": "2022-11-03T08:47:07.300524Z"
    }
   },
   "outputs": [
    {
     "data": {
      "image/png": "[encoded data removed]",
      "text/plain": [
       "<Figure size 432x288 with 1 Axes>"
      ]
     },
     "metadata": {
      "needs_background": "light"
     },
     "output_type": "display_data"
    },
    {
     "data": {
      "text/plain": [
       "[110.73278958157061,\n",
       " 49.32246633110388,\n",
       " 55.37988339949047,\n",
       " 33.465189509275554,\n",
       " 59.11416492174018,\n",
       " 43.10657369954303,\n",
       " 33.47246951146438,\n",
       " 72.4253925848281,\n",
       " 45.76296670557789,\n",
       " 42.63308426676605,\n",
       " 48.302599405662285,\n",
       " 35.90283616130062,\n",
       " 35.454505722680864,\n",
       " 38.54280595325719,\n",
       " 34.767052723558145,\n",
       " 31.738060997397362,\n",
       " 36.74645170966107,\n",
       " 71.65103986158648,\n",
       " 59.67363884805792,\n",
       " 45.93041198512772,\n",
       " 29.756997422734266,\n",
       " 42.62418049051106,\n",
       " 39.31798143555204,\n",
       " 36.76740421345306,\n",
       " 37.41720741610458,\n",
       " 22.365941358295157,\n",
       " 51.084478098561775,\n",
       " 62.36693863372644,\n",
       " 53.886169015598,\n",
       " 50.7841102357929,\n",
       " 32.55067157395881,\n",
       " 45.012988685034514,\n",
       " 46.58974031583464,\n",
       " 33.45213591062193,\n",
       " 21.806428451451232,\n",
       " 43.748613200587464,\n",
       " 38.037165445368274,\n",
       " 53.29321663147165,\n",
       " 44.540710687406026,\n",
       " 39.129142631517276,\n",
       " 51.560226266215935,\n",
       " 33.82543865871016,\n",
       " 31.984871679588,\n",
       " 52.78730247929248,\n",
       " 51.800579368105936,\n",
       " 47.609827843164254,\n",
       " 42.830091371656174,\n",
       " 49.361575631614116,\n",
       " 41.587062003959346,\n",
       " 32.44582012084818,\n",
       " 17.47021675860992,\n",
       " 53.145684819123524]"
      ]
     },
     "execution_count": 41,
     "metadata": {},
     "output_type": "execute_result"
    }
   ],
   "source": [
    "X_t = [i for i in range(len(allStoreIds))]\n",
    "Y_t = [x[1] for x in l]\n",
    "Y_t, X_t\n",
    "plt.bar(X_t, Y_t)\n",
    "plt.xticks(X_t)\n",
    "plt.xlabel(\"Store Id\")\n",
    "plt.ylabel(\"RMSE value of test set\")\n",
    "plt.title(\"Preparation time prediction\")\n",
    "plt.show()\n",
    "Y_t"
   ]
  },
  {
   "cell_type": "code",
   "execution_count": 49,
   "id": "7821b248",
   "metadata": {
    "ExecuteTime": {
     "end_time": "2022-10-26T19:32:50.255603Z",
     "start_time": "2022-10-26T19:32:50.245177Z"
    }
   },
   "outputs": [
    {
     "data": {
      "text/plain": [
       "([46.474329866513,\n",
       "  30.378945504039407,\n",
       "  51.76135265403258,\n",
       "  38.465051022292506,\n",
       "  32.30800862059353,\n",
       "  17.65975373869952,\n",
       "  41.47104984259385,\n",
       "  54.02779294717718,\n",
       "  26.479798936643498,\n",
       "  41.46850661965206,\n",
       "  29.7014803993898],\n",
       " [0, 1, 2, 3, 4, 5, 6, 7, 8, 9, 10])"
      ]
     },
     "execution_count": 49,
     "metadata": {},
     "output_type": "execute_result"
    }
   ],
   "source": [
    "# l = [len(x) for x in store_wise_y]\n",
    "# sum(l)\n",
    "# len(store_wise_X[0][0]), n\n",
    "# Y_t = l[:][1]\n",
    "# Y_t\n",
    "X_t = [i for i in range(11)]\n",
    "Y_t = [x[1] for x in l]\n",
    "Y_t, X_t"
   ]
  },
  {
   "cell_type": "code",
   "execution_count": 42,
   "id": "3170e2ef",
   "metadata": {
    "ExecuteTime": {
     "end_time": "2022-11-03T08:49:02.780706Z",
     "start_time": "2022-11-03T08:49:02.768036Z"
    }
   },
   "outputs": [
    {
     "data": {
      "text/plain": [
       "48.22294420867523"
      ]
     },
     "execution_count": 42,
     "metadata": {},
     "output_type": "execute_result"
    }
   ],
   "source": [
    "l2 = [(a**2)*b for _,a,_,b in l]\n",
    "l3 = [b for _,_,_,b in l]\n",
    "combine_rmse = (sum(l2)/sum(l3))**(1/2)\n",
    "combine_rmse"
   ]
  },
  {
   "cell_type": "code",
   "execution_count": 30,
   "id": "ec7c7446",
   "metadata": {
    "ExecuteTime": {
     "end_time": "2022-11-03T08:01:39.229698Z",
     "start_time": "2022-11-03T08:01:38.850816Z"
    }
   },
   "outputs": [],
   "source": [
    "if splitMethod == 'random':\n",
    "    X_train, X_test, y_train, y_test = train_test_split(X, y, test_size = 0.20, random_state = 42)"
   ]
  },
  {
   "cell_type": "code",
   "execution_count": 31,
   "id": "86367044",
   "metadata": {
    "ExecuteTime": {
     "end_time": "2022-11-03T08:01:41.209587Z",
     "start_time": "2022-11-03T08:01:41.203797Z"
    }
   },
   "outputs": [],
   "source": [
    "def getRMSE(actual, predictions):\n",
    "    mse = sklearn.metrics.mean_squared_error(actual, predictions)\n",
    "    return math.sqrt(mse)"
   ]
  },
  {
   "cell_type": "code",
   "execution_count": 32,
   "id": "16ee20d2",
   "metadata": {
    "ExecuteTime": {
     "end_time": "2022-11-03T08:25:07.644572Z",
     "start_time": "2022-11-03T08:01:42.208990Z"
    }
   },
   "outputs": [
    {
     "name": "stdout",
     "output_type": "stream",
     "text": [
      "Random Forest Model\n",
      "RMSE score on train set:  22.19547314114051\n",
      "RMSE score on test set:  51.22502917357771\n"
     ]
    }
   ],
   "source": [
    "# random forest\n",
    "if (model=='RF'):\n",
    "    print(\"Random Forest Model\")\n",
    "    regressor = RandomForestRegressor()\n",
    "    if(isNormalizationRequired):\n",
    "        scaler = StandardScaler()\n",
    "        scaler.fit(X_train)\n",
    "\n",
    "        X_train = scaler.transform(X_train)\n",
    "        X_test = scaler.transform(X_test)\n",
    "    \n",
    "    regressor.fit(X_train, y_train)\n",
    "    predictions = regressor.predict(X_train)\n",
    "    print(\"RMSE score on train set: \", getRMSE(y_train, predictions))\n",
    "        \n",
    "    predictions = regressor.predict(X_test)\n",
    "    print(\"RMSE score on test set: \", getRMSE(y_test, predictions))\n",
    "    "
   ]
  },
  {
   "cell_type": "code",
   "execution_count": 33,
   "id": "7d120e85",
   "metadata": {
    "ExecuteTime": {
     "end_time": "2022-11-03T08:25:32.584273Z",
     "start_time": "2022-11-03T08:25:07.651371Z"
    }
   },
   "outputs": [
    {
     "name": "stdout",
     "output_type": "stream",
     "text": [
      "RMSE score on train set:  22.19547314114051\n",
      "RMSE score on test set:  51.22502917357771\n"
     ]
    }
   ],
   "source": [
    "predictions = regressor.predict(X_train)\n",
    "print(\"RMSE score on train set: \", getRMSE(y_train, predictions))\n",
    "\n",
    "predictions = regressor.predict(X_test)\n",
    "print(\"RMSE score on test set: \", getRMSE(y_test, predictions))"
   ]
  },
  {
   "cell_type": "code",
   "execution_count": 34,
   "id": "9802daa7",
   "metadata": {
    "ExecuteTime": {
     "end_time": "2022-11-03T08:27:55.839039Z",
     "start_time": "2022-11-03T08:27:43.657885Z"
    },
    "scrolled": true
   },
   "outputs": [
    {
     "data": {
      "image/png": "[encoded data removed]",
      "text/plain": [
       "<Figure size 432x288 with 1 Axes>"
      ]
     },
     "metadata": {
      "needs_background": "light"
     },
     "output_type": "display_data"
    }
   ],
   "source": [
    "X_t = []\n",
    "Y_t = []\n",
    "for j in range(0, len(allStoreIds)):\n",
    "    xx = []\n",
    "    yy = []\n",
    "    for i in range(0, len(X_test)):\n",
    "        if(X_test[i][j] > 0):\n",
    "            xx.append(X_test[i])\n",
    "            yy.append(y_test[i])\n",
    "    X_t.append(j)\n",
    "    Y_t.append(getRMSE(yy, regressor.predict(xx)))\n",
    "    \n",
    "plt.bar(X_t, Y_t)\n",
    "plt.xticks(X_t)\n",
    "plt.xlabel(\"Store Id\")\n",
    "plt.ylabel(\"RMSE value of test set\")\n",
    "plt.title(\"Preparation time prediction\")\n",
    "plt.show()"
   ]
  },
  {
   "cell_type": "code",
   "execution_count": 35,
   "id": "c38cadb4",
   "metadata": {
    "ExecuteTime": {
     "end_time": "2022-11-03T08:27:55.854390Z",
     "start_time": "2022-11-03T08:27:55.844573Z"
    },
    "collapsed": true
   },
   "outputs": [
    {
     "data": {
      "text/plain": [
       "[118.46762915044431,\n",
       " 46.19214819316697,\n",
       " 78.84432832325724,\n",
       " 33.148221209727005,\n",
       " 60.301924988108524,\n",
       " 48.615090407280086,\n",
       " 34.03093474167357,\n",
       " 59.34757224485053,\n",
       " 48.664450262389366,\n",
       " 50.25310172606236,\n",
       " 48.98357861203935,\n",
       " 40.525496709546886,\n",
       " 43.335434189959194,\n",
       " 49.219792388384555,\n",
       " 40.85527237512303,\n",
       " 32.29103524166308,\n",
       " 34.437496172634745,\n",
       " 59.579805977976385,\n",
       " 63.671188315255904,\n",
       " 48.2129598164105,\n",
       " 36.09697185113681,\n",
       " 38.60470625511067,\n",
       " 43.782416261273916,\n",
       " 37.22711862749954,\n",
       " 50.99678360383393,\n",
       " 19.476519883954346,\n",
       " 55.930706645867026,\n",
       " 64.22696252987792,\n",
       " 55.34549010676449,\n",
       " 42.86917768711083,\n",
       " 42.2009622303691,\n",
       " 46.285075410182515,\n",
       " 52.1492828828175,\n",
       " 39.75615609594073,\n",
       " 19.98575780828075,\n",
       " 46.74552959859113,\n",
       " 37.853908645238725,\n",
       " 56.29227956100993,\n",
       " 66.55349208403143,\n",
       " 43.08851480876491,\n",
       " 54.21395311188494,\n",
       " 35.25538933835721,\n",
       " 39.9118331637077,\n",
       " 43.370350828934534,\n",
       " 57.35408329558492,\n",
       " 45.33737635791099,\n",
       " 43.10834813720752,\n",
       " 45.8468274999213,\n",
       " 48.97622182161247,\n",
       " 32.03859963813183,\n",
       " 19.511880933004846,\n",
       " 67.08380332081995]"
      ]
     },
     "execution_count": 35,
     "metadata": {},
     "output_type": "execute_result"
    }
   ],
   "source": [
    "Y_t_all = Y_t\n",
    "Y_t_all"
   ]
  },
  {
   "cell_type": "code",
   "execution_count": 47,
   "id": "0cf848b8",
   "metadata": {
    "ExecuteTime": {
     "end_time": "2022-11-03T10:22:52.235753Z",
     "start_time": "2022-11-03T10:22:52.172286Z"
    },
    "collapsed": true
   },
   "outputs": [
    {
     "ename": "IndexError",
     "evalue": "index 155 is out of bounds for axis 0 with size 120",
     "output_type": "error",
     "traceback": [
      "\u001b[0;31m---------------------------------------------------------------------------\u001b[0m",
      "\u001b[0;31mIndexError\u001b[0m                                Traceback (most recent call last)",
      "Input \u001b[0;32mIn [47]\u001b[0m, in \u001b[0;36m<cell line: 4>\u001b[0;34m()\u001b[0m\n\u001b[1;32m      6\u001b[0m y1 \u001b[38;5;241m=\u001b[39m []\n\u001b[1;32m      7\u001b[0m \u001b[38;5;28;01mfor\u001b[39;00m i \u001b[38;5;129;01min\u001b[39;00m \u001b[38;5;28mrange\u001b[39m(\u001b[38;5;241m0\u001b[39m, \u001b[38;5;28mlen\u001b[39m(X_test)):\n\u001b[0;32m----> 8\u001b[0m     \u001b[38;5;28;01mif\u001b[39;00m(\u001b[43mX_test\u001b[49m\u001b[43m[\u001b[49m\u001b[43mi\u001b[49m\u001b[43m]\u001b[49m\u001b[43m[\u001b[49m\u001b[43mtotal_items\u001b[49m\u001b[38;5;241;43m+\u001b[39;49m\u001b[43mx\u001b[49m\u001b[43m]\u001b[49m \u001b[38;5;241m>\u001b[39m \u001b[38;5;241m0\u001b[39m):\n\u001b[1;32m      9\u001b[0m         x1\u001b[38;5;241m.\u001b[39mappend(X_test[i])\n\u001b[1;32m     10\u001b[0m         y1\u001b[38;5;241m.\u001b[39mappend(y_test[i])\n",
      "\u001b[0;31mIndexError\u001b[0m: index 155 is out of bounds for axis 0 with size 120"
     ]
    }
   ],
   "source": [
    "X_Axis = [i for i in range(10, 24)]\n",
    "RMSETimeSlotWise = {}\n",
    "total_items = len(allMenuCodes)+len(allStoreIds)\n",
    "for x in X_Axis:\n",
    "    x1 = []\n",
    "    y1 = []\n",
    "    for i in range(0, len(X_test)):\n",
    "        if(X_test[i][total_items+x] > 0):\n",
    "            x1.append(X_test[i])\n",
    "            y1.append(y_test[i])\n",
    "    RMSETimeSlotWise[x] = getRMSE(y1, regressor.predict(x1))\n",
    "    \n",
    "X_axis = list(RMSETimeSlotWise.keys())\n",
    "Y_axis = list(RMSETimeSlotWise.values())\n",
    "\n",
    "plt.bar(X_axis, Y_axis)\n",
    "plt.xticks(X_axis, rotation='vertical')\n",
    "plt.xlabel(\"Time slot\")\n",
    "plt.ylabel(\"RMSE value of test set\")\n",
    "plt.title(\"Preparation time prediction over different time slots\")\n",
    "plt.show()"
   ]
  },
  {
   "cell_type": "code",
   "execution_count": null,
   "id": "47f58822",
   "metadata": {},
   "outputs": [],
   "source": []
  },
  {
   "cell_type": "code",
   "execution_count": null,
   "id": "ad6f0602",
   "metadata": {},
   "outputs": [],
   "source": []
  },
  {
   "cell_type": "code",
   "execution_count": 44,
   "id": "9a8cd69d",
   "metadata": {
    "ExecuteTime": {
     "end_time": "2022-11-03T08:50:36.730562Z",
     "start_time": "2022-11-03T08:50:36.693768Z"
    }
   },
   "outputs": [
    {
     "name": "stdout",
     "output_type": "stream",
     "text": [
      "0 110.73278958157061 118.46762915044431\n",
      "1 49.32246633110388 46.19214819316697\n",
      "2 55.37988339949047 78.84432832325724\n",
      "3 33.465189509275554 33.148221209727005\n",
      "4 59.11416492174018 60.301924988108524\n",
      "5 43.10657369954303 48.615090407280086\n",
      "6 33.47246951146438 34.03093474167357\n",
      "7 72.4253925848281 59.34757224485053\n",
      "8 45.76296670557789 48.664450262389366\n",
      "9 42.63308426676605 50.25310172606236\n",
      "10 48.302599405662285 48.98357861203935\n",
      "11 35.90283616130062 40.525496709546886\n",
      "12 35.454505722680864 43.335434189959194\n",
      "13 38.54280595325719 49.219792388384555\n",
      "14 34.767052723558145 40.85527237512303\n",
      "15 31.738060997397362 32.29103524166308\n",
      "16 36.74645170966107 34.437496172634745\n",
      "17 71.65103986158648 59.579805977976385\n",
      "18 59.67363884805792 63.671188315255904\n",
      "19 45.93041198512772 48.2129598164105\n",
      "20 29.756997422734266 36.09697185113681\n",
      "21 42.62418049051106 38.60470625511067\n",
      "22 39.31798143555204 43.782416261273916\n",
      "23 36.76740421345306 37.22711862749954\n",
      "24 37.41720741610458 50.99678360383393\n",
      "25 22.365941358295157 19.476519883954346\n",
      "26 51.084478098561775 55.930706645867026\n",
      "27 62.36693863372644 64.22696252987792\n",
      "28 53.886169015598 55.34549010676449\n",
      "29 50.7841102357929 42.86917768711083\n",
      "30 32.55067157395881 42.2009622303691\n",
      "31 45.012988685034514 46.285075410182515\n",
      "32 46.58974031583464 52.1492828828175\n",
      "33 33.45213591062193 39.75615609594073\n",
      "34 21.806428451451232 19.98575780828075\n",
      "35 43.748613200587464 46.74552959859113\n",
      "36 38.037165445368274 37.853908645238725\n",
      "37 53.29321663147165 56.29227956100993\n",
      "38 44.540710687406026 66.55349208403143\n",
      "39 39.129142631517276 43.08851480876491\n",
      "40 51.560226266215935 54.21395311188494\n",
      "41 33.82543865871016 35.25538933835721\n",
      "42 31.984871679588 39.9118331637077\n",
      "43 52.78730247929248 43.370350828934534\n",
      "44 51.800579368105936 57.35408329558492\n",
      "45 47.609827843164254 45.33737635791099\n",
      "46 42.830091371656174 43.10834813720752\n",
      "47 49.361575631614116 45.8468274999213\n",
      "48 41.587062003959346 48.97622182161247\n",
      "49 32.44582012084818 32.03859963813183\n",
      "50 17.47021675860992 19.511880933004846\n",
      "51 53.145684819123524 67.08380332081995\n"
     ]
    }
   ],
   "source": [
    "y = []\n",
    "for i in X_t:\n",
    "    y.append((Y_t[i], Y_t_all[i]))\n",
    "    print(i, Y_t[i], Y_t_all[i])\n",
    "#     if Y_t_all[x][y] = 4\n",
    "    \n",
    "# y"
   ]
  },
  {
   "cell_type": "code",
   "execution_count": 48,
   "id": "fee73cb4",
   "metadata": {
    "ExecuteTime": {
     "end_time": "2022-11-03T10:23:16.876656Z",
     "start_time": "2022-11-03T10:23:15.817268Z"
    }
   },
   "outputs": [
    {
     "data": {
      "image/png": "[encoded data removed]",
      "text/plain": [
       "<Figure size 432x288 with 1 Axes>"
      ]
     },
     "metadata": {
      "needs_background": "light"
     },
     "output_type": "display_data"
    }
   ],
   "source": [
    "# plt.plot(X_t, Y_t, label = 'Single Model Prediction')\n",
    "# plt.plot(X_t, Y_t_all, label = 'Restaurent Wise Prediction')\n",
    "\n",
    "plt.plot(X_t, y)\n",
    "plt.legend(['Restaurent Model Prediction', 'Single Wise Prediction'])\n",
    "\n",
    "plt.xticks(X_t, rotation='vertical')\n",
    "plt.xlabel(\"Store Id\")\n",
    "plt.ylabel(\"RMSE value of test set\")\n",
    "plt.title(\"Preparation time prediction\")\n",
    "plt.show()"
   ]
  },
  {
   "cell_type": "code",
   "execution_count": 89,
   "id": "5a01c598",
   "metadata": {},
   "outputs": [],
   "source": [
    "# #activation: relu, logistic\n",
    "# def ModelResults(X_train, X_test, y_train, y_test, model, isNormalizationRequired=True):\n",
    "    \n",
    "#     if(isNormalizationRequired):\n",
    "#         scaler = StandardScaler()\n",
    "#         scaler.fit(X_train)\n",
    "\n",
    "#         X_train = scaler.transform(X_train)\n",
    "#         X_test = scaler.transform(X_test)\n",
    "        \n",
    "#     if(model=='NN'):\n",
    "#         hidden_layer_sizes=(80, 30, 10)\n",
    "#         activation='relu'\n",
    "#         print(\"Neural Network model\")\n",
    "#         print(\"Hidden layers: \", hidden_layer_sizes)\n",
    "#         print(\"Activation function: \", activation)\n",
    "#         mlp = MLPClassifier(hidden_layer_sizes=hidden_layer_sizes, activation=activation, max_iter=1000, verbose=True, learning_rate='constant', learning_rate_init=0.01)\n",
    "#         mlp.fit(X_train, y_train)\n",
    "#         print(mlp.best_loss_)\n",
    "        \n",
    "#         predictions = mlp.predict(X_train)\n",
    "#         print(\"RMSE score on validation set: \", getRMSE(y_train, predictions))\n",
    "        \n",
    "#         predictions = mlp.predict(X_test)\n",
    "#         print(\"RMSE score on test set: \", getRMSE(y_test, predictions))\n",
    "        \n",
    "#     elif(model=='RF'):\n",
    "#         print(\"Random Forest Model\")\n",
    "#         regressor = RandomForestRegressor()\n",
    "#         regressor.fit(X_train, y_train)\n",
    "        \n",
    "#         predictions = regressor.predict(X_train)\n",
    "#         print(\"RMSE score on validation set: \", getRMSE(y_train, predictions))\n",
    "        \n",
    "#         predictions = regressor.predict(X_test)\n",
    "#         print(\"RMSE score on test set: \", getRMSE(y_test, predictions))\n",
    "#     else:\n",
    "#         print(\"Model not implemented yet\")"
   ]
  },
  {
   "cell_type": "code",
   "execution_count": 86,
   "id": "ab069e8d",
   "metadata": {
    "collapsed": true
   },
   "outputs": [
    {
     "data": {
      "text/plain": [
       "array([[ -9.68770891,  -7.18229529,  -7.05802898, ..., -10.05756664,\n",
       "        -11.47823238,  -9.53518635],\n",
       "       [ -9.68770891,  -7.18229529,  -7.05802898, ..., -10.05756664,\n",
       "        -11.47823238,  -9.53518635],\n",
       "       [ -9.68770891,  -7.18229529,  -7.05802898, ..., -10.05756664,\n",
       "        -11.47823238,  -9.53518635],\n",
       "       ...,\n",
       "       [ -9.68770891,  -7.18229529,  -7.05802898, ..., -10.05756664,\n",
       "        -11.47823238,  -9.53518635],\n",
       "       [ -9.68770891,  -7.18229529,  -7.05802898, ..., -10.05756664,\n",
       "        -11.47823238,  -9.53518635],\n",
       "       [ -9.68770891,  -7.18229529,  -7.05802898, ..., -10.05756664,\n",
       "        -11.47823238,  -9.53518635]])"
      ]
     },
     "execution_count": 86,
     "metadata": {},
     "output_type": "execute_result"
    }
   ],
   "source": [
    "# mlp.predict_log_proba(X)"
   ]
  },
  {
   "cell_type": "code",
   "execution_count": null,
   "id": "ab797e2d",
   "metadata": {},
   "outputs": [],
   "source": [
    "\n",
    "# scaler = StandardScaler()\n",
    "# scaler.fit(X_train)\n",
    "\n",
    "# X_train = scaler.transform(X_train)\n",
    "# X_test = scaler.transform(X_test)\n",
    "\n",
    "# regressor = RandomForestRegressor()\n",
    "# regressor.fit(X_train, y_train)\n",
    "# predictions = regressor.predict(X_train)"
   ]
  },
  {
   "cell_type": "code",
   "execution_count": 39,
   "id": "bbfeb934",
   "metadata": {
    "ExecuteTime": {
     "end_time": "2022-10-26T19:20:53.339534Z",
     "start_time": "2022-10-26T19:19:47.552739Z"
    },
    "collapsed": true
   },
   "outputs": [
    {
     "name": "stdout",
     "output_type": "stream",
     "text": [
      "Random Forest Model\n",
      "RMSE score on train set:  18.25602531368394\n",
      "RMSE score on test set:  45.815872729249435\n",
      "Random Forest Model\n",
      "RMSE score on train set:  11.559987090939433\n",
      "RMSE score on test set:  30.044338900434187\n",
      "Random Forest Model\n",
      "RMSE score on train set:  19.8160462425246\n",
      "RMSE score on test set:  51.44029530615877\n",
      "Random Forest Model\n",
      "RMSE score on train set:  15.56732234897142\n",
      "RMSE score on test set:  38.72006453737753\n",
      "Random Forest Model\n",
      "RMSE score on train set:  13.430966752860824\n",
      "RMSE score on test set:  32.58723421931361\n",
      "Random Forest Model\n",
      "RMSE score on train set:  6.599369874774\n",
      "RMSE score on test set:  17.39437297020862\n",
      "Random Forest Model\n",
      "RMSE score on train set:  16.52015385356523\n",
      "RMSE score on test set:  41.19153062656546\n",
      "Random Forest Model\n",
      "RMSE score on train set:  18.478996784796827\n",
      "RMSE score on test set:  54.17347072479103\n",
      "Random Forest Model\n",
      "RMSE score on train set:  9.99238771234968\n",
      "RMSE score on test set:  26.468487048872355\n",
      "Random Forest Model\n",
      "RMSE score on train set:  15.503932972555091\n",
      "RMSE score on test set:  41.53821356771909\n",
      "Random Forest Model\n",
      "RMSE score on train set:  9.62944229964895\n",
      "RMSE score on test set:  29.919059100669166\n"
     ]
    }
   ],
   "source": [
    "for i in range(n):\n",
    "    X = store_wise_X[i]\n",
    "    y = store_wise_y[i]\n",
    "    X_train, X_test, y_train, y_test = train_test_split(X, y, test_size = 0.20, random_state = 42)\n",
    "    \n",
    "    print(\"Random Forest Model\")\n",
    "    regressor = RandomForestRegressor()\n",
    "    if(isNormalizationRequired):\n",
    "        scaler = StandardScaler()\n",
    "        scaler.fit(X_train)\n",
    "\n",
    "        X_train = scaler.transform(X_train)\n",
    "        X_test = scaler.transform(X_test)\n",
    "    \n",
    "    regressor.fit(X_train, y_train)\n",
    "    predictions = regressor.predict(X_train)\n",
    "    print(\"RMSE score on train set: \", getRMSE(y_train, predictions))\n",
    "        \n",
    "    predictions = regressor.predict(X_test)\n",
    "    print(\"RMSE score on test set: \", getRMSE(y_test, predictions))\n",
    "    "
   ]
  },
  {
   "cell_type": "code",
   "execution_count": null,
   "id": "325642ff",
   "metadata": {},
   "outputs": [],
   "source": [
    "# mse = sklearn.metrics.mean_squared_error(y_train, predictions)  \n",
    "# rmse = math.sqrt(mse)  \n",
    "# rmse"
   ]
  },
  {
   "cell_type": "code",
   "execution_count": null,
   "id": "8cee6941",
   "metadata": {},
   "outputs": [],
   "source": []
  },
  {
   "cell_type": "markdown",
   "id": "a93ee141",
   "metadata": {},
   "source": [
    "# Tasks:\n",
    "## 1. find slot wise RMSE, for prep. time: 8-12 min, for 12-16 min, 16-20 min, 20 min+\n",
    "### 2. relative RMSE, RMSE w.r.t to Preparation time"
   ]
  }
 ],
 "metadata": {
  "kernelspec": {
   "display_name": "Python 3 (ipykernel)",
   "language": "python",
   "name": "python3"
  },
  "language_info": {
   "codemirror_mode": {
    "name": "ipython",
    "version": 3
   },
   "file_extension": ".py",
   "mimetype": "text/x-python",
   "name": "python",
   "nbconvert_exporter": "python",
   "pygments_lexer": "ipython3",
   "version": "3.8.10"
  }
 },
 "nbformat": 4,
 "nbformat_minor": 5
}
