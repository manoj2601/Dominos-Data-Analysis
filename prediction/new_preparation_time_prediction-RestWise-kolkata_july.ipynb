{
 "cells": [
  {
   "cell_type": "code",
   "execution_count": 1,
   "id": "c2f4650d",
   "metadata": {
    "ExecuteTime": {
     "end_time": "2022-11-10T06:22:07.411208Z",
     "start_time": "2022-11-10T06:21:55.221178Z"
    }
   },
   "outputs": [],
   "source": [
    "# imports\n",
    "import json\n",
    "import pandas as pd\n",
    "import numpy as np\n",
    "import random\n",
    "from datetime import datetime, timedelta\n",
    "import sklearn\n",
    "import math\n",
    "from sklearn.feature_extraction.text import CountVectorizer\n",
    "from sklearn.feature_extraction.text import TfidfVectorizer\n",
    "from sklearn.linear_model import LogisticRegression\n",
    "from sklearn.model_selection import train_test_split\n",
    "\n",
    "import time\n",
    "import matplotlib.pyplot as plt\n",
    "\n",
    "from sklearn.model_selection import train_test_split\n",
    "from sklearn.preprocessing import StandardScaler\n",
    "from sklearn.neural_network import MLPClassifier\n",
    "from sklearn.metrics import classification_report, confusion_matrix\n",
    "from sklearn.ensemble import RandomForestRegressor \n",
    "from statistics import mean"
   ]
  },
  {
   "cell_type": "code",
   "execution_count": 2,
   "id": "c83d6951",
   "metadata": {
    "ExecuteTime": {
     "end_time": "2022-11-10T06:22:07.431660Z",
     "start_time": "2022-11-10T06:22:07.425431Z"
    }
   },
   "outputs": [],
   "source": [
    "city = 'Kolkata'\n",
    "month = 'July'\n",
    "PATH = f'/media/root/data/analysis/data/Item_wise_data/{city}/'\n",
    "t100 = time.time()"
   ]
  },
  {
   "cell_type": "code",
   "execution_count": 3,
   "id": "f632ce37",
   "metadata": {
    "ExecuteTime": {
     "end_time": "2022-11-10T06:22:34.842593Z",
     "start_time": "2022-11-10T06:22:11.342306Z"
    }
   },
   "outputs": [
    {
     "name": "stderr",
     "output_type": "stream",
     "text": [
      "/tmp/ipykernel_240321/70406848.py:2: DtypeWarning: Columns (4,5,8,12,13,18,20,22) have mixed types. Specify dtype option on import or set low_memory=False.\n",
      "  df = pd.read_csv(PATH+f'{month}.csv')\n"
     ]
    }
   ],
   "source": [
    "# exclude non baking items\n",
    "df = pd.read_csv(PATH+f'{month}.csv')\n",
    "df = df[pd.notna(df['Oven_Time'])]\n",
    "df = df.sort_values(by =['Kitchen_Display_Time', 'Location_Code', 'Order_Number'])\n",
    "# df"
   ]
  },
  {
   "cell_type": "code",
   "execution_count": 4,
   "id": "90698808",
   "metadata": {
    "ExecuteTime": {
     "end_time": "2022-11-10T06:24:35.907798Z",
     "start_time": "2022-11-10T06:23:09.980850Z"
    }
   },
   "outputs": [
    {
     "name": "stdout",
     "output_type": "stream",
     "text": [
      "(619120, 27)\n",
      "(619120, 7)\n"
     ]
    },
    {
     "ename": "ParserError",
     "evalue": "Unknown string format: DPI67075",
     "output_type": "error",
     "traceback": [
      "\u001b[0;31m---------------------------------------------------------------------------\u001b[0m",
      "\u001b[0;31mTypeError\u001b[0m                                 Traceback (most recent call last)",
      "File \u001b[0;32m~/envs/dominos/lib/python3.8/site-packages/pandas/core/arrays/datetimes.py:2211\u001b[0m, in \u001b[0;36mobjects_to_datetime64ns\u001b[0;34m(data, dayfirst, yearfirst, utc, errors, require_iso8601, allow_object, allow_mixed)\u001b[0m\n\u001b[1;32m   2210\u001b[0m \u001b[38;5;28;01mtry\u001b[39;00m:\n\u001b[0;32m-> 2211\u001b[0m     values, tz_parsed \u001b[38;5;241m=\u001b[39m \u001b[43mconversion\u001b[49m\u001b[38;5;241;43m.\u001b[39;49m\u001b[43mdatetime_to_datetime64\u001b[49m\u001b[43m(\u001b[49m\u001b[43mdata\u001b[49m\u001b[38;5;241;43m.\u001b[39;49m\u001b[43mravel\u001b[49m\u001b[43m(\u001b[49m\u001b[38;5;124;43m\"\u001b[39;49m\u001b[38;5;124;43mK\u001b[39;49m\u001b[38;5;124;43m\"\u001b[39;49m\u001b[43m)\u001b[49m\u001b[43m)\u001b[49m\n\u001b[1;32m   2212\u001b[0m     \u001b[38;5;66;03m# If tzaware, these values represent unix timestamps, so we\u001b[39;00m\n\u001b[1;32m   2213\u001b[0m     \u001b[38;5;66;03m#  return them as i8 to distinguish from wall times\u001b[39;00m\n",
      "File \u001b[0;32m~/envs/dominos/lib/python3.8/site-packages/pandas/_libs/tslibs/conversion.pyx:360\u001b[0m, in \u001b[0;36mpandas._libs.tslibs.conversion.datetime_to_datetime64\u001b[0;34m()\u001b[0m\n",
      "\u001b[0;31mTypeError\u001b[0m: Unrecognized value type: <class 'str'>",
      "\nDuring handling of the above exception, another exception occurred:\n",
      "\u001b[0;31mParserError\u001b[0m                               Traceback (most recent call last)",
      "Input \u001b[0;32mIn [4]\u001b[0m, in \u001b[0;36m<cell line: 4>\u001b[0;34m()\u001b[0m\n\u001b[1;32m      2\u001b[0m df \u001b[38;5;241m=\u001b[39m df\u001b[38;5;241m.\u001b[39mdrop([\u001b[38;5;124m'\u001b[39m\u001b[38;5;124mstoredesc\u001b[39m\u001b[38;5;124m'\u001b[39m, \u001b[38;5;124m'\u001b[39m\u001b[38;5;124mcity\u001b[39m\u001b[38;5;124m'\u001b[39m, \u001b[38;5;124m'\u001b[39m\u001b[38;5;124mCustomer_Code\u001b[39m\u001b[38;5;124m'\u001b[39m, \u001b[38;5;124m'\u001b[39m\u001b[38;5;124mCustomer_Name\u001b[39m\u001b[38;5;124m'\u001b[39m, \u001b[38;5;124m'\u001b[39m\u001b[38;5;124mActual_Order_Date\u001b[39m\u001b[38;5;124m'\u001b[39m, \u001b[38;5;124m'\u001b[39m\u001b[38;5;124mOrder_Status_Code\u001b[39m\u001b[38;5;124m'\u001b[39m, \u001b[38;5;124m'\u001b[39m\u001b[38;5;124mOrder_Type_Code\u001b[39m\u001b[38;5;124m'\u001b[39m, \u001b[38;5;124m'\u001b[39m\u001b[38;5;124mOrder_Saved\u001b[39m\u001b[38;5;124m'\u001b[39m, \u001b[38;5;124m'\u001b[39m\u001b[38;5;124mOrder_Time\u001b[39m\u001b[38;5;124m'\u001b[39m, \u001b[38;5;124m'\u001b[39m\u001b[38;5;124mDriver_ID\u001b[39m\u001b[38;5;124m'\u001b[39m, \u001b[38;5;124m'\u001b[39m\u001b[38;5;124mDriver_Shift\u001b[39m\u001b[38;5;124m'\u001b[39m, \u001b[38;5;124m'\u001b[39m\u001b[38;5;124mRoute_Time\u001b[39m\u001b[38;5;124m'\u001b[39m, \u001b[38;5;124m'\u001b[39m\u001b[38;5;124mReturn_Time\u001b[39m\u001b[38;5;124m'\u001b[39m, \u001b[38;5;124m'\u001b[39m\u001b[38;5;124mDelayed_Order\u001b[39m\u001b[38;5;124m'\u001b[39m, \u001b[38;5;124m'\u001b[39m\u001b[38;5;124mOrder_Taker_ID\u001b[39m\u001b[38;5;124m'\u001b[39m,\u001b[38;5;124m'\u001b[39m\u001b[38;5;124mOrder_Taker_Shift\u001b[39m\u001b[38;5;124m'\u001b[39m, \u001b[38;5;124m'\u001b[39m\u001b[38;5;124mClosed_Order_Time\u001b[39m\u001b[38;5;124m'\u001b[39m, \u001b[38;5;124m'\u001b[39m\u001b[38;5;124mCustomer_Address_Id\u001b[39m\u001b[38;5;124m'\u001b[39m, \u001b[38;5;124m'\u001b[39m\u001b[38;5;124mOriginal_Location_Code\u001b[39m\u001b[38;5;124m'\u001b[39m, \u001b[38;5;124m'\u001b[39m\u001b[38;5;124mOrder_Id\u001b[39m\u001b[38;5;124m'\u001b[39m,], axis\u001b[38;5;241m=\u001b[39m\u001b[38;5;241m1\u001b[39m)\n\u001b[1;32m      3\u001b[0m \u001b[38;5;28mprint\u001b[39m(df\u001b[38;5;241m.\u001b[39mshape)\n\u001b[0;32m----> 4\u001b[0m df[\u001b[38;5;124m'\u001b[39m\u001b[38;5;124mKitchen_Display_Time\u001b[39m\u001b[38;5;124m'\u001b[39m] \u001b[38;5;241m=\u001b[39m \u001b[43mpd\u001b[49m\u001b[38;5;241;43m.\u001b[39;49m\u001b[43mto_datetime\u001b[49m\u001b[43m(\u001b[49m\u001b[43mdf\u001b[49m\u001b[43m[\u001b[49m\u001b[38;5;124;43m'\u001b[39;49m\u001b[38;5;124;43mKitchen_Display_Time\u001b[39;49m\u001b[38;5;124;43m'\u001b[39;49m\u001b[43m]\u001b[49m\u001b[43m)\u001b[49m\n\u001b[1;32m      5\u001b[0m df[\u001b[38;5;124m'\u001b[39m\u001b[38;5;124mOven_Time\u001b[39m\u001b[38;5;124m'\u001b[39m] \u001b[38;5;241m=\u001b[39m pd\u001b[38;5;241m.\u001b[39mto_datetime(df[\u001b[38;5;124m'\u001b[39m\u001b[38;5;124mOven_Time\u001b[39m\u001b[38;5;124m'\u001b[39m])\n\u001b[1;32m      6\u001b[0m df[\u001b[38;5;124m'\u001b[39m\u001b[38;5;124mprep_time\u001b[39m\u001b[38;5;124m'\u001b[39m] \u001b[38;5;241m=\u001b[39m df[\u001b[38;5;124m'\u001b[39m\u001b[38;5;124mOven_Time\u001b[39m\u001b[38;5;124m'\u001b[39m] \u001b[38;5;241m-\u001b[39m df[\u001b[38;5;124m'\u001b[39m\u001b[38;5;124mKitchen_Display_Time\u001b[39m\u001b[38;5;124m'\u001b[39m]\n",
      "File \u001b[0;32m~/envs/dominos/lib/python3.8/site-packages/pandas/core/tools/datetimes.py:1047\u001b[0m, in \u001b[0;36mto_datetime\u001b[0;34m(arg, errors, dayfirst, yearfirst, utc, format, exact, unit, infer_datetime_format, origin, cache)\u001b[0m\n\u001b[1;32m   1045\u001b[0m             result \u001b[38;5;241m=\u001b[39m arg\u001b[38;5;241m.\u001b[39mtz_localize(tz)\n\u001b[1;32m   1046\u001b[0m \u001b[38;5;28;01melif\u001b[39;00m \u001b[38;5;28misinstance\u001b[39m(arg, ABCSeries):\n\u001b[0;32m-> 1047\u001b[0m     cache_array \u001b[38;5;241m=\u001b[39m \u001b[43m_maybe_cache\u001b[49m\u001b[43m(\u001b[49m\u001b[43marg\u001b[49m\u001b[43m,\u001b[49m\u001b[43m \u001b[49m\u001b[38;5;28;43mformat\u001b[39;49m\u001b[43m,\u001b[49m\u001b[43m \u001b[49m\u001b[43mcache\u001b[49m\u001b[43m,\u001b[49m\u001b[43m \u001b[49m\u001b[43mconvert_listlike\u001b[49m\u001b[43m)\u001b[49m\n\u001b[1;32m   1048\u001b[0m     \u001b[38;5;28;01mif\u001b[39;00m \u001b[38;5;129;01mnot\u001b[39;00m cache_array\u001b[38;5;241m.\u001b[39mempty:\n\u001b[1;32m   1049\u001b[0m         result \u001b[38;5;241m=\u001b[39m arg\u001b[38;5;241m.\u001b[39mmap(cache_array)\n",
      "File \u001b[0;32m~/envs/dominos/lib/python3.8/site-packages/pandas/core/tools/datetimes.py:197\u001b[0m, in \u001b[0;36m_maybe_cache\u001b[0;34m(arg, format, cache, convert_listlike)\u001b[0m\n\u001b[1;32m    195\u001b[0m unique_dates \u001b[38;5;241m=\u001b[39m unique(arg)\n\u001b[1;32m    196\u001b[0m \u001b[38;5;28;01mif\u001b[39;00m \u001b[38;5;28mlen\u001b[39m(unique_dates) \u001b[38;5;241m<\u001b[39m \u001b[38;5;28mlen\u001b[39m(arg):\n\u001b[0;32m--> 197\u001b[0m     cache_dates \u001b[38;5;241m=\u001b[39m \u001b[43mconvert_listlike\u001b[49m\u001b[43m(\u001b[49m\u001b[43munique_dates\u001b[49m\u001b[43m,\u001b[49m\u001b[43m \u001b[49m\u001b[38;5;28;43mformat\u001b[39;49m\u001b[43m)\u001b[49m\n\u001b[1;32m    198\u001b[0m     cache_array \u001b[38;5;241m=\u001b[39m Series(cache_dates, index\u001b[38;5;241m=\u001b[39munique_dates)\n\u001b[1;32m    199\u001b[0m     \u001b[38;5;66;03m# GH#39882 and GH#35888 in case of None and NaT we get duplicates\u001b[39;00m\n",
      "File \u001b[0;32m~/envs/dominos/lib/python3.8/site-packages/pandas/core/tools/datetimes.py:402\u001b[0m, in \u001b[0;36m_convert_listlike_datetimes\u001b[0;34m(arg, format, name, tz, unit, errors, infer_datetime_format, dayfirst, yearfirst, exact)\u001b[0m\n\u001b[1;32m    400\u001b[0m \u001b[38;5;28;01massert\u001b[39;00m \u001b[38;5;28mformat\u001b[39m \u001b[38;5;129;01mis\u001b[39;00m \u001b[38;5;28;01mNone\u001b[39;00m \u001b[38;5;129;01mor\u001b[39;00m infer_datetime_format\n\u001b[1;32m    401\u001b[0m utc \u001b[38;5;241m=\u001b[39m tz \u001b[38;5;241m==\u001b[39m \u001b[38;5;124m\"\u001b[39m\u001b[38;5;124mutc\u001b[39m\u001b[38;5;124m\"\u001b[39m\n\u001b[0;32m--> 402\u001b[0m result, tz_parsed \u001b[38;5;241m=\u001b[39m \u001b[43mobjects_to_datetime64ns\u001b[49m\u001b[43m(\u001b[49m\n\u001b[1;32m    403\u001b[0m \u001b[43m    \u001b[49m\u001b[43marg\u001b[49m\u001b[43m,\u001b[49m\n\u001b[1;32m    404\u001b[0m \u001b[43m    \u001b[49m\u001b[43mdayfirst\u001b[49m\u001b[38;5;241;43m=\u001b[39;49m\u001b[43mdayfirst\u001b[49m\u001b[43m,\u001b[49m\n\u001b[1;32m    405\u001b[0m \u001b[43m    \u001b[49m\u001b[43myearfirst\u001b[49m\u001b[38;5;241;43m=\u001b[39;49m\u001b[43myearfirst\u001b[49m\u001b[43m,\u001b[49m\n\u001b[1;32m    406\u001b[0m \u001b[43m    \u001b[49m\u001b[43mutc\u001b[49m\u001b[38;5;241;43m=\u001b[39;49m\u001b[43mutc\u001b[49m\u001b[43m,\u001b[49m\n\u001b[1;32m    407\u001b[0m \u001b[43m    \u001b[49m\u001b[43merrors\u001b[49m\u001b[38;5;241;43m=\u001b[39;49m\u001b[43merrors\u001b[49m\u001b[43m,\u001b[49m\n\u001b[1;32m    408\u001b[0m \u001b[43m    \u001b[49m\u001b[43mrequire_iso8601\u001b[49m\u001b[38;5;241;43m=\u001b[39;49m\u001b[43mrequire_iso8601\u001b[49m\u001b[43m,\u001b[49m\n\u001b[1;32m    409\u001b[0m \u001b[43m    \u001b[49m\u001b[43mallow_object\u001b[49m\u001b[38;5;241;43m=\u001b[39;49m\u001b[38;5;28;43;01mTrue\u001b[39;49;00m\u001b[43m,\u001b[49m\n\u001b[1;32m    410\u001b[0m \u001b[43m\u001b[49m\u001b[43m)\u001b[49m\n\u001b[1;32m    412\u001b[0m \u001b[38;5;28;01mif\u001b[39;00m tz_parsed \u001b[38;5;129;01mis\u001b[39;00m \u001b[38;5;129;01mnot\u001b[39;00m \u001b[38;5;28;01mNone\u001b[39;00m:\n\u001b[1;32m    413\u001b[0m     \u001b[38;5;66;03m# We can take a shortcut since the datetime64 numpy array\u001b[39;00m\n\u001b[1;32m    414\u001b[0m     \u001b[38;5;66;03m# is in UTC\u001b[39;00m\n\u001b[1;32m    415\u001b[0m     dta \u001b[38;5;241m=\u001b[39m DatetimeArray(result, dtype\u001b[38;5;241m=\u001b[39mtz_to_dtype(tz_parsed))\n",
      "File \u001b[0;32m~/envs/dominos/lib/python3.8/site-packages/pandas/core/arrays/datetimes.py:2217\u001b[0m, in \u001b[0;36mobjects_to_datetime64ns\u001b[0;34m(data, dayfirst, yearfirst, utc, errors, require_iso8601, allow_object, allow_mixed)\u001b[0m\n\u001b[1;32m   2215\u001b[0m         \u001b[38;5;28;01mreturn\u001b[39;00m values\u001b[38;5;241m.\u001b[39mview(\u001b[38;5;124m\"\u001b[39m\u001b[38;5;124mi8\u001b[39m\u001b[38;5;124m\"\u001b[39m), tz_parsed\n\u001b[1;32m   2216\u001b[0m     \u001b[38;5;28;01mexcept\u001b[39;00m (\u001b[38;5;167;01mValueError\u001b[39;00m, \u001b[38;5;167;01mTypeError\u001b[39;00m):\n\u001b[0;32m-> 2217\u001b[0m         \u001b[38;5;28;01mraise\u001b[39;00m err\n\u001b[1;32m   2219\u001b[0m \u001b[38;5;28;01mif\u001b[39;00m tz_parsed \u001b[38;5;129;01mis\u001b[39;00m \u001b[38;5;129;01mnot\u001b[39;00m \u001b[38;5;28;01mNone\u001b[39;00m:\n\u001b[1;32m   2220\u001b[0m     \u001b[38;5;66;03m# We can take a shortcut since the datetime64 numpy array\u001b[39;00m\n\u001b[1;32m   2221\u001b[0m     \u001b[38;5;66;03m#  is in UTC\u001b[39;00m\n\u001b[1;32m   2222\u001b[0m     \u001b[38;5;66;03m# Return i8 values to denote unix timestamps\u001b[39;00m\n\u001b[1;32m   2223\u001b[0m     \u001b[38;5;28;01mreturn\u001b[39;00m result\u001b[38;5;241m.\u001b[39mview(\u001b[38;5;124m\"\u001b[39m\u001b[38;5;124mi8\u001b[39m\u001b[38;5;124m\"\u001b[39m), tz_parsed\n",
      "File \u001b[0;32m~/envs/dominos/lib/python3.8/site-packages/pandas/core/arrays/datetimes.py:2199\u001b[0m, in \u001b[0;36mobjects_to_datetime64ns\u001b[0;34m(data, dayfirst, yearfirst, utc, errors, require_iso8601, allow_object, allow_mixed)\u001b[0m\n\u001b[1;32m   2197\u001b[0m order: Literal[\u001b[38;5;124m\"\u001b[39m\u001b[38;5;124mF\u001b[39m\u001b[38;5;124m\"\u001b[39m, \u001b[38;5;124m\"\u001b[39m\u001b[38;5;124mC\u001b[39m\u001b[38;5;124m\"\u001b[39m] \u001b[38;5;241m=\u001b[39m \u001b[38;5;124m\"\u001b[39m\u001b[38;5;124mF\u001b[39m\u001b[38;5;124m\"\u001b[39m \u001b[38;5;28;01mif\u001b[39;00m flags\u001b[38;5;241m.\u001b[39mf_contiguous \u001b[38;5;28;01melse\u001b[39;00m \u001b[38;5;124m\"\u001b[39m\u001b[38;5;124mC\u001b[39m\u001b[38;5;124m\"\u001b[39m\n\u001b[1;32m   2198\u001b[0m \u001b[38;5;28;01mtry\u001b[39;00m:\n\u001b[0;32m-> 2199\u001b[0m     result, tz_parsed \u001b[38;5;241m=\u001b[39m \u001b[43mtslib\u001b[49m\u001b[38;5;241;43m.\u001b[39;49m\u001b[43marray_to_datetime\u001b[49m\u001b[43m(\u001b[49m\n\u001b[1;32m   2200\u001b[0m \u001b[43m        \u001b[49m\u001b[43mdata\u001b[49m\u001b[38;5;241;43m.\u001b[39;49m\u001b[43mravel\u001b[49m\u001b[43m(\u001b[49m\u001b[38;5;124;43m\"\u001b[39;49m\u001b[38;5;124;43mK\u001b[39;49m\u001b[38;5;124;43m\"\u001b[39;49m\u001b[43m)\u001b[49m\u001b[43m,\u001b[49m\n\u001b[1;32m   2201\u001b[0m \u001b[43m        \u001b[49m\u001b[43merrors\u001b[49m\u001b[38;5;241;43m=\u001b[39;49m\u001b[43merrors\u001b[49m\u001b[43m,\u001b[49m\n\u001b[1;32m   2202\u001b[0m \u001b[43m        \u001b[49m\u001b[43mutc\u001b[49m\u001b[38;5;241;43m=\u001b[39;49m\u001b[43mutc\u001b[49m\u001b[43m,\u001b[49m\n\u001b[1;32m   2203\u001b[0m \u001b[43m        \u001b[49m\u001b[43mdayfirst\u001b[49m\u001b[38;5;241;43m=\u001b[39;49m\u001b[43mdayfirst\u001b[49m\u001b[43m,\u001b[49m\n\u001b[1;32m   2204\u001b[0m \u001b[43m        \u001b[49m\u001b[43myearfirst\u001b[49m\u001b[38;5;241;43m=\u001b[39;49m\u001b[43myearfirst\u001b[49m\u001b[43m,\u001b[49m\n\u001b[1;32m   2205\u001b[0m \u001b[43m        \u001b[49m\u001b[43mrequire_iso8601\u001b[49m\u001b[38;5;241;43m=\u001b[39;49m\u001b[43mrequire_iso8601\u001b[49m\u001b[43m,\u001b[49m\n\u001b[1;32m   2206\u001b[0m \u001b[43m        \u001b[49m\u001b[43mallow_mixed\u001b[49m\u001b[38;5;241;43m=\u001b[39;49m\u001b[43mallow_mixed\u001b[49m\u001b[43m,\u001b[49m\n\u001b[1;32m   2207\u001b[0m \u001b[43m    \u001b[49m\u001b[43m)\u001b[49m\n\u001b[1;32m   2208\u001b[0m     result \u001b[38;5;241m=\u001b[39m result\u001b[38;5;241m.\u001b[39mreshape(data\u001b[38;5;241m.\u001b[39mshape, order\u001b[38;5;241m=\u001b[39morder)\n\u001b[1;32m   2209\u001b[0m \u001b[38;5;28;01mexcept\u001b[39;00m \u001b[38;5;167;01mValueError\u001b[39;00m \u001b[38;5;28;01mas\u001b[39;00m err:\n",
      "File \u001b[0;32m~/envs/dominos/lib/python3.8/site-packages/pandas/_libs/tslib.pyx:381\u001b[0m, in \u001b[0;36mpandas._libs.tslib.array_to_datetime\u001b[0;34m()\u001b[0m\n",
      "File \u001b[0;32m~/envs/dominos/lib/python3.8/site-packages/pandas/_libs/tslib.pyx:613\u001b[0m, in \u001b[0;36mpandas._libs.tslib.array_to_datetime\u001b[0;34m()\u001b[0m\n",
      "File \u001b[0;32m~/envs/dominos/lib/python3.8/site-packages/pandas/_libs/tslib.pyx:751\u001b[0m, in \u001b[0;36mpandas._libs.tslib._array_to_datetime_object\u001b[0;34m()\u001b[0m\n",
      "File \u001b[0;32m~/envs/dominos/lib/python3.8/site-packages/pandas/_libs/tslib.pyx:742\u001b[0m, in \u001b[0;36mpandas._libs.tslib._array_to_datetime_object\u001b[0;34m()\u001b[0m\n",
      "File \u001b[0;32m~/envs/dominos/lib/python3.8/site-packages/pandas/_libs/tslibs/parsing.pyx:281\u001b[0m, in \u001b[0;36mpandas._libs.tslibs.parsing.parse_datetime_string\u001b[0;34m()\u001b[0m\n",
      "File \u001b[0;32m~/envs/dominos/lib/python3.8/site-packages/dateutil/parser/_parser.py:1368\u001b[0m, in \u001b[0;36mparse\u001b[0;34m(timestr, parserinfo, **kwargs)\u001b[0m\n\u001b[1;32m   1366\u001b[0m     \u001b[38;5;28;01mreturn\u001b[39;00m parser(parserinfo)\u001b[38;5;241m.\u001b[39mparse(timestr, \u001b[38;5;241m*\u001b[39m\u001b[38;5;241m*\u001b[39mkwargs)\n\u001b[1;32m   1367\u001b[0m \u001b[38;5;28;01melse\u001b[39;00m:\n\u001b[0;32m-> 1368\u001b[0m     \u001b[38;5;28;01mreturn\u001b[39;00m \u001b[43mDEFAULTPARSER\u001b[49m\u001b[38;5;241;43m.\u001b[39;49m\u001b[43mparse\u001b[49m\u001b[43m(\u001b[49m\u001b[43mtimestr\u001b[49m\u001b[43m,\u001b[49m\u001b[43m \u001b[49m\u001b[38;5;241;43m*\u001b[39;49m\u001b[38;5;241;43m*\u001b[39;49m\u001b[43mkwargs\u001b[49m\u001b[43m)\u001b[49m\n",
      "File \u001b[0;32m~/envs/dominos/lib/python3.8/site-packages/dateutil/parser/_parser.py:643\u001b[0m, in \u001b[0;36mparser.parse\u001b[0;34m(self, timestr, default, ignoretz, tzinfos, **kwargs)\u001b[0m\n\u001b[1;32m    640\u001b[0m res, skipped_tokens \u001b[38;5;241m=\u001b[39m \u001b[38;5;28mself\u001b[39m\u001b[38;5;241m.\u001b[39m_parse(timestr, \u001b[38;5;241m*\u001b[39m\u001b[38;5;241m*\u001b[39mkwargs)\n\u001b[1;32m    642\u001b[0m \u001b[38;5;28;01mif\u001b[39;00m res \u001b[38;5;129;01mis\u001b[39;00m \u001b[38;5;28;01mNone\u001b[39;00m:\n\u001b[0;32m--> 643\u001b[0m     \u001b[38;5;28;01mraise\u001b[39;00m ParserError(\u001b[38;5;124m\"\u001b[39m\u001b[38;5;124mUnknown string format: \u001b[39m\u001b[38;5;132;01m%s\u001b[39;00m\u001b[38;5;124m\"\u001b[39m, timestr)\n\u001b[1;32m    645\u001b[0m \u001b[38;5;28;01mif\u001b[39;00m \u001b[38;5;28mlen\u001b[39m(res) \u001b[38;5;241m==\u001b[39m \u001b[38;5;241m0\u001b[39m:\n\u001b[1;32m    646\u001b[0m     \u001b[38;5;28;01mraise\u001b[39;00m ParserError(\u001b[38;5;124m\"\u001b[39m\u001b[38;5;124mString does not contain a date: \u001b[39m\u001b[38;5;132;01m%s\u001b[39;00m\u001b[38;5;124m\"\u001b[39m, timestr)\n",
      "\u001b[0;31mParserError\u001b[0m: Unknown string format: DPI67075"
     ]
    }
   ],
   "source": [
    "print(df.shape)\n",
    "df = df.drop(['storedesc', 'city', 'Customer_Code', 'Customer_Name', 'Actual_Order_Date', 'Order_Status_Code', 'Order_Type_Code', 'Order_Saved', 'Order_Time', 'Driver_ID', 'Driver_Shift', 'Route_Time', 'Return_Time', 'Delayed_Order', 'Order_Taker_ID','Order_Taker_Shift', 'Closed_Order_Time', 'Customer_Address_Id', 'Original_Location_Code', 'Order_Id',], axis=1)\n",
    "print(df.shape)\n",
    "df['Kitchen_Display_Time'] = pd.to_datetime(df['Kitchen_Display_Time'])\n",
    "df['Oven_Time'] = pd.to_datetime(df['Oven_Time'])\n",
    "df['prep_time'] = df['Oven_Time'] - df['Kitchen_Display_Time']\n",
    "df['prep_time'] = round(df['prep_time']/np.timedelta64(1, 's')).astype(int) + 7*60\n",
    "print(df.shape)\n",
    "df.head()"
   ]
  },
  {
   "cell_type": "code",
   "execution_count": 5,
   "id": "5b1180d6",
   "metadata": {
    "ExecuteTime": {
     "end_time": "2022-11-09T19:47:22.555866Z",
     "start_time": "2022-11-09T19:47:22.524389Z"
    }
   },
   "outputs": [
    {
     "data": {
      "text/plain": [
       "(array(['PIZ0200', 'PIZ5106', 'PIZ0121', 'PIZ0120', 'PIZ0130', 'PIZ0129',\n",
       "        'PIZ0131', 'PIZ0133', 'PIZ0117', 'PIZ0134', 'PIZ0165', 'BRD0020',\n",
       "        'CAKE02', 'BRD0031', 'NVPARCEL', 'SID0069', 'SID0046', 'PIZ0140',\n",
       "        'PIZ0132', 'PIZ5126', 'PIZ5155', 'NVPARCL2', 'PIZ0125', 'TACVG05',\n",
       "        'PIZ0172', 'PIZ5144', 'BRD0033', 'PIZ0191', 'PIZ0193', 'PIZ0206',\n",
       "        'PIZ0192', 'PIZ5135', 'PIZ0179', 'PIZ0119', 'BRD0024', 'PIZ0124',\n",
       "        'PIZ5122', 'PIZ0127', 'PIZ0148', 'BRD0030', 'VGPARCEL', 'PIZ0162',\n",
       "        'SID0060', 'SID0063', 'TACNV06', 'PIZ5156', 'PIZ0195', 'PIZ0197',\n",
       "        'PIZ0164', 'PIZ0128', 'PIZ0194', 'PIZ5157', 'SID0059', 'PIZ0177',\n",
       "        'PIZ0196', 'CAKE06', 'PIZ0118', 'PIZ5124', 'PIZ0170', 'TACVG04',\n",
       "        'PIZ5109', 'SID0057', 'PIZ0171', 'BRD0032', 'TACVG07', 'SID0035',\n",
       "        'PIZ5127', 'PIZ5119', 'PIZ0150', 'PIZ0201', 'BRD0035', 'PIZ0207',\n",
       "        'PIZ0178', 'PIZ0184', 'SID0058', 'CAKE05', 'VGPARCL2', 'PIZ0174',\n",
       "        'PIZ0126', 'SID0077', 'SID0037', 'PIZ0180', 'SID0081', 'PIZ5143',\n",
       "        'PIZ5161', 'SID0065', 'PIZ0173', 'PIZ0122', 'CAKE03', 'SID0064',\n",
       "        'PIZ5131', 'SID0036', 'SID0040', 'PIZ0182', 'PIZ0188', 'BRD0036',\n",
       "        'PIZ5148', 'PIZ5145', 'SID0062', 'PIZ5142', 'TACVG08', 'SID0101',\n",
       "        'SID0079', 'PIZ5140', 'SID0039', 'PIZ5154', 'SID0080', 'SID0102',\n",
       "        'SID0082', 'SID0083', 'TACNV08', 'PIZ5147', 'SID0087', 'PIZ5158',\n",
       "        'PIZ0183', 'SID0068', 'PIZ5123', 'PIZ5125', 'SID0085', 'PIZ5137',\n",
       "        'PIZ0176', 'PIZ5160', 'SID0084', 'PIZ5159', 'PIZ5146', 'PIZ0175',\n",
       "        'PIZ5141', 'PIZ0189', 'PIZ5153', 'PIZ5165', 'PIZ5120', 'SID0086',\n",
       "        'PIZ5149', 'SID0105', 'SID0103', 'SID0088', 'SID0067', 'PIZ0186',\n",
       "        'PIZ5150', 'PIZ0163', 'SID0100', 'PIZ5152', 'CAKE04', 'PIZ0185',\n",
       "        'SID0066', 'SID0075'], dtype=object),\n",
       " array(['DPI66576', 'DPI66154', 'DPI66449', 'DPI66313', 'DPI63827',\n",
       "        'DPI66653', 'DPI66221', 'DPI64196', 'DPI67072', 'DPI66373',\n",
       "        'DPI66153', 'DPI63919'], dtype=object))"
      ]
     },
     "execution_count": 5,
     "metadata": {},
     "output_type": "execute_result"
    }
   ],
   "source": [
    "allMenuCodes = df['Menu_Code'].unique()\n",
    "allStoreIds = df['Location_Code'].unique()\n",
    "# allMenuCodes, allStoreIds"
   ]
  },
  {
   "cell_type": "code",
   "execution_count": 6,
   "id": "9f85e8d0",
   "metadata": {
    "ExecuteTime": {
     "end_time": "2022-11-09T19:47:39.776282Z",
     "start_time": "2022-11-09T19:47:38.800127Z"
    }
   },
   "outputs": [],
   "source": [
    "sampleItem=None\n",
    "for index, item in df.iterrows():\n",
    "    sampleItem = item\n",
    "    break"
   ]
  },
  {
   "cell_type": "code",
   "execution_count": 7,
   "id": "a366b592",
   "metadata": {
    "ExecuteTime": {
     "end_time": "2022-11-09T19:47:39.790141Z",
     "start_time": "2022-11-09T19:47:39.780831Z"
    }
   },
   "outputs": [
    {
     "data": {
      "text/plain": [
       "Location_Code                              DPI66576\n",
       "Order_Date                      2022-07-01 00:00:00\n",
       "Order_Number                                      1\n",
       "Kitchen_Display_Time     2022-07-01 11:06:45.417000\n",
       "Oven_Time                2022-07-01 11:07:26.867000\n",
       "Menu_Code                                   PIZ0200\n",
       "Item Description        Corn n Cheese Paratha Pizza\n",
       "Quantity                                        1.0\n",
       "Delivery_Time                                   NaN\n",
       "prep_time                                       461\n",
       "Name: 92935, dtype: object"
      ]
     },
     "execution_count": 7,
     "metadata": {},
     "output_type": "execute_result"
    }
   ],
   "source": [
    "sampleItem"
   ]
  },
  {
   "cell_type": "code",
   "execution_count": 8,
   "id": "82ae6338",
   "metadata": {
    "ExecuteTime": {
     "end_time": "2022-11-09T19:47:42.027130Z",
     "start_time": "2022-11-09T19:47:42.019389Z"
    }
   },
   "outputs": [],
   "source": [
    "# Feature 1: store id\n",
    "def getOneHotEncodingStore(storeId, stores=allStoreIds):\n",
    "    oneHotEncodingList = []\n",
    "    for i in range(0, len(stores)):\n",
    "        if(stores[i] == storeId):\n",
    "            oneHotEncodingList.append(1)\n",
    "        else:\n",
    "            oneHotEncodingList.append(0)\n",
    "    return oneHotEncodingList\n",
    "\n",
    "# returns the feature store id for an order\n",
    "def getStoreId(item, isOneHotEncodingRequired=False):\n",
    "    if isOneHotEncodingRequired:\n",
    "        return getOneHotEncodingStore(item['Location_Code'], allStoreIds)\n",
    "    else:\n",
    "        return [item['Location_Code']]"
   ]
  },
  {
   "cell_type": "code",
   "execution_count": 9,
   "id": "00c99098",
   "metadata": {
    "ExecuteTime": {
     "end_time": "2022-11-09T19:47:45.357923Z",
     "start_time": "2022-11-09T19:47:45.351107Z"
    }
   },
   "outputs": [
    {
     "name": "stdout",
     "output_type": "stream",
     "text": [
      "['DPI66576']\n",
      "[1, 0, 0, 0, 0, 0, 0, 0, 0, 0, 0, 0]\n"
     ]
    }
   ],
   "source": [
    "print(getStoreId(sampleItem))\n",
    "print(getStoreId(sampleItem, True))"
   ]
  },
  {
   "cell_type": "code",
   "execution_count": 10,
   "id": "efc16550",
   "metadata": {
    "ExecuteTime": {
     "end_time": "2022-11-09T19:47:47.805484Z",
     "start_time": "2022-11-09T19:47:47.796658Z"
    }
   },
   "outputs": [],
   "source": [
    "# Feature 2: Item Type\n",
    "def getOneHotEncodingItem(item, items=allMenuCodes, clubCategoryWise=False):\n",
    "    if clubCategoryWise:\n",
    "        newItemsList = []\n",
    "        newItemsList = [i[0:3] for i in items]\n",
    "        unique_items = list(dict.fromkeys(newItemsList))\n",
    "        return getOneHotEncodingItem(item[0:3], unique_items, False)\n",
    "    \n",
    "    oneHotEncodingList=[]\n",
    "    for i in range(0, len(items)):\n",
    "        if (items[i] == item):\n",
    "            oneHotEncodingList.append(1)\n",
    "        else:\n",
    "            oneHotEncodingList.append(0)\n",
    "    return oneHotEncodingList\n",
    "\n",
    "def getItemType(item, isOneHotEncodingRequired=False, clubCategoryWise=False):\n",
    "    if (not isOneHotEncodingRequired):\n",
    "        if clubCategoryWise:\n",
    "            return [item['Menu_Code'][0:3]]\n",
    "        return [item['Menu_Code']]\n",
    "    else:\n",
    "        return getOneHotEncodingItem(item['Menu_Code'], allMenuCodes, clubCategoryWise)"
   ]
  },
  {
   "cell_type": "code",
   "execution_count": 11,
   "id": "f32862ec",
   "metadata": {
    "ExecuteTime": {
     "end_time": "2022-11-09T19:47:49.432822Z",
     "start_time": "2022-11-09T19:47:49.424079Z"
    }
   },
   "outputs": [
    {
     "name": "stdout",
     "output_type": "stream",
     "text": [
      "['PIZ0200']\n",
      "[1, 0, 0, 0, 0, 0, 0, 0, 0, 0, 0, 0, 0, 0, 0, 0, 0, 0, 0, 0, 0, 0, 0, 0, 0, 0, 0, 0, 0, 0, 0, 0, 0, 0, 0, 0, 0, 0, 0, 0, 0, 0, 0, 0, 0, 0, 0, 0, 0, 0, 0, 0, 0, 0, 0, 0, 0, 0, 0, 0, 0, 0, 0, 0, 0, 0, 0, 0, 0, 0, 0, 0, 0, 0, 0, 0, 0, 0, 0, 0, 0, 0, 0, 0, 0, 0, 0, 0, 0, 0, 0, 0, 0, 0, 0, 0, 0, 0, 0, 0, 0, 0, 0, 0, 0, 0, 0, 0, 0, 0, 0, 0, 0, 0, 0, 0, 0, 0, 0, 0, 0, 0, 0, 0, 0, 0, 0, 0, 0, 0, 0, 0, 0, 0, 0, 0, 0, 0, 0, 0, 0, 0, 0, 0, 0, 0]\n",
      "['PIZ']\n",
      "[1, 0, 0, 0, 0, 0, 0]\n"
     ]
    }
   ],
   "source": [
    "print(getItemType(sampleItem))\n",
    "print(getItemType(sampleItem, True))\n",
    "print(getItemType(sampleItem, clubCategoryWise=True))\n",
    "print(getItemType(sampleItem, True, True))"
   ]
  },
  {
   "cell_type": "code",
   "execution_count": 12,
   "id": "69429a92",
   "metadata": {
    "ExecuteTime": {
     "end_time": "2022-11-09T19:47:51.365563Z",
     "start_time": "2022-11-09T19:47:51.356644Z"
    }
   },
   "outputs": [],
   "source": [
    "# Feature 3: TimeSlot of kitchen display time\n",
    "total_slots = 24\n",
    "def getTimeslot(dt, slots=total_slots):\n",
    "\tcurrent = datetime(2011, 1, 1)\n",
    "\tt1 = current.time()\n",
    "\tt2 = dt.time()\n",
    "\tfor i in range(0, slots):\n",
    "\t\tcurrent = current + timedelta(minutes = 60*24/slots)\n",
    "\t\tif(current.time() > t2):\n",
    "\t\t\treturn i\n",
    "\treturn slots-1\n",
    "\n",
    "def getOneHotEncodingTimeSlot(timeslot):\n",
    "    oneHotEncodingList = []\n",
    "    for i in range(0, 24):\n",
    "        oneHotEncodingList.append(0)\n",
    "    oneHotEncodingList[timeslot] = 1\n",
    "    return oneHotEncodingList\n",
    "\n",
    "def getTimeSlotOfKitchenDisplayTime(item, isOneHotEncodingRequired=False):\n",
    "    timeslot = getTimeslot(item['Kitchen_Display_Time'], 24)\n",
    "    if isOneHotEncodingRequired:\n",
    "        return getOneHotEncodingTimeSlot(timeslot)\n",
    "    else:\n",
    "        return [timeslot]"
   ]
  },
  {
   "cell_type": "code",
   "execution_count": 13,
   "id": "e017e620",
   "metadata": {
    "ExecuteTime": {
     "end_time": "2022-11-09T19:47:53.036939Z",
     "start_time": "2022-11-09T19:47:53.032237Z"
    }
   },
   "outputs": [],
   "source": [
    "def get_preparation_time(item):\n",
    "    return item['prep_time']\n",
    "# \tdiff = item['Oven_Time'] - item['Kitchen_Display_Time']\n",
    "# \treturn diff.total_seconds() + 7*60"
   ]
  },
  {
   "cell_type": "code",
   "execution_count": 14,
   "id": "ab5dcdcb",
   "metadata": {
    "ExecuteTime": {
     "end_time": "2022-11-09T20:34:51.163081Z",
     "start_time": "2022-11-09T19:47:54.658693Z"
    }
   },
   "outputs": [
    {
     "name": "stderr",
     "output_type": "stream",
     "text": [
      "/tmp/ipykernel_236661/2016951000.py:29: SettingWithCopyWarning: \n",
      "A value is trying to be set on a copy of a slice from a DataFrame\n",
      "\n",
      "See the caveats in the documentation: https://pandas.pydata.org/pandas-docs/stable/user_guide/indexing.html#returning-a-view-versus-a-copy\n",
      "  df['pre_prep_time'][index] = 10*60\n",
      "/tmp/ipykernel_236661/2016951000.py:25: SettingWithCopyWarning: \n",
      "A value is trying to be set on a copy of a slice from a DataFrame\n",
      "\n",
      "See the caveats in the documentation: https://pandas.pydata.org/pandas-docs/stable/user_guide/indexing.html#returning-a-view-versus-a-copy\n",
      "  df['pre_prep_time'][index] = 10*60\n",
      "/tmp/ipykernel_236661/2016951000.py:23: SettingWithCopyWarning: \n",
      "A value is trying to be set on a copy of a slice from a DataFrame\n",
      "\n",
      "See the caveats in the documentation: https://pandas.pydata.org/pandas-docs/stable/user_guide/indexing.html#returning-a-view-versus-a-copy\n",
      "  df['pre_prep_time'][index] = pt/count\n"
     ]
    }
   ],
   "source": [
    "#DON\"T RUN IT AGAIN AND AGAIN, it will take much more time\n",
    "# Feature 4 : Count of all baking items of all orders received by the store in the last 20 minutes.\n",
    "\n",
    "# Pre-preparation of data\n",
    "df['pre_prep_time'] = 0\n",
    "\n",
    "StoreWiseItems = {}\n",
    "for index, item in df.iterrows():\n",
    "    store = item['Location_Code']\n",
    "    if store in StoreWiseItems:\n",
    "        dtKitchenDisplay = item['Kitchen_Display_Time']\n",
    "        lastTime = dtKitchenDisplay - timedelta(minutes=60)\n",
    "        count = 0\n",
    "        pt = 0\n",
    "        for i in reversed(range(len(StoreWiseItems[store]))):\n",
    "            if(StoreWiseItems[store][i]['Kitchen_Display_Time'] >= lastTime and StoreWiseItems[store][i]['Kitchen_Display_Time'] < dtKitchenDisplay):\n",
    "                if(StoreWiseItems[store][i]['Menu_Code'] == item['Menu_Code']):\n",
    "                    pt += get_preparation_time(item)\n",
    "                    count+=1\n",
    "            else:\n",
    "                break\n",
    "        if count != 0:\n",
    "            df['pre_prep_time'][index] = pt/count\n",
    "        else:\n",
    "            df['pre_prep_time'][index] = 10*60\n",
    "        StoreWiseItems[store].append(item)\n",
    "    else:\n",
    "        StoreWiseItems[store] = [item]\n",
    "        df['pre_prep_time'][index] = 10*60\n",
    "\n",
    "        \n",
    "storeWiseCumulativeItems = {}\n",
    "StoreWiseDFs = {}\n",
    "for store in StoreWiseItems.keys():\n",
    "    StoreWiseDFs[store] = pd.DataFrame.from_dict(StoreWiseItems[store])\n",
    "    storeWiseCumulativeItems[store] = {}\n",
    "\n",
    "# item count per slot\n",
    "for store in StoreWiseItems.keys():\n",
    "    for item in StoreWiseItems[store]:\n",
    "        date = item['Order_Date']\n",
    "        minuteSlot = getTimeslot(item['Kitchen_Display_Time'], 24*60)\n",
    "        if date in storeWiseCumulativeItems[store]:\n",
    "            storeWiseCumulativeItems[store][date][minuteSlot]+=1\n",
    "        else:\n",
    "            t = []\n",
    "            for i in range(0, 24*60):\n",
    "                t.append(0)\n",
    "            storeWiseCumulativeItems[store][date] = t\n",
    "            storeWiseCumulativeItems[store][date][minuteSlot] = 1\n",
    "            \n",
    "#prefix sum            \n",
    "for store in storeWiseCumulativeItems.keys():\n",
    "    for date in storeWiseCumulativeItems[store].keys():\n",
    "        for i in range(1, 24*60):\n",
    "            storeWiseCumulativeItems[store][date][i] += storeWiseCumulativeItems[store][date][i-1]\n",
    "            \n",
    "            \n",
    "def countPastOrders(item, storeWiseCumulativeItems=storeWiseCumulativeItems, slotTime=30):\n",
    "    minuteSlot = getTimeslot(item['Kitchen_Display_Time'], 24*60)\n",
    "    total = storeWiseCumulativeItems[item['Location_Code']][item['Order_Date']][minuteSlot]\n",
    "    prev = storeWiseCumulativeItems[item['Location_Code']][item['Order_Date']][max(minuteSlot-slotTime, 0)]\n",
    "    return [(total-prev)]"
   ]
  },
  {
   "cell_type": "code",
   "execution_count": 15,
   "id": "deff2369",
   "metadata": {
    "ExecuteTime": {
     "end_time": "2022-11-09T20:34:51.191978Z",
     "start_time": "2022-11-09T20:34:51.175224Z"
    }
   },
   "outputs": [
    {
     "name": "stdout",
     "output_type": "stream",
     "text": [
      "[1]\n",
      "[1]\n"
     ]
    }
   ],
   "source": [
    "print(\"time = StoreWiseItems and countPastOrders\", time.time()-t100)\n",
    "\n",
    "# print(countPastOrders(sampleItem))\n",
    "# print(countPastOrders(sampleItem, slotTime=10))\n",
    "\n",
    "d = datetime.strptime('2021-12-20 00:00:00', '%Y-%m-%d %H:%M:%S')\n",
    "# storeWiseCumulativeItems[sampleItem['Location_Code']][d]"
   ]
  },
  {
   "cell_type": "code",
   "execution_count": 16,
   "id": "16758989",
   "metadata": {
    "ExecuteTime": {
     "end_time": "2022-11-09T20:46:09.658388Z",
     "start_time": "2022-11-09T20:46:09.642075Z"
    }
   },
   "outputs": [
    {
     "data": {
      "text/plain": [
       "list"
      ]
     },
     "execution_count": 16,
     "metadata": {},
     "output_type": "execute_result"
    }
   ],
   "source": [
    "# type(StoreWiseItems[sampleItem['Location_Code']])"
   ]
  },
  {
   "cell_type": "code",
   "execution_count": 17,
   "id": "1871e71a",
   "metadata": {
    "ExecuteTime": {
     "end_time": "2022-11-09T20:46:12.399240Z",
     "start_time": "2022-11-09T20:46:12.378661Z"
    }
   },
   "outputs": [],
   "source": [
    "# Feature 5 : Avg prep time of the same item in the same store in last 60 minutes.\n",
    "\n",
    "def getPreviousPrepTime(item, StoreWiseItems=StoreWiseItems, clubCategoryWise=False, timeslot = 60):\n",
    "    dtKitchenDisplay = item['Kitchen_Display_Time']\n",
    "    lastTime = dtKitchenDisplay - timedelta(minutes=timeslot)\n",
    "    \n",
    "    orderedItem = item['Menu_Code']\n",
    "    prepTime = []\n",
    "    if clubCategoryWise:\n",
    "        orderedItem = orderedItem[0:3]\n",
    "    d = StoreWiseDFs[item['Location_Code']]\n",
    "    tdf = d[(d['Menu_Code'].str[0:len(orderedItem)]==orderedItem) \\\n",
    "             & (d['Kitchen_Display_Time'] >= lastTime) & (d['Kitchen_Display_Time'] <= dtKitchenDisplay)]\n",
    "\n",
    "    if(len(tdf)>0):\n",
    "        return [tdf['prep_time'].mean()]\n",
    "    else:\n",
    "        return [10*60]\n",
    "\n",
    "\n",
    "# def getPreviousPrepTime(item, StoreWiseItems=StoreWiseItems, clubCategoryWise=False, timeslot = 60):\n",
    "#     dtKitchenDisplay = item['Kitchen_Display_Time']\n",
    "#     lastTime = dtKitchenDisplay - timedelta(minutes=timeslot)\n",
    "    \n",
    "#     orderedItem = item['Menu_Code']\n",
    "#     prepTime = []\n",
    "#     if clubCategoryWise:\n",
    "#         orderedItem = orderedItem[0:3]\n",
    "#     tdf = df[(df['Location_Code']==item['Location_Code']) & (df['Menu_Code'].str[0:len(orderedItem)]==orderedItem) \\\n",
    "#              & (df['Kitchen_Display_Time'] >= lastTime) & (df['Kitchen_Display_Time'] <= dtKitchenDisplay)]\n",
    "\n",
    "#     if(len(tdf)>0):\n",
    "#         return [tdf['prep_time'].mean()]\n",
    "#     else:\n",
    "#         return [10*60]\n",
    "\n",
    "    \n",
    "# Feature 6 : Length of the queue in the store at that time\n",
    "def lengthQueue(item):\n",
    "    dtKitchenDisplay = item['Kitchen_Display_Time']\n",
    "    d = StoreWiseDFs[item['Location_Code']]\n",
    "    tdf = d[(d['Oven_Time'] >= dtKitchenDisplay) & (d['Kitchen_Display_Time'] <= dtKitchenDisplay)]\n",
    "    \n",
    "#     prepTime = []\n",
    "#     tdf = df[(df['Location_Code']==item['Location_Code']) & \\\n",
    "#              (df['Oven_Time'] >= dtKitchenDisplay) & (df['Kitchen_Display_Time'] <= dtKitchenDisplay)]\n",
    "    return len(tdf.index)\n",
    "#     for order in StoreWiseItems[item['Location_Code']]:\n",
    "#         if(order['Kitchen_Display_Time'] >= lastTime and order['Kitchen_Display_Time'] <= dtKitchenDisplay):\n",
    "#             if (order['Menu_Code'][0:len(orderedItem)] == orderedItem):\n",
    "#                 prepTime.append(get_preparation_time(order))\n",
    "#     if(len(prepTime) > 0):\n",
    "#         return [mean(prepTime)]\n",
    "#     else:\n",
    "#         return [10*60] # POINT OF DISCUSSION, For now taking 10 minutes"
   ]
  },
  {
   "cell_type": "code",
   "execution_count": 18,
   "id": "d888e7ad",
   "metadata": {
    "ExecuteTime": {
     "end_time": "2022-11-09T20:46:13.687985Z",
     "start_time": "2022-11-09T20:46:13.634437Z"
    }
   },
   "outputs": [
    {
     "data": {
      "text/plain": [
       "1"
      ]
     },
     "execution_count": 18,
     "metadata": {},
     "output_type": "execute_result"
    }
   ],
   "source": [
    "getPreviousPrepTime(sampleItem, StoreWiseItems, False, 60)\n",
    "lengthQueue(sampleItem)"
   ]
  },
  {
   "cell_type": "code",
   "execution_count": 19,
   "id": "6fafe112",
   "metadata": {
    "ExecuteTime": {
     "end_time": "2022-11-09T20:46:14.966279Z",
     "start_time": "2022-11-09T20:46:14.658991Z"
    }
   },
   "outputs": [
    {
     "name": "stdout",
     "output_type": "stream",
     "text": [
      "Location_Code                              DPI66576\n",
      "Order_Date                      2022-07-01 00:00:00\n",
      "Order_Number                                      1\n",
      "Kitchen_Display_Time     2022-07-01 11:06:45.417000\n",
      "Oven_Time                2022-07-01 11:07:26.867000\n",
      "Menu_Code                                   PIZ0200\n",
      "Item Description        Corn n Cheese Paratha Pizza\n",
      "Quantity                                        1.0\n",
      "Delivery_Time                                   NaN\n",
      "prep_time                                       461\n",
      "Name: 92935, dtype: object 1\n",
      "[461]\n"
     ]
    },
    {
     "data": {
      "text/html": [
       "<div>\n",
       "<style scoped>\n",
       "    .dataframe tbody tr th:only-of-type {\n",
       "        vertical-align: middle;\n",
       "    }\n",
       "\n",
       "    .dataframe tbody tr th {\n",
       "        vertical-align: top;\n",
       "    }\n",
       "\n",
       "    .dataframe thead th {\n",
       "        text-align: right;\n",
       "    }\n",
       "</style>\n",
       "<table border=\"1\" class=\"dataframe\">\n",
       "  <thead>\n",
       "    <tr style=\"text-align: right;\">\n",
       "      <th></th>\n",
       "      <th>Location_Code</th>\n",
       "      <th>Order_Date</th>\n",
       "      <th>Order_Number</th>\n",
       "      <th>Kitchen_Display_Time</th>\n",
       "      <th>Oven_Time</th>\n",
       "      <th>Menu_Code</th>\n",
       "      <th>Item Description</th>\n",
       "      <th>Quantity</th>\n",
       "      <th>Delivery_Time</th>\n",
       "      <th>prep_time</th>\n",
       "      <th>pre_prep_time</th>\n",
       "    </tr>\n",
       "  </thead>\n",
       "  <tbody>\n",
       "    <tr>\n",
       "      <th>92935</th>\n",
       "      <td>DPI66576</td>\n",
       "      <td>2022-07-01 00:00:00</td>\n",
       "      <td>1</td>\n",
       "      <td>2022-07-01 11:06:45.417</td>\n",
       "      <td>2022-07-01 11:07:26.867</td>\n",
       "      <td>PIZ0200</td>\n",
       "      <td>Corn n Cheese Paratha Pizza</td>\n",
       "      <td>1.0</td>\n",
       "      <td>NaN</td>\n",
       "      <td>461</td>\n",
       "      <td>600</td>\n",
       "    </tr>\n",
       "  </tbody>\n",
       "</table>\n",
       "</div>"
      ],
      "text/plain": [
       "      Location_Code           Order_Date  Order_Number  \\\n",
       "92935      DPI66576  2022-07-01 00:00:00             1   \n",
       "\n",
       "         Kitchen_Display_Time               Oven_Time Menu_Code  \\\n",
       "92935 2022-07-01 11:06:45.417 2022-07-01 11:07:26.867   PIZ0200   \n",
       "\n",
       "                  Item Description  Quantity Delivery_Time  prep_time  \\\n",
       "92935  Corn n Cheese Paratha Pizza       1.0           NaN        461   \n",
       "\n",
       "       pre_prep_time  \n",
       "92935            600  "
      ]
     },
     "execution_count": 19,
     "metadata": {},
     "output_type": "execute_result"
    }
   ],
   "source": [
    "item = sampleItem\n",
    "orderedItem = item['Menu_Code']\n",
    "orderedItem = orderedItem[0:3]\n",
    "dtKitchenDisplay = item['Kitchen_Display_Time']\n",
    "lastTime = dtKitchenDisplay - timedelta(minutes=60)\n",
    "tdf = df[(df['Location_Code']==item['Location_Code']) & (df['Menu_Code'].str[0:len(orderedItem)]==orderedItem) \\\n",
    "         & (df['Kitchen_Display_Time'] >= lastTime) & (df['Kitchen_Display_Time'] <= dtKitchenDisplay)]\n",
    "# print(item, len(tdf)) \n",
    "# if(len(tdf)>0):\n",
    "#     print([round(tdf['prep_time'].mean())])\n",
    "# tdf"
   ]
  },
  {
   "cell_type": "code",
   "execution_count": 20,
   "id": "66e020fb",
   "metadata": {
    "ExecuteTime": {
     "end_time": "2022-11-09T20:46:17.211939Z",
     "start_time": "2022-11-09T20:46:17.203763Z"
    }
   },
   "outputs": [],
   "source": [
    "# global variables\n",
    "\n",
    "isThresholdForPreparationTime = False\n",
    "thresholdForPreparationTime = 30 # minutes for preparation time (threshold)\n",
    "\n",
    "clubItemsCategoryWise = False\n",
    "\n",
    "splitMethod = 'random'\n",
    "slotTimeForPastOrders = 20 # minutes\n",
    "\n",
    "model = 'RF'\n",
    "isOneHotEncodingRequired = True\n",
    "isNormalizationRequired = True\n",
    "\n",
    "print(\"time preprocess start\", time.time()-t100)"
   ]
  },
  {
   "cell_type": "code",
   "execution_count": 21,
   "id": "fd3e4965",
   "metadata": {
    "ExecuteTime": {
     "end_time": "2022-11-09T21:20:50.606299Z",
     "start_time": "2022-11-09T20:46:20.083518Z"
    }
   },
   "outputs": [
    {
     "name": "stdout",
     "output_type": "stream",
     "text": [
      "0.24967670440673828 0.4538240432739258 0.49755287170410156 12.18809175491333 48.761322021484375 9.394202470779419 0.20300889015197754\n",
      "0.5167276859283447 0.9555792808532715 1.0259194374084473 24.875712871551514 101.09220600128174 19.394699573516846 0.42491650581359863\n",
      "0.7595300674438477 1.3911221027374268 1.4884417057037354 35.83717322349548 146.9195911884308 28.527895212173462 0.6193215847015381\n",
      "0.9882943630218506 1.7882657051086426 1.9343984127044678 46.71658539772034 189.85033869743347 37.229572057724 0.7958436012268066\n",
      "1.2564671039581299 2.2904558181762695 2.4693963527679443 59.713531732559204 241.37239694595337 47.21010231971741 1.018265724182129\n",
      "1.4744033813476562 2.6569631099700928 2.8919224739074707 70.11709785461426 282.32024455070496 55.615246534347534 1.182546615600586\n",
      "1.6749980449676514 2.968024492263794 3.271158456802368 79.71612048149109 319.2427079677582 63.52835559844971 1.3255581855773926\n",
      "1.9369754791259766 3.4573974609375 3.792141914367676 92.66671586036682 369.5163502693176 73.28461837768555 1.5416059494018555\n",
      "2.1431868076324463 3.7898871898651123 4.180428504943848 102.29953908920288 408.2186014652252 81.35011386871338 1.6920676231384277\n",
      "2.375394821166992 4.209781646728516 4.6257483959198 113.19890427589417 452.92512345314026 90.2598328590393 1.8796882629394531\n",
      "2.624988317489624 4.672800540924072 5.115047454833984 125.52002763748169 500.66043162345886 99.48335289955139 2.0788025856018066\n",
      "2.819873332977295 4.98393988609314 5.49399471282959 135.2692232131958 537.272780418396 107.16461181640625 2.2170112133026123\n",
      "3.0621466636657715 5.417406320571899 5.960682392120361 146.42197251319885 582.9309368133545 116.18878078460693 2.405115842819214\n",
      "3.3111979961395264 5.866810321807861 6.443794012069702 158.1763401031494 629.7873792648315 125.53549766540527 2.6056454181671143\n",
      "3.5814719200134277 6.364017009735107 6.96920919418335 170.84300827980042 680.4020669460297 135.4942445755005 2.829937696456909\n",
      "3.8421437740325928 6.850819826126099 7.478081941604614 183.20544576644897 729.0320944786072 145.03733897209167 3.0425429344177246\n",
      "4.087068319320679 7.2925684452056885 7.955587863922119 195.3988070487976 774.7027628421783 154.1658685207367 3.2402219772338867\n",
      "4.299454927444458 7.644349813461304 8.35447907447815 205.05452919006348 813.923600435257 162.28841710090637 3.3971524238586426\n",
      "4.503957509994507 7.987159013748169 8.746710538864136 214.8124418258667 852.3058409690857 170.27199625968933 3.552213191986084\n",
      "4.746618270874023 8.419410705566406 9.218953847885132 226.476304769516 897.9946820735931 179.38542127609253 3.7439632415771484\n",
      "4.974947214126587 8.815183877944946 9.653343677520752 236.89752221107483 940.0107963085175 187.92141151428223 3.92063045501709\n",
      "5.212745428085327 9.230522155761719 10.117215156555176 248.28545999526978 985.0405166149139 197.0417468547821 4.110917568206787\n",
      "5.427077770233154 9.577015399932861 10.527299165725708 258.13834500312805 1023.8996529579163 205.1489977836609 4.2664854526519775\n",
      "5.633012533187866 9.920447826385498 10.932110786437988 268.2841143608093 1062.734811782837 213.2220904827118 4.422351598739624\n",
      "5.858688116073608 10.311152219772339 11.375924348831177 279.28139424324036 1105.0350086688995 221.76090288162231 4.595693588256836\n",
      "6.125317573547363 10.797301530838013 11.888557434082031 291.2237470149994 1154.8816058635712 231.52316188812256 4.818425416946411\n",
      "6.383066892623901 11.258297443389893 12.389824628829956 303.1252977848053 1204.3164927959442 240.9426085948944 5.028578042984009\n",
      "6.624681711196899 11.679019927978516 12.856034994125366 314.17621183395386 1249.2383346557617 249.9683380126953 5.219487428665161\n",
      "6.826044797897339 12.006436586380005 13.242974281311035 323.6245551109314 1287.2215385437012 257.8495180606842 5.366366147994995\n",
      "7.022527694702148 12.311238288879395 13.617730617523193 333.132262468338 1323.63458943367 265.6092448234558 5.5087809562683105\n",
      "7.258599281311035 12.718717098236084 14.078191757202148 344.105327129364 1367.1189711093903 274.48289704322815 5.695536136627197\n",
      "7.331009864807129 12.85054636001587 14.23134160041809 348.15003395080566 1380.5632486343384 277.1299510002136 5.754015684127808\n"
     ]
    }
   ],
   "source": [
    "X_train, X_test, y_train, y_test = [], [], [], []\n",
    "X = []\n",
    "y = []\n",
    "import time\n",
    "t1 = t2 = t3 = t4 = t5 = t6 = t7 = 0\n",
    "i = 0\n",
    "for index, item in df.iterrows():\n",
    "    i+=1\n",
    "#     if(i%5000==0): print(t1, t2, t3, t4, t5, t6, t7)\n",
    "    if(isThresholdForPreparationTime and (get_preparation_time(item) > thresholdForPreparationTime*60)): #removing inputs \n",
    "        continue\n",
    "        \n",
    "    features = []\n",
    "    t = time.time()\n",
    "    features = features + getStoreId(item, isOneHotEncodingRequired)\n",
    "    t1 += time.time() - t\n",
    "    \n",
    "    t = time.time()\n",
    "    features = features + getItemType(item, isOneHotEncodingRequired=isOneHotEncodingRequired, clubCategoryWise=clubItemsCategoryWise)\n",
    "    t2 += time.time() - t\n",
    "\n",
    "    t = time.time()    \n",
    "    features = features + getTimeSlotOfKitchenDisplayTime(item, isOneHotEncodingRequired=isOneHotEncodingRequired)\n",
    "    t3 += time.time() - t\n",
    "\n",
    "    t = time.time()\n",
    "    features = features + countPastOrders(item, storeWiseCumulativeItems, slotTimeForPastOrders) \n",
    "    t4 += time.time() - t\n",
    "\n",
    "    t = time.time()\n",
    "    features = features + getPreviousPrepTime(item, clubCategoryWise=clubItemsCategoryWise, timeslot = 60)  \n",
    "    t5 += time.time() - t\n",
    "\n",
    "    t = time.time()        \n",
    "    features = features + [lengthQueue(item)]\n",
    "    t6 += time.time() - t\n",
    "    \n",
    "    t = time.time()\n",
    "    X.append(features)\n",
    "    y.append(get_preparation_time(item))\n",
    "    t7 += time.time() - t\n",
    "\n",
    "#     if((order['ORDER_DATE'] >='2021-12-20' and order['ORDER_DATE'] <= '2021-12-24') or (order['ORDER_DATE'] >='2021-12-27' and order['ORDER_DATE'] <= '2021-12-29')):\n",
    "#         X_train.append(features)\n",
    "#         y_train.append(420+round(get_preparation_time(order)))\n",
    "#     elif(order['ORDER_DATE'] =='2021-12-30'):\n",
    "#         X_test.append(features)\n",
    "#         y_test.append(420+round(get_preparation_time(order)))\n",
    "print(t1, t2, t3, t4, t5, t6, t7)\n",
    "print(\"time preprocess Done\", time.time()-t100)"
   ]
  },
  {
   "cell_type": "code",
   "execution_count": 22,
   "id": "ec7c7446",
   "metadata": {
    "ExecuteTime": {
     "end_time": "2022-11-09T21:20:50.748923Z",
     "start_time": "2022-11-09T21:20:50.613620Z"
    }
   },
   "outputs": [],
   "source": [
    "if splitMethod == 'random':\n",
    "    X_train, X_test, y_train, y_test = train_test_split(X, y, test_size = 0.20, random_state = 42)"
   ]
  },
  {
   "cell_type": "code",
   "execution_count": 23,
   "id": "86367044",
   "metadata": {
    "ExecuteTime": {
     "end_time": "2022-11-09T21:21:02.007065Z",
     "start_time": "2022-11-09T21:21:02.000556Z"
    }
   },
   "outputs": [],
   "source": [
    "def getRMSE(actual, predictions):\n",
    "    mse = sklearn.metrics.mean_squared_error(actual, predictions)\n",
    "    return math.sqrt(mse)"
   ]
  },
  {
   "cell_type": "code",
   "execution_count": 24,
   "id": "16ee20d2",
   "metadata": {
    "ExecuteTime": {
     "end_time": "2022-11-09T21:29:49.609254Z",
     "start_time": "2022-11-09T21:21:10.554413Z"
    }
   },
   "outputs": [
    {
     "name": "stdout",
     "output_type": "stream",
     "text": [
      "Random Forest Model\n",
      "RMSE score on train set:  19.03656939141919\n",
      "RMSE score on test set:  54.023784101241766\n"
     ]
    }
   ],
   "source": [
    "# random forest\n",
    "if (model=='RF'):\n",
    "    print(\"Random Forest Model\")\n",
    "    regressor = RandomForestRegressor()\n",
    "    if(isNormalizationRequired):\n",
    "        scaler = StandardScaler()\n",
    "        scaler.fit(X_train)\n",
    "\n",
    "        X_train = scaler.transform(X_train)\n",
    "        X_test = scaler.transform(X_test)\n",
    "    \n",
    "    regressor.fit(X_train, y_train)\n",
    "    predictions = regressor.predict(X_train)\n",
    "    print(\"RMSE score on train set: \", getRMSE(y_train, predictions))\n",
    "        \n",
    "    predictions = regressor.predict(X_test)\n",
    "    print(\"RMSE score on test set: \", getRMSE(y_test, predictions))\n",
    "\n",
    "print(\"time trainin done\", time.time()-t100)"
   ]
  },
  {
   "cell_type": "code",
   "execution_count": 25,
   "id": "9802daa7",
   "metadata": {
    "ExecuteTime": {
     "end_time": "2022-11-09T21:29:53.427387Z",
     "start_time": "2022-11-09T21:29:49.615090Z"
    },
    "scrolled": true
   },
   "outputs": [
    {
     "data": {
      "image/png": "[encoded data removed]",
      "text/plain": [
       "<Figure size 432x288 with 1 Axes>"
      ]
     },
     "metadata": {
      "needs_background": "light"
     },
     "output_type": "display_data"
    }
   ],
   "source": [
    "X_t = []\n",
    "Y_t = []\n",
    "for j in range(0, len(allStoreIds)):\n",
    "    xx = []\n",
    "    yy = []\n",
    "    for i in range(0, len(X_test)):\n",
    "        if(X_test[i][j] > 0):\n",
    "            xx.append(X_test[i])\n",
    "            yy.append(y_test[i])\n",
    "    X_t.append(j)\n",
    "    Y_t.append(getRMSE(yy, regressor.predict(xx)))\n",
    "    \n",
    "plt.bar(X_t, Y_t)\n",
    "plt.xticks(X_t)\n",
    "plt.xlabel(\"Store Id\")\n",
    "plt.ylabel(\"RMSE value of test set\")\n",
    "plt.title(\"Preparation time prediction\")\n",
    "plt.savefig(f'plots/{city}_{month}_1.png')\n",
    "# plt.show()"
   ]
  },
  {
   "cell_type": "code",
   "execution_count": 26,
   "id": "0cf848b8",
   "metadata": {
    "ExecuteTime": {
     "end_time": "2022-11-09T21:31:04.170952Z",
     "start_time": "2022-11-09T21:30:59.214321Z"
    }
   },
   "outputs": [
    {
     "data": {
      "image/png": "[encoded data removed]",
      "text/plain": [
       "<Figure size 432x288 with 1 Axes>"
      ]
     },
     "metadata": {
      "needs_background": "light"
     },
     "output_type": "display_data"
    }
   ],
   "source": [
    "X_Axis = [i for i in range(10, 24)]\n",
    "RMSETimeSlotWise = {}\n",
    "total_items = len(allMenuCodes)+len(allStoreIds)\n",
    "for x in X_Axis:\n",
    "    x1 = []\n",
    "    y1 = []\n",
    "    for i in range(0, len(X_test)):\n",
    "        if(X_test[i][total_items+x] > 0):\n",
    "            x1.append(X_test[i])\n",
    "            y1.append(y_test[i])\n",
    "    RMSETimeSlotWise[x] = getRMSE(y1, regressor.predict(x1))\n",
    "    \n",
    "X_axis = list(RMSETimeSlotWise.keys())\n",
    "Y_axis = list(RMSETimeSlotWise.values())\n",
    "\n",
    "plt.bar(X_axis, Y_axis)\n",
    "plt.xticks(X_axis, rotation='vertical')\n",
    "plt.xlabel(\"Time slot\")\n",
    "plt.ylabel(\"RMSE value of test set\")\n",
    "plt.title(\"Preparation time prediction over different time slots\")\n",
    "plt.savefig(f'plots/{city}_{month}_2.png')\n",
    "# plt.show()"
   ]
  },
  {
   "cell_type": "code",
   "execution_count": 27,
   "id": "c38cadb4",
   "metadata": {
    "ExecuteTime": {
     "end_time": "2022-11-09T21:31:09.313134Z",
     "start_time": "2022-11-09T21:31:09.306762Z"
    }
   },
   "outputs": [],
   "source": [
    "Y_t_all = Y_t\n",
    "# Y_t_all"
   ]
  },
  {
   "cell_type": "code",
   "execution_count": 28,
   "id": "25e2e04d",
   "metadata": {
    "ExecuteTime": {
     "end_time": "2022-11-09T21:31:10.640699Z",
     "start_time": "2022-11-09T21:31:10.634868Z"
    }
   },
   "outputs": [],
   "source": [
    "bakeup_X = X\n",
    "bakeup_y = y"
   ]
  },
  {
   "cell_type": "code",
   "execution_count": 29,
   "id": "2f31c653",
   "metadata": {
    "ExecuteTime": {
     "end_time": "2022-11-09T21:31:15.110600Z",
     "start_time": "2022-11-09T21:31:12.649732Z"
    }
   },
   "outputs": [],
   "source": [
    "n = len(allStoreIds)\n",
    "store_wise_X = [[] for _ in range(n)]\n",
    "store_wise_y = [[] for _ in range(n)]\n",
    "\n",
    "for j in range(n):\n",
    "    for i in range(len(X)):\n",
    "        if X[i][j] > 0:\n",
    "            store_wise_X[j].append(X[i][n:])\n",
    "            store_wise_y[j].append(y[i])\n",
    "\n",
    "# store_wise_X = [[x for x in X] for j in range(n)]\n",
    "# store_wise_X = [x for j in range(n) for _,y in zip(X,y) if x[j]>0]"
   ]
  },
  {
   "cell_type": "code",
   "execution_count": 30,
   "id": "bf03da4a",
   "metadata": {
    "ExecuteTime": {
     "end_time": "2022-11-09T21:35:46.060277Z",
     "start_time": "2022-11-09T21:31:17.459181Z"
    }
   },
   "outputs": [],
   "source": [
    "l = []\n",
    "\n",
    "for i in range(n):\n",
    "    X = store_wise_X[i]\n",
    "    y = store_wise_y[i]\n",
    "    X_train, X_test, y_train, y_test = train_test_split(X, y, test_size = 0.20, random_state = 42)\n",
    "    \n",
    "#     print(\"Random Forest Model\", i, len(y_train), len(y_test))\n",
    "    regressor = RandomForestRegressor()\n",
    "    if(isNormalizationRequired):\n",
    "        scaler = StandardScaler()\n",
    "        scaler.fit(X_train)\n",
    "\n",
    "        X_train = scaler.transform(X_train)\n",
    "        X_test = scaler.transform(X_test)\n",
    "    \n",
    "    regressor.fit(X_train, y_train)\n",
    "    predictions = regressor.predict(X_train)\n",
    "    a = getRMSE(y_train, predictions)\n",
    "#     print(\"RMSE score on train set: \", a)\n",
    "    \n",
    "    predictions = regressor.predict(X_test)\n",
    "    b = getRMSE(y_test, predictions)\n",
    "#     print(\"RMSE score on test set: \", b)\n",
    "    l.append((a, b, len(y_train), len(y_test)))\n",
    "# l"
   ]
  },
  {
   "cell_type": "code",
   "execution_count": 31,
   "id": "20201a1f",
   "metadata": {
    "ExecuteTime": {
     "end_time": "2022-11-09T21:35:46.521909Z",
     "start_time": "2022-11-09T21:35:46.066484Z"
    }
   },
   "outputs": [
    {
     "data": {
      "image/png": "[encoded data removed]",
      "text/plain": [
       "<Figure size 432x288 with 1 Axes>"
      ]
     },
     "metadata": {
      "needs_background": "light"
     },
     "output_type": "display_data"
    },
    {
     "data": {
      "text/plain": [
       "[53.056001936196026,\n",
       " 38.98053149947499,\n",
       " 66.91852524845167,\n",
       " 17.100080915727975,\n",
       " 42.51973847095802,\n",
       " 67.03099059072039,\n",
       " 57.43234089914828,\n",
       " 24.659834116210238,\n",
       " 53.67874313568983,\n",
       " 40.44103537579327,\n",
       " 46.926836607139904,\n",
       " 43.217104969921124]"
      ]
     },
     "execution_count": 31,
     "metadata": {},
     "output_type": "execute_result"
    }
   ],
   "source": [
    "X_t = [i for i in range(len(allStoreIds))]\n",
    "Y_t = [x[1] for x in l]\n",
    "Y_t, X_t\n",
    "plt.bar(X_t, Y_t)\n",
    "plt.xticks(X_t)\n",
    "plt.xlabel(\"Store Id\")\n",
    "plt.ylabel(\"RMSE value of test set\")\n",
    "plt.title(\"Preparation time prediction\")\n",
    "plt.savefig(f'plots/{city}_{month}_3.png')\n",
    "# plt.show()\n",
    "# Y_t"
   ]
  },
  {
   "cell_type": "code",
   "execution_count": 42,
   "id": "3170e2ef",
   "metadata": {
    "ExecuteTime": {
     "end_time": "2022-11-03T08:49:02.780706Z",
     "start_time": "2022-11-03T08:49:02.768036Z"
    }
   },
   "outputs": [
    {
     "data": {
      "text/plain": [
       "48.22294420867523"
      ]
     },
     "execution_count": 42,
     "metadata": {},
     "output_type": "execute_result"
    }
   ],
   "source": [
    "l2 = [(a**2)*b for _,a,_,b in l]\n",
    "l3 = [b for _,_,_,b in l]\n",
    "combine_rmse = (sum(l2)/sum(l3))**(1/2)\n",
    "print(\"restwise rmse:\", combine_rmse)"
   ]
  },
  {
   "cell_type": "code",
   "execution_count": 44,
   "id": "9a8cd69d",
   "metadata": {
    "ExecuteTime": {
     "end_time": "2022-11-03T08:50:36.730562Z",
     "start_time": "2022-11-03T08:50:36.693768Z"
    },
    "collapsed": true
   },
   "outputs": [
    {
     "name": "stdout",
     "output_type": "stream",
     "text": [
      "0 110.73278958157061 118.46762915044431\n",
      "1 49.32246633110388 46.19214819316697\n",
      "2 55.37988339949047 78.84432832325724\n",
      "3 33.465189509275554 33.148221209727005\n",
      "4 59.11416492174018 60.301924988108524\n",
      "5 43.10657369954303 48.615090407280086\n",
      "6 33.47246951146438 34.03093474167357\n",
      "7 72.4253925848281 59.34757224485053\n",
      "8 45.76296670557789 48.664450262389366\n",
      "9 42.63308426676605 50.25310172606236\n",
      "10 48.302599405662285 48.98357861203935\n",
      "11 35.90283616130062 40.525496709546886\n",
      "12 35.454505722680864 43.335434189959194\n",
      "13 38.54280595325719 49.219792388384555\n",
      "14 34.767052723558145 40.85527237512303\n",
      "15 31.738060997397362 32.29103524166308\n",
      "16 36.74645170966107 34.437496172634745\n",
      "17 71.65103986158648 59.579805977976385\n",
      "18 59.67363884805792 63.671188315255904\n",
      "19 45.93041198512772 48.2129598164105\n",
      "20 29.756997422734266 36.09697185113681\n",
      "21 42.62418049051106 38.60470625511067\n",
      "22 39.31798143555204 43.782416261273916\n",
      "23 36.76740421345306 37.22711862749954\n",
      "24 37.41720741610458 50.99678360383393\n",
      "25 22.365941358295157 19.476519883954346\n",
      "26 51.084478098561775 55.930706645867026\n",
      "27 62.36693863372644 64.22696252987792\n",
      "28 53.886169015598 55.34549010676449\n",
      "29 50.7841102357929 42.86917768711083\n",
      "30 32.55067157395881 42.2009622303691\n",
      "31 45.012988685034514 46.285075410182515\n",
      "32 46.58974031583464 52.1492828828175\n",
      "33 33.45213591062193 39.75615609594073\n",
      "34 21.806428451451232 19.98575780828075\n",
      "35 43.748613200587464 46.74552959859113\n",
      "36 38.037165445368274 37.853908645238725\n",
      "37 53.29321663147165 56.29227956100993\n",
      "38 44.540710687406026 66.55349208403143\n",
      "39 39.129142631517276 43.08851480876491\n",
      "40 51.560226266215935 54.21395311188494\n",
      "41 33.82543865871016 35.25538933835721\n",
      "42 31.984871679588 39.9118331637077\n",
      "43 52.78730247929248 43.370350828934534\n",
      "44 51.800579368105936 57.35408329558492\n",
      "45 47.609827843164254 45.33737635791099\n",
      "46 42.830091371656174 43.10834813720752\n",
      "47 49.361575631614116 45.8468274999213\n",
      "48 41.587062003959346 48.97622182161247\n",
      "49 32.44582012084818 32.03859963813183\n",
      "50 17.47021675860992 19.511880933004846\n",
      "51 53.145684819123524 67.08380332081995\n"
     ]
    }
   ],
   "source": [
    "y = []\n",
    "for i in X_t:\n",
    "    y.append((Y_t[i], Y_t_all[i]))\n",
    "#     print(i, Y_t[i], Y_t_all[i])"
   ]
  },
  {
   "cell_type": "code",
   "execution_count": 48,
   "id": "fee73cb4",
   "metadata": {
    "ExecuteTime": {
     "end_time": "2022-11-03T10:23:16.876656Z",
     "start_time": "2022-11-03T10:23:15.817268Z"
    }
   },
   "outputs": [
    {
     "data": {
      "image/png": "[encoded data removed]",
      "text/plain": [
       "<Figure size 432x288 with 1 Axes>"
      ]
     },
     "metadata": {
      "needs_background": "light"
     },
     "output_type": "display_data"
    }
   ],
   "source": [
    "# plt.plot(X_t, Y_t, label = 'Single Model Prediction')\n",
    "# plt.plot(X_t, Y_t_all, label = 'Restaurent Wise Prediction')\n",
    "\n",
    "plt.plot(X_t, y)\n",
    "plt.legend(['Restaurent Model Prediction', 'Single Wise Prediction'])\n",
    "\n",
    "plt.xticks(X_t, rotation='vertical')\n",
    "plt.xlabel(\"Store Id\")\n",
    "plt.ylabel(\"RMSE value of test set\")\n",
    "plt.title(\"Preparation time prediction\")\n",
    "plt.savefig(f'plots/{city}_{month}_4.png')\n",
    "# plt.show()"
   ]
  }
 ],
 "metadata": {
  "kernelspec": {
   "display_name": "Python 3 (ipykernel)",
   "language": "python",
   "name": "python3"
  },
  "language_info": {
   "codemirror_mode": {
    "name": "ipython",
    "version": 3
   },
   "file_extension": ".py",
   "mimetype": "text/x-python",
   "name": "python",
   "nbconvert_exporter": "python",
   "pygments_lexer": "ipython3",
   "version": "3.8.10"
  }
 },
 "nbformat": 4,
 "nbformat_minor": 5
}
