{
 "cells": [
  {
   "cell_type": "code",
   "execution_count": 1,
   "id": "c2f4650d",
   "metadata": {
    "ExecuteTime": {
     "end_time": "2023-01-23T12:28:32.015441Z",
     "start_time": "2023-01-23T12:28:05.241526Z"
    }
   },
   "outputs": [],
   "source": [
    "# imports\n",
    "import json\n",
    "import pandas as pd\n",
    "import numpy as np\n",
    "import random\n",
    "from datetime import datetime, timedelta\n",
    "import sklearn\n",
    "import math\n",
    "from sklearn.feature_extraction.text import CountVectorizer\n",
    "from sklearn.feature_extraction.text import TfidfVectorizer\n",
    "from sklearn.linear_model import LogisticRegression\n",
    "from sklearn.model_selection import train_test_split\n",
    "\n",
    "import time\n",
    "import matplotlib.pyplot as plt\n",
    "\n",
    "from sklearn.model_selection import train_test_split\n",
    "from sklearn.preprocessing import StandardScaler\n",
    "from sklearn.neural_network import MLPClassifier\n",
    "from sklearn.metrics import classification_report, confusion_matrix\n",
    "from sklearn.ensemble import RandomForestRegressor \n",
    "from statistics import mean"
   ]
  },
  {
   "cell_type": "code",
   "execution_count": 2,
   "id": "c83d6951",
   "metadata": {
    "ExecuteTime": {
     "end_time": "2023-01-23T12:28:32.032482Z",
     "start_time": "2023-01-23T12:28:32.024119Z"
    }
   },
   "outputs": [],
   "source": [
    "city = 'Delhi'\n",
    "month = 'Dec'\n",
    "PATH = f'/media/root/data/analysis/data/Item_wise_data/{city}/'\n",
    "t100 = time.time()"
   ]
  },
  {
   "cell_type": "code",
   "execution_count": 3,
   "id": "f632ce37",
   "metadata": {
    "ExecuteTime": {
     "end_time": "2023-01-23T12:28:53.457321Z",
     "start_time": "2023-01-23T12:28:32.039213Z"
    }
   },
   "outputs": [],
   "source": [
    "# exclude non baking items\n",
    "df = pd.read_csv(PATH+f'{month}.csv')\n",
    "df = df[pd.notna(df['Oven_Time'])]\n",
    "df = df.sort_values(by =['Kitchen_Display_Time', 'Location_Code', 'Order_Number'])\n",
    "# df"
   ]
  },
  {
   "cell_type": "code",
   "execution_count": 4,
   "id": "90698808",
   "metadata": {
    "ExecuteTime": {
     "end_time": "2023-01-23T12:28:55.597693Z",
     "start_time": "2023-01-23T12:28:53.463679Z"
    }
   },
   "outputs": [
    {
     "name": "stdout",
     "output_type": "stream",
     "text": [
      "(1266282, 29)\n",
      "(1266282, 9)\n",
      "(1266282, 10)\n"
     ]
    },
    {
     "data": {
      "text/html": [
       "<div>\n",
       "<style scoped>\n",
       "    .dataframe tbody tr th:only-of-type {\n",
       "        vertical-align: middle;\n",
       "    }\n",
       "\n",
       "    .dataframe tbody tr th {\n",
       "        vertical-align: top;\n",
       "    }\n",
       "\n",
       "    .dataframe thead th {\n",
       "        text-align: right;\n",
       "    }\n",
       "</style>\n",
       "<table border=\"1\" class=\"dataframe\">\n",
       "  <thead>\n",
       "    <tr style=\"text-align: right;\">\n",
       "      <th></th>\n",
       "      <th>Location_Code</th>\n",
       "      <th>Order_Date</th>\n",
       "      <th>Order_Number</th>\n",
       "      <th>Kitchen_Display_Time</th>\n",
       "      <th>Oven_Time</th>\n",
       "      <th>Menu_Code</th>\n",
       "      <th>Item Description</th>\n",
       "      <th>Quantity</th>\n",
       "      <th>Delivery_Time</th>\n",
       "      <th>prep_time</th>\n",
       "    </tr>\n",
       "  </thead>\n",
       "  <tbody>\n",
       "    <tr>\n",
       "      <th>5295</th>\n",
       "      <td>DPI63889</td>\n",
       "      <td>2021-12-17</td>\n",
       "      <td>1</td>\n",
       "      <td>2021-12-17 07:28:22.537</td>\n",
       "      <td>2021-12-17 07:28:50.773</td>\n",
       "      <td>PIZ0132</td>\n",
       "      <td>_PIZ55-Pizza Mania Paneer _On</td>\n",
       "      <td>1</td>\n",
       "      <td>2021-12-17 07:37:29.117</td>\n",
       "      <td>448</td>\n",
       "    </tr>\n",
       "    <tr>\n",
       "      <th>5297</th>\n",
       "      <td>DPI63889</td>\n",
       "      <td>2021-12-17</td>\n",
       "      <td>1</td>\n",
       "      <td>2021-12-17 07:28:22.537</td>\n",
       "      <td>2021-12-17 07:28:50.837</td>\n",
       "      <td>NVPARCEL</td>\n",
       "      <td>Chicken Parcel</td>\n",
       "      <td>1</td>\n",
       "      <td>2021-12-17 07:37:29.117</td>\n",
       "      <td>448</td>\n",
       "    </tr>\n",
       "    <tr>\n",
       "      <th>5298</th>\n",
       "      <td>DPI63889</td>\n",
       "      <td>2021-12-17</td>\n",
       "      <td>2</td>\n",
       "      <td>2021-12-17 07:33:46.873</td>\n",
       "      <td>2021-12-17 07:33:52.233</td>\n",
       "      <td>PIZ0134</td>\n",
       "      <td>Pizza Mania Tomato</td>\n",
       "      <td>1</td>\n",
       "      <td>2021-12-17 07:42:34.047</td>\n",
       "      <td>425</td>\n",
       "    </tr>\n",
       "    <tr>\n",
       "      <th>5302</th>\n",
       "      <td>DPI63889</td>\n",
       "      <td>2021-12-17</td>\n",
       "      <td>2</td>\n",
       "      <td>2021-12-17 07:33:46.873</td>\n",
       "      <td>2021-12-17 07:33:52.563</td>\n",
       "      <td>PIZ0117</td>\n",
       "      <td>_SV-Margherita</td>\n",
       "      <td>1</td>\n",
       "      <td>2021-12-17 07:42:34.047</td>\n",
       "      <td>426</td>\n",
       "    </tr>\n",
       "    <tr>\n",
       "      <th>5303</th>\n",
       "      <td>DPI63889</td>\n",
       "      <td>2021-12-17</td>\n",
       "      <td>3</td>\n",
       "      <td>2021-12-17 09:24:05.420</td>\n",
       "      <td>2021-12-17 09:24:14.843</td>\n",
       "      <td>PIZ5109</td>\n",
       "      <td>PM Chicken Sausage</td>\n",
       "      <td>1</td>\n",
       "      <td>2021-12-17 09:39:10.430</td>\n",
       "      <td>429</td>\n",
       "    </tr>\n",
       "  </tbody>\n",
       "</table>\n",
       "</div>"
      ],
      "text/plain": [
       "     Location_Code  Order_Date  Order_Number    Kitchen_Display_Time  \\\n",
       "5295      DPI63889  2021-12-17             1 2021-12-17 07:28:22.537   \n",
       "5297      DPI63889  2021-12-17             1 2021-12-17 07:28:22.537   \n",
       "5298      DPI63889  2021-12-17             2 2021-12-17 07:33:46.873   \n",
       "5302      DPI63889  2021-12-17             2 2021-12-17 07:33:46.873   \n",
       "5303      DPI63889  2021-12-17             3 2021-12-17 09:24:05.420   \n",
       "\n",
       "                   Oven_Time Menu_Code               Item Description  \\\n",
       "5295 2021-12-17 07:28:50.773   PIZ0132  _PIZ55-Pizza Mania Paneer _On   \n",
       "5297 2021-12-17 07:28:50.837  NVPARCEL                 Chicken Parcel   \n",
       "5298 2021-12-17 07:33:52.233   PIZ0134             Pizza Mania Tomato   \n",
       "5302 2021-12-17 07:33:52.563   PIZ0117                 _SV-Margherita   \n",
       "5303 2021-12-17 09:24:14.843   PIZ5109             PM Chicken Sausage   \n",
       "\n",
       "      Quantity            Delivery_Time  prep_time  \n",
       "5295         1  2021-12-17 07:37:29.117        448  \n",
       "5297         1  2021-12-17 07:37:29.117        448  \n",
       "5298         1  2021-12-17 07:42:34.047        425  \n",
       "5302         1  2021-12-17 07:42:34.047        426  \n",
       "5303         1  2021-12-17 09:39:10.430        429  "
      ]
     },
     "execution_count": 4,
     "metadata": {},
     "output_type": "execute_result"
    }
   ],
   "source": [
    "print(df.shape)\n",
    "df = df.drop(['storedesc', 'city', 'Customer_Code', 'Customer_Name', 'Actual_Order_Date', 'Order_Status_Code', 'Order_Type_Code', 'Order_Saved', 'Order_Time', 'Driver_ID', 'Driver_Shift', 'Route_Time', 'Return_Time', 'Delayed_Order', 'Order_Taker_ID','Order_Taker_Shift', 'Closed_Order_Time', 'Customer_Address_Id', 'Original_Location_Code', 'Order_Id',], axis=1)\n",
    "print(df.shape)\n",
    "df['Kitchen_Display_Time'] = pd.to_datetime(df['Kitchen_Display_Time'])\n",
    "df['Oven_Time'] = pd.to_datetime(df['Oven_Time'])\n",
    "df['prep_time'] = df['Oven_Time'] - df['Kitchen_Display_Time']\n",
    "df['prep_time'] = round(df['prep_time']/np.timedelta64(1, 's')).astype(int) + 7*60\n",
    "print(df.shape)\n",
    "df.head()"
   ]
  },
  {
   "cell_type": "code",
   "execution_count": 5,
   "id": "5b1180d6",
   "metadata": {
    "ExecuteTime": {
     "end_time": "2023-01-23T12:28:55.765168Z",
     "start_time": "2023-01-23T12:28:55.601900Z"
    }
   },
   "outputs": [],
   "source": [
    "allMenuCodes = df['Menu_Code'].unique()\n",
    "allStoreIds = df['Location_Code'].unique()\n",
    "# allMenuCodes, allStoreIds"
   ]
  },
  {
   "cell_type": "code",
   "execution_count": 6,
   "id": "9f85e8d0",
   "metadata": {
    "ExecuteTime": {
     "end_time": "2023-01-23T12:29:00.776019Z",
     "start_time": "2023-01-23T12:28:55.769009Z"
    }
   },
   "outputs": [],
   "source": [
    "sampleItem=None\n",
    "for index, item in df.iterrows():\n",
    "    sampleItem = item\n",
    "    break"
   ]
  },
  {
   "cell_type": "code",
   "execution_count": 7,
   "id": "a366b592",
   "metadata": {
    "ExecuteTime": {
     "end_time": "2023-01-23T12:29:00.792359Z",
     "start_time": "2023-01-23T12:29:00.781318Z"
    }
   },
   "outputs": [
    {
     "data": {
      "text/plain": [
       "Location_Code                                DPI63889\n",
       "Order_Date                                 2021-12-17\n",
       "Order_Number                                        1\n",
       "Kitchen_Display_Time       2021-12-17 07:28:22.537000\n",
       "Oven_Time                  2021-12-17 07:28:50.773000\n",
       "Menu_Code                                     PIZ0132\n",
       "Item Description        _PIZ55-Pizza Mania Paneer _On\n",
       "Quantity                                            1\n",
       "Delivery_Time                 2021-12-17 07:37:29.117\n",
       "prep_time                                         448\n",
       "Name: 5295, dtype: object"
      ]
     },
     "execution_count": 7,
     "metadata": {},
     "output_type": "execute_result"
    }
   ],
   "source": [
    "sampleItem"
   ]
  },
  {
   "cell_type": "code",
   "execution_count": 8,
   "id": "82ae6338",
   "metadata": {
    "ExecuteTime": {
     "end_time": "2023-01-23T12:29:00.803607Z",
     "start_time": "2023-01-23T12:29:00.796401Z"
    }
   },
   "outputs": [],
   "source": [
    "# Feature 1: store id\n",
    "def getOneHotEncodingStore(storeId, stores=allStoreIds):\n",
    "    oneHotEncodingList = []\n",
    "    for i in range(0, len(stores)):\n",
    "        if(stores[i] == storeId):\n",
    "            oneHotEncodingList.append(1)\n",
    "        else:\n",
    "            oneHotEncodingList.append(0)\n",
    "    return oneHotEncodingList\n",
    "\n",
    "# returns the feature store id for an order\n",
    "def getStoreId(item, isOneHotEncodingRequired=False):\n",
    "    if isOneHotEncodingRequired:\n",
    "        return getOneHotEncodingStore(item['Location_Code'], allStoreIds)\n",
    "    else:\n",
    "        return [item['Location_Code']]"
   ]
  },
  {
   "cell_type": "code",
   "execution_count": 9,
   "id": "00c99098",
   "metadata": {
    "ExecuteTime": {
     "end_time": "2023-01-23T12:29:00.816883Z",
     "start_time": "2023-01-23T12:29:00.807744Z"
    }
   },
   "outputs": [
    {
     "name": "stdout",
     "output_type": "stream",
     "text": [
      "['DPI63889']\n",
      "[1, 0, 0, 0, 0, 0, 0, 0, 0, 0, 0, 0, 0, 0, 0, 0, 0, 0, 0, 0, 0, 0, 0, 0, 0, 0, 0, 0, 0, 0, 0, 0, 0, 0, 0, 0, 0, 0, 0, 0, 0, 0, 0, 0, 0, 0, 0, 0, 0, 0, 0, 0, 0, 0, 0, 0, 0, 0, 0, 0, 0, 0, 0, 0, 0, 0, 0, 0, 0, 0, 0, 0, 0, 0, 0, 0, 0, 0, 0, 0, 0, 0, 0, 0, 0, 0, 0, 0, 0, 0, 0, 0, 0, 0, 0, 0, 0, 0, 0, 0, 0, 0, 0, 0, 0, 0, 0]\n"
     ]
    }
   ],
   "source": [
    "print(getStoreId(sampleItem))\n",
    "print(getStoreId(sampleItem, True))"
   ]
  },
  {
   "cell_type": "code",
   "execution_count": 10,
   "id": "efc16550",
   "metadata": {
    "ExecuteTime": {
     "end_time": "2023-01-23T12:29:00.833157Z",
     "start_time": "2023-01-23T12:29:00.823653Z"
    }
   },
   "outputs": [],
   "source": [
    "# Feature 2: Item Type\n",
    "def getOneHotEncodingItem(item, items=allMenuCodes, clubCategoryWise=False):\n",
    "    if clubCategoryWise:\n",
    "        newItemsList = []\n",
    "        newItemsList = [i[0:3] for i in items]\n",
    "        unique_items = list(dict.fromkeys(newItemsList))\n",
    "        return getOneHotEncodingItem(item[0:3], unique_items, False)\n",
    "    \n",
    "    oneHotEncodingList=[]\n",
    "    for i in range(0, len(items)):\n",
    "        if (items[i] == item):\n",
    "            oneHotEncodingList.append(1)\n",
    "        else:\n",
    "            oneHotEncodingList.append(0)\n",
    "    return oneHotEncodingList\n",
    "\n",
    "def getItemType(item, isOneHotEncodingRequired=False, clubCategoryWise=False):\n",
    "    if (not isOneHotEncodingRequired):\n",
    "        if clubCategoryWise:\n",
    "            return [item['Menu_Code'][0:3]]\n",
    "        return [item['Menu_Code']]\n",
    "    else:\n",
    "        return getOneHotEncodingItem(item['Menu_Code'], allMenuCodes, clubCategoryWise)"
   ]
  },
  {
   "cell_type": "code",
   "execution_count": 11,
   "id": "f32862ec",
   "metadata": {
    "ExecuteTime": {
     "end_time": "2023-01-23T12:29:00.845848Z",
     "start_time": "2023-01-23T12:29:00.837181Z"
    }
   },
   "outputs": [
    {
     "name": "stdout",
     "output_type": "stream",
     "text": [
      "['PIZ0132']\n",
      "[1, 0, 0, 0, 0, 0, 0, 0, 0, 0, 0, 0, 0, 0, 0, 0, 0, 0, 0, 0, 0, 0, 0, 0, 0, 0, 0, 0, 0, 0, 0, 0, 0, 0, 0, 0, 0, 0, 0, 0, 0, 0, 0, 0, 0, 0, 0, 0, 0, 0, 0, 0, 0, 0, 0, 0, 0, 0, 0, 0, 0, 0, 0, 0, 0, 0, 0, 0, 0, 0, 0, 0, 0, 0, 0, 0, 0, 0, 0, 0, 0, 0, 0, 0, 0, 0, 0, 0, 0, 0, 0, 0, 0, 0]\n",
      "['PIZ']\n",
      "[1, 0, 0, 0, 0, 0, 0]\n"
     ]
    }
   ],
   "source": [
    "print(getItemType(sampleItem))\n",
    "print(getItemType(sampleItem, True))\n",
    "print(getItemType(sampleItem, clubCategoryWise=True))\n",
    "print(getItemType(sampleItem, True, True))"
   ]
  },
  {
   "cell_type": "code",
   "execution_count": 12,
   "id": "69429a92",
   "metadata": {
    "ExecuteTime": {
     "end_time": "2023-01-23T12:29:00.858965Z",
     "start_time": "2023-01-23T12:29:00.849811Z"
    }
   },
   "outputs": [],
   "source": [
    "# Feature 3: TimeSlot of kitchen display time\n",
    "total_slots = 24\n",
    "def getTimeslot(dt, slots=total_slots):\n",
    "\tcurrent = datetime(2011, 1, 1)\n",
    "\tt1 = current.time()\n",
    "\tt2 = dt.time()\n",
    "\tfor i in range(0, slots):\n",
    "\t\tcurrent = current + timedelta(minutes = 60*24/slots)\n",
    "\t\tif(current.time() > t2):\n",
    "\t\t\treturn i\n",
    "\treturn slots-1\n",
    "\n",
    "def getOneHotEncodingTimeSlot(timeslot):\n",
    "    oneHotEncodingList = []\n",
    "    for i in range(0, 24):\n",
    "        oneHotEncodingList.append(0)\n",
    "    oneHotEncodingList[timeslot] = 1\n",
    "    return oneHotEncodingList\n",
    "\n",
    "def getTimeSlotOfKitchenDisplayTime(item, isOneHotEncodingRequired=False):\n",
    "    timeslot = getTimeslot(item['Kitchen_Display_Time'], 24)\n",
    "    if isOneHotEncodingRequired:\n",
    "        return getOneHotEncodingTimeSlot(timeslot)\n",
    "    else:\n",
    "        return [timeslot]"
   ]
  },
  {
   "cell_type": "code",
   "execution_count": 13,
   "id": "e017e620",
   "metadata": {
    "ExecuteTime": {
     "end_time": "2023-01-23T12:29:00.868367Z",
     "start_time": "2023-01-23T12:29:00.863141Z"
    }
   },
   "outputs": [],
   "source": [
    "def get_preparation_time(item):\n",
    "    return item['prep_time']\n",
    "# \tdiff = item['Oven_Time'] - item['Kitchen_Display_Time']\n",
    "# \treturn diff.total_seconds() + 7*60"
   ]
  },
  {
   "cell_type": "code",
   "execution_count": 14,
   "id": "ab5dcdcb",
   "metadata": {
    "ExecuteTime": {
     "end_time": "2023-01-23T16:48:38.400614Z",
     "start_time": "2023-01-23T12:29:00.872417Z"
    }
   },
   "outputs": [
    {
     "name": "stderr",
     "output_type": "stream",
     "text": [
      "/tmp/ipykernel_292984/2016951000.py:29: SettingWithCopyWarning: \n",
      "A value is trying to be set on a copy of a slice from a DataFrame\n",
      "\n",
      "See the caveats in the documentation: https://pandas.pydata.org/pandas-docs/stable/user_guide/indexing.html#returning-a-view-versus-a-copy\n",
      "  df['pre_prep_time'][index] = 10*60\n",
      "/tmp/ipykernel_292984/2016951000.py:25: SettingWithCopyWarning: \n",
      "A value is trying to be set on a copy of a slice from a DataFrame\n",
      "\n",
      "See the caveats in the documentation: https://pandas.pydata.org/pandas-docs/stable/user_guide/indexing.html#returning-a-view-versus-a-copy\n",
      "  df['pre_prep_time'][index] = 10*60\n",
      "/tmp/ipykernel_292984/2016951000.py:23: SettingWithCopyWarning: \n",
      "A value is trying to be set on a copy of a slice from a DataFrame\n",
      "\n",
      "See the caveats in the documentation: https://pandas.pydata.org/pandas-docs/stable/user_guide/indexing.html#returning-a-view-versus-a-copy\n",
      "  df['pre_prep_time'][index] = pt/count\n"
     ]
    }
   ],
   "source": [
    "#DON\"T RUN IT AGAIN AND AGAIN, it will take much more time\n",
    "# Feature 4 : Count of all baking items of all orders received by the store in the last 20 minutes.\n",
    "\n",
    "# Pre-preparation of data\n",
    "df['pre_prep_time'] = 0\n",
    "\n",
    "StoreWiseItems = {}\n",
    "for index, item in df.iterrows():\n",
    "    store = item['Location_Code']\n",
    "    if store in StoreWiseItems:\n",
    "        dtKitchenDisplay = item['Kitchen_Display_Time']\n",
    "        lastTime = dtKitchenDisplay - timedelta(minutes=60)\n",
    "        count = 0\n",
    "        pt = 0\n",
    "        for i in reversed(range(len(StoreWiseItems[store]))):\n",
    "            if(StoreWiseItems[store][i]['Kitchen_Display_Time'] >= lastTime and StoreWiseItems[store][i]['Kitchen_Display_Time'] < dtKitchenDisplay):\n",
    "                if(StoreWiseItems[store][i]['Menu_Code'] == item['Menu_Code']):\n",
    "                    pt += get_preparation_time(item)\n",
    "                    count+=1\n",
    "            else:\n",
    "                break\n",
    "        if count != 0:\n",
    "            df['pre_prep_time'][index] = pt/count\n",
    "        else:\n",
    "            df['pre_prep_time'][index] = 10*60\n",
    "        StoreWiseItems[store].append(item)\n",
    "    else:\n",
    "        StoreWiseItems[store] = [item]\n",
    "        df['pre_prep_time'][index] = 10*60\n",
    "\n",
    "        \n",
    "storeWiseCumulativeItems = {}\n",
    "StoreWiseDFs = {}\n",
    "for store in StoreWiseItems.keys():\n",
    "    StoreWiseDFs[store] = pd.DataFrame.from_dict(StoreWiseItems[store])\n",
    "    storeWiseCumulativeItems[store] = {}\n",
    "\n",
    "# item count per slot\n",
    "for store in StoreWiseItems.keys():\n",
    "    for item in StoreWiseItems[store]:\n",
    "        date = item['Order_Date']\n",
    "        minuteSlot = getTimeslot(item['Kitchen_Display_Time'], 24*60)\n",
    "        if date in storeWiseCumulativeItems[store]:\n",
    "            storeWiseCumulativeItems[store][date][minuteSlot]+=1\n",
    "        else:\n",
    "            t = []\n",
    "            for i in range(0, 24*60):\n",
    "                t.append(0)\n",
    "            storeWiseCumulativeItems[store][date] = t\n",
    "            storeWiseCumulativeItems[store][date][minuteSlot] = 1\n",
    "            \n",
    "#prefix sum            \n",
    "for store in storeWiseCumulativeItems.keys():\n",
    "    for date in storeWiseCumulativeItems[store].keys():\n",
    "        for i in range(1, 24*60):\n",
    "            storeWiseCumulativeItems[store][date][i] += storeWiseCumulativeItems[store][date][i-1]\n",
    "            \n",
    "            \n",
    "def countPastOrders(item, storeWiseCumulativeItems=storeWiseCumulativeItems, slotTime=30):\n",
    "    minuteSlot = getTimeslot(item['Kitchen_Display_Time'], 24*60)\n",
    "    total = storeWiseCumulativeItems[item['Location_Code']][item['Order_Date']][minuteSlot]\n",
    "    prev = storeWiseCumulativeItems[item['Location_Code']][item['Order_Date']][max(minuteSlot-slotTime, 0)]\n",
    "    return [(total-prev)]"
   ]
  },
  {
   "cell_type": "code",
   "execution_count": 15,
   "id": "deff2369",
   "metadata": {
    "ExecuteTime": {
     "end_time": "2023-01-23T16:48:38.417527Z",
     "start_time": "2023-01-23T16:48:38.406871Z"
    }
   },
   "outputs": [
    {
     "name": "stdout",
     "output_type": "stream",
     "text": [
      "time = StoreWiseItems and countPastOrders 15606.38202881813\n"
     ]
    }
   ],
   "source": [
    "print(\"time = StoreWiseItems and countPastOrders\", time.time()-t100)\n",
    "\n",
    "# print(countPastOrders(sampleItem))\n",
    "# print(countPastOrders(sampleItem, slotTime=10))\n",
    "\n",
    "d = datetime.strptime('2021-12-20 00:00:00', '%Y-%m-%d %H:%M:%S')\n",
    "# storeWiseCumulativeItems[sampleItem['Location_Code']][d]"
   ]
  },
  {
   "cell_type": "code",
   "execution_count": 16,
   "id": "16758989",
   "metadata": {
    "ExecuteTime": {
     "end_time": "2023-01-23T16:48:38.432083Z",
     "start_time": "2023-01-23T16:48:38.420223Z"
    }
   },
   "outputs": [],
   "source": [
    "# type(StoreWiseItems[sampleItem['Location_Code']])"
   ]
  },
  {
   "cell_type": "code",
   "execution_count": 17,
   "id": "1871e71a",
   "metadata": {
    "ExecuteTime": {
     "end_time": "2023-01-23T16:48:38.456060Z",
     "start_time": "2023-01-23T16:48:38.434950Z"
    }
   },
   "outputs": [],
   "source": [
    "# Feature 5 : Avg prep time of the same item in the same store in last 60 minutes.\n",
    "\n",
    "def getPreviousPrepTime(item, StoreWiseItems=StoreWiseItems, clubCategoryWise=False, timeslot = 60):\n",
    "    dtKitchenDisplay = item['Kitchen_Display_Time']\n",
    "    lastTime = dtKitchenDisplay - timedelta(minutes=timeslot)\n",
    "    \n",
    "    orderedItem = item['Menu_Code']\n",
    "    prepTime = []\n",
    "    if clubCategoryWise:\n",
    "        orderedItem = orderedItem[0:3]\n",
    "    d = StoreWiseDFs[item['Location_Code']]\n",
    "    tdf = d[(d['Menu_Code'].str[0:len(orderedItem)]==orderedItem) \\\n",
    "             & (d['Kitchen_Display_Time'] >= lastTime) & (d['Kitchen_Display_Time'] <= dtKitchenDisplay)]\n",
    "\n",
    "    if(len(tdf)>0):\n",
    "        return [tdf['prep_time'].mean()]\n",
    "    else:\n",
    "        return [10*60]\n",
    "\n",
    "\n",
    "# def getPreviousPrepTime(item, StoreWiseItems=StoreWiseItems, clubCategoryWise=False, timeslot = 60):\n",
    "#     dtKitchenDisplay = item['Kitchen_Display_Time']\n",
    "#     lastTime = dtKitchenDisplay - timedelta(minutes=timeslot)\n",
    "    \n",
    "#     orderedItem = item['Menu_Code']\n",
    "#     prepTime = []\n",
    "#     if clubCategoryWise:\n",
    "#         orderedItem = orderedItem[0:3]\n",
    "#     tdf = df[(df['Location_Code']==item['Location_Code']) & (df['Menu_Code'].str[0:len(orderedItem)]==orderedItem) \\\n",
    "#              & (df['Kitchen_Display_Time'] >= lastTime) & (df['Kitchen_Display_Time'] <= dtKitchenDisplay)]\n",
    "\n",
    "#     if(len(tdf)>0):\n",
    "#         return [tdf['prep_time'].mean()]\n",
    "#     else:\n",
    "#         return [10*60]\n",
    "\n",
    "    \n",
    "# Feature 6 : Length of the queue in the store at that time\n",
    "def lengthQueue(item):\n",
    "    dtKitchenDisplay = item['Kitchen_Display_Time']\n",
    "    d = StoreWiseDFs[item['Location_Code']]\n",
    "    tdf = d[(d['Oven_Time'] >= dtKitchenDisplay) & (d['Kitchen_Display_Time'] <= dtKitchenDisplay)]\n",
    "    \n",
    "#     prepTime = []\n",
    "#     tdf = df[(df['Location_Code']==item['Location_Code']) & \\\n",
    "#              (df['Oven_Time'] >= dtKitchenDisplay) & (df['Kitchen_Display_Time'] <= dtKitchenDisplay)]\n",
    "    return len(tdf.index)\n",
    "#     for order in StoreWiseItems[item['Location_Code']]:\n",
    "#         if(order['Kitchen_Display_Time'] >= lastTime and order['Kitchen_Display_Time'] <= dtKitchenDisplay):\n",
    "#             if (order['Menu_Code'][0:len(orderedItem)] == orderedItem):\n",
    "#                 prepTime.append(get_preparation_time(order))\n",
    "#     if(len(prepTime) > 0):\n",
    "#         return [mean(prepTime)]\n",
    "#     else:\n",
    "#         return [10*60] # POINT OF DISCUSSION, For now taking 10 minutes"
   ]
  },
  {
   "cell_type": "code",
   "execution_count": 18,
   "id": "d888e7ad",
   "metadata": {
    "ExecuteTime": {
     "end_time": "2023-01-23T16:48:38.493215Z",
     "start_time": "2023-01-23T16:48:38.459067Z"
    }
   },
   "outputs": [
    {
     "data": {
      "text/plain": [
       "2"
      ]
     },
     "execution_count": 18,
     "metadata": {},
     "output_type": "execute_result"
    }
   ],
   "source": [
    "getPreviousPrepTime(sampleItem, StoreWiseItems, False, 60)\n",
    "lengthQueue(sampleItem)"
   ]
  },
  {
   "cell_type": "code",
   "execution_count": 19,
   "id": "6fafe112",
   "metadata": {
    "ExecuteTime": {
     "end_time": "2023-01-23T16:48:39.830627Z",
     "start_time": "2023-01-23T16:48:38.496157Z"
    }
   },
   "outputs": [],
   "source": [
    "item = sampleItem\n",
    "orderedItem = item['Menu_Code']\n",
    "orderedItem = orderedItem[0:3]\n",
    "dtKitchenDisplay = item['Kitchen_Display_Time']\n",
    "lastTime = dtKitchenDisplay - timedelta(minutes=60)\n",
    "tdf = df[(df['Location_Code']==item['Location_Code']) & (df['Menu_Code'].str[0:len(orderedItem)]==orderedItem) \\\n",
    "         & (df['Kitchen_Display_Time'] >= lastTime) & (df['Kitchen_Display_Time'] <= dtKitchenDisplay)]\n",
    "# print(item, len(tdf)) \n",
    "# if(len(tdf)>0):\n",
    "#     print([round(tdf['prep_time'].mean())])\n",
    "# tdf"
   ]
  },
  {
   "cell_type": "code",
   "execution_count": 20,
   "id": "66e020fb",
   "metadata": {
    "ExecuteTime": {
     "end_time": "2023-01-23T16:48:39.842095Z",
     "start_time": "2023-01-23T16:48:39.834173Z"
    }
   },
   "outputs": [
    {
     "name": "stdout",
     "output_type": "stream",
     "text": [
      "time preprocess start 15607.80916929245\n"
     ]
    }
   ],
   "source": [
    "# global variables\n",
    "\n",
    "isThresholdForPreparationTime = True\n",
    "thresholdForPreparationTime = 20 # minutes for preparation time (threshold)\n",
    "\n",
    "clubItemsCategoryWise = False\n",
    "\n",
    "splitMethod = 'random'\n",
    "slotTimeForPastOrders = 20 # minutes\n",
    "\n",
    "model = 'RF'\n",
    "isOneHotEncodingRequired = True\n",
    "isNormalizationRequired = True\n",
    "\n",
    "print(\"time preprocess start\", time.time()-t100)"
   ]
  },
  {
   "cell_type": "code",
   "execution_count": 21,
   "id": "fd3e4965",
   "metadata": {
    "ExecuteTime": {
     "end_time": "2023-01-23T19:46:47.638128Z",
     "start_time": "2023-01-23T16:48:39.845856Z"
    }
   },
   "outputs": [
    {
     "name": "stdout",
     "output_type": "stream",
     "text": [
      "0.2047264575958252 0.18013548851013184 0.24625158309936523 5.047973155975342 30.015671253204346 6.722490310668945 0.13335919380187988\n",
      "0.41031360626220703 0.3626539707183838 0.5028293132781982 10.633415937423706 59.551711559295654 13.385382890701294 0.266495943069458\n",
      "0.6163129806518555 0.545161247253418 0.7689633369445801 16.672192096710205 89.07452082633972 20.020427703857422 0.3977823257446289\n",
      "0.8231809139251709 0.7284576892852783 1.0445342063903809 23.129173040390015 118.6014096736908 26.77162528038025 0.5323376655578613\n",
      "1.028364658355713 0.9100174903869629 1.3269708156585693 30.011600732803345 148.04674100875854 33.497461795806885 0.6672699451446533\n",
      "1.250720500946045 1.1078708171844482 1.6441833972930908 37.68711996078491 178.9095561504364 40.64654183387756 0.8075778484344482\n",
      "1.4608335494995117 1.2946383953094482 1.951289176940918 45.4698326587677 209.24460172653198 47.497910022735596 0.9430341720581055\n",
      "1.6711995601654053 1.48095703125 2.261143445968628 53.470489501953125 239.40955066680908 54.27251362800598 1.0760986804962158\n",
      "1.8809785842895508 1.666792869567871 2.572389841079712 61.66821312904358 269.2641649246216 61.01562547683716 1.208672285079956\n",
      "2.084995985031128 1.844731092453003 2.879859447479248 70.02428364753723 298.7141411304474 67.59889245033264 1.33858060836792\n",
      "2.2883896827697754 2.021876335144043 3.190798044204712 78.53381586074829 328.1336624622345 74.15149426460266 1.4672186374664307\n",
      "2.4933841228485107 2.2012484073638916 3.5099306106567383 87.41530919075012 357.8835551738739 80.75610160827637 1.5978643894195557\n",
      "2.6983895301818848 2.3814640045166016 3.7863025665283203 94.0174834728241 388.3110821247101 87.40712118148804 1.7293379306793213\n",
      "2.9050281047821045 2.5642569065093994 4.026876449584961 98.57476329803467 418.16152572631836 94.12864756584167 1.8629486560821533\n",
      "3.116520881652832 2.75042462348938 4.290614604949951 104.15890383720398 447.85703802108765 101.01139545440674 2.0006978511810303\n",
      "3.3245351314544678 2.9334523677825928 4.557878255844116 110.0445454120636 477.5036656856537 107.80470514297485 2.1366944313049316\n",
      "3.531209945678711 3.115260124206543 4.8288068771362305 116.30658411979675 506.6808636188507 114.50816297531128 2.2704038619995117\n",
      "3.7391622066497803 3.2977676391601562 5.108569145202637 122.9286642074585 536.1766097545624 121.26580023765564 2.4053990840911865\n",
      "3.966566562652588 3.500840663909912 5.424173593521118 130.25776386260986 566.9510943889618 128.48709344863892 2.5481581687927246\n",
      "4.169448137283325 3.6804068088531494 5.712756633758545 137.59932851791382 595.8338317871094 134.970942735672 2.6762499809265137\n",
      "4.377834320068359 3.8629629611968994 6.01116156578064 145.24087119102478 625.347647190094 141.72050261497498 2.813056707382202\n",
      "4.587432384490967 4.048445463180542 6.315236568450928 153.0795121192932 655.0511343479156 148.51965308189392 2.9487831592559814\n",
      "4.789637327194214 4.224500894546509 6.611598491668701 160.97776007652283 684.2711288928986 155.05048394203186 3.077974319458008\n",
      "5.000068426132202 4.409203767776489 6.925891399383545 169.23773646354675 714.094568490982 161.7755048274994 3.2125895023345947\n",
      "5.2047812938690186 4.589327812194824 7.230318546295166 177.5094769001007 743.5663440227509 168.39299392700195 3.3438491821289062\n",
      "5.4190239906311035 4.7770304679870605 7.552928686141968 186.05439352989197 773.8584439754486 175.30795121192932 3.4809041023254395\n",
      "5.628167390823364 4.959146499633789 7.867232084274292 194.70864343643188 803.7639894485474 182.0658507347107 3.6187331676483154\n",
      "5.844818353652954 5.149567604064941 8.204593658447266 203.828950881958 834.4689128398895 189.00934600830078 3.7557640075683594\n",
      "6.049513101577759 5.328287601470947 8.484574794769287 210.72063875198364 865.0507762432098 195.69061374664307 3.8880434036254883\n",
      "6.2556211948394775 5.509644031524658 8.694524765014648 213.70920777320862 895.8935077190399 202.42212677001953 4.026759624481201\n",
      "6.464514970779419 5.692498445510864 8.95214033126831 219.11367559432983 925.4772229194641 209.2019898891449 4.162014484405518\n",
      "6.676203489303589 5.877408027648926 9.22069501876831 224.93768072128296 954.9786739349365 215.99317145347595 4.297890663146973\n",
      "6.885990142822266 6.061487436294556 9.493458032608032 231.08313012123108 984.4282388687134 222.76518988609314 4.4330103397369385\n",
      "7.090065240859985 6.240762948989868 9.76504898071289 237.51446795463562 1013.3690679073334 229.36027240753174 4.56879997253418\n",
      "7.309729337692261 6.435986042022705 10.062726020812988 244.38445901870728 1043.5357270240784 236.38899445533752 4.706906080245972\n",
      "7.519384384155273 6.619339942932129 10.351221799850464 251.3908245563507 1072.9582629203796 243.22778344154358 4.843741178512573\n",
      "7.729150295257568 6.802811622619629 10.646074056625366 258.65176129341125 1102.4637203216553 250.0720636844635 4.980384111404419\n",
      "7.9431188106536865 6.990179061889648 10.948290586471558 266.2295696735382 1132.253057718277 256.99834084510803 5.123801231384277\n",
      "8.154968738555908 7.174133777618408 11.25078558921814 273.93945837020874 1161.999841451645 263.81812715530396 5.259783744812012\n",
      "8.361309289932251 7.354396104812622 11.548030376434326 281.7195107936859 1191.34290766716 270.5271213054657 5.393596887588501\n",
      "8.573925018310547 7.541149616241455 11.859841108322144 289.774001121521 1221.3824367523193 277.39477038383484 5.529977560043335\n",
      "8.78251576423645 7.722942590713501 12.167201042175293 297.91737723350525 1251.1573867797852 284.1822452545166 5.671014308929443\n",
      "8.994012594223022 7.908890962600708 12.4798903465271 306.2422904968262 1280.999389410019 291.0321555137634 5.807424068450928\n",
      "9.208892583847046 8.097245693206787 12.803622007369995 314.8394863605499 1311.4093272686005 297.9515311717987 5.944315195083618\n",
      "9.423007488250732 8.288545370101929 13.132312536239624 323.70830368995667 1341.7569723129272 304.8491532802582 6.080082416534424\n",
      "9.627233505249023 8.467920541763306 13.450495958328247 332.6914095878601 1371.6229383945465 311.489777803421 6.212208271026611\n",
      "9.834244728088379 8.64955759048462 13.676636934280396 336.6299538612366 1403.2213661670685 318.2538592815399 6.3457865715026855\n",
      "10.04372763633728 8.83447813987732 13.932440757751465 341.8760566711426 1433.1162812709808 325.0740945339203 6.489946365356445\n",
      "10.262171745300293 9.02864122390747 14.211355924606323 347.8049123287201 1463.6298604011536 332.1307179927826 6.629284858703613\n",
      "10.46922755241394 9.2106773853302 14.483535766601562 354.0760827064514 1493.0354073047638 338.86402893066406 6.763805150985718\n",
      "10.682485342025757 9.400676965713501 14.777156591415405 360.9273293018341 1522.907082080841 345.75311732292175 6.901315927505493\n",
      "10.891143798828125 9.584042310714722 15.071956396102905 368.20898056030273 1552.6043272018433 352.54229617118835 7.037222862243652\n",
      "11.098308801651001 9.76582956314087 15.37156867980957 375.84388637542725 1582.2731058597565 359.280481338501 7.181102275848389\n",
      "11.304882049560547 9.947197914123535 15.675236940383911 383.72764015197754 1612.1220533847809 366.02702021598816 7.3158605098724365\n",
      "11.51551866531372 10.131859540939331 15.989821195602417 391.96003341674805 1642.3513300418854 372.87252950668335 7.451776504516602\n",
      "11.731929779052734 10.322801351547241 16.321213483810425 400.53772950172424 1673.0398890972137 379.87277150154114 7.590741872787476\n",
      "11.94200849533081 10.507717609405518 16.646112203598022 409.36627769470215 1703.0980200767517 386.6863350868225 7.726128578186035\n",
      "12.1498122215271 10.689955949783325 16.90542697906494 414.78875613212585 1734.6482753753662 393.5192868709564 7.861233472824097\n",
      "12.367018699645996 10.88308048248291 17.17212724685669 420.0086612701416 1765.2734673023224 400.51112484931946 7.998845815658569\n",
      "12.572398662567139 11.063570022583008 17.435064792633057 425.7270596027374 1794.45547747612 407.0715343952179 8.139135837554932\n",
      "12.776842832565308 11.242028713226318 17.70306706428528 431.88492941856384 1823.6975111961365 413.6232030391693 8.26845908164978\n",
      "12.980247020721436 11.42130970954895 17.98242473602295 438.528302192688 1852.9408054351807 420.19505763053894 8.39837646484375\n",
      "13.187652111053467 11.603906869888306 18.274348497390747 445.62270736694336 1882.4271957874298 426.8974368572235 8.532989501953125\n",
      "13.405829906463623 11.798351049423218 18.587706327438354 453.2977817058563 1912.8066926002502 433.86974120140076 8.673133850097656\n"
     ]
    },
    {
     "name": "stdout",
     "output_type": "stream",
     "text": [
      "13.607009887695312 11.975837469100952 18.881610870361328 461.0521876811981 1941.6840560436249 440.23459219932556 8.800320625305176\n",
      "13.810053586959839 12.15424656867981 19.182921409606934 469.1006979942322 1970.8483452796936 446.6644971370697 8.928684949874878\n",
      "14.01712703704834 12.335224628448486 19.49090814590454 477.43150091171265 2000.3337652683258 453.184161901474 9.057698726654053\n",
      "14.22521162033081 12.518814325332642 19.809054851531982 485.96694111824036 2030.249239206314 459.8623597621918 9.203245162963867\n",
      "14.430192232131958 12.699909210205078 20.125728130340576 494.71831798553467 2059.9007568359375 466.4427909851074 9.33591914176941\n",
      "14.635522603988647 12.879386186599731 20.42499041557312 502.5843904018402 2090.1568927764893 473.00886058807373 9.465275526046753\n",
      "14.842459201812744 13.059361457824707 20.651137113571167 506.5126895904541 2120.5132853984833 479.6577696800232 9.597611904144287\n",
      "15.053351879119873 13.24380612373352 20.915096521377563 512.1157627105713 2150.2009682655334 486.5167670249939 9.735381126403809\n",
      "15.264482975006104 13.427701473236084 21.186606407165527 518.1492636203766 2179.637443304062 493.39290475845337 9.873798370361328\n",
      "15.475613594055176 13.610817432403564 21.465418577194214 524.6388022899628 2209.3849029541016 500.2698335647583 10.01248049736023\n",
      "15.68360447883606 13.790995121002197 21.751187562942505 531.6291823387146 2239.059370994568 507.00978112220764 10.14794135093689\n",
      "15.889305353164673 13.969470977783203 22.041152238845825 539.0365989208221 2268.395801782608 513.5837781429291 10.29239797592163\n",
      "16.093857288360596 14.147095441818237 22.33853793144226 546.7933011054993 2297.627375125885 520.146315574646 10.422293424606323\n",
      "16.30355167388916 14.331900119781494 22.65078091621399 554.9092495441437 2327.496908903122 526.871107339859 10.553823471069336\n",
      "16.505857706069946 14.50813364982605 22.952767848968506 563.1047127246857 2356.6382145881653 533.3770842552185 10.682374477386475\n",
      "16.707890510559082 14.684192419052124 23.261120319366455 571.5234224796295 2385.8794944286346 539.8908867835999 10.810870170593262\n",
      "16.912024974822998 14.862568140029907 23.576822757720947 580.3241171836853 2415.7873232364655 546.4625525474548 10.940528631210327\n",
      "17.117973566055298 15.04261326789856 23.863081216812134 587.4185116291046 2446.5449302196503 553.1418557167053 11.073447704315186\n",
      "17.327821493148804 15.22719120979309 24.101627349853516 591.7394142150879 2477.0493834018707 559.9474854469299 11.210039615631104\n",
      "17.53788185119629 15.412115097045898 24.365633964538574 597.3241491317749 2506.6102452278137 566.7209067344666 11.34626054763794\n",
      "17.74786376953125 15.597765684127808 24.637258052825928 603.3745803833008 2536.37251830101 573.502201795578 11.500771284103394\n",
      "17.954257011413574 15.778271675109863 24.911372661590576 609.810290813446 2565.552114725113 580.2026371955872 11.635156631469727\n",
      "18.160014152526855 15.95804238319397 25.192890167236328 616.6797716617584 2595.0003848075867 586.8947513103485 11.769383430480957\n",
      "18.365556240081787 16.1377592086792 25.48271417617798 624.0021524429321 2624.2021379470825 593.5819494724274 11.90294075012207\n",
      "18.571540594100952 16.318398237228394 25.77941918373108 631.6701850891113 2653.537235021591 600.2828547954559 12.036277294158936\n",
      "18.77850890159607 16.49902081489563 26.082061529159546 639.6164467334747 2682.939400434494 606.9471879005432 12.168927907943726\n",
      "18.983774662017822 16.678303480148315 26.38574504852295 647.6824731826782 2711.8742434978485 613.5729863643646 12.301462411880493\n",
      "19.18832015991211 16.857627391815186 26.69303297996521 656.0387766361237 2741.531284093857 620.2438073158264 12.434359312057495\n",
      "19.39736557006836 17.040735483169556 27.01168918609619 664.6998081207275 2771.2585756778717 627.0082805156708 12.569067478179932\n",
      "19.604267358779907 17.220099449157715 27.333964824676514 673.7047781944275 2801.341168642044 633.6849434375763 12.702237367630005\n",
      "19.82472276687622 17.415018320083618 27.570932388305664 677.3841831684113 2833.9326646327972 640.781224489212 12.842075824737549\n",
      "20.029152631759644 17.594045400619507 27.817970752716064 682.4263823032379 2863.0109524726868 647.3912725448608 12.99589729309082\n",
      "20.240778923034668 17.780327796936035 28.082911252975464 687.967075586319 2893.0340118408203 654.1727731227875 13.131081819534302\n",
      "20.447084188461304 17.960453748703003 28.346142292022705 693.7926709651947 2922.5420384407043 660.8661005496979 13.265573740005493\n",
      "20.654139280319214 18.142799615859985 28.61717438697815 700.0007662773132 2951.823444366455 667.5997924804688 13.400599241256714\n",
      "20.85896897315979 18.32233953475952 28.89192223548889 706.464741230011 2980.9980175495148 674.219883441925 13.532960653305054\n",
      "21.066086769104004 18.50285053253174 29.174100399017334 713.3569469451904 3010.694382429123 680.9084510803223 13.666287660598755\n",
      "21.26819109916687 18.67979907989502 29.45812201499939 720.5443894863129 3039.6505601406097 687.347736120224 13.79297947883606\n",
      "21.47756028175354 18.863372564315796 29.75559639930725 728.1063914299011 3077.175793170929 694.1570410728455 13.928599834442139\n",
      "21.691741943359375 19.05386209487915 30.06519627571106 735.930742263794 3107.7779970169067 701.2177209854126 14.070387125015259\n",
      "21.90197443962097 19.240111827850342 30.372128009796143 743.9092953205109 3138.231905937195 708.1909165382385 14.210628747940063\n",
      "22.11176323890686 19.425767421722412 30.682220220565796 752.018208026886 3168.468968629837 715.1588354110718 14.352430820465088\n",
      "22.322160959243774 19.611099243164062 30.99374532699585 760.2842240333557 3198.8027589321136 722.1202077865601 14.492896318435669\n",
      "22.530840635299683 19.79474115371704 31.310365438461304 768.683167219162 3228.866676092148 729.0379033088684 14.649161100387573\n",
      "22.741878271102905 19.981279373168945 31.630531549453735 777.3601398468018 3258.977024793625 735.9364020824432 14.790576219558716\n",
      "22.947188138961792 20.1617591381073 31.95139241218567 786.2881681919098 3288.648004055023 742.6340751647949 14.92352819442749\n",
      "23.16281223297119 20.35476040840149 32.278507471084595 794.7317976951599 3319.7677903175354 749.6442983150482 15.06140947341919\n",
      "23.374542236328125 20.54200839996338 32.48921847343445 797.4449894428253 3351.473401069641 756.6439869403839 15.200353145599365\n",
      "23.589303493499756 20.734296083450317 32.75732946395874 802.722067117691 3381.6179134845734 763.5937497615814 15.338060855865479\n",
      "23.80570101737976 20.928744077682495 33.031349182128906 808.3109648227692 3412.0542285442352 770.6305570602417 15.477721691131592\n",
      "24.01333522796631 21.112470149993896 33.2933874130249 813.8956065177917 3441.5362100601196 777.4727592468262 15.6156165599823\n",
      "24.221875190734863 21.297252416610718 33.5603404045105 819.7858395576477 3471.0342316627502 784.2224357128143 15.750589609146118\n",
      "24.429377555847168 21.48115062713623 33.83127808570862 825.8141257762909 3500.1574172973633 790.9968931674957 15.88673210144043\n",
      "24.638781547546387 21.667182445526123 34.10798263549805 832.0510363578796 3529.635579109192 797.8936805725098 16.026535034179688\n",
      "24.873795747756958 21.87826418876648 34.42047882080078 838.8310668468475 3560.884345293045 805.33314037323 16.173194646835327\n",
      "25.077950954437256 22.058496952056885 34.69758653640747 845.3668639659882 3589.930335998535 811.9803037643433 16.30645751953125\n",
      "25.28177833557129 22.238534450531006 34.980114459991455 852.0876929759979 3618.8594031333923 818.6372489929199 16.47977900505066\n",
      "25.48795509338379 22.41970205307007 35.26593279838562 858.9590816497803 3647.6902821063995 825.2934861183167 16.612627506256104\n",
      "25.693854570388794 22.60275888442993 35.55624318122864 866.0405356884003 3676.6746830940247 831.9749445915222 16.745317220687866\n",
      "25.899523735046387 22.78335928916931 35.849071741104126 873.2982659339905 3705.9652750492096 838.689334154129 16.879591464996338\n",
      "26.106006383895874 22.96451425552368 36.14731550216675 880.7331767082214 3735.3019218444824 845.4501688480377 17.013177394866943\n",
      "26.31198287010193 23.147022485733032 36.44614934921265 888.2208435535431 3764.187572479248 852.1559581756592 17.14566969871521\n",
      "26.513975381851196 23.325823545455933 36.74661827087402 895.6762189865112 3792.796601295471 858.8159909248352 17.277841091156006\n",
      "26.70966362953186 23.49763822555542 37.03174901008606 902.952691078186 3820.8074247837067 865.2732388973236 17.40651774406433\n"
     ]
    },
    {
     "name": "stdout",
     "output_type": "stream",
     "text": [
      "26.912302494049072 23.6758029460907 37.32870125770569 910.5248000621796 3849.39612698555 871.8753409385681 17.53817844390869\n",
      "27.10466456413269 23.8441104888916 37.61041450500488 917.964955329895 3876.8965244293213 878.1067216396332 17.661381721496582\n",
      "27.30060577392578 24.017521381378174 37.903383016586304 925.6040000915527 3905.01828789711 884.4667363166809 17.78761076927185\n",
      "27.491300344467163 24.185433387756348 38.18977975845337 933.128411769867 3932.3486790657043 890.6289761066437 17.909756422042847\n",
      "27.67689037322998 24.34944438934326 38.470142126083374 940.5429887771606 3959.052516222 896.6595833301544 18.02909779548645\n",
      "27.85597538948059 24.506678581237793 38.73831820487976 947.7066748142242 3984.7837538719177 902.4825196266174 18.143840312957764\n",
      "28.039466381072998 24.668047428131104 39.01762509346008 955.1247084140778 4011.099020957947 908.4424364566803 18.261507272720337\n",
      "28.22249126434326 24.82986354827881 39.294084787368774 962.4360473155975 4037.045594215393 914.3768889904022 18.379421710968018\n",
      "28.408294439315796 24.99347758293152 39.581894636154175 970.0102865695953 4063.4998395442963 920.4351105690002 18.52613377571106\n",
      "28.600197553634644 25.16173005104065 39.876678228378296 977.8405196666718 4090.3029158115387 926.6315565109253 18.648687839508057\n",
      "28.794774293899536 25.33258819580078 40.1733558177948 985.9261224269867 4117.834841489792 932.9809172153473 18.775760889053345\n",
      "28.994444370269775 25.506823539733887 40.48405718803406 994.3673503398895 4146.21186041832 939.4822788238525 18.90518021583557\n",
      "29.203813314437866 25.691548824310303 40.81112480163574 1003.3214476108551 4176.123138189316 946.3295710086823 19.04107165336609\n",
      "29.410332202911377 25.874019622802734 41.13291382789612 1012.0016894340515 4206.308763742447 953.1177682876587 19.176469326019287\n",
      "29.617865800857544 26.05586290359497 41.32765817642212 1013.9456346035004 4238.051545143127 959.8728437423706 19.307944536209106\n",
      "29.822832584381104 26.23735737800598 41.5851936340332 1019.2788851261139 4267.388524770737 966.5257148742676 19.43970251083374\n",
      "30.0265851020813 26.41765832901001 41.85020065307617 1025.0085844993591 4296.681823015213 973.1513607501984 19.570427894592285\n",
      "30.235543251037598 26.602879285812378 42.125091314315796 1031.0473623275757 4326.233817100525 980.017441034317 19.707430124282837\n",
      "30.444779634475708 26.787972688674927 42.40311098098755 1037.3851900100708 4355.692716598511 986.8533973693848 19.844231843948364\n",
      "30.64793086051941 26.96643328666687 42.68036675453186 1044.0081837177277 4384.688329935074 993.3947310447693 19.973618268966675\n",
      "30.85705804824829 27.150960683822632 42.97464299201965 1051.0359728336334 4414.549768447876 1000.2382130622864 20.10934329032898\n",
      "31.065191507339478 27.33484673500061 43.27100324630737 1058.3417041301727 4444.0775809288025 1006.9401862621307 20.24152112007141\n",
      "31.263070344924927 27.509462118148804 43.556618452072144 1065.658988237381 4472.667944192886 1013.3727447986603 20.368733882904053\n",
      "31.47088623046875 27.693179607391357 43.85890078544617 1073.3045704364777 4502.143693447113 1020.124773979187 20.503482580184937\n",
      "31.682483673095703 27.88044834136963 44.17270517349243 1081.124257326126 4532.416944980621 1027.0881292819977 20.641388416290283\n",
      "31.88740563392639 28.06008505821228 44.47428607940674 1088.995527267456 4561.7017340660095 1033.8212525844574 20.775622367858887\n",
      "32.09374737739563 28.240031719207764 44.78157353401184 1097.0200550556183 4591.477124452591 1040.5842261314392 20.952726125717163\n",
      "32.29583764076233 28.416852235794067 45.08299016952515 1104.9307940006256 4620.205957174301 1047.2065043449402 21.085484266281128\n",
      "32.502705574035645 28.599624156951904 45.3951530456543 1113.1444256305695 4649.32785654068 1053.9637660980225 21.21924901008606\n",
      "32.70989203453064 28.781978607177734 45.711320877075195 1121.5666375160217 4679.392916679382 1060.7835631370544 21.35589838027954\n",
      "32.91026043891907 28.95867347717285 46.020235538482666 1130.0738101005554 4708.536656856537 1067.366687297821 21.487323760986328\n",
      "33.12025237083435 29.142916202545166 46.34392762184143 1138.9875724315643 4738.753726482391 1074.2918450832367 21.626680374145508\n",
      "33.33026194572449 29.326746940612793 46.67835259437561 1148.30704331398 4769.4220151901245 1081.190536737442 21.764588356018066\n",
      "33.53446388244629 29.50632071495056 46.86427664756775 1150.0426337718964 4800.984592676163 1087.919703245163 21.89656090736389\n",
      "33.74461770057678 29.69098949432373 47.113354444503784 1154.7338383197784 4831.466508150101 1094.8390872478485 22.035264492034912\n",
      "33.95814394950867 29.87847137451172 47.38650321960449 1160.5232644081116 4861.602897644043 1101.8526973724365 22.175633192062378\n",
      "34.16850137710571 30.063953638076782 47.66409230232239 1166.7365725040436 4891.374274253845 1108.8266959190369 22.31621289253235\n",
      "34.377262353897095 30.246994495391846 47.94929242134094 1173.433521747589 4921.131060361862 1115.6494853496552 22.451815366744995\n",
      "34.58099603652954 30.426384925842285 48.239322662353516 1180.561585187912 4950.421729803085 1122.3150160312653 22.583502769470215\n",
      "34.78386831283569 30.603803157806396 48.53493356704712 1188.0514574050903 4979.601682186127 1128.8489513397217 22.711775302886963\n",
      "34.99785590171814 30.793641805648804 48.84992003440857 1196.0361287593842 5010.031836032867 1135.8168184757233 22.84972620010376\n",
      "35.20439267158508 30.97554087638855 49.15771794319153 1204.0586068630219 5039.6621725559235 1142.5651051998138 22.985604286193848\n",
      "35.41010642051697 31.156481504440308 49.46699094772339 1212.324389219284 5069.483733415604 1149.313256263733 23.120803356170654\n",
      "35.619306802749634 31.34076476097107 49.786357402801514 1220.9707806110382 5099.479393959045 1156.1333935260773 23.257558822631836\n",
      "35.823774099349976 31.520066022872925 50.1096978187561 1230.0313522815704 5129.601635932922 1162.764957666397 23.38872218132019\n",
      "36.02621293067932 31.697762489318848 50.356420278549194 1235.069373846054 5159.315476179123 1169.3429808616638 23.551978588104248\n",
      "36.240567207336426 31.88760733604431 50.630016803741455 1240.8209018707275 5189.358517885208 1176.274692773819 23.68843674659729\n",
      "36.449241399765015 32.06940460205078 50.90265870094299 1246.9013152122498 5219.06768989563 1183.0575499534607 23.823073625564575\n",
      "36.65108776092529 32.24745059013367 51.17887234687805 1253.359263420105 5248.406411409378 1189.6213293075562 23.952611923217773\n",
      "36.85969257354736 32.4306366443634 51.46864199638367 1260.3098266124725 5278.447028398514 1196.433005809784 24.087629795074463\n",
      "37.07072472572327 32.61403703689575 51.766011238098145 1267.5294761657715 5308.4580335617065 1203.3311157226562 24.225321292877197\n",
      "37.282965898513794 32.799893617630005 52.06897830963135 1275.0413885116577 5338.256430387497 1210.2306997776031 24.3626925945282\n",
      "37.495152711868286 32.98665904998779 52.37829875946045 1282.7927017211914 5368.668044567108 1217.1963107585907 24.501829862594604\n",
      "37.70062303543091 33.16519498825073 52.682573080062866 1290.6726105213165 5398.348777770996 1223.9968266487122 24.638654708862305\n",
      "37.90438652038574 33.34295582771301 52.98852872848511 1298.5825147628784 5427.747796058655 1230.7090804576874 24.773605823516846\n",
      "38.11901330947876 33.53202509880066 53.31125068664551 1306.9746696949005 5458.114192485809 1237.723626613617 24.91310453414917\n",
      "38.32713794708252 33.71410775184631 53.62917876243591 1315.35733294487 5488.136593341827 1244.6246592998505 25.05111336708069\n",
      "38.53365421295166 33.89504432678223 53.94918203353882 1324.0132460594177 5517.997240304947 1251.4991295337677 25.187960147857666\n",
      "38.74040675163269 34.07663154602051 54.275094747543335 1332.9194130897522 5548.0007338523865 1258.2398266792297 25.321295976638794\n",
      "38.929543256759644 34.24109220504761 54.50317072868347 1337.6188247203827 5576.055673599243 1264.4712553024292 25.444941520690918\n",
      "39.13172674179077 34.41852021217346 54.721763610839844 1341.1845531463623 5605.728459119797 1271.0722291469574 25.575963497161865\n",
      "39.33932948112488 34.60192942619324 54.9824013710022 1346.7355382442474 5635.543650865555 1277.863124847412 25.71086621284485\n",
      "39.545820236206055 34.782830238342285 55.25432538986206 1352.7412197589874 5665.010938167572 1284.6246891021729 25.84495449066162\n",
      "39.75128960609436 34.96418261528015 55.53236675262451 1359.1635076999664 5694.6691789627075 1291.3674709796906 25.979012966156006\n"
     ]
    },
    {
     "name": "stdout",
     "output_type": "stream",
     "text": [
      "39.95866417884827 35.14659833908081 55.81741547584534 1366.0018119812012 5724.471216201782 1298.1310002803802 26.114062070846558\n",
      "40.165008783340454 35.32779288291931 56.10893416404724 1373.268233537674 5754.02644443512 1304.8968768119812 26.250593423843384\n",
      "40.373929023742676 35.51003408432007 56.40850901603699 1380.8274548053741 5783.70640039444 1311.7005875110626 26.386711835861206\n",
      "40.58353805541992 35.69434857368469 56.717185735702515 1388.6926732063293 5813.733207702637 1318.5596134662628 26.5692777633667\n",
      "40.79954409599304 35.88321375846863 57.03849983215332 1396.8455414772034 5844.110497951508 1325.591298341751 26.708234786987305\n",
      "41.008278369903564 36.064560651779175 57.35075616836548 1405.1011202335358 5874.36544585228 1332.4477880001068 26.844594717025757\n",
      "41.229917764663696 36.25830912590027 57.68701934814453 1413.846834897995 5905.6172747612 1339.5870959758759 26.985066890716553\n",
      "41.44353747367859 36.44536352157593 58.019787073135376 1422.7708535194397 5936.27245092392 1346.5805323123932 27.12338662147522\n",
      "41.6501989364624 36.626556158065796 58.31412172317505 1430.1127202510834 5967.192330598831 1353.4195129871368 27.2603280544281\n",
      "41.85165762901306 36.80275201797485 58.52385926246643 1433.177889585495 5997.954228401184 1360.1270236968994 27.394171237945557\n",
      "42.05891251564026 36.98366045951843 58.780598878860474 1438.5131747722626 6027.634817361832 1366.913099527359 27.529714584350586\n",
      "42.265244483947754 37.16429543495178 59.04637575149536 1444.3543968200684 6057.338166952133 1373.704193353653 27.665092706680298\n",
      "42.477433919906616 37.351318359375 59.32702875137329 1450.66117811203 6087.572132587433 1380.6157982349396 27.803101778030396\n",
      "42.69080376625061 37.53873872756958 59.61664128303528 1457.4002993106842 6117.906061410904 1387.5765326023102 27.940859079360962\n",
      "42.89664316177368 37.71841287612915 59.90351366996765 1464.3801941871643 6147.383059501648 1394.285225391388 28.074079036712646\n",
      "43.103919506073 37.90032744407654 60.20116424560547 1471.7030160427094 6177.18434882164 1401.0992605686188 28.2107892036438\n",
      "43.309670209884644 38.080089807510376 60.503299951553345 1479.309087753296 6206.855707168579 1407.79696393013 28.34380793571472\n",
      "43.51180553436279 38.25827503204346 60.803051710128784 1487.038780927658 6236.101284742355 1414.3692018985748 28.47347855567932\n",
      "43.71565866470337 38.43735456466675 61.11312985420227 1495.0614650249481 6265.4241144657135 1421.0168070793152 28.604374408721924\n",
      "43.92160892486572 38.618669271469116 61.42299699783325 1503.3377680778503 6295.015949487686 1427.6834387779236 28.735321283340454\n",
      "44.14371633529663 38.817527770996094 61.76122498512268 1512.056440114975 6326.269948482513 1434.859323978424 28.87477946281433\n",
      "44.35220766067505 39.00092816352844 62.08111596107483 1520.7638442516327 6356.30255818367 1441.6910157203674 29.010520458221436\n",
      "44.56036925315857 39.18274927139282 62.407777309417725 1529.8304181098938 6386.750781536102 1448.5001685619354 29.145628213882446\n",
      "44.76962757110596 39.367926359176636 62.62399935722351 1532.9018511772156 6418.632965087891 1455.3509209156036 29.280588150024414\n",
      "44.972692012786865 39.54718899726868 62.86962032318115 1537.8289675712585 6449.044966936111 1462.0505402088165 29.413432121276855\n",
      "45.17272090911865 39.72425651550293 63.119842529296875 1542.9733600616455 6478.086176872253 1468.6758782863617 29.545762300491333\n",
      "45.37812066078186 39.907691955566406 63.378014087677 1548.3525249958038 6507.089141368866 1475.40567278862 29.678846836090088\n",
      "45.59270358085632 40.097121238708496 63.65122032165527 1554.1532881259918 6537.124055862427 1482.4030492305756 29.861533641815186\n",
      "45.8161826133728 40.29460430145264 63.940041303634644 1560.435375213623 6567.7611784935 1489.5903255939484 30.00327754020691\n",
      "46.018314838409424 40.4721040725708 64.20621657371521 1566.5054485797882 6596.433070898056 1496.221974849701 30.135459184646606\n",
      "46.21762943267822 40.64902448654175 64.47690176963806 1572.7475788593292 6624.650052785873 1502.7853405475616 30.26663827896118\n",
      "46.43844437599182 40.8481605052948 64.78310203552246 1579.7255373001099 6655.688875675201 1509.973112821579 30.4089617729187\n",
      "46.64714956283569 41.03244590759277 65.07575249671936 1586.6409678459167 6685.211091995239 1516.8060562610626 30.545586585998535\n",
      "46.856268644332886 41.215559005737305 65.36658978462219 1593.759482383728 6714.825520038605 1523.6133015155792 30.680941343307495\n",
      "47.05974793434143 41.393471479415894 65.65441918373108 1600.8858070373535 6744.103967666626 1530.3043341636658 30.8148410320282\n",
      "47.2644829750061 41.57200598716736 65.9440987110138 1608.0578079223633 6773.315984725952 1537.0277783870697 30.949572801589966\n",
      "47.46596884727478 41.7485556602478 66.23024892807007 1615.1674675941467 6802.116743564606 1543.7259893417358 31.08382487297058\n",
      "47.6690616607666 41.92730665206909 66.5186095237732 1622.3866941928864 6830.963924407959 1550.4458651542664 31.217841386795044\n",
      "47.87255120277405 42.10730600357056 66.80877947807312 1629.4541862010956 6859.260547637939 1557.0780427455902 31.348180294036865\n",
      "48.04550790786743 42.257994174957275 67.06115221977234 1635.909147977829 6884.28219628334 1562.8023138046265 31.46255111694336\n",
      "48.20158243179321 42.393946170806885 67.28892254829407 1641.751009941101 6906.72455906868 1567.9520568847656 31.56599450111389\n",
      "48.32791829109192 42.50475454330444 67.47402381896973 1646.4506556987762 6923.952014684677 1572.0888414382935 31.648982048034668\n",
      "48.43656373023987 42.59968829154968 67.63336110115051 1650.5610082149506 6938.780133724213 1575.6640179157257 31.720962047576904\n",
      "48.53472948074341 42.687053203582764 67.77930068969727 1654.2651813030243 6951.804065704346 1578.8864393234253 31.78568983078003\n",
      "48.60458421707153 42.74820518493652 67.88316798210144 1656.9629859924316 6961.311122894287 1581.1935949325562 31.832433223724365\n",
      "48.66842770576477 42.80552625656128 67.97867226600647 1659.3405673503876 6969.56579709053 1583.2653744220734 31.87386202812195\n",
      "48.71341395378113 42.845804929733276 68.0473780632019 1660.9979124069214 6975.2145981788635 1584.7114429473877 31.902862548828125\n",
      "48.74456071853638 42.87312126159668 68.09529614448547 1662.2031235694885 6979.2579572200775 1585.7332911491394 31.92370867729187\n",
      "48.77614784240723 42.90084719657898 68.14453387260437 1663.430231809616 6983.391726255417 1586.76926279068 31.944792985916138\n",
      "48.79839324951172 42.92069864273071 68.17916965484619 1664.289259672165 6986.374020576477 1587.4973142147064 31.9595365524292\n",
      "48.81373977661133 42.93427801132202 68.20318818092346 1664.8924820423126 6988.322916269302 1587.9984066486359 31.96982765197754\n",
      "48.81916427612305 42.93919324874878 68.21200919151306 1665.1079030036926 6988.919264554977 1588.174480676651 31.973432540893555\n",
      "48.82717299461365 42.946370124816895 68.22485184669495 1665.4258041381836 6989.82071018219 1588.43306016922 31.978729248046875\n",
      "48.836692333221436 42.95477509498596 68.23979020118713 1665.8055725097656 6990.900552272797 1588.7373306751251 31.985097646713257\n",
      "48.84471940994263 42.96200370788574 68.25288009643555 1666.1307690143585 6991.8652539253235 1588.9908330440521 31.990291595458984\n",
      "48.86022591590881 42.975937843322754 68.27817416191101 1666.7581305503845 6993.995635032654 1589.4911422729492 32.000410318374634\n",
      "48.87301683425903 42.987313985824585 68.2988064289093 1667.2888131141663 6995.745606422424 1589.904512643814 32.00883865356445\n",
      "48.88979244232178 43.00246071815491 68.32576274871826 1667.9984819889069 6998.271364688873 1590.4512498378754 32.01997971534729\n",
      "48.906174421310425 43.01714754104614 68.35249447822571 1668.704089641571 7000.601218223572 1590.9859492778778 32.03090691566467\n",
      "48.97032952308655 43.07395696640015 68.45435428619385 1671.541027545929 7010.5471069812775 1593.0921998023987 32.073384284973145\n",
      "49.125815868377686 43.2094361782074 68.63422894477844 1674.9734053611755 7034.967730760574 1598.2337727546692 32.17553973197937\n",
      "49.17735958099365 43.254395723342896 68.67735862731934 1675.2337429523468 7043.384862422943 1599.9414405822754 32.20919418334961\n",
      "time preprocess Done 26295.60252380371\n"
     ]
    }
   ],
   "source": [
    "X_train, X_test, y_train, y_test = [], [], [], []\n",
    "X = []\n",
    "y = []\n",
    "import time\n",
    "t1 = t2 = t3 = t4 = t5 = t6 = t7 = 0\n",
    "i = 0\n",
    "for index, item in df.iterrows():\n",
    "    i+=1\n",
    "    if(i%5000==0): print(t1, t2, t3, t4, t5, t6, t7)\n",
    "    if(isThresholdForPreparationTime and (get_preparation_time(item) > thresholdForPreparationTime*60)): #removing inputs \n",
    "        continue\n",
    "        \n",
    "    features = []\n",
    "    t = time.time()\n",
    "    features = features + getStoreId(item, isOneHotEncodingRequired)\n",
    "    t1 += time.time() - t\n",
    "    \n",
    "    t = time.time()\n",
    "    features = features + getItemType(item, isOneHotEncodingRequired=isOneHotEncodingRequired, clubCategoryWise=clubItemsCategoryWise)\n",
    "    t2 += time.time() - t\n",
    "\n",
    "    t = time.time()    \n",
    "    features = features + getTimeSlotOfKitchenDisplayTime(item, isOneHotEncodingRequired=isOneHotEncodingRequired)\n",
    "    t3 += time.time() - t\n",
    "\n",
    "    t = time.time()\n",
    "    features = features + countPastOrders(item, storeWiseCumulativeItems, slotTimeForPastOrders) \n",
    "    t4 += time.time() - t\n",
    "\n",
    "    t = time.time()\n",
    "    features = features + getPreviousPrepTime(item, clubCategoryWise=clubItemsCategoryWise, timeslot = 60)  \n",
    "    t5 += time.time() - t\n",
    "\n",
    "    t = time.time()        \n",
    "    features = features + [lengthQueue(item)]\n",
    "    t6 += time.time() - t\n",
    "    \n",
    "    t = time.time()\n",
    "    X.append(features)\n",
    "    y.append(get_preparation_time(item))\n",
    "    t7 += time.time() - t\n",
    "\n",
    "#     if((order['ORDER_DATE'] >='2021-12-20' and order['ORDER_DATE'] <= '2021-12-24') or (order['ORDER_DATE'] >='2021-12-27' and order['ORDER_DATE'] <= '2021-12-29')):\n",
    "#         X_train.append(features)\n",
    "#         y_train.append(420+round(get_preparation_time(order)))\n",
    "#     elif(order['ORDER_DATE'] =='2021-12-30'):\n",
    "#         X_test.append(features)\n",
    "#         y_test.append(420+round(get_preparation_time(order)))\n",
    "print(t1, t2, t3, t4, t5, t6, t7)\n",
    "print(\"time preprocess Done\", time.time()-t100)"
   ]
  },
  {
   "cell_type": "code",
   "execution_count": 22,
   "id": "3c1887db",
   "metadata": {
    "ExecuteTime": {
     "end_time": "2023-01-23T19:46:47.655624Z",
     "start_time": "2023-01-23T19:46:47.648446Z"
    }
   },
   "outputs": [
    {
     "name": "stdout",
     "output_type": "stream",
     "text": [
      "Done with the long run....\n"
     ]
    }
   ],
   "source": [
    "print(\"Done with the long run....\")"
   ]
  },
  {
   "cell_type": "code",
   "execution_count": 23,
   "id": "cd23ea63",
   "metadata": {
    "ExecuteTime": {
     "end_time": "2023-01-23T19:46:47.663929Z",
     "start_time": "2023-01-23T19:46:47.658318Z"
    }
   },
   "outputs": [],
   "source": [
    "bakeup_X1 = X\n",
    "bakeup_y1 = y"
   ]
  },
  {
   "cell_type": "code",
   "execution_count": 24,
   "id": "ec7c7446",
   "metadata": {
    "ExecuteTime": {
     "end_time": "2023-01-23T19:46:48.664045Z",
     "start_time": "2023-01-23T19:46:47.666647Z"
    }
   },
   "outputs": [],
   "source": [
    "if splitMethod == 'random':\n",
    "    X_train, X_test, y_train, y_test = train_test_split(X, y, test_size = 0.20, random_state = 42)"
   ]
  },
  {
   "cell_type": "code",
   "execution_count": 25,
   "id": "86367044",
   "metadata": {
    "ExecuteTime": {
     "end_time": "2023-01-23T19:46:48.672301Z",
     "start_time": "2023-01-23T19:46:48.667271Z"
    }
   },
   "outputs": [],
   "source": [
    "def getRMSE(actual, predictions):\n",
    "    mse = sklearn.metrics.mean_squared_error(actual, predictions)\n",
    "    return math.sqrt(mse)"
   ]
  },
  {
   "cell_type": "code",
   "execution_count": 39,
   "id": "2bc043f0",
   "metadata": {
    "ExecuteTime": {
     "end_time": "2023-01-24T05:43:16.455267Z",
     "start_time": "2023-01-24T05:43:16.429558Z"
    }
   },
   "outputs": [
    {
     "data": {
      "text/plain": [
       "36"
      ]
     },
     "execution_count": 39,
     "metadata": {},
     "output_type": "execute_result"
    }
   ],
   "source": [
    "len(X)"
   ]
  },
  {
   "cell_type": "code",
   "execution_count": null,
   "id": "16ee20d2",
   "metadata": {
    "ExecuteTime": {
     "start_time": "2023-01-23T19:29:26.916Z"
    }
   },
   "outputs": [
    {
     "name": "stdout",
     "output_type": "stream",
     "text": [
      "Random Forest Model\n"
     ]
    }
   ],
   "source": [
    "# random forest\n",
    "if (model=='RF'):\n",
    "    print(\"Random Forest Model\")\n",
    "    regressor = RandomForestRegressor()\n",
    "    if(isNormalizationRequired):\n",
    "        scaler = StandardScaler()\n",
    "        scaler.fit(X_train)\n",
    "\n",
    "        X_train = scaler.transform(X_train)\n",
    "        X_test = scaler.transform(X_test)\n",
    "    \n",
    "    regressor.fit(X_train, y_train)\n",
    "    predictions = regressor.predict(X_train)\n",
    "    print(\"RMSE score on train set: \", getRMSE(y_train, predictions))\n",
    "        \n",
    "    predictions = regressor.predict(X_test)\n",
    "    print(\"RMSE score on test set: \", getRMSE(y_test, predictions))\n",
    "\n",
    "print(\"time trainin done\", time.time()-t100)"
   ]
  },
  {
   "cell_type": "code",
   "execution_count": null,
   "id": "9802daa7",
   "metadata": {
    "ExecuteTime": {
     "start_time": "2023-01-23T19:29:27.324Z"
    },
    "scrolled": true
   },
   "outputs": [],
   "source": [
    "X_t = []\n",
    "Y_t = []\n",
    "for j in range(0, len(allStoreIds)):\n",
    "    xx = []\n",
    "    yy = []\n",
    "    for i in range(0, len(X_test)):\n",
    "        if(X_test[i][j] > 0):\n",
    "            xx.append(X_test[i])\n",
    "            yy.append(y_test[i])\n",
    "    X_t.append(j)\n",
    "    Y_t.append(getRMSE(yy, regressor.predict(xx)))\n",
    "    \n",
    "plt.bar(X_t, Y_t)\n",
    "plt.xticks(X_t)\n",
    "plt.xlabel(\"Store Id\")\n",
    "plt.ylabel(\"RMSE value of test set\")\n",
    "plt.title(\"Preparation time prediction\")\n",
    "plt.savefig(f'plots/{city}_{month}_1.png')\n",
    "# plt.show()"
   ]
  },
  {
   "cell_type": "code",
   "execution_count": null,
   "id": "68404544",
   "metadata": {
    "ExecuteTime": {
     "start_time": "2023-01-23T19:29:27.738Z"
    }
   },
   "outputs": [],
   "source": [
    "X_t = []\n",
    "Y_t = []\n",
    "XXX = [*X_train, *X_test]\n",
    "yyy = [*y_train, *y_test]\n",
    "for j in range(0, len(allStoreIds)):\n",
    "    xx = []\n",
    "    yy = []\n",
    "    for i in range(0, len(XXX)):\n",
    "        if(XXX[i][j] > 0):\n",
    "            xx.append(XXX[i])\n",
    "            yy.append(yyy[i])\n",
    "    X_t.append(j)\n",
    "    Y_t.append(getRMSE(yy, regressor.predict(xx)))\n",
    "    \n",
    "plt.bar(X_t, Y_t)\n",
    "plt.xticks(X_t)\n",
    "plt.xlabel(\"Store Id\")\n",
    "plt.ylabel(\"RMSE value of test set\")\n",
    "plt.title(\"Preparation time prediction\")\n",
    "plt.savefig(f'plots/{city}_{month}_1.png')\n",
    "# plt.show()"
   ]
  },
  {
   "cell_type": "code",
   "execution_count": null,
   "id": "569a8e1b",
   "metadata": {
    "ExecuteTime": {
     "start_time": "2023-01-23T19:29:28.061Z"
    }
   },
   "outputs": [],
   "source": [
    "# Store id 0, 1, 6 and 14 are not good."
   ]
  },
  {
   "cell_type": "code",
   "execution_count": null,
   "id": "cc078c76",
   "metadata": {
    "ExecuteTime": {
     "start_time": "2023-01-23T19:29:28.438Z"
    }
   },
   "outputs": [],
   "source": [
    "X_t = []\n",
    "Y_t = []\n",
    "XXX = [*X_test]\n",
    "yyy = [*y_test]\n",
    "\n",
    "\n",
    "for j in {0, 1, 6, 14}:\n",
    "    xx = []\n",
    "    yy = []\n",
    "    for i in range(0, len(XXX)):\n",
    "        if(XXX[i][j] > 0):\n",
    "            xx.append(XXX[i])\n",
    "            yy.append(yyy[i])\n",
    "    X_t.append(j)\n",
    "    a = regressor.predict(xx)\n",
    "    dict = {}\n",
    "    for i in range(0, len(xx)):\n",
    "        k = 10*(int(abs(yy[i]-a[i]))/10)\n",
    "        if k not in dict:\n",
    "            dict[k] = 0\n",
    "        dict[k] += 1\n",
    "    x1 = []\n",
    "    y1 = []\n",
    "    keys = sorted(dict.keys())\n",
    "    print(f\"Maximum key is for store-{j} is : \"+str(keys[len(keys)-1]))\n",
    "    for key in keys[0:15]:\n",
    "        x1.append(key)\n",
    "        y1.append(dict[key])\n",
    "    plt.plot(x1, y1, label=f'store-{j}')\n",
    "\n",
    "plt.legend()\n",
    "plt.xlabel(\"Difference of predicted and real time\")\n",
    "plt.ylabel(\"Quantity of orders\")\n",
    "plt.title(\"Discrepency in prediction model\")"
   ]
  },
  {
   "cell_type": "code",
   "execution_count": null,
   "id": "0cf848b8",
   "metadata": {
    "ExecuteTime": {
     "start_time": "2023-01-23T19:29:28.745Z"
    }
   },
   "outputs": [],
   "source": [
    "X_Axis = [i for i in range(10, 24)]\n",
    "RMSETimeSlotWise = {}\n",
    "total_items = len(allMenuCodes)+len(allStoreIds)\n",
    "for x in X_Axis:\n",
    "    x1 = []\n",
    "    y1 = []\n",
    "    for i in range(0, len(X_test)):\n",
    "        if(X_test[i][total_items+x] > 0):\n",
    "            x1.append(X_test[i])\n",
    "            y1.append(y_test[i])\n",
    "    RMSETimeSlotWise[x] = getRMSE(y1, regressor.predict(x1))\n",
    "    \n",
    "X_axis = list(RMSETimeSlotWise.keys())\n",
    "Y_axis = list(RMSETimeSlotWise.values())\n",
    "\n",
    "plt.bar(X_axis, Y_axis)\n",
    "plt.xticks(X_axis, rotation='vertical')\n",
    "plt.xlabel(\"Time slot\")\n",
    "plt.ylabel(\"RMSE value of test set\")\n",
    "plt.title(\"Preparation time prediction over different time slots\")\n",
    "plt.savefig(f'plots/{city}_{month}_2.png')\n",
    "# plt.show()"
   ]
  },
  {
   "cell_type": "code",
   "execution_count": null,
   "id": "c38cadb4",
   "metadata": {
    "ExecuteTime": {
     "start_time": "2023-01-23T19:29:29.132Z"
    }
   },
   "outputs": [],
   "source": [
    "Y_t_all = Y_t\n",
    "# Y_t_all"
   ]
  },
  {
   "cell_type": "code",
   "execution_count": null,
   "id": "25e2e04d",
   "metadata": {
    "ExecuteTime": {
     "start_time": "2023-01-23T19:29:29.497Z"
    }
   },
   "outputs": [],
   "source": [
    "bakeup_X = X\n",
    "bakeup_y = y"
   ]
  },
  {
   "cell_type": "code",
   "execution_count": null,
   "id": "2f31c653",
   "metadata": {
    "ExecuteTime": {
     "start_time": "2023-01-23T19:29:29.900Z"
    }
   },
   "outputs": [],
   "source": [
    "n = len(allStoreIds)\n",
    "store_wise_X = [[] for _ in range(n)]\n",
    "store_wise_y = [[] for _ in range(n)]\n",
    "\n",
    "for j in range(n):\n",
    "    for i in range(len(X)):\n",
    "        if X[i][j] > 0:\n",
    "            store_wise_X[j].append(X[i][n:])\n",
    "            store_wise_y[j].append(y[i])\n",
    "\n",
    "# store_wise_X = [[x for x in X] for j in range(n)]\n",
    "# store_wise_X = [x for j in range(n) for _,y in zip(X,y) if x[j]>0]"
   ]
  },
  {
   "cell_type": "code",
   "execution_count": null,
   "id": "22c16545",
   "metadata": {
    "ExecuteTime": {
     "start_time": "2023-01-23T19:29:30.358Z"
    }
   },
   "outputs": [],
   "source": [
    "myModels = {}\n",
    "X_testModels = {}\n",
    "RMSETimeSlotWise = {}"
   ]
  },
  {
   "cell_type": "code",
   "execution_count": null,
   "id": "bf03da4a",
   "metadata": {
    "ExecuteTime": {
     "start_time": "2023-01-23T19:29:30.817Z"
    }
   },
   "outputs": [],
   "source": [
    "l = []\n",
    "cnt=0\n",
    "for i in range(n):\n",
    "    X = store_wise_X[i]\n",
    "    y = store_wise_y[i]\n",
    "    X_train, X_test, y_train, y_test = train_test_split(X, y, test_size = 0.20, random_state = 42)\n",
    "    \n",
    "#     print(\"Random Forest Model\", i, len(y_train), len(y_test))\n",
    "    regressor = RandomForestRegressor()\n",
    "    if(isNormalizationRequired):\n",
    "        scaler = StandardScaler()\n",
    "        scaler.fit(X_train)\n",
    "\n",
    "        X_train = scaler.transform(X_train)\n",
    "        X_test = scaler.transform(X_test)\n",
    "    \n",
    "    regressor.fit(X_train, y_train)\n",
    "    myModels[i] = regressor\n",
    "    predictions = regressor.predict(X_train)\n",
    "    a = getRMSE(y_train, predictions)\n",
    "#     print(\"RMSE score on train set: \", a)\n",
    "    \n",
    "    predictions = regressor.predict(X_test)\n",
    "    b = getRMSE(y_test, predictions)\n",
    "    if(b > 120):\n",
    "        continue\n",
    "    cnt+=1\n",
    "#     print(\"RMSE score on test set: \", b)\n",
    "    l.append((a, b, len(y_train), len(y_test)))\n",
    "# l"
   ]
  },
  {
   "cell_type": "code",
   "execution_count": null,
   "id": "a5023367",
   "metadata": {
    "ExecuteTime": {
     "start_time": "2023-01-23T19:29:31.211Z"
    }
   },
   "outputs": [],
   "source": [
    "l = []\n",
    "cnt=0\n",
    "RMSETimeSlotWise = {}\n",
    "for i in range(n):\n",
    "    X = store_wise_X[i]\n",
    "    y = store_wise_y[i]\n",
    "    X_train, X_test, y_train, y_test = train_test_split(X, y, test_size = 0.20, random_state = 42)\n",
    "    \n",
    "#     print(\"Random Forest Model\", i, len(y_train), len(y_test))\n",
    "    regressor = RandomForestRegressor()\n",
    "    if(isNormalizationRequired):\n",
    "        scaler = StandardScaler()\n",
    "        scaler.fit(X_train)\n",
    "\n",
    "        X_train = scaler.transform(X_train)\n",
    "        X_test = scaler.transform(X_test)\n",
    "    \n",
    "    regressor.fit(X_train, y_train)\n",
    "    myModels[i] = regressor\n",
    "    predictions = regressor.predict(X_train)\n",
    "    a = getRMSE(y_train, predictions)\n",
    "#     print(\"RMSE score on train set: \", a)\n",
    "    \n",
    "    predictions = regressor.predict(X_test)\n",
    "    b = getRMSE(y_test, predictions)\n",
    "    if(b > 120):\n",
    "        continue\n",
    "    cnt+=1\n",
    "#     print(\"RMSE score on test set: \", b)\n",
    "    l.append((a, b, len(y_train), len(y_test)))\n",
    "# l"
   ]
  },
  {
   "cell_type": "code",
   "execution_count": null,
   "id": "0b3f548f",
   "metadata": {
    "ExecuteTime": {
     "start_time": "2023-01-23T19:29:31.624Z"
    }
   },
   "outputs": [],
   "source": [
    "len(invalidStores)"
   ]
  },
  {
   "cell_type": "code",
   "execution_count": null,
   "id": "20201a1f",
   "metadata": {
    "ExecuteTime": {
     "start_time": "2023-01-23T19:29:32.063Z"
    }
   },
   "outputs": [],
   "source": [
    "X_t = [i for i in range(cnt)]\n",
    "Y_t = [x[1] for x in l]\n",
    "Y_t, X_t\n",
    "plt.bar(X_t, Y_t)\n",
    "plt.xticks(X_t)\n",
    "plt.xlabel(\"Store Id\")\n",
    "plt.ylabel(\"RMSE value of test set\")\n",
    "plt.title(\"Preparation time prediction\")\n",
    "plt.savefig(f'plots/{city}_{month}_3.png')\n",
    "# plt.show()\n",
    "# Y_t"
   ]
  },
  {
   "cell_type": "code",
   "execution_count": null,
   "id": "3170e2ef",
   "metadata": {
    "ExecuteTime": {
     "start_time": "2023-01-23T19:29:32.451Z"
    }
   },
   "outputs": [],
   "source": [
    "l2 = [(a**2)*b for _,a,_,b in l]\n",
    "l3 = [b for _,_,_,b in l]\n",
    "combine_rmse = (sum(l2)/sum(l3))**(1/2)\n",
    "print(\"restwise rmse:\", combine_rmse)"
   ]
  },
  {
   "cell_type": "code",
   "execution_count": null,
   "id": "9a8cd69d",
   "metadata": {
    "ExecuteTime": {
     "start_time": "2023-01-23T19:29:33.002Z"
    }
   },
   "outputs": [],
   "source": [
    "y = []\n",
    "for i in X_t:\n",
    "    y.append((Y_t[i], Y_t_all[i]))\n",
    "#     print(i, Y_t[i], Y_t_all[i])"
   ]
  },
  {
   "cell_type": "code",
   "execution_count": null,
   "id": "fee73cb4",
   "metadata": {
    "ExecuteTime": {
     "start_time": "2023-01-23T19:29:33.379Z"
    }
   },
   "outputs": [],
   "source": [
    "# plt.plot(X_t, Y_t, label = 'Single Model Prediction')\n",
    "# plt.plot(X_t, Y_t_all, label = 'Restaurent Wise Prediction')\n",
    "\n",
    "plt.plot(X_t, y)\n",
    "plt.legend(['Restaurent Model Prediction', 'Single Wise Prediction'])\n",
    "\n",
    "plt.xticks(X_t, rotation='vertical')\n",
    "plt.xlabel(\"Store Id\")\n",
    "plt.ylabel(\"RMSE value of test set\")\n",
    "plt.title(\"Preparation time prediction\")\n",
    "plt.savefig(f'plots/{city}_{month}_4.png')\n",
    "# plt.show()"
   ]
  },
  {
   "cell_type": "code",
   "execution_count": null,
   "id": "807eb502",
   "metadata": {
    "ExecuteTime": {
     "start_time": "2023-01-23T19:29:33.835Z"
    }
   },
   "outputs": [],
   "source": [
    "# dumping to file\n",
    "import numpy as np\n",
    "np.savetxt(f'{city}_Dec_X.txt', bakeup_X)\n",
    "np.savetxt(f'{city}_Dec_y.txt', bakeup_y)"
   ]
  },
  {
   "cell_type": "code",
   "execution_count": null,
   "id": "ea8c5ffc",
   "metadata": {},
   "outputs": [],
   "source": []
  },
  {
   "cell_type": "code",
   "execution_count": null,
   "id": "1ffb62b7",
   "metadata": {},
   "outputs": [],
   "source": []
  },
  {
   "cell_type": "code",
   "execution_count": null,
   "id": "f726a5ce",
   "metadata": {},
   "outputs": [],
   "source": []
  },
  {
   "cell_type": "code",
   "execution_count": null,
   "id": "5a76b2b8",
   "metadata": {},
   "outputs": [],
   "source": []
  },
  {
   "cell_type": "code",
   "execution_count": null,
   "id": "a90977c7",
   "metadata": {},
   "outputs": [],
   "source": []
  }
 ],
 "metadata": {
  "kernelspec": {
   "display_name": "Python 3 (ipykernel)",
   "language": "python",
   "name": "python3"
  },
  "language_info": {
   "codemirror_mode": {
    "name": "ipython",
    "version": 3
   },
   "file_extension": ".py",
   "mimetype": "text/x-python",
   "name": "python",
   "nbconvert_exporter": "python",
   "pygments_lexer": "ipython3",
   "version": "3.8.10"
  }
 },
 "nbformat": 4,
 "nbformat_minor": 5
}
