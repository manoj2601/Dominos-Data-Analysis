{
 "cells": [
  {
   "cell_type": "code",
   "execution_count": 2,
   "id": "c2f4650d",
   "metadata": {
    "ExecuteTime": {
     "end_time": "2022-11-06T20:03:04.867358Z",
     "start_time": "2022-11-06T20:03:02.245510Z"
    }
   },
   "outputs": [],
   "source": [
    "# imports\n",
    "import json\n",
    "import pandas as pd\n",
    "import numpy as np\n",
    "import random\n",
    "from datetime import datetime, timedelta\n",
    "import sklearn\n",
    "import math\n",
    "from sklearn.feature_extraction.text import CountVectorizer\n",
    "from sklearn.feature_extraction.text import TfidfVectorizer\n",
    "from sklearn.linear_model import LogisticRegression\n",
    "from sklearn.model_selection import train_test_split\n",
    "\n",
    "from time import time\n",
    "import matplotlib.pyplot as plt\n",
    "\n",
    "from sklearn.model_selection import train_test_split\n",
    "from sklearn.preprocessing import StandardScaler\n",
    "from sklearn.neural_network import MLPClassifier\n",
    "from sklearn.metrics import classification_report, confusion_matrix\n",
    "from sklearn.ensemble import RandomForestRegressor \n",
    "from statistics import mean"
   ]
  },
  {
   "cell_type": "code",
   "execution_count": 2,
   "id": "a6b0b2af",
   "metadata": {
    "ExecuteTime": {
     "end_time": "2022-10-26T16:42:59.932700Z",
     "start_time": "2022-10-26T16:42:59.928050Z"
    }
   },
   "outputs": [],
   "source": [
    "city = 'Bhopal'\n",
    "PATH = f'/media/root/data/analysis/data/Item_wise_data/{city}/'"
   ]
  },
  {
   "cell_type": "code",
   "execution_count": 3,
   "id": "8cf6c28f",
   "metadata": {
    "ExecuteTime": {
     "end_time": "2022-10-26T16:44:11.401735Z",
     "start_time": "2022-10-26T16:42:59.935376Z"
    }
   },
   "outputs": [],
   "source": [
    "# data read\n",
    "df1 = pd.read_excel(PATH+f'Item_wise-details-{city}-17-23-Dec-2021.xlsx')\n",
    "df2 = pd.read_excel(PATH+f'Item_wise-details-{city}-24-31-Dec-2021.xlsx')"
   ]
  },
  {
   "cell_type": "code",
   "execution_count": 4,
   "id": "f632ce37",
   "metadata": {
    "ExecuteTime": {
     "end_time": "2022-10-26T16:44:11.604600Z",
     "start_time": "2022-10-26T16:44:11.408140Z"
    }
   },
   "outputs": [],
   "source": [
    "# exclude non baking items\n",
    "df = pd.concat([df1, df2])\n",
    "df = df[pd.notna(df['Oven_Time'])]\n",
    "df = df.sort_values(by =['Kitchen_Display_Time', 'Location_Code', 'Order_Number'])"
   ]
  },
  {
   "cell_type": "code",
   "execution_count": 5,
   "id": "90698808",
   "metadata": {
    "ExecuteTime": {
     "end_time": "2022-10-26T16:44:11.701937Z",
     "start_time": "2022-10-26T16:44:11.608957Z"
    }
   },
   "outputs": [
    {
     "name": "stdout",
     "output_type": "stream",
     "text": [
      "(84558, 27)\n",
      "(84558, 7)\n",
      "(84558, 8)\n"
     ]
    },
    {
     "data": {
      "text/html": [
       "<div>\n",
       "<style scoped>\n",
       "    .dataframe tbody tr th:only-of-type {\n",
       "        vertical-align: middle;\n",
       "    }\n",
       "\n",
       "    .dataframe tbody tr th {\n",
       "        vertical-align: top;\n",
       "    }\n",
       "\n",
       "    .dataframe thead th {\n",
       "        text-align: right;\n",
       "    }\n",
       "</style>\n",
       "<table border=\"1\" class=\"dataframe\">\n",
       "  <thead>\n",
       "    <tr style=\"text-align: right;\">\n",
       "      <th></th>\n",
       "      <th>Location_Code</th>\n",
       "      <th>Order_Date</th>\n",
       "      <th>Order_Number</th>\n",
       "      <th>Kitchen_Display_Time</th>\n",
       "      <th>Oven_Time</th>\n",
       "      <th>Menu_Code</th>\n",
       "      <th>Item Description</th>\n",
       "      <th>prep_time</th>\n",
       "    </tr>\n",
       "  </thead>\n",
       "  <tbody>\n",
       "    <tr>\n",
       "      <th>4250</th>\n",
       "      <td>DPI66221</td>\n",
       "      <td>2021-12-17</td>\n",
       "      <td>1</td>\n",
       "      <td>2021-12-17 10:58:16.347</td>\n",
       "      <td>2021-12-17 10:58:31.240</td>\n",
       "      <td>BRD0020</td>\n",
       "      <td>BR-Garlic Breadsticks</td>\n",
       "      <td>435</td>\n",
       "    </tr>\n",
       "    <tr>\n",
       "      <th>32961</th>\n",
       "      <td>DPI66221</td>\n",
       "      <td>2021-12-17</td>\n",
       "      <td>1</td>\n",
       "      <td>2021-12-17 10:58:16.347</td>\n",
       "      <td>2021-12-17 10:58:30.833</td>\n",
       "      <td>PIZ0117</td>\n",
       "      <td>_SV-Margherita</td>\n",
       "      <td>434</td>\n",
       "    </tr>\n",
       "    <tr>\n",
       "      <th>26674</th>\n",
       "      <td>DPI66373</td>\n",
       "      <td>2021-12-17</td>\n",
       "      <td>1</td>\n",
       "      <td>2021-12-17 10:58:35.500</td>\n",
       "      <td>2021-12-17 11:03:53.140</td>\n",
       "      <td>PIZ5127</td>\n",
       "      <td>PM Loaded NV</td>\n",
       "      <td>738</td>\n",
       "    </tr>\n",
       "    <tr>\n",
       "      <th>28840</th>\n",
       "      <td>DPI66373</td>\n",
       "      <td>2021-12-17</td>\n",
       "      <td>1</td>\n",
       "      <td>2021-12-17 10:58:35.500</td>\n",
       "      <td>2021-12-17 11:03:52.823</td>\n",
       "      <td>PIZ0140</td>\n",
       "      <td>PM Loaded VG</td>\n",
       "      <td>737</td>\n",
       "    </tr>\n",
       "    <tr>\n",
       "      <th>36120</th>\n",
       "      <td>DPI66449</td>\n",
       "      <td>2021-12-17</td>\n",
       "      <td>1</td>\n",
       "      <td>2021-12-17 11:01:13.280</td>\n",
       "      <td>2021-12-17 11:02:13.377</td>\n",
       "      <td>PIZ0134</td>\n",
       "      <td>Pizza Mania Tomato</td>\n",
       "      <td>480</td>\n",
       "    </tr>\n",
       "  </tbody>\n",
       "</table>\n",
       "</div>"
      ],
      "text/plain": [
       "      Location_Code Order_Date  Order_Number    Kitchen_Display_Time  \\\n",
       "4250       DPI66221 2021-12-17             1 2021-12-17 10:58:16.347   \n",
       "32961      DPI66221 2021-12-17             1 2021-12-17 10:58:16.347   \n",
       "26674      DPI66373 2021-12-17             1 2021-12-17 10:58:35.500   \n",
       "28840      DPI66373 2021-12-17             1 2021-12-17 10:58:35.500   \n",
       "36120      DPI66449 2021-12-17             1 2021-12-17 11:01:13.280   \n",
       "\n",
       "                    Oven_Time Menu_Code       Item Description  prep_time  \n",
       "4250  2021-12-17 10:58:31.240   BRD0020  BR-Garlic Breadsticks        435  \n",
       "32961 2021-12-17 10:58:30.833   PIZ0117         _SV-Margherita        434  \n",
       "26674 2021-12-17 11:03:53.140   PIZ5127           PM Loaded NV        738  \n",
       "28840 2021-12-17 11:03:52.823   PIZ0140           PM Loaded VG        737  \n",
       "36120 2021-12-17 11:02:13.377   PIZ0134     Pizza Mania Tomato        480  "
      ]
     },
     "execution_count": 5,
     "metadata": {},
     "output_type": "execute_result"
    }
   ],
   "source": [
    "print(df.shape)\n",
    "df = df.drop(['storedesc', 'city', 'Customer_Code', 'Customer_Name', 'Actual_Order_Date', 'Order_Status_Code', 'Order_Type_Code', 'Order_Saved', 'Order_Time', 'Driver_ID', 'Driver_Shift', 'Route_Time', 'Return_Time', 'Delayed_Order', 'Order_Taker_ID','Order_Taker_Shift', 'Closed_Order_Time', 'Customer_Address_Id', 'Original_Location_Code', 'Order_Id',], axis=1)\n",
    "print(df.shape)\n",
    "df['Kitchen_Display_Time'] = pd.to_datetime(df['Kitchen_Display_Time'])\n",
    "df['Oven_Time'] = pd.to_datetime(df['Oven_Time'])\n",
    "df['prep_time'] = df['Oven_Time'] - df['Kitchen_Display_Time']\n",
    "df['prep_time'] = round(df['prep_time']/np.timedelta64(1, 's')).astype(int) + 7*60\n",
    "print(df.shape)\n",
    "df.head()"
   ]
  },
  {
   "cell_type": "code",
   "execution_count": 6,
   "id": "5b1180d6",
   "metadata": {
    "ExecuteTime": {
     "end_time": "2022-10-26T16:44:11.721712Z",
     "start_time": "2022-10-26T16:44:11.705055Z"
    }
   },
   "outputs": [],
   "source": [
    "allMenuCodes = df['Menu_Code'].unique()\n",
    "allStoreIds = df['Location_Code'].unique()"
   ]
  },
  {
   "cell_type": "code",
   "execution_count": 7,
   "id": "9f85e8d0",
   "metadata": {
    "ExecuteTime": {
     "end_time": "2022-10-26T16:44:12.303821Z",
     "start_time": "2022-10-26T16:44:11.725446Z"
    }
   },
   "outputs": [],
   "source": [
    "sampleItem=None\n",
    "for index, item in df.iterrows():\n",
    "    sampleItem = item\n",
    "    break"
   ]
  },
  {
   "cell_type": "code",
   "execution_count": 8,
   "id": "a366b592",
   "metadata": {
    "ExecuteTime": {
     "end_time": "2022-10-26T16:44:12.316365Z",
     "start_time": "2022-10-26T16:44:12.307819Z"
    }
   },
   "outputs": [
    {
     "data": {
      "text/plain": [
       "Location_Code                             DPI66221\n",
       "Order_Date                     2021-12-17 00:00:00\n",
       "Order_Number                                     1\n",
       "Kitchen_Display_Time    2021-12-17 10:58:16.347000\n",
       "Oven_Time               2021-12-17 10:58:31.240000\n",
       "Menu_Code                                  BRD0020\n",
       "Item Description             BR-Garlic Breadsticks\n",
       "prep_time                                      435\n",
       "Name: 4250, dtype: object"
      ]
     },
     "execution_count": 8,
     "metadata": {},
     "output_type": "execute_result"
    }
   ],
   "source": [
    "sampleItem"
   ]
  },
  {
   "cell_type": "code",
   "execution_count": 9,
   "id": "82ae6338",
   "metadata": {
    "ExecuteTime": {
     "end_time": "2022-10-26T16:44:12.326939Z",
     "start_time": "2022-10-26T16:44:12.319254Z"
    }
   },
   "outputs": [],
   "source": [
    "# Feature 1: store id\n",
    "def getOneHotEncodingStore(storeId, stores=allStoreIds):\n",
    "    oneHotEncodingList = []\n",
    "    for i in range(0, len(stores)):\n",
    "        if(stores[i] == storeId):\n",
    "            oneHotEncodingList.append(1)\n",
    "        else:\n",
    "            oneHotEncodingList.append(0)\n",
    "    return oneHotEncodingList\n",
    "\n",
    "# returns the feature store id for an order\n",
    "def getStoreId(item, isOneHotEncodingRequired=False):\n",
    "    if isOneHotEncodingRequired:\n",
    "        return getOneHotEncodingStore(item['Location_Code'], allStoreIds)\n",
    "    else:\n",
    "        return [item['Location_Code']]"
   ]
  },
  {
   "cell_type": "code",
   "execution_count": 10,
   "id": "00c99098",
   "metadata": {
    "ExecuteTime": {
     "end_time": "2022-10-26T16:44:12.337597Z",
     "start_time": "2022-10-26T16:44:12.330660Z"
    }
   },
   "outputs": [
    {
     "name": "stdout",
     "output_type": "stream",
     "text": [
      "['DPI66221']\n",
      "[1, 0, 0, 0, 0, 0, 0, 0, 0, 0, 0]\n"
     ]
    }
   ],
   "source": [
    "print(getStoreId(sampleItem))\n",
    "print(getStoreId(sampleItem, True))"
   ]
  },
  {
   "cell_type": "code",
   "execution_count": 11,
   "id": "efc16550",
   "metadata": {
    "ExecuteTime": {
     "end_time": "2022-10-26T16:44:12.349087Z",
     "start_time": "2022-10-26T16:44:12.340298Z"
    }
   },
   "outputs": [],
   "source": [
    "# Feature 2: Item Type\n",
    "def getOneHotEncodingItem(item, items=allMenuCodes, clubCategoryWise=False):\n",
    "    if clubCategoryWise:\n",
    "        newItemsList = []\n",
    "        newItemsList = [i[0:3] for i in items]\n",
    "        unique_items = list(dict.fromkeys(newItemsList))\n",
    "        return getOneHotEncodingItem(item[0:3], unique_items, False)\n",
    "    \n",
    "    oneHotEncodingList=[]\n",
    "    for i in range(0, len(items)):\n",
    "        if (items[i] == item):\n",
    "            oneHotEncodingList.append(1)\n",
    "        else:\n",
    "            oneHotEncodingList.append(0)\n",
    "    return oneHotEncodingList\n",
    "\n",
    "def getItemType(item, isOneHotEncodingRequired=False, clubCategoryWise=False):\n",
    "    if (not isOneHotEncodingRequired):\n",
    "        if clubCategoryWise:\n",
    "            return [item['Menu_Code'][0:3]]\n",
    "        return [item['Menu_Code']]\n",
    "    else:\n",
    "        return getOneHotEncodingItem(item['Menu_Code'], allMenuCodes, clubCategoryWise)"
   ]
  },
  {
   "cell_type": "code",
   "execution_count": 12,
   "id": "f32862ec",
   "metadata": {
    "ExecuteTime": {
     "end_time": "2022-10-26T16:44:12.359157Z",
     "start_time": "2022-10-26T16:44:12.352006Z"
    }
   },
   "outputs": [
    {
     "name": "stdout",
     "output_type": "stream",
     "text": [
      "['BRD0020']\n",
      "[1, 0, 0, 0, 0, 0, 0, 0, 0, 0, 0, 0, 0, 0, 0, 0, 0, 0, 0, 0, 0, 0, 0, 0, 0, 0, 0, 0, 0, 0, 0, 0, 0, 0, 0, 0, 0, 0, 0, 0, 0, 0, 0, 0, 0, 0, 0, 0, 0, 0, 0, 0, 0, 0, 0, 0, 0, 0, 0, 0, 0, 0, 0, 0, 0, 0, 0, 0, 0]\n",
      "['BRD']\n",
      "[1, 0, 0, 0, 0, 0, 0]\n"
     ]
    }
   ],
   "source": [
    "print(getItemType(sampleItem))\n",
    "print(getItemType(sampleItem, True))\n",
    "print(getItemType(sampleItem, clubCategoryWise=True))\n",
    "print(getItemType(sampleItem, True, True))"
   ]
  },
  {
   "cell_type": "code",
   "execution_count": 13,
   "id": "69429a92",
   "metadata": {
    "ExecuteTime": {
     "end_time": "2022-10-26T16:44:12.373608Z",
     "start_time": "2022-10-26T16:44:12.365092Z"
    }
   },
   "outputs": [],
   "source": [
    "# Feature 3: TimeSlot of kitchen display time\n",
    "total_slots = 24\n",
    "def getTimeslot(dt, slots=total_slots):\n",
    "\tcurrent = datetime(2011, 1, 1)\n",
    "\tt1 = current.time()\n",
    "\tt2 = dt.time()\n",
    "\tfor i in range(0, slots):\n",
    "\t\tcurrent = current + timedelta(minutes = 60*24/slots)\n",
    "\t\tif(current.time() > t2):\n",
    "\t\t\treturn i\n",
    "\treturn slots-1\n",
    "\n",
    "def getOneHotEncodingTimeSlot(timeslot):\n",
    "    oneHotEncodingList = []\n",
    "    for i in range(0, 24):\n",
    "        oneHotEncodingList.append(0)\n",
    "    oneHotEncodingList[timeslot] = 1\n",
    "    return oneHotEncodingList\n",
    "\n",
    "def getTimeSlotOfKitchenDisplayTime(item, isOneHotEncodingRequired=False):\n",
    "    timeslot = getTimeslot(item['Kitchen_Display_Time'], 24)\n",
    "    if isOneHotEncodingRequired:\n",
    "        return getOneHotEncodingTimeSlot(timeslot)\n",
    "    else:\n",
    "        return [timeslot]"
   ]
  },
  {
   "cell_type": "code",
   "execution_count": 14,
   "id": "e017e620",
   "metadata": {
    "ExecuteTime": {
     "end_time": "2022-10-26T16:44:12.382703Z",
     "start_time": "2022-10-26T16:44:12.376303Z"
    }
   },
   "outputs": [],
   "source": [
    "def get_preparation_time(item):\n",
    "    return item['prep_time']\n",
    "# \tdiff = item['Oven_Time'] - item['Kitchen_Display_Time']\n",
    "# \treturn diff.total_seconds() + 7*60"
   ]
  },
  {
   "cell_type": "code",
   "execution_count": 15,
   "id": "ab5dcdcb",
   "metadata": {
    "ExecuteTime": {
     "end_time": "2022-10-26T17:02:28.260116Z",
     "start_time": "2022-10-26T16:44:12.386131Z"
    }
   },
   "outputs": [
    {
     "name": "stderr",
     "output_type": "stream",
     "text": [
      "/tmp/ipykernel_60127/2601813340.py:28: SettingWithCopyWarning: \n",
      "A value is trying to be set on a copy of a slice from a DataFrame\n",
      "\n",
      "See the caveats in the documentation: https://pandas.pydata.org/pandas-docs/stable/user_guide/indexing.html#returning-a-view-versus-a-copy\n",
      "  df['pre_prep_time'][index] = 10*60\n",
      "/tmp/ipykernel_60127/2601813340.py:24: SettingWithCopyWarning: \n",
      "A value is trying to be set on a copy of a slice from a DataFrame\n",
      "\n",
      "See the caveats in the documentation: https://pandas.pydata.org/pandas-docs/stable/user_guide/indexing.html#returning-a-view-versus-a-copy\n",
      "  df['pre_prep_time'][index] = 10*60\n",
      "/tmp/ipykernel_60127/2601813340.py:22: SettingWithCopyWarning: \n",
      "A value is trying to be set on a copy of a slice from a DataFrame\n",
      "\n",
      "See the caveats in the documentation: https://pandas.pydata.org/pandas-docs/stable/user_guide/indexing.html#returning-a-view-versus-a-copy\n",
      "  df['pre_prep_time'][index] = pt/count\n"
     ]
    }
   ],
   "source": [
    "# Feature 4 : Count of all baking items of all orders received by the store in the last 20 minutes.\n",
    "\n",
    "# Pre-preparation of data\n",
    "df['pre_prep_time'] = 0\n",
    "\n",
    "StoreWiseItems = {}\n",
    "for index, item in df.iterrows():\n",
    "    store = item['Location_Code']\n",
    "    if store in StoreWiseItems:\n",
    "        dtKitchenDisplay = item['Kitchen_Display_Time']\n",
    "        lastTime = dtKitchenDisplay - timedelta(minutes=60)\n",
    "        count = 0\n",
    "        pt = 0\n",
    "        for i in reversed(range(len(StoreWiseItems[store]))):\n",
    "            if(StoreWiseItems[store][i]['Kitchen_Display_Time'] >= lastTime and StoreWiseItems[store][i]['Kitchen_Display_Time'] < dtKitchenDisplay):\n",
    "                if(StoreWiseItems[store][i]['Menu_Code'] == item['Menu_Code']):\n",
    "                    pt += get_preparation_time(item)\n",
    "                    count+=1\n",
    "            else:\n",
    "                break\n",
    "        if count != 0:\n",
    "            df['pre_prep_time'][index] = pt/count\n",
    "        else:\n",
    "            df['pre_prep_time'][index] = 10*60\n",
    "        StoreWiseItems[store].append(item)\n",
    "    else:\n",
    "        StoreWiseItems[store] = [item]\n",
    "        df['pre_prep_time'][index] = 10*60\n",
    "\n",
    "        \n",
    "storeWiseCumulativeItems = {}\n",
    "for store in StoreWiseItems.keys():\n",
    "    storeWiseCumulativeItems[store] = {}\n",
    "\n",
    "# item count per slot\n",
    "for store in StoreWiseItems.keys():\n",
    "    for item in StoreWiseItems[store]:\n",
    "        date = item['Order_Date']\n",
    "        minuteSlot = getTimeslot(item['Kitchen_Display_Time'], 24*60)\n",
    "        if date in storeWiseCumulativeItems[store]:\n",
    "            storeWiseCumulativeItems[store][date][minuteSlot]+=1\n",
    "        else:\n",
    "            t = []\n",
    "            for i in range(0, 24*60):\n",
    "                t.append(0)\n",
    "            storeWiseCumulativeItems[store][date] = t\n",
    "            storeWiseCumulativeItems[store][date][minuteSlot] = 1\n",
    "            \n",
    "#prefix sum            \n",
    "for store in storeWiseCumulativeItems.keys():\n",
    "    for date in storeWiseCumulativeItems[store].keys():\n",
    "        for i in range(1, 24*60):\n",
    "            storeWiseCumulativeItems[store][date][i] += storeWiseCumulativeItems[store][date][i-1]\n",
    "            \n",
    "            \n",
    "def countPastOrders(item, storeWiseCumulativeItems=storeWiseCumulativeItems, slotTime=30):\n",
    "    minuteSlot = getTimeslot(item['Kitchen_Display_Time'], 24*60)\n",
    "    total = storeWiseCumulativeItems[item['Location_Code']][item['Order_Date']][minuteSlot]\n",
    "    prev = storeWiseCumulativeItems[item['Location_Code']][item['Order_Date']][max(minuteSlot-slotTime, 0)]\n",
    "    return [(total-prev)]"
   ]
  },
  {
   "cell_type": "code",
   "execution_count": 16,
   "id": "deff2369",
   "metadata": {
    "ExecuteTime": {
     "end_time": "2022-10-26T17:02:28.278417Z",
     "start_time": "2022-10-26T17:02:28.265751Z"
    }
   },
   "outputs": [
    {
     "name": "stdout",
     "output_type": "stream",
     "text": [
      "[2]\n",
      "[2]\n"
     ]
    }
   ],
   "source": [
    "print(countPastOrders(sampleItem))\n",
    "print(countPastOrders(sampleItem, slotTime=10))\n",
    "\n",
    "d = datetime.strptime('2021-12-20 00:00:00', '%Y-%m-%d %H:%M:%S')\n",
    "# storeWiseCumulativeItems[sampleItem['Location_Code']][d]"
   ]
  },
  {
   "cell_type": "code",
   "execution_count": 17,
   "id": "1871e71a",
   "metadata": {
    "ExecuteTime": {
     "end_time": "2022-10-26T17:02:28.290735Z",
     "start_time": "2022-10-26T17:02:28.282249Z"
    }
   },
   "outputs": [],
   "source": [
    "# Feature 5 : Avg prep time of the same item in the same store in last 60 minutes.\n",
    "\n",
    "def getPreviousPrepTime(item, StoreWiseItems=StoreWiseItems, clubCategoryWise=False, timeslot = 60):\n",
    "    dtKitchenDisplay = item['Kitchen_Display_Time']\n",
    "    lastTime = dtKitchenDisplay - timedelta(minutes=timeslot)\n",
    "    \n",
    "    orderedItem = item['Menu_Code']\n",
    "    prepTime = []\n",
    "    if clubCategoryWise:\n",
    "        orderedItem = orderedItem[0:3]\n",
    "    tdf = df[(df['Location_Code']==item['Location_Code']) & (df['Menu_Code'].str[0:len(orderedItem)]==orderedItem) \\\n",
    "             & (df['Kitchen_Display_Time'] >= lastTime) & (df['Kitchen_Display_Time'] <= dtKitchenDisplay)]\n",
    "\n",
    "    if(len(tdf)>0):\n",
    "        return [tdf['prep_time'].mean()]\n",
    "    else:\n",
    "        return [10*60]\n",
    "    \n",
    "#     for order in StoreWiseItems[item['Location_Code']]:\n",
    "#         if(order['Kitchen_Display_Time'] >= lastTime and order['Kitchen_Display_Time'] <= dtKitchenDisplay):\n",
    "#             if (order['Menu_Code'][0:len(orderedItem)] == orderedItem):\n",
    "#                 prepTime.append(get_preparation_time(order))\n",
    "#     if(len(prepTime) > 0):\n",
    "#         return [mean(prepTime)]\n",
    "#     else:\n",
    "#         return [10*60] # POINT OF DISCUSSION, For now taking 10 minutes"
   ]
  },
  {
   "cell_type": "code",
   "execution_count": 18,
   "id": "d888e7ad",
   "metadata": {
    "ExecuteTime": {
     "end_time": "2022-10-26T17:02:28.354522Z",
     "start_time": "2022-10-26T17:02:28.295423Z"
    }
   },
   "outputs": [
    {
     "data": {
      "text/plain": [
       "[435.0]"
      ]
     },
     "execution_count": 18,
     "metadata": {},
     "output_type": "execute_result"
    }
   ],
   "source": [
    "getPreviousPrepTime(sampleItem, StoreWiseItems, False, 60)"
   ]
  },
  {
   "cell_type": "code",
   "execution_count": 19,
   "id": "6fafe112",
   "metadata": {
    "ExecuteTime": {
     "end_time": "2022-10-26T17:02:28.451075Z",
     "start_time": "2022-10-26T17:02:28.358596Z"
    },
    "scrolled": true
   },
   "outputs": [
    {
     "name": "stdout",
     "output_type": "stream",
     "text": [
      "Location_Code                             DPI66221\n",
      "Order_Date                     2021-12-17 00:00:00\n",
      "Order_Number                                     1\n",
      "Kitchen_Display_Time    2021-12-17 10:58:16.347000\n",
      "Oven_Time               2021-12-17 10:58:31.240000\n",
      "Menu_Code                                  BRD0020\n",
      "Item Description             BR-Garlic Breadsticks\n",
      "prep_time                                      435\n",
      "Name: 4250, dtype: object 1\n",
      "[435]\n"
     ]
    },
    {
     "data": {
      "text/html": [
       "<div>\n",
       "<style scoped>\n",
       "    .dataframe tbody tr th:only-of-type {\n",
       "        vertical-align: middle;\n",
       "    }\n",
       "\n",
       "    .dataframe tbody tr th {\n",
       "        vertical-align: top;\n",
       "    }\n",
       "\n",
       "    .dataframe thead th {\n",
       "        text-align: right;\n",
       "    }\n",
       "</style>\n",
       "<table border=\"1\" class=\"dataframe\">\n",
       "  <thead>\n",
       "    <tr style=\"text-align: right;\">\n",
       "      <th></th>\n",
       "      <th>Location_Code</th>\n",
       "      <th>Order_Date</th>\n",
       "      <th>Order_Number</th>\n",
       "      <th>Kitchen_Display_Time</th>\n",
       "      <th>Oven_Time</th>\n",
       "      <th>Menu_Code</th>\n",
       "      <th>Item Description</th>\n",
       "      <th>prep_time</th>\n",
       "      <th>pre_prep_time</th>\n",
       "    </tr>\n",
       "  </thead>\n",
       "  <tbody>\n",
       "    <tr>\n",
       "      <th>4250</th>\n",
       "      <td>DPI66221</td>\n",
       "      <td>2021-12-17</td>\n",
       "      <td>1</td>\n",
       "      <td>2021-12-17 10:58:16.347</td>\n",
       "      <td>2021-12-17 10:58:31.240</td>\n",
       "      <td>BRD0020</td>\n",
       "      <td>BR-Garlic Breadsticks</td>\n",
       "      <td>435</td>\n",
       "      <td>561</td>\n",
       "    </tr>\n",
       "  </tbody>\n",
       "</table>\n",
       "</div>"
      ],
      "text/plain": [
       "     Location_Code Order_Date  Order_Number    Kitchen_Display_Time  \\\n",
       "4250      DPI66221 2021-12-17             1 2021-12-17 10:58:16.347   \n",
       "\n",
       "                   Oven_Time Menu_Code       Item Description  prep_time  \\\n",
       "4250 2021-12-17 10:58:31.240   BRD0020  BR-Garlic Breadsticks        435   \n",
       "\n",
       "      pre_prep_time  \n",
       "4250            561  "
      ]
     },
     "execution_count": 19,
     "metadata": {},
     "output_type": "execute_result"
    }
   ],
   "source": [
    "item = sampleItem\n",
    "orderedItem = item['Menu_Code']\n",
    "orderedItem = orderedItem[0:3]\n",
    "dtKitchenDisplay = item['Kitchen_Display_Time']\n",
    "lastTime = dtKitchenDisplay - timedelta(minutes=60)\n",
    "tdf = df[(df['Location_Code']==item['Location_Code']) & (df['Menu_Code'].str[0:len(orderedItem)]==orderedItem) \\\n",
    "         & (df['Kitchen_Display_Time'] >= lastTime) & (df['Kitchen_Display_Time'] <= dtKitchenDisplay)]\n",
    "print(item, len(tdf)) \n",
    "if(len(tdf)>0):\n",
    "    print([round(tdf['prep_time'].mean())])\n",
    "tdf"
   ]
  },
  {
   "cell_type": "code",
   "execution_count": 20,
   "id": "66e020fb",
   "metadata": {
    "ExecuteTime": {
     "end_time": "2022-10-26T17:02:28.459799Z",
     "start_time": "2022-10-26T17:02:28.454226Z"
    }
   },
   "outputs": [],
   "source": [
    "# global variables\n",
    "\n",
    "isThresholdForPreparationTime = False\n",
    "thresholdForPreparationTime = 30 # minutes for preparation time (threshold)\n",
    "\n",
    "clubItemsCategoryWise = False\n",
    "\n",
    "splitMethod = 'random'\n",
    "slotTimeForPastOrders = 20 # minutes\n",
    "\n",
    "model = 'RF'\n",
    "isOneHotEncodingRequired = True\n",
    "isNormalizationRequired = True"
   ]
  },
  {
   "cell_type": "code",
   "execution_count": 21,
   "id": "fb107226",
   "metadata": {
    "ExecuteTime": {
     "end_time": "2022-10-26T17:02:28.469872Z",
     "start_time": "2022-10-26T17:02:28.463223Z"
    }
   },
   "outputs": [
    {
     "ename": "SyntaxError",
     "evalue": "unexpected EOF while parsing (3630243782.py, line 4)",
     "output_type": "error",
     "traceback": [
      "\u001b[0;36m  Input \u001b[0;32mIn [21]\u001b[0;36m\u001b[0m\n\u001b[0;31m    \u001b[0m\n\u001b[0m    ^\u001b[0m\n\u001b[0;31mSyntaxError\u001b[0m\u001b[0;31m:\u001b[0m unexpected EOF while parsing\n"
     ]
    }
   ],
   "source": [
    "\n",
    "for index, item in df.iterrows():\n",
    "    \n",
    "    \n",
    "    "
   ]
  },
  {
   "cell_type": "code",
   "execution_count": 22,
   "id": "79e6bca5",
   "metadata": {
    "ExecuteTime": {
     "end_time": "2022-10-26T18:09:27.258187Z",
     "start_time": "2022-10-26T17:44:07.042295Z"
    },
    "collapsed": true
   },
   "outputs": [
    {
     "name": "stdout",
     "output_type": "stream",
     "text": [
      "0.038306236267089844 0.04482769966125488 0.06957292556762695 1.3342223167419434 41.88262057304382 0.030234336853027344\n",
      "0.07644367218017578 0.08844447135925293 0.14394807815551758 2.9482200145721436 82.69006681442261 0.060515642166137695\n",
      "0.11602640151977539 0.13328027725219727 0.22281169891357422 4.750859498977661 123.23838925361633 0.09169125556945801\n",
      "0.15508198738098145 0.1772451400756836 0.30313825607299805 6.662221908569336 163.81068468093872 0.12269353866577148\n",
      "0.19427704811096191 0.22096490859985352 0.3753635883331299 8.146167755126953 204.1692237854004 0.1538088321685791\n",
      "0.2337784767150879 0.26525163650512695 0.44763779640197754 9.602808952331543 244.71022939682007 0.18495464324951172\n",
      "0.2724432945251465 0.30814075469970703 0.522087574005127 11.223023176193237 284.9152669906616 0.21518683433532715\n",
      "0.3111457824707031 0.3516061305999756 0.5995440483093262 12.99170446395874 325.39145040512085 0.2461690902709961\n",
      "0.34981608390808105 0.3948390483856201 0.679074764251709 14.8650221824646 365.84800839424133 0.2773456573486328\n",
      "0.38814687728881836 0.43770718574523926 0.7588856220245361 16.82177972793579 405.48765110969543 0.3077981472015381\n",
      "0.4261953830718994 0.4802398681640625 0.8282556533813477 18.20467448234558 445.5101230144501 0.3383016586303711\n",
      "0.4644765853881836 0.5228292942047119 0.8986754417419434 19.668087244033813 486.17109656333923 0.3684549331665039\n",
      "0.5026679039001465 0.5656349658966064 0.9719507694244385 21.278793334960938 526.2986238002777 0.39925551414489746\n",
      "0.5409448146820068 0.6084792613983154 1.047828197479248 23.01732897758484 566.4894368648529 0.4302253723144531\n",
      "0.5802960395812988 0.6519951820373535 1.1261000633239746 24.839688539505005 606.8332946300507 0.46184444427490234\n",
      "0.618218183517456 0.6958024501800537 1.20517897605896 26.736006021499634 647.3038384914398 0.4923067092895508\n",
      "0.6563918590545654 0.7396385669708252 1.2850465774536133 28.660888671875 687.5166072845459 0.5229523181915283\n",
      "0.6937930583953857 0.7825198173522949 1.3530972003936768 29.994027376174927 727.5900230407715 0.5532042980194092\n",
      "0.7333316802978516 0.8262522220611572 1.4278557300567627 31.635900259017944 767.9914436340332 0.5848846435546875\n",
      "0.7721445560455322 0.8687875270843506 1.5050849914550781 33.4318573474884 807.617625951767 0.6160826683044434\n",
      "0.8099813461303711 0.9109780788421631 1.5835275650024414 35.352299451828 847.5666706562042 0.6464846134185791\n",
      "0.848621129989624 0.9548366069793701 1.650190830230713 36.7193500995636 888.1857943534851 0.6779332160949707\n",
      "0.8875863552093506 0.9995508193969727 1.7204596996307373 38.38399910926819 929.2968182563782 0.7097790241241455\n",
      "0.9261617660522461 1.0439372062683105 1.7937803268432617 40.22729539871216 970.4113032817841 0.7412493228912354\n",
      "0.964707612991333 1.0885720252990723 1.870274305343628 42.2475426197052 1011.9073042869568 0.7728931903839111\n",
      "1.0023090839385986 1.132331132888794 1.9353258609771729 43.74142289161682 1052.937818288803 0.8040866851806641\n",
      "1.041102409362793 1.1772065162658691 2.0036063194274902 45.336660385131836 1094.4200730323792 0.8357114791870117\n",
      "1.0793774127960205 1.2213380336761475 2.0758416652679443 47.16586685180664 1135.1036484241486 0.866950511932373\n",
      "1.1133959293365479 1.2593390941619873 2.141711711883545 48.93812346458435 1172.2733924388885 0.8943889141082764\n",
      "1.1497795581817627 1.3013925552368164 2.2083353996276855 50.51919960975647 1212.3504548072815 0.9234142303466797\n",
      "1.187215805053711 1.3447601795196533 2.2742714881896973 52.04317903518677 1252.9162802696228 0.9536652565002441\n",
      "1.226165533065796 1.3900601863861084 2.3469977378845215 53.86128234863281 1294.611445903778 0.9852995872497559\n",
      "1.2647392749786377 1.4353535175323486 2.422283411026001 55.80195903778076 1336.3263041973114 1.0170373916625977\n",
      "1.303800106048584 1.4815561771392822 2.496832847595215 57.70332741737366 1378.4958572387695 1.048877239227295\n",
      "1.3420133590698242 1.5274255275726318 2.5631015300750732 59.1325569152832 1420.2283101081848 1.080362319946289\n"
     ]
    },
    {
     "ename": "KeyboardInterrupt",
     "evalue": "",
     "output_type": "error",
     "traceback": [
      "\u001b[0;31m---------------------------------------------------------------------------\u001b[0m",
      "\u001b[0;31mKeyboardInterrupt\u001b[0m                         Traceback (most recent call last)",
      "Input \u001b[0;32mIn [22]\u001b[0m, in \u001b[0;36m<cell line: 7>\u001b[0;34m()\u001b[0m\n\u001b[1;32m     24\u001b[0m t3 \u001b[38;5;241m+\u001b[39m\u001b[38;5;241m=\u001b[39m time\u001b[38;5;241m.\u001b[39mtime() \u001b[38;5;241m-\u001b[39m t\n\u001b[1;32m     26\u001b[0m t \u001b[38;5;241m=\u001b[39m time\u001b[38;5;241m.\u001b[39mtime()\n\u001b[0;32m---> 27\u001b[0m features \u001b[38;5;241m=\u001b[39m features \u001b[38;5;241m+\u001b[39m \u001b[43mcountPastOrders\u001b[49m\u001b[43m(\u001b[49m\u001b[43mitem\u001b[49m\u001b[43m,\u001b[49m\u001b[43m \u001b[49m\u001b[43mstoreWiseCumulativeItems\u001b[49m\u001b[43m,\u001b[49m\u001b[43m \u001b[49m\u001b[43mslotTimeForPastOrders\u001b[49m\u001b[43m)\u001b[49m \n\u001b[1;32m     28\u001b[0m t4 \u001b[38;5;241m+\u001b[39m\u001b[38;5;241m=\u001b[39m time\u001b[38;5;241m.\u001b[39mtime() \u001b[38;5;241m-\u001b[39m t\n\u001b[1;32m     30\u001b[0m t \u001b[38;5;241m=\u001b[39m time\u001b[38;5;241m.\u001b[39mtime()\n",
      "Input \u001b[0;32mIn [15]\u001b[0m, in \u001b[0;36mcountPastOrders\u001b[0;34m(item, storeWiseCumulativeItems, slotTime)\u001b[0m\n\u001b[1;32m     56\u001b[0m \u001b[38;5;28;01mdef\u001b[39;00m \u001b[38;5;21mcountPastOrders\u001b[39m(item, storeWiseCumulativeItems\u001b[38;5;241m=\u001b[39mstoreWiseCumulativeItems, slotTime\u001b[38;5;241m=\u001b[39m\u001b[38;5;241m30\u001b[39m):\n\u001b[0;32m---> 57\u001b[0m     minuteSlot \u001b[38;5;241m=\u001b[39m \u001b[43mgetTimeslot\u001b[49m\u001b[43m(\u001b[49m\u001b[43mitem\u001b[49m\u001b[43m[\u001b[49m\u001b[38;5;124;43m'\u001b[39;49m\u001b[38;5;124;43mKitchen_Display_Time\u001b[39;49m\u001b[38;5;124;43m'\u001b[39;49m\u001b[43m]\u001b[49m\u001b[43m,\u001b[49m\u001b[43m \u001b[49m\u001b[38;5;241;43m24\u001b[39;49m\u001b[38;5;241;43m*\u001b[39;49m\u001b[38;5;241;43m60\u001b[39;49m\u001b[43m)\u001b[49m\n\u001b[1;32m     58\u001b[0m     total \u001b[38;5;241m=\u001b[39m storeWiseCumulativeItems[item[\u001b[38;5;124m'\u001b[39m\u001b[38;5;124mLocation_Code\u001b[39m\u001b[38;5;124m'\u001b[39m]][item[\u001b[38;5;124m'\u001b[39m\u001b[38;5;124mOrder_Date\u001b[39m\u001b[38;5;124m'\u001b[39m]][minuteSlot]\n\u001b[1;32m     59\u001b[0m     prev \u001b[38;5;241m=\u001b[39m storeWiseCumulativeItems[item[\u001b[38;5;124m'\u001b[39m\u001b[38;5;124mLocation_Code\u001b[39m\u001b[38;5;124m'\u001b[39m]][item[\u001b[38;5;124m'\u001b[39m\u001b[38;5;124mOrder_Date\u001b[39m\u001b[38;5;124m'\u001b[39m]][\u001b[38;5;28mmax\u001b[39m(minuteSlot\u001b[38;5;241m-\u001b[39mslotTime, \u001b[38;5;241m0\u001b[39m)]\n",
      "Input \u001b[0;32mIn [13]\u001b[0m, in \u001b[0;36mgetTimeslot\u001b[0;34m(dt, slots)\u001b[0m\n\u001b[1;32m      6\u001b[0m t2 \u001b[38;5;241m=\u001b[39m dt\u001b[38;5;241m.\u001b[39mtime()\n\u001b[1;32m      7\u001b[0m \u001b[38;5;28;01mfor\u001b[39;00m i \u001b[38;5;129;01min\u001b[39;00m \u001b[38;5;28mrange\u001b[39m(\u001b[38;5;241m0\u001b[39m, slots):\n\u001b[0;32m----> 8\u001b[0m \tcurrent \u001b[38;5;241m=\u001b[39m current \u001b[38;5;241m+\u001b[39m \u001b[43mtimedelta\u001b[49m\u001b[43m(\u001b[49m\u001b[43mminutes\u001b[49m\u001b[43m \u001b[49m\u001b[38;5;241;43m=\u001b[39;49m\u001b[43m \u001b[49m\u001b[38;5;241;43m60\u001b[39;49m\u001b[38;5;241;43m*\u001b[39;49m\u001b[38;5;241;43m24\u001b[39;49m\u001b[38;5;241;43m/\u001b[39;49m\u001b[43mslots\u001b[49m\u001b[43m)\u001b[49m\n\u001b[1;32m      9\u001b[0m \t\u001b[38;5;28;01mif\u001b[39;00m(current\u001b[38;5;241m.\u001b[39mtime() \u001b[38;5;241m>\u001b[39m t2):\n\u001b[1;32m     10\u001b[0m \t\t\u001b[38;5;28;01mreturn\u001b[39;00m i\n",
      "\u001b[0;31mKeyboardInterrupt\u001b[0m: "
     ]
    }
   ],
   "source": [
    "X_train, X_test, y_train, y_test = [], [], [], []\n",
    "X = []\n",
    "y = []\n",
    "import time\n",
    "t1 = t2 = t3 = t4 = t5 = t6 = 0\n",
    "i = 0\n",
    "for index, item in df.iterrows():\n",
    "    i+=1\n",
    "    if(i%1000==0): print(t1, t2, t3, t4, t5, t6)\n",
    "    if(isThresholdForPreparationTime and (get_preparation_time(item) > thresholdForPreparationTime*60)): #removing inputs \n",
    "        continue\n",
    "        \n",
    "    features = []\n",
    "    t = time.time()\n",
    "    features = features + getStoreId(item, isOneHotEncodingRequired)\n",
    "    t1 += time.time() - t\n",
    "    \n",
    "    t = time.time()\n",
    "    features = features + getItemType(item, isOneHotEncodingRequired=isOneHotEncodingRequired, clubCategoryWise=clubItemsCategoryWise)\n",
    "    t2 += time.time() - t\n",
    "\n",
    "    t = time.time()    \n",
    "    features = features + getTimeSlotOfKitchenDisplayTime(item, isOneHotEncodingRequired=isOneHotEncodingRequired)\n",
    "    t3 += time.time() - t\n",
    "\n",
    "    t = time.time()\n",
    "    features = features + countPastOrders(item, storeWiseCumulativeItems, slotTimeForPastOrders) \n",
    "    t4 += time.time() - t\n",
    "\n",
    "    t = time.time()\n",
    "    features = features + getPreviousPrepTime(item, clubCategoryWise=clubItemsCategoryWise, timeslot = 60)  \n",
    "    t5 += time.time() - t\n",
    "\n",
    "    t = time.time()    \n",
    "    X.append(features)\n",
    "    \n",
    "    y.append(get_preparation_time(item))\n",
    "    t6 += time.time() - t\n",
    "\n",
    "#     if((order['ORDER_DATE'] >='2021-12-20' and order['ORDER_DATE'] <= '2021-12-24') or (order['ORDER_DATE'] >='2021-12-27' and order['ORDER_DATE'] <= '2021-12-29')):\n",
    "#         X_train.append(features)\n",
    "#         y_train.append(420+round(get_preparation_time(order)))\n",
    "#     elif(order['ORDER_DATE'] =='2021-12-30'):\n",
    "#         X_test.append(features)\n",
    "#         y_test.append(420+round(get_preparation_time(order)))\n",
    "print(t1, t2, t3, t4, t5, t6)"
   ]
  },
  {
   "cell_type": "code",
   "execution_count": null,
   "id": "ec7c7446",
   "metadata": {
    "ExecuteTime": {
     "end_time": "2022-09-29T18:36:36.616399Z",
     "start_time": "2022-09-29T18:36:36.616377Z"
    }
   },
   "outputs": [],
   "source": [
    "if splitMethod == 'random':\n",
    "    X_train, X_test, y_train, y_test = train_test_split(X, y, test_size = 0.20, random_state = 42)"
   ]
  },
  {
   "cell_type": "code",
   "execution_count": null,
   "id": "86367044",
   "metadata": {
    "ExecuteTime": {
     "end_time": "2022-09-29T18:36:36.620620Z",
     "start_time": "2022-09-29T18:36:36.620583Z"
    }
   },
   "outputs": [],
   "source": [
    "def getRMSE(actual, predictions):\n",
    "    mse = sklearn.metrics.mean_squared_error(actual, predictions)\n",
    "    return math.sqrt(mse)"
   ]
  },
  {
   "cell_type": "code",
   "execution_count": null,
   "id": "16ee20d2",
   "metadata": {
    "ExecuteTime": {
     "end_time": "2022-09-29T18:36:36.624428Z",
     "start_time": "2022-09-29T18:36:36.624388Z"
    }
   },
   "outputs": [],
   "source": [
    "# random forest\n",
    "if (model=='RF'):\n",
    "    print(\"Random Forest Model\")\n",
    "    regressor = RandomForestRegressor()\n",
    "    if(isNormalizationRequired):\n",
    "        scaler = StandardScaler()\n",
    "        scaler.fit(X_train)\n",
    "\n",
    "        X_train = scaler.transform(X_train)\n",
    "        X_test = scaler.transform(X_test)\n",
    "    \n",
    "    regressor.fit(X_train, y_train)\n",
    "    predictions = regressor.predict(X_train)\n",
    "    print(\"RMSE score on train set: \", getRMSE(y_train, predictions))\n",
    "        \n",
    "    predictions = regressor.predict(X_test)\n",
    "    print(\"RMSE score on test set: \", getRMSE(y_test, predictions))\n",
    "    "
   ]
  },
  {
   "cell_type": "markdown",
   "id": "4d3a0ff3",
   "metadata": {},
   "source": [
    "## figure out how this preperation_time model can be used in c++ program."
   ]
  },
  {
   "cell_type": "code",
   "execution_count": null,
   "id": "7d120e85",
   "metadata": {
    "ExecuteTime": {
     "end_time": "2022-09-29T18:36:36.627728Z",
     "start_time": "2022-09-29T18:36:36.627690Z"
    }
   },
   "outputs": [],
   "source": [
    "predictions = regressor.predict(X_train)\n",
    "print(\"RMSE score on train set: \", getRMSE(y_train, predictions))\n",
    "\n",
    "predictions = regressor.predict(X_test)\n",
    "print(\"RMSE score on test set: \", getRMSE(y_test, predictions))"
   ]
  },
  {
   "cell_type": "code",
   "execution_count": 112,
   "id": "0cf848b8",
   "metadata": {},
   "outputs": [],
   "source": [
    "X_Axis = [i for i in range(10, 24)]\n",
    "RMSETimeSlotWise = {}\n",
    "total_items = len(allMenuCodes)+len(allStoreIds)\n",
    "for x in X_Axis:\n",
    "    x1 = []\n",
    "    y1 = []\n",
    "    for \n",
    "    RMSERestWise[X_Axis[i]] = getRMSE(y1, regressor.predict(x1))"
   ]
  },
  {
   "cell_type": "code",
   "execution_count": 113,
   "id": "8e08f1b8",
   "metadata": {},
   "outputs": [
    {
     "data": {
      "text/plain": [
       "{'10-12 morning': 45.35690420653506,\n",
       " '12-2 noon': 48.350932332632134,\n",
       " '8-10 evening': 196.85486967188262}"
      ]
     },
     "execution_count": 113,
     "metadata": {},
     "output_type": "execute_result"
    }
   ],
   "source": [
    "RMSERestWise"
   ]
  },
  {
   "cell_type": "code",
   "execution_count": 114,
   "id": "006b9b43",
   "metadata": {
    "collapsed": true
   },
   "outputs": [
    {
     "data": {
      "image/png": "[encoded data removed]",
      "text/plain": [
       "<Figure size 432x288 with 1 Axes>"
      ]
     },
     "metadata": {
      "needs_background": "light"
     },
     "output_type": "display_data"
    }
   ],
   "source": [
    "X_axis = list(RMSERestWise.keys())\n",
    "Y_axis = list(RMSERestWise.values())\n",
    "\n",
    "plt.bar(X_axis, Y_axis)\n",
    "plt.xticks(X_axis)\n",
    "plt.xlabel(\"Time slot\")\n",
    "plt.ylabel(\"RMSE value of test set\")\n",
    "plt.title(\"Preparation time prediction over different time slots\")\n",
    "plt.show()"
   ]
  },
  {
   "cell_type": "code",
   "execution_count": 89,
   "id": "5a01c598",
   "metadata": {},
   "outputs": [],
   "source": [
    "#activation: relu, logistic\n",
    "def ModelResults(X_train, X_test, y_train, y_test, model, isNormalizationRequired=True):\n",
    "    \n",
    "    if(isNormalizationRequired):\n",
    "        scaler = StandardScaler()\n",
    "        scaler.fit(X_train)\n",
    "\n",
    "        X_train = scaler.transform(X_train)\n",
    "        X_test = scaler.transform(X_test)\n",
    "        \n",
    "    if(model=='NN'):\n",
    "        hidden_layer_sizes=(80, 30, 10)\n",
    "        activation='relu'\n",
    "        print(\"Neural Network model\")\n",
    "        print(\"Hidden layers: \", hidden_layer_sizes)\n",
    "        print(\"Activation function: \", activation)\n",
    "        mlp = MLPClassifier(hidden_layer_sizes=hidden_layer_sizes, activation=activation, max_iter=1000, verbose=True, learning_rate='constant', learning_rate_init=0.01)\n",
    "        mlp.fit(X_train, y_train)\n",
    "        print(mlp.best_loss_)\n",
    "        \n",
    "        predictions = mlp.predict(X_train)\n",
    "        print(\"RMSE score on validation set: \", getRMSE(y_train, predictions))\n",
    "        \n",
    "        predictions = mlp.predict(X_test)\n",
    "        print(\"RMSE score on test set: \", getRMSE(y_test, predictions))\n",
    "        \n",
    "    elif(model=='RF'):\n",
    "        print(\"Random Forest Model\")\n",
    "        regressor = RandomForestRegressor()\n",
    "        regressor.fit(X_train, y_train)\n",
    "        \n",
    "        predictions = regressor.predict(X_train)\n",
    "        print(\"RMSE score on validation set: \", getRMSE(y_train, predictions))\n",
    "        \n",
    "        predictions = regressor.predict(X_test)\n",
    "        print(\"RMSE score on test set: \", getRMSE(y_test, predictions))\n",
    "    else:\n",
    "        print(\"Model not implemented yet\")"
   ]
  },
  {
   "cell_type": "code",
   "execution_count": 86,
   "id": "ab069e8d",
   "metadata": {},
   "outputs": [
    {
     "data": {
      "text/plain": [
       "array([[ -9.68770891,  -7.18229529,  -7.05802898, ..., -10.05756664,\n",
       "        -11.47823238,  -9.53518635],\n",
       "       [ -9.68770891,  -7.18229529,  -7.05802898, ..., -10.05756664,\n",
       "        -11.47823238,  -9.53518635],\n",
       "       [ -9.68770891,  -7.18229529,  -7.05802898, ..., -10.05756664,\n",
       "        -11.47823238,  -9.53518635],\n",
       "       ...,\n",
       "       [ -9.68770891,  -7.18229529,  -7.05802898, ..., -10.05756664,\n",
       "        -11.47823238,  -9.53518635],\n",
       "       [ -9.68770891,  -7.18229529,  -7.05802898, ..., -10.05756664,\n",
       "        -11.47823238,  -9.53518635],\n",
       "       [ -9.68770891,  -7.18229529,  -7.05802898, ..., -10.05756664,\n",
       "        -11.47823238,  -9.53518635]])"
      ]
     },
     "execution_count": 86,
     "metadata": {},
     "output_type": "execute_result"
    }
   ],
   "source": [
    "mlp.predict_log_proba(X)"
   ]
  },
  {
   "cell_type": "code",
   "execution_count": null,
   "id": "ab797e2d",
   "metadata": {},
   "outputs": [],
   "source": [
    "\n",
    "scaler = StandardScaler()\n",
    "scaler.fit(X_train)\n",
    "\n",
    "X_train = scaler.transform(X_train)\n",
    "X_test = scaler.transform(X_test)\n",
    "\n",
    "regressor = RandomForestRegressor()\n",
    "regressor.fit(X_train, y_train)\n",
    "predictions = regressor.predict(X_train)"
   ]
  },
  {
   "cell_type": "code",
   "execution_count": null,
   "id": "325642ff",
   "metadata": {},
   "outputs": [],
   "source": [
    "mse = sklearn.metrics.mean_squared_error(y_train, predictions)  \n",
    "rmse = math.sqrt(mse)  \n",
    "rmse"
   ]
  },
  {
   "cell_type": "code",
   "execution_count": null,
   "id": "8cee6941",
   "metadata": {},
   "outputs": [],
   "source": []
  }
 ],
 "metadata": {
  "kernelspec": {
   "display_name": "Python 3 (ipykernel)",
   "language": "python",
   "name": "python3"
  },
  "language_info": {
   "codemirror_mode": {
    "name": "ipython",
    "version": 3
   },
   "file_extension": ".py",
   "mimetype": "text/x-python",
   "name": "python",
   "nbconvert_exporter": "python",
   "pygments_lexer": "ipython3",
   "version": "3.8.10"
  }
 },
 "nbformat": 4,
 "nbformat_minor": 5
}
