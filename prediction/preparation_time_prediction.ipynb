{
 "cells": [
  {
   "cell_type": "code",
   "execution_count": 1,
   "id": "c2f4650d",
   "metadata": {
    "ExecuteTime": {
     "end_time": "2022-09-29T20:38:23.295678Z",
     "start_time": "2022-09-29T20:38:20.910882Z"
    }
   },
   "outputs": [],
   "source": [
    "# imports\n",
    "import json\n",
    "import pandas as pd\n",
    "import numpy as np\n",
    "import random\n",
    "from datetime import datetime, timedelta\n",
    "import sklearn\n",
    "import math\n",
    "from sklearn.feature_extraction.text import CountVectorizer\n",
    "from sklearn.feature_extraction.text import TfidfVectorizer\n",
    "from sklearn.linear_model import LogisticRegression\n",
    "from sklearn.model_selection import train_test_split\n",
    "\n",
    "from time import time\n",
    "import matplotlib.pyplot as plt\n",
    "\n",
    "from sklearn.model_selection import train_test_split\n",
    "from sklearn.preprocessing import StandardScaler\n",
    "from sklearn.neural_network import MLPClassifier\n",
    "from sklearn.metrics import classification_report, confusion_matrix\n",
    "from sklearn.ensemble import RandomForestRegressor \n",
    "from statistics import mean"
   ]
  },
  {
   "cell_type": "code",
   "execution_count": 2,
   "id": "c83d6951",
   "metadata": {
    "ExecuteTime": {
     "end_time": "2022-09-29T20:38:23.303834Z",
     "start_time": "2022-09-29T20:38:23.299345Z"
    }
   },
   "outputs": [],
   "source": [
    "city = 'Bhopal'"
   ]
  },
  {
   "cell_type": "code",
   "execution_count": 3,
   "id": "8cf6c28f",
   "metadata": {
    "ExecuteTime": {
     "end_time": "2022-09-29T20:39:35.243944Z",
     "start_time": "2022-09-29T20:38:24.906657Z"
    }
   },
   "outputs": [],
   "source": [
    "# data read\n",
    "df1 = pd.read_excel(f'./data-sept-14/{city}/Item-wise-details-{city}-17-23-Dec-2021.xlsx')\n",
    "df2 = pd.read_excel(f'./data-sept-14/{city}/Item-wise-details-{city}-24-31-Dec-2021.xlsx')"
   ]
  },
  {
   "cell_type": "code",
   "execution_count": 4,
   "id": "f632ce37",
   "metadata": {
    "ExecuteTime": {
     "end_time": "2022-09-29T20:39:35.491700Z",
     "start_time": "2022-09-29T20:39:35.248778Z"
    }
   },
   "outputs": [],
   "source": [
    "# exclude non baking items\n",
    "df = pd.concat([df1, df2])\n",
    "df = df[pd.notna(df['Oven_Time'])]\n",
    "df = df.sort_values(by =['Kitchen_Display_Time', 'Location_Code', 'Order_Number'])"
   ]
  },
  {
   "cell_type": "code",
   "execution_count": 5,
   "id": "90698808",
   "metadata": {
    "ExecuteTime": {
     "end_time": "2022-09-29T20:39:35.583150Z",
     "start_time": "2022-09-29T20:39:35.494303Z"
    }
   },
   "outputs": [
    {
     "name": "stdout",
     "output_type": "stream",
     "text": [
      "(84558, 27)\n",
      "(84558, 7)\n",
      "(84558, 8)\n"
     ]
    },
    {
     "data": {
      "text/html": [
       "<div>\n",
       "<style scoped>\n",
       "    .dataframe tbody tr th:only-of-type {\n",
       "        vertical-align: middle;\n",
       "    }\n",
       "\n",
       "    .dataframe tbody tr th {\n",
       "        vertical-align: top;\n",
       "    }\n",
       "\n",
       "    .dataframe thead th {\n",
       "        text-align: right;\n",
       "    }\n",
       "</style>\n",
       "<table border=\"1\" class=\"dataframe\">\n",
       "  <thead>\n",
       "    <tr style=\"text-align: right;\">\n",
       "      <th></th>\n",
       "      <th>Location_Code</th>\n",
       "      <th>Order_Date</th>\n",
       "      <th>Order_Number</th>\n",
       "      <th>Kitchen_Display_Time</th>\n",
       "      <th>Oven_Time</th>\n",
       "      <th>Menu_Code</th>\n",
       "      <th>Item Description</th>\n",
       "      <th>prep_time</th>\n",
       "    </tr>\n",
       "  </thead>\n",
       "  <tbody>\n",
       "    <tr>\n",
       "      <th>4250</th>\n",
       "      <td>DPI66221</td>\n",
       "      <td>2021-12-17</td>\n",
       "      <td>1</td>\n",
       "      <td>2021-12-17 10:58:16.347</td>\n",
       "      <td>2021-12-17 10:58:31.240</td>\n",
       "      <td>BRD0020</td>\n",
       "      <td>BR-Garlic Breadsticks</td>\n",
       "      <td>435</td>\n",
       "    </tr>\n",
       "    <tr>\n",
       "      <th>32961</th>\n",
       "      <td>DPI66221</td>\n",
       "      <td>2021-12-17</td>\n",
       "      <td>1</td>\n",
       "      <td>2021-12-17 10:58:16.347</td>\n",
       "      <td>2021-12-17 10:58:30.833</td>\n",
       "      <td>PIZ0117</td>\n",
       "      <td>_SV-Margherita</td>\n",
       "      <td>434</td>\n",
       "    </tr>\n",
       "    <tr>\n",
       "      <th>26674</th>\n",
       "      <td>DPI66373</td>\n",
       "      <td>2021-12-17</td>\n",
       "      <td>1</td>\n",
       "      <td>2021-12-17 10:58:35.500</td>\n",
       "      <td>2021-12-17 11:03:53.140</td>\n",
       "      <td>PIZ5127</td>\n",
       "      <td>PM Loaded NV</td>\n",
       "      <td>738</td>\n",
       "    </tr>\n",
       "    <tr>\n",
       "      <th>28840</th>\n",
       "      <td>DPI66373</td>\n",
       "      <td>2021-12-17</td>\n",
       "      <td>1</td>\n",
       "      <td>2021-12-17 10:58:35.500</td>\n",
       "      <td>2021-12-17 11:03:52.823</td>\n",
       "      <td>PIZ0140</td>\n",
       "      <td>PM Loaded VG</td>\n",
       "      <td>737</td>\n",
       "    </tr>\n",
       "    <tr>\n",
       "      <th>36120</th>\n",
       "      <td>DPI66449</td>\n",
       "      <td>2021-12-17</td>\n",
       "      <td>1</td>\n",
       "      <td>2021-12-17 11:01:13.280</td>\n",
       "      <td>2021-12-17 11:02:13.377</td>\n",
       "      <td>PIZ0134</td>\n",
       "      <td>Pizza Mania Tomato</td>\n",
       "      <td>480</td>\n",
       "    </tr>\n",
       "  </tbody>\n",
       "</table>\n",
       "</div>"
      ],
      "text/plain": [
       "      Location_Code Order_Date  Order_Number    Kitchen_Display_Time  \\\n",
       "4250       DPI66221 2021-12-17             1 2021-12-17 10:58:16.347   \n",
       "32961      DPI66221 2021-12-17             1 2021-12-17 10:58:16.347   \n",
       "26674      DPI66373 2021-12-17             1 2021-12-17 10:58:35.500   \n",
       "28840      DPI66373 2021-12-17             1 2021-12-17 10:58:35.500   \n",
       "36120      DPI66449 2021-12-17             1 2021-12-17 11:01:13.280   \n",
       "\n",
       "                    Oven_Time Menu_Code       Item Description  prep_time  \n",
       "4250  2021-12-17 10:58:31.240   BRD0020  BR-Garlic Breadsticks        435  \n",
       "32961 2021-12-17 10:58:30.833   PIZ0117         _SV-Margherita        434  \n",
       "26674 2021-12-17 11:03:53.140   PIZ5127           PM Loaded NV        738  \n",
       "28840 2021-12-17 11:03:52.823   PIZ0140           PM Loaded VG        737  \n",
       "36120 2021-12-17 11:02:13.377   PIZ0134     Pizza Mania Tomato        480  "
      ]
     },
     "execution_count": 5,
     "metadata": {},
     "output_type": "execute_result"
    }
   ],
   "source": [
    "print(df.shape)\n",
    "df = df.drop(['storedesc', 'city', 'Customer_Code', 'Customer_Name', 'Actual_Order_Date', 'Order_Status_Code', 'Order_Type_Code', 'Order_Saved', 'Order_Time', 'Driver_ID', 'Driver_Shift', 'Route_Time', 'Return_Time', 'Delayed_Order', 'Order_Taker_ID','Order_Taker_Shift', 'Closed_Order_Time', 'Customer_Address_Id', 'Original_Location_Code', 'Order_Id',], axis=1)\n",
    "print(df.shape)\n",
    "df['Kitchen_Display_Time'] = pd.to_datetime(df['Kitchen_Display_Time'])\n",
    "df['Oven_Time'] = pd.to_datetime(df['Oven_Time'])\n",
    "df['prep_time'] = df['Oven_Time'] - df['Kitchen_Display_Time']\n",
    "df['prep_time'] = round(df['prep_time']/np.timedelta64(1, 's')).astype(int) + 7*60\n",
    "print(df.shape)\n",
    "df.head()"
   ]
  },
  {
   "cell_type": "code",
   "execution_count": 6,
   "id": "5b1180d6",
   "metadata": {
    "ExecuteTime": {
     "end_time": "2022-09-29T20:39:35.597130Z",
     "start_time": "2022-09-29T20:39:35.586233Z"
    }
   },
   "outputs": [],
   "source": [
    "allMenuCodes = df['Menu_Code'].unique()\n",
    "allStoreIds = df['Location_Code'].unique()"
   ]
  },
  {
   "cell_type": "code",
   "execution_count": 7,
   "id": "9f85e8d0",
   "metadata": {
    "ExecuteTime": {
     "end_time": "2022-09-29T20:39:36.117404Z",
     "start_time": "2022-09-29T20:39:35.599434Z"
    }
   },
   "outputs": [],
   "source": [
    "sampleItem=None\n",
    "for index, item in df.iterrows():\n",
    "    sampleItem = item\n",
    "    break"
   ]
  },
  {
   "cell_type": "code",
   "execution_count": 8,
   "id": "a366b592",
   "metadata": {
    "ExecuteTime": {
     "end_time": "2022-09-29T20:39:36.127783Z",
     "start_time": "2022-09-29T20:39:36.120528Z"
    }
   },
   "outputs": [
    {
     "data": {
      "text/plain": [
       "Location_Code                             DPI66221\n",
       "Order_Date                     2021-12-17 00:00:00\n",
       "Order_Number                                     1\n",
       "Kitchen_Display_Time    2021-12-17 10:58:16.347000\n",
       "Oven_Time               2021-12-17 10:58:31.240000\n",
       "Menu_Code                                  BRD0020\n",
       "Item Description             BR-Garlic Breadsticks\n",
       "prep_time                                      435\n",
       "Name: 4250, dtype: object"
      ]
     },
     "execution_count": 8,
     "metadata": {},
     "output_type": "execute_result"
    }
   ],
   "source": [
    "sampleItem"
   ]
  },
  {
   "cell_type": "code",
   "execution_count": 9,
   "id": "82ae6338",
   "metadata": {
    "ExecuteTime": {
     "end_time": "2022-09-29T20:39:36.136713Z",
     "start_time": "2022-09-29T20:39:36.130173Z"
    }
   },
   "outputs": [],
   "source": [
    "# Feature 1: store id\n",
    "def getOneHotEncodingStore(storeId, stores=allStoreIds):\n",
    "    oneHotEncodingList = []\n",
    "    for i in range(0, len(stores)):\n",
    "        if(stores[i] == storeId):\n",
    "            oneHotEncodingList.append(1)\n",
    "        else:\n",
    "            oneHotEncodingList.append(0)\n",
    "    return oneHotEncodingList\n",
    "\n",
    "# returns the feature store id for an order\n",
    "def getStoreId(item, isOneHotEncodingRequired=False):\n",
    "    if isOneHotEncodingRequired:\n",
    "        return getOneHotEncodingStore(item['Location_Code'], allStoreIds)\n",
    "    else:\n",
    "        return [item['Location_Code']]"
   ]
  },
  {
   "cell_type": "code",
   "execution_count": 10,
   "id": "00c99098",
   "metadata": {
    "ExecuteTime": {
     "end_time": "2022-09-29T20:39:36.148244Z",
     "start_time": "2022-09-29T20:39:36.139091Z"
    }
   },
   "outputs": [
    {
     "name": "stdout",
     "output_type": "stream",
     "text": [
      "['DPI66221']\n",
      "[1, 0, 0, 0, 0, 0, 0, 0, 0, 0, 0]\n"
     ]
    }
   ],
   "source": [
    "print(getStoreId(sampleItem))\n",
    "print(getStoreId(sampleItem, True))"
   ]
  },
  {
   "cell_type": "code",
   "execution_count": 11,
   "id": "efc16550",
   "metadata": {
    "ExecuteTime": {
     "end_time": "2022-09-29T20:39:36.158760Z",
     "start_time": "2022-09-29T20:39:36.150810Z"
    }
   },
   "outputs": [],
   "source": [
    "# Feature 2: Item Type\n",
    "def getOneHotEncodingItem(item, items=allMenuCodes, clubCategoryWise=False):\n",
    "    if clubCategoryWise:\n",
    "        newItemsList = []\n",
    "        newItemsList = [i[0:3] for i in items]\n",
    "        unique_items = list(dict.fromkeys(newItemsList))\n",
    "        return getOneHotEncodingItem(item[0:3], unique_items, False)\n",
    "    \n",
    "    oneHotEncodingList=[]\n",
    "    for i in range(0, len(items)):\n",
    "        if (items[i] == item):\n",
    "            oneHotEncodingList.append(1)\n",
    "        else:\n",
    "            oneHotEncodingList.append(0)\n",
    "    return oneHotEncodingList\n",
    "\n",
    "def getItemType(item, isOneHotEncodingRequired=False, clubCategoryWise=False):\n",
    "    if (not isOneHotEncodingRequired):\n",
    "        if clubCategoryWise:\n",
    "            return [item['Menu_Code'][0:3]]\n",
    "        return [item['Menu_Code']]\n",
    "    else:\n",
    "        return getOneHotEncodingItem(item['Menu_Code'], allMenuCodes, clubCategoryWise)"
   ]
  },
  {
   "cell_type": "code",
   "execution_count": 12,
   "id": "f32862ec",
   "metadata": {
    "ExecuteTime": {
     "end_time": "2022-09-29T20:39:36.168883Z",
     "start_time": "2022-09-29T20:39:36.162721Z"
    }
   },
   "outputs": [
    {
     "name": "stdout",
     "output_type": "stream",
     "text": [
      "['BRD0020']\n",
      "[1, 0, 0, 0, 0, 0, 0, 0, 0, 0, 0, 0, 0, 0, 0, 0, 0, 0, 0, 0, 0, 0, 0, 0, 0, 0, 0, 0, 0, 0, 0, 0, 0, 0, 0, 0, 0, 0, 0, 0, 0, 0, 0, 0, 0, 0, 0, 0, 0, 0, 0, 0, 0, 0, 0, 0, 0, 0, 0, 0, 0, 0, 0, 0, 0, 0, 0, 0, 0]\n",
      "['BRD']\n",
      "[1, 0, 0, 0, 0, 0, 0]\n"
     ]
    }
   ],
   "source": [
    "print(getItemType(sampleItem))\n",
    "print(getItemType(sampleItem, True))\n",
    "print(getItemType(sampleItem, clubCategoryWise=True))\n",
    "print(getItemType(sampleItem, True, True))"
   ]
  },
  {
   "cell_type": "code",
   "execution_count": 13,
   "id": "69429a92",
   "metadata": {
    "ExecuteTime": {
     "end_time": "2022-09-29T20:39:36.179402Z",
     "start_time": "2022-09-29T20:39:36.171317Z"
    }
   },
   "outputs": [],
   "source": [
    "# Feature 3: TimeSlot of kitchen display time\n",
    "total_slots = 24\n",
    "def getTimeslot(dt, slots=total_slots):\n",
    "\tcurrent = datetime(2011, 1, 1)\n",
    "\tt1 = current.time()\n",
    "\tt2 = dt.time()\n",
    "\tfor i in range(0, slots):\n",
    "\t\tcurrent = current + timedelta(minutes = 60*24/slots)\n",
    "\t\tif(current.time() > t2):\n",
    "\t\t\treturn i\n",
    "\treturn slots-1\n",
    "\n",
    "def getOneHotEncodingTimeSlot(timeslot):\n",
    "    oneHotEncodingList = []\n",
    "    for i in range(0, 24):\n",
    "        oneHotEncodingList.append(0)\n",
    "    oneHotEncodingList[timeslot] = 1\n",
    "    return oneHotEncodingList\n",
    "\n",
    "def getTimeSlotOfKitchenDisplayTime(item, isOneHotEncodingRequired=False):\n",
    "    timeslot = getTimeslot(item['Kitchen_Display_Time'], 24)\n",
    "    if isOneHotEncodingRequired:\n",
    "        return getOneHotEncodingTimeSlot(timeslot)\n",
    "    else:\n",
    "        return [timeslot]"
   ]
  },
  {
   "cell_type": "code",
   "execution_count": 14,
   "id": "e017e620",
   "metadata": {
    "ExecuteTime": {
     "end_time": "2022-09-29T20:42:05.946473Z",
     "start_time": "2022-09-29T20:42:05.938427Z"
    }
   },
   "outputs": [],
   "source": [
    "def get_preparation_time(item):\n",
    "    return item['prep_time']\n",
    "# \tdiff = item['Oven_Time'] - item['Kitchen_Display_Time']\n",
    "# \treturn diff.total_seconds() + 7*60"
   ]
  },
  {
   "cell_type": "code",
   "execution_count": 18,
   "id": "ab5dcdcb",
   "metadata": {
    "ExecuteTime": {
     "end_time": "2022-09-29T20:42:05.881634Z",
     "start_time": "2022-09-29T20:39:36.181825Z"
    }
   },
   "outputs": [
    {
     "name": "stderr",
     "output_type": "stream",
     "text": [
      "/tmp/ipykernel_233465/2601813340.py:28: SettingWithCopyWarning: \n",
      "A value is trying to be set on a copy of a slice from a DataFrame\n",
      "\n",
      "See the caveats in the documentation: https://pandas.pydata.org/pandas-docs/stable/user_guide/indexing.html#returning-a-view-versus-a-copy\n",
      "  df['pre_prep_time'][index] = 10*60\n",
      "/tmp/ipykernel_233465/2601813340.py:24: SettingWithCopyWarning: \n",
      "A value is trying to be set on a copy of a slice from a DataFrame\n",
      "\n",
      "See the caveats in the documentation: https://pandas.pydata.org/pandas-docs/stable/user_guide/indexing.html#returning-a-view-versus-a-copy\n",
      "  df['pre_prep_time'][index] = 10*60\n",
      "/tmp/ipykernel_233465/2601813340.py:22: SettingWithCopyWarning: \n",
      "A value is trying to be set on a copy of a slice from a DataFrame\n",
      "\n",
      "See the caveats in the documentation: https://pandas.pydata.org/pandas-docs/stable/user_guide/indexing.html#returning-a-view-versus-a-copy\n",
      "  df['pre_prep_time'][index] = pt/count\n"
     ]
    }
   ],
   "source": [
    "# Feature 4 : Count of all baking items of all orders received by the store in the last 20 minutes.\n",
    "\n",
    "# Pre-preparation of data\n",
    "df['pre_prep_time'] = 0\n",
    "\n",
    "StoreWiseItems = {}\n",
    "for index, item in df.iterrows():\n",
    "    store = item['Location_Code']\n",
    "    if store in StoreWiseItems:\n",
    "        dtKitchenDisplay = item['Kitchen_Display_Time']\n",
    "        lastTime = dtKitchenDisplay - timedelta(minutes=60)\n",
    "        count = 0\n",
    "        pt = 0\n",
    "        for i in reversed(range(len(StoreWiseItems[store]))):\n",
    "            if(StoreWiseItems[store][i]['Kitchen_Display_Time'] >= lastTime and StoreWiseItems[store][i]['Kitchen_Display_Time'] < dtKitchenDisplay):\n",
    "                if(StoreWiseItems[store][i]['Menu_Code'] == item['Menu_Code']):\n",
    "                    pt += get_preparation_time(item)\n",
    "                    count+=1\n",
    "            else:\n",
    "                break\n",
    "        if count != 0:\n",
    "            df['pre_prep_time'][index] = pt/count\n",
    "        else:\n",
    "            df['pre_prep_time'][index] = 10*60\n",
    "        StoreWiseItems[store].append(item)\n",
    "    else:\n",
    "        StoreWiseItems[store] = [item]\n",
    "        df['pre_prep_time'][index] = 10*60\n",
    "\n",
    "        \n",
    "storeWiseCumulativeItems = {}\n",
    "for store in StoreWiseItems.keys():\n",
    "    storeWiseCumulativeItems[store] = {}\n",
    "\n",
    "# item count per slot\n",
    "for store in StoreWiseItems.keys():\n",
    "    for item in StoreWiseItems[store]:\n",
    "        date = item['Order_Date']\n",
    "        minuteSlot = getTimeslot(item['Kitchen_Display_Time'], 24*60)\n",
    "        if date in storeWiseCumulativeItems[store]:\n",
    "            storeWiseCumulativeItems[store][date][minuteSlot]+=1\n",
    "        else:\n",
    "            t = []\n",
    "            for i in range(0, 24*60):\n",
    "                t.append(0)\n",
    "            storeWiseCumulativeItems[store][date] = t\n",
    "            storeWiseCumulativeItems[store][date][minuteSlot] = 1\n",
    "            \n",
    "#prefix sum            \n",
    "for store in storeWiseCumulativeItems.keys():\n",
    "    for date in storeWiseCumulativeItems[store].keys():\n",
    "        for i in range(1, 24*60):\n",
    "            storeWiseCumulativeItems[store][date][i] += storeWiseCumulativeItems[store][date][i-1]\n",
    "            \n",
    "            \n",
    "def countPastOrders(item, storeWiseCumulativeItems=storeWiseCumulativeItems, slotTime=30):\n",
    "    minuteSlot = getTimeslot(item['Kitchen_Display_Time'], 24*60)\n",
    "    total = storeWiseCumulativeItems[item['Location_Code']][item['Order_Date']][minuteSlot]\n",
    "    prev = storeWiseCumulativeItems[item['Location_Code']][item['Order_Date']][max(minuteSlot-slotTime, 0)]\n",
    "    return [(total-prev)]"
   ]
  },
  {
   "cell_type": "code",
   "execution_count": 15,
   "id": "deff2369",
   "metadata": {
    "ExecuteTime": {
     "end_time": "2022-09-29T20:42:05.931276Z",
     "start_time": "2022-09-29T20:42:05.901067Z"
    }
   },
   "outputs": [
    {
     "name": "stdout",
     "output_type": "stream",
     "text": [
      "[4]\n",
      "[4]\n"
     ]
    }
   ],
   "source": [
    "print(countPastOrders(sampleItem))\n",
    "print(countPastOrders(sampleItem, slotTime=10))\n",
    "\n",
    "d = datetime.strptime('2021-12-20 00:00:00', '%Y-%m-%d %H:%M:%S')\n",
    "# storeWiseCumulativeItems[sampleItem['Location_Code']][d]"
   ]
  },
  {
   "cell_type": "code",
   "execution_count": 17,
   "id": "1871e71a",
   "metadata": {
    "ExecuteTime": {
     "end_time": "2022-09-29T20:42:05.981803Z",
     "start_time": "2022-09-29T20:42:05.955439Z"
    }
   },
   "outputs": [],
   "source": [
    "# Feature 5 : Avg prep time of the same item in the same store in last 60 minutes.\n",
    "\n",
    "def getPreviousPrepTime(item, StoreWiseItems=StoreWiseItems, clubCategoryWise=False, timeslot = 60):\n",
    "    dtKitchenDisplay = item['Kitchen_Display_Time']\n",
    "    lastTime = dtKitchenDisplay - timedelta(minutes=timeslot)\n",
    "    \n",
    "    orderedItem = item['Menu_Code']\n",
    "    prepTime = []\n",
    "    if clubCategoryWise:\n",
    "        orderedItem = orderedItem[0:3]\n",
    "    tdf = df[(df['Location_Code']==item['Location_Code']) & (df['Menu_Code'].str[0:len(orderedItem)]==orderedItem) \\\n",
    "             & (df['Kitchen_Display_Time'] >= lastTime) & (df['Kitchen_Display_Time'] <= dtKitchenDisplay)]\n",
    "\n",
    "    if(len(tdf)>0):\n",
    "        return [tdf['prep_time'].mean()]\n",
    "    else:\n",
    "        return [10*60]\n",
    "    \n",
    "#     for order in StoreWiseItems[item['Location_Code']]:\n",
    "#         if(order['Kitchen_Display_Time'] >= lastTime and order['Kitchen_Display_Time'] <= dtKitchenDisplay):\n",
    "#             if (order['Menu_Code'][0:len(orderedItem)] == orderedItem):\n",
    "#                 prepTime.append(get_preparation_time(order))\n",
    "#     if(len(prepTime) > 0):\n",
    "#         return [mean(prepTime)]\n",
    "#     else:\n",
    "#         return [10*60] # POINT OF DISCUSSION, For now taking 10 minutes"
   ]
  },
  {
   "cell_type": "code",
   "execution_count": 18,
   "id": "d888e7ad",
   "metadata": {
    "ExecuteTime": {
     "end_time": "2022-09-29T20:44:03.917311Z",
     "start_time": "2022-09-29T20:44:03.826069Z"
    }
   },
   "outputs": [
    {
     "data": {
      "text/plain": [
       "[511.0]"
      ]
     },
     "execution_count": 18,
     "metadata": {},
     "output_type": "execute_result"
    }
   ],
   "source": [
    "getPreviousPrepTime(sampleItem, StoreWiseItems, False, 60)"
   ]
  },
  {
   "cell_type": "code",
   "execution_count": 18,
   "id": "6fafe112",
   "metadata": {
    "ExecuteTime": {
     "end_time": "2022-09-29T20:22:09.406307Z",
     "start_time": "2022-09-29T20:22:09.316282Z"
    },
    "scrolled": true
   },
   "outputs": [
    {
     "name": "stdout",
     "output_type": "stream",
     "text": [
      "Location_Code                             DPI63827\n",
      "Order_Date                     2021-12-17 00:00:00\n",
      "Order_Number                                     1\n",
      "Kitchen_Display_Time    2021-12-17 11:05:32.803000\n",
      "Oven_Time               2021-12-17 11:07:03.997000\n",
      "Menu_Code                                  SID0059\n",
      "Item Description                    CRINKLE FRIES \n",
      "prep_time                                  511.194\n",
      "Name: 12783, dtype: object 2\n",
      "[511.294]\n"
     ]
    },
    {
     "data": {
      "text/html": [
       "<div>\n",
       "<style scoped>\n",
       "    .dataframe tbody tr th:only-of-type {\n",
       "        vertical-align: middle;\n",
       "    }\n",
       "\n",
       "    .dataframe tbody tr th {\n",
       "        vertical-align: top;\n",
       "    }\n",
       "\n",
       "    .dataframe thead th {\n",
       "        text-align: right;\n",
       "    }\n",
       "</style>\n",
       "<table border=\"1\" class=\"dataframe\">\n",
       "  <thead>\n",
       "    <tr style=\"text-align: right;\">\n",
       "      <th></th>\n",
       "      <th>Location_Code</th>\n",
       "      <th>Order_Date</th>\n",
       "      <th>Order_Number</th>\n",
       "      <th>Kitchen_Display_Time</th>\n",
       "      <th>Oven_Time</th>\n",
       "      <th>Menu_Code</th>\n",
       "      <th>Item Description</th>\n",
       "      <th>prep_time</th>\n",
       "    </tr>\n",
       "  </thead>\n",
       "  <tbody>\n",
       "    <tr>\n",
       "      <th>12783</th>\n",
       "      <td>DPI63827</td>\n",
       "      <td>2021-12-17</td>\n",
       "      <td>1</td>\n",
       "      <td>2021-12-17 11:05:32.803</td>\n",
       "      <td>2021-12-17 11:07:03.997</td>\n",
       "      <td>SID0059</td>\n",
       "      <td>CRINKLE FRIES</td>\n",
       "      <td>511.194</td>\n",
       "    </tr>\n",
       "    <tr>\n",
       "      <th>32482</th>\n",
       "      <td>DPI63827</td>\n",
       "      <td>2021-12-17</td>\n",
       "      <td>1</td>\n",
       "      <td>2021-12-17 11:05:32.803</td>\n",
       "      <td>2021-12-17 11:07:04.197</td>\n",
       "      <td>SID0064</td>\n",
       "      <td>Cheesy Jalapeno Pasta Veg</td>\n",
       "      <td>511.394</td>\n",
       "    </tr>\n",
       "  </tbody>\n",
       "</table>\n",
       "</div>"
      ],
      "text/plain": [
       "      Location_Code Order_Date  Order_Number    Kitchen_Display_Time  \\\n",
       "12783      DPI63827 2021-12-17             1 2021-12-17 11:05:32.803   \n",
       "32482      DPI63827 2021-12-17             1 2021-12-17 11:05:32.803   \n",
       "\n",
       "                    Oven_Time Menu_Code           Item Description  prep_time  \n",
       "12783 2021-12-17 11:07:03.997   SID0059             CRINKLE FRIES     511.194  \n",
       "32482 2021-12-17 11:07:04.197   SID0064  Cheesy Jalapeno Pasta Veg    511.394  "
      ]
     },
     "execution_count": 18,
     "metadata": {},
     "output_type": "execute_result"
    }
   ],
   "source": [
    "item = sampleItem\n",
    "orderedItem = item['Menu_Code']\n",
    "orderedItem = orderedItem[0:3]\n",
    "dtKitchenDisplay = item['Kitchen_Display_Time']\n",
    "lastTime = dtKitchenDisplay - timedelta(minutes=60)\n",
    "tdf = df[(df['Location_Code']==item['Location_Code']) & (df['Menu_Code'].str[0:len(orderedItem)]==orderedItem) \\\n",
    "         & (df['Kitchen_Display_Time'] >= lastTime) & (df['Kitchen_Display_Time'] <= dtKitchenDisplay)]\n",
    "print(item, len(tdf)) \n",
    "if(len(tdf)>0):\n",
    "    print([round(tdf['prep_time'].mean())])\n",
    "tdf"
   ]
  },
  {
   "cell_type": "code",
   "execution_count": 19,
   "id": "66e020fb",
   "metadata": {
    "ExecuteTime": {
     "end_time": "2022-09-29T20:44:10.595722Z",
     "start_time": "2022-09-29T20:44:10.588733Z"
    }
   },
   "outputs": [],
   "source": [
    "# global variables\n",
    "\n",
    "isThresholdForPreparationTime = False\n",
    "thresholdForPreparationTime = 30 # minutes for preparation time (threshold)\n",
    "\n",
    "clubItemsCategoryWise = False\n",
    "\n",
    "splitMethod = 'random'\n",
    "slotTimeForPastOrders = 20 # minutes\n",
    "\n",
    "model = 'RF'\n",
    "isOneHotEncodingRequired = True\n",
    "isNormalizationRequired = True"
   ]
  },
  {
   "cell_type": "code",
   "execution_count": null,
   "id": "fb107226",
   "metadata": {},
   "outputs": [],
   "source": [
    "\n",
    "for index, item in df.iterrows():\n",
    "    \n",
    "    \n",
    "    "
   ]
  },
  {
   "cell_type": "code",
   "execution_count": null,
   "id": "79e6bca5",
   "metadata": {
    "ExecuteTime": {
     "start_time": "2022-09-29T20:50:53.859Z"
    }
   },
   "outputs": [
    {
     "name": "stdout",
     "output_type": "stream",
     "text": [
      "0.03805398941040039 0.05852699279785156 0.07049679756164551 1.6545233726501465 44.289833784103394 0.03866910934448242\n",
      "0.08328413963317871 0.12293672561645508 0.145660400390625 3.3954732418060303 89.93410587310791 0.08089828491210938\n",
      "0.12396693229675293 0.18582367897033691 0.2218151092529297 5.18547511100769 136.34084939956665 0.12277889251708984\n",
      "0.1644434928894043 0.2466278076171875 0.295443058013916 6.916939973831177 179.30527591705322 0.16504859924316406\n",
      "0.20550823211669922 0.3095085620880127 0.37131667137145996 8.721880912780762 225.7102267742157 0.20725703239440918\n",
      "0.24506592750549316 0.36743664741516113 0.44144248962402344 10.333471298217773 268.00378251075745 0.24765324592590332\n",
      "0.2844703197479248 0.42800164222717285 0.512540340423584 11.952195405960083 309.5906641483307 0.2888946533203125\n",
      "0.32454586029052734 0.48847436904907227 0.5866942405700684 13.72071361541748 352.89395546913147 0.3306772708892822\n",
      "0.36434102058410645 0.5454046726226807 0.6577975749969482 15.411954164505005 397.13525319099426 0.37114787101745605\n",
      "0.4051365852355957 0.6052992343902588 0.7322580814361572 17.23500967025757 443.5939390659332 0.4125983715057373\n",
      "0.4478268623352051 0.6704888343811035 0.8121051788330078 19.17032551765442 493.3935196399689 0.45597076416015625\n",
      "0.48534703254699707 0.7181186676025391 0.8735449314117432 20.704895496368408 533.3020579814911 0.4897480010986328\n",
      "0.5228116512298584 0.7726459503173828 0.9432196617126465 22.440672636032104 575.4630742073059 0.5284593105316162\n",
      "0.5613462924957275 0.8334085941314697 1.01552152633667 24.250414848327637 620.6745970249176 0.5683629512786865\n",
      "0.6005358695983887 0.8922083377838135 1.085726022720337 25.816367149353027 661.1200342178345 0.6092236042022705\n",
      "0.6397242546081543 0.9490563869476318 1.1557133197784424 27.47053575515747 703.2250380516052 0.649888277053833\n",
      "0.6819000244140625 1.0157513618469238 1.237325668334961 29.19545006752014 747.6133868694305 0.693960428237915\n",
      "0.7189774513244629 1.0713934898376465 1.304518461227417 30.713186979293823 787.0671482086182 0.7327823638916016\n",
      "0.7584097385406494 1.1325271129608154 1.37587308883667 32.34861350059509 828.8817570209503 0.7754659652709961\n",
      "0.8014540672302246 1.1973025798797607 1.4539284706115723 34.237908124923706 876.9738857746124 0.8207948207855225\n",
      "0.8441915512084961 1.263089656829834 1.5304131507873535 36.036274909973145 924.032585144043 0.8654427528381348\n",
      "0.8848938941955566 1.326625108718872 1.603924036026001 37.76272010803223 968.9217712879181 0.9089770317077637\n",
      "0.9234170913696289 1.3840420246124268 1.6753015518188477 39.471073627471924 1012.9448914527893 0.9537968635559082\n",
      "0.9632086753845215 1.4410464763641357 1.7485930919647217 41.32579731941223 1059.4801678657532 0.9922194480895996\n",
      "1.0015010833740234 1.4976112842559814 1.8213741779327393 43.16579246520996 1104.7859981060028 1.0311954021453857\n",
      "1.0408294200897217 1.5555269718170166 1.8932607173919678 44.89073824882507 1148.9431774616241 1.0718989372253418\n",
      "1.0820634365081787 1.6174640655517578 1.9668114185333252 46.60555839538574 1193.050286769867 1.1138372421264648\n",
      "1.1241731643676758 1.6833984851837158 2.0431981086730957 48.34588599205017 1238.9224982261658 1.1587514877319336\n",
      "1.1615097522735596 1.740677833557129 2.1108641624450684 49.91122388839722 1278.6676445007324 1.1993045806884766\n",
      "1.2056095600128174 1.8027708530426025 2.184141159057617 51.6000771522522 1321.2313060760498 1.2424614429473877\n",
      "1.2422163486480713 1.8527905941009521 2.2510905265808105 53.2831449508667 1363.990653514862 1.2776858806610107\n",
      "1.2806174755096436 1.9072630405426025 2.321911334991455 55.011343479156494 1406.8190224170685 1.3167388439178467\n",
      "1.3201923370361328 1.966076135635376 2.39528751373291 56.778581857681274 1451.1475565433502 1.3574063777923584\n",
      "1.3614633083343506 2.0300486087799072 2.4710843563079834 58.660712003707886 1498.828233718872 1.399444580078125\n",
      "1.4006991386413574 2.08711576461792 2.544517755508423 60.471888303756714 1544.4809050559998 1.4379980564117432\n",
      "1.441610336303711 2.147608757019043 2.6156420707702637 62.092697620391846 1586.0239880084991 1.48130464553833\n",
      "1.4830124378204346 2.2100541591644287 2.688441038131714 63.78869605064392 1629.0449562072754 1.5243327617645264\n",
      "1.5255165100097656 2.271242380142212 2.7625858783721924 65.5146701335907 1672.6433312892914 1.5678696632385254\n",
      "1.566756010055542 2.3297770023345947 2.8343183994293213 67.23042917251587 1717.2158663272858 1.6108510494232178\n",
      "1.607745885848999 2.3897318840026855 2.906386613845825 68.85595965385437 1758.970895767212 1.6541407108306885\n",
      "1.6517186164855957 2.4565725326538086 2.9845621585845947 70.61890172958374 1805.1052069664001 1.7011752128601074\n",
      "1.6910884380340576 2.516664743423462 3.0603203773498535 72.2034797668457 1846.8586430549622 1.7424218654632568\n",
      "1.7307641506195068 2.575587511062622 3.130000352859497 73.74835801124573 1886.76984333992 1.7841064929962158\n",
      "1.7681679725646973 2.634617328643799 3.1974756717681885 75.33222007751465 1926.1015872955322 1.8219037055969238\n",
      "1.8070344924926758 2.6949219703674316 3.266371011734009 76.89160871505737 1967.017650127411 1.8617911338806152\n",
      "1.8500964641571045 2.7603659629821777 3.3409152030944824 78.61797618865967 2010.8428258895874 1.9098482131958008\n",
      "1.8936419486999512 2.825066089630127 3.418297290802002 80.38676524162292 2054.7824790477753 1.954880952835083\n",
      "1.9332914352416992 2.884991407394409 3.4897372722625732 81.99918699264526 2096.8119308948517 1.9947419166564941\n",
      "1.970261573791504 2.936980724334717 3.5557668209075928 83.59090304374695 2139.0607855319977 2.030768632888794\n",
      "2.0136959552764893 3.001880168914795 3.6335642337799072 85.40377902984619 2184.489193677902 2.0747342109680176\n"
     ]
    }
   ],
   "source": [
    "X_train, X_test, y_train, y_test = [], [], [], []\n",
    "X = []\n",
    "y = []\n",
    "import time\n",
    "t1 = t2 = t3 = t4 = t5 = t6 = 0\n",
    "i = 0\n",
    "for index, item in df.iterrows():\n",
    "    i+=1\n",
    "    if(i%1000==0): print(t1, t2, t3, t4, t5, t6)\n",
    "    if(isThresholdForPreparationTime and (get_preparation_time(item) > thresholdForPreparationTime*60)): #removing inputs \n",
    "        continue\n",
    "        \n",
    "    features = []\n",
    "    t = time.time()\n",
    "    features = features + getStoreId(item, isOneHotEncodingRequired)\n",
    "    t1 += time.time() - t\n",
    "    \n",
    "    t = time.time()\n",
    "    features = features + getItemType(item, isOneHotEncodingRequired=isOneHotEncodingRequired, clubCategoryWise=clubItemsCategoryWise)\n",
    "    t2 += time.time() - t\n",
    "\n",
    "    t = time.time()    \n",
    "    features = features + getTimeSlotOfKitchenDisplayTime(item, isOneHotEncodingRequired=isOneHotEncodingRequired)\n",
    "    t3 += time.time() - t\n",
    "\n",
    "    t = time.time()\n",
    "    features = features + countPastOrders(item, storeWiseCumulativeItems, slotTimeForPastOrders) \n",
    "    t4 += time.time() - t\n",
    "\n",
    "    t = time.time()\n",
    "    features = features + getPreviousPrepTime(item, clubCategoryWise=clubItemsCategoryWise, timeslot = 60)  \n",
    "    t5 += time.time() - t\n",
    "\n",
    "    t = time.time()    \n",
    "    X.append(features)\n",
    "    \n",
    "    y.append(get_preparation_time(item))\n",
    "    t6 += time.time() - t\n",
    "\n",
    "#     if((order['ORDER_DATE'] >='2021-12-20' and order['ORDER_DATE'] <= '2021-12-24') or (order['ORDER_DATE'] >='2021-12-27' and order['ORDER_DATE'] <= '2021-12-29')):\n",
    "#         X_train.append(features)\n",
    "#         y_train.append(420+round(get_preparation_time(order)))\n",
    "#     elif(order['ORDER_DATE'] =='2021-12-30'):\n",
    "#         X_test.append(features)\n",
    "#         y_test.append(420+round(get_preparation_time(order)))\n",
    "print(t1, t2, t3, t4, t5, t6)"
   ]
  },
  {
   "cell_type": "code",
   "execution_count": null,
   "id": "ec7c7446",
   "metadata": {
    "ExecuteTime": {
     "end_time": "2022-09-29T18:36:36.616399Z",
     "start_time": "2022-09-29T18:36:36.616377Z"
    }
   },
   "outputs": [],
   "source": [
    "if splitMethod == 'random':\n",
    "    X_train, X_test, y_train, y_test = train_test_split(X, y, test_size = 0.20, random_state = 42)"
   ]
  },
  {
   "cell_type": "code",
   "execution_count": null,
   "id": "86367044",
   "metadata": {
    "ExecuteTime": {
     "end_time": "2022-09-29T18:36:36.620620Z",
     "start_time": "2022-09-29T18:36:36.620583Z"
    }
   },
   "outputs": [],
   "source": [
    "def getRMSE(actual, predictions):\n",
    "    mse = sklearn.metrics.mean_squared_error(actual, predictions)\n",
    "    return math.sqrt(mse)"
   ]
  },
  {
   "cell_type": "code",
   "execution_count": null,
   "id": "16ee20d2",
   "metadata": {
    "ExecuteTime": {
     "end_time": "2022-09-29T18:36:36.624428Z",
     "start_time": "2022-09-29T18:36:36.624388Z"
    }
   },
   "outputs": [],
   "source": [
    "# random forest\n",
    "if (model=='RF'):\n",
    "    print(\"Random Forest Model\")\n",
    "    regressor = RandomForestRegressor()\n",
    "    if(isNormalizationRequired):\n",
    "        scaler = StandardScaler()\n",
    "        scaler.fit(X_train)\n",
    "\n",
    "        X_train = scaler.transform(X_train)\n",
    "        X_test = scaler.transform(X_test)\n",
    "    \n",
    "    regressor.fit(X_train, y_train)\n",
    "    predictions = regressor.predict(X_train)\n",
    "    print(\"RMSE score on train set: \", getRMSE(y_train, predictions))\n",
    "        \n",
    "    predictions = regressor.predict(X_test)\n",
    "    print(\"RMSE score on test set: \", getRMSE(y_test, predictions))\n",
    "    "
   ]
  },
  {
   "cell_type": "code",
   "execution_count": null,
   "id": "7d120e85",
   "metadata": {
    "ExecuteTime": {
     "end_time": "2022-09-29T18:36:36.627728Z",
     "start_time": "2022-09-29T18:36:36.627690Z"
    }
   },
   "outputs": [],
   "source": [
    "predictions = regressor.predict(X_train)\n",
    "print(\"RMSE score on train set: \", getRMSE(y_train, predictions))\n",
    "\n",
    "predictions = regressor.predict(X_test)\n",
    "print(\"RMSE score on test set: \", getRMSE(y_test, predictions))"
   ]
  },
  {
   "cell_type": "code",
   "execution_count": 112,
   "id": "0cf848b8",
   "metadata": {},
   "outputs": [],
   "source": [
    "X_Axis = [i for i in range(10, 24)]\n",
    "RMSETimeSlotWise = {}\n",
    "total_items = len(allMenuCodes)+len(allStoreIds)\n",
    "for x in X_Axis:\n",
    "    x1 = []\n",
    "    y1 = []\n",
    "    for \n",
    "    RMSERestWise[X_Axis[i]] = getRMSE(y1, regressor.predict(x1))"
   ]
  },
  {
   "cell_type": "code",
   "execution_count": 113,
   "id": "8e08f1b8",
   "metadata": {},
   "outputs": [
    {
     "data": {
      "text/plain": [
       "{'10-12 morning': 45.35690420653506,\n",
       " '12-2 noon': 48.350932332632134,\n",
       " '8-10 evening': 196.85486967188262}"
      ]
     },
     "execution_count": 113,
     "metadata": {},
     "output_type": "execute_result"
    }
   ],
   "source": [
    "RMSERestWise"
   ]
  },
  {
   "cell_type": "code",
   "execution_count": 114,
   "id": "006b9b43",
   "metadata": {},
   "outputs": [
    {
     "data": {
      "image/png": "[encoded data removed]",
      "text/plain": [
       "<Figure size 432x288 with 1 Axes>"
      ]
     },
     "metadata": {
      "needs_background": "light"
     },
     "output_type": "display_data"
    }
   ],
   "source": [
    "X_axis = list(RMSERestWise.keys())\n",
    "Y_axis = list(RMSERestWise.values())\n",
    "\n",
    "plt.bar(X_axis, Y_axis)\n",
    "plt.xticks(X_axis)\n",
    "plt.xlabel(\"Time slot\")\n",
    "plt.ylabel(\"RMSE value of test set\")\n",
    "plt.title(\"Preparation time prediction over different time slots\")\n",
    "plt.show()"
   ]
  },
  {
   "cell_type": "code",
   "execution_count": 89,
   "id": "5a01c598",
   "metadata": {},
   "outputs": [],
   "source": [
    "#activation: relu, logistic\n",
    "def ModelResults(X_train, X_test, y_train, y_test, model, isNormalizationRequired=True):\n",
    "    \n",
    "    if(isNormalizationRequired):\n",
    "        scaler = StandardScaler()\n",
    "        scaler.fit(X_train)\n",
    "\n",
    "        X_train = scaler.transform(X_train)\n",
    "        X_test = scaler.transform(X_test)\n",
    "        \n",
    "    if(model=='NN'):\n",
    "        hidden_layer_sizes=(80, 30, 10)\n",
    "        activation='relu'\n",
    "        print(\"Neural Network model\")\n",
    "        print(\"Hidden layers: \", hidden_layer_sizes)\n",
    "        print(\"Activation function: \", activation)\n",
    "        mlp = MLPClassifier(hidden_layer_sizes=hidden_layer_sizes, activation=activation, max_iter=1000, verbose=True, learning_rate='constant', learning_rate_init=0.01)\n",
    "        mlp.fit(X_train, y_train)\n",
    "        print(mlp.best_loss_)\n",
    "        \n",
    "        predictions = mlp.predict(X_train)\n",
    "        print(\"RMSE score on validation set: \", getRMSE(y_train, predictions))\n",
    "        \n",
    "        predictions = mlp.predict(X_test)\n",
    "        print(\"RMSE score on test set: \", getRMSE(y_test, predictions))\n",
    "        \n",
    "    elif(model=='RF'):\n",
    "        print(\"Random Forest Model\")\n",
    "        regressor = RandomForestRegressor()\n",
    "        regressor.fit(X_train, y_train)\n",
    "        \n",
    "        predictions = regressor.predict(X_train)\n",
    "        print(\"RMSE score on validation set: \", getRMSE(y_train, predictions))\n",
    "        \n",
    "        predictions = regressor.predict(X_test)\n",
    "        print(\"RMSE score on test set: \", getRMSE(y_test, predictions))\n",
    "    else:\n",
    "        print(\"Model not implemented yet\")"
   ]
  },
  {
   "cell_type": "code",
   "execution_count": 86,
   "id": "ab069e8d",
   "metadata": {
    "collapsed": true
   },
   "outputs": [
    {
     "data": {
      "text/plain": [
       "array([[ -9.68770891,  -7.18229529,  -7.05802898, ..., -10.05756664,\n",
       "        -11.47823238,  -9.53518635],\n",
       "       [ -9.68770891,  -7.18229529,  -7.05802898, ..., -10.05756664,\n",
       "        -11.47823238,  -9.53518635],\n",
       "       [ -9.68770891,  -7.18229529,  -7.05802898, ..., -10.05756664,\n",
       "        -11.47823238,  -9.53518635],\n",
       "       ...,\n",
       "       [ -9.68770891,  -7.18229529,  -7.05802898, ..., -10.05756664,\n",
       "        -11.47823238,  -9.53518635],\n",
       "       [ -9.68770891,  -7.18229529,  -7.05802898, ..., -10.05756664,\n",
       "        -11.47823238,  -9.53518635],\n",
       "       [ -9.68770891,  -7.18229529,  -7.05802898, ..., -10.05756664,\n",
       "        -11.47823238,  -9.53518635]])"
      ]
     },
     "execution_count": 86,
     "metadata": {},
     "output_type": "execute_result"
    }
   ],
   "source": [
    "mlp.predict_log_proba(X)"
   ]
  },
  {
   "cell_type": "code",
   "execution_count": null,
   "id": "ab797e2d",
   "metadata": {},
   "outputs": [],
   "source": [
    "\n",
    "scaler = StandardScaler()\n",
    "scaler.fit(X_train)\n",
    "\n",
    "X_train = scaler.transform(X_train)\n",
    "X_test = scaler.transform(X_test)\n",
    "\n",
    "regressor = RandomForestRegressor()\n",
    "regressor.fit(X_train, y_train)\n",
    "predictions = regressor.predict(X_train)"
   ]
  },
  {
   "cell_type": "code",
   "execution_count": null,
   "id": "325642ff",
   "metadata": {},
   "outputs": [],
   "source": [
    "mse = sklearn.metrics.mean_squared_error(y_train, predictions)  \n",
    "rmse = math.sqrt(mse)  \n",
    "rmse"
   ]
  },
  {
   "cell_type": "code",
   "execution_count": null,
   "id": "8cee6941",
   "metadata": {},
   "outputs": [],
   "source": []
  }
 ],
 "metadata": {
  "kernelspec": {
   "display_name": "Python 3 (ipykernel)",
   "language": "python",
   "name": "python3"
  },
  "language_info": {
   "codemirror_mode": {
    "name": "ipython",
    "version": 3
   },
   "file_extension": ".py",
   "mimetype": "text/x-python",
   "name": "python",
   "nbconvert_exporter": "python",
   "pygments_lexer": "ipython3",
   "version": "3.8.10"
  }
 },
 "nbformat": 4,
 "nbformat_minor": 5
}
