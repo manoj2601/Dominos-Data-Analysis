{
 "cells": [
  {
   "cell_type": "code",
   "execution_count": 14,
   "id": "3488f333",
   "metadata": {
    "ExecuteTime": {
     "end_time": "2023-02-28T08:35:28.482349Z",
     "start_time": "2023-02-28T08:35:05.404938Z"
    }
   },
   "outputs": [],
   "source": [
    "# imports\n",
    "import json\n",
    "import pandas as pd\n",
    "import numpy as np\n",
    "import random\n",
    "from datetime import datetime, timedelta\n",
    "import sklearn\n",
    "import math\n",
    "from sklearn.feature_extraction.text import CountVectorizer\n",
    "from sklearn.feature_extraction.text import TfidfVectorizer\n",
    "from sklearn.linear_model import LogisticRegression\n",
    "from sklearn.model_selection import train_test_split\n",
    "\n",
    "import time\n",
    "import matplotlib.pyplot as plt\n",
    "\n",
    "from sklearn.model_selection import train_test_split\n",
    "from sklearn.preprocessing import StandardScaler\n",
    "from sklearn.neural_network import MLPClassifier\n",
    "from sklearn.metrics import classification_report, confusion_matrix\n",
    "from sklearn.ensemble import RandomForestRegressor \n",
    "from statistics import mean\n",
    "import pickle\n",
    "import statistics\n",
    "\n",
    "from sklearn.model_selection import cross_val_score\n",
    "from sklearn.model_selection import RepeatedKFold\n",
    "from xgboost import XGBRegressor\n",
    "from numpy import absolute\n",
    "from sklearn.model_selection import GridSearchCV"
   ]
  },
  {
   "cell_type": "code",
   "execution_count": 15,
   "id": "03a22cbb",
   "metadata": {
    "ExecuteTime": {
     "end_time": "2023-02-28T08:35:44.232232Z",
     "start_time": "2023-02-28T08:35:44.224949Z"
    }
   },
   "outputs": [],
   "source": [
    "city = 'Bhopal'\n",
    "month = 'July'\n",
    "PATH = f'./../Item_wise_data/{city}/'\n",
    "# PATH = './../'\n"
   ]
  },
  {
   "cell_type": "code",
   "execution_count": 32,
   "id": "500b335e",
   "metadata": {
    "ExecuteTime": {
     "end_time": "2023-02-28T08:35:49.172824Z",
     "start_time": "2023-02-28T08:35:45.504498Z"
    }
   },
   "outputs": [
    {
     "name": "stderr",
     "output_type": "stream",
     "text": [
      "/var/folders/44/wjytndj97cq3yq4r22tkb6t00000gn/T/ipykernel_12303/4027763518.py:2: DtypeWarning: Columns (5,8,12) have mixed types. Specify dtype option on import or set low_memory=False.\n",
      "  df = pd.read_csv(PATH+f'{month}.csv')\n"
     ]
    }
   ],
   "source": [
    "# exclude non baking items\n",
    "df = pd.read_csv(PATH+f'{month}.csv')\n",
    "df = df[pd.notna(df['Oven_Time'])]\n",
    "df = df.sort_values(by =['Kitchen_Display_Time', 'Location_Code', 'Order_Number'])\n",
    "# df"
   ]
  },
  {
   "cell_type": "code",
   "execution_count": 33,
   "id": "ec45c79b",
   "metadata": {
    "ExecuteTime": {
     "end_time": "2023-02-28T08:35:49.277481Z",
     "start_time": "2023-02-28T08:35:49.176230Z"
    }
   },
   "outputs": [
    {
     "name": "stdout",
     "output_type": "stream",
     "text": [
      "(156415, 29)\n",
      "(156415, 10)\n"
     ]
    }
   ],
   "source": [
    "print(df.shape)\n",
    "df = df.drop(['storedesc', 'city', 'Customer_Code', 'Customer_Name', 'Actual_Order_Date', 'Order_Status_Code', 'Order_Type_Code', 'Order_Saved', 'Order_Time', 'Driver_ID', 'Route_Time', 'Return_Time', 'Delayed_Order', 'Order_Taker_ID','Order_Taker_Shift', 'Closed_Order_Time', 'Customer_Address_Id', 'Original_Location_Code', 'Order_Id',], axis=1)\n",
    "print(df.shape)\n"
   ]
  },
  {
   "cell_type": "code",
   "execution_count": 34,
   "id": "be15fa7d",
   "metadata": {
    "ExecuteTime": {
     "end_time": "2023-02-28T08:35:50.957881Z",
     "start_time": "2023-02-28T08:35:50.675167Z"
    }
   },
   "outputs": [
    {
     "name": "stdout",
     "output_type": "stream",
     "text": [
      "(156415, 11)\n"
     ]
    },
    {
     "data": {
      "text/plain": "       Location_Code           Order_Date  Order_Number  Driver_Shift  \\\n92935       DPI66576  2022-07-01 00:00:00             1           0.0   \n158804      DPI66154  2022-07-01 00:00:00             1           1.0   \n33904       DPI66576  2022-07-01 00:00:00             2           0.0   \n69467       DPI66576  2022-07-01 00:00:00             2           0.0   \n53156       DPI66449  2022-07-01 00:00:00             2           1.0   \n\n          Kitchen_Display_Time               Oven_Time Menu_Code  \\\n92935  2022-07-01 11:06:45.417 2022-07-01 11:07:26.867   PIZ0200   \n158804 2022-07-01 11:06:53.140 2022-07-01 11:09:58.387   PIZ5106   \n33904  2022-07-01 11:12:01.983 2022-07-01 11:13:30.210   PIZ0121   \n69467  2022-07-01 11:12:01.983 2022-07-01 11:13:30.697   PIZ0120   \n53156  2022-07-01 11:12:33.490 2022-07-01 11:13:58.503   PIZ0130   \n\n                     Item Description  Quantity            Delivery_Time  \\\n92935     Corn n Cheese Paratha Pizza       1.0                      NaN   \n158804                Chicken Sausage       1.0  2022-07-01 11:24:46.000   \n33904              VG2-1Mexican Green       1.0  2022-07-01 11:26:48.840   \n69467               VG2-1Peppy Paneer       1.0  2022-07-01 11:26:48.840   \n53156   _PM39-Pizza Mania Golden Corn       1.0  2022-07-01 11:32:00.000   \n\n        prep_time  \n92935      41.450  \n158804    185.247  \n33904      88.227  \n69467      88.714  \n53156      85.013  ",
      "text/html": "<div>\n<style scoped>\n    .dataframe tbody tr th:only-of-type {\n        vertical-align: middle;\n    }\n\n    .dataframe tbody tr th {\n        vertical-align: top;\n    }\n\n    .dataframe thead th {\n        text-align: right;\n    }\n</style>\n<table border=\"1\" class=\"dataframe\">\n  <thead>\n    <tr style=\"text-align: right;\">\n      <th></th>\n      <th>Location_Code</th>\n      <th>Order_Date</th>\n      <th>Order_Number</th>\n      <th>Driver_Shift</th>\n      <th>Kitchen_Display_Time</th>\n      <th>Oven_Time</th>\n      <th>Menu_Code</th>\n      <th>Item Description</th>\n      <th>Quantity</th>\n      <th>Delivery_Time</th>\n      <th>prep_time</th>\n    </tr>\n  </thead>\n  <tbody>\n    <tr>\n      <th>92935</th>\n      <td>DPI66576</td>\n      <td>2022-07-01 00:00:00</td>\n      <td>1</td>\n      <td>0.0</td>\n      <td>2022-07-01 11:06:45.417</td>\n      <td>2022-07-01 11:07:26.867</td>\n      <td>PIZ0200</td>\n      <td>Corn n Cheese Paratha Pizza</td>\n      <td>1.0</td>\n      <td>NaN</td>\n      <td>41.450</td>\n    </tr>\n    <tr>\n      <th>158804</th>\n      <td>DPI66154</td>\n      <td>2022-07-01 00:00:00</td>\n      <td>1</td>\n      <td>1.0</td>\n      <td>2022-07-01 11:06:53.140</td>\n      <td>2022-07-01 11:09:58.387</td>\n      <td>PIZ5106</td>\n      <td>Chicken Sausage</td>\n      <td>1.0</td>\n      <td>2022-07-01 11:24:46.000</td>\n      <td>185.247</td>\n    </tr>\n    <tr>\n      <th>33904</th>\n      <td>DPI66576</td>\n      <td>2022-07-01 00:00:00</td>\n      <td>2</td>\n      <td>0.0</td>\n      <td>2022-07-01 11:12:01.983</td>\n      <td>2022-07-01 11:13:30.210</td>\n      <td>PIZ0121</td>\n      <td>VG2-1Mexican Green</td>\n      <td>1.0</td>\n      <td>2022-07-01 11:26:48.840</td>\n      <td>88.227</td>\n    </tr>\n    <tr>\n      <th>69467</th>\n      <td>DPI66576</td>\n      <td>2022-07-01 00:00:00</td>\n      <td>2</td>\n      <td>0.0</td>\n      <td>2022-07-01 11:12:01.983</td>\n      <td>2022-07-01 11:13:30.697</td>\n      <td>PIZ0120</td>\n      <td>VG2-1Peppy Paneer</td>\n      <td>1.0</td>\n      <td>2022-07-01 11:26:48.840</td>\n      <td>88.714</td>\n    </tr>\n    <tr>\n      <th>53156</th>\n      <td>DPI66449</td>\n      <td>2022-07-01 00:00:00</td>\n      <td>2</td>\n      <td>1.0</td>\n      <td>2022-07-01 11:12:33.490</td>\n      <td>2022-07-01 11:13:58.503</td>\n      <td>PIZ0130</td>\n      <td>_PM39-Pizza Mania Golden Corn</td>\n      <td>1.0</td>\n      <td>2022-07-01 11:32:00.000</td>\n      <td>85.013</td>\n    </tr>\n  </tbody>\n</table>\n</div>"
     },
     "execution_count": 34,
     "metadata": {},
     "output_type": "execute_result"
    }
   ],
   "source": [
    "df['Kitchen_Display_Time'] = pd.to_datetime(df['Kitchen_Display_Time'])\n",
    "df['Oven_Time'] = pd.to_datetime(df['Oven_Time'])\n",
    "df['prep_time'] = df['Oven_Time'] - df['Kitchen_Display_Time']\n",
    "df['prep_time'] = (df['prep_time']/np.timedelta64(1, 's')).astype(float)\n",
    "print(df.shape)\n",
    "df.head()"
   ]
  },
  {
   "cell_type": "markdown",
   "source": [
    "items in the range of KPT :\n",
    "1. 0-1 minute + 7 minutes (oven time) = 75011\n",
    "2. 1-2 minute + 7 minutes = 37875\n",
    "3. 2-3 minutes + 7 minutes = 18311\n",
    "4. 3-4 minutes + 7 minutes = 9925\n",
    "5. 4-5 minutes + 7 minutes = 5711\n",
    "6. 5-6 minutes + 7 minutes = 3466\n",
    "7. 10-20 minutes + 7 minutes = 1089\n",
    "8. above 15 minutes + 7 minutes = 229\n",
    "9. above 20 minutes + 7 minutes = 40\n",
    "\n",
    "Hence, eliminating noise items with KPT > 15 + 7 minutes to train the model more accurately"
   ],
   "metadata": {
    "collapsed": false
   }
  },
  {
   "cell_type": "code",
   "execution_count": 35,
   "id": "b36a4fbb",
   "metadata": {
    "ExecuteTime": {
     "end_time": "2023-02-28T08:35:51.853189Z",
     "start_time": "2023-02-28T08:35:51.805445Z"
    }
   },
   "outputs": [
    {
     "name": "stdout",
     "output_type": "stream",
     "text": [
      "TOTAL ORDERS : 156415\n"
     ]
    }
   ],
   "source": [
    "isThresholdForPreparationTime = True\n",
    "thresholdForPreparationTimeUpper = 15 # minutes for preparation time (threshold)\n",
    "thresholdForPreparationTimeLower = 0 # minutes for lowest preparation time (threshold)\n",
    "if isThresholdForPreparationTime:\n",
    "    print(\"TOTAL ORDERS : \"+str(len(df.index)))\n",
    "    df = df.loc[(df['prep_time'] <= thresholdForPreparationTimeUpper*60) & \\\n",
    "        (df['prep_time'] >= thresholdForPreparationTimeLower*60) ]"
   ]
  },
  {
   "cell_type": "code",
   "execution_count": 40,
   "outputs": [
    {
     "name": "stdout",
     "output_type": "stream",
     "text": [
      "TOTAL ITEMS after removing KPT noise: 156186\n"
     ]
    }
   ],
   "source": [
    "print(\"TOTAL ITEMS after removing KPT noise: \"+str(len(df.index)))"
   ],
   "metadata": {
    "collapsed": false
   }
  },
  {
   "cell_type": "markdown",
   "source": [],
   "metadata": {
    "collapsed": false
   }
  },
  {
   "cell_type": "code",
   "execution_count": 41,
   "outputs": [
    {
     "data": {
      "text/plain": "           prep_time   Count\nQuantity                    \n1.0       101.454415  150775\n2.0        84.705221    4190\n3.0        90.296236     721\n4.0        95.759901     274\n5.0       104.261012      86\n6.0        79.993672      61\n7.0       110.488632      19\n8.0       108.764800      20\n9.0        88.868250       4\n10.0       60.995889       9\n11.0       39.490000       3\n12.0      184.336750       4\n13.0      153.523500       2\n14.0       27.907000       1\n15.0       66.385667       3\n20.0       99.518000       5\n22.0       41.007000       1\n29.0      158.466000       1\n40.0       48.395000       2\n50.0       46.037000       1\n60.0       26.153000       1\n100.0      40.656000       1\n137.0      50.307000       2",
      "text/html": "<div>\n<style scoped>\n    .dataframe tbody tr th:only-of-type {\n        vertical-align: middle;\n    }\n\n    .dataframe tbody tr th {\n        vertical-align: top;\n    }\n\n    .dataframe thead th {\n        text-align: right;\n    }\n</style>\n<table border=\"1\" class=\"dataframe\">\n  <thead>\n    <tr style=\"text-align: right;\">\n      <th></th>\n      <th>prep_time</th>\n      <th>Count</th>\n    </tr>\n    <tr>\n      <th>Quantity</th>\n      <th></th>\n      <th></th>\n    </tr>\n  </thead>\n  <tbody>\n    <tr>\n      <th>1.0</th>\n      <td>101.454415</td>\n      <td>150775</td>\n    </tr>\n    <tr>\n      <th>2.0</th>\n      <td>84.705221</td>\n      <td>4190</td>\n    </tr>\n    <tr>\n      <th>3.0</th>\n      <td>90.296236</td>\n      <td>721</td>\n    </tr>\n    <tr>\n      <th>4.0</th>\n      <td>95.759901</td>\n      <td>274</td>\n    </tr>\n    <tr>\n      <th>5.0</th>\n      <td>104.261012</td>\n      <td>86</td>\n    </tr>\n    <tr>\n      <th>6.0</th>\n      <td>79.993672</td>\n      <td>61</td>\n    </tr>\n    <tr>\n      <th>7.0</th>\n      <td>110.488632</td>\n      <td>19</td>\n    </tr>\n    <tr>\n      <th>8.0</th>\n      <td>108.764800</td>\n      <td>20</td>\n    </tr>\n    <tr>\n      <th>9.0</th>\n      <td>88.868250</td>\n      <td>4</td>\n    </tr>\n    <tr>\n      <th>10.0</th>\n      <td>60.995889</td>\n      <td>9</td>\n    </tr>\n    <tr>\n      <th>11.0</th>\n      <td>39.490000</td>\n      <td>3</td>\n    </tr>\n    <tr>\n      <th>12.0</th>\n      <td>184.336750</td>\n      <td>4</td>\n    </tr>\n    <tr>\n      <th>13.0</th>\n      <td>153.523500</td>\n      <td>2</td>\n    </tr>\n    <tr>\n      <th>14.0</th>\n      <td>27.907000</td>\n      <td>1</td>\n    </tr>\n    <tr>\n      <th>15.0</th>\n      <td>66.385667</td>\n      <td>3</td>\n    </tr>\n    <tr>\n      <th>20.0</th>\n      <td>99.518000</td>\n      <td>5</td>\n    </tr>\n    <tr>\n      <th>22.0</th>\n      <td>41.007000</td>\n      <td>1</td>\n    </tr>\n    <tr>\n      <th>29.0</th>\n      <td>158.466000</td>\n      <td>1</td>\n    </tr>\n    <tr>\n      <th>40.0</th>\n      <td>48.395000</td>\n      <td>2</td>\n    </tr>\n    <tr>\n      <th>50.0</th>\n      <td>46.037000</td>\n      <td>1</td>\n    </tr>\n    <tr>\n      <th>60.0</th>\n      <td>26.153000</td>\n      <td>1</td>\n    </tr>\n    <tr>\n      <th>100.0</th>\n      <td>40.656000</td>\n      <td>1</td>\n    </tr>\n    <tr>\n      <th>137.0</th>\n      <td>50.307000</td>\n      <td>2</td>\n    </tr>\n  </tbody>\n</table>\n</div>"
     },
     "execution_count": 41,
     "metadata": {},
     "output_type": "execute_result"
    }
   ],
   "source": [
    "df.groupby('Quantity').agg({'prep_time': 'mean', 'Order_Number': 'size'}).rename(columns={'Order_Number': 'Count'})"
   ],
   "metadata": {
    "collapsed": false
   }
  },
  {
   "cell_type": "code",
   "execution_count": 42,
   "outputs": [
    {
     "name": "stdout",
     "output_type": "stream",
     "text": [
      "(156159, 11)\n"
     ]
    },
    {
     "data": {
      "text/plain": "       Location_Code           Order_Date  Order_Number  Driver_Shift  \\\n92935       DPI66576  2022-07-01 00:00:00             1           0.0   \n158804      DPI66154  2022-07-01 00:00:00             1           1.0   \n33904       DPI66576  2022-07-01 00:00:00             2           0.0   \n69467       DPI66576  2022-07-01 00:00:00             2           0.0   \n53156       DPI66449  2022-07-01 00:00:00             2           1.0   \n\n          Kitchen_Display_Time               Oven_Time Menu_Code  \\\n92935  2022-07-01 11:06:45.417 2022-07-01 11:07:26.867   PIZ0200   \n158804 2022-07-01 11:06:53.140 2022-07-01 11:09:58.387   PIZ5106   \n33904  2022-07-01 11:12:01.983 2022-07-01 11:13:30.210   PIZ0121   \n69467  2022-07-01 11:12:01.983 2022-07-01 11:13:30.697   PIZ0120   \n53156  2022-07-01 11:12:33.490 2022-07-01 11:13:58.503   PIZ0130   \n\n                     Item Description  Quantity            Delivery_Time  \\\n92935     Corn n Cheese Paratha Pizza       1.0                      NaN   \n158804                Chicken Sausage       1.0  2022-07-01 11:24:46.000   \n33904              VG2-1Mexican Green       1.0  2022-07-01 11:26:48.840   \n69467               VG2-1Peppy Paneer       1.0  2022-07-01 11:26:48.840   \n53156   _PM39-Pizza Mania Golden Corn       1.0  2022-07-01 11:32:00.000   \n\n        prep_time  \n92935      41.450  \n158804    185.247  \n33904      88.227  \n69467      88.714  \n53156      85.013  ",
      "text/html": "<div>\n<style scoped>\n    .dataframe tbody tr th:only-of-type {\n        vertical-align: middle;\n    }\n\n    .dataframe tbody tr th {\n        vertical-align: top;\n    }\n\n    .dataframe thead th {\n        text-align: right;\n    }\n</style>\n<table border=\"1\" class=\"dataframe\">\n  <thead>\n    <tr style=\"text-align: right;\">\n      <th></th>\n      <th>Location_Code</th>\n      <th>Order_Date</th>\n      <th>Order_Number</th>\n      <th>Driver_Shift</th>\n      <th>Kitchen_Display_Time</th>\n      <th>Oven_Time</th>\n      <th>Menu_Code</th>\n      <th>Item Description</th>\n      <th>Quantity</th>\n      <th>Delivery_Time</th>\n      <th>prep_time</th>\n    </tr>\n  </thead>\n  <tbody>\n    <tr>\n      <th>92935</th>\n      <td>DPI66576</td>\n      <td>2022-07-01 00:00:00</td>\n      <td>1</td>\n      <td>0.0</td>\n      <td>2022-07-01 11:06:45.417</td>\n      <td>2022-07-01 11:07:26.867</td>\n      <td>PIZ0200</td>\n      <td>Corn n Cheese Paratha Pizza</td>\n      <td>1.0</td>\n      <td>NaN</td>\n      <td>41.450</td>\n    </tr>\n    <tr>\n      <th>158804</th>\n      <td>DPI66154</td>\n      <td>2022-07-01 00:00:00</td>\n      <td>1</td>\n      <td>1.0</td>\n      <td>2022-07-01 11:06:53.140</td>\n      <td>2022-07-01 11:09:58.387</td>\n      <td>PIZ5106</td>\n      <td>Chicken Sausage</td>\n      <td>1.0</td>\n      <td>2022-07-01 11:24:46.000</td>\n      <td>185.247</td>\n    </tr>\n    <tr>\n      <th>33904</th>\n      <td>DPI66576</td>\n      <td>2022-07-01 00:00:00</td>\n      <td>2</td>\n      <td>0.0</td>\n      <td>2022-07-01 11:12:01.983</td>\n      <td>2022-07-01 11:13:30.210</td>\n      <td>PIZ0121</td>\n      <td>VG2-1Mexican Green</td>\n      <td>1.0</td>\n      <td>2022-07-01 11:26:48.840</td>\n      <td>88.227</td>\n    </tr>\n    <tr>\n      <th>69467</th>\n      <td>DPI66576</td>\n      <td>2022-07-01 00:00:00</td>\n      <td>2</td>\n      <td>0.0</td>\n      <td>2022-07-01 11:12:01.983</td>\n      <td>2022-07-01 11:13:30.697</td>\n      <td>PIZ0120</td>\n      <td>VG2-1Peppy Paneer</td>\n      <td>1.0</td>\n      <td>2022-07-01 11:26:48.840</td>\n      <td>88.714</td>\n    </tr>\n    <tr>\n      <th>53156</th>\n      <td>DPI66449</td>\n      <td>2022-07-01 00:00:00</td>\n      <td>2</td>\n      <td>1.0</td>\n      <td>2022-07-01 11:12:33.490</td>\n      <td>2022-07-01 11:13:58.503</td>\n      <td>PIZ0130</td>\n      <td>_PM39-Pizza Mania Golden Corn</td>\n      <td>1.0</td>\n      <td>2022-07-01 11:32:00.000</td>\n      <td>85.013</td>\n    </tr>\n  </tbody>\n</table>\n</div>"
     },
     "execution_count": 42,
     "metadata": {},
     "output_type": "execute_result"
    }
   ],
   "source": [
    "isThresholdForQuantity = True\n",
    "thresholdQuantity = 10\n",
    "if isThresholdForQuantity:\n",
    "    df = df.loc[(df['Quantity'] <= 10)]\n",
    "print(df.shape)\n",
    "df.head()"
   ],
   "metadata": {
    "collapsed": false
   }
  },
  {
   "cell_type": "code",
   "execution_count": 43,
   "outputs": [
    {
     "name": "stdout",
     "output_type": "stream",
     "text": [
      "Total items after pruning on item quantity : 156159\n"
     ]
    }
   ],
   "source": [
    "print(\"Total items after pruning on item quantity : \"+str(len(df.index)))"
   ],
   "metadata": {
    "collapsed": false
   }
  },
  {
   "cell_type": "code",
   "execution_count": 45,
   "id": "4877e791",
   "metadata": {
    "ExecuteTime": {
     "end_time": "2023-02-28T08:35:55.688660Z",
     "start_time": "2023-02-28T08:35:55.652761Z"
    }
   },
   "outputs": [
    {
     "name": "stdout",
     "output_type": "stream",
     "text": [
      "Total types of items: 146\n",
      "Total stores in Bhopal : 12\n"
     ]
    }
   ],
   "source": [
    "allMenuCodes = df['Menu_Code'].unique()\n",
    "allStoreIds = df['Location_Code'].unique()\n",
    "# allMenuCodes, allStoreIds\n",
    "print(\"Total types of items: \"+str(len(allMenuCodes)))\n",
    "print(f\"Total stores in {city} : \" + str(len(allStoreIds)))"
   ]
  },
  {
   "cell_type": "code",
   "execution_count": 46,
   "id": "dd82fb15",
   "metadata": {
    "ExecuteTime": {
     "end_time": "2023-02-28T08:35:58.631602Z",
     "start_time": "2023-02-28T08:35:58.453295Z"
    }
   },
   "outputs": [],
   "source": [
    "restWiseDFs = {}\n",
    "for storeId in allStoreIds:\n",
    "    restWiseDFs[storeId] = df.loc[df['Location_Code'] == storeId]"
   ]
  },
  {
   "cell_type": "code",
   "execution_count": 47,
   "outputs": [],
   "source": [
    "def get_preparation_time(item):\n",
    "    return item['prep_time']"
   ],
   "metadata": {
    "collapsed": false
   }
  },
  {
   "cell_type": "code",
   "execution_count": 48,
   "id": "3259a2ba",
   "metadata": {
    "ExecuteTime": {
     "end_time": "2023-02-28T08:35:59.952496Z",
     "start_time": "2023-02-28T08:35:59.280847Z"
    }
   },
   "outputs": [],
   "source": [
    "sampleItem=None\n",
    "for index, item in df.iterrows():\n",
    "    sampleItem = item\n",
    "    break"
   ]
  },
  {
   "cell_type": "code",
   "execution_count": 49,
   "id": "4ed902e2",
   "metadata": {
    "ExecuteTime": {
     "end_time": "2023-02-28T08:36:00.191400Z",
     "start_time": "2023-02-28T08:36:00.179285Z"
    }
   },
   "outputs": [],
   "source": [
    "# Feature 1: store id\n",
    "def getOneHotEncodingStore(storeId, stores=allStoreIds):\n",
    "    oneHotEncodingList = []\n",
    "    for i in range(0, len(stores)):\n",
    "        if stores[i] == storeId:\n",
    "            oneHotEncodingList.append(1)\n",
    "        else:\n",
    "            oneHotEncodingList.append(0)\n",
    "    return oneHotEncodingList\n",
    "\n",
    "# returns the feature store id for an order\n",
    "def getStoreId(item, isOneHotEncodingRequired=False):\n",
    "    if isOneHotEncodingRequired:\n",
    "        return getOneHotEncodingStore(item['Location_Code'], allStoreIds)\n",
    "    else:\n",
    "        for i in range(0, len(allStoreIds)):\n",
    "            if item['Location_Code'] == allStoreIds[i]:\n",
    "                return [i+1]\n",
    "        return [-1]"
   ]
  },
  {
   "cell_type": "code",
   "execution_count": 50,
   "outputs": [],
   "source": [
    "# Feature 2 : Day of the week\n",
    "def dayOfTheWeek(dt, isOneHotEncodingRequired=False):\n",
    "    day = dt.weekday()\n",
    "    if isOneHotEncodingRequired:\n",
    "        days = [0, 0, 0, 0, 0, 0, 0]\n",
    "        days[day] = 1\n",
    "        return days\n",
    "    else:\n",
    "        return [day+1]"
   ],
   "metadata": {
    "collapsed": false
   }
  },
  {
   "cell_type": "code",
   "execution_count": 51,
   "id": "517c95d9",
   "metadata": {
    "ExecuteTime": {
     "end_time": "2023-02-28T08:36:01.416512Z",
     "start_time": "2023-02-28T08:36:01.408823Z"
    }
   },
   "outputs": [
    {
     "name": "stdout",
     "output_type": "stream",
     "text": [
      "[1]\n",
      "[1, 0, 0, 0, 0, 0, 0, 0, 0, 0, 0, 0]\n"
     ]
    }
   ],
   "source": [
    "print(getStoreId(sampleItem))\n",
    "print(getStoreId(sampleItem, True))"
   ]
  },
  {
   "cell_type": "code",
   "execution_count": 52,
   "outputs": [],
   "source": [
    "# Feature 3: TimeSlot of kitchen display time\n",
    "total_slots = 24\n",
    "def getTimeslot(dt, slots=total_slots):\n",
    "\tcurrent = datetime(2011, 1, 1)\n",
    "\tt1 = current.time()\n",
    "\tt2 = dt.time()\n",
    "\tfor i in range(0, slots):\n",
    "\t\tcurrent = current + timedelta(minutes = 60*24/slots)\n",
    "\t\tif current.time() > t2:\n",
    "\t\t\treturn i\n",
    "\treturn slots-1\n",
    "\n",
    "def getOneHotEncodingTimeSlot(timeslot):\n",
    "    oneHotEncodingList = []\n",
    "    for i in range(0, 24):\n",
    "        oneHotEncodingList.append(0)\n",
    "    oneHotEncodingList[timeslot] = 1\n",
    "    return oneHotEncodingList\n",
    "\n",
    "def getTimeSlotOfKitchenDisplayTime(item, isOneHotEncodingRequired=False):\n",
    "    timeslot = getTimeslot(item['Kitchen_Display_Time'], 24)\n",
    "    if isOneHotEncodingRequired:\n",
    "        return getOneHotEncodingTimeSlot(timeslot)\n",
    "    else:\n",
    "        return [timeslot+1]"
   ],
   "metadata": {
    "collapsed": false
   }
  },
  {
   "cell_type": "code",
   "execution_count": 56,
   "id": "73180e66",
   "metadata": {
    "ExecuteTime": {
     "end_time": "2023-02-28T08:36:02.082003Z",
     "start_time": "2023-02-28T08:36:02.070144Z"
    }
   },
   "outputs": [],
   "source": [
    "# Feature 4: Item Type\n",
    "def getOneHotEncodedItemList(item, items=allMenuCodes, clubCategoryWise=False):\n",
    "    if clubCategoryWise:\n",
    "        newItemsList = []\n",
    "        newItemsList = [i[0:3] for i in items]\n",
    "        unique_items = list(dict.fromkeys(newItemsList))\n",
    "        return getOneHotEncodedItemList(item[0:3], unique_items, False)\n",
    "    \n",
    "    oneHotEncodingList=[]\n",
    "    for i in range(0, len(items)):\n",
    "        if items[i] == item:\n",
    "            oneHotEncodingList.append(1)\n",
    "        else:\n",
    "            oneHotEncodingList.append(0)\n",
    "    return oneHotEncodingList\n",
    "\n",
    "def getItemType(item, clubCategoryWise=False, isOneHotEncodingRequired=False):\n",
    "    if isOneHotEncodingRequired:\n",
    "        return getOneHotEncodedItemList(item['Menu_Code'], allMenuCodes, clubCategoryWise)\n",
    "    else:\n",
    "        for i in range(0, len(allMenuCodes)):\n",
    "            if allMenuCodes[i] == item['Menu_Code']:\n",
    "                return [i+1]\n",
    "        print(\"DANGER DANGER DANGER \\n\\n\\n\")\n",
    "        return [-1]"
   ]
  },
  {
   "cell_type": "code",
   "execution_count": 57,
   "id": "042b3f08",
   "metadata": {
    "ExecuteTime": {
     "end_time": "2023-02-28T08:36:02.863557Z",
     "start_time": "2023-02-28T08:36:02.854853Z"
    }
   },
   "outputs": [
    {
     "name": "stdout",
     "output_type": "stream",
     "text": [
      "[1, 0, 0, 0, 0, 0, 0, 0, 0, 0, 0, 0, 0, 0, 0, 0, 0, 0, 0, 0, 0, 0, 0, 0, 0, 0, 0, 0, 0, 0, 0, 0, 0, 0, 0, 0, 0, 0, 0, 0, 0, 0, 0, 0, 0, 0, 0, 0, 0, 0, 0, 0, 0, 0, 0, 0, 0, 0, 0, 0, 0, 0, 0, 0, 0, 0, 0, 0, 0, 0, 0, 0, 0, 0, 0, 0, 0, 0, 0, 0, 0, 0, 0, 0, 0, 0, 0, 0, 0, 0, 0, 0, 0, 0, 0, 0, 0, 0, 0, 0, 0, 0, 0, 0, 0, 0, 0, 0, 0, 0, 0, 0, 0, 0, 0, 0, 0, 0, 0, 0, 0, 0, 0, 0, 0, 0, 0, 0, 0, 0, 0, 0, 0, 0, 0, 0, 0, 0, 0, 0, 0, 0, 0, 0, 0, 0]\n",
      "[1]\n",
      "[1]\n",
      "[1]\n"
     ]
    }
   ],
   "source": [
    "print(getItemType(sampleItem, False, True))\n",
    "print(getItemType(sampleItem, True, False))\n",
    "print(getItemType(sampleItem, clubCategoryWise=True))\n",
    "print(getItemType(sampleItem, True))"
   ]
  },
  {
   "cell_type": "code",
   "execution_count": 58,
   "id": "98906d7e",
   "metadata": {
    "ExecuteTime": {
     "end_time": "2023-02-28T08:36:05.589483Z",
     "start_time": "2023-02-28T08:36:05.580174Z"
    }
   },
   "outputs": [],
   "source": [
    "# Feature 5 : Count of all baking items of all orders received by the store in the last 30 minutes.\n",
    "\n",
    "def countPastOrders(item, slotTime=30):\n",
    "    storeId = item['Location_Code']\n",
    "    df = restWiseDFs[storeId]\n",
    "    dtKitchenDisplay = item['Kitchen_Display_Time']\n",
    "    lastTime = dtKitchenDisplay - timedelta(minutes=slotTime)\n",
    "    return len(df.loc[(df['Kitchen_Display_Time'] >= lastTime) & \\\n",
    "          (df['Kitchen_Display_Time'] <= dtKitchenDisplay)].index)"
   ]
  },
  {
   "cell_type": "code",
   "execution_count": 59,
   "outputs": [],
   "source": [
    "# Feature 6: ratio of items in last 30 minutes with items in the window of last 60 to 30 minutes (increment in orders)\n",
    "def getLiftInOrders(item, slotTime = 30):\n",
    "    a = countPastOrders(item, slotTime)\n",
    "    item2 = item\n",
    "    item2['Kitchen_Display_Time'] = item2['Kitchen_Display_Time'] - timedelta(minutes=slotTime)\n",
    "    b = countPastOrders(item2, slotTime)\n",
    "    if b != 0:\n",
    "        return a/b\n",
    "    else:\n",
    "        return 1\n"
   ],
   "metadata": {
    "collapsed": false
   }
  },
  {
   "cell_type": "code",
   "execution_count": 60,
   "id": "13d55221",
   "metadata": {
    "ExecuteTime": {
     "end_time": "2023-02-28T08:40:26.666331Z",
     "start_time": "2023-02-28T08:36:14.903833Z"
    },
    "scrolled": true
   },
   "outputs": [
    {
     "name": "stderr",
     "output_type": "stream",
     "text": [
      "/var/folders/44/wjytndj97cq3yq4r22tkb6t00000gn/T/ipykernel_12303/858425418.py:6: SettingWithCopyWarning: \n",
      "A value is trying to be set on a copy of a slice from a DataFrame.\n",
      "Try using .loc[row_indexer,col_indexer] = value instead\n",
      "\n",
      "See the caveats in the documentation: https://pandas.pydata.org/pandas-docs/stable/user_guide/indexing.html#returning-a-view-versus-a-copy\n",
      "  restWiseDFs[storeId]['avg_kpt_in_last_one_hour'] = 0 # to create a new column with initial values 0\n",
      "/var/folders/44/wjytndj97cq3yq4r22tkb6t00000gn/T/ipykernel_12303/858425418.py:7: SettingWithCopyWarning: \n",
      "A value is trying to be set on a copy of a slice from a DataFrame.\n",
      "Try using .loc[row_indexer,col_indexer] = value instead\n",
      "\n",
      "See the caveats in the documentation: https://pandas.pydata.org/pandas-docs/stable/user_guide/indexing.html#returning-a-view-versus-a-copy\n",
      "  restWiseDFs[storeId]['avg_kpt_in_last_7_days'] = 0\n",
      "/var/folders/44/wjytndj97cq3yq4r22tkb6t00000gn/T/ipykernel_12303/858425418.py:6: SettingWithCopyWarning: \n",
      "A value is trying to be set on a copy of a slice from a DataFrame.\n",
      "Try using .loc[row_indexer,col_indexer] = value instead\n",
      "\n",
      "See the caveats in the documentation: https://pandas.pydata.org/pandas-docs/stable/user_guide/indexing.html#returning-a-view-versus-a-copy\n",
      "  restWiseDFs[storeId]['avg_kpt_in_last_one_hour'] = 0 # to create a new column with initial values 0\n",
      "/var/folders/44/wjytndj97cq3yq4r22tkb6t00000gn/T/ipykernel_12303/858425418.py:7: SettingWithCopyWarning: \n",
      "A value is trying to be set on a copy of a slice from a DataFrame.\n",
      "Try using .loc[row_indexer,col_indexer] = value instead\n",
      "\n",
      "See the caveats in the documentation: https://pandas.pydata.org/pandas-docs/stable/user_guide/indexing.html#returning-a-view-versus-a-copy\n",
      "  restWiseDFs[storeId]['avg_kpt_in_last_7_days'] = 0\n",
      "/var/folders/44/wjytndj97cq3yq4r22tkb6t00000gn/T/ipykernel_12303/858425418.py:6: SettingWithCopyWarning: \n",
      "A value is trying to be set on a copy of a slice from a DataFrame.\n",
      "Try using .loc[row_indexer,col_indexer] = value instead\n",
      "\n",
      "See the caveats in the documentation: https://pandas.pydata.org/pandas-docs/stable/user_guide/indexing.html#returning-a-view-versus-a-copy\n",
      "  restWiseDFs[storeId]['avg_kpt_in_last_one_hour'] = 0 # to create a new column with initial values 0\n",
      "/var/folders/44/wjytndj97cq3yq4r22tkb6t00000gn/T/ipykernel_12303/858425418.py:7: SettingWithCopyWarning: \n",
      "A value is trying to be set on a copy of a slice from a DataFrame.\n",
      "Try using .loc[row_indexer,col_indexer] = value instead\n",
      "\n",
      "See the caveats in the documentation: https://pandas.pydata.org/pandas-docs/stable/user_guide/indexing.html#returning-a-view-versus-a-copy\n",
      "  restWiseDFs[storeId]['avg_kpt_in_last_7_days'] = 0\n",
      "/var/folders/44/wjytndj97cq3yq4r22tkb6t00000gn/T/ipykernel_12303/858425418.py:6: SettingWithCopyWarning: \n",
      "A value is trying to be set on a copy of a slice from a DataFrame.\n",
      "Try using .loc[row_indexer,col_indexer] = value instead\n",
      "\n",
      "See the caveats in the documentation: https://pandas.pydata.org/pandas-docs/stable/user_guide/indexing.html#returning-a-view-versus-a-copy\n",
      "  restWiseDFs[storeId]['avg_kpt_in_last_one_hour'] = 0 # to create a new column with initial values 0\n",
      "/var/folders/44/wjytndj97cq3yq4r22tkb6t00000gn/T/ipykernel_12303/858425418.py:7: SettingWithCopyWarning: \n",
      "A value is trying to be set on a copy of a slice from a DataFrame.\n",
      "Try using .loc[row_indexer,col_indexer] = value instead\n",
      "\n",
      "See the caveats in the documentation: https://pandas.pydata.org/pandas-docs/stable/user_guide/indexing.html#returning-a-view-versus-a-copy\n",
      "  restWiseDFs[storeId]['avg_kpt_in_last_7_days'] = 0\n",
      "/var/folders/44/wjytndj97cq3yq4r22tkb6t00000gn/T/ipykernel_12303/858425418.py:6: SettingWithCopyWarning: \n",
      "A value is trying to be set on a copy of a slice from a DataFrame.\n",
      "Try using .loc[row_indexer,col_indexer] = value instead\n",
      "\n",
      "See the caveats in the documentation: https://pandas.pydata.org/pandas-docs/stable/user_guide/indexing.html#returning-a-view-versus-a-copy\n",
      "  restWiseDFs[storeId]['avg_kpt_in_last_one_hour'] = 0 # to create a new column with initial values 0\n",
      "/var/folders/44/wjytndj97cq3yq4r22tkb6t00000gn/T/ipykernel_12303/858425418.py:7: SettingWithCopyWarning: \n",
      "A value is trying to be set on a copy of a slice from a DataFrame.\n",
      "Try using .loc[row_indexer,col_indexer] = value instead\n",
      "\n",
      "See the caveats in the documentation: https://pandas.pydata.org/pandas-docs/stable/user_guide/indexing.html#returning-a-view-versus-a-copy\n",
      "  restWiseDFs[storeId]['avg_kpt_in_last_7_days'] = 0\n",
      "/var/folders/44/wjytndj97cq3yq4r22tkb6t00000gn/T/ipykernel_12303/858425418.py:6: SettingWithCopyWarning: \n",
      "A value is trying to be set on a copy of a slice from a DataFrame.\n",
      "Try using .loc[row_indexer,col_indexer] = value instead\n",
      "\n",
      "See the caveats in the documentation: https://pandas.pydata.org/pandas-docs/stable/user_guide/indexing.html#returning-a-view-versus-a-copy\n",
      "  restWiseDFs[storeId]['avg_kpt_in_last_one_hour'] = 0 # to create a new column with initial values 0\n",
      "/var/folders/44/wjytndj97cq3yq4r22tkb6t00000gn/T/ipykernel_12303/858425418.py:7: SettingWithCopyWarning: \n",
      "A value is trying to be set on a copy of a slice from a DataFrame.\n",
      "Try using .loc[row_indexer,col_indexer] = value instead\n",
      "\n",
      "See the caveats in the documentation: https://pandas.pydata.org/pandas-docs/stable/user_guide/indexing.html#returning-a-view-versus-a-copy\n",
      "  restWiseDFs[storeId]['avg_kpt_in_last_7_days'] = 0\n",
      "/var/folders/44/wjytndj97cq3yq4r22tkb6t00000gn/T/ipykernel_12303/858425418.py:6: SettingWithCopyWarning: \n",
      "A value is trying to be set on a copy of a slice from a DataFrame.\n",
      "Try using .loc[row_indexer,col_indexer] = value instead\n",
      "\n",
      "See the caveats in the documentation: https://pandas.pydata.org/pandas-docs/stable/user_guide/indexing.html#returning-a-view-versus-a-copy\n",
      "  restWiseDFs[storeId]['avg_kpt_in_last_one_hour'] = 0 # to create a new column with initial values 0\n",
      "/var/folders/44/wjytndj97cq3yq4r22tkb6t00000gn/T/ipykernel_12303/858425418.py:7: SettingWithCopyWarning: \n",
      "A value is trying to be set on a copy of a slice from a DataFrame.\n",
      "Try using .loc[row_indexer,col_indexer] = value instead\n",
      "\n",
      "See the caveats in the documentation: https://pandas.pydata.org/pandas-docs/stable/user_guide/indexing.html#returning-a-view-versus-a-copy\n",
      "  restWiseDFs[storeId]['avg_kpt_in_last_7_days'] = 0\n",
      "/var/folders/44/wjytndj97cq3yq4r22tkb6t00000gn/T/ipykernel_12303/858425418.py:6: SettingWithCopyWarning: \n",
      "A value is trying to be set on a copy of a slice from a DataFrame.\n",
      "Try using .loc[row_indexer,col_indexer] = value instead\n",
      "\n",
      "See the caveats in the documentation: https://pandas.pydata.org/pandas-docs/stable/user_guide/indexing.html#returning-a-view-versus-a-copy\n",
      "  restWiseDFs[storeId]['avg_kpt_in_last_one_hour'] = 0 # to create a new column with initial values 0\n",
      "/var/folders/44/wjytndj97cq3yq4r22tkb6t00000gn/T/ipykernel_12303/858425418.py:7: SettingWithCopyWarning: \n",
      "A value is trying to be set on a copy of a slice from a DataFrame.\n",
      "Try using .loc[row_indexer,col_indexer] = value instead\n",
      "\n",
      "See the caveats in the documentation: https://pandas.pydata.org/pandas-docs/stable/user_guide/indexing.html#returning-a-view-versus-a-copy\n",
      "  restWiseDFs[storeId]['avg_kpt_in_last_7_days'] = 0\n",
      "/var/folders/44/wjytndj97cq3yq4r22tkb6t00000gn/T/ipykernel_12303/858425418.py:6: SettingWithCopyWarning: \n",
      "A value is trying to be set on a copy of a slice from a DataFrame.\n",
      "Try using .loc[row_indexer,col_indexer] = value instead\n",
      "\n",
      "See the caveats in the documentation: https://pandas.pydata.org/pandas-docs/stable/user_guide/indexing.html#returning-a-view-versus-a-copy\n",
      "  restWiseDFs[storeId]['avg_kpt_in_last_one_hour'] = 0 # to create a new column with initial values 0\n",
      "/var/folders/44/wjytndj97cq3yq4r22tkb6t00000gn/T/ipykernel_12303/858425418.py:7: SettingWithCopyWarning: \n",
      "A value is trying to be set on a copy of a slice from a DataFrame.\n",
      "Try using .loc[row_indexer,col_indexer] = value instead\n",
      "\n",
      "See the caveats in the documentation: https://pandas.pydata.org/pandas-docs/stable/user_guide/indexing.html#returning-a-view-versus-a-copy\n",
      "  restWiseDFs[storeId]['avg_kpt_in_last_7_days'] = 0\n",
      "/var/folders/44/wjytndj97cq3yq4r22tkb6t00000gn/T/ipykernel_12303/858425418.py:6: SettingWithCopyWarning: \n",
      "A value is trying to be set on a copy of a slice from a DataFrame.\n",
      "Try using .loc[row_indexer,col_indexer] = value instead\n",
      "\n",
      "See the caveats in the documentation: https://pandas.pydata.org/pandas-docs/stable/user_guide/indexing.html#returning-a-view-versus-a-copy\n",
      "  restWiseDFs[storeId]['avg_kpt_in_last_one_hour'] = 0 # to create a new column with initial values 0\n",
      "/var/folders/44/wjytndj97cq3yq4r22tkb6t00000gn/T/ipykernel_12303/858425418.py:7: SettingWithCopyWarning: \n",
      "A value is trying to be set on a copy of a slice from a DataFrame.\n",
      "Try using .loc[row_indexer,col_indexer] = value instead\n",
      "\n",
      "See the caveats in the documentation: https://pandas.pydata.org/pandas-docs/stable/user_guide/indexing.html#returning-a-view-versus-a-copy\n",
      "  restWiseDFs[storeId]['avg_kpt_in_last_7_days'] = 0\n",
      "/var/folders/44/wjytndj97cq3yq4r22tkb6t00000gn/T/ipykernel_12303/858425418.py:6: SettingWithCopyWarning: \n",
      "A value is trying to be set on a copy of a slice from a DataFrame.\n",
      "Try using .loc[row_indexer,col_indexer] = value instead\n",
      "\n",
      "See the caveats in the documentation: https://pandas.pydata.org/pandas-docs/stable/user_guide/indexing.html#returning-a-view-versus-a-copy\n",
      "  restWiseDFs[storeId]['avg_kpt_in_last_one_hour'] = 0 # to create a new column with initial values 0\n",
      "/var/folders/44/wjytndj97cq3yq4r22tkb6t00000gn/T/ipykernel_12303/858425418.py:7: SettingWithCopyWarning: \n",
      "A value is trying to be set on a copy of a slice from a DataFrame.\n",
      "Try using .loc[row_indexer,col_indexer] = value instead\n",
      "\n",
      "See the caveats in the documentation: https://pandas.pydata.org/pandas-docs/stable/user_guide/indexing.html#returning-a-view-versus-a-copy\n",
      "  restWiseDFs[storeId]['avg_kpt_in_last_7_days'] = 0\n",
      "/var/folders/44/wjytndj97cq3yq4r22tkb6t00000gn/T/ipykernel_12303/858425418.py:6: SettingWithCopyWarning: \n",
      "A value is trying to be set on a copy of a slice from a DataFrame.\n",
      "Try using .loc[row_indexer,col_indexer] = value instead\n",
      "\n",
      "See the caveats in the documentation: https://pandas.pydata.org/pandas-docs/stable/user_guide/indexing.html#returning-a-view-versus-a-copy\n",
      "  restWiseDFs[storeId]['avg_kpt_in_last_one_hour'] = 0 # to create a new column with initial values 0\n",
      "/var/folders/44/wjytndj97cq3yq4r22tkb6t00000gn/T/ipykernel_12303/858425418.py:7: SettingWithCopyWarning: \n",
      "A value is trying to be set on a copy of a slice from a DataFrame.\n",
      "Try using .loc[row_indexer,col_indexer] = value instead\n",
      "\n",
      "See the caveats in the documentation: https://pandas.pydata.org/pandas-docs/stable/user_guide/indexing.html#returning-a-view-versus-a-copy\n",
      "  restWiseDFs[storeId]['avg_kpt_in_last_7_days'] = 0\n"
     ]
    }
   ],
   "source": [
    "# TIME CONSUMING (4 m 14 seconds for Bhopal)\n",
    "# Feature 7 : Avg prep time of the same item in the same store in last 60 minutes.\n",
    "# Feature 8 : Avg prep time of the same item in the same store in last 7 days.\n",
    "for storeId in restWiseDFs:\n",
    "    avgPrepTime = restWiseDFs[storeId]['prep_time'].mean()    \n",
    "    restWiseDFs[storeId]['avg_kpt_in_last_one_hour'] = 0 # to create a new column with initial values 0\n",
    "    restWiseDFs[storeId]['avg_kpt_in_last_7_days'] = 0\n",
    "    for index, item in restWiseDFs[storeId].iterrows():\n",
    "        itemCode = item['Menu_Code']\n",
    "        dtKitchenDisplay = item['Kitchen_Display_Time']\n",
    "        lastTimeMinutes = dtKitchenDisplay - timedelta(minutes=60)\n",
    "        lastTime = dtKitchenDisplay - timedelta(days=7)\n",
    "        df3 = restWiseDFs[storeId].loc[(restWiseDFs[storeId]['Kitchen_Display_Time'] >= lastTime) & \\\n",
    "                     (restWiseDFs[storeId]['Kitchen_Display_Time'] < dtKitchenDisplay) & \\\n",
    "                                 (restWiseDFs[storeId]['Menu_Code'] == itemCode)]\n",
    "        df2 = df3.loc[df3['Kitchen_Display_Time'] >= lastTimeMinutes]\n",
    "        if len(df2.index) != 0:\n",
    "            restWiseDFs[storeId].at[index, 'avg_kpt_in_last_one_hour'] = df2['prep_time'].mean()\n",
    "        else:\n",
    "            restWiseDFs[storeId].at[index, 'avg_kpt_in_last_one_hour'] =  avgPrepTime\n",
    "        if len(df3.index) != 0:\n",
    "            restWiseDFs[storeId].at[index, 'avg_kpt_in_last_7_days'] = df3['prep_time'].mean()\n",
    "        else:\n",
    "            restWiseDFs[storeId].at[index, 'avg_kpt_in_last_7_days'] =  avgPrepTime\n"
   ]
  },
  {
   "cell_type": "code",
   "execution_count": 61,
   "outputs": [],
   "source": [
    "def getPreviousPrepTime(item, timeslot = 60):\n",
    "    if timeslot == 60:\n",
    "        return item['avg_kpt_in_last_one_hour']\n",
    "    elif timeslot == 7*24*60:\n",
    "        return item['avg_kpt_in_last_7_days']\n",
    "    else:\n",
    "        itemCode = item['Menu_Code']\n",
    "        df = restWiseDFs[item['Location_Code']]\n",
    "\n",
    "        dtKitchenDisplay = item['Kitchen_Display_Time']\n",
    "\n",
    "        lastTime = dtKitchenDisplay - timedelta(minutes=timeslot)\n",
    "\n",
    "        df2 = df.loc[(df['Kitchen_Display_Time'] >= lastTime) & \\\n",
    "                     (df['Kitchen_Display_Time'] < dtKitchenDisplay) & \\\n",
    "                                 (df['Menu_Code'] == itemCode)]\n",
    "        if len(df2.index) != 0:\n",
    "            return df2['prep_time'].mean()\n",
    "        else:\n",
    "            return restWiseDFs[storeId]['prep_time'].mean()"
   ],
   "metadata": {
    "collapsed": false
   }
  },
  {
   "cell_type": "code",
   "execution_count": 62,
   "outputs": [
    {
     "name": "stderr",
     "output_type": "stream",
     "text": [
      "/var/folders/44/wjytndj97cq3yq4r22tkb6t00000gn/T/ipykernel_12303/850736507.py:21: SettingWithCopyWarning: \n",
      "A value is trying to be set on a copy of a slice from a DataFrame.\n",
      "Try using .loc[row_indexer,col_indexer] = value instead\n",
      "\n",
      "See the caveats in the documentation: https://pandas.pydata.org/pandas-docs/stable/user_guide/indexing.html#returning-a-view-versus-a-copy\n",
      "  restWiseDFs[storeId]['hour_wise_avg_kpt_of_the_day'] = hwa\n",
      "/var/folders/44/wjytndj97cq3yq4r22tkb6t00000gn/T/ipykernel_12303/850736507.py:21: SettingWithCopyWarning: \n",
      "A value is trying to be set on a copy of a slice from a DataFrame.\n",
      "Try using .loc[row_indexer,col_indexer] = value instead\n",
      "\n",
      "See the caveats in the documentation: https://pandas.pydata.org/pandas-docs/stable/user_guide/indexing.html#returning-a-view-versus-a-copy\n",
      "  restWiseDFs[storeId]['hour_wise_avg_kpt_of_the_day'] = hwa\n",
      "/var/folders/44/wjytndj97cq3yq4r22tkb6t00000gn/T/ipykernel_12303/850736507.py:21: SettingWithCopyWarning: \n",
      "A value is trying to be set on a copy of a slice from a DataFrame.\n",
      "Try using .loc[row_indexer,col_indexer] = value instead\n",
      "\n",
      "See the caveats in the documentation: https://pandas.pydata.org/pandas-docs/stable/user_guide/indexing.html#returning-a-view-versus-a-copy\n",
      "  restWiseDFs[storeId]['hour_wise_avg_kpt_of_the_day'] = hwa\n",
      "/var/folders/44/wjytndj97cq3yq4r22tkb6t00000gn/T/ipykernel_12303/850736507.py:21: SettingWithCopyWarning: \n",
      "A value is trying to be set on a copy of a slice from a DataFrame.\n",
      "Try using .loc[row_indexer,col_indexer] = value instead\n",
      "\n",
      "See the caveats in the documentation: https://pandas.pydata.org/pandas-docs/stable/user_guide/indexing.html#returning-a-view-versus-a-copy\n",
      "  restWiseDFs[storeId]['hour_wise_avg_kpt_of_the_day'] = hwa\n",
      "/var/folders/44/wjytndj97cq3yq4r22tkb6t00000gn/T/ipykernel_12303/850736507.py:21: SettingWithCopyWarning: \n",
      "A value is trying to be set on a copy of a slice from a DataFrame.\n",
      "Try using .loc[row_indexer,col_indexer] = value instead\n",
      "\n",
      "See the caveats in the documentation: https://pandas.pydata.org/pandas-docs/stable/user_guide/indexing.html#returning-a-view-versus-a-copy\n",
      "  restWiseDFs[storeId]['hour_wise_avg_kpt_of_the_day'] = hwa\n",
      "/var/folders/44/wjytndj97cq3yq4r22tkb6t00000gn/T/ipykernel_12303/850736507.py:21: SettingWithCopyWarning: \n",
      "A value is trying to be set on a copy of a slice from a DataFrame.\n",
      "Try using .loc[row_indexer,col_indexer] = value instead\n",
      "\n",
      "See the caveats in the documentation: https://pandas.pydata.org/pandas-docs/stable/user_guide/indexing.html#returning-a-view-versus-a-copy\n",
      "  restWiseDFs[storeId]['hour_wise_avg_kpt_of_the_day'] = hwa\n",
      "/var/folders/44/wjytndj97cq3yq4r22tkb6t00000gn/T/ipykernel_12303/850736507.py:21: SettingWithCopyWarning: \n",
      "A value is trying to be set on a copy of a slice from a DataFrame.\n",
      "Try using .loc[row_indexer,col_indexer] = value instead\n",
      "\n",
      "See the caveats in the documentation: https://pandas.pydata.org/pandas-docs/stable/user_guide/indexing.html#returning-a-view-versus-a-copy\n",
      "  restWiseDFs[storeId]['hour_wise_avg_kpt_of_the_day'] = hwa\n",
      "/var/folders/44/wjytndj97cq3yq4r22tkb6t00000gn/T/ipykernel_12303/850736507.py:21: SettingWithCopyWarning: \n",
      "A value is trying to be set on a copy of a slice from a DataFrame.\n",
      "Try using .loc[row_indexer,col_indexer] = value instead\n",
      "\n",
      "See the caveats in the documentation: https://pandas.pydata.org/pandas-docs/stable/user_guide/indexing.html#returning-a-view-versus-a-copy\n",
      "  restWiseDFs[storeId]['hour_wise_avg_kpt_of_the_day'] = hwa\n",
      "/var/folders/44/wjytndj97cq3yq4r22tkb6t00000gn/T/ipykernel_12303/850736507.py:21: SettingWithCopyWarning: \n",
      "A value is trying to be set on a copy of a slice from a DataFrame.\n",
      "Try using .loc[row_indexer,col_indexer] = value instead\n",
      "\n",
      "See the caveats in the documentation: https://pandas.pydata.org/pandas-docs/stable/user_guide/indexing.html#returning-a-view-versus-a-copy\n",
      "  restWiseDFs[storeId]['hour_wise_avg_kpt_of_the_day'] = hwa\n",
      "/var/folders/44/wjytndj97cq3yq4r22tkb6t00000gn/T/ipykernel_12303/850736507.py:21: SettingWithCopyWarning: \n",
      "A value is trying to be set on a copy of a slice from a DataFrame.\n",
      "Try using .loc[row_indexer,col_indexer] = value instead\n",
      "\n",
      "See the caveats in the documentation: https://pandas.pydata.org/pandas-docs/stable/user_guide/indexing.html#returning-a-view-versus-a-copy\n",
      "  restWiseDFs[storeId]['hour_wise_avg_kpt_of_the_day'] = hwa\n",
      "/var/folders/44/wjytndj97cq3yq4r22tkb6t00000gn/T/ipykernel_12303/850736507.py:21: SettingWithCopyWarning: \n",
      "A value is trying to be set on a copy of a slice from a DataFrame.\n",
      "Try using .loc[row_indexer,col_indexer] = value instead\n",
      "\n",
      "See the caveats in the documentation: https://pandas.pydata.org/pandas-docs/stable/user_guide/indexing.html#returning-a-view-versus-a-copy\n",
      "  restWiseDFs[storeId]['hour_wise_avg_kpt_of_the_day'] = hwa\n",
      "/var/folders/44/wjytndj97cq3yq4r22tkb6t00000gn/T/ipykernel_12303/850736507.py:21: SettingWithCopyWarning: \n",
      "A value is trying to be set on a copy of a slice from a DataFrame.\n",
      "Try using .loc[row_indexer,col_indexer] = value instead\n",
      "\n",
      "See the caveats in the documentation: https://pandas.pydata.org/pandas-docs/stable/user_guide/indexing.html#returning-a-view-versus-a-copy\n",
      "  restWiseDFs[storeId]['hour_wise_avg_kpt_of_the_day'] = hwa\n"
     ]
    }
   ],
   "source": [
    "# Hourwise avg\n",
    "# Feature 9 : Avg prep time of (hour wise according to the day of the week)\n",
    "hourWiseAvg = {}\n",
    "for store in allStoreIds:\n",
    "    hourWiseAvg[store] = {}\n",
    "    for i in range(1, 8):\n",
    "        hourWiseAvg[store][i] = {}\n",
    "\n",
    "for storeId in allStoreIds:\n",
    "    hwa = []\n",
    "    for index, item in restWiseDFs[storeId].iterrows():\n",
    "        ts = getTimeslot(item['Kitchen_Display_Time'])\n",
    "        d = dayOfTheWeek(item['Kitchen_Display_Time'])[0]\n",
    "        if ts not in hourWiseAvg[storeId][d]:\n",
    "            hourWiseAvg[storeId][d][ts] = {'val': 0, 'cnt': 0}\n",
    "            hwa.append(item['avg_kpt_in_last_7_days'])\n",
    "        else:\n",
    "            hwa.append(hourWiseAvg[storeId][d][ts]['val']/hourWiseAvg[storeId][d][ts]['cnt'])\n",
    "        hourWiseAvg[storeId][d][ts]['val'] += item['prep_time']\n",
    "        hourWiseAvg[storeId][d][ts]['cnt'] += 1\n",
    "    restWiseDFs[storeId]['hour_wise_avg_kpt_of_the_day'] = hwa"
   ],
   "metadata": {
    "collapsed": false
   }
  },
  {
   "cell_type": "code",
   "execution_count": 63,
   "outputs": [],
   "source": [
    "def getHourWiseAverage(item):\n",
    "    return item[\"hour_wise_avg_kpt_of_the_day\"]"
   ],
   "metadata": {
    "collapsed": false
   }
  },
  {
   "cell_type": "code",
   "execution_count": 64,
   "outputs": [],
   "source": [
    "# Feature 10 : Item quantity\n",
    "def getQuantity(item):\n",
    "    return item['Quantity']"
   ],
   "metadata": {
    "collapsed": false
   }
  },
  {
   "cell_type": "code",
   "execution_count": 65,
   "id": "a6c90edd",
   "metadata": {
    "ExecuteTime": {
     "end_time": "2023-02-28T08:42:02.882366Z",
     "start_time": "2023-02-28T08:42:02.873586Z"
    }
   },
   "outputs": [],
   "source": [
    "# Feature 11 : Length of the queue in the store at that time\n",
    "def lengthQueue(item):\n",
    "    dtKitchenDisplay = item['Kitchen_Display_Time']\n",
    "    d = restWiseDFs[item['Location_Code']]\n",
    "    return len(d[(d['Oven_Time'] >= dtKitchenDisplay) & (d['Kitchen_Display_Time'] <= dtKitchenDisplay)].index)"
   ]
  },
  {
   "cell_type": "code",
   "execution_count": 66,
   "id": "7d7f459b",
   "metadata": {
    "ExecuteTime": {
     "end_time": "2023-02-28T08:42:03.546282Z",
     "start_time": "2023-02-28T08:42:03.500500Z"
    }
   },
   "outputs": [],
   "source": [
    "sampleItem=None\n",
    "for index, item in restWiseDFs[storeId].iterrows():\n",
    "    sampleItem = item\n",
    "    break"
   ]
  },
  {
   "cell_type": "code",
   "execution_count": 67,
   "id": "e34eb51d",
   "metadata": {
    "ExecuteTime": {
     "end_time": "2023-02-28T08:42:05.574745Z",
     "start_time": "2023-02-28T08:42:05.562021Z"
    }
   },
   "outputs": [
    {
     "data": {
      "text/plain": "2"
     },
     "execution_count": 67,
     "metadata": {},
     "output_type": "execute_result"
    }
   ],
   "source": [
    "lengthQueue(sampleItem)"
   ]
  },
  {
   "cell_type": "code",
   "execution_count": 68,
   "id": "7b85e23b",
   "metadata": {
    "ExecuteTime": {
     "end_time": "2023-02-28T08:42:05.617072Z",
     "start_time": "2023-02-28T08:42:05.579684Z"
    }
   },
   "outputs": [],
   "source": [
    "# global variables\n",
    "\n",
    "clubItemsCategoryWise = False\n",
    "\n",
    "splitMethod = 'initial 30 days'\n",
    "slotTimeForPastOrders = 30 # minutes\n",
    "\n",
    "model = 'xgboost'\n",
    "isOneHotEncodingRequired = False\n",
    "isNormalizationRequired = False\n",
    "\n",
    "isCentralModel = True"
   ]
  },
  {
   "cell_type": "code",
   "execution_count": 69,
   "id": "636ecf24",
   "metadata": {
    "ExecuteTime": {
     "end_time": "2023-02-28T08:42:05.652421Z",
     "start_time": "2023-02-28T08:42:05.622547Z"
    }
   },
   "outputs": [],
   "source": [
    "def save_object(obj, filename):\n",
    "    with open(filename, 'wb') as outp:  # Overwrites any existing file.\n",
    "        pickle.dump(obj, outp, pickle.HIGHEST_PROTOCOL)"
   ]
  },
  {
   "cell_type": "code",
   "execution_count": 70,
   "id": "d513b5e3",
   "metadata": {
    "ExecuteTime": {
     "end_time": "2023-02-28T08:42:06.511913Z",
     "start_time": "2023-02-28T08:42:05.659169Z"
    }
   },
   "outputs": [],
   "source": [
    "save_object(restWiseDFs, f'restWiseDFsBeforeFeatureCreation{city}.pkl')"
   ]
  },
  {
   "cell_type": "code",
   "execution_count": 71,
   "id": "ecd2d076",
   "metadata": {
    "ExecuteTime": {
     "end_time": "2023-02-28T08:42:07.092365Z",
     "start_time": "2023-02-28T08:42:07.083723Z"
    }
   },
   "outputs": [],
   "source": [
    "totalFeatures = (0 + # store ID (categorical)\n",
    "                1 + # day of the week (categorical)\n",
    "                1 +  #timeslot of the day (categorical)\n",
    "                1 +  # Item type (categorical)\n",
    "                1 +  #count past orders in last 30 minutes\n",
    "                1 +  #ratio lift in last 30 minutes\n",
    "                1 + # average previous preparation time in last 1 hour\n",
    "                1 + # average previous preparation time in last 7 days\n",
    "                1 + # average kpt time, hour wise according to the day of the week\n",
    "                1 + # Item quantity\n",
    "                1) # length of the current queue\n",
    "\n",
    "if isCentralModel:\n",
    "    totalFeatures += 1\n",
    "if isOneHotEncodingRequired:\n",
    "    ##### DEPRECATED\n",
    "    totalFeatures = (7 + # one hot encoded day of the week\n",
    "                 len(allMenuCodes) +  # Item type\n",
    "                24 +  #timeslot of the day\n",
    "                1 +  #count past orders\n",
    "                1 +  #lift in last 30 minutes\n",
    "                1 + # average previous preparation time in last 1 hour\n",
    "                1 + # average previous preparation time in last 7 days\n",
    "                1) # length of the current queue\n",
    "    if isCentralModel:\n",
    "        totalFeatures += len(allStoreIds)\n",
    "\n",
    "feature_cols = []\n",
    "for i in range(0, totalFeatures):\n",
    "    feature_cols.append('feature_'+str(i+1))"
   ]
  },
  {
   "cell_type": "code",
   "execution_count": 72,
   "id": "d558b02e",
   "metadata": {
    "ExecuteTime": {
     "end_time": "2023-02-28T08:42:08.351772Z",
     "start_time": "2023-02-28T08:42:08.345338Z"
    }
   },
   "outputs": [],
   "source": [
    "def updateFeatures(storeId, Xnp):\n",
    "    restWiseDFs[storeId][feature_cols] = Xnp"
   ]
  },
  {
   "cell_type": "code",
   "execution_count": 73,
   "id": "e135b945",
   "metadata": {
    "ExecuteTime": {
     "end_time": "2023-02-28T08:45:21.962662Z",
     "start_time": "2023-02-28T08:42:09.372438Z"
    }
   },
   "outputs": [
    {
     "name": "stdout",
     "output_type": "stream",
     "text": [
      "(16456, 11)\n",
      "(10758, 11)\n",
      "(18797, 11)\n",
      "(14283, 11)\n",
      "(11442, 11)\n",
      "(12343, 11)\n",
      "(17183, 11)\n",
      "(9330, 11)\n",
      "(10506, 11)\n",
      "(12103, 11)\n",
      "(12228, 11)\n",
      "(10730, 11)\n"
     ]
    }
   ],
   "source": [
    "# TIME CONSUMING (3m 21s for Bhopal)\n",
    "for storeId in restWiseDFs:\n",
    "    X = []\n",
    "    df = restWiseDFs[storeId]\n",
    "    for index, item in df.iterrows():\n",
    "        features = getStoreId(item, False)\n",
    "        features += dayOfTheWeek(item['Kitchen_Display_Time'], isOneHotEncodingRequired)\n",
    "        features += getTimeSlotOfKitchenDisplayTime(item, isOneHotEncodingRequired)\n",
    "        features += getItemType(item, clubItemsCategoryWise, isOneHotEncodingRequired)\n",
    "        features += [countPastOrders(item, slotTimeForPastOrders)]\n",
    "        features += [getLiftInOrders(item, slotTimeForPastOrders)]\n",
    "        features += [getPreviousPrepTime(item, timeslot = 60)]\n",
    "        features += [getPreviousPrepTime(item, timeslot = 7*24*60)]\n",
    "        features += [getHourWiseAverage(item)]\n",
    "        features += [getQuantity(item)]\n",
    "        features += [lengthQueue(item)]\n",
    "        X.append(features)\n",
    "    Xnp = np.array(X)\n",
    "    updateFeatures(storeId, Xnp)\n",
    "    print(Xnp.shape)"
   ]
  },
  {
   "cell_type": "code",
   "execution_count": 74,
   "id": "8a299038",
   "metadata": {
    "ExecuteTime": {
     "end_time": "2023-02-28T08:46:31.391652Z",
     "start_time": "2023-02-28T08:46:31.381691Z"
    }
   },
   "outputs": [],
   "source": [
    "# categorical data\n",
    "if not isOneHotEncodingRequired:\n",
    "    for i in range(0, 4):\n",
    "        for storeId in allStoreIds:\n",
    "            restWiseDFs[storeId][feature_cols[i]] = restWiseDFs[storeId][feature_cols[i]].astype(\"category\")"
   ]
  },
  {
   "cell_type": "code",
   "execution_count": 75,
   "id": "ef377b61",
   "metadata": {
    "ExecuteTime": {
     "end_time": "2023-02-28T08:47:11.376431Z",
     "start_time": "2023-02-28T08:47:08.387697Z"
    }
   },
   "outputs": [],
   "source": [
    "restWiseScalers = {}\n",
    "\n",
    "# normalize feature values\n",
    "if isNormalizationRequired:\n",
    "    for storeId in allStoreIds:\n",
    "        firstTime = datetime(2022, 7, 1)\n",
    "        lastTime = datetime(2022, 7, 21) + timedelta(days=1)\n",
    "        trainingData = restWiseDFs[storeId].loc[(restWiseDFs[storeId]['Kitchen_Display_Time'] >= firstTime) & \\\n",
    "              (restWiseDFs[storeId]['Kitchen_Display_Time'] <= lastTime)].loc[:, feature_cols]\n",
    "        scaler = StandardScaler()\n",
    "        scaler.fit(trainingData)\n",
    "        if isNormalizationRequired:\n",
    "            X = restWiseDFs[storeId].loc[:, feature_cols]\n",
    "            X_scaled = scaler.transform(X)\n",
    "            X_scalednp = np.array(X_scaled)\n",
    "            updateFeatures(storeId, X_scalednp)\n",
    "    save_object(restWiseDFs, f'restWiseDFsWithNormalizedFeatures{city}.pkl')"
   ]
  },
  {
   "cell_type": "code",
   "execution_count": 76,
   "id": "4d647b20",
   "metadata": {
    "ExecuteTime": {
     "end_time": "2023-02-28T08:47:14.648268Z",
     "start_time": "2023-02-28T08:47:14.640207Z"
    }
   },
   "outputs": [],
   "source": [
    "def getRMSE(actual, predictions):\n",
    "    mse = sklearn.metrics.mean_squared_error(actual, predictions)\n",
    "    return math.sqrt(mse)"
   ]
  },
  {
   "cell_type": "code",
   "execution_count": 78,
   "outputs": [
    {
     "name": "stdout",
     "output_type": "stream",
     "text": [
      "Best hyperparameters: {'colsample_bytree': 0.4, 'enable_categorical': True, 'learning_rate': 0.1, 'max_depth': 3, 'n_estimators': 50, 'subsample': 0.7, 'tree_method': 'hist'}\n",
      "Best mean cross-validated score: 0.30873115286494257\n",
      "Test score: 0.23391089743818816\n",
      "RMSE on training data : 88.85451403060976\n",
      "RMSE on validation data : 90.52548328919524\n",
      "RMSE on test data : 96.91636807615956\n"
     ]
    }
   ],
   "source": [
    "if isCentralModel:\n",
    "    overallDF = pd.DataFrame()\n",
    "    for storeId in allStoreIds:\n",
    "        overallDF = pd.concat([overallDF, restWiseDFs[storeId]], ignore_index=True)\n",
    "    firstTime = datetime(2022, 7, 1)\n",
    "    lastTime = datetime(2022, 7, 21) + timedelta(days=1)\n",
    "    trainingData = overallDF.loc[(overallDF['Kitchen_Display_Time'] >= firstTime) & \\\n",
    "          (overallDF['Kitchen_Display_Time'] <= lastTime)]\n",
    "    X_train = trainingData.loc[:, feature_cols]\n",
    "    y_train = trainingData.prep_time.values.tolist()\n",
    "\n",
    "    firstTime = datetime(2022, 7, 22)\n",
    "    lastTime = datetime(2022, 7, 23) + timedelta(days=1)\n",
    "    validationData = overallDF.loc[(overallDF['Kitchen_Display_Time'] >= firstTime) & \\\n",
    "          (overallDF['Kitchen_Display_Time'] <= lastTime)]\n",
    "\n",
    "    X_train_val = validationData.loc[:, feature_cols]\n",
    "    y_train_val = validationData.prep_time.values.tolist()\n",
    "\n",
    "    firstTime = datetime(2022, 7, 24)\n",
    "    lastTime = datetime(2022, 7, 31) + timedelta(days=1)\n",
    "    testData = overallDF.loc[(overallDF['Kitchen_Display_Time'] >= firstTime) & \\\n",
    "          (overallDF['Kitchen_Display_Time'] <= lastTime)]\n",
    "\n",
    "    X_test = testData.loc[:, feature_cols]\n",
    "    y_test = testData.prep_time.values.tolist()\n",
    "\n",
    "\n",
    "    regressor = XGBRegressor()\n",
    "    param_grid = {\n",
    "        'tree_method': ['approx', 'hist'],\n",
    "        'n_estimators': [50, 100, 200],\n",
    "        'max_depth': [3, 5, 7, 10],\n",
    "        'learning_rate': [0.2, 0.1, 0.01],\n",
    "        'subsample': [0.7, 0.8, 0.9],\n",
    "        'colsample_bytree': [0.4, 0.6, 0.8],\n",
    "        'enable_categorical': [True],\n",
    "    }\n",
    "\n",
    "    # define the GridSearchCV object with the parameter grid and the XGBRegressor model\n",
    "    grid_search = GridSearchCV(estimator=regressor, param_grid=param_grid, cv=5)\n",
    "\n",
    "    # fit the GridSearchCV object on the training set\n",
    "    grid_search.fit(X_train, y_train)\n",
    "\n",
    "    # print the best hyperparameters and the corresponding mean cross-validated score\n",
    "    print(\"Best hyperparameters:\", grid_search.best_params_)\n",
    "    print(\"Best mean cross-validated score:\", grid_search.best_score_)\n",
    "\n",
    "    # retrain the model on the combined training and validation sets with the best hyperparameters\n",
    "    best_regressor = XGBRegressor(**grid_search.best_params_)\n",
    "    best_regressor.fit(X_train_val, y_train_val)\n",
    "\n",
    "    # evaluate the final model performance on the test set\n",
    "    test_score = best_regressor.score(X_test, y_test)\n",
    "    print(\"Test score:\", test_score)\n",
    "\n",
    "    # regressor.fit(X_train, y_train)\n",
    "    # restWiseModelsXGB[storeId] = best_regressor\n",
    "    predictions = best_regressor.predict(overallDF.loc[:, feature_cols])\n",
    "    overallDF['predicted_prep_time_central'] = predictions\n",
    "\n",
    "    firstTime = datetime(2022, 7, 1)\n",
    "    lastTime = datetime(2022, 7, 21) + timedelta(days=1)\n",
    "    trainingData = overallDF.loc[(overallDF['Kitchen_Display_Time'] >= firstTime) & \\\n",
    "          (overallDF['Kitchen_Display_Time'] <= lastTime)]\n",
    "    y1 = trainingData.prep_time.tolist()\n",
    "    y2 = trainingData.predicted_prep_time_central.tolist()\n",
    "    print(\"RMSE on training data : \"+str(getRMSE(y1, y2)))\n",
    "\n",
    "    firstTime = datetime(2022, 7, 22)\n",
    "    lastTime = datetime(2022, 7, 23) + timedelta(days=1)\n",
    "    validationData = overallDF.loc[(overallDF['Kitchen_Display_Time'] >= firstTime) & \\\n",
    "          (overallDF['Kitchen_Display_Time'] <= lastTime)]\n",
    "    y1 = validationData.prep_time.tolist()\n",
    "    y2 = validationData.predicted_prep_time_central.tolist()\n",
    "    print(\"RMSE on validation data : \"+str(getRMSE(y1, y2)))\n",
    "\n",
    "\n",
    "    firstTime = datetime(2022, 7, 24)\n",
    "    lastTime = datetime(2022, 7, 31) + timedelta(days=1)\n",
    "    testData = overallDF.loc[(overallDF['Kitchen_Display_Time'] >= firstTime) & \\\n",
    "          (overallDF['Kitchen_Display_Time'] <= lastTime)]\n",
    "    y1 = testData.prep_time.tolist()\n",
    "    y2 = testData.predicted_prep_time_central.tolist()\n",
    "    print(\"RMSE on test data : \"+str(getRMSE(y1, y2)))\n",
    "    #\n",
    "    # for storeId in allStoreIds:\n",
    "    #     restWiseDFs[storeId] = overallDF.loc[overallDF['Location_Code'] == storeId]\n",
    "    #     X = restWiseDFs[storeId].loc[:, feature_cols]\n",
    "    #     y = restWiseDFs[storeId].prep_time.values.tolist()\n",
    "    #\n",
    "    #     a = getRMSE(y, predictions)\n",
    "    #     print(\"RMSE score overall for store central model (30 days) \"+storeId+\" :  \", a)"
   ],
   "metadata": {
    "collapsed": false
   }
  },
  {
   "cell_type": "code",
   "execution_count": 37,
   "outputs": [],
   "source": [],
   "metadata": {
    "collapsed": false
   }
  },
  {
   "cell_type": "code",
   "execution_count": 79,
   "outputs": [
    {
     "data": {
      "text/plain": "<Figure size 640x480 with 1 Axes>",
      "image/png": "[encoded data removed]"
     },
     "metadata": {},
     "output_type": "display_data"
    },
    {
     "name": "stdout",
     "output_type": "stream",
     "text": [
      "1.0000000055879354\n"
     ]
    }
   ],
   "source": [
    "from matplotlib import pyplot\n",
    "f = ['storeId', 'dayOfTheWeek', 'Timeslot', 'ItemType', 'countPastOrders', 'ratioOfCountOrders', 'prevAvgKPT60Minutes', 'prepAvgKPT7Days', 'hourDayWiseAvgKPT', 'Quantity', 'QueueLength']\n",
    "pyplot.bar(f, best_regressor.feature_importances_)\n",
    "pyplot.xticks(rotation=90)\n",
    "pyplot.title(\"Feature Importance\")\n",
    "pyplot.show()\n",
    "print(sum(best_regressor.feature_importances_))"
   ],
   "metadata": {
    "collapsed": false
   }
  },
  {
   "cell_type": "code",
   "execution_count": 85,
   "outputs": [],
   "source": [
    "# Compare this with the baseline\n",
    "# Baseline is taken the Feature 9:\n",
    "# Average KPT of the same item in the same store in the same timeslot\n",
    "# till now on the same day of the week. (For example, if the item is\n",
    "# Farmhouse pizza on 1:30PM on monday, then we’ll take average of all\n",
    "# past orders of Farmhouse pizza which were placed between\n",
    "# 1:00PM to 2:00PM on previous mondays)\n",
    "\n",
    "# rmse on model\n",
    "rmse1 = ((trainingData.prep_time - trainingData.predicted_prep_time_central) ** 2).mean() ** .5\n",
    "rmse2 = ((validationData.prep_time - validationData.predicted_prep_time_central) ** 2).mean() ** .5\n",
    "rmse3 = ((testData.prep_time - testData.predicted_prep_time_central) ** 2).mean() ** .5\n",
    "\n",
    "# rmse with baseline\n",
    "rmseb1 = ((trainingData.prep_time - trainingData.hour_wise_avg_kpt_of_the_day) ** 2).mean() ** .5\n",
    "rmseb2 = ((validationData.prep_time - validationData.hour_wise_avg_kpt_of_the_day) ** 2).mean() ** .5\n",
    "rmseb3 = ((testData.prep_time - testData.hour_wise_avg_kpt_of_the_day) ** 2).mean() ** .5\n",
    "\n",
    "absError1 = (abs(trainingData.prep_time - trainingData.predicted_prep_time_central)).values.tolist()\n",
    "absError2 = (abs(validationData.prep_time - validationData.predicted_prep_time_central)).values.tolist()\n",
    "absError3 = (abs(testData.prep_time - testData.predicted_prep_time_central)).values.tolist()\n",
    "\n",
    "absErrorb1 = (abs(trainingData.prep_time - trainingData.hour_wise_avg_kpt_of_the_day)).values.tolist()\n",
    "absErrorb2 = (abs(validationData.prep_time - validationData.hour_wise_avg_kpt_of_the_day)).values.tolist()\n",
    "absErrorb3 = (abs(testData.prep_time - testData.hour_wise_avg_kpt_of_the_day)).values.tolist()\n",
    "\n",
    "meanAbsError1 = statistics.mean(absError1)\n",
    "meanAbsError2 = statistics.mean(absError2)\n",
    "meanAbsError3 = statistics.mean(absError3)\n",
    "\n",
    "meanAbsErrorb1 = statistics.mean(absErrorb1)\n",
    "meanAbsErrorb2 = statistics.mean(absErrorb2)\n",
    "meanAbsErrorb3 = statistics.mean(absErrorb3)\n",
    "\n",
    "\n",
    "medianAbsError1 = statistics.median(absError1)\n",
    "medianAbsError2 = statistics.median(absError2)\n",
    "medianAbsError3 = statistics.median(absError3)\n",
    "\n",
    "medianAbsErrorb1 = statistics.median(absErrorb1)\n",
    "medianAbsErrorb2 = statistics.median(absErrorb2)\n",
    "medianAbsErrorb3 = statistics.median(absErrorb3)\n"
   ],
   "metadata": {
    "collapsed": false
   }
  },
  {
   "cell_type": "code",
   "execution_count": 84,
   "outputs": [
    {
     "name": "stdout",
     "output_type": "stream",
     "text": [
      "RMSE on training Data model : 88.85451403060976\n",
      "RMSE ON validation Data model : 90.52548328919524\n",
      "RMSE ON test Data model : 96.91636807615956\n",
      "RMSE on training Data baseline : 86.64202487373687\n",
      "RMSE ON validation Data baseline : 109.2303912298376\n",
      "RMSE ON test Data baseline : 94.7630137102415\n"
     ]
    }
   ],
   "source": [
    "print(\"RMSE on training Data model : \"+str(rmse1))\n",
    "print(\"RMSE ON validation Data model : \"+str(rmse2))\n",
    "print(\"RMSE ON test Data model : \"+str(rmse3))\n",
    "\n",
    "print(\"RMSE on training Data baseline : \"+str(rmseb1))\n",
    "print(\"RMSE ON validation Data baseline : \"+str(rmseb2))\n",
    "print(\"RMSE ON test Data baseline : \"+str(rmseb3))"
   ],
   "metadata": {
    "collapsed": false
   }
  },
  {
   "cell_type": "code",
   "execution_count": 86,
   "outputs": [
    {
     "data": {
      "text/plain": "(63.100868373678544, 64.66370062654333, 68.41139880053836)"
     },
     "execution_count": 86,
     "metadata": {},
     "output_type": "execute_result"
    }
   ],
   "source": [
    "meanAbsError1, meanAbsError2, meanAbsError3"
   ],
   "metadata": {
    "collapsed": false
   }
  },
  {
   "cell_type": "code",
   "execution_count": 87,
   "outputs": [
    {
     "data": {
      "text/plain": "(57.93006242595216, 72.37162522380243, 63.447246148215704)"
     },
     "execution_count": 87,
     "metadata": {},
     "output_type": "execute_result"
    }
   ],
   "source": [
    "meanAbsErrorb1, meanAbsErrorb2, meanAbsErrorb3"
   ],
   "metadata": {
    "collapsed": false
   }
  },
  {
   "cell_type": "code",
   "execution_count": 92,
   "outputs": [
    {
     "data": {
      "text/plain": "(45.878961242675786,\n 37.245,\n 47.6481485595703,\n 46.39973333333333,\n 49.87610180664063,\n 42.226674796747986)"
     },
     "execution_count": 92,
     "metadata": {},
     "output_type": "execute_result"
    }
   ],
   "source": [
    "medianAbsError1, medianAbsErrorb1, \\\n",
    "medianAbsError2, medianAbsErrorb2, \\\n",
    "medianAbsError3, medianAbsErrorb3"
   ],
   "metadata": {
    "collapsed": false
   }
  },
  {
   "cell_type": "code",
   "execution_count": 93,
   "outputs": [
    {
     "name": "stdout",
     "output_type": "stream",
     "text": [
      "Best hyperparameters: {'colsample_bytree': 0.6, 'enable_categorical': True, 'learning_rate': 0.1, 'max_depth': 3, 'n_estimators': 50, 'subsample': 0.7, 'tree_method': 'approx'}\n",
      "Best mean cross-validated score: 0.19149872227840642\n",
      "Test score: 0.2348584897892676\n",
      "RMSE on training data : 90.91175238094438\n",
      "RMSE on validation data : 90.2525119038979\n",
      "RMSE on test data : 96.85641054301098\n"
     ]
    }
   ],
   "source": [
    "# Experiment 1\n",
    "# Normalize the data\n",
    "isNormalizationRequired = True\n",
    "restWiseScalers = {}\n",
    "\n",
    "\n",
    "# normalize feature values\n",
    "if isNormalizationRequired:\n",
    "    for storeId in allStoreIds:\n",
    "        firstTime = datetime(2022, 7, 1)\n",
    "        lastTime = datetime(2022, 7, 21) + timedelta(days=1)\n",
    "        trainingData = restWiseDFs[storeId].loc[(restWiseDFs[storeId]['Kitchen_Display_Time'] >= firstTime) & \\\n",
    "                                                (restWiseDFs[storeId]['Kitchen_Display_Time'] <= lastTime)].loc[:,\n",
    "                       feature_cols]\n",
    "        scaler = StandardScaler()\n",
    "        scaler.fit(trainingData)\n",
    "        if isNormalizationRequired:\n",
    "            X = restWiseDFs[storeId].loc[:, feature_cols]\n",
    "            X_scaled = scaler.transform(X)\n",
    "            X_scalednp = np.array(X_scaled)\n",
    "            updateFeatures(storeId, X_scalednp)\n",
    "    save_object(restWiseDFs, f'restWiseDFsWithNormalizedFeatures{city}.pkl')\n",
    "\n",
    "\n",
    "def getRMSE(actual, predictions):\n",
    "    mse = sklearn.metrics.mean_squared_error(actual, predictions)\n",
    "    return math.sqrt(mse)\n",
    "\n",
    "if isCentralModel:\n",
    "    overallDF = pd.DataFrame()\n",
    "    for storeId in allStoreIds:\n",
    "        overallDF = pd.concat([overallDF, restWiseDFs[storeId]], ignore_index=True)\n",
    "    firstTime = datetime(2022, 7, 1)\n",
    "    lastTime = datetime(2022, 7, 21) + timedelta(days=1)\n",
    "    trainingData = overallDF.loc[(overallDF['Kitchen_Display_Time'] >= firstTime) & \\\n",
    "                                 (overallDF['Kitchen_Display_Time'] <= lastTime)]\n",
    "    X_train = trainingData.loc[:, feature_cols]\n",
    "    y_train = trainingData.prep_time.values.tolist()\n",
    "\n",
    "    firstTime = datetime(2022, 7, 22)\n",
    "    lastTime = datetime(2022, 7, 23) + timedelta(days=1)\n",
    "    validationData = overallDF.loc[(overallDF['Kitchen_Display_Time'] >= firstTime) & \\\n",
    "                                   (overallDF['Kitchen_Display_Time'] <= lastTime)]\n",
    "\n",
    "    X_train_val = validationData.loc[:, feature_cols]\n",
    "    y_train_val = validationData.prep_time.values.tolist()\n",
    "\n",
    "    firstTime = datetime(2022, 7, 24)\n",
    "    lastTime = datetime(2022, 7, 31) + timedelta(days=1)\n",
    "    testData = overallDF.loc[(overallDF['Kitchen_Display_Time'] >= firstTime) & \\\n",
    "                             (overallDF['Kitchen_Display_Time'] <= lastTime)]\n",
    "\n",
    "    X_test = testData.loc[:, feature_cols]\n",
    "    y_test = testData.prep_time.values.tolist()\n",
    "\n",
    "    regressor = XGBRegressor()\n",
    "    param_grid = {\n",
    "        'tree_method': ['approx', 'hist'],\n",
    "        'n_estimators': [50, 100, 200],\n",
    "        'max_depth': [3, 5, 7, 10],\n",
    "        'learning_rate': [0.2, 0.1, 0.01],\n",
    "        'subsample': [0.7, 0.8, 0.9],\n",
    "        'colsample_bytree': [0.4, 0.6, 0.8],\n",
    "        'enable_categorical': [True],\n",
    "    }\n",
    "\n",
    "    # define the GridSearchCV object with the parameter grid and the XGBRegressor model\n",
    "    grid_search = GridSearchCV(estimator=regressor, param_grid=param_grid, cv=5)\n",
    "\n",
    "    # fit the GridSearchCV object on the training set\n",
    "    grid_search.fit(X_train, y_train)\n",
    "\n",
    "    # print the best hyperparameters and the corresponding mean cross-validated score\n",
    "    print(\"Best hyperparameters:\", grid_search.best_params_)\n",
    "    print(\"Best mean cross-validated score:\", grid_search.best_score_)\n",
    "\n",
    "    # retrain the model on the combined training and validation sets with the best hyperparameters\n",
    "    best_regressor = XGBRegressor(**grid_search.best_params_)\n",
    "    best_regressor.fit(X_train_val, y_train_val)\n",
    "\n",
    "    # evaluate the final model performance on the test set\n",
    "    test_score = best_regressor.score(X_test, y_test)\n",
    "    print(\"Test score:\", test_score)\n",
    "\n",
    "    # regressor.fit(X_train, y_train)\n",
    "    # restWiseModelsXGB[storeId] = best_regressor\n",
    "    predictions = best_regressor.predict(overallDF.loc[:, feature_cols])\n",
    "    overallDF['predicted_prep_time_central'] = predictions\n",
    "\n",
    "    firstTime = datetime(2022, 7, 1)\n",
    "    lastTime = datetime(2022, 7, 21) + timedelta(days=1)\n",
    "    trainingData = overallDF.loc[(overallDF['Kitchen_Display_Time'] >= firstTime) & \\\n",
    "                                 (overallDF['Kitchen_Display_Time'] <= lastTime)]\n",
    "    y1 = trainingData.prep_time.tolist()\n",
    "    y2 = trainingData.predicted_prep_time_central.tolist()\n",
    "    print(\"RMSE on training data : \" + str(getRMSE(y1, y2)))\n",
    "\n",
    "    firstTime = datetime(2022, 7, 22)\n",
    "    lastTime = datetime(2022, 7, 23) + timedelta(days=1)\n",
    "    validationData = overallDF.loc[(overallDF['Kitchen_Display_Time'] >= firstTime) & \\\n",
    "                                   (overallDF['Kitchen_Display_Time'] <= lastTime)]\n",
    "    y1 = validationData.prep_time.tolist()\n",
    "    y2 = validationData.predicted_prep_time_central.tolist()\n",
    "    print(\"RMSE on validation data : \" + str(getRMSE(y1, y2)))\n",
    "\n",
    "    firstTime = datetime(2022, 7, 24)\n",
    "    lastTime = datetime(2022, 7, 31) + timedelta(days=1)\n",
    "    testData = overallDF.loc[(overallDF['Kitchen_Display_Time'] >= firstTime) & \\\n",
    "                             (overallDF['Kitchen_Display_Time'] <= lastTime)]\n",
    "    y1 = testData.prep_time.tolist()\n",
    "    y2 = testData.predicted_prep_time_central.tolist()\n",
    "    print(\"RMSE on test data : \" + str(getRMSE(y1, y2)))\n",
    "    #\n",
    "    # for storeId in allStoreIds:\n",
    "    #     restWiseDFs[storeId] = overallDF.loc[overallDF['Location_Code'] == storeId]\n",
    "    #     X = restWiseDFs[storeId].loc[:, feature_cols]\n",
    "    #     y = restWiseDFs[storeId].prep_time.values.tolist()\n",
    "    #\n",
    "    #     a = getRMSE(y, predictions)\n",
    "    #     print(\"RMSE score overall for store central model (30 days) \"+storeId+\" :  \", a)\n"
   ],
   "metadata": {
    "collapsed": false
   }
  },
  {
   "cell_type": "code",
   "execution_count": 94,
   "outputs": [
    {
     "data": {
      "text/plain": "<Figure size 640x480 with 1 Axes>",
      "image/png": "[encoded data removed]"
     },
     "metadata": {},
     "output_type": "display_data"
    },
    {
     "name": "stdout",
     "output_type": "stream",
     "text": [
      "0.9999999925494194\n"
     ]
    }
   ],
   "source": [
    "# Experiment 1 Continue\n",
    "\n",
    "from matplotlib import pyplot\n",
    "\n",
    "f = ['storeId', 'dayOfTheWeek', 'Timeslot', 'ItemType', 'countPastOrders', 'ratioOfCountOrders', 'prevAvgKPT60Minutes',\n",
    "     'prepAvgKPT7Days', 'hourDayWiseAvgKPT', 'Quantity', 'QueueLength']\n",
    "pyplot.bar(f, best_regressor.feature_importances_)\n",
    "pyplot.xticks(rotation=90)\n",
    "pyplot.title(\"Feature Importance\")\n",
    "pyplot.show()\n",
    "print(sum(best_regressor.feature_importances_))\n"
   ],
   "metadata": {
    "collapsed": false
   }
  },
  {
   "cell_type": "code",
   "execution_count": 95,
   "outputs": [
    {
     "name": "stdout",
     "output_type": "stream",
     "text": [
      "RMSE on training Data model : 90.91175238094438\n",
      "RMSE ON validation Data model : 90.2525119038979\n",
      "RMSE ON test Data model : 96.85641054301098\n",
      "RMSE on training Data baseline : 86.64202487373687\n",
      "RMSE ON validation Data baseline : 109.2303912298376\n",
      "RMSE ON test Data baseline : 94.7630137102415\n"
     ]
    },
    {
     "data": {
      "text/plain": "(64.36449397103415,\n 65.15397760662827,\n 67.49437729233776,\n 57.93006242595216,\n 72.37162522380243,\n 63.447246148215704,\n 46.79048526000976,\n 37.245,\n 48.94565960693359,\n 46.39973333333333,\n 48.31183624267578,\n 42.226674796747986)"
     },
     "execution_count": 95,
     "metadata": {},
     "output_type": "execute_result"
    }
   ],
   "source": [
    "# Experiment 1 continue\n",
    "\n",
    "# Compare this with the baseline\n",
    "# Baseline is taken the Feature 9:\n",
    "# Average KPT of the same item in the same store in the same timeslot\n",
    "# till now on the same day of the week. (For example, if the item is\n",
    "# Farmhouse pizza on 1:30PM on monday, then we’ll take average of all\n",
    "# past orders of Farmhouse pizza which were placed between\n",
    "# 1:00PM to 2:00PM on previous mondays)\n",
    "\n",
    "# rmse on model\n",
    "rmse1 = ((trainingData.prep_time - trainingData.predicted_prep_time_central) ** 2).mean() ** .5\n",
    "rmse2 = ((validationData.prep_time - validationData.predicted_prep_time_central) ** 2).mean() ** .5\n",
    "rmse3 = ((testData.prep_time - testData.predicted_prep_time_central) ** 2).mean() ** .5\n",
    "\n",
    "# rmse with baseline\n",
    "rmseb1 = ((trainingData.prep_time - trainingData.hour_wise_avg_kpt_of_the_day) ** 2).mean() ** .5\n",
    "rmseb2 = ((validationData.prep_time - validationData.hour_wise_avg_kpt_of_the_day) ** 2).mean() ** .5\n",
    "rmseb3 = ((testData.prep_time - testData.hour_wise_avg_kpt_of_the_day) ** 2).mean() ** .5\n",
    "\n",
    "absError1 = (abs(trainingData.prep_time - trainingData.predicted_prep_time_central)).values.tolist()\n",
    "absError2 = (abs(validationData.prep_time - validationData.predicted_prep_time_central)).values.tolist()\n",
    "absError3 = (abs(testData.prep_time - testData.predicted_prep_time_central)).values.tolist()\n",
    "\n",
    "absErrorb1 = (abs(trainingData.prep_time - trainingData.hour_wise_avg_kpt_of_the_day)).values.tolist()\n",
    "absErrorb2 = (abs(validationData.prep_time - validationData.hour_wise_avg_kpt_of_the_day)).values.tolist()\n",
    "absErrorb3 = (abs(testData.prep_time - testData.hour_wise_avg_kpt_of_the_day)).values.tolist()\n",
    "\n",
    "meanAbsError1 = statistics.mean(absError1)\n",
    "meanAbsError2 = statistics.mean(absError2)\n",
    "meanAbsError3 = statistics.mean(absError3)\n",
    "\n",
    "meanAbsErrorb1 = statistics.mean(absErrorb1)\n",
    "meanAbsErrorb2 = statistics.mean(absErrorb2)\n",
    "meanAbsErrorb3 = statistics.mean(absErrorb3)\n",
    "\n",
    "medianAbsError1 = statistics.median(absError1)\n",
    "medianAbsError2 = statistics.median(absError2)\n",
    "medianAbsError3 = statistics.median(absError3)\n",
    "\n",
    "medianAbsErrorb1 = statistics.median(absErrorb1)\n",
    "medianAbsErrorb2 = statistics.median(absErrorb2)\n",
    "medianAbsErrorb3 = statistics.median(absErrorb3)\n",
    "\n",
    "print(\"RMSE on training Data model : \" + str(rmse1))\n",
    "print(\"RMSE ON validation Data model : \" + str(rmse2))\n",
    "print(\"RMSE ON test Data model : \" + str(rmse3))\n",
    "\n",
    "print(\"RMSE on training Data baseline : \" + str(rmseb1))\n",
    "print(\"RMSE ON validation Data baseline : \" + str(rmseb2))\n",
    "print(\"RMSE ON test Data baseline : \" + str(rmseb3))\n",
    "meanAbsError1, meanAbsError2, meanAbsError3, \\\n",
    "meanAbsErrorb1, meanAbsErrorb2, meanAbsErrorb3, \\\n",
    "medianAbsError1, medianAbsErrorb1, \\\n",
    "medianAbsError2, medianAbsErrorb2, \\\n",
    "medianAbsError3, medianAbsErrorb3"
   ],
   "metadata": {
    "collapsed": false
   }
  },
  {
   "cell_type": "code",
   "execution_count": null,
   "outputs": [],
   "source": [],
   "metadata": {
    "collapsed": false
   }
  },
  {
   "cell_type": "code",
   "execution_count": null,
   "outputs": [],
   "source": [],
   "metadata": {
    "collapsed": false
   }
  },
  {
   "cell_type": "code",
   "execution_count": null,
   "outputs": [],
   "source": [],
   "metadata": {
    "collapsed": false
   }
  },
  {
   "cell_type": "code",
   "execution_count": null,
   "outputs": [],
   "source": [],
   "metadata": {
    "collapsed": false
   }
  },
  {
   "cell_type": "code",
   "execution_count": null,
   "outputs": [],
   "source": [],
   "metadata": {
    "collapsed": false
   }
  },
  {
   "cell_type": "code",
   "execution_count": null,
   "outputs": [],
   "source": [],
   "metadata": {
    "collapsed": false
   }
  },
  {
   "cell_type": "code",
   "execution_count": null,
   "outputs": [],
   "source": [],
   "metadata": {
    "collapsed": false
   }
  },
  {
   "cell_type": "code",
   "execution_count": null,
   "outputs": [],
   "source": [],
   "metadata": {
    "collapsed": false
   }
  },
  {
   "cell_type": "code",
   "execution_count": null,
   "outputs": [],
   "source": [
    "# Ignore the below code"
   ],
   "metadata": {
    "collapsed": false
   }
  },
  {
   "cell_type": "code",
   "execution_count": null,
   "id": "7b8d7565",
   "metadata": {
    "ExecuteTime": {
     "end_time": "2023-02-28T08:47:35.187046Z",
     "start_time": "2023-02-28T08:47:35.169193Z"
    }
   },
   "outputs": [],
   "source": [
    "def getPredictionHyperparameters(startDay, endDay): # both are included\n",
    "    df = pd.DataFrame()\n",
    "    firstTime = datetime(2022, 7, startDay)\n",
    "    lastTime = datetime(2022, 7, endDay) + timedelta(days=1)\n",
    "    for storeId in allStoreIds:\n",
    "        df2 = restWiseDFs[storeId].loc[(restWiseDFs[storeId]['Kitchen_Display_Time'] >= firstTime) & \\\n",
    "          (restWiseDFs[storeId]['Kitchen_Display_Time'] < lastTime) & \\\n",
    "                                       (restWiseDFs[storeId]['prep_time'] != timedelta(0))]\n",
    "        df = pd.concat([df, df2], ignore_index = True)\n",
    "    \n",
    "    rmse = ((df.prep_time - df.predicted_prep_time) ** 2).mean() ** .5\n",
    "    \n",
    "    absError = (abs(df.prep_time - df.predicted_prep_time)).values.tolist()\n",
    "    meanAbsError = statistics.mean(absError)\n",
    "    medianAbsError = statistics.median(absError)\n",
    "    stdAbsError = statistics.stdev(absError)\n",
    "    \n",
    "    error = (df.prep_time - df.predicted_prep_time).values.tolist()\n",
    "    meanError = statistics.mean(error)\n",
    "    medianError = statistics.median(error)\n",
    "    stdError = statistics.stdev(error)\n",
    "    \n",
    "    accuracy = (((df.prep_time - df.predicted_prep_time))/(7*60+df.prep_time)).values.tolist()\n",
    "    for i in range(0, len(accuracy)):\n",
    "        if accuracy[i] < 0:\n",
    "            accuracy[i] = -1*accuracy[i]\n",
    "        accuracy[i] = 1-accuracy[i]\n",
    "    meanAccuracy = statistics.mean(accuracy)\n",
    "    if not(meanAccuracy > 0 and meanAccuracy < 1):\n",
    "        print(\"Mean accuracy is zero: \")\n",
    "        print(meanAccuracy)\n",
    "    medianAccuracy = statistics.median(accuracy)\n",
    "    stdAccuracy = statistics.stdev(accuracy)\n",
    "    return rmse, (meanAbsError, medianAbsError, stdAbsError), (meanError, medianError, stdError), (meanAccuracy, medianAccuracy, stdAccuracy)"
   ]
  },
  {
   "cell_type": "code",
   "execution_count": null,
   "id": "87e1f424",
   "metadata": {
    "ExecuteTime": {
     "end_time": "2023-02-28T08:47:37.444088Z",
     "start_time": "2023-02-28T08:47:36.096635Z"
    }
   },
   "outputs": [],
   "source": [
    "rmseList = []\n",
    "meanAbsErrorList = []\n",
    "medianAbsErrorList = []\n",
    "stdAbsErrorList = []\n",
    "meanErrorList = []\n",
    "medianErrorList = []\n",
    "stdErrorList = []\n",
    "meanAccuracyList = []\n",
    "medianAccuracyList = []\n",
    "stdAccuracyList = []\n",
    "\n",
    "x = [15, 16, 17, 18, 19, 20, 21, 22, 23, 24, 25, 26, 27, 28, 29, 30, 31]\n",
    "\n",
    "for i in x:\n",
    "    (rmse, (meanAbsError, medianAbsError, stdAbsError), \n",
    "    (meanError, medianError, stdError), \n",
    "    (meanAccuracy, medianAccuracy, stdAccuracy)) = getPredictionHyperparameters(i,i)\n",
    "    rmseList.append(rmse)\n",
    "    meanAbsErrorList.append(meanAbsError)\n",
    "    medianAbsErrorList.append(medianAbsError)\n",
    "    stdAbsErrorList.append(stdAbsError)\n",
    "    meanErrorList.append(meanError)\n",
    "    medianErrorList.append(medianError)\n",
    "    stdErrorList.append(stdError)\n",
    "    meanAccuracyList.append(meanAccuracy)\n",
    "    medianAccuracyList.append(medianAccuracy)\n",
    "    stdAccuracyList.append(stdAccuracy)"
   ]
  },
  {
   "cell_type": "code",
   "execution_count": null,
   "id": "3da6820d",
   "metadata": {
    "ExecuteTime": {
     "end_time": "2023-02-28T08:47:38.015196Z",
     "start_time": "2023-02-28T08:47:37.447711Z"
    }
   },
   "outputs": [],
   "source": [
    "# plot for 15, 20, 25, 30 july \n",
    "plt.bar(x, rmseList)\n",
    "plt.xticks(x)\n",
    "plt.xlabel(\"Date\")\n",
    "plt.ylabel(\"RMSE value on the respective day\")\n",
    "plt.title(\"Model predictions with days\")\n",
    "plt.savefig(f'{city}_1.png')"
   ]
  },
  {
   "cell_type": "code",
   "execution_count": null,
   "id": "a7275d7e",
   "metadata": {
    "ExecuteTime": {
     "end_time": "2023-02-28T08:47:38.326776Z",
     "start_time": "2023-02-28T08:47:38.018825Z"
    }
   },
   "outputs": [],
   "source": [
    "# plot for 15, 20, 25, 30 july \n",
    "plt.bar(x, medianAbsErrorList)\n",
    "plt.xticks(x)\n",
    "plt.xlabel(\"Date\")\n",
    "plt.ylabel(\"Absolute Value of error (median) on the respective day\")\n",
    "plt.title(\"Model predictions with days\")\n",
    "plt.savefig(f'{city}_3.png')"
   ]
  },
  {
   "cell_type": "code",
   "execution_count": null,
   "id": "9d98e9e6",
   "metadata": {
    "ExecuteTime": {
     "end_time": "2023-02-28T08:47:38.707538Z",
     "start_time": "2023-02-28T08:47:38.404662Z"
    }
   },
   "outputs": [],
   "source": [
    "# plot for 15, 20, 25, 30 july \n",
    "plt.errorbar(x, meanErrorList, stdErrorList)\n",
    "plt.xticks(x)\n",
    "plt.xlabel(\"Date\")\n",
    "plt.ylabel(\"error (mean, std dev of the day) on the respective day\")\n",
    "plt.title(\"Model predictions with days\")\n",
    "plt.savefig(f'{city}_4.png')"
   ]
  },
  {
   "cell_type": "code",
   "execution_count": null,
   "id": "e4180da9",
   "metadata": {
    "ExecuteTime": {
     "end_time": "2023-02-28T08:47:39.148434Z",
     "start_time": "2023-02-28T08:47:38.814834Z"
    }
   },
   "outputs": [],
   "source": [
    "# plot for 15, 20, 25, 30 july \n",
    "plt.bar(x, medianErrorList)\n",
    "plt.xticks(x)\n",
    "plt.xlabel(\"Date\")\n",
    "plt.ylabel(\"error (median) on the respective day\")\n",
    "plt.title(\"Model predictions with days\")\n",
    "plt.savefig(f'{city}_5.png')"
   ]
  },
  {
   "cell_type": "code",
   "execution_count": null,
   "id": "96ca9374",
   "metadata": {
    "ExecuteTime": {
     "end_time": "2023-02-28T08:47:39.782080Z",
     "start_time": "2023-02-28T08:47:39.470958Z"
    }
   },
   "outputs": [],
   "source": [
    "# plot for 15, 20, 25, 30 july \n",
    "plt.errorbar(x, meanAccuracyList, stdAccuracyList)\n",
    "plt.xticks(x)\n",
    "plt.xlabel(\"Date\")\n",
    "plt.ylabel(\"Accuracy (mean, std dev of the day) on the respective day\")\n",
    "plt.title(\"Model predictions with days\")\n",
    "plt.savefig(f'{city}_6.png')\n",
    "\n"
   ]
  },
  {
   "cell_type": "code",
   "execution_count": null,
   "outputs": [],
   "source": [
    "overallDf = pd.DataFrame()\n",
    "for storeId in allStoreIds:\n",
    "        overallDf = pd.concat([overallDf, restWiseDFs[storeId]], ignore_index = True)"
   ],
   "metadata": {
    "collapsed": false
   }
  },
  {
   "cell_type": "code",
   "execution_count": null,
   "outputs": [],
   "source": [
    "a = overallDf.loc[(overallDf['Oven_Time'] - overallDf['Kitchen_Display_Time'] < timedelta(seconds=1))]"
   ],
   "metadata": {
    "collapsed": false
   }
  },
  {
   "cell_type": "code",
   "execution_count": null,
   "outputs": [],
   "source": [
    "a"
   ],
   "metadata": {
    "collapsed": false
   }
  },
  {
   "cell_type": "code",
   "execution_count": null,
   "id": "bcdf4bd8",
   "metadata": {
    "ExecuteTime": {
     "end_time": "2023-02-28T08:47:40.277662Z",
     "start_time": "2023-02-28T08:47:39.968901Z"
    }
   },
   "outputs": [],
   "source": [
    "# plot for 15, 20, 25, 30 july \n",
    "plt.ylim(0.8, 1)\n",
    "plt.bar(x, medianAccuracyList)\n",
    "plt.xticks(x)\n",
    "plt.xlabel(\"Date\")\n",
    "plt.ylabel(\"Accuracy (median) on the respective day\")\n",
    "plt.title(\"Model predictions with days\")\n",
    "plt.savefig(f'{city}_7.png')\n"
   ]
  },
  {
   "cell_type": "code",
   "execution_count": null,
   "id": "e05bfe46",
   "metadata": {
    "ExecuteTime": {
     "end_time": "2023-02-28T08:47:45.557243Z",
     "start_time": "2023-02-28T08:47:40.451155Z"
    }
   },
   "outputs": [],
   "source": [
    "# baseline approach\n",
    "# Hourwise avg \n",
    "\n",
    "weekdayHourWiseAvg = {}\n",
    "weekendHourWiseAvg = {}\n",
    "for store in allStoreIds:\n",
    "    weekdayHourWiseAvg[store] = {}\n",
    "    weekendHourWiseAvg[store] = {}\n",
    "for i in range(1, 15):\n",
    "    dt = datetime(2022, 7, i)\n",
    "    for storeId in allStoreIds:\n",
    "        df = restWiseDFs[storeId].loc[(restWiseDFs[storeId]['Kitchen_Display_Time'] >= dt) & \\\n",
    "          (restWiseDFs[storeId]['Kitchen_Display_Time'] < dt+timedelta(days=1))]\n",
    "        for index, item in df.iterrows():\n",
    "            ts = getTimeslot(item['Kitchen_Display_Time'])\n",
    "            if(dayOfTheWeek(item['Kitchen_Display_Time']) >= 5):\n",
    "                if ts not in weekendHourWiseAvg[storeId]:\n",
    "                    weekendHourWiseAvg[storeId][ts] = {'val': 0, 'cnt': 0}\n",
    "                weekendHourWiseAvg[storeId][ts]['val'] += item['prep_time']\n",
    "                weekendHourWiseAvg[storeId][ts]['cnt'] += 1\n",
    "            else:\n",
    "                if ts not in weekdayHourWiseAvg[storeId]:\n",
    "                    weekdayHourWiseAvg[storeId][ts] = {'val': 0, 'cnt': 0}\n",
    "                weekdayHourWiseAvg[storeId][ts]['val'] += item['prep_time']\n",
    "                weekdayHourWiseAvg[storeId][ts]['cnt'] += 1\n",
    "\n",
    "for storeId in allStoreIds:\n",
    "    for ts in weekdayHourWiseAvg[storeId].keys():\n",
    "        weekdayHourWiseAvg[storeId][ts]['val'] = weekdayHourWiseAvg[storeId][ts]['val']/weekdayHourWiseAvg[storeId][ts]['cnt']\n",
    "    for ts in weekendHourWiseAvg[storeId].keys():\n",
    "        weekendHourWiseAvg[storeId][ts]['val'] = weekendHourWiseAvg[storeId][ts]['val']/weekendHourWiseAvg[storeId][ts]['cnt']\n",
    "        \n",
    "\n",
    "        \n",
    "        "
   ]
  },
  {
   "cell_type": "code",
   "execution_count": null,
   "id": "f8ba4d96",
   "metadata": {
    "ExecuteTime": {
     "end_time": "2023-02-28T08:47:46.961521Z",
     "start_time": "2023-02-28T08:47:45.561408Z"
    }
   },
   "outputs": [],
   "source": [
    "overallDF = pd.DataFrame()\n",
    "for storeId in allStoreIds:\n",
    "    overallDF = pd.concat([overallDF, restWiseDFs[storeId]], ignore_index = True)"
   ]
  },
  {
   "cell_type": "code",
   "execution_count": null,
   "id": "e6f27b15",
   "metadata": {
    "ExecuteTime": {
     "end_time": "2023-02-28T08:53:20.326900Z",
     "start_time": "2023-02-28T08:53:06.371322Z"
    }
   },
   "outputs": [],
   "source": [
    "avgs = []\n",
    "for index, item in overallDF.iterrows():\n",
    "    ts = getTimeslot(item['Kitchen_Display_Time'])\n",
    "    storeId = item['Location_Code']\n",
    "    if(dayOfTheWeek(item['Kitchen_Display_Time']) >= 5):\n",
    "        if(ts not in weekendHourWiseAvg[storeId]):\n",
    "            avgs.append(0)\n",
    "        else:\n",
    "            avgs.append(weekendHourWiseAvg[storeId][ts]['val'] )\n",
    "    else:\n",
    "        if(ts not in weekdayHourWiseAvg[storeId]):\n",
    "            avgs.append(0)\n",
    "        else:\n",
    "            avgs.append(weekdayHourWiseAvg[storeId][ts]['val'] )\n"
   ]
  },
  {
   "cell_type": "code",
   "execution_count": null,
   "id": "e1550749",
   "metadata": {
    "ExecuteTime": {
     "end_time": "2023-02-28T08:53:21.319684Z",
     "start_time": "2023-02-28T08:53:21.127021Z"
    }
   },
   "outputs": [],
   "source": [
    "overallDF['hourwise_avg'] = avgs"
   ]
  },
  {
   "cell_type": "code",
   "execution_count": null,
   "id": "8ef84e7d",
   "metadata": {
    "ExecuteTime": {
     "end_time": "2023-02-28T08:53:22.165474Z",
     "start_time": "2023-02-28T08:53:21.720863Z"
    }
   },
   "outputs": [],
   "source": [
    "restWiseDFs = {}\n",
    "for storeId in allStoreIds:\n",
    "    restWiseDFs[storeId] = overallDF.loc[overallDF['Location_Code'] == storeId]"
   ]
  },
  {
   "cell_type": "code",
   "execution_count": null,
   "id": "ad81ec9e",
   "metadata": {
    "ExecuteTime": {
     "end_time": "2023-02-28T08:53:22.303745Z",
     "start_time": "2023-02-28T08:53:22.287539Z"
    }
   },
   "outputs": [],
   "source": [
    "def getBaselineHyperparameters(startDay, endDay): # both are included\n",
    "    df = pd.DataFrame()\n",
    "    firstTime = datetime(2022, 7, startDay)\n",
    "    lastTime = datetime(2022, 7, endDay) + timedelta(days=1)\n",
    "    for storeId in allStoreIds:\n",
    "        df2 = restWiseDFs[storeId].loc[(restWiseDFs[storeId]['Kitchen_Display_Time'] >= firstTime) & \\\n",
    "          (restWiseDFs[storeId]['Kitchen_Display_Time'] < lastTime)]\n",
    "        df = pd.concat([df, df2], ignore_index = True)\n",
    "    \n",
    "    rmse = ((df.prep_time - df.hourwise_avg) ** 2).mean() ** .5\n",
    "    \n",
    "    absError = (abs(df.prep_time - df.hourwise_avg)).values.tolist()\n",
    "    meanAbsError = statistics.mean(absError)\n",
    "    medianAbsError = statistics.median(absError)\n",
    "    stdAbsError = statistics.stdev(absError)\n",
    "    \n",
    "    error = (df.prep_time - df.hourwise_avg).values.tolist()\n",
    "    meanError = statistics.mean(error)\n",
    "    medianError = statistics.median(error)\n",
    "    stdError = statistics.stdev(error)\n",
    "    \n",
    "    accuracy = ((df.prep_time - abs(df.prep_time - df.hourwise_avg))/df.prep_time).values.tolist()\n",
    "    meanAccuracy = statistics.mean(accuracy)\n",
    "    medianAccuracy = statistics.median(accuracy)\n",
    "    stdAccuracy = statistics.stdev(accuracy)\n",
    "    return rmse, (meanAbsError, medianAbsError, stdAbsError), (meanError, medianError, stdError), (meanAccuracy, medianAccuracy, stdAccuracy)"
   ]
  },
  {
   "cell_type": "code",
   "execution_count": null,
   "id": "327b6871",
   "metadata": {
    "ExecuteTime": {
     "end_time": "2023-02-28T08:53:23.953284Z",
     "start_time": "2023-02-28T08:53:22.723425Z"
    }
   },
   "outputs": [],
   "source": [
    "rmseListBL = []\n",
    "meanAbsErrorListBL = []\n",
    "medianAbsErrorListBL = []\n",
    "stdAbsErrorListBL = []\n",
    "meanErrorListBL = []\n",
    "medianErrorListBL = []\n",
    "stdErrorListBL = []\n",
    "meanAccuracyListBL = []\n",
    "medianAccuracyListBL = []\n",
    "stdAccuracyListBL = []\n",
    "\n",
    "x = [15, 16, 17, 18, 19, 20, 21, 22, 23, 24, 25, 26, 27, 28, 29, 30, 31]\n",
    "\n",
    "for i in x:\n",
    "    (rmse, (meanAbsError, medianAbsError, stdAbsError), \n",
    "    (meanError, medianError, stdError), \n",
    "    (meanAccuracy, medianAccuracy, stdAccuracy)) = getBaselineHyperparameters(i,i)\n",
    "    rmseListBL.append(rmse)\n",
    "    meanAbsErrorListBL.append(meanAbsError)\n",
    "    medianAbsErrorListBL.append(medianAbsError)\n",
    "    stdAbsErrorListBL.append(stdAbsError)\n",
    "    meanErrorListBL.append(meanError)\n",
    "    medianErrorListBL.append(medianError)\n",
    "    stdErrorListBL.append(stdError)\n",
    "    meanAccuracyListBL.append(meanAccuracy)\n",
    "    medianAccuracyListBL.append(medianAccuracy)\n",
    "    stdAccuracyListBL.append(stdAccuracy)"
   ]
  },
  {
   "cell_type": "code",
   "execution_count": null,
   "id": "16c1fd68",
   "metadata": {
    "ExecuteTime": {
     "end_time": "2023-02-28T08:53:24.251889Z",
     "start_time": "2023-02-28T08:53:23.955782Z"
    }
   },
   "outputs": [],
   "source": [
    "# plot for 15, 20, 25, 30 july \n",
    "plt.bar(x, rmseListBL)\n",
    "plt.xticks(x)\n",
    "plt.xlabel(\"Date\")\n",
    "plt.ylabel(\"RMSE value on the respective day\")\n",
    "plt.title(\"Baseline prediction\")\n",
    "plt.savefig(f'BL_{city}_1.png')"
   ]
  },
  {
   "cell_type": "code",
   "execution_count": null,
   "id": "954fa3a2",
   "metadata": {
    "ExecuteTime": {
     "end_time": "2023-02-28T08:53:24.277573Z",
     "start_time": "2023-02-28T08:53:24.270759Z"
    }
   },
   "outputs": [],
   "source": [
    "rmseListBL"
   ]
  },
  {
   "cell_type": "code",
   "execution_count": null,
   "id": "d2d27811",
   "metadata": {},
   "outputs": [],
   "source": []
  },
  {
   "cell_type": "code",
   "execution_count": null,
   "id": "bf96bec6",
   "metadata": {
    "ExecuteTime": {
     "end_time": "2023-02-28T08:53:30.156110Z",
     "start_time": "2023-02-28T08:53:29.773958Z"
    }
   },
   "outputs": [],
   "source": [
    "# plot for 15, 20, 25, 30 july \n",
    "plt.bar(x, medianAbsErrorListBL)\n",
    "plt.xticks(x)\n",
    "plt.xlabel(\"Date\")\n",
    "plt.ylabel(\"Absolute Value of error (median) on the respective day\")\n",
    "plt.title(\"Baseline Prediction\")\n",
    "plt.savefig(f'BL_{city}_3.png')"
   ]
  },
  {
   "cell_type": "code",
   "execution_count": null,
   "id": "2cc67186",
   "metadata": {
    "ExecuteTime": {
     "end_time": "2023-02-28T08:53:31.099796Z",
     "start_time": "2023-02-28T08:53:30.504316Z"
    }
   },
   "outputs": [],
   "source": [
    "# plot for 15, 20, 25, 30 july \n",
    "plt.errorbar(x, meanErrorListBL, stdErrorListBL)\n",
    "plt.xticks(x)\n",
    "plt.xlabel(\"Date\")\n",
    "plt.ylabel(\"error (mean, std dev of the day) on the respective day\")\n",
    "plt.title(\"Baseline Prediction\")\n",
    "plt.savefig(f'BL_{city}_4.png')"
   ]
  },
  {
   "cell_type": "code",
   "execution_count": null,
   "id": "f78dcc1a",
   "metadata": {
    "ExecuteTime": {
     "end_time": "2023-02-28T08:53:31.531098Z",
     "start_time": "2023-02-28T08:53:31.205231Z"
    }
   },
   "outputs": [],
   "source": [
    "# plot for 15, 20, 25, 30 july \n",
    "plt.bar(x, medianErrorListBL)\n",
    "plt.xticks(x)\n",
    "plt.xlabel(\"Date\")\n",
    "plt.ylabel(\"error (median) on the respective day\")\n",
    "plt.title(\"Baseline Prediction\")\n",
    "plt.savefig(f'BL_{city}_5.png')"
   ]
  },
  {
   "cell_type": "code",
   "execution_count": null,
   "id": "67bed860",
   "metadata": {
    "ExecuteTime": {
     "end_time": "2023-02-28T08:53:32.095381Z",
     "start_time": "2023-02-28T08:53:31.775787Z"
    }
   },
   "outputs": [],
   "source": [
    "# plot for 15, 20, 25, 30 july \n",
    "plt.errorbar(x, meanAccuracyListBL, stdAccuracyListBL)\n",
    "plt.xticks(x)\n",
    "plt.xlabel(\"Date\")\n",
    "plt.ylabel(\"Accuracy (mean, std dev of the day) on the respective day\")\n",
    "plt.title(\"Baseline Prediction\")\n",
    "plt.savefig(f'BL_{city}_6.png')\n",
    "\n"
   ]
  },
  {
   "cell_type": "code",
   "execution_count": null,
   "id": "26d9b44a",
   "metadata": {
    "ExecuteTime": {
     "end_time": "2023-02-28T08:53:32.511245Z",
     "start_time": "2023-02-28T08:53:32.192626Z"
    }
   },
   "outputs": [],
   "source": [
    "# plot for 15, 20, 25, 30 july \n",
    "plt.ylim(0.7, 1)\n",
    "plt.bar(x, medianAccuracyListBL)\n",
    "plt.xticks(x)\n",
    "plt.xlabel(\"Date\")\n",
    "plt.ylabel(\"Accuracy (median) on the respective day\")\n",
    "plt.title(\"Baseline Prediction\")\n",
    "plt.savefig(f'BL_{city}_7.png')\n"
   ]
  },
  {
   "cell_type": "code",
   "execution_count": null,
   "id": "77100fb3",
   "metadata": {},
   "outputs": [],
   "source": []
  },
  {
   "cell_type": "code",
   "execution_count": null,
   "id": "68cee0a3",
   "metadata": {
    "ExecuteTime": {
     "end_time": "2023-02-28T09:13:07.986156Z",
     "start_time": "2023-02-28T09:13:06.944183Z"
    }
   },
   "outputs": [],
   "source": [
    "(rmseTr, (meanAbsErrorTr, medianAbsErrorTr, stdAbsErrorTr), \n",
    "    (meanErrorTr, medianErrorTr, stdErrorTr), \n",
    "    (meanAccuracyTr, medianAccuracyTr, stdAccuracyTr)) = getPredictionHyperparameters(1, 14)"
   ]
  },
  {
   "cell_type": "code",
   "execution_count": null,
   "id": "c174c632",
   "metadata": {
    "ExecuteTime": {
     "end_time": "2023-02-28T09:13:34.966113Z",
     "start_time": "2023-02-28T09:13:33.791689Z"
    }
   },
   "outputs": [],
   "source": [
    "(rmseTe, (meanAbsErrorTe, medianAbsErrorTe, stdAbsErrorTe), \n",
    "    (meanErrorTe, medianErrorTe, stdErrorTe), \n",
    "    (meanAccuracyTe, medianAccuracyTe, stdAccuracyTe)) = getPredictionHyperparameters(15, 31)"
   ]
  },
  {
   "cell_type": "code",
   "execution_count": null,
   "id": "e47b7600",
   "metadata": {
    "ExecuteTime": {
     "end_time": "2023-02-28T09:13:40.916748Z",
     "start_time": "2023-02-28T09:13:40.903487Z"
    }
   },
   "outputs": [],
   "source": [
    "(rmseTr, (meanAbsErrorTr, medianAbsErrorTr, stdAbsErrorTr), \n",
    "    (meanErrorTr, medianErrorTr, stdErrorTr), \n",
    "    (meanAccuracyTr, medianAccuracyTr, stdAccuracyTr))"
   ]
  },
  {
   "cell_type": "code",
   "execution_count": null,
   "id": "d37efa14",
   "metadata": {
    "ExecuteTime": {
     "end_time": "2023-02-28T09:13:46.903856Z",
     "start_time": "2023-02-28T09:13:46.892539Z"
    }
   },
   "outputs": [],
   "source": [
    "(rmseTe, (meanAbsErrorTe, medianAbsErrorTe, stdAbsErrorTe), \n",
    "    (meanErrorTe, medianErrorTe, stdErrorTe), \n",
    "    (meanAccuracyTe, medianAccuracyTe, stdAccuracyTe))"
   ]
  },
  {
   "cell_type": "code",
   "execution_count": null,
   "id": "5c2d9cc9",
   "metadata": {
    "ExecuteTime": {
     "end_time": "2023-02-28T09:19:11.446192Z",
     "start_time": "2023-02-28T09:19:11.079848Z"
    }
   },
   "outputs": [],
   "source": [
    "x = [15, 16, 17, 18, 19, 20, 21, 22, 23, 24, 25, 26, 27, 28, 29, 30, 31]\n",
    "plt.plot(x, rmseList, label=\"xgboost model\")\n",
    "plt.plot(x, rmseListBL, label='baseline')\n",
    "plt.xticks(x)\n",
    "plt.xlabel(\"Date\")\n",
    "plt.ylabel(\"RMSE Comparison on the respective day\")\n",
    "plt.title(\"Model vs Baseline in RMSE values\")\n",
    "plt.legend()\n",
    "plt.savefig(f'BL_{city}_7.png')\n"
   ]
  },
  {
   "cell_type": "code",
   "execution_count": null,
   "id": "a275958a",
   "metadata": {
    "ExecuteTime": {
     "end_time": "2023-02-28T09:22:47.106000Z",
     "start_time": "2023-02-28T09:22:46.723247Z"
    }
   },
   "outputs": [],
   "source": [
    "x = [15, 16, 17, 18, 19, 20, 21, 22, 23, 24, 25, 26, 27, 28, 29, 30, 31]\n",
    "plt.plot(x, medianAbsErrorList, label=\"xgboost model\")\n",
    "plt.plot(x, medianAbsErrorListBL, label='baseline')\n",
    "plt.xticks(x)\n",
    "plt.xlabel(\"Date\")\n",
    "plt.ylabel(\"Median Abs Error Comparison on the respective day\")\n",
    "plt.title(\"Model vs Baseline in Median Abs Error\")\n",
    "plt.legend()\n",
    "plt.savefig(f'BL_{city}_8.png')"
   ]
  },
  {
   "cell_type": "code",
   "execution_count": null,
   "id": "b93a62a3",
   "metadata": {
    "ExecuteTime": {
     "end_time": "2023-02-28T09:33:28.830805Z",
     "start_time": "2023-02-28T09:33:19.935682Z"
    }
   },
   "outputs": [],
   "source": [
    "def getErrorSlot(error):\n",
    "    return (error//5)*5\n",
    "\n",
    "cnt = {}\n",
    "for index, item in overallDF.iterrows():\n",
    "    error = (item['prep_time'] - item['predicted_prep_time'])/60\n",
    "    lts = getErrorSlot(error)\n",
    "    if(lts not in cnt):\n",
    "        cnt[lts]=1\n",
    "    else:\n",
    "        cnt[lts]+=1"
   ]
  },
  {
   "cell_type": "code",
   "execution_count": null,
   "id": "5e1997ec",
   "metadata": {
    "ExecuteTime": {
     "end_time": "2023-02-28T09:33:30.490816Z",
     "start_time": "2023-02-28T09:33:30.484209Z"
    }
   },
   "outputs": [],
   "source": [
    "ranges = sorted(cnt.keys())"
   ]
  },
  {
   "cell_type": "code",
   "execution_count": null,
   "id": "6ed57caa",
   "metadata": {
    "ExecuteTime": {
     "end_time": "2023-02-28T09:33:31.229213Z",
     "start_time": "2023-02-28T09:33:31.219279Z"
    }
   },
   "outputs": [],
   "source": [
    "cnt[-10]"
   ]
  },
  {
   "cell_type": "code",
   "execution_count": null,
   "id": "3ecbdd43",
   "metadata": {
    "ExecuteTime": {
     "end_time": "2023-02-28T09:33:32.068152Z",
     "start_time": "2023-02-28T09:33:32.058188Z"
    }
   },
   "outputs": [],
   "source": [
    "cnt[-5]"
   ]
  },
  {
   "cell_type": "code",
   "execution_count": null,
   "id": "4bb5d0cb",
   "metadata": {
    "ExecuteTime": {
     "end_time": "2023-02-28T09:33:35.916145Z",
     "start_time": "2023-02-28T09:33:35.905308Z"
    }
   },
   "outputs": [],
   "source": [
    "cnt[0]"
   ]
  },
  {
   "cell_type": "code",
   "execution_count": null,
   "id": "2b1d7ce7",
   "metadata": {},
   "outputs": [],
   "source": [
    "for i in range(-)"
   ]
  },
  {
   "cell_type": "code",
   "execution_count": null,
   "outputs": [],
   "source": [],
   "metadata": {
    "collapsed": false
   }
  },
  {
   "cell_type": "code",
   "execution_count": null,
   "outputs": [],
   "source": [],
   "metadata": {
    "collapsed": false
   }
  },
  {
   "cell_type": "code",
   "execution_count": null,
   "outputs": [],
   "source": [],
   "metadata": {
    "collapsed": false
   }
  },
  {
   "cell_type": "code",
   "execution_count": null,
   "outputs": [],
   "source": [],
   "metadata": {
    "collapsed": false
   }
  },
  {
   "cell_type": "code",
   "execution_count": null,
   "outputs": [],
   "source": [],
   "metadata": {
    "collapsed": false
   }
  },
  {
   "cell_type": "code",
   "execution_count": null,
   "outputs": [],
   "source": [],
   "metadata": {
    "collapsed": false
   }
  },
  {
   "cell_type": "code",
   "execution_count": null,
   "outputs": [],
   "source": [],
   "metadata": {
    "collapsed": false
   }
  },
  {
   "cell_type": "code",
   "execution_count": null,
   "outputs": [],
   "source": [],
   "metadata": {
    "collapsed": false
   }
  },
  {
   "cell_type": "code",
   "execution_count": null,
   "outputs": [],
   "source": [],
   "metadata": {
    "collapsed": false
   }
  },
  {
   "cell_type": "code",
   "execution_count": null,
   "outputs": [],
   "source": [],
   "metadata": {
    "collapsed": false
   }
  },
  {
   "cell_type": "code",
   "execution_count": null,
   "outputs": [],
   "source": [],
   "metadata": {
    "collapsed": false
   }
  },
  {
   "cell_type": "code",
   "execution_count": null,
   "outputs": [],
   "source": [],
   "metadata": {
    "collapsed": false
   }
  },
  {
   "cell_type": "code",
   "execution_count": null,
   "outputs": [],
   "source": [],
   "metadata": {
    "collapsed": false
   }
  },
  {
   "cell_type": "code",
   "execution_count": null,
   "outputs": [],
   "source": [],
   "metadata": {
    "collapsed": false
   }
  },
  {
   "cell_type": "code",
   "execution_count": null,
   "outputs": [],
   "source": [],
   "metadata": {
    "collapsed": false
   }
  },
  {
   "cell_type": "code",
   "execution_count": null,
   "outputs": [],
   "source": [],
   "metadata": {
    "collapsed": false
   }
  },
  {
   "cell_type": "code",
   "execution_count": null,
   "outputs": [],
   "source": [],
   "metadata": {
    "collapsed": false
   }
  },
  {
   "cell_type": "code",
   "execution_count": null,
   "outputs": [],
   "source": [],
   "metadata": {
    "collapsed": false
   }
  },
  {
   "cell_type": "code",
   "execution_count": null,
   "outputs": [],
   "source": [],
   "metadata": {
    "collapsed": false
   }
  }
 ],
 "metadata": {
  "kernelspec": {
   "display_name": "Python 3 (ipykernel)",
   "language": "python",
   "name": "python3"
  },
  "language_info": {
   "codemirror_mode": {
    "name": "ipython",
    "version": 3
   },
   "file_extension": ".py",
   "mimetype": "text/x-python",
   "name": "python",
   "nbconvert_exporter": "python",
   "pygments_lexer": "ipython3",
   "version": "3.10.6"
  }
 },
 "nbformat": 4,
 "nbformat_minor": 5
}
