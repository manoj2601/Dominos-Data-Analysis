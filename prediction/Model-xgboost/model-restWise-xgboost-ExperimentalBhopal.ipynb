{
 "cells": [
  {
   "cell_type": "code",
   "execution_count": null,
   "id": "3488f333",
   "metadata": {
    "ExecuteTime": {
     "end_time": "2023-02-28T08:35:28.482349Z",
     "start_time": "2023-02-28T08:35:05.404938Z"
    },
    "pycharm": {
     "is_executing": true
    }
   },
   "outputs": [],
   "source": [
    "# imports\n",
    "import json\n",
    "import pandas as pd\n",
    "import numpy as np\n",
    "import random\n",
    "from datetime import datetime, timedelta\n",
    "import sklearn\n",
    "import math\n",
    "from sklearn.feature_extraction.text import CountVectorizer\n",
    "from sklearn.feature_extraction.text import TfidfVectorizer\n",
    "from sklearn.linear_model import LogisticRegression\n",
    "from sklearn.model_selection import train_test_split\n",
    "\n",
    "import time\n",
    "import matplotlib.pyplot as plt\n",
    "\n",
    "from sklearn.model_selection import train_test_split\n",
    "from sklearn.preprocessing import StandardScaler\n",
    "from sklearn.neural_network import MLPClassifier\n",
    "from sklearn.metrics import classification_report, confusion_matrix\n",
    "from sklearn.ensemble import RandomForestRegressor \n",
    "from statistics import mean\n",
    "import pickle\n",
    "import statistics\n",
    "\n",
    "from sklearn.model_selection import cross_val_score\n",
    "from sklearn.model_selection import RepeatedKFold\n",
    "from xgboost import XGBRegressor\n",
    "from numpy import absolute\n",
    "from sklearn.model_selection import GridSearchCV"
   ]
  },
  {
   "cell_type": "code",
   "execution_count": 2,
   "id": "03a22cbb",
   "metadata": {
    "ExecuteTime": {
     "end_time": "2023-02-28T08:35:44.232232Z",
     "start_time": "2023-02-28T08:35:44.224949Z"
    }
   },
   "outputs": [],
   "source": [
    "city = 'Bhopal'\n",
    "month = 'July'\n",
    "PATH = f'./../Item_wise_data/{city}/'\n",
    "# PATH = './../'\n"
   ]
  },
  {
   "cell_type": "code",
   "execution_count": null,
   "id": "500b335e",
   "metadata": {
    "ExecuteTime": {
     "end_time": "2023-02-28T08:35:49.172824Z",
     "start_time": "2023-02-28T08:35:45.504498Z"
    },
    "pycharm": {
     "is_executing": true
    }
   },
   "outputs": [],
   "source": [
    "# exclude non baking items\n",
    "df = pd.read_csv(PATH+f'{month}.csv')\n",
    "df = df[pd.notna(df['Oven_Time'])]\n",
    "df = df.sort_values(by =['Kitchen_Display_Time', 'Location_Code', 'Order_Number'])\n",
    "# df"
   ]
  },
  {
   "cell_type": "code",
   "execution_count": 4,
   "id": "ec45c79b",
   "metadata": {
    "ExecuteTime": {
     "end_time": "2023-02-28T08:35:49.277481Z",
     "start_time": "2023-02-28T08:35:49.176230Z"
    }
   },
   "outputs": [
    {
     "name": "stdout",
     "output_type": "stream",
     "text": [
      "(156415, 29)\n",
      "(156415, 10)\n"
     ]
    }
   ],
   "source": [
    "print(df.shape)\n",
    "df = df.drop(['storedesc', 'city', 'Customer_Code', 'Customer_Name', 'Actual_Order_Date', 'Order_Status_Code', 'Order_Type_Code', 'Order_Saved', 'Order_Time', 'Driver_ID', 'Route_Time', 'Return_Time', 'Delayed_Order', 'Order_Taker_ID','Order_Taker_Shift', 'Closed_Order_Time', 'Customer_Address_Id', 'Original_Location_Code', 'Order_Id',], axis=1)\n",
    "print(df.shape)\n"
   ]
  },
  {
   "cell_type": "code",
   "execution_count": 5,
   "id": "be15fa7d",
   "metadata": {
    "ExecuteTime": {
     "end_time": "2023-02-28T08:35:50.957881Z",
     "start_time": "2023-02-28T08:35:50.675167Z"
    }
   },
   "outputs": [
    {
     "name": "stdout",
     "output_type": "stream",
     "text": [
      "(156415, 11)\n"
     ]
    },
    {
     "data": {
      "text/plain": "       Location_Code           Order_Date  Order_Number  Driver_Shift  \\\n92935       DPI66576  2022-07-01 00:00:00             1           0.0   \n158804      DPI66154  2022-07-01 00:00:00             1           1.0   \n33904       DPI66576  2022-07-01 00:00:00             2           0.0   \n69467       DPI66576  2022-07-01 00:00:00             2           0.0   \n53156       DPI66449  2022-07-01 00:00:00             2           1.0   \n\n          Kitchen_Display_Time               Oven_Time Menu_Code  \\\n92935  2022-07-01 11:06:45.417 2022-07-01 11:07:26.867   PIZ0200   \n158804 2022-07-01 11:06:53.140 2022-07-01 11:09:58.387   PIZ5106   \n33904  2022-07-01 11:12:01.983 2022-07-01 11:13:30.210   PIZ0121   \n69467  2022-07-01 11:12:01.983 2022-07-01 11:13:30.697   PIZ0120   \n53156  2022-07-01 11:12:33.490 2022-07-01 11:13:58.503   PIZ0130   \n\n                     Item Description  Quantity            Delivery_Time  \\\n92935     Corn n Cheese Paratha Pizza       1.0                      NaN   \n158804                Chicken Sausage       1.0  2022-07-01 11:24:46.000   \n33904              VG2-1Mexican Green       1.0  2022-07-01 11:26:48.840   \n69467               VG2-1Peppy Paneer       1.0  2022-07-01 11:26:48.840   \n53156   _PM39-Pizza Mania Golden Corn       1.0  2022-07-01 11:32:00.000   \n\n        prep_time  \n92935      41.450  \n158804    185.247  \n33904      88.227  \n69467      88.714  \n53156      85.013  ",
      "text/html": "<div>\n<style scoped>\n    .dataframe tbody tr th:only-of-type {\n        vertical-align: middle;\n    }\n\n    .dataframe tbody tr th {\n        vertical-align: top;\n    }\n\n    .dataframe thead th {\n        text-align: right;\n    }\n</style>\n<table border=\"1\" class=\"dataframe\">\n  <thead>\n    <tr style=\"text-align: right;\">\n      <th></th>\n      <th>Location_Code</th>\n      <th>Order_Date</th>\n      <th>Order_Number</th>\n      <th>Driver_Shift</th>\n      <th>Kitchen_Display_Time</th>\n      <th>Oven_Time</th>\n      <th>Menu_Code</th>\n      <th>Item Description</th>\n      <th>Quantity</th>\n      <th>Delivery_Time</th>\n      <th>prep_time</th>\n    </tr>\n  </thead>\n  <tbody>\n    <tr>\n      <th>92935</th>\n      <td>DPI66576</td>\n      <td>2022-07-01 00:00:00</td>\n      <td>1</td>\n      <td>0.0</td>\n      <td>2022-07-01 11:06:45.417</td>\n      <td>2022-07-01 11:07:26.867</td>\n      <td>PIZ0200</td>\n      <td>Corn n Cheese Paratha Pizza</td>\n      <td>1.0</td>\n      <td>NaN</td>\n      <td>41.450</td>\n    </tr>\n    <tr>\n      <th>158804</th>\n      <td>DPI66154</td>\n      <td>2022-07-01 00:00:00</td>\n      <td>1</td>\n      <td>1.0</td>\n      <td>2022-07-01 11:06:53.140</td>\n      <td>2022-07-01 11:09:58.387</td>\n      <td>PIZ5106</td>\n      <td>Chicken Sausage</td>\n      <td>1.0</td>\n      <td>2022-07-01 11:24:46.000</td>\n      <td>185.247</td>\n    </tr>\n    <tr>\n      <th>33904</th>\n      <td>DPI66576</td>\n      <td>2022-07-01 00:00:00</td>\n      <td>2</td>\n      <td>0.0</td>\n      <td>2022-07-01 11:12:01.983</td>\n      <td>2022-07-01 11:13:30.210</td>\n      <td>PIZ0121</td>\n      <td>VG2-1Mexican Green</td>\n      <td>1.0</td>\n      <td>2022-07-01 11:26:48.840</td>\n      <td>88.227</td>\n    </tr>\n    <tr>\n      <th>69467</th>\n      <td>DPI66576</td>\n      <td>2022-07-01 00:00:00</td>\n      <td>2</td>\n      <td>0.0</td>\n      <td>2022-07-01 11:12:01.983</td>\n      <td>2022-07-01 11:13:30.697</td>\n      <td>PIZ0120</td>\n      <td>VG2-1Peppy Paneer</td>\n      <td>1.0</td>\n      <td>2022-07-01 11:26:48.840</td>\n      <td>88.714</td>\n    </tr>\n    <tr>\n      <th>53156</th>\n      <td>DPI66449</td>\n      <td>2022-07-01 00:00:00</td>\n      <td>2</td>\n      <td>1.0</td>\n      <td>2022-07-01 11:12:33.490</td>\n      <td>2022-07-01 11:13:58.503</td>\n      <td>PIZ0130</td>\n      <td>_PM39-Pizza Mania Golden Corn</td>\n      <td>1.0</td>\n      <td>2022-07-01 11:32:00.000</td>\n      <td>85.013</td>\n    </tr>\n  </tbody>\n</table>\n</div>"
     },
     "execution_count": 5,
     "metadata": {},
     "output_type": "execute_result"
    }
   ],
   "source": [
    "df['Kitchen_Display_Time'] = pd.to_datetime(df['Kitchen_Display_Time'])\n",
    "df['Oven_Time'] = pd.to_datetime(df['Oven_Time'])\n",
    "df['prep_time'] = df['Oven_Time'] - df['Kitchen_Display_Time']\n",
    "df['prep_time'] = (df['prep_time']/np.timedelta64(1, 's')).astype(float)\n",
    "print(df.shape)\n",
    "df.head()"
   ]
  },
  {
   "cell_type": "code",
   "execution_count": 6,
   "id": "b36a4fbb",
   "metadata": {
    "ExecuteTime": {
     "end_time": "2023-02-28T08:35:51.853189Z",
     "start_time": "2023-02-28T08:35:51.805445Z"
    }
   },
   "outputs": [
    {
     "name": "stdout",
     "output_type": "stream",
     "text": [
      "(156186, 11)\n"
     ]
    },
    {
     "data": {
      "text/plain": "       Location_Code           Order_Date  Order_Number  Driver_Shift  \\\n92935       DPI66576  2022-07-01 00:00:00             1           0.0   \n158804      DPI66154  2022-07-01 00:00:00             1           1.0   \n33904       DPI66576  2022-07-01 00:00:00             2           0.0   \n69467       DPI66576  2022-07-01 00:00:00             2           0.0   \n53156       DPI66449  2022-07-01 00:00:00             2           1.0   \n\n          Kitchen_Display_Time               Oven_Time Menu_Code  \\\n92935  2022-07-01 11:06:45.417 2022-07-01 11:07:26.867   PIZ0200   \n158804 2022-07-01 11:06:53.140 2022-07-01 11:09:58.387   PIZ5106   \n33904  2022-07-01 11:12:01.983 2022-07-01 11:13:30.210   PIZ0121   \n69467  2022-07-01 11:12:01.983 2022-07-01 11:13:30.697   PIZ0120   \n53156  2022-07-01 11:12:33.490 2022-07-01 11:13:58.503   PIZ0130   \n\n                     Item Description  Quantity            Delivery_Time  \\\n92935     Corn n Cheese Paratha Pizza       1.0                      NaN   \n158804                Chicken Sausage       1.0  2022-07-01 11:24:46.000   \n33904              VG2-1Mexican Green       1.0  2022-07-01 11:26:48.840   \n69467               VG2-1Peppy Paneer       1.0  2022-07-01 11:26:48.840   \n53156   _PM39-Pizza Mania Golden Corn       1.0  2022-07-01 11:32:00.000   \n\n        prep_time  \n92935      41.450  \n158804    185.247  \n33904      88.227  \n69467      88.714  \n53156      85.013  ",
      "text/html": "<div>\n<style scoped>\n    .dataframe tbody tr th:only-of-type {\n        vertical-align: middle;\n    }\n\n    .dataframe tbody tr th {\n        vertical-align: top;\n    }\n\n    .dataframe thead th {\n        text-align: right;\n    }\n</style>\n<table border=\"1\" class=\"dataframe\">\n  <thead>\n    <tr style=\"text-align: right;\">\n      <th></th>\n      <th>Location_Code</th>\n      <th>Order_Date</th>\n      <th>Order_Number</th>\n      <th>Driver_Shift</th>\n      <th>Kitchen_Display_Time</th>\n      <th>Oven_Time</th>\n      <th>Menu_Code</th>\n      <th>Item Description</th>\n      <th>Quantity</th>\n      <th>Delivery_Time</th>\n      <th>prep_time</th>\n    </tr>\n  </thead>\n  <tbody>\n    <tr>\n      <th>92935</th>\n      <td>DPI66576</td>\n      <td>2022-07-01 00:00:00</td>\n      <td>1</td>\n      <td>0.0</td>\n      <td>2022-07-01 11:06:45.417</td>\n      <td>2022-07-01 11:07:26.867</td>\n      <td>PIZ0200</td>\n      <td>Corn n Cheese Paratha Pizza</td>\n      <td>1.0</td>\n      <td>NaN</td>\n      <td>41.450</td>\n    </tr>\n    <tr>\n      <th>158804</th>\n      <td>DPI66154</td>\n      <td>2022-07-01 00:00:00</td>\n      <td>1</td>\n      <td>1.0</td>\n      <td>2022-07-01 11:06:53.140</td>\n      <td>2022-07-01 11:09:58.387</td>\n      <td>PIZ5106</td>\n      <td>Chicken Sausage</td>\n      <td>1.0</td>\n      <td>2022-07-01 11:24:46.000</td>\n      <td>185.247</td>\n    </tr>\n    <tr>\n      <th>33904</th>\n      <td>DPI66576</td>\n      <td>2022-07-01 00:00:00</td>\n      <td>2</td>\n      <td>0.0</td>\n      <td>2022-07-01 11:12:01.983</td>\n      <td>2022-07-01 11:13:30.210</td>\n      <td>PIZ0121</td>\n      <td>VG2-1Mexican Green</td>\n      <td>1.0</td>\n      <td>2022-07-01 11:26:48.840</td>\n      <td>88.227</td>\n    </tr>\n    <tr>\n      <th>69467</th>\n      <td>DPI66576</td>\n      <td>2022-07-01 00:00:00</td>\n      <td>2</td>\n      <td>0.0</td>\n      <td>2022-07-01 11:12:01.983</td>\n      <td>2022-07-01 11:13:30.697</td>\n      <td>PIZ0120</td>\n      <td>VG2-1Peppy Paneer</td>\n      <td>1.0</td>\n      <td>2022-07-01 11:26:48.840</td>\n      <td>88.714</td>\n    </tr>\n    <tr>\n      <th>53156</th>\n      <td>DPI66449</td>\n      <td>2022-07-01 00:00:00</td>\n      <td>2</td>\n      <td>1.0</td>\n      <td>2022-07-01 11:12:33.490</td>\n      <td>2022-07-01 11:13:58.503</td>\n      <td>PIZ0130</td>\n      <td>_PM39-Pizza Mania Golden Corn</td>\n      <td>1.0</td>\n      <td>2022-07-01 11:32:00.000</td>\n      <td>85.013</td>\n    </tr>\n  </tbody>\n</table>\n</div>"
     },
     "execution_count": 6,
     "metadata": {},
     "output_type": "execute_result"
    }
   ],
   "source": [
    "isThresholdForPreparationTime = True\n",
    "thresholdForPreparationTimeUpper = 15 # minutes for preparation time (threshold)\n",
    "thresholdForPreparationTimeLower = 0 # minutes for lowest preparation time (threshold)\n",
    "df2 = pd.DataFrame()\n",
    "if (isThresholdForPreparationTime):\n",
    "    df = df.loc[(df['prep_time'] <= thresholdForPreparationTimeUpper*60) & \\\n",
    "        (df['prep_time'] >= thresholdForPreparationTimeLower*60) ]\n",
    "print(df.shape)\n",
    "df.head()"
   ]
  },
  {
   "cell_type": "code",
   "execution_count": 7,
   "id": "4877e791",
   "metadata": {
    "ExecuteTime": {
     "end_time": "2023-02-28T08:35:55.688660Z",
     "start_time": "2023-02-28T08:35:55.652761Z"
    }
   },
   "outputs": [
    {
     "name": "stdout",
     "output_type": "stream",
     "text": [
      "146\n",
      "12\n"
     ]
    }
   ],
   "source": [
    "allMenuCodes = df['Menu_Code'].unique()\n",
    "allStoreIds = df['Location_Code'].unique()\n",
    "# allMenuCodes,\n",
    "# allStoreIds\n",
    "print(len(allMenuCodes))\n",
    "print(len(allStoreIds))"
   ]
  },
  {
   "cell_type": "code",
   "execution_count": 8,
   "id": "dd82fb15",
   "metadata": {
    "ExecuteTime": {
     "end_time": "2023-02-28T08:35:58.631602Z",
     "start_time": "2023-02-28T08:35:58.453295Z"
    }
   },
   "outputs": [],
   "source": [
    "restWiseDFs = {}\n",
    "for storeId in allStoreIds:\n",
    "    restWiseDFs[storeId] = df.loc[df['Location_Code'] == storeId]"
   ]
  },
  {
   "cell_type": "code",
   "execution_count": 9,
   "outputs": [],
   "source": [
    "def get_preparation_time(item):\n",
    "    return item['prep_time']"
   ],
   "metadata": {
    "collapsed": false
   }
  },
  {
   "cell_type": "code",
   "execution_count": 10,
   "id": "3259a2ba",
   "metadata": {
    "ExecuteTime": {
     "end_time": "2023-02-28T08:35:59.952496Z",
     "start_time": "2023-02-28T08:35:59.280847Z"
    }
   },
   "outputs": [],
   "source": [
    "sampleItem=None\n",
    "for index, item in df.iterrows():\n",
    "    sampleItem = item\n",
    "    break"
   ]
  },
  {
   "cell_type": "code",
   "execution_count": 11,
   "id": "4ed902e2",
   "metadata": {
    "ExecuteTime": {
     "end_time": "2023-02-28T08:36:00.191400Z",
     "start_time": "2023-02-28T08:36:00.179285Z"
    }
   },
   "outputs": [],
   "source": [
    "# Feature 1: store id\n",
    "def getOneHotEncodingStore(storeId, stores=allStoreIds):\n",
    "    oneHotEncodingList = []\n",
    "    for i in range(0, len(stores)):\n",
    "        if stores[i] == storeId:\n",
    "            oneHotEncodingList.append(1)\n",
    "        else:\n",
    "            oneHotEncodingList.append(0)\n",
    "    return oneHotEncodingList\n",
    "\n",
    "# returns the feature store id for an order\n",
    "def getStoreId(item, isOneHotEncodingRequired=False):\n",
    "    if isOneHotEncodingRequired:\n",
    "        return getOneHotEncodingStore(item['Location_Code'], allStoreIds)\n",
    "    else:\n",
    "        for i in range(0, len(allStoreIds)):\n",
    "            if item['Location_Code'] == allStoreIds[i]:\n",
    "                return [i+1]\n",
    "        return [-1]"
   ]
  },
  {
   "cell_type": "code",
   "execution_count": 12,
   "outputs": [],
   "source": [
    "# Feature 2 : Day of the week\n",
    "def dayOfTheWeek(dt, isOneHotEncodingRequired=False):\n",
    "    day = dt.weekday()\n",
    "    if isOneHotEncodingRequired:\n",
    "        days = [0, 0, 0, 0, 0, 0, 0]\n",
    "        days[day] = 1\n",
    "        return days\n",
    "    else:\n",
    "        return [day+1]"
   ],
   "metadata": {
    "collapsed": false
   }
  },
  {
   "cell_type": "code",
   "execution_count": 13,
   "id": "517c95d9",
   "metadata": {
    "ExecuteTime": {
     "end_time": "2023-02-28T08:36:01.416512Z",
     "start_time": "2023-02-28T08:36:01.408823Z"
    }
   },
   "outputs": [
    {
     "name": "stdout",
     "output_type": "stream",
     "text": [
      "[1]\n",
      "[1, 0, 0, 0, 0, 0, 0, 0, 0, 0, 0, 0]\n"
     ]
    }
   ],
   "source": [
    "print(getStoreId(sampleItem))\n",
    "print(getStoreId(sampleItem, True))"
   ]
  },
  {
   "cell_type": "code",
   "execution_count": 14,
   "outputs": [],
   "source": [
    "# Feature 3: TimeSlot of kitchen display time\n",
    "total_slots = 24\n",
    "def getTimeslot(dt, slots=total_slots):\n",
    "\tcurrent = datetime(2011, 1, 1)\n",
    "\tt1 = current.time()\n",
    "\tt2 = dt.time()\n",
    "\tfor i in range(0, slots):\n",
    "\t\tcurrent = current + timedelta(minutes = 60*24/slots)\n",
    "\t\tif(current.time() > t2):\n",
    "\t\t\treturn i\n",
    "\treturn slots-1\n",
    "\n",
    "def getOneHotEncodingTimeSlot(timeslot):\n",
    "    oneHotEncodingList = []\n",
    "    for i in range(0, 24):\n",
    "        oneHotEncodingList.append(0)\n",
    "    oneHotEncodingList[timeslot] = 1\n",
    "    return oneHotEncodingList\n",
    "\n",
    "def getTimeSlotOfKitchenDisplayTime(item, isOneHotEncodingRequired=False):\n",
    "    timeslot = getTimeslot(item['Kitchen_Display_Time'], 24)\n",
    "    if (isOneHotEncodingRequired):\n",
    "        return getOneHotEncodingTimeSlot(timeslot)\n",
    "    else:\n",
    "        return [1+timeslot]"
   ],
   "metadata": {
    "collapsed": false
   }
  },
  {
   "cell_type": "code",
   "execution_count": 15,
   "id": "73180e66",
   "metadata": {
    "ExecuteTime": {
     "end_time": "2023-02-28T08:36:02.082003Z",
     "start_time": "2023-02-28T08:36:02.070144Z"
    }
   },
   "outputs": [],
   "source": [
    "# Feature 4: Item Type\n",
    "def getOneHotEncodedItemList(item, items=allMenuCodes, clubCategoryWise=False):\n",
    "    if clubCategoryWise:\n",
    "        newItemsList = []\n",
    "        newItemsList = [i[0:3] for i in items]\n",
    "        unique_items = list(dict.fromkeys(newItemsList))\n",
    "        return getOneHotEncodedItemList(item[0:3], unique_items, False)\n",
    "    \n",
    "    oneHotEncodingList=[]\n",
    "    for i in range(0, len(items)):\n",
    "        if items[i] == item:\n",
    "            oneHotEncodingList.append(1)\n",
    "        else:\n",
    "            oneHotEncodingList.append(0)\n",
    "    return oneHotEncodingList\n",
    "\n",
    "def getItemType(item, clubCategoryWise=False, isOneHotEncodingRequired=False):\n",
    "    if isOneHotEncodingRequired:\n",
    "        return getOneHotEncodedItemList(item['Menu_Code'], allMenuCodes, clubCategoryWise)\n",
    "    else:\n",
    "        for i in range(0, len(allMenuCodes)):\n",
    "            if allMenuCodes[i] == item['Menu_Code']:\n",
    "                return [i+1]\n",
    "        print(\"DANGER DANGER DANGER \\n\\n\\n\")\n",
    "        return [-1]"
   ]
  },
  {
   "cell_type": "code",
   "execution_count": 16,
   "id": "042b3f08",
   "metadata": {
    "ExecuteTime": {
     "end_time": "2023-02-28T08:36:02.863557Z",
     "start_time": "2023-02-28T08:36:02.854853Z"
    }
   },
   "outputs": [
    {
     "name": "stdout",
     "output_type": "stream",
     "text": [
      "[1, 0, 0, 0, 0, 0, 0, 0, 0, 0, 0, 0, 0, 0, 0, 0, 0, 0, 0, 0, 0, 0, 0, 0, 0, 0, 0, 0, 0, 0, 0, 0, 0, 0, 0, 0, 0, 0, 0, 0, 0, 0, 0, 0, 0, 0, 0, 0, 0, 0, 0, 0, 0, 0, 0, 0, 0, 0, 0, 0, 0, 0, 0, 0, 0, 0, 0, 0, 0, 0, 0, 0, 0, 0, 0, 0, 0, 0, 0, 0, 0, 0, 0, 0, 0, 0, 0, 0, 0, 0, 0, 0, 0, 0, 0, 0, 0, 0, 0, 0, 0, 0, 0, 0, 0, 0, 0, 0, 0, 0, 0, 0, 0, 0, 0, 0, 0, 0, 0, 0, 0, 0, 0, 0, 0, 0, 0, 0, 0, 0, 0, 0, 0, 0, 0, 0, 0, 0, 0, 0, 0, 0, 0, 0, 0, 0]\n",
      "[1]\n",
      "[1]\n",
      "[1]\n"
     ]
    }
   ],
   "source": [
    "print(getItemType(sampleItem, False, True))\n",
    "print(getItemType(sampleItem, True, False))\n",
    "print(getItemType(sampleItem, clubCategoryWise=True))\n",
    "print(getItemType(sampleItem, True))"
   ]
  },
  {
   "cell_type": "code",
   "execution_count": 17,
   "id": "98906d7e",
   "metadata": {
    "ExecuteTime": {
     "end_time": "2023-02-28T08:36:05.589483Z",
     "start_time": "2023-02-28T08:36:05.580174Z"
    }
   },
   "outputs": [],
   "source": [
    "# Feature 5 : Count of all baking items of all orders received by the store in the last 30 minutes.\n",
    "\n",
    "def countPastOrders(item, slotTime=30):\n",
    "    storeId = item['Location_Code']\n",
    "    df = restWiseDFs[storeId]\n",
    "    dtKitchenDisplay = item['Kitchen_Display_Time']\n",
    "    lastTime = dtKitchenDisplay - timedelta(minutes=slotTime)\n",
    "    return len(df.loc[(df['Kitchen_Display_Time'] >= lastTime) & \\\n",
    "          (df['Kitchen_Display_Time'] <= dtKitchenDisplay)].index)"
   ]
  },
  {
   "cell_type": "code",
   "execution_count": 19,
   "outputs": [],
   "source": [
    "# Feature 6: ratio of items in last 30 minutes with items in the window of last 60 to 30 minutes (increment in orders)\n",
    "def getLiftInOrders(item, slotTime = 30):\n",
    "    a = countPastOrders(item, slotTime)\n",
    "    item2 = item\n",
    "    item2['Kitchen_Display_Time'] = item2['Kitchen_Display_Time'] - timedelta(minutes=slotTime)\n",
    "    b = countPastOrders(item2, slotTime)\n",
    "    if b != 0:\n",
    "        return a/b\n",
    "    else:\n",
    "        return 1\n"
   ],
   "metadata": {
    "collapsed": false
   }
  },
  {
   "cell_type": "code",
   "execution_count": 20,
   "id": "13d55221",
   "metadata": {
    "ExecuteTime": {
     "end_time": "2023-02-28T08:40:26.666331Z",
     "start_time": "2023-02-28T08:36:14.903833Z"
    },
    "scrolled": true
   },
   "outputs": [
    {
     "name": "stderr",
     "output_type": "stream",
     "text": [
      "/var/folders/44/wjytndj97cq3yq4r22tkb6t00000gn/T/ipykernel_5000/294207109.py:6: SettingWithCopyWarning: \n",
      "A value is trying to be set on a copy of a slice from a DataFrame.\n",
      "Try using .loc[row_indexer,col_indexer] = value instead\n",
      "\n",
      "See the caveats in the documentation: https://pandas.pydata.org/pandas-docs/stable/user_guide/indexing.html#returning-a-view-versus-a-copy\n",
      "  restWiseDFs[storeId]['avg_kpt_in_last_one_hour'] = 0 # to create a new column with initial values 0\n",
      "/var/folders/44/wjytndj97cq3yq4r22tkb6t00000gn/T/ipykernel_5000/294207109.py:7: SettingWithCopyWarning: \n",
      "A value is trying to be set on a copy of a slice from a DataFrame.\n",
      "Try using .loc[row_indexer,col_indexer] = value instead\n",
      "\n",
      "See the caveats in the documentation: https://pandas.pydata.org/pandas-docs/stable/user_guide/indexing.html#returning-a-view-versus-a-copy\n",
      "  restWiseDFs[storeId]['avg_kpt_in_last_7_days'] = 0\n",
      "/var/folders/44/wjytndj97cq3yq4r22tkb6t00000gn/T/ipykernel_5000/294207109.py:8: SettingWithCopyWarning: \n",
      "A value is trying to be set on a copy of a slice from a DataFrame.\n",
      "Try using .loc[row_indexer,col_indexer] = value instead\n",
      "\n",
      "See the caveats in the documentation: https://pandas.pydata.org/pandas-docs/stable/user_guide/indexing.html#returning-a-view-versus-a-copy\n",
      "  restWiseDFs[storeId]['hourswise_avg_kpt'] = 0\n",
      "/var/folders/44/wjytndj97cq3yq4r22tkb6t00000gn/T/ipykernel_5000/294207109.py:6: SettingWithCopyWarning: \n",
      "A value is trying to be set on a copy of a slice from a DataFrame.\n",
      "Try using .loc[row_indexer,col_indexer] = value instead\n",
      "\n",
      "See the caveats in the documentation: https://pandas.pydata.org/pandas-docs/stable/user_guide/indexing.html#returning-a-view-versus-a-copy\n",
      "  restWiseDFs[storeId]['avg_kpt_in_last_one_hour'] = 0 # to create a new column with initial values 0\n",
      "/var/folders/44/wjytndj97cq3yq4r22tkb6t00000gn/T/ipykernel_5000/294207109.py:7: SettingWithCopyWarning: \n",
      "A value is trying to be set on a copy of a slice from a DataFrame.\n",
      "Try using .loc[row_indexer,col_indexer] = value instead\n",
      "\n",
      "See the caveats in the documentation: https://pandas.pydata.org/pandas-docs/stable/user_guide/indexing.html#returning-a-view-versus-a-copy\n",
      "  restWiseDFs[storeId]['avg_kpt_in_last_7_days'] = 0\n",
      "/var/folders/44/wjytndj97cq3yq4r22tkb6t00000gn/T/ipykernel_5000/294207109.py:8: SettingWithCopyWarning: \n",
      "A value is trying to be set on a copy of a slice from a DataFrame.\n",
      "Try using .loc[row_indexer,col_indexer] = value instead\n",
      "\n",
      "See the caveats in the documentation: https://pandas.pydata.org/pandas-docs/stable/user_guide/indexing.html#returning-a-view-versus-a-copy\n",
      "  restWiseDFs[storeId]['hourswise_avg_kpt'] = 0\n",
      "/var/folders/44/wjytndj97cq3yq4r22tkb6t00000gn/T/ipykernel_5000/294207109.py:6: SettingWithCopyWarning: \n",
      "A value is trying to be set on a copy of a slice from a DataFrame.\n",
      "Try using .loc[row_indexer,col_indexer] = value instead\n",
      "\n",
      "See the caveats in the documentation: https://pandas.pydata.org/pandas-docs/stable/user_guide/indexing.html#returning-a-view-versus-a-copy\n",
      "  restWiseDFs[storeId]['avg_kpt_in_last_one_hour'] = 0 # to create a new column with initial values 0\n",
      "/var/folders/44/wjytndj97cq3yq4r22tkb6t00000gn/T/ipykernel_5000/294207109.py:7: SettingWithCopyWarning: \n",
      "A value is trying to be set on a copy of a slice from a DataFrame.\n",
      "Try using .loc[row_indexer,col_indexer] = value instead\n",
      "\n",
      "See the caveats in the documentation: https://pandas.pydata.org/pandas-docs/stable/user_guide/indexing.html#returning-a-view-versus-a-copy\n",
      "  restWiseDFs[storeId]['avg_kpt_in_last_7_days'] = 0\n",
      "/var/folders/44/wjytndj97cq3yq4r22tkb6t00000gn/T/ipykernel_5000/294207109.py:8: SettingWithCopyWarning: \n",
      "A value is trying to be set on a copy of a slice from a DataFrame.\n",
      "Try using .loc[row_indexer,col_indexer] = value instead\n",
      "\n",
      "See the caveats in the documentation: https://pandas.pydata.org/pandas-docs/stable/user_guide/indexing.html#returning-a-view-versus-a-copy\n",
      "  restWiseDFs[storeId]['hourswise_avg_kpt'] = 0\n",
      "/var/folders/44/wjytndj97cq3yq4r22tkb6t00000gn/T/ipykernel_5000/294207109.py:6: SettingWithCopyWarning: \n",
      "A value is trying to be set on a copy of a slice from a DataFrame.\n",
      "Try using .loc[row_indexer,col_indexer] = value instead\n",
      "\n",
      "See the caveats in the documentation: https://pandas.pydata.org/pandas-docs/stable/user_guide/indexing.html#returning-a-view-versus-a-copy\n",
      "  restWiseDFs[storeId]['avg_kpt_in_last_one_hour'] = 0 # to create a new column with initial values 0\n",
      "/var/folders/44/wjytndj97cq3yq4r22tkb6t00000gn/T/ipykernel_5000/294207109.py:7: SettingWithCopyWarning: \n",
      "A value is trying to be set on a copy of a slice from a DataFrame.\n",
      "Try using .loc[row_indexer,col_indexer] = value instead\n",
      "\n",
      "See the caveats in the documentation: https://pandas.pydata.org/pandas-docs/stable/user_guide/indexing.html#returning-a-view-versus-a-copy\n",
      "  restWiseDFs[storeId]['avg_kpt_in_last_7_days'] = 0\n",
      "/var/folders/44/wjytndj97cq3yq4r22tkb6t00000gn/T/ipykernel_5000/294207109.py:8: SettingWithCopyWarning: \n",
      "A value is trying to be set on a copy of a slice from a DataFrame.\n",
      "Try using .loc[row_indexer,col_indexer] = value instead\n",
      "\n",
      "See the caveats in the documentation: https://pandas.pydata.org/pandas-docs/stable/user_guide/indexing.html#returning-a-view-versus-a-copy\n",
      "  restWiseDFs[storeId]['hourswise_avg_kpt'] = 0\n",
      "/var/folders/44/wjytndj97cq3yq4r22tkb6t00000gn/T/ipykernel_5000/294207109.py:6: SettingWithCopyWarning: \n",
      "A value is trying to be set on a copy of a slice from a DataFrame.\n",
      "Try using .loc[row_indexer,col_indexer] = value instead\n",
      "\n",
      "See the caveats in the documentation: https://pandas.pydata.org/pandas-docs/stable/user_guide/indexing.html#returning-a-view-versus-a-copy\n",
      "  restWiseDFs[storeId]['avg_kpt_in_last_one_hour'] = 0 # to create a new column with initial values 0\n",
      "/var/folders/44/wjytndj97cq3yq4r22tkb6t00000gn/T/ipykernel_5000/294207109.py:7: SettingWithCopyWarning: \n",
      "A value is trying to be set on a copy of a slice from a DataFrame.\n",
      "Try using .loc[row_indexer,col_indexer] = value instead\n",
      "\n",
      "See the caveats in the documentation: https://pandas.pydata.org/pandas-docs/stable/user_guide/indexing.html#returning-a-view-versus-a-copy\n",
      "  restWiseDFs[storeId]['avg_kpt_in_last_7_days'] = 0\n",
      "/var/folders/44/wjytndj97cq3yq4r22tkb6t00000gn/T/ipykernel_5000/294207109.py:8: SettingWithCopyWarning: \n",
      "A value is trying to be set on a copy of a slice from a DataFrame.\n",
      "Try using .loc[row_indexer,col_indexer] = value instead\n",
      "\n",
      "See the caveats in the documentation: https://pandas.pydata.org/pandas-docs/stable/user_guide/indexing.html#returning-a-view-versus-a-copy\n",
      "  restWiseDFs[storeId]['hourswise_avg_kpt'] = 0\n",
      "/var/folders/44/wjytndj97cq3yq4r22tkb6t00000gn/T/ipykernel_5000/294207109.py:6: SettingWithCopyWarning: \n",
      "A value is trying to be set on a copy of a slice from a DataFrame.\n",
      "Try using .loc[row_indexer,col_indexer] = value instead\n",
      "\n",
      "See the caveats in the documentation: https://pandas.pydata.org/pandas-docs/stable/user_guide/indexing.html#returning-a-view-versus-a-copy\n",
      "  restWiseDFs[storeId]['avg_kpt_in_last_one_hour'] = 0 # to create a new column with initial values 0\n",
      "/var/folders/44/wjytndj97cq3yq4r22tkb6t00000gn/T/ipykernel_5000/294207109.py:7: SettingWithCopyWarning: \n",
      "A value is trying to be set on a copy of a slice from a DataFrame.\n",
      "Try using .loc[row_indexer,col_indexer] = value instead\n",
      "\n",
      "See the caveats in the documentation: https://pandas.pydata.org/pandas-docs/stable/user_guide/indexing.html#returning-a-view-versus-a-copy\n",
      "  restWiseDFs[storeId]['avg_kpt_in_last_7_days'] = 0\n",
      "/var/folders/44/wjytndj97cq3yq4r22tkb6t00000gn/T/ipykernel_5000/294207109.py:8: SettingWithCopyWarning: \n",
      "A value is trying to be set on a copy of a slice from a DataFrame.\n",
      "Try using .loc[row_indexer,col_indexer] = value instead\n",
      "\n",
      "See the caveats in the documentation: https://pandas.pydata.org/pandas-docs/stable/user_guide/indexing.html#returning-a-view-versus-a-copy\n",
      "  restWiseDFs[storeId]['hourswise_avg_kpt'] = 0\n",
      "/var/folders/44/wjytndj97cq3yq4r22tkb6t00000gn/T/ipykernel_5000/294207109.py:6: SettingWithCopyWarning: \n",
      "A value is trying to be set on a copy of a slice from a DataFrame.\n",
      "Try using .loc[row_indexer,col_indexer] = value instead\n",
      "\n",
      "See the caveats in the documentation: https://pandas.pydata.org/pandas-docs/stable/user_guide/indexing.html#returning-a-view-versus-a-copy\n",
      "  restWiseDFs[storeId]['avg_kpt_in_last_one_hour'] = 0 # to create a new column with initial values 0\n",
      "/var/folders/44/wjytndj97cq3yq4r22tkb6t00000gn/T/ipykernel_5000/294207109.py:7: SettingWithCopyWarning: \n",
      "A value is trying to be set on a copy of a slice from a DataFrame.\n",
      "Try using .loc[row_indexer,col_indexer] = value instead\n",
      "\n",
      "See the caveats in the documentation: https://pandas.pydata.org/pandas-docs/stable/user_guide/indexing.html#returning-a-view-versus-a-copy\n",
      "  restWiseDFs[storeId]['avg_kpt_in_last_7_days'] = 0\n",
      "/var/folders/44/wjytndj97cq3yq4r22tkb6t00000gn/T/ipykernel_5000/294207109.py:8: SettingWithCopyWarning: \n",
      "A value is trying to be set on a copy of a slice from a DataFrame.\n",
      "Try using .loc[row_indexer,col_indexer] = value instead\n",
      "\n",
      "See the caveats in the documentation: https://pandas.pydata.org/pandas-docs/stable/user_guide/indexing.html#returning-a-view-versus-a-copy\n",
      "  restWiseDFs[storeId]['hourswise_avg_kpt'] = 0\n",
      "/var/folders/44/wjytndj97cq3yq4r22tkb6t00000gn/T/ipykernel_5000/294207109.py:6: SettingWithCopyWarning: \n",
      "A value is trying to be set on a copy of a slice from a DataFrame.\n",
      "Try using .loc[row_indexer,col_indexer] = value instead\n",
      "\n",
      "See the caveats in the documentation: https://pandas.pydata.org/pandas-docs/stable/user_guide/indexing.html#returning-a-view-versus-a-copy\n",
      "  restWiseDFs[storeId]['avg_kpt_in_last_one_hour'] = 0 # to create a new column with initial values 0\n",
      "/var/folders/44/wjytndj97cq3yq4r22tkb6t00000gn/T/ipykernel_5000/294207109.py:7: SettingWithCopyWarning: \n",
      "A value is trying to be set on a copy of a slice from a DataFrame.\n",
      "Try using .loc[row_indexer,col_indexer] = value instead\n",
      "\n",
      "See the caveats in the documentation: https://pandas.pydata.org/pandas-docs/stable/user_guide/indexing.html#returning-a-view-versus-a-copy\n",
      "  restWiseDFs[storeId]['avg_kpt_in_last_7_days'] = 0\n",
      "/var/folders/44/wjytndj97cq3yq4r22tkb6t00000gn/T/ipykernel_5000/294207109.py:8: SettingWithCopyWarning: \n",
      "A value is trying to be set on a copy of a slice from a DataFrame.\n",
      "Try using .loc[row_indexer,col_indexer] = value instead\n",
      "\n",
      "See the caveats in the documentation: https://pandas.pydata.org/pandas-docs/stable/user_guide/indexing.html#returning-a-view-versus-a-copy\n",
      "  restWiseDFs[storeId]['hourswise_avg_kpt'] = 0\n",
      "/var/folders/44/wjytndj97cq3yq4r22tkb6t00000gn/T/ipykernel_5000/294207109.py:6: SettingWithCopyWarning: \n",
      "A value is trying to be set on a copy of a slice from a DataFrame.\n",
      "Try using .loc[row_indexer,col_indexer] = value instead\n",
      "\n",
      "See the caveats in the documentation: https://pandas.pydata.org/pandas-docs/stable/user_guide/indexing.html#returning-a-view-versus-a-copy\n",
      "  restWiseDFs[storeId]['avg_kpt_in_last_one_hour'] = 0 # to create a new column with initial values 0\n",
      "/var/folders/44/wjytndj97cq3yq4r22tkb6t00000gn/T/ipykernel_5000/294207109.py:7: SettingWithCopyWarning: \n",
      "A value is trying to be set on a copy of a slice from a DataFrame.\n",
      "Try using .loc[row_indexer,col_indexer] = value instead\n",
      "\n",
      "See the caveats in the documentation: https://pandas.pydata.org/pandas-docs/stable/user_guide/indexing.html#returning-a-view-versus-a-copy\n",
      "  restWiseDFs[storeId]['avg_kpt_in_last_7_days'] = 0\n",
      "/var/folders/44/wjytndj97cq3yq4r22tkb6t00000gn/T/ipykernel_5000/294207109.py:8: SettingWithCopyWarning: \n",
      "A value is trying to be set on a copy of a slice from a DataFrame.\n",
      "Try using .loc[row_indexer,col_indexer] = value instead\n",
      "\n",
      "See the caveats in the documentation: https://pandas.pydata.org/pandas-docs/stable/user_guide/indexing.html#returning-a-view-versus-a-copy\n",
      "  restWiseDFs[storeId]['hourswise_avg_kpt'] = 0\n",
      "/var/folders/44/wjytndj97cq3yq4r22tkb6t00000gn/T/ipykernel_5000/294207109.py:6: SettingWithCopyWarning: \n",
      "A value is trying to be set on a copy of a slice from a DataFrame.\n",
      "Try using .loc[row_indexer,col_indexer] = value instead\n",
      "\n",
      "See the caveats in the documentation: https://pandas.pydata.org/pandas-docs/stable/user_guide/indexing.html#returning-a-view-versus-a-copy\n",
      "  restWiseDFs[storeId]['avg_kpt_in_last_one_hour'] = 0 # to create a new column with initial values 0\n",
      "/var/folders/44/wjytndj97cq3yq4r22tkb6t00000gn/T/ipykernel_5000/294207109.py:7: SettingWithCopyWarning: \n",
      "A value is trying to be set on a copy of a slice from a DataFrame.\n",
      "Try using .loc[row_indexer,col_indexer] = value instead\n",
      "\n",
      "See the caveats in the documentation: https://pandas.pydata.org/pandas-docs/stable/user_guide/indexing.html#returning-a-view-versus-a-copy\n",
      "  restWiseDFs[storeId]['avg_kpt_in_last_7_days'] = 0\n",
      "/var/folders/44/wjytndj97cq3yq4r22tkb6t00000gn/T/ipykernel_5000/294207109.py:8: SettingWithCopyWarning: \n",
      "A value is trying to be set on a copy of a slice from a DataFrame.\n",
      "Try using .loc[row_indexer,col_indexer] = value instead\n",
      "\n",
      "See the caveats in the documentation: https://pandas.pydata.org/pandas-docs/stable/user_guide/indexing.html#returning-a-view-versus-a-copy\n",
      "  restWiseDFs[storeId]['hourswise_avg_kpt'] = 0\n",
      "/var/folders/44/wjytndj97cq3yq4r22tkb6t00000gn/T/ipykernel_5000/294207109.py:6: SettingWithCopyWarning: \n",
      "A value is trying to be set on a copy of a slice from a DataFrame.\n",
      "Try using .loc[row_indexer,col_indexer] = value instead\n",
      "\n",
      "See the caveats in the documentation: https://pandas.pydata.org/pandas-docs/stable/user_guide/indexing.html#returning-a-view-versus-a-copy\n",
      "  restWiseDFs[storeId]['avg_kpt_in_last_one_hour'] = 0 # to create a new column with initial values 0\n",
      "/var/folders/44/wjytndj97cq3yq4r22tkb6t00000gn/T/ipykernel_5000/294207109.py:7: SettingWithCopyWarning: \n",
      "A value is trying to be set on a copy of a slice from a DataFrame.\n",
      "Try using .loc[row_indexer,col_indexer] = value instead\n",
      "\n",
      "See the caveats in the documentation: https://pandas.pydata.org/pandas-docs/stable/user_guide/indexing.html#returning-a-view-versus-a-copy\n",
      "  restWiseDFs[storeId]['avg_kpt_in_last_7_days'] = 0\n",
      "/var/folders/44/wjytndj97cq3yq4r22tkb6t00000gn/T/ipykernel_5000/294207109.py:8: SettingWithCopyWarning: \n",
      "A value is trying to be set on a copy of a slice from a DataFrame.\n",
      "Try using .loc[row_indexer,col_indexer] = value instead\n",
      "\n",
      "See the caveats in the documentation: https://pandas.pydata.org/pandas-docs/stable/user_guide/indexing.html#returning-a-view-versus-a-copy\n",
      "  restWiseDFs[storeId]['hourswise_avg_kpt'] = 0\n",
      "/var/folders/44/wjytndj97cq3yq4r22tkb6t00000gn/T/ipykernel_5000/294207109.py:6: SettingWithCopyWarning: \n",
      "A value is trying to be set on a copy of a slice from a DataFrame.\n",
      "Try using .loc[row_indexer,col_indexer] = value instead\n",
      "\n",
      "See the caveats in the documentation: https://pandas.pydata.org/pandas-docs/stable/user_guide/indexing.html#returning-a-view-versus-a-copy\n",
      "  restWiseDFs[storeId]['avg_kpt_in_last_one_hour'] = 0 # to create a new column with initial values 0\n",
      "/var/folders/44/wjytndj97cq3yq4r22tkb6t00000gn/T/ipykernel_5000/294207109.py:7: SettingWithCopyWarning: \n",
      "A value is trying to be set on a copy of a slice from a DataFrame.\n",
      "Try using .loc[row_indexer,col_indexer] = value instead\n",
      "\n",
      "See the caveats in the documentation: https://pandas.pydata.org/pandas-docs/stable/user_guide/indexing.html#returning-a-view-versus-a-copy\n",
      "  restWiseDFs[storeId]['avg_kpt_in_last_7_days'] = 0\n",
      "/var/folders/44/wjytndj97cq3yq4r22tkb6t00000gn/T/ipykernel_5000/294207109.py:8: SettingWithCopyWarning: \n",
      "A value is trying to be set on a copy of a slice from a DataFrame.\n",
      "Try using .loc[row_indexer,col_indexer] = value instead\n",
      "\n",
      "See the caveats in the documentation: https://pandas.pydata.org/pandas-docs/stable/user_guide/indexing.html#returning-a-view-versus-a-copy\n",
      "  restWiseDFs[storeId]['hourswise_avg_kpt'] = 0\n"
     ]
    }
   ],
   "source": [
    "# TIME CONSUMING (4 m 14 seconds for Bhopal)\n",
    "# Feature 7 : Avg prep time of the same item in the same store in last 60 minutes.\n",
    "# Feature 8 : Avg prep time of the same item in the same store in last 7 days.\n",
    "for storeId in restWiseDFs:\n",
    "    avgPrepTime = restWiseDFs[storeId]['prep_time'].mean()    \n",
    "    restWiseDFs[storeId]['avg_kpt_in_last_one_hour'] = 0 # to create a new column with initial values 0\n",
    "    restWiseDFs[storeId]['avg_kpt_in_last_7_days'] = 0\n",
    "    restWiseDFs[storeId]['hourswise_avg_kpt'] = 0\n",
    "    for index, item in restWiseDFs[storeId].iterrows():\n",
    "        itemCode = item['Menu_Code']\n",
    "        dtKitchenDisplay = item['Kitchen_Display_Time']\n",
    "        lastTimeMinutes = dtKitchenDisplay - timedelta(minutes=60)\n",
    "        lastTime = dtKitchenDisplay - timedelta(days=7)\n",
    "        df3 = restWiseDFs[storeId].loc[(restWiseDFs[storeId]['Kitchen_Display_Time'] >= lastTime) & \\\n",
    "                     (restWiseDFs[storeId]['Kitchen_Display_Time'] < dtKitchenDisplay) & \\\n",
    "                                 (restWiseDFs[storeId]['Menu_Code'] == itemCode)]\n",
    "        df2 = df3.loc[df3['Kitchen_Display_Time'] >= lastTimeMinutes]\n",
    "        if len(df3.index) != 0:\n",
    "            restWiseDFs[storeId].at[index, 'avg_kpt_in_last_one_hour'] = df2['prep_time'].mean()\n",
    "        else:\n",
    "            restWiseDFs[storeId].at[index, 'avg_kpt_in_last_one_hour'] =  avgPrepTime\n",
    "        if len(df2.index) != 0:\n",
    "            restWiseDFs[storeId].at[index, 'avg_kpt_in_last_7_days'] = df3['prep_time'].mean()\n",
    "        else:\n",
    "            restWiseDFs[storeId].at[index, 'avg_kpt_in_last_7_days'] =  avgPrepTime\n"
   ]
  },
  {
   "cell_type": "code",
   "execution_count": 21,
   "outputs": [],
   "source": [
    "def getPreviousPrepTime(item, timeslot = 60):\n",
    "    if timeslot == 60:\n",
    "        return item['avg_kpt_in_last_one_hour']\n",
    "    elif timeslot == 7*24*60:\n",
    "        return item['avg_kpt_in_last_7_days']\n",
    "    else:\n",
    "        itemCode = item['Menu_Code']\n",
    "        df = restWiseDFs[item['Location_Code']]\n",
    "\n",
    "        dtKitchenDisplay = item['Kitchen_Display_Time']\n",
    "\n",
    "        lastTime = dtKitchenDisplay - timedelta(minutes=timeslot)\n",
    "\n",
    "        df2 = df.loc[(df['Kitchen_Display_Time'] >= lastTime) & \\\n",
    "                     (df['Kitchen_Display_Time'] < dtKitchenDisplay) & \\\n",
    "                                 (df['Menu_Code'] == itemCode)]\n",
    "        if len(df2.index) != 0:\n",
    "            return df2['prep_time'].mean()\n",
    "        else:\n",
    "            return restWiseDFs[storeId]['prep_time'].mean()"
   ],
   "metadata": {
    "collapsed": false
   }
  },
  {
   "cell_type": "code",
   "execution_count": 22,
   "outputs": [
    {
     "name": "stderr",
     "output_type": "stream",
     "text": [
      "/var/folders/44/wjytndj97cq3yq4r22tkb6t00000gn/T/ipykernel_5000/3148041664.py:23: SettingWithCopyWarning: \n",
      "A value is trying to be set on a copy of a slice from a DataFrame.\n",
      "Try using .loc[row_indexer,col_indexer] = value instead\n",
      "\n",
      "See the caveats in the documentation: https://pandas.pydata.org/pandas-docs/stable/user_guide/indexing.html#returning-a-view-versus-a-copy\n",
      "  restWiseDFs[storeId]['hour_wise_avg_kpt_of_the_day'] = hwa\n",
      "/var/folders/44/wjytndj97cq3yq4r22tkb6t00000gn/T/ipykernel_5000/3148041664.py:23: SettingWithCopyWarning: \n",
      "A value is trying to be set on a copy of a slice from a DataFrame.\n",
      "Try using .loc[row_indexer,col_indexer] = value instead\n",
      "\n",
      "See the caveats in the documentation: https://pandas.pydata.org/pandas-docs/stable/user_guide/indexing.html#returning-a-view-versus-a-copy\n",
      "  restWiseDFs[storeId]['hour_wise_avg_kpt_of_the_day'] = hwa\n",
      "/var/folders/44/wjytndj97cq3yq4r22tkb6t00000gn/T/ipykernel_5000/3148041664.py:23: SettingWithCopyWarning: \n",
      "A value is trying to be set on a copy of a slice from a DataFrame.\n",
      "Try using .loc[row_indexer,col_indexer] = value instead\n",
      "\n",
      "See the caveats in the documentation: https://pandas.pydata.org/pandas-docs/stable/user_guide/indexing.html#returning-a-view-versus-a-copy\n",
      "  restWiseDFs[storeId]['hour_wise_avg_kpt_of_the_day'] = hwa\n",
      "/var/folders/44/wjytndj97cq3yq4r22tkb6t00000gn/T/ipykernel_5000/3148041664.py:23: SettingWithCopyWarning: \n",
      "A value is trying to be set on a copy of a slice from a DataFrame.\n",
      "Try using .loc[row_indexer,col_indexer] = value instead\n",
      "\n",
      "See the caveats in the documentation: https://pandas.pydata.org/pandas-docs/stable/user_guide/indexing.html#returning-a-view-versus-a-copy\n",
      "  restWiseDFs[storeId]['hour_wise_avg_kpt_of_the_day'] = hwa\n",
      "/var/folders/44/wjytndj97cq3yq4r22tkb6t00000gn/T/ipykernel_5000/3148041664.py:23: SettingWithCopyWarning: \n",
      "A value is trying to be set on a copy of a slice from a DataFrame.\n",
      "Try using .loc[row_indexer,col_indexer] = value instead\n",
      "\n",
      "See the caveats in the documentation: https://pandas.pydata.org/pandas-docs/stable/user_guide/indexing.html#returning-a-view-versus-a-copy\n",
      "  restWiseDFs[storeId]['hour_wise_avg_kpt_of_the_day'] = hwa\n",
      "/var/folders/44/wjytndj97cq3yq4r22tkb6t00000gn/T/ipykernel_5000/3148041664.py:23: SettingWithCopyWarning: \n",
      "A value is trying to be set on a copy of a slice from a DataFrame.\n",
      "Try using .loc[row_indexer,col_indexer] = value instead\n",
      "\n",
      "See the caveats in the documentation: https://pandas.pydata.org/pandas-docs/stable/user_guide/indexing.html#returning-a-view-versus-a-copy\n",
      "  restWiseDFs[storeId]['hour_wise_avg_kpt_of_the_day'] = hwa\n",
      "/var/folders/44/wjytndj97cq3yq4r22tkb6t00000gn/T/ipykernel_5000/3148041664.py:23: SettingWithCopyWarning: \n",
      "A value is trying to be set on a copy of a slice from a DataFrame.\n",
      "Try using .loc[row_indexer,col_indexer] = value instead\n",
      "\n",
      "See the caveats in the documentation: https://pandas.pydata.org/pandas-docs/stable/user_guide/indexing.html#returning-a-view-versus-a-copy\n",
      "  restWiseDFs[storeId]['hour_wise_avg_kpt_of_the_day'] = hwa\n",
      "/var/folders/44/wjytndj97cq3yq4r22tkb6t00000gn/T/ipykernel_5000/3148041664.py:23: SettingWithCopyWarning: \n",
      "A value is trying to be set on a copy of a slice from a DataFrame.\n",
      "Try using .loc[row_indexer,col_indexer] = value instead\n",
      "\n",
      "See the caveats in the documentation: https://pandas.pydata.org/pandas-docs/stable/user_guide/indexing.html#returning-a-view-versus-a-copy\n",
      "  restWiseDFs[storeId]['hour_wise_avg_kpt_of_the_day'] = hwa\n",
      "/var/folders/44/wjytndj97cq3yq4r22tkb6t00000gn/T/ipykernel_5000/3148041664.py:23: SettingWithCopyWarning: \n",
      "A value is trying to be set on a copy of a slice from a DataFrame.\n",
      "Try using .loc[row_indexer,col_indexer] = value instead\n",
      "\n",
      "See the caveats in the documentation: https://pandas.pydata.org/pandas-docs/stable/user_guide/indexing.html#returning-a-view-versus-a-copy\n",
      "  restWiseDFs[storeId]['hour_wise_avg_kpt_of_the_day'] = hwa\n",
      "/var/folders/44/wjytndj97cq3yq4r22tkb6t00000gn/T/ipykernel_5000/3148041664.py:23: SettingWithCopyWarning: \n",
      "A value is trying to be set on a copy of a slice from a DataFrame.\n",
      "Try using .loc[row_indexer,col_indexer] = value instead\n",
      "\n",
      "See the caveats in the documentation: https://pandas.pydata.org/pandas-docs/stable/user_guide/indexing.html#returning-a-view-versus-a-copy\n",
      "  restWiseDFs[storeId]['hour_wise_avg_kpt_of_the_day'] = hwa\n",
      "/var/folders/44/wjytndj97cq3yq4r22tkb6t00000gn/T/ipykernel_5000/3148041664.py:23: SettingWithCopyWarning: \n",
      "A value is trying to be set on a copy of a slice from a DataFrame.\n",
      "Try using .loc[row_indexer,col_indexer] = value instead\n",
      "\n",
      "See the caveats in the documentation: https://pandas.pydata.org/pandas-docs/stable/user_guide/indexing.html#returning-a-view-versus-a-copy\n",
      "  restWiseDFs[storeId]['hour_wise_avg_kpt_of_the_day'] = hwa\n",
      "/var/folders/44/wjytndj97cq3yq4r22tkb6t00000gn/T/ipykernel_5000/3148041664.py:23: SettingWithCopyWarning: \n",
      "A value is trying to be set on a copy of a slice from a DataFrame.\n",
      "Try using .loc[row_indexer,col_indexer] = value instead\n",
      "\n",
      "See the caveats in the documentation: https://pandas.pydata.org/pandas-docs/stable/user_guide/indexing.html#returning-a-view-versus-a-copy\n",
      "  restWiseDFs[storeId]['hour_wise_avg_kpt_of_the_day'] = hwa\n"
     ]
    }
   ],
   "source": [
    "# Hourwise avg\n",
    "# Feature 9 : Avg prep time of the same item in same store : hour wise + according to the day of the week\n",
    "hourWiseAvg = {}\n",
    "for store in allStoreIds:\n",
    "    hourWiseAvg[store] = {}\n",
    "    for i in range(1, 8):\n",
    "        hourWiseAvg[store][i] = {}\n",
    "\n",
    "for storeId in allStoreIds:\n",
    "    hwa = []\n",
    "    for index, item in restWiseDFs[storeId].iterrows():\n",
    "        ts = getTimeslot(item['Kitchen_Display_Time'])\n",
    "        d = dayOfTheWeek(item['Kitchen_Display_Time'])[0]\n",
    "        if ts not in hourWiseAvg[storeId][d]:\n",
    "            hourWiseAvg[storeId][d][ts] = {'val': 0, 'cnt': 0}\n",
    "        if hourWiseAvg[storeId][d][ts]['cnt'] == 0:\n",
    "            hwa.append(item['avg_kpt_in_last_one_hour'])\n",
    "        else:\n",
    "            hwa.append(hourWiseAvg[storeId][d][ts]['val']/hourWiseAvg[storeId][d][ts]['cnt'])\n",
    "        hourWiseAvg[storeId][d][ts]['val'] += item['prep_time']\n",
    "        hourWiseAvg[storeId][d][ts]['cnt'] += 1\n",
    "\n",
    "    restWiseDFs[storeId]['hour_wise_avg_kpt_of_the_day'] = hwa"
   ],
   "metadata": {
    "collapsed": false
   }
  },
  {
   "cell_type": "code",
   "execution_count": 24,
   "outputs": [],
   "source": [
    "def getHourWiseAverage(item):\n",
    "    return item[\"hour_wise_avg_kpt_of_the_day\"]"
   ],
   "metadata": {
    "collapsed": false
   }
  },
  {
   "cell_type": "code",
   "execution_count": 25,
   "outputs": [],
   "source": [
    "# Feature 10 : Item quantity\n",
    "def getQuantity(item):\n",
    "    return item['Quantity']"
   ],
   "metadata": {
    "collapsed": false
   }
  },
  {
   "cell_type": "code",
   "execution_count": 26,
   "id": "a6c90edd",
   "metadata": {
    "ExecuteTime": {
     "end_time": "2023-02-28T08:42:02.882366Z",
     "start_time": "2023-02-28T08:42:02.873586Z"
    }
   },
   "outputs": [],
   "source": [
    "# Feature 11 : Length of the queue in the store at that time\n",
    "def lengthQueue(item):\n",
    "    dtKitchenDisplay = item['Kitchen_Display_Time']\n",
    "    d = restWiseDFs[item['Location_Code']]\n",
    "    return len(d[(d['Oven_Time'] >= dtKitchenDisplay) & (d['Kitchen_Display_Time'] <= dtKitchenDisplay)].index)"
   ]
  },
  {
   "cell_type": "code",
   "execution_count": 27,
   "id": "7d7f459b",
   "metadata": {
    "ExecuteTime": {
     "end_time": "2023-02-28T08:42:03.546282Z",
     "start_time": "2023-02-28T08:42:03.500500Z"
    }
   },
   "outputs": [],
   "source": [
    "sampleItem=None\n",
    "for index, item in restWiseDFs[storeId].iterrows():\n",
    "    sampleItem = item\n",
    "    break"
   ]
  },
  {
   "cell_type": "code",
   "execution_count": 29,
   "id": "e34eb51d",
   "metadata": {
    "ExecuteTime": {
     "end_time": "2023-02-28T08:42:05.574745Z",
     "start_time": "2023-02-28T08:42:05.562021Z"
    }
   },
   "outputs": [
    {
     "data": {
      "text/plain": "2"
     },
     "execution_count": 29,
     "metadata": {},
     "output_type": "execute_result"
    }
   ],
   "source": [
    "lengthQueue(sampleItem)"
   ]
  },
  {
   "cell_type": "code",
   "execution_count": 31,
   "id": "7b85e23b",
   "metadata": {
    "ExecuteTime": {
     "end_time": "2023-02-28T08:42:05.617072Z",
     "start_time": "2023-02-28T08:42:05.579684Z"
    }
   },
   "outputs": [],
   "source": [
    "# global variables\n",
    "\n",
    "clubItemsCategoryWise = False\n",
    "\n",
    "splitMethod = 'initial 21 days'\n",
    "slotTimeForPastOrders = 30 # minutes\n",
    "\n",
    "model = 'xgboost'\n",
    "isOneHotEncodingRequired = False\n",
    "isNormalizationRequired = False\n",
    "\n",
    "isCentralModel = True"
   ]
  },
  {
   "cell_type": "code",
   "execution_count": 32,
   "id": "636ecf24",
   "metadata": {
    "ExecuteTime": {
     "end_time": "2023-02-28T08:42:05.652421Z",
     "start_time": "2023-02-28T08:42:05.622547Z"
    }
   },
   "outputs": [],
   "source": [
    "def save_object(obj, filename):\n",
    "    with open(filename, 'wb') as outp:  # Overwrites any existing file.\n",
    "        pickle.dump(obj, outp, pickle.HIGHEST_PROTOCOL)"
   ]
  },
  {
   "cell_type": "code",
   "execution_count": 33,
   "id": "d513b5e3",
   "metadata": {
    "ExecuteTime": {
     "end_time": "2023-02-28T08:42:06.511913Z",
     "start_time": "2023-02-28T08:42:05.659169Z"
    }
   },
   "outputs": [],
   "source": [
    "save_object(restWiseDFs, f'restWiseDFsBeforeFeatureCreation{city}.pkl')"
   ]
  },
  {
   "cell_type": "code",
   "execution_count": 34,
   "id": "ecd2d076",
   "metadata": {
    "ExecuteTime": {
     "end_time": "2023-02-28T08:42:07.092365Z",
     "start_time": "2023-02-28T08:42:07.083723Z"
    }
   },
   "outputs": [],
   "source": [
    "totalFeatures = (0 + # store ID (categorical)\n",
    "                1 + # day of the week (categorical)\n",
    "                1 +  #timeslot of the day (categorical)\n",
    "                1 +  # Item type (categorical)\n",
    "                1 +  #count past orders in last 30 minutes\n",
    "                1 +  #ratio lift in last 30 minutes\n",
    "                1 + # average previous preparation time in last 1 hour\n",
    "                1 + # average previous preparation time in last 7 days\n",
    "                1 + # average kpt time, hour wise according to the day of the week\n",
    "                1 + # Item quantity\n",
    "                1) # length of the current queue\n",
    "\n",
    "if isCentralModel:\n",
    "    totalFeatures += 1\n",
    "if isOneHotEncodingRequired:\n",
    "    ##### DEPRECATED\n",
    "    totalFeatures = (7 + # one hot encoded day of the week\n",
    "                 len(allMenuCodes) +  # Item type\n",
    "                24 +  #timeslot of the day\n",
    "                1 +  #count past orders\n",
    "                1 +  #lift in last 30 minutes\n",
    "                1 + # average previous preparation time in last 1 hour\n",
    "                1 + # average previous preparation time in last 7 days\n",
    "                1) # length of the current queue\n",
    "    if isCentralModel:\n",
    "        totalFeatures += len(allStoreIds)\n",
    "\n",
    "feature_cols = []\n",
    "for i in range(0, totalFeatures):\n",
    "    feature_cols.append('feature_'+str(i+1))"
   ]
  },
  {
   "cell_type": "code",
   "execution_count": 35,
   "id": "d558b02e",
   "metadata": {
    "ExecuteTime": {
     "end_time": "2023-02-28T08:42:08.351772Z",
     "start_time": "2023-02-28T08:42:08.345338Z"
    }
   },
   "outputs": [],
   "source": [
    "def updateFeatures(storeId, Xnp):\n",
    "    restWiseDFs[storeId][feature_cols] = Xnp"
   ]
  },
  {
   "cell_type": "code",
   "execution_count": 36,
   "id": "e135b945",
   "metadata": {
    "ExecuteTime": {
     "end_time": "2023-02-28T08:45:21.962662Z",
     "start_time": "2023-02-28T08:42:09.372438Z"
    }
   },
   "outputs": [
    {
     "name": "stdout",
     "output_type": "stream",
     "text": [
      "(16460, 11)\n",
      "(10763, 11)\n",
      "(18798, 11)\n",
      "(14284, 11)\n",
      "(11443, 11)\n",
      "(12344, 11)\n",
      "(17184, 11)\n",
      "(9330, 11)\n",
      "(10509, 11)\n",
      "(12105, 11)\n",
      "(12230, 11)\n",
      "(10736, 11)\n"
     ]
    }
   ],
   "source": [
    "# TIME CONSUMING (3m 21s for Bhopal)\n",
    "for storeId in restWiseDFs:\n",
    "    X = []\n",
    "    df = restWiseDFs[storeId]\n",
    "    for index, item in df.iterrows():\n",
    "        features = getStoreId(item, False)\n",
    "        features += dayOfTheWeek(item['Kitchen_Display_Time'], isOneHotEncodingRequired)\n",
    "        features += getTimeSlotOfKitchenDisplayTime(item, isOneHotEncodingRequired)\n",
    "        features += getItemType(item, clubItemsCategoryWise, isOneHotEncodingRequired)\n",
    "        features += [countPastOrders(item, slotTimeForPastOrders)]\n",
    "        features += [getLiftInOrders(item, slotTimeForPastOrders)]\n",
    "        features += [getPreviousPrepTime(item, timeslot = 60)]\n",
    "        features += [getPreviousPrepTime(item, timeslot = 7*24*60)]\n",
    "        features += [getHourWiseAverage(item)]\n",
    "        features += [getQuantity(item)]\n",
    "        features += [lengthQueue(item)]\n",
    "        X.append(features)\n",
    "    Xnp = np.array(X)\n",
    "    updateFeatures(storeId, Xnp)\n",
    "    print(Xnp.shape)"
   ]
  },
  {
   "cell_type": "code",
   "execution_count": 37,
   "id": "8a299038",
   "metadata": {
    "ExecuteTime": {
     "end_time": "2023-02-28T08:46:31.391652Z",
     "start_time": "2023-02-28T08:46:31.381691Z"
    }
   },
   "outputs": [],
   "source": [
    "# categorical data\n",
    "if not isOneHotEncodingRequired:\n",
    "    for i in range(0, 4):\n",
    "        for storeId in allStoreIds:\n",
    "            restWiseDFs[storeId][feature_cols[i]] = restWiseDFs[storeId][feature_cols[i]].astype(\"category\")"
   ]
  },
  {
   "cell_type": "code",
   "execution_count": 40,
   "id": "ef377b61",
   "metadata": {
    "ExecuteTime": {
     "end_time": "2023-02-28T08:47:11.376431Z",
     "start_time": "2023-02-28T08:47:08.387697Z"
    }
   },
   "outputs": [],
   "source": [
    "restWiseScalers = {}\n",
    "\n",
    "# normalize feature values\n",
    "if isNormalizationRequired:\n",
    "    for storeId in allStoreIds:\n",
    "        firstTime = datetime(2022, 7, 1)\n",
    "        lastTime = datetime(2022, 7, 21)\n",
    "        trainingData = restWiseDFs[storeId].loc[(restWiseDFs[storeId]['Kitchen_Display_Time'] >= firstTime) & \\\n",
    "              (restWiseDFs[storeId]['Kitchen_Display_Time'] <= lastTime)].loc[:, feature_cols]\n",
    "        scaler = StandardScaler()\n",
    "        scaler.fit(trainingData)\n",
    "        if isNormalizationRequired:\n",
    "            X = restWiseDFs[storeId].loc[:, feature_cols]\n",
    "            X_scaled = scaler.transform(X)\n",
    "            X_scalednp = np.array(X_scaled)\n",
    "            updateFeatures(storeId, X_scalednp)\n",
    "    save_object(restWiseDFs, f'restWiseDFsWithNormalizedFeatures{city}.pkl')"
   ]
  },
  {
   "cell_type": "code",
   "execution_count": 41,
   "id": "4d647b20",
   "metadata": {
    "ExecuteTime": {
     "end_time": "2023-02-28T08:47:14.648268Z",
     "start_time": "2023-02-28T08:47:14.640207Z"
    }
   },
   "outputs": [],
   "source": [
    "def getRMSE(actual, predictions):\n",
    "    mse = sklearn.metrics.mean_squared_error(actual, predictions)\n",
    "    return math.sqrt(mse)"
   ]
  },
  {
   "cell_type": "code",
   "execution_count": 37,
   "outputs": [
    {
     "name": "stdout",
     "output_type": "stream",
     "text": [
      "Best hyperparameters: {'colsample_bytree': 0.8, 'enable_categorical': True, 'learning_rate': 0.1, 'max_depth': 3, 'n_estimators': 50, 'subsample': 0.7, 'tree_method': 'approx'}\n",
      "Best mean cross-validated score: 0.24136717140391878\n",
      "Test score: 0.2603012284709243\n",
      "RMSE score overall for store central model (30 days) DPI66168 :   119.79152563921313\n",
      "RMSE score overall for store central model (30 days) DPI65804 :   148.95013614111664\n",
      "RMSE score overall for store central model (30 days) DPI65767 :   113.84408161835557\n",
      "RMSE score overall for store central model (30 days) DPI67065 :   143.68797700704354\n",
      "RMSE score overall for store central model (30 days) DPI65762 :   153.24295598692373\n",
      "RMSE score overall for store central model (30 days) DPI67060 :   147.411927663573\n",
      "RMSE score overall for store central model (30 days) DPI63887 :   116.9352554002776\n",
      "RMSE score overall for store central model (30 days) DPI65924 :   106.9082556464444\n",
      "RMSE score overall for store central model (30 days) DPI66466 :   131.1184952464979\n",
      "RMSE score overall for store central model (30 days) DPI66700 :   120.29446628095657\n",
      "RMSE score overall for store central model (30 days) DPI66369 :   145.9580645728122\n",
      "RMSE score overall for store central model (30 days) DPI67018 :   126.4258003400697\n",
      "RMSE score overall for store central model (30 days) DPI66237 :   128.6098704699984\n",
      "RMSE score overall for store central model (30 days) DPI65974 :   148.8958131503641\n",
      "RMSE score overall for store central model (30 days) DPI66282 :   158.0170334018715\n",
      "RMSE score overall for store central model (30 days) DPI66756 :   110.7328129790015\n",
      "RMSE score overall for store central model (30 days) DPI67061 :   109.54624931269636\n",
      "RMSE score overall for store central model (30 days) DPI65771 :   132.01034545860568\n",
      "RMSE score overall for store central model (30 days) DPI63909 :   81.3530760893175\n",
      "RMSE score overall for store central model (30 days) DPI66271 :   113.92647226326729\n",
      "RMSE score overall for store central model (30 days) DPI66942 :   111.15792464719796\n",
      "RMSE score overall for store central model (30 days) DPI63962 :   101.14274489663512\n",
      "RMSE score overall for store central model (30 days) DPI65800 :   126.2056897081292\n",
      "RMSE score overall for store central model (30 days) DPI64112 :   78.03125511060823\n",
      "RMSE score overall for store central model (30 days) DPI65814 :   108.94101472369705\n",
      "RMSE score overall for store central model (30 days) DPI65795 :   100.86372643309038\n",
      "RMSE score overall for store central model (30 days) DPI65764 :   124.06560245209465\n",
      "RMSE score overall for store central model (30 days) DPI65908 :   72.96551187152501\n",
      "RMSE score overall for store central model (30 days) DPI66286 :   91.58188969736351\n",
      "RMSE score overall for store central model (30 days) DPI66426 :   120.70716556760824\n",
      "RMSE score overall for store central model (30 days) DPI67151 :   89.59129976731091\n",
      "RMSE score overall for store central model (30 days) DPI65803 :   124.21721510764137\n",
      "RMSE score overall for store central model (30 days) DPI66557 :   153.40880569035446\n",
      "RMSE score overall for store central model (30 days) DPI66120 :   115.73975666673607\n",
      "RMSE score overall for store central model (30 days) DPI67089 :   79.02884229087253\n",
      "RMSE score overall for store central model (30 days) DPI65955 :   138.05251146811645\n",
      "RMSE score overall for store central model (30 days) DPI66602 :   119.53677384988382\n",
      "RMSE score overall for store central model (30 days) DPI66238 :   134.38092922818134\n",
      "RMSE score overall for store central model (30 days) DPI63821 :   96.71819807987748\n",
      "RMSE score overall for store central model (30 days) DPI64070 :   122.16712015786277\n",
      "RMSE score overall for store central model (30 days) DPI65796 :   157.4482928071702\n",
      "RMSE score overall for store central model (30 days) DPI67227 :   110.47809972449359\n",
      "RMSE score overall for store central model (30 days) DPI63943 :   56.17200535998247\n",
      "RMSE score overall for store central model (30 days) DPI66535 :   123.98078142593019\n",
      "RMSE score overall for store central model (30 days) DPI66158 :   104.64141196060648\n",
      "RMSE score overall for store central model (30 days) DPI66364 :   97.39856476050042\n",
      "RMSE score overall for store central model (30 days) DPI66019 :   117.2981470748172\n",
      "RMSE score overall for store central model (30 days) DPI64260 :   107.27948893164489\n",
      "RMSE score overall for store central model (30 days) DPI63901 :   129.4706297415614\n",
      "RMSE score overall for store central model (30 days) DPI66611 :   110.7019477545275\n",
      "RMSE score overall for store central model (30 days) DPI67055 :   136.44613721177527\n",
      "RMSE score overall for store central model (30 days) DPI66212 :   120.40974007070845\n",
      "RMSE score overall for store central model (30 days) DPI63825 :   61.93007948432355\n",
      "RMSE score overall for store central model (30 days) DPI65899 :   94.39697282744334\n",
      "RMSE score overall for store central model (30 days) DPI67177 :   131.02603081678825\n",
      "RMSE score overall for store central model (30 days) DPI66456 :   110.83335651453763\n",
      "RMSE score overall for store central model (30 days) DPI66642 :   110.34383447560383\n",
      "RMSE score overall for store central model (30 days) DPI64134 :   128.35631757294834\n",
      "RMSE score overall for store central model (30 days) DPI66015 :   55.53885106579857\n",
      "RMSE score overall for store central model (30 days) DPI66071 :   85.7066029311847\n",
      "RMSE score overall for store central model (30 days) DPI63815 :   110.93480761495556\n",
      "RMSE score overall for store central model (30 days) DPI66425 :   99.92400535618964\n",
      "RMSE score overall for store central model (30 days) DPI64177 :   91.51645804740252\n",
      "RMSE score overall for store central model (30 days) DPI66633 :   124.47081331895751\n",
      "RMSE score overall for store central model (30 days) DPI63917 :   81.72692774865567\n",
      "RMSE score overall for store central model (30 days) DPI66114 :   127.65158000814878\n",
      "RMSE score overall for store central model (30 days) DPI66251 :   101.46046977763042\n",
      "RMSE score overall for store central model (30 days) DPI64192 :   109.66609699427724\n",
      "RMSE score overall for store central model (30 days) DPI65763 :   117.38508885456923\n",
      "RMSE score overall for store central model (30 days) DPI67233 :   160.87518767068332\n",
      "RMSE score overall for store central model (30 days) DPI65937 :   93.97231180985946\n",
      "RMSE score overall for store central model (30 days) DPI67132 :   87.60044426839912\n",
      "RMSE score overall for store central model (30 days) DPI65834 :   131.46700525886254\n",
      "RMSE score overall for store central model (30 days) DPI65761 :   115.51509968759679\n",
      "RMSE score overall for store central model (30 days) DPI66505 :   118.67558966898707\n",
      "RMSE score overall for store central model (30 days) DPI66430 :   146.29315538879993\n",
      "RMSE score overall for store central model (30 days) DPI66106 :   116.4893823956737\n",
      "RMSE score overall for store central model (30 days) DPI67150 :   81.50402379664544\n",
      "RMSE score overall for store central model (30 days) DPI65788 :   122.34485095731458\n",
      "RMSE score overall for store central model (30 days) DPI65905 :   140.71002752128507\n",
      "RMSE score overall for store central model (30 days) DPI66278 :   87.94051730973425\n",
      "RMSE score overall for store central model (30 days) DPI66632 :   127.77876470781139\n",
      "RMSE score overall for store central model (30 days) DPI63975 :   117.11511925089285\n",
      "RMSE score overall for store central model (30 days) DPI65882 :   145.96364538097654\n",
      "RMSE score overall for store central model (30 days) DPI66116 :   89.9272682432502\n",
      "RMSE score overall for store central model (30 days) DPI63856 :   82.76695005066566\n",
      "RMSE score overall for store central model (30 days) DPI66083 :   125.87383594124523\n",
      "RMSE score overall for store central model (30 days) DPI66473 :   101.5527746574771\n",
      "RMSE score overall for store central model (30 days) DPI66718 :   138.35115461233562\n",
      "RMSE score overall for store central model (30 days) DPI64035 :   97.93954168524198\n",
      "RMSE score overall for store central model (30 days) DPI66423 :   73.33199535008171\n",
      "RMSE score overall for store central model (30 days) DPI63867 :   42.62620183381362\n",
      "RMSE score overall for store central model (30 days) DPI64160 :   108.56169886035103\n",
      "RMSE score overall for store central model (30 days) DPI65983 :   133.24057362403633\n",
      "RMSE score overall for store central model (30 days) DPI63889 :   187.62650812534227\n",
      "RMSE score overall for store central model (30 days) DPI63870 :   77.58786485344511\n",
      "RMSE score overall for store central model (30 days) DPI64238 :   91.08915385707704\n",
      "RMSE score overall for store central model (30 days) DPI66954 :   112.18860252431301\n",
      "RMSE score overall for store central model (30 days) DPI67077 :   43.28400114742713\n",
      "RMSE score overall for store central model (30 days) DPI65881 :   92.59463898655827\n",
      "RMSE score overall for store central model (30 days) DPI66955 :   68.88987202329626\n",
      "RMSE score overall for store central model (30 days) DPI66919 :   110.9050289340336\n",
      "RMSE score overall for store central model (30 days) DPI66105 :   96.65587710057505\n",
      "RMSE score overall for store central model (30 days) DPI66174 :   99.57892545191336\n",
      "RMSE score overall for store central model (30 days) DPI64151 :   92.78034794654714\n",
      "RMSE score overall for store central model (30 days) DPI65934 :   118.88487745527063\n",
      "RMSE score overall for store central model (30 days) DPI67255 :   92.37299284875209\n",
      "RMSE score overall for store central model (30 days) DPI63925 :   120.36477417546645\n",
      "RMSE score overall for store central model (30 days) DPI66249 :   138.24774627480207\n",
      "RMSE score overall for store central model (30 days) DPI64225 :   51.82014800228317\n",
      "RMSE score overall for store central model (30 days) DPI66346 :   104.58072595623817\n",
      "RMSE score overall for store central model (30 days) DPI66936 :   116.15838836304307\n",
      "RMSE score overall for store central model (30 days) DPI64270 :   103.41473957598187\n",
      "RMSE score overall for store central model (30 days) DPI66306 :   127.11635193500969\n"
     ]
    }
   ],
   "source": [
    "if isCentralModel:\n",
    "    overallDF = pd.DataFrame()\n",
    "    for storeId in allStoreIds:\n",
    "        overallDF = pd.concat([overallDF, restWiseDFs[storeId]], ignore_index=True)\n",
    "    firstTime = datetime(2022, 7, 1)\n",
    "    lastTime = datetime(2022, 7, 21) + timedelta(days=1)\n",
    "    trainingData = overallDF.loc[(overallDF['Kitchen_Display_Time'] >= firstTime) & \\\n",
    "          (overallDF['Kitchen_Display_Time'] < lastTime)]\n",
    "    X_train = trainingData.loc[:, feature_cols]\n",
    "    y_train = trainingData.prep_time.values.tolist()\n",
    "\n",
    "    firstTime = datetime(2022, 7, 22)\n",
    "    lastTime = datetime(2022, 7, 23) + timedelta(days=1)\n",
    "    validationData = overallDF.loc[(overallDF['Kitchen_Display_Time'] >= firstTime) & \\\n",
    "          (overallDF['Kitchen_Display_Time'] <= lastTime)]\n",
    "\n",
    "    X_train_val = validationData.loc[:, feature_cols]\n",
    "    y_train_val = validationData.prep_time.values.tolist()\n",
    "\n",
    "    firstTime = datetime(2022, 7, 24)\n",
    "    lastTime = datetime(2022, 7, 31) + timedelta(days=1)\n",
    "    testData = overallDF.loc[(overallDF['Kitchen_Display_Time'] >= firstTime) & \\\n",
    "          (overallDF['Kitchen_Display_Time'] <= lastTime)]\n",
    "\n",
    "    X_test = testData.loc[:, feature_cols]\n",
    "    y_test = testData.prep_time.values.tolist()\n",
    "\n",
    "\n",
    "    regressor = XGBRegressor()\n",
    "    param_grid = {\n",
    "        'tree_method': ['approx', 'hist'],\n",
    "        'n_estimators': [50, 100, 200],\n",
    "        'max_depth': [3, 5, 7, 10, 12, 14],\n",
    "        'learning_rate': [0.2, 0.1, 0.01],\n",
    "        'subsample': [0.7, 0.8, 0.9],\n",
    "        'colsample_bytree': [0.6, 0.7, 0.8],\n",
    "        'enable_categorical': [True],\n",
    "    }\n",
    "\n",
    "    # define the GridSearchCV object with the parameter grid and the XGBRegressor model\n",
    "    grid_search = GridSearchCV(estimator=regressor, param_grid=param_grid, cv=5)\n",
    "\n",
    "    # fit the GridSearchCV object on the training set\n",
    "    grid_search.fit(X_train, y_train)\n",
    "\n",
    "    # print the best hyperparameters and the corresponding mean cross-validated score\n",
    "    print(\"Best hyperparameters:\", grid_search.best_params_)\n",
    "    print(\"Best mean cross-validated score:\", grid_search.best_score_)\n",
    "\n",
    "    # retrain the model on the combined training and validation sets with the best hyperparameters\n",
    "    best_regressor = XGBRegressor(**grid_search.best_params_)\n",
    "    best_regressor.fit(X_train_val, y_train_val)\n",
    "\n",
    "    # evaluate the final model performance on the test set\n",
    "    test_score = best_regressor.score(X_test, y_test)\n",
    "    print(\"Test score:\", test_score)\n",
    "\n",
    "    # regressor.fit(X_train, y_train)\n",
    "    # restWiseModelsXGB[storeId] = best_regressor\n",
    "\n",
    "    overallPredictions = best_regressor.predict(overallDF[:, feature_cols])\n",
    "    overallDF['predicted_prep_time_central'] = overallPredictions\n",
    "\n",
    "\n",
    "    print(\"ACCURACY ON TRAINING DATA : \")\n",
    "\n",
    "    for storeId in allStoreIds:\n",
    "        restWiseDFs[storeId] = overallDF.loc[overallDF['Location_Code'] == storeId]\n",
    "        X = restWiseDFs[storeId].loc[:, feature_cols]\n",
    "        y = restWiseDFs[storeId].prep_time.values.tolist()\n",
    "        predictions = restWiseDFs[storeId]['predicted_prep_time_central']\n",
    "        print(\"RMSE score overall for store central model (30 days) \"+storeId+\" :  \", getRMSE(y, predictions))"
   ],
   "metadata": {
    "collapsed": false
   }
  },
  {
   "cell_type": "code",
   "execution_count": 37,
   "outputs": [],
   "source": [],
   "metadata": {
    "collapsed": false
   }
  },
  {
   "cell_type": "code",
   "execution_count": 38,
   "outputs": [
    {
     "data": {
      "text/plain": "<Figure size 640x480 with 1 Axes>",
      "image/png": "[encoded data removed]"
     },
     "metadata": {},
     "output_type": "display_data"
    },
    {
     "name": "stdout",
     "output_type": "stream",
     "text": [
      "1.000000037252903\n"
     ]
    }
   ],
   "source": [
    "from matplotlib import pyplot\n",
    "f = ['storeId', 'dayOfTheWeek', 'Timeslot', 'ItemType', 'countPastOrders', 'ratioOfCountOrders', 'prevAvgKPT60Minutes', 'prepAvgKPT7Days', 'hourDayWiseAvgKPT', 'Quantity', 'QueueLenght']\n",
    "pyplot.bar(f, best_regressor.feature_importances_)\n",
    "pyplot.xticks(rotation=90)\n",
    "pyplot.title(\"Feature Importance\")\n",
    "pyplot.show()\n",
    "print(sum(best_regressor.feature_importances_))"
   ],
   "metadata": {
    "collapsed": false
   }
  },
  {
   "cell_type": "code",
   "execution_count": 39,
   "outputs": [
    {
     "name": "stdout",
     "output_type": "stream",
     "text": [
      "(17459, 7)\n",
      "(30646, 7)\n",
      "(32158, 7)\n",
      "(16038, 7)\n",
      "(26507, 7)\n",
      "(21103, 7)\n",
      "(17783, 7)\n",
      "(18224, 7)\n",
      "(30588, 7)\n",
      "(21039, 7)\n",
      "(20658, 7)\n",
      "(14800, 7)\n",
      "(18898, 7)\n",
      "(31135, 7)\n",
      "(13885, 7)\n",
      "(22893, 7)\n",
      "(18355, 7)\n",
      "(20968, 7)\n",
      "(16024, 7)\n",
      "(25102, 7)\n",
      "(17596, 7)\n",
      "(10249, 7)\n",
      "(28368, 7)\n",
      "(11231, 7)\n",
      "(28199, 7)\n",
      "(16463, 7)\n",
      "(24379, 7)\n",
      "(15482, 7)\n",
      "(19083, 7)\n",
      "(27703, 7)\n",
      "(16751, 7)\n",
      "(18627, 7)\n",
      "(26682, 7)\n",
      "(24945, 7)\n",
      "(17472, 7)\n",
      "(29015, 7)\n",
      "(20893, 7)\n",
      "(26173, 7)\n",
      "(18796, 7)\n",
      "(25838, 7)\n",
      "(12622, 7)\n",
      "(14158, 7)\n",
      "(9561, 7)\n",
      "(23145, 7)\n",
      "(19613, 7)\n",
      "(21952, 7)\n",
      "(19793, 7)\n",
      "(3739, 7)\n",
      "(21859, 7)\n",
      "(17453, 7)\n",
      "(7113, 7)\n",
      "(22746, 7)\n",
      "(9251, 7)\n",
      "(18577, 7)\n",
      "(18701, 7)\n",
      "(23314, 7)\n",
      "(21335, 7)\n",
      "(11436, 7)\n",
      "(5683, 7)\n",
      "(19544, 7)\n",
      "(16394, 7)\n",
      "(19644, 7)\n",
      "(9177, 7)\n",
      "(25712, 7)\n",
      "(14860, 7)\n",
      "(16748, 7)\n",
      "(29494, 7)\n",
      "(12595, 7)\n",
      "(16824, 7)\n",
      "(19854, 7)\n",
      "(24367, 7)\n",
      "(19503, 7)\n",
      "(23018, 7)\n",
      "(25389, 7)\n",
      "(19968, 7)\n",
      "(13566, 7)\n",
      "(30404, 7)\n",
      "(7924, 7)\n",
      "(13604, 7)\n",
      "(26722, 7)\n",
      "(19332, 7)\n",
      "(16561, 7)\n",
      "(14665, 7)\n",
      "(19654, 7)\n",
      "(28859, 7)\n",
      "(5498, 7)\n",
      "(26249, 7)\n",
      "(31039, 7)\n",
      "(30907, 7)\n",
      "(13153, 7)\n",
      "(11093, 7)\n",
      "(19033, 7)\n",
      "(11232, 7)\n",
      "(28945, 7)\n",
      "(4742, 7)\n",
      "(13633, 7)\n",
      "(17843, 7)\n",
      "(20324, 7)\n",
      "(4414, 7)\n",
      "(19015, 7)\n",
      "(20914, 7)\n",
      "(11183, 7)\n",
      "(15794, 7)\n",
      "(18067, 7)\n",
      "(10212, 7)\n",
      "(16978, 7)\n",
      "(12223, 7)\n",
      "(14652, 7)\n",
      "(22503, 7)\n",
      "(10583, 7)\n",
      "(21175, 7)\n",
      "(27387, 7)\n",
      "(13727, 7)\n",
      "(35442, 7)\n",
      "Best hyperparameters: {'colsample_bytree': 0.6, 'enable_categorical': True, 'learning_rate': 0.1, 'max_depth': 3, 'n_estimators': 50, 'subsample': 0.6, 'tree_method': 'hist'}\n",
      "Best mean cross-validated score: 0.2325554671473525\n",
      "Test score: 0.25442866205487225\n",
      "RMSE score overall for store central model (30 days) DPI66168 :   121.03266041071493\n",
      "RMSE score overall for store central model (30 days) DPI65804 :   148.54273290804298\n",
      "RMSE score overall for store central model (30 days) DPI65767 :   113.78324944955844\n",
      "RMSE score overall for store central model (30 days) DPI67065 :   144.3799296727753\n",
      "RMSE score overall for store central model (30 days) DPI65762 :   153.20279020099514\n",
      "RMSE score overall for store central model (30 days) DPI67060 :   147.93867875866314\n",
      "RMSE score overall for store central model (30 days) DPI63887 :   117.28172568979103\n",
      "RMSE score overall for store central model (30 days) DPI65924 :   106.80949211520335\n",
      "RMSE score overall for store central model (30 days) DPI66466 :   131.23383956698126\n",
      "RMSE score overall for store central model (30 days) DPI66700 :   120.5985476358696\n",
      "RMSE score overall for store central model (30 days) DPI66369 :   147.09159051528852\n",
      "RMSE score overall for store central model (30 days) DPI67018 :   126.61559777239331\n",
      "RMSE score overall for store central model (30 days) DPI66237 :   129.18360416831607\n",
      "RMSE score overall for store central model (30 days) DPI65974 :   150.87570069134608\n",
      "RMSE score overall for store central model (30 days) DPI66282 :   157.847431703565\n",
      "RMSE score overall for store central model (30 days) DPI66756 :   110.73199900717408\n",
      "RMSE score overall for store central model (30 days) DPI67061 :   109.67289336639296\n",
      "RMSE score overall for store central model (30 days) DPI65771 :   132.0052562793896\n",
      "RMSE score overall for store central model (30 days) DPI63909 :   81.65620842826966\n",
      "RMSE score overall for store central model (30 days) DPI66271 :   114.86816830555479\n",
      "RMSE score overall for store central model (30 days) DPI66942 :   112.93560406094421\n",
      "RMSE score overall for store central model (30 days) DPI63962 :   101.82608033370039\n",
      "RMSE score overall for store central model (30 days) DPI65800 :   126.98144353435589\n",
      "RMSE score overall for store central model (30 days) DPI64112 :   78.10577957650776\n",
      "RMSE score overall for store central model (30 days) DPI65814 :   110.25907916331047\n",
      "RMSE score overall for store central model (30 days) DPI65795 :   100.13573997080887\n",
      "RMSE score overall for store central model (30 days) DPI65764 :   124.35558382525592\n",
      "RMSE score overall for store central model (30 days) DPI65908 :   72.39676421099928\n",
      "RMSE score overall for store central model (30 days) DPI66286 :   91.8539998612423\n",
      "RMSE score overall for store central model (30 days) DPI66426 :   119.89158096228961\n",
      "RMSE score overall for store central model (30 days) DPI67151 :   90.59653493548207\n",
      "RMSE score overall for store central model (30 days) DPI65803 :   124.58861276126294\n",
      "RMSE score overall for store central model (30 days) DPI66557 :   153.9689209080691\n",
      "RMSE score overall for store central model (30 days) DPI66120 :   116.2286837219907\n",
      "RMSE score overall for store central model (30 days) DPI67089 :   78.82265922893495\n",
      "RMSE score overall for store central model (30 days) DPI65955 :   138.92848545083268\n",
      "RMSE score overall for store central model (30 days) DPI66602 :   119.82389363472578\n",
      "RMSE score overall for store central model (30 days) DPI66238 :   134.36286343600838\n",
      "RMSE score overall for store central model (30 days) DPI63821 :   96.80004719155647\n",
      "RMSE score overall for store central model (30 days) DPI64070 :   122.174846113399\n",
      "RMSE score overall for store central model (30 days) DPI65796 :   158.14827983616172\n",
      "RMSE score overall for store central model (30 days) DPI67227 :   110.28142150756173\n",
      "RMSE score overall for store central model (30 days) DPI63943 :   54.74833918048437\n",
      "RMSE score overall for store central model (30 days) DPI66535 :   124.63574756820995\n",
      "RMSE score overall for store central model (30 days) DPI66158 :   104.79621117964726\n",
      "RMSE score overall for store central model (30 days) DPI66364 :   96.85554026502032\n",
      "RMSE score overall for store central model (30 days) DPI66019 :   117.36918702987877\n",
      "RMSE score overall for store central model (30 days) DPI64260 :   108.51968882734471\n",
      "RMSE score overall for store central model (30 days) DPI63901 :   129.6678966727213\n",
      "RMSE score overall for store central model (30 days) DPI66611 :   110.09908996650034\n",
      "RMSE score overall for store central model (30 days) DPI67055 :   137.13360301959096\n",
      "RMSE score overall for store central model (30 days) DPI66212 :   121.13761964833353\n",
      "RMSE score overall for store central model (30 days) DPI63825 :   60.179196151057596\n",
      "RMSE score overall for store central model (30 days) DPI65899 :   94.35100532714664\n",
      "RMSE score overall for store central model (30 days) DPI67177 :   132.9177548417946\n",
      "RMSE score overall for store central model (30 days) DPI66456 :   110.95691413217038\n",
      "RMSE score overall for store central model (30 days) DPI66642 :   110.58282046041391\n",
      "RMSE score overall for store central model (30 days) DPI64134 :   129.03203558798916\n",
      "RMSE score overall for store central model (30 days) DPI66015 :   53.53691786051192\n",
      "RMSE score overall for store central model (30 days) DPI66071 :   84.96678201335851\n",
      "RMSE score overall for store central model (30 days) DPI63815 :   110.68038151062828\n",
      "RMSE score overall for store central model (30 days) DPI66425 :   99.33300838108838\n",
      "RMSE score overall for store central model (30 days) DPI64177 :   91.92267974187486\n",
      "RMSE score overall for store central model (30 days) DPI66633 :   125.07808170233426\n",
      "RMSE score overall for store central model (30 days) DPI63917 :   81.82219024465168\n",
      "RMSE score overall for store central model (30 days) DPI66114 :   128.22089530340452\n",
      "RMSE score overall for store central model (30 days) DPI66251 :   102.03463841572223\n",
      "RMSE score overall for store central model (30 days) DPI64192 :   111.08155340375369\n",
      "RMSE score overall for store central model (30 days) DPI65763 :   119.2410458627048\n",
      "RMSE score overall for store central model (30 days) DPI67233 :   161.42377706260194\n",
      "RMSE score overall for store central model (30 days) DPI65937 :   94.58705687732707\n",
      "RMSE score overall for store central model (30 days) DPI67132 :   87.60259593933927\n",
      "RMSE score overall for store central model (30 days) DPI65834 :   131.45162209892672\n",
      "RMSE score overall for store central model (30 days) DPI65761 :   117.56522860178268\n",
      "RMSE score overall for store central model (30 days) DPI66505 :   118.60127378536215\n",
      "RMSE score overall for store central model (30 days) DPI66430 :   146.62608830342205\n",
      "RMSE score overall for store central model (30 days) DPI66106 :   116.76028224929969\n",
      "RMSE score overall for store central model (30 days) DPI67150 :   83.41999781172156\n",
      "RMSE score overall for store central model (30 days) DPI65788 :   122.73741004011812\n",
      "RMSE score overall for store central model (30 days) DPI65905 :   141.8551736318849\n",
      "RMSE score overall for store central model (30 days) DPI66278 :   87.7232879478942\n",
      "RMSE score overall for store central model (30 days) DPI66632 :   127.84448977416555\n",
      "RMSE score overall for store central model (30 days) DPI63975 :   118.38328806931437\n",
      "RMSE score overall for store central model (30 days) DPI65882 :   145.98398860440545\n",
      "RMSE score overall for store central model (30 days) DPI66116 :   90.3030623608167\n",
      "RMSE score overall for store central model (30 days) DPI63856 :   83.01557140584556\n",
      "RMSE score overall for store central model (30 days) DPI66083 :   126.6528013580727\n",
      "RMSE score overall for store central model (30 days) DPI66473 :   101.56988282004855\n",
      "RMSE score overall for store central model (30 days) DPI66718 :   139.80357727770627\n",
      "RMSE score overall for store central model (30 days) DPI64035 :   98.4411871954496\n",
      "RMSE score overall for store central model (30 days) DPI66423 :   72.30922483849447\n",
      "RMSE score overall for store central model (30 days) DPI63867 :   41.52113718675255\n",
      "RMSE score overall for store central model (30 days) DPI64160 :   109.56529967831925\n",
      "RMSE score overall for store central model (30 days) DPI65983 :   135.13715356546635\n",
      "RMSE score overall for store central model (30 days) DPI63889 :   188.39242238076085\n",
      "RMSE score overall for store central model (30 days) DPI63870 :   76.56719568753859\n",
      "RMSE score overall for store central model (30 days) DPI64238 :   91.11598645853715\n",
      "RMSE score overall for store central model (30 days) DPI66954 :   113.34716995270901\n",
      "RMSE score overall for store central model (30 days) DPI67077 :   39.76731427529259\n",
      "RMSE score overall for store central model (30 days) DPI65881 :   92.33639991130948\n",
      "RMSE score overall for store central model (30 days) DPI66955 :   68.87404691053815\n",
      "RMSE score overall for store central model (30 days) DPI66919 :   111.8723038778305\n",
      "RMSE score overall for store central model (30 days) DPI66105 :   97.10894916227767\n",
      "RMSE score overall for store central model (30 days) DPI66174 :   99.16543579438863\n",
      "RMSE score overall for store central model (30 days) DPI64151 :   93.19653850412354\n",
      "RMSE score overall for store central model (30 days) DPI65934 :   118.96442478083561\n",
      "RMSE score overall for store central model (30 days) DPI67255 :   91.80322543984582\n",
      "RMSE score overall for store central model (30 days) DPI63925 :   121.28358372314932\n",
      "RMSE score overall for store central model (30 days) DPI66249 :   138.33646308312055\n",
      "RMSE score overall for store central model (30 days) DPI64225 :   49.758459867478145\n",
      "RMSE score overall for store central model (30 days) DPI66346 :   105.43293175557385\n",
      "RMSE score overall for store central model (30 days) DPI66936 :   116.80277281908778\n",
      "RMSE score overall for store central model (30 days) DPI64270 :   104.53269015977266\n",
      "RMSE score overall for store central model (30 days) DPI66306 :   127.69568937764467\n"
     ]
    }
   ],
   "source": [
    "# Experiment 1\n",
    "# remove feature with feature value less than 0.05\n",
    "# Remaining Features : 1,2,3,5,7,8,9\n",
    "totalFeatures = (1 +  # store ID (categorical)\n",
    "                 1 +  # day of the week (categorical)\n",
    "                 1 +  #timeslot of the day (categorical)\n",
    "                 1 +  #count past orders in last 30 minutes\n",
    "                 1 +  # average previous preparation time in last 1 hour\n",
    "                 1 +  # average previous preparation time in last 7 days\n",
    "                 1  # average kpt time, hour wise according to the day of the week\n",
    "                 )  # length of the current queue\n",
    "\n",
    "feature_cols = []\n",
    "for i in range(0, totalFeatures):\n",
    "    feature_cols.append('feature_' + str(i + 1))\n",
    "# TIME CONSUMING (3m 21s for Bhopal)\n",
    "for storeId in restWiseDFs:\n",
    "    X = []\n",
    "    df = restWiseDFs[storeId]\n",
    "    for index, item in df.iterrows():\n",
    "        features = getStoreId(item, False)\n",
    "        features += dayOfTheWeek(item['Kitchen_Display_Time'], isOneHotEncodingRequired)\n",
    "        features += getTimeSlotOfKitchenDisplayTime(item, isOneHotEncodingRequired)\n",
    "        # features += getItemType(item, clubItemsCategoryWise, isOneHotEncodingRequired)\n",
    "        features += [countPastOrders(item, slotTimeForPastOrders)]\n",
    "        # features += [getLiftInOrders(item, slotTimeForPastOrders)]\n",
    "        features += [getPreviousPrepTime(item, timeslot=60)]\n",
    "        features += [getPreviousPrepTime(item, timeslot=7 * 24 * 60)]\n",
    "        features += [getHourWiseAverage(item)]\n",
    "        # features += [getQuantity(item)]\n",
    "        # features += [lengthQueue(item)]\n",
    "        X.append(features)\n",
    "    Xnp = np.array(X)\n",
    "    updateFeatures(storeId, Xnp)\n",
    "    print(Xnp.shape)\n",
    "# categorical data\n",
    "if not isOneHotEncodingRequired:\n",
    "    for i in range(0, 4):\n",
    "        for storeId in allStoreIds:\n",
    "            restWiseDFs[storeId][feature_cols[i]] = restWiseDFs[storeId][feature_cols[i]].astype(\"category\")\n",
    "restWiseScalers = {}\n",
    "\n",
    "# normalize feature values\n",
    "if isNormalizationRequired:\n",
    "    for storeId in allStoreIds:\n",
    "        firstTime = datetime(2022, 7, 1)\n",
    "        lastTime = datetime(2022, 7, 14)\n",
    "        trainingData = restWiseDFs[storeId].loc[(restWiseDFs[storeId]['Kitchen_Display_Time'] >= firstTime) & \\\n",
    "                                                (restWiseDFs[storeId]['Kitchen_Display_Time'] <= lastTime)].loc[:,\n",
    "                       feature_cols]\n",
    "        scaler = StandardScaler()\n",
    "        scaler.fit(trainingData)\n",
    "        if isNormalizationRequired:\n",
    "            X = restWiseDFs[storeId].loc[:, feature_cols]\n",
    "            X_scaled = scaler.transform(X)\n",
    "            X_scalednp = np.array(X_scaled)\n",
    "            updateFeatures(storeId, X_scalednp)\n",
    "    save_object(restWiseDFs, f'restWiseDFsWithNormalizedFeatures{city}.pkl')\n",
    "\n",
    "\n",
    "if isCentralModel:\n",
    "    overallDF = pd.DataFrame()\n",
    "    for storeId in allStoreIds:\n",
    "        overallDF = pd.concat([overallDF, restWiseDFs[storeId]], ignore_index=True)\n",
    "    firstTime = datetime(2022, 7, 1)\n",
    "    lastTime = datetime(2022, 7, 14)\n",
    "    trainingData = overallDF.loc[(overallDF['Kitchen_Display_Time'] >= firstTime) & \\\n",
    "                                 (overallDF['Kitchen_Display_Time'] <= lastTime)]\n",
    "    X_train = trainingData.loc[:, feature_cols]\n",
    "    y_train = trainingData.prep_time.values.tolist()\n",
    "\n",
    "    firstTime = datetime(2022, 7, 15)\n",
    "    lastTime = datetime(2022, 7, 21)\n",
    "    validationData = overallDF.loc[(overallDF['Kitchen_Display_Time'] >= firstTime) & \\\n",
    "                                   (overallDF['Kitchen_Display_Time'] <= lastTime)]\n",
    "\n",
    "    X_train_val = validationData.loc[:, feature_cols]\n",
    "    y_train_val = validationData.prep_time.values.tolist()\n",
    "\n",
    "    firstTime = datetime(2022, 7, 22)\n",
    "    lastTime = datetime(2022, 7, 31)\n",
    "    testData = overallDF.loc[(overallDF['Kitchen_Display_Time'] >= firstTime) & \\\n",
    "                             (overallDF['Kitchen_Display_Time'] <= lastTime)]\n",
    "\n",
    "    X_test = testData.loc[:, feature_cols]\n",
    "    y_test = testData.prep_time.values.tolist()\n",
    "\n",
    "    regressor = XGBRegressor()\n",
    "    param_grid = {\n",
    "        'tree_method': ['approx', 'hist'],\n",
    "        'n_estimators': [50, 100, 200],\n",
    "        'max_depth': [3, 5, 7, 10, 12, 14],\n",
    "        'learning_rate': [0.2, 0.1, 0.01],\n",
    "        'subsample': [0.6, 0.7, 0.8],\n",
    "        'colsample_bytree': [0.6, 0.7, 0.8],\n",
    "        'enable_categorical': [True],\n",
    "    }\n",
    "\n",
    "    # define the GridSearchCV object with the parameter grid and the XGBRegressor model\n",
    "    grid_search = GridSearchCV(estimator=regressor, param_grid=param_grid, cv=5)\n",
    "\n",
    "    # fit the GridSearchCV object on the training set\n",
    "    grid_search.fit(X_train, y_train)\n",
    "\n",
    "    # print the best hyperparameters and the corresponding mean cross-validated score\n",
    "    print(\"Best hyperparameters:\", grid_search.best_params_)\n",
    "    print(\"Best mean cross-validated score:\", grid_search.best_score_)\n",
    "\n",
    "    # retrain the model on the combined training and validation sets with the best hyperparameters\n",
    "    best_regressor = XGBRegressor(**grid_search.best_params_)\n",
    "    best_regressor.fit(X_train_val, y_train_val)\n",
    "\n",
    "    # evaluate the final model performance on the test set\n",
    "    test_score = best_regressor.score(X_test, y_test)\n",
    "    print(\"Test score:\", test_score)\n",
    "\n",
    "    # regressor.fit(X_train, y_train)\n",
    "    # restWiseModelsXGB[storeId] = best_regressor\n",
    "\n",
    "    for storeId in allStoreIds:\n",
    "        X = restWiseDFs[storeId].loc[:, feature_cols]\n",
    "        y = restWiseDFs[storeId].prep_time.values.tolist()\n",
    "        predictions = best_regressor.predict(X)\n",
    "        restWiseDFs[storeId]['predicted_prep_time_central'] = predictions\n",
    "\n",
    "        a = getRMSE(y, predictions)\n",
    "        print(\"RMSE score overall for store central model (30 days) \" + storeId + \" :  \", a)"
   ],
   "metadata": {
    "collapsed": false
   }
  },
  {
   "cell_type": "code",
   "execution_count": 40,
   "outputs": [],
   "source": [
    "\n",
    "rmse1 = ((trainingData.prep_time - trainingData.predicted_prep_time_central) ** 2).mean() ** .5\n",
    "rmse2 = ((trainingData.prep_time - trainingData.hour_wise_avg_kpt_of_the_day) ** 2).mean() ** .5\n",
    "# hour_wise_avg_kpt_of_the_day\n",
    "# rmse = ((df.prep_time - df.predicted_prep_time) ** 2).mean() ** .5\n",
    "#\n",
    "absError = (abs(trainingData.prep_time - trainingData.predicted_prep_time_central)).values.tolist()\n",
    "absError2 = (abs(trainingData.prep_time - trainingData.hour_wise_avg_kpt_of_the_day)).values.tolist()\n",
    "meanAbsError = statistics.mean(absError)\n",
    "medianAbsError = statistics.median(absError)\n",
    "\n",
    "meanAbsError2 = statistics.mean(absError2)\n",
    "medianAbsError2 = statistics.median(absError2)\n",
    "# stdAbsError = statistics.stdev(absError)\n",
    "#\n",
    "# error = (df.prep_time - df.predicted_prep_time).values.tolist()\n",
    "# meanError = statistics.mean(error)\n",
    "# medianError = statistics.median(error)\n",
    "# stdError = statistics.stdev(error)\n",
    "#\n",
    "# accuracy = (((df.prep_time - df.predicted_prep_time))/(7*60+df.prep_time)).values.tolist()"
   ],
   "metadata": {
    "collapsed": false
   }
  },
  {
   "cell_type": "code",
   "execution_count": 41,
   "outputs": [
    {
     "data": {
      "text/plain": "(111.74294178264128,\n 116.78776877486361,\n 85.75041728579787,\n 88.11095616598246,\n 70.18222506713867,\n 70.61465470607013)"
     },
     "execution_count": 41,
     "metadata": {},
     "output_type": "execute_result"
    }
   ],
   "source": [
    "rmse1, rmse2, meanAbsError, meanAbsError2, medianAbsError, medianAbsError21"
   ],
   "metadata": {
    "collapsed": false
   }
  },
  {
   "cell_type": "code",
   "execution_count": null,
   "outputs": [
    {
     "name": "stdout",
     "output_type": "stream",
     "text": [
      "Best hyperparameters: {'colsample_bytree': 0.6, 'enable_categorical': True, 'learning_rate': 0.1, 'max_depth': 5, 'n_estimators': 50, 'subsample': 0.8, 'tree_method': 'approx'}\n",
      "Best mean cross-validated score: 0.23354428656187967\n",
      "[15:59:28] WARNING: /Users/runner/work/xgboost/xgboost/python-package/build/temp.macosx-11.0-arm64-cpython-38/xgboost/src/learner.cc:1517: Empty dataset at worker: 0\n",
      "[15:59:28] WARNING: /Users/runner/work/xgboost/xgboost/python-package/build/temp.macosx-11.0-arm64-cpython-38/xgboost/src/learner.cc:1517: Empty dataset at worker: 0\n",
      "[15:59:28] WARNING: /Users/runner/work/xgboost/xgboost/python-package/build/temp.macosx-11.0-arm64-cpython-38/xgboost/src/learner.cc:1517: Empty dataset at worker: 0\n",
      "[15:59:28] WARNING: /Users/runner/work/xgboost/xgboost/python-package/build/temp.macosx-11.0-arm64-cpython-38/xgboost/src/learner.cc:1517: Empty dataset at worker: 0\n",
      "[15:59:28] WARNING: /Users/runner/work/xgboost/xgboost/python-package/build/temp.macosx-11.0-arm64-cpython-38/xgboost/src/learner.cc:1517: Empty dataset at worker: 0\n",
      "[15:59:28] WARNING: /Users/runner/work/xgboost/xgboost/python-package/build/temp.macosx-11.0-arm64-cpython-38/xgboost/src/learner.cc:1517: Empty dataset at worker: 0\n",
      "[15:59:28] WARNING: /Users/runner/work/xgboost/xgboost/python-package/build/temp.macosx-11.0-arm64-cpython-38/xgboost/src/learner.cc:1517: Empty dataset at worker: 0\n",
      "[15:59:28] WARNING: /Users/runner/work/xgboost/xgboost/python-package/build/temp.macosx-11.0-arm64-cpython-38/xgboost/src/learner.cc:1517: Empty dataset at worker: 0\n",
      "[15:59:28] WARNING: /Users/runner/work/xgboost/xgboost/python-package/build/temp.macosx-11.0-arm64-cpython-38/xgboost/src/learner.cc:1517: Empty dataset at worker: 0\n",
      "[15:59:28] WARNING: /Users/runner/work/xgboost/xgboost/python-package/build/temp.macosx-11.0-arm64-cpython-38/xgboost/src/learner.cc:1517: Empty dataset at worker: 0\n",
      "[15:59:28] WARNING: /Users/runner/work/xgboost/xgboost/python-package/build/temp.macosx-11.0-arm64-cpython-38/xgboost/src/learner.cc:1517: Empty dataset at worker: 0\n",
      "[15:59:28] WARNING: /Users/runner/work/xgboost/xgboost/python-package/build/temp.macosx-11.0-arm64-cpython-38/xgboost/src/learner.cc:1517: Empty dataset at worker: 0\n",
      "[15:59:28] WARNING: /Users/runner/work/xgboost/xgboost/python-package/build/temp.macosx-11.0-arm64-cpython-38/xgboost/src/learner.cc:1517: Empty dataset at worker: 0\n",
      "[15:59:28] WARNING: /Users/runner/work/xgboost/xgboost/python-package/build/temp.macosx-11.0-arm64-cpython-38/xgboost/src/learner.cc:1517: Empty dataset at worker: 0\n",
      "[15:59:28] WARNING: /Users/runner/work/xgboost/xgboost/python-package/build/temp.macosx-11.0-arm64-cpython-38/xgboost/src/learner.cc:1517: Empty dataset at worker: 0\n",
      "[15:59:28] WARNING: /Users/runner/work/xgboost/xgboost/python-package/build/temp.macosx-11.0-arm64-cpython-38/xgboost/src/learner.cc:1517: Empty dataset at worker: 0\n",
      "[15:59:28] WARNING: /Users/runner/work/xgboost/xgboost/python-package/build/temp.macosx-11.0-arm64-cpython-38/xgboost/src/learner.cc:1517: Empty dataset at worker: 0\n",
      "[15:59:28] WARNING: /Users/runner/work/xgboost/xgboost/python-package/build/temp.macosx-11.0-arm64-cpython-38/xgboost/src/learner.cc:1517: Empty dataset at worker: 0\n",
      "[15:59:28] WARNING: /Users/runner/work/xgboost/xgboost/python-package/build/temp.macosx-11.0-arm64-cpython-38/xgboost/src/learner.cc:1517: Empty dataset at worker: 0\n",
      "[15:59:28] WARNING: /Users/runner/work/xgboost/xgboost/python-package/build/temp.macosx-11.0-arm64-cpython-38/xgboost/src/learner.cc:1517: Empty dataset at worker: 0\n",
      "[15:59:28] WARNING: /Users/runner/work/xgboost/xgboost/python-package/build/temp.macosx-11.0-arm64-cpython-38/xgboost/src/learner.cc:1517: Empty dataset at worker: 0\n",
      "[15:59:28] WARNING: /Users/runner/work/xgboost/xgboost/python-package/build/temp.macosx-11.0-arm64-cpython-38/xgboost/src/learner.cc:1517: Empty dataset at worker: 0\n",
      "[15:59:28] WARNING: /Users/runner/work/xgboost/xgboost/python-package/build/temp.macosx-11.0-arm64-cpython-38/xgboost/src/learner.cc:1517: Empty dataset at worker: 0\n",
      "[15:59:28] WARNING: /Users/runner/work/xgboost/xgboost/python-package/build/temp.macosx-11.0-arm64-cpython-38/xgboost/src/learner.cc:1517: Empty dataset at worker: 0\n",
      "[15:59:28] WARNING: /Users/runner/work/xgboost/xgboost/python-package/build/temp.macosx-11.0-arm64-cpython-38/xgboost/src/learner.cc:1517: Empty dataset at worker: 0\n",
      "[15:59:28] WARNING: /Users/runner/work/xgboost/xgboost/python-package/build/temp.macosx-11.0-arm64-cpython-38/xgboost/src/learner.cc:1517: Empty dataset at worker: 0\n",
      "[15:59:28] WARNING: /Users/runner/work/xgboost/xgboost/python-package/build/temp.macosx-11.0-arm64-cpython-38/xgboost/src/learner.cc:1517: Empty dataset at worker: 0\n",
      "[15:59:28] WARNING: /Users/runner/work/xgboost/xgboost/python-package/build/temp.macosx-11.0-arm64-cpython-38/xgboost/src/learner.cc:1517: Empty dataset at worker: 0\n",
      "[15:59:28] WARNING: /Users/runner/work/xgboost/xgboost/python-package/build/temp.macosx-11.0-arm64-cpython-38/xgboost/src/learner.cc:1517: Empty dataset at worker: 0\n",
      "[15:59:28] WARNING: /Users/runner/work/xgboost/xgboost/python-package/build/temp.macosx-11.0-arm64-cpython-38/xgboost/src/learner.cc:1517: Empty dataset at worker: 0\n",
      "[15:59:28] WARNING: /Users/runner/work/xgboost/xgboost/python-package/build/temp.macosx-11.0-arm64-cpython-38/xgboost/src/learner.cc:1517: Empty dataset at worker: 0\n",
      "[15:59:28] WARNING: /Users/runner/work/xgboost/xgboost/python-package/build/temp.macosx-11.0-arm64-cpython-38/xgboost/src/learner.cc:1517: Empty dataset at worker: 0\n",
      "[15:59:28] WARNING: /Users/runner/work/xgboost/xgboost/python-package/build/temp.macosx-11.0-arm64-cpython-38/xgboost/src/learner.cc:1517: Empty dataset at worker: 0\n",
      "[15:59:28] WARNING: /Users/runner/work/xgboost/xgboost/python-package/build/temp.macosx-11.0-arm64-cpython-38/xgboost/src/learner.cc:1517: Empty dataset at worker: 0\n",
      "[15:59:28] WARNING: /Users/runner/work/xgboost/xgboost/python-package/build/temp.macosx-11.0-arm64-cpython-38/xgboost/src/learner.cc:1517: Empty dataset at worker: 0\n",
      "[15:59:28] WARNING: /Users/runner/work/xgboost/xgboost/python-package/build/temp.macosx-11.0-arm64-cpython-38/xgboost/src/learner.cc:1517: Empty dataset at worker: 0\n",
      "[15:59:28] WARNING: /Users/runner/work/xgboost/xgboost/python-package/build/temp.macosx-11.0-arm64-cpython-38/xgboost/src/learner.cc:1517: Empty dataset at worker: 0\n",
      "[15:59:28] WARNING: /Users/runner/work/xgboost/xgboost/python-package/build/temp.macosx-11.0-arm64-cpython-38/xgboost/src/learner.cc:1517: Empty dataset at worker: 0\n",
      "[15:59:28] WARNING: /Users/runner/work/xgboost/xgboost/python-package/build/temp.macosx-11.0-arm64-cpython-38/xgboost/src/learner.cc:1517: Empty dataset at worker: 0\n",
      "[15:59:28] WARNING: /Users/runner/work/xgboost/xgboost/python-package/build/temp.macosx-11.0-arm64-cpython-38/xgboost/src/learner.cc:1517: Empty dataset at worker: 0\n",
      "[15:59:28] WARNING: /Users/runner/work/xgboost/xgboost/python-package/build/temp.macosx-11.0-arm64-cpython-38/xgboost/src/learner.cc:1517: Empty dataset at worker: 0\n",
      "[15:59:28] WARNING: /Users/runner/work/xgboost/xgboost/python-package/build/temp.macosx-11.0-arm64-cpython-38/xgboost/src/learner.cc:1517: Empty dataset at worker: 0\n",
      "[15:59:28] WARNING: /Users/runner/work/xgboost/xgboost/python-package/build/temp.macosx-11.0-arm64-cpython-38/xgboost/src/learner.cc:1517: Empty dataset at worker: 0\n",
      "[15:59:28] WARNING: /Users/runner/work/xgboost/xgboost/python-package/build/temp.macosx-11.0-arm64-cpython-38/xgboost/src/learner.cc:1517: Empty dataset at worker: 0\n",
      "[15:59:28] WARNING: /Users/runner/work/xgboost/xgboost/python-package/build/temp.macosx-11.0-arm64-cpython-38/xgboost/src/learner.cc:1517: Empty dataset at worker: 0\n",
      "[15:59:28] WARNING: /Users/runner/work/xgboost/xgboost/python-package/build/temp.macosx-11.0-arm64-cpython-38/xgboost/src/learner.cc:1517: Empty dataset at worker: 0\n",
      "[15:59:28] WARNING: /Users/runner/work/xgboost/xgboost/python-package/build/temp.macosx-11.0-arm64-cpython-38/xgboost/src/learner.cc:1517: Empty dataset at worker: 0\n",
      "[15:59:28] WARNING: /Users/runner/work/xgboost/xgboost/python-package/build/temp.macosx-11.0-arm64-cpython-38/xgboost/src/learner.cc:1517: Empty dataset at worker: 0\n",
      "[15:59:28] WARNING: /Users/runner/work/xgboost/xgboost/python-package/build/temp.macosx-11.0-arm64-cpython-38/xgboost/src/learner.cc:1517: Empty dataset at worker: 0\n",
      "[15:59:28] WARNING: /Users/runner/work/xgboost/xgboost/python-package/build/temp.macosx-11.0-arm64-cpython-38/xgboost/src/learner.cc:1517: Empty dataset at worker: 0\n",
      "[15:59:28] WARNING: /Users/runner/work/xgboost/xgboost/python-package/build/temp.macosx-11.0-arm64-cpython-38/xgboost/src/learner.cc:1517: Empty dataset at worker: 0\n",
      "[15:59:28] WARNING: /Users/runner/work/xgboost/xgboost/python-package/build/temp.macosx-11.0-arm64-cpython-38/xgboost/src/learner.cc:1517: Empty dataset at worker: 0\n",
      "[15:59:28] WARNING: /Users/runner/work/xgboost/xgboost/python-package/build/temp.macosx-11.0-arm64-cpython-38/xgboost/src/learner.cc:1517: Empty dataset at worker: 0\n",
      "[15:59:28] WARNING: /Users/runner/work/xgboost/xgboost/python-package/build/temp.macosx-11.0-arm64-cpython-38/xgboost/src/learner.cc:1517: Empty dataset at worker: 0\n",
      "[15:59:28] WARNING: /Users/runner/work/xgboost/xgboost/python-package/build/temp.macosx-11.0-arm64-cpython-38/xgboost/src/learner.cc:1517: Empty dataset at worker: 0\n",
      "[15:59:28] WARNING: /Users/runner/work/xgboost/xgboost/python-package/build/temp.macosx-11.0-arm64-cpython-38/xgboost/src/learner.cc:1517: Empty dataset at worker: 0\n",
      "[15:59:28] WARNING: /Users/runner/work/xgboost/xgboost/python-package/build/temp.macosx-11.0-arm64-cpython-38/xgboost/src/learner.cc:1517: Empty dataset at worker: 0\n",
      "[15:59:28] WARNING: /Users/runner/work/xgboost/xgboost/python-package/build/temp.macosx-11.0-arm64-cpython-38/xgboost/src/learner.cc:1517: Empty dataset at worker: 0\n",
      "[15:59:28] WARNING: /Users/runner/work/xgboost/xgboost/python-package/build/temp.macosx-11.0-arm64-cpython-38/xgboost/src/learner.cc:1517: Empty dataset at worker: 0\n",
      "[15:59:28] WARNING: /Users/runner/work/xgboost/xgboost/python-package/build/temp.macosx-11.0-arm64-cpython-38/xgboost/src/learner.cc:1517: Empty dataset at worker: 0\n",
      "[15:59:28] WARNING: /Users/runner/work/xgboost/xgboost/python-package/build/temp.macosx-11.0-arm64-cpython-38/xgboost/src/learner.cc:1517: Empty dataset at worker: 0\n",
      "[15:59:28] WARNING: /Users/runner/work/xgboost/xgboost/python-package/build/temp.macosx-11.0-arm64-cpython-38/xgboost/src/learner.cc:1517: Empty dataset at worker: 0\n",
      "[15:59:28] WARNING: /Users/runner/work/xgboost/xgboost/python-package/build/temp.macosx-11.0-arm64-cpython-38/xgboost/src/learner.cc:1517: Empty dataset at worker: 0\n",
      "[15:59:28] WARNING: /Users/runner/work/xgboost/xgboost/python-package/build/temp.macosx-11.0-arm64-cpython-38/xgboost/src/learner.cc:1517: Empty dataset at worker: 0\n",
      "[15:59:28] WARNING: /Users/runner/work/xgboost/xgboost/python-package/build/temp.macosx-11.0-arm64-cpython-38/xgboost/src/learner.cc:1517: Empty dataset at worker: 0\n",
      "[15:59:28] WARNING: /Users/runner/work/xgboost/xgboost/python-package/build/temp.macosx-11.0-arm64-cpython-38/xgboost/src/learner.cc:1517: Empty dataset at worker: 0\n",
      "[15:59:28] WARNING: /Users/runner/work/xgboost/xgboost/python-package/build/temp.macosx-11.0-arm64-cpython-38/xgboost/src/learner.cc:1517: Empty dataset at worker: 0\n",
      "[15:59:28] WARNING: /Users/runner/work/xgboost/xgboost/python-package/build/temp.macosx-11.0-arm64-cpython-38/xgboost/src/learner.cc:1517: Empty dataset at worker: 0\n",
      "[15:59:28] WARNING: /Users/runner/work/xgboost/xgboost/python-package/build/temp.macosx-11.0-arm64-cpython-38/xgboost/src/learner.cc:1517: Empty dataset at worker: 0\n",
      "[15:59:28] WARNING: /Users/runner/work/xgboost/xgboost/python-package/build/temp.macosx-11.0-arm64-cpython-38/xgboost/src/learner.cc:1517: Empty dataset at worker: 0\n",
      "[15:59:28] WARNING: /Users/runner/work/xgboost/xgboost/python-package/build/temp.macosx-11.0-arm64-cpython-38/xgboost/src/learner.cc:1517: Empty dataset at worker: 0\n",
      "[15:59:28] WARNING: /Users/runner/work/xgboost/xgboost/python-package/build/temp.macosx-11.0-arm64-cpython-38/xgboost/src/learner.cc:1517: Empty dataset at worker: 0\n",
      "[15:59:28] WARNING: /Users/runner/work/xgboost/xgboost/python-package/build/temp.macosx-11.0-arm64-cpython-38/xgboost/src/learner.cc:1517: Empty dataset at worker: 0\n",
      "[15:59:28] WARNING: /Users/runner/work/xgboost/xgboost/python-package/build/temp.macosx-11.0-arm64-cpython-38/xgboost/src/learner.cc:1517: Empty dataset at worker: 0\n",
      "[15:59:28] WARNING: /Users/runner/work/xgboost/xgboost/python-package/build/temp.macosx-11.0-arm64-cpython-38/xgboost/src/learner.cc:1517: Empty dataset at worker: 0\n",
      "[15:59:28] WARNING: /Users/runner/work/xgboost/xgboost/python-package/build/temp.macosx-11.0-arm64-cpython-38/xgboost/src/learner.cc:1517: Empty dataset at worker: 0\n",
      "[15:59:28] WARNING: /Users/runner/work/xgboost/xgboost/python-package/build/temp.macosx-11.0-arm64-cpython-38/xgboost/src/learner.cc:1517: Empty dataset at worker: 0\n",
      "[15:59:28] WARNING: /Users/runner/work/xgboost/xgboost/python-package/build/temp.macosx-11.0-arm64-cpython-38/xgboost/src/learner.cc:1517: Empty dataset at worker: 0\n",
      "[15:59:28] WARNING: /Users/runner/work/xgboost/xgboost/python-package/build/temp.macosx-11.0-arm64-cpython-38/xgboost/src/learner.cc:1517: Empty dataset at worker: 0\n",
      "[15:59:28] WARNING: /Users/runner/work/xgboost/xgboost/python-package/build/temp.macosx-11.0-arm64-cpython-38/xgboost/src/learner.cc:1517: Empty dataset at worker: 0\n",
      "[15:59:28] WARNING: /Users/runner/work/xgboost/xgboost/python-package/build/temp.macosx-11.0-arm64-cpython-38/xgboost/src/learner.cc:1517: Empty dataset at worker: 0\n",
      "[15:59:28] WARNING: /Users/runner/work/xgboost/xgboost/python-package/build/temp.macosx-11.0-arm64-cpython-38/xgboost/src/learner.cc:1517: Empty dataset at worker: 0\n",
      "[15:59:28] WARNING: /Users/runner/work/xgboost/xgboost/python-package/build/temp.macosx-11.0-arm64-cpython-38/xgboost/src/learner.cc:1517: Empty dataset at worker: 0\n",
      "[15:59:28] WARNING: /Users/runner/work/xgboost/xgboost/python-package/build/temp.macosx-11.0-arm64-cpython-38/xgboost/src/learner.cc:1517: Empty dataset at worker: 0\n",
      "[15:59:28] WARNING: /Users/runner/work/xgboost/xgboost/python-package/build/temp.macosx-11.0-arm64-cpython-38/xgboost/src/learner.cc:1517: Empty dataset at worker: 0\n",
      "[15:59:28] WARNING: /Users/runner/work/xgboost/xgboost/python-package/build/temp.macosx-11.0-arm64-cpython-38/xgboost/src/learner.cc:1517: Empty dataset at worker: 0\n",
      "[15:59:28] WARNING: /Users/runner/work/xgboost/xgboost/python-package/build/temp.macosx-11.0-arm64-cpython-38/xgboost/src/learner.cc:1517: Empty dataset at worker: 0\n",
      "[15:59:28] WARNING: /Users/runner/work/xgboost/xgboost/python-package/build/temp.macosx-11.0-arm64-cpython-38/xgboost/src/learner.cc:1517: Empty dataset at worker: 0\n",
      "[15:59:28] WARNING: /Users/runner/work/xgboost/xgboost/python-package/build/temp.macosx-11.0-arm64-cpython-38/xgboost/src/learner.cc:1517: Empty dataset at worker: 0\n",
      "[15:59:28] WARNING: /Users/runner/work/xgboost/xgboost/python-package/build/temp.macosx-11.0-arm64-cpython-38/xgboost/src/learner.cc:1517: Empty dataset at worker: 0\n",
      "[15:59:28] WARNING: /Users/runner/work/xgboost/xgboost/python-package/build/temp.macosx-11.0-arm64-cpython-38/xgboost/src/learner.cc:1517: Empty dataset at worker: 0\n",
      "[15:59:28] WARNING: /Users/runner/work/xgboost/xgboost/python-package/build/temp.macosx-11.0-arm64-cpython-38/xgboost/src/learner.cc:1517: Empty dataset at worker: 0\n",
      "[15:59:28] WARNING: /Users/runner/work/xgboost/xgboost/python-package/build/temp.macosx-11.0-arm64-cpython-38/xgboost/src/learner.cc:1517: Empty dataset at worker: 0\n",
      "[15:59:28] WARNING: /Users/runner/work/xgboost/xgboost/python-package/build/temp.macosx-11.0-arm64-cpython-38/xgboost/src/learner.cc:1517: Empty dataset at worker: 0\n",
      "[15:59:28] WARNING: /Users/runner/work/xgboost/xgboost/python-package/build/temp.macosx-11.0-arm64-cpython-38/xgboost/src/learner.cc:1517: Empty dataset at worker: 0\n",
      "[15:59:28] WARNING: /Users/runner/work/xgboost/xgboost/python-package/build/temp.macosx-11.0-arm64-cpython-38/xgboost/src/learner.cc:1517: Empty dataset at worker: 0\n",
      "[15:59:28] WARNING: /Users/runner/work/xgboost/xgboost/python-package/build/temp.macosx-11.0-arm64-cpython-38/xgboost/src/learner.cc:1517: Empty dataset at worker: 0\n",
      "[15:59:28] WARNING: /Users/runner/work/xgboost/xgboost/python-package/build/temp.macosx-11.0-arm64-cpython-38/xgboost/src/learner.cc:1517: Empty dataset at worker: 0\n",
      "[15:59:28] WARNING: /Users/runner/work/xgboost/xgboost/python-package/build/temp.macosx-11.0-arm64-cpython-38/xgboost/src/learner.cc:1517: Empty dataset at worker: 0\n",
      "[15:59:28] WARNING: /Users/runner/work/xgboost/xgboost/python-package/build/temp.macosx-11.0-arm64-cpython-38/xgboost/src/learner.cc:1517: Empty dataset at worker: 0\n"
     ]
    },
    {
     "ename": "ValueError",
     "evalue": "DataFrame.dtypes for data must be int, float, bool or category. When categorical type is supplied, The experimental DMatrix parameter`enable_categorical` must be set to `True`.  Invalid columns:feature_2: category",
     "output_type": "error",
     "traceback": [
      "\u001B[0;31m---------------------------------------------------------------------------\u001B[0m",
      "\u001B[0;31mValueError\u001B[0m                                Traceback (most recent call last)",
      "Cell \u001B[0;32mIn[44], line 55\u001B[0m\n\u001B[1;32m     52\u001B[0m best_regressor\u001B[38;5;241m.\u001B[39mfit(X_train_val, y_train_val)\n\u001B[1;32m     54\u001B[0m \u001B[38;5;66;03m# evaluate the final model performance on the test set\u001B[39;00m\n\u001B[0;32m---> 55\u001B[0m test_score \u001B[38;5;241m=\u001B[39m \u001B[43mbest_regressor\u001B[49m\u001B[38;5;241;43m.\u001B[39;49m\u001B[43mscore\u001B[49m\u001B[43m(\u001B[49m\u001B[43mX_test\u001B[49m\u001B[43m,\u001B[49m\u001B[43m \u001B[49m\u001B[43my_test\u001B[49m\u001B[43m)\u001B[49m\n\u001B[1;32m     56\u001B[0m \u001B[38;5;28mprint\u001B[39m(\u001B[38;5;124m\"\u001B[39m\u001B[38;5;124mTest score:\u001B[39m\u001B[38;5;124m\"\u001B[39m, test_score)\n\u001B[1;32m     58\u001B[0m \u001B[38;5;66;03m# regressor.fit(X_train, y_train)\u001B[39;00m\n\u001B[1;32m     59\u001B[0m \u001B[38;5;66;03m# restWiseModelsXGB[storeId] = best_regressor\u001B[39;00m\n",
      "File \u001B[0;32m~/Desktop/mtp/model/jfl/lib/python3.9/site-packages/sklearn/base.py:703\u001B[0m, in \u001B[0;36mRegressorMixin.score\u001B[0;34m(self, X, y, sample_weight)\u001B[0m\n\u001B[1;32m    661\u001B[0m \u001B[38;5;250m\u001B[39m\u001B[38;5;124;03m\"\"\"Return the coefficient of determination of the prediction.\u001B[39;00m\n\u001B[1;32m    662\u001B[0m \n\u001B[1;32m    663\u001B[0m \u001B[38;5;124;03mThe coefficient of determination :math:`R^2` is defined as\u001B[39;00m\n\u001B[0;32m   (...)\u001B[0m\n\u001B[1;32m    698\u001B[0m \u001B[38;5;124;03m:class:`~sklearn.multioutput.MultiOutputRegressor`).\u001B[39;00m\n\u001B[1;32m    699\u001B[0m \u001B[38;5;124;03m\"\"\"\u001B[39;00m\n\u001B[1;32m    701\u001B[0m \u001B[38;5;28;01mfrom\u001B[39;00m \u001B[38;5;21;01m.\u001B[39;00m\u001B[38;5;21;01mmetrics\u001B[39;00m \u001B[38;5;28;01mimport\u001B[39;00m r2_score\n\u001B[0;32m--> 703\u001B[0m y_pred \u001B[38;5;241m=\u001B[39m \u001B[38;5;28;43mself\u001B[39;49m\u001B[38;5;241;43m.\u001B[39;49m\u001B[43mpredict\u001B[49m\u001B[43m(\u001B[49m\u001B[43mX\u001B[49m\u001B[43m)\u001B[49m\n\u001B[1;32m    704\u001B[0m \u001B[38;5;28;01mreturn\u001B[39;00m r2_score(y, y_pred, sample_weight\u001B[38;5;241m=\u001B[39msample_weight)\n",
      "File \u001B[0;32m~/Desktop/mtp/model/jfl/lib/python3.9/site-packages/xgboost/sklearn.py:1114\u001B[0m, in \u001B[0;36mXGBModel.predict\u001B[0;34m(self, X, output_margin, ntree_limit, validate_features, base_margin, iteration_range)\u001B[0m\n\u001B[1;32m   1112\u001B[0m \u001B[38;5;28;01mif\u001B[39;00m \u001B[38;5;28mself\u001B[39m\u001B[38;5;241m.\u001B[39m_can_use_inplace_predict():\n\u001B[1;32m   1113\u001B[0m     \u001B[38;5;28;01mtry\u001B[39;00m:\n\u001B[0;32m-> 1114\u001B[0m         predts \u001B[38;5;241m=\u001B[39m \u001B[38;5;28;43mself\u001B[39;49m\u001B[38;5;241;43m.\u001B[39;49m\u001B[43mget_booster\u001B[49m\u001B[43m(\u001B[49m\u001B[43m)\u001B[49m\u001B[38;5;241;43m.\u001B[39;49m\u001B[43minplace_predict\u001B[49m\u001B[43m(\u001B[49m\n\u001B[1;32m   1115\u001B[0m \u001B[43m            \u001B[49m\u001B[43mdata\u001B[49m\u001B[38;5;241;43m=\u001B[39;49m\u001B[43mX\u001B[49m\u001B[43m,\u001B[49m\n\u001B[1;32m   1116\u001B[0m \u001B[43m            \u001B[49m\u001B[43miteration_range\u001B[49m\u001B[38;5;241;43m=\u001B[39;49m\u001B[43miteration_range\u001B[49m\u001B[43m,\u001B[49m\n\u001B[1;32m   1117\u001B[0m \u001B[43m            \u001B[49m\u001B[43mpredict_type\u001B[49m\u001B[38;5;241;43m=\u001B[39;49m\u001B[38;5;124;43m\"\u001B[39;49m\u001B[38;5;124;43mmargin\u001B[39;49m\u001B[38;5;124;43m\"\u001B[39;49m\u001B[43m \u001B[49m\u001B[38;5;28;43;01mif\u001B[39;49;00m\u001B[43m \u001B[49m\u001B[43moutput_margin\u001B[49m\u001B[43m \u001B[49m\u001B[38;5;28;43;01melse\u001B[39;49;00m\u001B[43m \u001B[49m\u001B[38;5;124;43m\"\u001B[39;49m\u001B[38;5;124;43mvalue\u001B[39;49m\u001B[38;5;124;43m\"\u001B[39;49m\u001B[43m,\u001B[49m\n\u001B[1;32m   1118\u001B[0m \u001B[43m            \u001B[49m\u001B[43mmissing\u001B[49m\u001B[38;5;241;43m=\u001B[39;49m\u001B[38;5;28;43mself\u001B[39;49m\u001B[38;5;241;43m.\u001B[39;49m\u001B[43mmissing\u001B[49m\u001B[43m,\u001B[49m\n\u001B[1;32m   1119\u001B[0m \u001B[43m            \u001B[49m\u001B[43mbase_margin\u001B[49m\u001B[38;5;241;43m=\u001B[39;49m\u001B[43mbase_margin\u001B[49m\u001B[43m,\u001B[49m\n\u001B[1;32m   1120\u001B[0m \u001B[43m            \u001B[49m\u001B[43mvalidate_features\u001B[49m\u001B[38;5;241;43m=\u001B[39;49m\u001B[43mvalidate_features\u001B[49m\u001B[43m,\u001B[49m\n\u001B[1;32m   1121\u001B[0m \u001B[43m        \u001B[49m\u001B[43m)\u001B[49m\n\u001B[1;32m   1122\u001B[0m         \u001B[38;5;28;01mif\u001B[39;00m _is_cupy_array(predts):\n\u001B[1;32m   1123\u001B[0m             \u001B[38;5;28;01mimport\u001B[39;00m \u001B[38;5;21;01mcupy\u001B[39;00m  \u001B[38;5;66;03m# pylint: disable=import-error\u001B[39;00m\n",
      "File \u001B[0;32m~/Desktop/mtp/model/jfl/lib/python3.9/site-packages/xgboost/core.py:2284\u001B[0m, in \u001B[0;36mBooster.inplace_predict\u001B[0;34m(self, data, iteration_range, predict_type, missing, validate_features, base_margin, strict_shape)\u001B[0m\n\u001B[1;32m   2282\u001B[0m enable_categorical \u001B[38;5;241m=\u001B[39m _has_categorical(\u001B[38;5;28mself\u001B[39m, data)\n\u001B[1;32m   2283\u001B[0m \u001B[38;5;28;01mif\u001B[39;00m _is_pandas_df(data):\n\u001B[0;32m-> 2284\u001B[0m     data, fns, _ \u001B[38;5;241m=\u001B[39m \u001B[43m_transform_pandas_df\u001B[49m\u001B[43m(\u001B[49m\u001B[43mdata\u001B[49m\u001B[43m,\u001B[49m\u001B[43m \u001B[49m\u001B[43menable_categorical\u001B[49m\u001B[43m)\u001B[49m\n\u001B[1;32m   2285\u001B[0m     \u001B[38;5;28;01mif\u001B[39;00m validate_features:\n\u001B[1;32m   2286\u001B[0m         \u001B[38;5;28mself\u001B[39m\u001B[38;5;241m.\u001B[39m_validate_features(fns)\n",
      "File \u001B[0;32m~/Desktop/mtp/model/jfl/lib/python3.9/site-packages/xgboost/data.py:391\u001B[0m, in \u001B[0;36m_transform_pandas_df\u001B[0;34m(data, enable_categorical, feature_names, feature_types, meta, meta_type)\u001B[0m\n\u001B[1;32m    379\u001B[0m \u001B[38;5;28;01mfrom\u001B[39;00m \u001B[38;5;21;01mpandas\u001B[39;00m\u001B[38;5;21;01m.\u001B[39;00m\u001B[38;5;21;01mapi\u001B[39;00m\u001B[38;5;21;01m.\u001B[39;00m\u001B[38;5;21;01mtypes\u001B[39;00m \u001B[38;5;28;01mimport\u001B[39;00m (\n\u001B[1;32m    380\u001B[0m     is_sparse,\n\u001B[1;32m    381\u001B[0m     is_categorical_dtype,\n\u001B[1;32m    382\u001B[0m )\n\u001B[1;32m    384\u001B[0m \u001B[38;5;28;01mif\u001B[39;00m \u001B[38;5;129;01mnot\u001B[39;00m \u001B[38;5;28mall\u001B[39m(\n\u001B[1;32m    385\u001B[0m     dtype\u001B[38;5;241m.\u001B[39mname \u001B[38;5;129;01min\u001B[39;00m _pandas_dtype_mapper\n\u001B[1;32m    386\u001B[0m     \u001B[38;5;129;01mor\u001B[39;00m is_sparse(dtype)\n\u001B[0;32m   (...)\u001B[0m\n\u001B[1;32m    389\u001B[0m     \u001B[38;5;28;01mfor\u001B[39;00m dtype \u001B[38;5;129;01min\u001B[39;00m data\u001B[38;5;241m.\u001B[39mdtypes\n\u001B[1;32m    390\u001B[0m ):\n\u001B[0;32m--> 391\u001B[0m     \u001B[43m_invalid_dataframe_dtype\u001B[49m\u001B[43m(\u001B[49m\u001B[43mdata\u001B[49m\u001B[43m)\u001B[49m\n\u001B[1;32m    393\u001B[0m feature_names, feature_types \u001B[38;5;241m=\u001B[39m _pandas_feature_info(\n\u001B[1;32m    394\u001B[0m     data, meta, feature_names, feature_types, enable_categorical\n\u001B[1;32m    395\u001B[0m )\n\u001B[1;32m    397\u001B[0m transformed \u001B[38;5;241m=\u001B[39m _pandas_cat_null(data)\n",
      "File \u001B[0;32m~/Desktop/mtp/model/jfl/lib/python3.9/site-packages/xgboost/data.py:283\u001B[0m, in \u001B[0;36m_invalid_dataframe_dtype\u001B[0;34m(data)\u001B[0m\n\u001B[1;32m    281\u001B[0m type_err \u001B[38;5;241m=\u001B[39m \u001B[38;5;124m\"\u001B[39m\u001B[38;5;124mDataFrame.dtypes for data must be int, float, bool or category.\u001B[39m\u001B[38;5;124m\"\u001B[39m\n\u001B[1;32m    282\u001B[0m msg \u001B[38;5;241m=\u001B[39m \u001B[38;5;124mf\u001B[39m\u001B[38;5;124m\"\"\"\u001B[39m\u001B[38;5;132;01m{\u001B[39;00mtype_err\u001B[38;5;132;01m}\u001B[39;00m\u001B[38;5;124m \u001B[39m\u001B[38;5;132;01m{\u001B[39;00m_ENABLE_CAT_ERR\u001B[38;5;132;01m}\u001B[39;00m\u001B[38;5;124m \u001B[39m\u001B[38;5;132;01m{\u001B[39;00merr\u001B[38;5;132;01m}\u001B[39;00m\u001B[38;5;124m\"\"\"\u001B[39m\n\u001B[0;32m--> 283\u001B[0m \u001B[38;5;28;01mraise\u001B[39;00m \u001B[38;5;167;01mValueError\u001B[39;00m(msg)\n",
      "\u001B[0;31mValueError\u001B[0m: DataFrame.dtypes for data must be int, float, bool or category. When categorical type is supplied, The experimental DMatrix parameter`enable_categorical` must be set to `True`.  Invalid columns:feature_2: category"
     ]
    }
   ],
   "source": [
    "if isCentralModel:\n",
    "    overallDF = pd.DataFrame()\n",
    "    for storeId in allStoreIds:\n",
    "        overallDF = pd.concat([overallDF, restWiseDFs[storeId]], ignore_index=True)\n",
    "    firstTime = datetime(2022, 7, 1)\n",
    "    lastTime = datetime(2022, 7, 21)\n",
    "    trainingData = overallDF.loc[(overallDF['Kitchen_Display_Time'] >= firstTime) & \\\n",
    "          (overallDF['Kitchen_Display_Time'] <= lastTime)]\n",
    "    X_train = trainingData.loc[:, feature_cols]\n",
    "    y_train = trainingData.prep_time.values.tolist()\n",
    "\n",
    "    firstTime = datetime(2022, 7, 24)\n",
    "    lastTime = datetime(2022, 7, 22)\n",
    "    validationData = overallDF.loc[(overallDF['Kitchen_Display_Time'] >= firstTime) & \\\n",
    "          (overallDF['Kitchen_Display_Time'] <= lastTime)]\n",
    "\n",
    "    X_train_val = validationData.loc[:, feature_cols]\n",
    "    y_train_val = validationData.prep_time.values.tolist()\n",
    "\n",
    "    firstTime = datetime(2022, 7, 25)\n",
    "    lastTime = datetime(2022, 7, 31)\n",
    "    testData = overallDF.loc[(overallDF['Kitchen_Display_Time'] >= firstTime) & \\\n",
    "          (overallDF['Kitchen_Display_Time'] <= lastTime)]\n",
    "\n",
    "    X_test = testData.loc[:, feature_cols]\n",
    "    y_test = testData.prep_time.values.tolist()\n",
    "\n",
    "\n",
    "    regressor = XGBRegressor()\n",
    "    param_grid = {\n",
    "        'tree_method': ['approx', 'hist'],\n",
    "        'n_estimators': [50, 100, 200],\n",
    "        'max_depth': [3, 5, 7],\n",
    "        'learning_rate': [0.2, 0.1, 0.01],\n",
    "        'subsample': [0.6, 0.7, 0.8],\n",
    "        'colsample_bytree': [0.6, 0.7, 0.8],\n",
    "        'enable_categorical': [True],\n",
    "    }\n",
    "\n",
    "    # define the GridSearchCV object with the parameter grid and the XGBRegressor model\n",
    "    grid_search = GridSearchCV(estimator=regressor, param_grid=param_grid, cv=5)\n",
    "\n",
    "    # fit the GridSearchCV object on the training set\n",
    "    grid_search.fit(X_train, y_train)\n",
    "\n",
    "    # print the best hyperparameters and the corresponding mean cross-validated score\n",
    "    print(\"Best hyperparameters:\", grid_search.best_params_)\n",
    "    print(\"Best mean cross-validated score:\", grid_search.best_score_)\n",
    "\n",
    "    # retrain the model on the combined training and validation sets with the best hyperparameters\n",
    "    best_regressor = XGBRegressor(**grid_search.best_params_)\n",
    "    best_regressor.fit(X_train_val, y_train_val)\n",
    "\n",
    "    # evaluate the final model performance on the test set\n",
    "    test_score = best_regressor.score(X_test, y_test)\n",
    "    print(\"Test score:\", test_score)\n",
    "\n",
    "    # regressor.fit(X_train, y_train)\n",
    "    # restWiseModelsXGB[storeId] = best_regressor\n",
    "\n",
    "    for storeId in allStoreIds:\n",
    "        X = restWiseDFs[storeId].loc[:, feature_cols]\n",
    "        y = restWiseDFs[storeId].prep_time.values.tolist()\n",
    "        predictions = best_regressor.predict(X)\n",
    "        restWiseDFs[storeId]['predicted_prep_time_central'] = predictions\n",
    "\n",
    "        a = getRMSE(y, predictions)\n",
    "        print(\"RMSE score overall for store central model (30 days) \"+storeId+\" :  \", a)"
   ],
   "metadata": {
    "collapsed": false
   }
  },
  {
   "cell_type": "code",
   "execution_count": null,
   "outputs": [],
   "source": [],
   "metadata": {
    "collapsed": false
   }
  },
  {
   "cell_type": "code",
   "execution_count": 42,
   "outputs": [
    {
     "ename": "NameError",
     "evalue": "name 'testingData' is not defined",
     "output_type": "error",
     "traceback": [
      "\u001B[0;31m---------------------------------------------------------------------------\u001B[0m",
      "\u001B[0;31mNameError\u001B[0m                                 Traceback (most recent call last)",
      "Cell \u001B[0;32mIn[42], line 1\u001B[0m\n\u001B[0;32m----> 1\u001B[0m rmse1 \u001B[38;5;241m=\u001B[39m ((\u001B[43mtestingData\u001B[49m\u001B[38;5;241m.\u001B[39mprep_time \u001B[38;5;241m-\u001B[39m testingData\u001B[38;5;241m.\u001B[39mpredicted_prep_time_central) \u001B[38;5;241m*\u001B[39m\u001B[38;5;241m*\u001B[39m \u001B[38;5;241m2\u001B[39m)\u001B[38;5;241m.\u001B[39mmean() \u001B[38;5;241m*\u001B[39m\u001B[38;5;241m*\u001B[39m \u001B[38;5;241m.5\u001B[39m\n\u001B[1;32m      2\u001B[0m rmse2 \u001B[38;5;241m=\u001B[39m ((testingData\u001B[38;5;241m.\u001B[39mprep_time \u001B[38;5;241m-\u001B[39m testingData\u001B[38;5;241m.\u001B[39mhour_wise_avg_kpt_of_the_day) \u001B[38;5;241m*\u001B[39m\u001B[38;5;241m*\u001B[39m \u001B[38;5;241m2\u001B[39m)\u001B[38;5;241m.\u001B[39mmean() \u001B[38;5;241m*\u001B[39m\u001B[38;5;241m*\u001B[39m \u001B[38;5;241m.5\u001B[39m\n\u001B[1;32m      3\u001B[0m \u001B[38;5;66;03m# hour_wise_avg_kpt_of_the_day\u001B[39;00m\n\u001B[1;32m      4\u001B[0m \u001B[38;5;66;03m# rmse = ((df.prep_time - df.predicted_prep_time) ** 2).mean() ** .5\u001B[39;00m\n\u001B[1;32m      5\u001B[0m \u001B[38;5;66;03m#\u001B[39;00m\n",
      "\u001B[0;31mNameError\u001B[0m: name 'testingData' is not defined"
     ]
    }
   ],
   "source": [
    "\n",
    "rmse1 = ((testingData.prep_time - testingData.predicted_prep_time_central) ** 2).mean() ** .5\n",
    "rmse2 = ((testingData.prep_time - testingData.hour_wise_avg_kpt_of_the_day) ** 2).mean() ** .5\n",
    "# hour_wise_avg_kpt_of_the_day\n",
    "# rmse = ((df.prep_time - df.predicted_prep_time) ** 2).mean() ** .5\n",
    "#\n",
    "absError = (abs(trainingData.prep_time - trainingData.predicted_prep_time_central)).values.tolist()\n",
    "absError2 = (abs(trainingData.prep_time - trainingData.hour_wise_avg_kpt_of_the_day)).values.tolist()\n",
    "meanAbsError = statistics.mean(absError)\n",
    "medianAbsError = statistics.median(absError)\n",
    "\n",
    "meanAbsError2 = statistics.mean(absError2)\n",
    "medianAbsError2 = statistics.median(absError2)\n",
    "# stdAbsError = statistics.stdev(absError)\n",
    "#\n",
    "# error = (df.prep_time - df.predicted_prep_time).values.tolist()\n",
    "# meanError = statistics.mean(error)\n",
    "# medianError = statistics.median(error)\n",
    "# stdError = statistics.stdev(error)\n",
    "#\n",
    "# accuracy = (((df.prep_time - df.predicted_prep_time))/(7*60+df.prep_time)).values.tolist()"
   ],
   "metadata": {
    "collapsed": false
   }
  },
  {
   "cell_type": "code",
   "execution_count": null,
   "id": "335de2ba",
   "metadata": {
    "ExecuteTime": {
     "end_time": "2023-02-28T08:47:28.010340Z",
     "start_time": "2023-02-28T08:47:14.651390Z"
    }
   },
   "outputs": [],
   "source": [
    "# Time Consuming (training on first 14 days of July)\n",
    "restWiseModelsXGB = {}\n",
    "\n",
    "for storeId in allStoreIds:\n",
    "    firstTime = datetime(2022, 7, 1)\n",
    "    lastTime = datetime(2022, 7, 14)\n",
    "    trainingData = restWiseDFs[storeId].loc[(restWiseDFs[storeId]['Kitchen_Display_Time'] >= firstTime) & \\\n",
    "          (restWiseDFs[storeId]['Kitchen_Display_Time'] <= lastTime)]\n",
    "    \n",
    "    X_train = trainingData.loc[:, feature_cols]\n",
    "    y_train = trainingData.prep_time.values.tolist()\n",
    "\n",
    "    firstTime = datetime(2022, 7, 15)\n",
    "    lastTime = datetime(2022, 7, 21)\n",
    "    validationData = restWiseDFs[storeId].loc[(restWiseDFs[storeId]['Kitchen_Display_Time'] >= firstTime) & \\\n",
    "          (restWiseDFs[storeId]['Kitchen_Display_Time'] <= lastTime)]\n",
    "\n",
    "    X_train_val = validationData.loc[:, feature_cols]\n",
    "    y_train_val = validationData.prep_time.values.tolist()\n",
    "\n",
    "    firstTime = datetime(2022, 7, 22)\n",
    "    lastTime = datetime(2022, 7, 31)\n",
    "    testData = restWiseDFs[storeId].loc[(restWiseDFs[storeId]['Kitchen_Display_Time'] >= firstTime) & \\\n",
    "          (restWiseDFs[storeId]['Kitchen_Display_Time'] <= lastTime)]\n",
    "\n",
    "    X_test = testData.loc[:, feature_cols]\n",
    "    y_test = testData.prep_time.values.tolist()\n",
    "\n",
    "\n",
    "    regressor = XGBRegressor()\n",
    "    # define the parameter grid to search\n",
    "    param_grid = {\n",
    "        'tree_method': ['approx', 'hist'],\n",
    "        'n_estimators': [50, 100, 200],\n",
    "        'max_depth': [3, 5, 7],\n",
    "        'learning_rate': [0.1, 0.01, 0.001],\n",
    "        'subsample': [0.6, 0.7, 0.8],\n",
    "        'colsample_bytree': [0.6, 0.7, 0.8],\n",
    "        'enable_categorical': [True],\n",
    "    }\n",
    "\n",
    "    # define the GridSearchCV object with the parameter grid and the XGBRegressor model\n",
    "    grid_search = GridSearchCV(estimator=regressor, param_grid=param_grid, cv=5)\n",
    "\n",
    "    # fit the GridSearchCV object on the training set\n",
    "    grid_search.fit(X_train, y_train)\n",
    "\n",
    "    # print the best hyperparameters and the corresponding mean cross-validated score\n",
    "    print(\"Best hyperparameters:\", grid_search.best_params_)\n",
    "    print(\"Best mean cross-validated score:\", grid_search.best_score_)\n",
    "\n",
    "    # retrain the model on the combined training and validation sets with the best hyperparameters\n",
    "    best_regressor = XGBRegressor(**grid_search.best_params_)\n",
    "    best_regressor.fit(X_train_val, y_train_val)\n",
    "\n",
    "    # evaluate the final model performance on the test set\n",
    "    test_score = best_regressor.score(X_test, y_test)\n",
    "    print(\"Test score:\", test_score)\n",
    "\n",
    "    # regressor.fit(X_train, y_train)\n",
    "    restWiseModelsXGB[storeId] = best_regressor\n",
    "    \n",
    "    \n",
    "    X = restWiseDFs[storeId].loc[:, feature_cols]\n",
    "    y = restWiseDFs[storeId].prep_time.values.tolist()\n",
    "    predictions = best_regressor.predict(X)\n",
    "    restWiseDFs[storeId]['predicted_prep_time'] = predictions\n",
    "    \n",
    "    a = getRMSE(y, predictions)\n",
    "    print(\"RMSE score overall for store (30 days) \"+storeId+\" :  \", a)"
   ]
  },
  {
   "cell_type": "code",
   "execution_count": null,
   "id": "c8011b50",
   "metadata": {
    "ExecuteTime": {
     "end_time": "2023-02-28T08:47:34.085711Z",
     "start_time": "2023-02-28T08:47:33.015472Z"
    }
   },
   "outputs": [],
   "source": [
    "save_object(restWiseDFs, f'restWiseDFsWithPredictions{city}.pkl')"
   ]
  },
  {
   "cell_type": "code",
   "execution_count": null,
   "id": "c39c659c",
   "metadata": {
    "ExecuteTime": {
     "end_time": "2023-02-28T08:47:34.222319Z",
     "start_time": "2023-02-28T08:47:34.090156Z"
    }
   },
   "outputs": [],
   "source": [
    "save_object(restWiseModelsXGB, f'restWiseModels{city}.pkl')"
   ]
  },
  {
   "cell_type": "code",
   "execution_count": null,
   "outputs": [],
   "source": [],
   "metadata": {
    "collapsed": false
   }
  },
  {
   "cell_type": "code",
   "execution_count": null,
   "id": "7b8d7565",
   "metadata": {
    "ExecuteTime": {
     "end_time": "2023-02-28T08:47:35.187046Z",
     "start_time": "2023-02-28T08:47:35.169193Z"
    }
   },
   "outputs": [],
   "source": [
    "def getPredictionHyperparameters(startDay, endDay): # both are included\n",
    "    df = pd.DataFrame()\n",
    "    firstTime = datetime(2022, 7, startDay)\n",
    "    lastTime = datetime(2022, 7, endDay) + timedelta(days=1)\n",
    "    for storeId in allStoreIds:\n",
    "        df2 = restWiseDFs[storeId].loc[(restWiseDFs[storeId]['Kitchen_Display_Time'] >= firstTime) & \\\n",
    "          (restWiseDFs[storeId]['Kitchen_Display_Time'] < lastTime) & \\\n",
    "                                       (restWiseDFs[storeId]['prep_time'] != timedelta(0))]\n",
    "        df = pd.concat([df, df2], ignore_index = True)\n",
    "    \n",
    "    rmse = ((df.prep_time - df.predicted_prep_time) ** 2).mean() ** .5\n",
    "    \n",
    "    absError = (abs(df.prep_time - df.predicted_prep_time)).values.tolist()\n",
    "    meanAbsError = statistics.mean(absError)\n",
    "    medianAbsError = statistics.median(absError)\n",
    "    stdAbsError = statistics.stdev(absError)\n",
    "    \n",
    "    error = (df.prep_time - df.predicted_prep_time).values.tolist()\n",
    "    meanError = statistics.mean(error)\n",
    "    medianError = statistics.median(error)\n",
    "    stdError = statistics.stdev(error)\n",
    "    \n",
    "    accuracy = (((df.prep_time - df.predicted_prep_time))/(7*60+df.prep_time)).values.tolist()\n",
    "    for i in range(0, len(accuracy)):\n",
    "        if accuracy[i] < 0:\n",
    "            accuracy[i] = -1*accuracy[i]\n",
    "        accuracy[i] = 1-accuracy[i]\n",
    "    meanAccuracy = statistics.mean(accuracy)\n",
    "    if not(meanAccuracy > 0 and meanAccuracy < 1):\n",
    "        print(\"Mean accuracy is zero: \")\n",
    "        print(meanAccuracy)\n",
    "    medianAccuracy = statistics.median(accuracy)\n",
    "    stdAccuracy = statistics.stdev(accuracy)\n",
    "    return rmse, (meanAbsError, medianAbsError, stdAbsError), (meanError, medianError, stdError), (meanAccuracy, medianAccuracy, stdAccuracy)"
   ]
  },
  {
   "cell_type": "code",
   "execution_count": null,
   "id": "87e1f424",
   "metadata": {
    "ExecuteTime": {
     "end_time": "2023-02-28T08:47:37.444088Z",
     "start_time": "2023-02-28T08:47:36.096635Z"
    }
   },
   "outputs": [],
   "source": [
    "rmseList = []\n",
    "meanAbsErrorList = []\n",
    "medianAbsErrorList = []\n",
    "stdAbsErrorList = []\n",
    "meanErrorList = []\n",
    "medianErrorList = []\n",
    "stdErrorList = []\n",
    "meanAccuracyList = []\n",
    "medianAccuracyList = []\n",
    "stdAccuracyList = []\n",
    "\n",
    "x = [15, 16, 17, 18, 19, 20, 21, 22, 23, 24, 25, 26, 27, 28, 29, 30, 31]\n",
    "\n",
    "for i in x:\n",
    "    (rmse, (meanAbsError, medianAbsError, stdAbsError), \n",
    "    (meanError, medianError, stdError), \n",
    "    (meanAccuracy, medianAccuracy, stdAccuracy)) = getPredictionHyperparameters(i,i)\n",
    "    rmseList.append(rmse)\n",
    "    meanAbsErrorList.append(meanAbsError)\n",
    "    medianAbsErrorList.append(medianAbsError)\n",
    "    stdAbsErrorList.append(stdAbsError)\n",
    "    meanErrorList.append(meanError)\n",
    "    medianErrorList.append(medianError)\n",
    "    stdErrorList.append(stdError)\n",
    "    meanAccuracyList.append(meanAccuracy)\n",
    "    medianAccuracyList.append(medianAccuracy)\n",
    "    stdAccuracyList.append(stdAccuracy)"
   ]
  },
  {
   "cell_type": "code",
   "execution_count": null,
   "id": "3da6820d",
   "metadata": {
    "ExecuteTime": {
     "end_time": "2023-02-28T08:47:38.015196Z",
     "start_time": "2023-02-28T08:47:37.447711Z"
    }
   },
   "outputs": [],
   "source": [
    "# plot for 15, 20, 25, 30 july \n",
    "plt.bar(x, rmseList)\n",
    "plt.xticks(x)\n",
    "plt.xlabel(\"Date\")\n",
    "plt.ylabel(\"RMSE value on the respective day\")\n",
    "plt.title(\"Model predictions with days\")\n",
    "plt.savefig(f'{city}_1.png')"
   ]
  },
  {
   "cell_type": "code",
   "execution_count": null,
   "id": "a7275d7e",
   "metadata": {
    "ExecuteTime": {
     "end_time": "2023-02-28T08:47:38.326776Z",
     "start_time": "2023-02-28T08:47:38.018825Z"
    }
   },
   "outputs": [],
   "source": [
    "# plot for 15, 20, 25, 30 july \n",
    "plt.bar(x, medianAbsErrorList)\n",
    "plt.xticks(x)\n",
    "plt.xlabel(\"Date\")\n",
    "plt.ylabel(\"Absolute Value of error (median) on the respective day\")\n",
    "plt.title(\"Model predictions with days\")\n",
    "plt.savefig(f'{city}_3.png')"
   ]
  },
  {
   "cell_type": "code",
   "execution_count": null,
   "id": "9d98e9e6",
   "metadata": {
    "ExecuteTime": {
     "end_time": "2023-02-28T08:47:38.707538Z",
     "start_time": "2023-02-28T08:47:38.404662Z"
    }
   },
   "outputs": [],
   "source": [
    "# plot for 15, 20, 25, 30 july \n",
    "plt.errorbar(x, meanErrorList, stdErrorList)\n",
    "plt.xticks(x)\n",
    "plt.xlabel(\"Date\")\n",
    "plt.ylabel(\"error (mean, std dev of the day) on the respective day\")\n",
    "plt.title(\"Model predictions with days\")\n",
    "plt.savefig(f'{city}_4.png')"
   ]
  },
  {
   "cell_type": "code",
   "execution_count": null,
   "id": "e4180da9",
   "metadata": {
    "ExecuteTime": {
     "end_time": "2023-02-28T08:47:39.148434Z",
     "start_time": "2023-02-28T08:47:38.814834Z"
    }
   },
   "outputs": [],
   "source": [
    "# plot for 15, 20, 25, 30 july \n",
    "plt.bar(x, medianErrorList)\n",
    "plt.xticks(x)\n",
    "plt.xlabel(\"Date\")\n",
    "plt.ylabel(\"error (median) on the respective day\")\n",
    "plt.title(\"Model predictions with days\")\n",
    "plt.savefig(f'{city}_5.png')"
   ]
  },
  {
   "cell_type": "code",
   "execution_count": null,
   "id": "96ca9374",
   "metadata": {
    "ExecuteTime": {
     "end_time": "2023-02-28T08:47:39.782080Z",
     "start_time": "2023-02-28T08:47:39.470958Z"
    }
   },
   "outputs": [],
   "source": [
    "# plot for 15, 20, 25, 30 july \n",
    "plt.errorbar(x, meanAccuracyList, stdAccuracyList)\n",
    "plt.xticks(x)\n",
    "plt.xlabel(\"Date\")\n",
    "plt.ylabel(\"Accuracy (mean, std dev of the day) on the respective day\")\n",
    "plt.title(\"Model predictions with days\")\n",
    "plt.savefig(f'{city}_6.png')\n",
    "\n"
   ]
  },
  {
   "cell_type": "code",
   "execution_count": null,
   "outputs": [],
   "source": [
    "overallDf = pd.DataFrame()\n",
    "for storeId in allStoreIds:\n",
    "        overallDf = pd.concat([overallDf, restWiseDFs[storeId]], ignore_index = True)"
   ],
   "metadata": {
    "collapsed": false
   }
  },
  {
   "cell_type": "code",
   "execution_count": null,
   "outputs": [],
   "source": [
    "a = overallDf.loc[(overallDf['Oven_Time'] - overallDf['Kitchen_Display_Time'] < timedelta(seconds=1))]"
   ],
   "metadata": {
    "collapsed": false
   }
  },
  {
   "cell_type": "code",
   "execution_count": null,
   "outputs": [],
   "source": [
    "a"
   ],
   "metadata": {
    "collapsed": false
   }
  },
  {
   "cell_type": "code",
   "execution_count": null,
   "id": "bcdf4bd8",
   "metadata": {
    "ExecuteTime": {
     "end_time": "2023-02-28T08:47:40.277662Z",
     "start_time": "2023-02-28T08:47:39.968901Z"
    }
   },
   "outputs": [],
   "source": [
    "# plot for 15, 20, 25, 30 july \n",
    "plt.ylim(0.8, 1)\n",
    "plt.bar(x, medianAccuracyList)\n",
    "plt.xticks(x)\n",
    "plt.xlabel(\"Date\")\n",
    "plt.ylabel(\"Accuracy (median) on the respective day\")\n",
    "plt.title(\"Model predictions with days\")\n",
    "plt.savefig(f'{city}_7.png')\n"
   ]
  },
  {
   "cell_type": "code",
   "execution_count": null,
   "id": "e05bfe46",
   "metadata": {
    "ExecuteTime": {
     "end_time": "2023-02-28T08:47:45.557243Z",
     "start_time": "2023-02-28T08:47:40.451155Z"
    }
   },
   "outputs": [],
   "source": [
    "# baseline approach\n",
    "# Hourwise avg \n",
    "\n",
    "weekdayHourWiseAvg = {}\n",
    "weekendHourWiseAvg = {}\n",
    "for store in allStoreIds:\n",
    "    weekdayHourWiseAvg[store] = {}\n",
    "    weekendHourWiseAvg[store] = {}\n",
    "for i in range(1, 15):\n",
    "    dt = datetime(2022, 7, i)\n",
    "    for storeId in allStoreIds:\n",
    "        df = restWiseDFs[storeId].loc[(restWiseDFs[storeId]['Kitchen_Display_Time'] >= dt) & \\\n",
    "          (restWiseDFs[storeId]['Kitchen_Display_Time'] < dt+timedelta(days=1))]\n",
    "        for index, item in df.iterrows():\n",
    "            ts = getTimeslot(item['Kitchen_Display_Time'])\n",
    "            if(dayOfTheWeek(item['Kitchen_Display_Time']) >= 5):\n",
    "                if ts not in weekendHourWiseAvg[storeId]:\n",
    "                    weekendHourWiseAvg[storeId][ts] = {'val': 0, 'cnt': 0}\n",
    "                weekendHourWiseAvg[storeId][ts]['val'] += item['prep_time']\n",
    "                weekendHourWiseAvg[storeId][ts]['cnt'] += 1\n",
    "            else:\n",
    "                if ts not in weekdayHourWiseAvg[storeId]:\n",
    "                    weekdayHourWiseAvg[storeId][ts] = {'val': 0, 'cnt': 0}\n",
    "                weekdayHourWiseAvg[storeId][ts]['val'] += item['prep_time']\n",
    "                weekdayHourWiseAvg[storeId][ts]['cnt'] += 1\n",
    "\n",
    "for storeId in allStoreIds:\n",
    "    for ts in weekdayHourWiseAvg[storeId].keys():\n",
    "        weekdayHourWiseAvg[storeId][ts]['val'] = weekdayHourWiseAvg[storeId][ts]['val']/weekdayHourWiseAvg[storeId][ts]['cnt']\n",
    "    for ts in weekendHourWiseAvg[storeId].keys():\n",
    "        weekendHourWiseAvg[storeId][ts]['val'] = weekendHourWiseAvg[storeId][ts]['val']/weekendHourWiseAvg[storeId][ts]['cnt']\n",
    "        \n",
    "\n",
    "        \n",
    "        "
   ]
  },
  {
   "cell_type": "code",
   "execution_count": null,
   "id": "f8ba4d96",
   "metadata": {
    "ExecuteTime": {
     "end_time": "2023-02-28T08:47:46.961521Z",
     "start_time": "2023-02-28T08:47:45.561408Z"
    }
   },
   "outputs": [],
   "source": [
    "overallDF = pd.DataFrame()\n",
    "for storeId in allStoreIds:\n",
    "    overallDF = pd.concat([overallDF, restWiseDFs[storeId]], ignore_index = True)"
   ]
  },
  {
   "cell_type": "code",
   "execution_count": null,
   "id": "e6f27b15",
   "metadata": {
    "ExecuteTime": {
     "end_time": "2023-02-28T08:53:20.326900Z",
     "start_time": "2023-02-28T08:53:06.371322Z"
    }
   },
   "outputs": [],
   "source": [
    "avgs = []\n",
    "for index, item in overallDF.iterrows():\n",
    "    ts = getTimeslot(item['Kitchen_Display_Time'])\n",
    "    storeId = item['Location_Code']\n",
    "    if(dayOfTheWeek(item['Kitchen_Display_Time']) >= 5):\n",
    "        if(ts not in weekendHourWiseAvg[storeId]):\n",
    "            avgs.append(0)\n",
    "        else:\n",
    "            avgs.append(weekendHourWiseAvg[storeId][ts]['val'] )\n",
    "    else:\n",
    "        if(ts not in weekdayHourWiseAvg[storeId]):\n",
    "            avgs.append(0)\n",
    "        else:\n",
    "            avgs.append(weekdayHourWiseAvg[storeId][ts]['val'] )\n"
   ]
  },
  {
   "cell_type": "code",
   "execution_count": null,
   "id": "e1550749",
   "metadata": {
    "ExecuteTime": {
     "end_time": "2023-02-28T08:53:21.319684Z",
     "start_time": "2023-02-28T08:53:21.127021Z"
    }
   },
   "outputs": [],
   "source": [
    "overallDF['hourwise_avg'] = avgs"
   ]
  },
  {
   "cell_type": "code",
   "execution_count": null,
   "id": "8ef84e7d",
   "metadata": {
    "ExecuteTime": {
     "end_time": "2023-02-28T08:53:22.165474Z",
     "start_time": "2023-02-28T08:53:21.720863Z"
    }
   },
   "outputs": [],
   "source": [
    "restWiseDFs = {}\n",
    "for storeId in allStoreIds:\n",
    "    restWiseDFs[storeId] = overallDF.loc[overallDF['Location_Code'] == storeId]"
   ]
  },
  {
   "cell_type": "code",
   "execution_count": null,
   "id": "ad81ec9e",
   "metadata": {
    "ExecuteTime": {
     "end_time": "2023-02-28T08:53:22.303745Z",
     "start_time": "2023-02-28T08:53:22.287539Z"
    }
   },
   "outputs": [],
   "source": [
    "def getBaselineHyperparameters(startDay, endDay): # both are included\n",
    "    df = pd.DataFrame()\n",
    "    firstTime = datetime(2022, 7, startDay)\n",
    "    lastTime = datetime(2022, 7, endDay) + timedelta(days=1)\n",
    "    for storeId in allStoreIds:\n",
    "        df2 = restWiseDFs[storeId].loc[(restWiseDFs[storeId]['Kitchen_Display_Time'] >= firstTime) & \\\n",
    "          (restWiseDFs[storeId]['Kitchen_Display_Time'] < lastTime)]\n",
    "        df = pd.concat([df, df2], ignore_index = True)\n",
    "    \n",
    "    rmse = ((df.prep_time - df.hourwise_avg) ** 2).mean() ** .5\n",
    "    \n",
    "    absError = (abs(df.prep_time - df.hourwise_avg)).values.tolist()\n",
    "    meanAbsError = statistics.mean(absError)\n",
    "    medianAbsError = statistics.median(absError)\n",
    "    stdAbsError = statistics.stdev(absError)\n",
    "    \n",
    "    error = (df.prep_time - df.hourwise_avg).values.tolist()\n",
    "    meanError = statistics.mean(error)\n",
    "    medianError = statistics.median(error)\n",
    "    stdError = statistics.stdev(error)\n",
    "    \n",
    "    accuracy = ((df.prep_time - abs(df.prep_time - df.hourwise_avg))/df.prep_time).values.tolist()\n",
    "    meanAccuracy = statistics.mean(accuracy)\n",
    "    medianAccuracy = statistics.median(accuracy)\n",
    "    stdAccuracy = statistics.stdev(accuracy)\n",
    "    return rmse, (meanAbsError, medianAbsError, stdAbsError), (meanError, medianError, stdError), (meanAccuracy, medianAccuracy, stdAccuracy)"
   ]
  },
  {
   "cell_type": "code",
   "execution_count": null,
   "id": "327b6871",
   "metadata": {
    "ExecuteTime": {
     "end_time": "2023-02-28T08:53:23.953284Z",
     "start_time": "2023-02-28T08:53:22.723425Z"
    }
   },
   "outputs": [],
   "source": [
    "rmseListBL = []\n",
    "meanAbsErrorListBL = []\n",
    "medianAbsErrorListBL = []\n",
    "stdAbsErrorListBL = []\n",
    "meanErrorListBL = []\n",
    "medianErrorListBL = []\n",
    "stdErrorListBL = []\n",
    "meanAccuracyListBL = []\n",
    "medianAccuracyListBL = []\n",
    "stdAccuracyListBL = []\n",
    "\n",
    "x = [15, 16, 17, 18, 19, 20, 21, 22, 23, 24, 25, 26, 27, 28, 29, 30, 31]\n",
    "\n",
    "for i in x:\n",
    "    (rmse, (meanAbsError, medianAbsError, stdAbsError), \n",
    "    (meanError, medianError, stdError), \n",
    "    (meanAccuracy, medianAccuracy, stdAccuracy)) = getBaselineHyperparameters(i,i)\n",
    "    rmseListBL.append(rmse)\n",
    "    meanAbsErrorListBL.append(meanAbsError)\n",
    "    medianAbsErrorListBL.append(medianAbsError)\n",
    "    stdAbsErrorListBL.append(stdAbsError)\n",
    "    meanErrorListBL.append(meanError)\n",
    "    medianErrorListBL.append(medianError)\n",
    "    stdErrorListBL.append(stdError)\n",
    "    meanAccuracyListBL.append(meanAccuracy)\n",
    "    medianAccuracyListBL.append(medianAccuracy)\n",
    "    stdAccuracyListBL.append(stdAccuracy)"
   ]
  },
  {
   "cell_type": "code",
   "execution_count": null,
   "id": "16c1fd68",
   "metadata": {
    "ExecuteTime": {
     "end_time": "2023-02-28T08:53:24.251889Z",
     "start_time": "2023-02-28T08:53:23.955782Z"
    }
   },
   "outputs": [],
   "source": [
    "# plot for 15, 20, 25, 30 july \n",
    "plt.bar(x, rmseListBL)\n",
    "plt.xticks(x)\n",
    "plt.xlabel(\"Date\")\n",
    "plt.ylabel(\"RMSE value on the respective day\")\n",
    "plt.title(\"Baseline prediction\")\n",
    "plt.savefig(f'BL_{city}_1.png')"
   ]
  },
  {
   "cell_type": "code",
   "execution_count": null,
   "id": "954fa3a2",
   "metadata": {
    "ExecuteTime": {
     "end_time": "2023-02-28T08:53:24.277573Z",
     "start_time": "2023-02-28T08:53:24.270759Z"
    }
   },
   "outputs": [],
   "source": [
    "rmseListBL"
   ]
  },
  {
   "cell_type": "code",
   "execution_count": null,
   "id": "d2d27811",
   "metadata": {},
   "outputs": [],
   "source": []
  },
  {
   "cell_type": "code",
   "execution_count": null,
   "id": "bf96bec6",
   "metadata": {
    "ExecuteTime": {
     "end_time": "2023-02-28T08:53:30.156110Z",
     "start_time": "2023-02-28T08:53:29.773958Z"
    }
   },
   "outputs": [],
   "source": [
    "# plot for 15, 20, 25, 30 july \n",
    "plt.bar(x, medianAbsErrorListBL)\n",
    "plt.xticks(x)\n",
    "plt.xlabel(\"Date\")\n",
    "plt.ylabel(\"Absolute Value of error (median) on the respective day\")\n",
    "plt.title(\"Baseline Prediction\")\n",
    "plt.savefig(f'BL_{city}_3.png')"
   ]
  },
  {
   "cell_type": "code",
   "execution_count": null,
   "id": "2cc67186",
   "metadata": {
    "ExecuteTime": {
     "end_time": "2023-02-28T08:53:31.099796Z",
     "start_time": "2023-02-28T08:53:30.504316Z"
    }
   },
   "outputs": [],
   "source": [
    "# plot for 15, 20, 25, 30 july \n",
    "plt.errorbar(x, meanErrorListBL, stdErrorListBL)\n",
    "plt.xticks(x)\n",
    "plt.xlabel(\"Date\")\n",
    "plt.ylabel(\"error (mean, std dev of the day) on the respective day\")\n",
    "plt.title(\"Baseline Prediction\")\n",
    "plt.savefig(f'BL_{city}_4.png')"
   ]
  },
  {
   "cell_type": "code",
   "execution_count": null,
   "id": "f78dcc1a",
   "metadata": {
    "ExecuteTime": {
     "end_time": "2023-02-28T08:53:31.531098Z",
     "start_time": "2023-02-28T08:53:31.205231Z"
    }
   },
   "outputs": [],
   "source": [
    "# plot for 15, 20, 25, 30 july \n",
    "plt.bar(x, medianErrorListBL)\n",
    "plt.xticks(x)\n",
    "plt.xlabel(\"Date\")\n",
    "plt.ylabel(\"error (median) on the respective day\")\n",
    "plt.title(\"Baseline Prediction\")\n",
    "plt.savefig(f'BL_{city}_5.png')"
   ]
  },
  {
   "cell_type": "code",
   "execution_count": null,
   "id": "67bed860",
   "metadata": {
    "ExecuteTime": {
     "end_time": "2023-02-28T08:53:32.095381Z",
     "start_time": "2023-02-28T08:53:31.775787Z"
    }
   },
   "outputs": [],
   "source": [
    "# plot for 15, 20, 25, 30 july \n",
    "plt.errorbar(x, meanAccuracyListBL, stdAccuracyListBL)\n",
    "plt.xticks(x)\n",
    "plt.xlabel(\"Date\")\n",
    "plt.ylabel(\"Accuracy (mean, std dev of the day) on the respective day\")\n",
    "plt.title(\"Baseline Prediction\")\n",
    "plt.savefig(f'BL_{city}_6.png')\n",
    "\n"
   ]
  },
  {
   "cell_type": "code",
   "execution_count": null,
   "id": "26d9b44a",
   "metadata": {
    "ExecuteTime": {
     "end_time": "2023-02-28T08:53:32.511245Z",
     "start_time": "2023-02-28T08:53:32.192626Z"
    }
   },
   "outputs": [],
   "source": [
    "# plot for 15, 20, 25, 30 july \n",
    "plt.ylim(0.7, 1)\n",
    "plt.bar(x, medianAccuracyListBL)\n",
    "plt.xticks(x)\n",
    "plt.xlabel(\"Date\")\n",
    "plt.ylabel(\"Accuracy (median) on the respective day\")\n",
    "plt.title(\"Baseline Prediction\")\n",
    "plt.savefig(f'BL_{city}_7.png')\n"
   ]
  },
  {
   "cell_type": "code",
   "execution_count": null,
   "id": "77100fb3",
   "metadata": {},
   "outputs": [],
   "source": []
  },
  {
   "cell_type": "code",
   "execution_count": null,
   "id": "68cee0a3",
   "metadata": {
    "ExecuteTime": {
     "end_time": "2023-02-28T09:13:07.986156Z",
     "start_time": "2023-02-28T09:13:06.944183Z"
    }
   },
   "outputs": [],
   "source": [
    "(rmseTr, (meanAbsErrorTr, medianAbsErrorTr, stdAbsErrorTr), \n",
    "    (meanErrorTr, medianErrorTr, stdErrorTr), \n",
    "    (meanAccuracyTr, medianAccuracyTr, stdAccuracyTr)) = getPredictionHyperparameters(1, 14)"
   ]
  },
  {
   "cell_type": "code",
   "execution_count": null,
   "id": "c174c632",
   "metadata": {
    "ExecuteTime": {
     "end_time": "2023-02-28T09:13:34.966113Z",
     "start_time": "2023-02-28T09:13:33.791689Z"
    }
   },
   "outputs": [],
   "source": [
    "(rmseTe, (meanAbsErrorTe, medianAbsErrorTe, stdAbsErrorTe), \n",
    "    (meanErrorTe, medianErrorTe, stdErrorTe), \n",
    "    (meanAccuracyTe, medianAccuracyTe, stdAccuracyTe)) = getPredictionHyperparameters(15, 31)"
   ]
  },
  {
   "cell_type": "code",
   "execution_count": null,
   "id": "e47b7600",
   "metadata": {
    "ExecuteTime": {
     "end_time": "2023-02-28T09:13:40.916748Z",
     "start_time": "2023-02-28T09:13:40.903487Z"
    }
   },
   "outputs": [],
   "source": [
    "(rmseTr, (meanAbsErrorTr, medianAbsErrorTr, stdAbsErrorTr), \n",
    "    (meanErrorTr, medianErrorTr, stdErrorTr), \n",
    "    (meanAccuracyTr, medianAccuracyTr, stdAccuracyTr))"
   ]
  },
  {
   "cell_type": "code",
   "execution_count": null,
   "id": "d37efa14",
   "metadata": {
    "ExecuteTime": {
     "end_time": "2023-02-28T09:13:46.903856Z",
     "start_time": "2023-02-28T09:13:46.892539Z"
    }
   },
   "outputs": [],
   "source": [
    "(rmseTe, (meanAbsErrorTe, medianAbsErrorTe, stdAbsErrorTe), \n",
    "    (meanErrorTe, medianErrorTe, stdErrorTe), \n",
    "    (meanAccuracyTe, medianAccuracyTe, stdAccuracyTe))"
   ]
  },
  {
   "cell_type": "code",
   "execution_count": null,
   "id": "5c2d9cc9",
   "metadata": {
    "ExecuteTime": {
     "end_time": "2023-02-28T09:19:11.446192Z",
     "start_time": "2023-02-28T09:19:11.079848Z"
    }
   },
   "outputs": [],
   "source": [
    "x = [15, 16, 17, 18, 19, 20, 21, 22, 23, 24, 25, 26, 27, 28, 29, 30, 31]\n",
    "plt.plot(x, rmseList, label=\"xgboost model\")\n",
    "plt.plot(x, rmseListBL, label='baseline')\n",
    "plt.xticks(x)\n",
    "plt.xlabel(\"Date\")\n",
    "plt.ylabel(\"RMSE Comparison on the respective day\")\n",
    "plt.title(\"Model vs Baseline in RMSE values\")\n",
    "plt.legend()\n",
    "plt.savefig(f'BL_{city}_7.png')\n"
   ]
  },
  {
   "cell_type": "code",
   "execution_count": null,
   "id": "a275958a",
   "metadata": {
    "ExecuteTime": {
     "end_time": "2023-02-28T09:22:47.106000Z",
     "start_time": "2023-02-28T09:22:46.723247Z"
    }
   },
   "outputs": [],
   "source": [
    "x = [15, 16, 17, 18, 19, 20, 21, 22, 23, 24, 25, 26, 27, 28, 29, 30, 31]\n",
    "plt.plot(x, medianAbsErrorList, label=\"xgboost model\")\n",
    "plt.plot(x, medianAbsErrorListBL, label='baseline')\n",
    "plt.xticks(x)\n",
    "plt.xlabel(\"Date\")\n",
    "plt.ylabel(\"Median Abs Error Comparison on the respective day\")\n",
    "plt.title(\"Model vs Baseline in Median Abs Error\")\n",
    "plt.legend()\n",
    "plt.savefig(f'BL_{city}_8.png')"
   ]
  },
  {
   "cell_type": "code",
   "execution_count": null,
   "id": "b93a62a3",
   "metadata": {
    "ExecuteTime": {
     "end_time": "2023-02-28T09:33:28.830805Z",
     "start_time": "2023-02-28T09:33:19.935682Z"
    }
   },
   "outputs": [],
   "source": [
    "def getErrorSlot(error):\n",
    "    return (error//5)*5\n",
    "\n",
    "cnt = {}\n",
    "for index, item in overallDF.iterrows():\n",
    "    error = (item['prep_time'] - item['predicted_prep_time'])/60\n",
    "    lts = getErrorSlot(error)\n",
    "    if(lts not in cnt):\n",
    "        cnt[lts]=1\n",
    "    else:\n",
    "        cnt[lts]+=1"
   ]
  },
  {
   "cell_type": "code",
   "execution_count": null,
   "id": "5e1997ec",
   "metadata": {
    "ExecuteTime": {
     "end_time": "2023-02-28T09:33:30.490816Z",
     "start_time": "2023-02-28T09:33:30.484209Z"
    }
   },
   "outputs": [],
   "source": [
    "ranges = sorted(cnt.keys())"
   ]
  },
  {
   "cell_type": "code",
   "execution_count": null,
   "id": "6ed57caa",
   "metadata": {
    "ExecuteTime": {
     "end_time": "2023-02-28T09:33:31.229213Z",
     "start_time": "2023-02-28T09:33:31.219279Z"
    }
   },
   "outputs": [],
   "source": [
    "cnt[-10]"
   ]
  },
  {
   "cell_type": "code",
   "execution_count": null,
   "id": "3ecbdd43",
   "metadata": {
    "ExecuteTime": {
     "end_time": "2023-02-28T09:33:32.068152Z",
     "start_time": "2023-02-28T09:33:32.058188Z"
    }
   },
   "outputs": [],
   "source": [
    "cnt[-5]"
   ]
  },
  {
   "cell_type": "code",
   "execution_count": null,
   "id": "4bb5d0cb",
   "metadata": {
    "ExecuteTime": {
     "end_time": "2023-02-28T09:33:35.916145Z",
     "start_time": "2023-02-28T09:33:35.905308Z"
    }
   },
   "outputs": [],
   "source": [
    "cnt[0]"
   ]
  },
  {
   "cell_type": "code",
   "execution_count": null,
   "id": "2b1d7ce7",
   "metadata": {},
   "outputs": [],
   "source": [
    "for i in range(-)"
   ]
  },
  {
   "cell_type": "code",
   "execution_count": null,
   "outputs": [],
   "source": [],
   "metadata": {
    "collapsed": false
   }
  },
  {
   "cell_type": "code",
   "execution_count": null,
   "outputs": [],
   "source": [],
   "metadata": {
    "collapsed": false
   }
  },
  {
   "cell_type": "code",
   "execution_count": null,
   "outputs": [],
   "source": [],
   "metadata": {
    "collapsed": false
   }
  },
  {
   "cell_type": "code",
   "execution_count": null,
   "outputs": [],
   "source": [],
   "metadata": {
    "collapsed": false
   }
  },
  {
   "cell_type": "code",
   "execution_count": null,
   "outputs": [],
   "source": [],
   "metadata": {
    "collapsed": false
   }
  },
  {
   "cell_type": "code",
   "execution_count": null,
   "outputs": [],
   "source": [],
   "metadata": {
    "collapsed": false
   }
  },
  {
   "cell_type": "code",
   "execution_count": null,
   "outputs": [],
   "source": [],
   "metadata": {
    "collapsed": false
   }
  },
  {
   "cell_type": "code",
   "execution_count": null,
   "outputs": [],
   "source": [],
   "metadata": {
    "collapsed": false
   }
  },
  {
   "cell_type": "code",
   "execution_count": null,
   "outputs": [],
   "source": [],
   "metadata": {
    "collapsed": false
   }
  },
  {
   "cell_type": "code",
   "execution_count": null,
   "outputs": [],
   "source": [],
   "metadata": {
    "collapsed": false
   }
  },
  {
   "cell_type": "code",
   "execution_count": null,
   "outputs": [],
   "source": [],
   "metadata": {
    "collapsed": false
   }
  },
  {
   "cell_type": "code",
   "execution_count": null,
   "outputs": [],
   "source": [],
   "metadata": {
    "collapsed": false
   }
  },
  {
   "cell_type": "code",
   "execution_count": null,
   "outputs": [],
   "source": [],
   "metadata": {
    "collapsed": false
   }
  },
  {
   "cell_type": "code",
   "execution_count": null,
   "outputs": [],
   "source": [],
   "metadata": {
    "collapsed": false
   }
  },
  {
   "cell_type": "code",
   "execution_count": null,
   "outputs": [],
   "source": [],
   "metadata": {
    "collapsed": false
   }
  },
  {
   "cell_type": "code",
   "execution_count": null,
   "outputs": [],
   "source": [],
   "metadata": {
    "collapsed": false
   }
  },
  {
   "cell_type": "code",
   "execution_count": null,
   "outputs": [],
   "source": [],
   "metadata": {
    "collapsed": false
   }
  },
  {
   "cell_type": "code",
   "execution_count": null,
   "outputs": [],
   "source": [],
   "metadata": {
    "collapsed": false
   }
  },
  {
   "cell_type": "code",
   "execution_count": null,
   "outputs": [],
   "source": [],
   "metadata": {
    "collapsed": false
   }
  }
 ],
 "metadata": {
  "kernelspec": {
   "display_name": "Python 3 (ipykernel)",
   "language": "python",
   "name": "python3"
  },
  "language_info": {
   "codemirror_mode": {
    "name": "ipython",
    "version": 3
   },
   "file_extension": ".py",
   "mimetype": "text/x-python",
   "name": "python",
   "nbconvert_exporter": "python",
   "pygments_lexer": "ipython3",
   "version": "3.10.6"
  }
 },
 "nbformat": 4,
 "nbformat_minor": 5
}
