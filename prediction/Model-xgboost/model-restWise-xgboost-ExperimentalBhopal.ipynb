{
 "cells": [
  {
   "cell_type": "code",
   "execution_count": 128,
   "id": "3488f333",
   "metadata": {
    "ExecuteTime": {
     "end_time": "2023-03-16T19:43:44.104939Z",
     "start_time": "2023-03-16T19:43:44.090058Z"
    },
    "pycharm": {
     "is_executing": true
    }
   },
   "outputs": [],
   "source": [
    "# imports\n",
    "import json\n",
    "import pandas as pd\n",
    "import numpy as np\n",
    "import random\n",
    "from datetime import datetime, timedelta\n",
    "import sklearn\n",
    "import math\n",
    "from sklearn.feature_extraction.text import CountVectorizer\n",
    "from sklearn.feature_extraction.text import TfidfVectorizer\n",
    "from sklearn.linear_model import LogisticRegression\n",
    "from sklearn.model_selection import train_test_split\n",
    "\n",
    "import time\n",
    "import matplotlib.pyplot as plt\n",
    "\n",
    "from sklearn.model_selection import train_test_split\n",
    "from sklearn.preprocessing import StandardScaler\n",
    "from sklearn.neural_network import MLPClassifier\n",
    "from sklearn.metrics import classification_report, confusion_matrix\n",
    "from sklearn.ensemble import RandomForestRegressor \n",
    "from statistics import mean\n",
    "import pickle\n",
    "import statistics\n",
    "\n",
    "from sklearn.model_selection import cross_val_score\n",
    "from sklearn.model_selection import RepeatedKFold\n",
    "from xgboost import XGBRegressor\n",
    "from numpy import absolute\n",
    "from sklearn.model_selection import GridSearchCV\n",
    "import seaborn as sns\n",
    "from collections import Counter"
   ]
  },
  {
   "cell_type": "code",
   "execution_count": 2,
   "id": "03a22cbb",
   "metadata": {
    "ExecuteTime": {
     "end_time": "2023-03-16T08:57:59.698779Z",
     "start_time": "2023-03-16T08:57:59.694364Z"
    }
   },
   "outputs": [],
   "source": [
    "city = 'Bhopal'\n",
    "month = 'July'\n",
    "PATH = f'./../../Item_wise_data/{city}/'\n",
    "# PATH = './../'\n"
   ]
  },
  {
   "cell_type": "code",
   "execution_count": 3,
   "id": "500b335e",
   "metadata": {
    "ExecuteTime": {
     "end_time": "2023-03-16T08:58:01.648071Z",
     "start_time": "2023-03-16T08:57:59.700643Z"
    },
    "pycharm": {
     "is_executing": true
    }
   },
   "outputs": [
    {
     "name": "stderr",
     "output_type": "stream",
     "text": [
      "/tmp/ipykernel_216745/70406848.py:2: DtypeWarning: Columns (5,8,12) have mixed types. Specify dtype option on import or set low_memory=False.\n",
      "  df = pd.read_csv(PATH+f'{month}.csv')\n"
     ]
    }
   ],
   "source": [
    "# exclude non baking items\n",
    "df = pd.read_csv(PATH+f'{month}.csv')\n",
    "df = df[pd.notna(df['Oven_Time'])]\n",
    "df = df.sort_values(by =['Kitchen_Display_Time', 'Location_Code', 'Order_Number'])\n",
    "# df"
   ]
  },
  {
   "cell_type": "code",
   "execution_count": 4,
   "id": "ec45c79b",
   "metadata": {
    "ExecuteTime": {
     "end_time": "2023-03-16T08:58:01.729636Z",
     "start_time": "2023-03-16T08:58:01.650276Z"
    }
   },
   "outputs": [
    {
     "name": "stdout",
     "output_type": "stream",
     "text": [
      "(156415, 29)\n",
      "(156415, 10)\n"
     ]
    }
   ],
   "source": [
    "print(df.shape)\n",
    "df = df.drop(['storedesc', 'city', 'Customer_Code', 'Customer_Name', 'Actual_Order_Date', 'Order_Status_Code', 'Order_Type_Code', 'Order_Saved', 'Order_Time', 'Driver_ID', 'Route_Time', 'Return_Time', 'Delayed_Order', 'Order_Taker_ID','Order_Taker_Shift', 'Closed_Order_Time', 'Customer_Address_Id', 'Original_Location_Code', 'Order_Id',], axis=1)\n",
    "print(df.shape)\n"
   ]
  },
  {
   "cell_type": "code",
   "execution_count": 5,
   "id": "be15fa7d",
   "metadata": {
    "ExecuteTime": {
     "end_time": "2023-03-16T08:58:01.893944Z",
     "start_time": "2023-03-16T08:58:01.732789Z"
    }
   },
   "outputs": [
    {
     "name": "stdout",
     "output_type": "stream",
     "text": [
      "(156415, 11)\n"
     ]
    },
    {
     "data": {
      "text/html": [
       "<div>\n",
       "<style scoped>\n",
       "    .dataframe tbody tr th:only-of-type {\n",
       "        vertical-align: middle;\n",
       "    }\n",
       "\n",
       "    .dataframe tbody tr th {\n",
       "        vertical-align: top;\n",
       "    }\n",
       "\n",
       "    .dataframe thead th {\n",
       "        text-align: right;\n",
       "    }\n",
       "</style>\n",
       "<table border=\"1\" class=\"dataframe\">\n",
       "  <thead>\n",
       "    <tr style=\"text-align: right;\">\n",
       "      <th></th>\n",
       "      <th>Location_Code</th>\n",
       "      <th>Order_Date</th>\n",
       "      <th>Order_Number</th>\n",
       "      <th>Driver_Shift</th>\n",
       "      <th>Kitchen_Display_Time</th>\n",
       "      <th>Oven_Time</th>\n",
       "      <th>Menu_Code</th>\n",
       "      <th>Item Description</th>\n",
       "      <th>Quantity</th>\n",
       "      <th>Delivery_Time</th>\n",
       "      <th>prep_time</th>\n",
       "    </tr>\n",
       "  </thead>\n",
       "  <tbody>\n",
       "    <tr>\n",
       "      <th>92935</th>\n",
       "      <td>DPI66576</td>\n",
       "      <td>2022-07-01 00:00:00</td>\n",
       "      <td>1</td>\n",
       "      <td>0.0</td>\n",
       "      <td>2022-07-01 11:06:45.417</td>\n",
       "      <td>2022-07-01 11:07:26.867</td>\n",
       "      <td>PIZ0200</td>\n",
       "      <td>Corn n Cheese Paratha Pizza</td>\n",
       "      <td>1.0</td>\n",
       "      <td>NaN</td>\n",
       "      <td>41.450</td>\n",
       "    </tr>\n",
       "    <tr>\n",
       "      <th>158804</th>\n",
       "      <td>DPI66154</td>\n",
       "      <td>2022-07-01 00:00:00</td>\n",
       "      <td>1</td>\n",
       "      <td>1.0</td>\n",
       "      <td>2022-07-01 11:06:53.140</td>\n",
       "      <td>2022-07-01 11:09:58.387</td>\n",
       "      <td>PIZ5106</td>\n",
       "      <td>Chicken Sausage</td>\n",
       "      <td>1.0</td>\n",
       "      <td>2022-07-01 11:24:46.000</td>\n",
       "      <td>185.247</td>\n",
       "    </tr>\n",
       "    <tr>\n",
       "      <th>33904</th>\n",
       "      <td>DPI66576</td>\n",
       "      <td>2022-07-01 00:00:00</td>\n",
       "      <td>2</td>\n",
       "      <td>0.0</td>\n",
       "      <td>2022-07-01 11:12:01.983</td>\n",
       "      <td>2022-07-01 11:13:30.210</td>\n",
       "      <td>PIZ0121</td>\n",
       "      <td>VG2-1Mexican Green</td>\n",
       "      <td>1.0</td>\n",
       "      <td>2022-07-01 11:26:48.840</td>\n",
       "      <td>88.227</td>\n",
       "    </tr>\n",
       "    <tr>\n",
       "      <th>69467</th>\n",
       "      <td>DPI66576</td>\n",
       "      <td>2022-07-01 00:00:00</td>\n",
       "      <td>2</td>\n",
       "      <td>0.0</td>\n",
       "      <td>2022-07-01 11:12:01.983</td>\n",
       "      <td>2022-07-01 11:13:30.697</td>\n",
       "      <td>PIZ0120</td>\n",
       "      <td>VG2-1Peppy Paneer</td>\n",
       "      <td>1.0</td>\n",
       "      <td>2022-07-01 11:26:48.840</td>\n",
       "      <td>88.714</td>\n",
       "    </tr>\n",
       "    <tr>\n",
       "      <th>53156</th>\n",
       "      <td>DPI66449</td>\n",
       "      <td>2022-07-01 00:00:00</td>\n",
       "      <td>2</td>\n",
       "      <td>1.0</td>\n",
       "      <td>2022-07-01 11:12:33.490</td>\n",
       "      <td>2022-07-01 11:13:58.503</td>\n",
       "      <td>PIZ0130</td>\n",
       "      <td>_PM39-Pizza Mania Golden Corn</td>\n",
       "      <td>1.0</td>\n",
       "      <td>2022-07-01 11:32:00.000</td>\n",
       "      <td>85.013</td>\n",
       "    </tr>\n",
       "  </tbody>\n",
       "</table>\n",
       "</div>"
      ],
      "text/plain": [
       "       Location_Code           Order_Date  Order_Number  Driver_Shift  \\\n",
       "92935       DPI66576  2022-07-01 00:00:00             1           0.0   \n",
       "158804      DPI66154  2022-07-01 00:00:00             1           1.0   \n",
       "33904       DPI66576  2022-07-01 00:00:00             2           0.0   \n",
       "69467       DPI66576  2022-07-01 00:00:00             2           0.0   \n",
       "53156       DPI66449  2022-07-01 00:00:00             2           1.0   \n",
       "\n",
       "          Kitchen_Display_Time               Oven_Time Menu_Code  \\\n",
       "92935  2022-07-01 11:06:45.417 2022-07-01 11:07:26.867   PIZ0200   \n",
       "158804 2022-07-01 11:06:53.140 2022-07-01 11:09:58.387   PIZ5106   \n",
       "33904  2022-07-01 11:12:01.983 2022-07-01 11:13:30.210   PIZ0121   \n",
       "69467  2022-07-01 11:12:01.983 2022-07-01 11:13:30.697   PIZ0120   \n",
       "53156  2022-07-01 11:12:33.490 2022-07-01 11:13:58.503   PIZ0130   \n",
       "\n",
       "                     Item Description  Quantity            Delivery_Time  \\\n",
       "92935     Corn n Cheese Paratha Pizza       1.0                      NaN   \n",
       "158804                Chicken Sausage       1.0  2022-07-01 11:24:46.000   \n",
       "33904              VG2-1Mexican Green       1.0  2022-07-01 11:26:48.840   \n",
       "69467               VG2-1Peppy Paneer       1.0  2022-07-01 11:26:48.840   \n",
       "53156   _PM39-Pizza Mania Golden Corn       1.0  2022-07-01 11:32:00.000   \n",
       "\n",
       "        prep_time  \n",
       "92935      41.450  \n",
       "158804    185.247  \n",
       "33904      88.227  \n",
       "69467      88.714  \n",
       "53156      85.013  "
      ]
     },
     "execution_count": 5,
     "metadata": {},
     "output_type": "execute_result"
    }
   ],
   "source": [
    "df['Kitchen_Display_Time'] = pd.to_datetime(df['Kitchen_Display_Time'])\n",
    "df['Oven_Time'] = pd.to_datetime(df['Oven_Time'])\n",
    "df['prep_time'] = df['Oven_Time'] - df['Kitchen_Display_Time']\n",
    "df['prep_time'] = (df['prep_time']/np.timedelta64(1, 's')).astype(float)\n",
    "print(df.shape)\n",
    "df.head()"
   ]
  },
  {
   "cell_type": "code",
   "execution_count": 6,
   "id": "b36a4fbb",
   "metadata": {
    "ExecuteTime": {
     "end_time": "2023-03-16T08:58:01.924888Z",
     "start_time": "2023-03-16T08:58:01.895727Z"
    }
   },
   "outputs": [
    {
     "name": "stdout",
     "output_type": "stream",
     "text": [
      "(156186, 11)\n"
     ]
    },
    {
     "data": {
      "text/html": [
       "<div>\n",
       "<style scoped>\n",
       "    .dataframe tbody tr th:only-of-type {\n",
       "        vertical-align: middle;\n",
       "    }\n",
       "\n",
       "    .dataframe tbody tr th {\n",
       "        vertical-align: top;\n",
       "    }\n",
       "\n",
       "    .dataframe thead th {\n",
       "        text-align: right;\n",
       "    }\n",
       "</style>\n",
       "<table border=\"1\" class=\"dataframe\">\n",
       "  <thead>\n",
       "    <tr style=\"text-align: right;\">\n",
       "      <th></th>\n",
       "      <th>Location_Code</th>\n",
       "      <th>Order_Date</th>\n",
       "      <th>Order_Number</th>\n",
       "      <th>Driver_Shift</th>\n",
       "      <th>Kitchen_Display_Time</th>\n",
       "      <th>Oven_Time</th>\n",
       "      <th>Menu_Code</th>\n",
       "      <th>Item Description</th>\n",
       "      <th>Quantity</th>\n",
       "      <th>Delivery_Time</th>\n",
       "      <th>prep_time</th>\n",
       "    </tr>\n",
       "  </thead>\n",
       "  <tbody>\n",
       "    <tr>\n",
       "      <th>92935</th>\n",
       "      <td>DPI66576</td>\n",
       "      <td>2022-07-01 00:00:00</td>\n",
       "      <td>1</td>\n",
       "      <td>0.0</td>\n",
       "      <td>2022-07-01 11:06:45.417</td>\n",
       "      <td>2022-07-01 11:07:26.867</td>\n",
       "      <td>PIZ0200</td>\n",
       "      <td>Corn n Cheese Paratha Pizza</td>\n",
       "      <td>1.0</td>\n",
       "      <td>NaN</td>\n",
       "      <td>41.450</td>\n",
       "    </tr>\n",
       "    <tr>\n",
       "      <th>158804</th>\n",
       "      <td>DPI66154</td>\n",
       "      <td>2022-07-01 00:00:00</td>\n",
       "      <td>1</td>\n",
       "      <td>1.0</td>\n",
       "      <td>2022-07-01 11:06:53.140</td>\n",
       "      <td>2022-07-01 11:09:58.387</td>\n",
       "      <td>PIZ5106</td>\n",
       "      <td>Chicken Sausage</td>\n",
       "      <td>1.0</td>\n",
       "      <td>2022-07-01 11:24:46.000</td>\n",
       "      <td>185.247</td>\n",
       "    </tr>\n",
       "    <tr>\n",
       "      <th>33904</th>\n",
       "      <td>DPI66576</td>\n",
       "      <td>2022-07-01 00:00:00</td>\n",
       "      <td>2</td>\n",
       "      <td>0.0</td>\n",
       "      <td>2022-07-01 11:12:01.983</td>\n",
       "      <td>2022-07-01 11:13:30.210</td>\n",
       "      <td>PIZ0121</td>\n",
       "      <td>VG2-1Mexican Green</td>\n",
       "      <td>1.0</td>\n",
       "      <td>2022-07-01 11:26:48.840</td>\n",
       "      <td>88.227</td>\n",
       "    </tr>\n",
       "    <tr>\n",
       "      <th>69467</th>\n",
       "      <td>DPI66576</td>\n",
       "      <td>2022-07-01 00:00:00</td>\n",
       "      <td>2</td>\n",
       "      <td>0.0</td>\n",
       "      <td>2022-07-01 11:12:01.983</td>\n",
       "      <td>2022-07-01 11:13:30.697</td>\n",
       "      <td>PIZ0120</td>\n",
       "      <td>VG2-1Peppy Paneer</td>\n",
       "      <td>1.0</td>\n",
       "      <td>2022-07-01 11:26:48.840</td>\n",
       "      <td>88.714</td>\n",
       "    </tr>\n",
       "    <tr>\n",
       "      <th>53156</th>\n",
       "      <td>DPI66449</td>\n",
       "      <td>2022-07-01 00:00:00</td>\n",
       "      <td>2</td>\n",
       "      <td>1.0</td>\n",
       "      <td>2022-07-01 11:12:33.490</td>\n",
       "      <td>2022-07-01 11:13:58.503</td>\n",
       "      <td>PIZ0130</td>\n",
       "      <td>_PM39-Pizza Mania Golden Corn</td>\n",
       "      <td>1.0</td>\n",
       "      <td>2022-07-01 11:32:00.000</td>\n",
       "      <td>85.013</td>\n",
       "    </tr>\n",
       "  </tbody>\n",
       "</table>\n",
       "</div>"
      ],
      "text/plain": [
       "       Location_Code           Order_Date  Order_Number  Driver_Shift  \\\n",
       "92935       DPI66576  2022-07-01 00:00:00             1           0.0   \n",
       "158804      DPI66154  2022-07-01 00:00:00             1           1.0   \n",
       "33904       DPI66576  2022-07-01 00:00:00             2           0.0   \n",
       "69467       DPI66576  2022-07-01 00:00:00             2           0.0   \n",
       "53156       DPI66449  2022-07-01 00:00:00             2           1.0   \n",
       "\n",
       "          Kitchen_Display_Time               Oven_Time Menu_Code  \\\n",
       "92935  2022-07-01 11:06:45.417 2022-07-01 11:07:26.867   PIZ0200   \n",
       "158804 2022-07-01 11:06:53.140 2022-07-01 11:09:58.387   PIZ5106   \n",
       "33904  2022-07-01 11:12:01.983 2022-07-01 11:13:30.210   PIZ0121   \n",
       "69467  2022-07-01 11:12:01.983 2022-07-01 11:13:30.697   PIZ0120   \n",
       "53156  2022-07-01 11:12:33.490 2022-07-01 11:13:58.503   PIZ0130   \n",
       "\n",
       "                     Item Description  Quantity            Delivery_Time  \\\n",
       "92935     Corn n Cheese Paratha Pizza       1.0                      NaN   \n",
       "158804                Chicken Sausage       1.0  2022-07-01 11:24:46.000   \n",
       "33904              VG2-1Mexican Green       1.0  2022-07-01 11:26:48.840   \n",
       "69467               VG2-1Peppy Paneer       1.0  2022-07-01 11:26:48.840   \n",
       "53156   _PM39-Pizza Mania Golden Corn       1.0  2022-07-01 11:32:00.000   \n",
       "\n",
       "        prep_time  \n",
       "92935      41.450  \n",
       "158804    185.247  \n",
       "33904      88.227  \n",
       "69467      88.714  \n",
       "53156      85.013  "
      ]
     },
     "execution_count": 6,
     "metadata": {},
     "output_type": "execute_result"
    }
   ],
   "source": [
    "isThresholdForPreparationTime = True\n",
    "thresholdForPreparationTimeUpper = 15 # minutes for preparation time (threshold)\n",
    "thresholdForPreparationTimeLower = 0 # minutes for lowest preparation time (threshold)\n",
    "df2 = pd.DataFrame()\n",
    "if (isThresholdForPreparationTime):\n",
    "    df = df.loc[(df['prep_time'] <= thresholdForPreparationTimeUpper*60) & \\\n",
    "        (df['prep_time'] >= thresholdForPreparationTimeLower*60) ]\n",
    "print(df.shape)\n",
    "df.head()"
   ]
  },
  {
   "cell_type": "code",
   "execution_count": 7,
   "id": "6e5caf87",
   "metadata": {
    "ExecuteTime": {
     "end_time": "2023-03-16T08:58:02.029033Z",
     "start_time": "2023-03-16T08:58:01.927285Z"
    }
   },
   "outputs": [
    {
     "data": {
      "text/plain": [
       "Delivery_Time           0.039062\n",
       "Location_Code           0.000000\n",
       "Order_Date              0.000000\n",
       "Order_Number            0.000000\n",
       "Driver_Shift            0.000000\n",
       "Kitchen_Display_Time    0.000000\n",
       "Oven_Time               0.000000\n",
       "Menu_Code               0.000000\n",
       "Item Description        0.000000\n",
       "Quantity                0.000000\n",
       "prep_time               0.000000\n",
       "dtype: float64"
      ]
     },
     "execution_count": 7,
     "metadata": {},
     "output_type": "execute_result"
    }
   ],
   "source": [
    "df.isnull().sum().sort_values(ascending=False)/df.shape[0]"
   ]
  },
  {
   "cell_type": "code",
   "execution_count": 8,
   "id": "1700996a",
   "metadata": {
    "ExecuteTime": {
     "end_time": "2023-03-16T08:58:12.334732Z",
     "start_time": "2023-03-16T08:58:02.031204Z"
    }
   },
   "outputs": [
    {
     "data": {
      "text/plain": [
       "<seaborn.axisgrid.PairGrid at 0x7fb1c7ae6860>"
      ]
     },
     "execution_count": 8,
     "metadata": {},
     "output_type": "execute_result"
    },
    {
     "data": {
      "image/png": "[encoded data removed]",
      "text/plain": [
       "<Figure size 1000x1000 with 20 Axes>"
      ]
     },
     "metadata": {},
     "output_type": "display_data"
    }
   ],
   "source": [
    "sns.pairplot(data=df)"
   ]
  },
  {
   "cell_type": "code",
   "execution_count": 9,
   "id": "77f37d95",
   "metadata": {
    "ExecuteTime": {
     "end_time": "2023-03-16T08:58:12.624961Z",
     "start_time": "2023-03-16T08:58:12.337103Z"
    }
   },
   "outputs": [
    {
     "data": {
      "text/plain": [
       "<Axes: >"
      ]
     },
     "execution_count": 9,
     "metadata": {},
     "output_type": "execute_result"
    },
    {
     "data": {
      "image/png": "[encoded data removed]",
      "text/plain": [
       "<Figure size 640x480 with 1 Axes>"
      ]
     },
     "metadata": {},
     "output_type": "display_data"
    }
   ],
   "source": [
    "sns.boxplot(df)"
   ]
  },
  {
   "cell_type": "code",
   "execution_count": 136,
   "id": "4877e791",
   "metadata": {
    "ExecuteTime": {
     "end_time": "2023-03-16T19:47:58.256609Z",
     "start_time": "2023-03-16T19:47:58.223931Z"
    }
   },
   "outputs": [
    {
     "name": "stdout",
     "output_type": "stream",
     "text": [
      "146\n",
      "12\n"
     ]
    }
   ],
   "source": [
    "allMenuCodes = df['Menu_Code'].unique()\n",
    "allStoreIds = sorted(Counter(df['Location_Code'].values.tolist()), reverse=True)\n",
    "# allMenuCodes,\n",
    "# allStoreIds\n",
    "print(len(allMenuCodes))\n",
    "print(len(allStoreIds))"
   ]
  },
  {
   "cell_type": "code",
   "execution_count": 11,
   "id": "dd82fb15",
   "metadata": {
    "ExecuteTime": {
     "end_time": "2023-03-16T08:58:12.766580Z",
     "start_time": "2023-03-16T08:58:12.645773Z"
    }
   },
   "outputs": [],
   "source": [
    "restWiseDFs = {}\n",
    "for storeId in allStoreIds:\n",
    "    restWiseDFs[storeId] = df.loc[df['Location_Code'] == storeId]"
   ]
  },
  {
   "cell_type": "code",
   "execution_count": 12,
   "id": "0a83c42a",
   "metadata": {
    "ExecuteTime": {
     "end_time": "2023-03-16T08:58:12.771785Z",
     "start_time": "2023-03-16T08:58:12.768792Z"
    }
   },
   "outputs": [],
   "source": [
    "def get_preparation_time(item):\n",
    "    return item['prep_time']"
   ]
  },
  {
   "cell_type": "code",
   "execution_count": 13,
   "id": "3259a2ba",
   "metadata": {
    "ExecuteTime": {
     "end_time": "2023-03-16T08:58:13.326465Z",
     "start_time": "2023-03-16T08:58:12.773406Z"
    }
   },
   "outputs": [],
   "source": [
    "sampleItem=None\n",
    "for index, item in df.iterrows():\n",
    "    sampleItem = item\n",
    "    break"
   ]
  },
  {
   "cell_type": "code",
   "execution_count": 14,
   "id": "4ed902e2",
   "metadata": {
    "ExecuteTime": {
     "end_time": "2023-03-16T08:58:13.336896Z",
     "start_time": "2023-03-16T08:58:13.331312Z"
    }
   },
   "outputs": [],
   "source": [
    "# Feature 1: store id\n",
    "def getOneHotEncodingStore(storeId, stores=allStoreIds):\n",
    "    oneHotEncodingList = []\n",
    "    for i in range(0, len(stores)):\n",
    "        if stores[i] == storeId:\n",
    "            oneHotEncodingList.append(1)\n",
    "        else:\n",
    "            oneHotEncodingList.append(0)\n",
    "    return oneHotEncodingList\n",
    "\n",
    "# returns the feature store id for an order\n",
    "def getStoreId(item, isOneHotEncodingRequired=False):\n",
    "    if isOneHotEncodingRequired:\n",
    "        return getOneHotEncodingStore(item['Location_Code'], allStoreIds)\n",
    "    else:\n",
    "        for i in range(0, len(allStoreIds)):\n",
    "            if item['Location_Code'] == allStoreIds[i]:\n",
    "                return [i+1]\n",
    "        return [-1]"
   ]
  },
  {
   "cell_type": "code",
   "execution_count": 15,
   "id": "9bd329c3",
   "metadata": {
    "ExecuteTime": {
     "end_time": "2023-03-16T08:58:13.346210Z",
     "start_time": "2023-03-16T08:58:13.338889Z"
    }
   },
   "outputs": [],
   "source": [
    "# Feature 2 : Day of the week\n",
    "def dayOfTheWeek(dt, isOneHotEncodingRequired=False):\n",
    "    day = dt.weekday()\n",
    "    if isOneHotEncodingRequired:\n",
    "        days = [0, 0, 0, 0, 0, 0, 0]\n",
    "        days[day] = 1\n",
    "        return days\n",
    "    else:\n",
    "        return [day+1]"
   ]
  },
  {
   "cell_type": "code",
   "execution_count": 16,
   "id": "517c95d9",
   "metadata": {
    "ExecuteTime": {
     "end_time": "2023-03-16T08:58:13.354021Z",
     "start_time": "2023-03-16T08:58:13.348096Z"
    }
   },
   "outputs": [
    {
     "name": "stdout",
     "output_type": "stream",
     "text": [
      "[1]\n",
      "[1, 0, 0, 0, 0, 0, 0, 0, 0, 0, 0, 0]\n"
     ]
    }
   ],
   "source": [
    "print(getStoreId(sampleItem))\n",
    "print(getStoreId(sampleItem, True))"
   ]
  },
  {
   "cell_type": "code",
   "execution_count": 17,
   "id": "2d7aca59",
   "metadata": {
    "ExecuteTime": {
     "end_time": "2023-03-16T08:58:13.362456Z",
     "start_time": "2023-03-16T08:58:13.355974Z"
    }
   },
   "outputs": [],
   "source": [
    "# Feature 3: TimeSlot of kitchen display time\n",
    "total_slots = 24\n",
    "def getTimeslot(dt, slots=total_slots):\n",
    "\tcurrent = datetime(2011, 1, 1)\n",
    "\tt1 = current.time()\n",
    "\tt2 = dt.time()\n",
    "\tfor i in range(0, slots):\n",
    "\t\tcurrent = current + timedelta(minutes = 60*24/slots)\n",
    "\t\tif(current.time() > t2):\n",
    "\t\t\treturn i\n",
    "\treturn slots-1\n",
    "\n",
    "def getOneHotEncodingTimeSlot(timeslot):\n",
    "    oneHotEncodingList = []\n",
    "    for i in range(0, 24):\n",
    "        oneHotEncodingList.append(0)\n",
    "    oneHotEncodingList[timeslot] = 1\n",
    "    return oneHotEncodingList\n",
    "\n",
    "def getTimeSlotOfKitchenDisplayTime(item, isOneHotEncodingRequired=False):\n",
    "    timeslot = getTimeslot(item['Kitchen_Display_Time'], 24)\n",
    "    if (isOneHotEncodingRequired):\n",
    "        return getOneHotEncodingTimeSlot(timeslot)\n",
    "    else:\n",
    "        return [1+timeslot]"
   ]
  },
  {
   "cell_type": "code",
   "execution_count": 18,
   "id": "73180e66",
   "metadata": {
    "ExecuteTime": {
     "end_time": "2023-03-16T08:58:13.370887Z",
     "start_time": "2023-03-16T08:58:13.364399Z"
    }
   },
   "outputs": [],
   "source": [
    "# Feature 4: Item Type\n",
    "def getOneHotEncodedItemList(item, items=allMenuCodes, clubCategoryWise=False):\n",
    "    if clubCategoryWise:\n",
    "        newItemsList = []\n",
    "        newItemsList = [i[0:3] for i in items]\n",
    "        unique_items = list(dict.fromkeys(newItemsList))\n",
    "        return getOneHotEncodedItemList(item[0:3], unique_items, False)\n",
    "    \n",
    "    oneHotEncodingList=[]\n",
    "    for i in range(0, len(items)):\n",
    "        if items[i] == item:\n",
    "            oneHotEncodingList.append(1)\n",
    "        else:\n",
    "            oneHotEncodingList.append(0)\n",
    "    return oneHotEncodingList\n",
    "\n",
    "def getItemType(item, clubCategoryWise=False, isOneHotEncodingRequired=False):\n",
    "    if isOneHotEncodingRequired:\n",
    "        return getOneHotEncodedItemList(item['Menu_Code'], allMenuCodes, clubCategoryWise)\n",
    "    else:\n",
    "        for i in range(0, len(allMenuCodes)):\n",
    "            if allMenuCodes[i] == item['Menu_Code']:\n",
    "                return [i+1]\n",
    "        print(\"DANGER DANGER DANGER \\n\\n\\n\")\n",
    "        return [-1]"
   ]
  },
  {
   "cell_type": "code",
   "execution_count": 19,
   "id": "042b3f08",
   "metadata": {
    "ExecuteTime": {
     "end_time": "2023-03-16T08:58:13.379116Z",
     "start_time": "2023-03-16T08:58:13.372949Z"
    }
   },
   "outputs": [
    {
     "name": "stdout",
     "output_type": "stream",
     "text": [
      "[1, 0, 0, 0, 0, 0, 0, 0, 0, 0, 0, 0, 0, 0, 0, 0, 0, 0, 0, 0, 0, 0, 0, 0, 0, 0, 0, 0, 0, 0, 0, 0, 0, 0, 0, 0, 0, 0, 0, 0, 0, 0, 0, 0, 0, 0, 0, 0, 0, 0, 0, 0, 0, 0, 0, 0, 0, 0, 0, 0, 0, 0, 0, 0, 0, 0, 0, 0, 0, 0, 0, 0, 0, 0, 0, 0, 0, 0, 0, 0, 0, 0, 0, 0, 0, 0, 0, 0, 0, 0, 0, 0, 0, 0, 0, 0, 0, 0, 0, 0, 0, 0, 0, 0, 0, 0, 0, 0, 0, 0, 0, 0, 0, 0, 0, 0, 0, 0, 0, 0, 0, 0, 0, 0, 0, 0, 0, 0, 0, 0, 0, 0, 0, 0, 0, 0, 0, 0, 0, 0, 0, 0, 0, 0, 0, 0]\n",
      "[1]\n",
      "[1]\n",
      "[1]\n"
     ]
    }
   ],
   "source": [
    "print(getItemType(sampleItem, False, True))\n",
    "print(getItemType(sampleItem, True, False))\n",
    "print(getItemType(sampleItem, clubCategoryWise=True))\n",
    "print(getItemType(sampleItem, True))"
   ]
  },
  {
   "cell_type": "code",
   "execution_count": 20,
   "id": "98906d7e",
   "metadata": {
    "ExecuteTime": {
     "end_time": "2023-03-16T08:58:13.385392Z",
     "start_time": "2023-03-16T08:58:13.380836Z"
    }
   },
   "outputs": [],
   "source": [
    "# Feature 5 : Count of all baking items of all orders received by the store in the last 30 minutes.\n",
    "\n",
    "def countPastOrders(item, slotTime=30):\n",
    "    storeId = item['Location_Code']\n",
    "    df = restWiseDFs[storeId]\n",
    "    dtKitchenDisplay = item['Kitchen_Display_Time']\n",
    "    lastTime = dtKitchenDisplay - timedelta(minutes=slotTime)\n",
    "    return len(df.loc[(df['Kitchen_Display_Time'] >= lastTime) & \\\n",
    "          (df['Kitchen_Display_Time'] <= dtKitchenDisplay)].index)"
   ]
  },
  {
   "cell_type": "code",
   "execution_count": 21,
   "id": "7a72af53",
   "metadata": {
    "ExecuteTime": {
     "end_time": "2023-03-16T08:58:13.393360Z",
     "start_time": "2023-03-16T08:58:13.387645Z"
    }
   },
   "outputs": [],
   "source": [
    "# Feature 6: ratio of items in last 30 minutes with items in the window of last 60 to 30 minutes (increment in orders)\n",
    "def getLiftInOrders(item, slotTime = 30):\n",
    "    a = countPastOrders(item, slotTime)\n",
    "    item2 = item\n",
    "    item2['Kitchen_Display_Time'] = item2['Kitchen_Display_Time'] - timedelta(minutes=slotTime)\n",
    "    b = countPastOrders(item2, slotTime)\n",
    "    if b != 0:\n",
    "        return a/b\n",
    "    else:\n",
    "        return 1\n"
   ]
  },
  {
   "cell_type": "code",
   "execution_count": 45,
   "id": "13d55221",
   "metadata": {
    "ExecuteTime": {
     "end_time": "2023-03-16T14:15:49.893846Z",
     "start_time": "2023-03-16T14:09:47.501074Z"
    },
    "scrolled": true
   },
   "outputs": [
    {
     "name": "stderr",
     "output_type": "stream",
     "text": [
      "/tmp/ipykernel_216745/916470234.py:6: SettingWithCopyWarning: \n",
      "A value is trying to be set on a copy of a slice from a DataFrame.\n",
      "Try using .loc[row_indexer,col_indexer] = value instead\n",
      "\n",
      "See the caveats in the documentation: https://pandas.pydata.org/pandas-docs/stable/user_guide/indexing.html#returning-a-view-versus-a-copy\n",
      "  restWiseDFs[storeId]['avg_kpt_in_last_one_hour'] = 0 # to create a new column with initial values 0\n",
      "/tmp/ipykernel_216745/916470234.py:7: SettingWithCopyWarning: \n",
      "A value is trying to be set on a copy of a slice from a DataFrame.\n",
      "Try using .loc[row_indexer,col_indexer] = value instead\n",
      "\n",
      "See the caveats in the documentation: https://pandas.pydata.org/pandas-docs/stable/user_guide/indexing.html#returning-a-view-versus-a-copy\n",
      "  restWiseDFs[storeId]['avg_kpt_in_last_7_days'] = 0\n",
      "/tmp/ipykernel_216745/916470234.py:8: SettingWithCopyWarning: \n",
      "A value is trying to be set on a copy of a slice from a DataFrame.\n",
      "Try using .loc[row_indexer,col_indexer] = value instead\n",
      "\n",
      "See the caveats in the documentation: https://pandas.pydata.org/pandas-docs/stable/user_guide/indexing.html#returning-a-view-versus-a-copy\n",
      "  restWiseDFs[storeId]['hourswise_avg_kpt'] = 0\n"
     ]
    }
   ],
   "source": [
    "# TIME CONSUMING (4 m 14 seconds for Bhopal)\n",
    "# Feature 7 : Avg prep time of the same item in the same store in last 60 minutes.\n",
    "# Feature 8 : Avg prep time of the same item in the same store in last 7 days.\n",
    "for storeId in restWiseDFs:\n",
    "    avgPrepTime = restWiseDFs[storeId]['prep_time'].mean()    \n",
    "    restWiseDFs[storeId]['avg_kpt_in_last_one_hour'] = 0 # to create a new column with initial values 0\n",
    "    restWiseDFs[storeId]['avg_kpt_in_last_7_days'] = 0\n",
    "    restWiseDFs[storeId]['hourswise_avg_kpt'] = 0\n",
    "    for index, item in restWiseDFs[storeId].iterrows():\n",
    "        itemCode = item['Menu_Code']\n",
    "        dtKitchenDisplay = item['Kitchen_Display_Time']\n",
    "        lastTimeMinutes = dtKitchenDisplay - timedelta(minutes=60)\n",
    "        lastTime = dtKitchenDisplay - timedelta(days=7)\n",
    "        df3 = restWiseDFs[storeId].loc[(restWiseDFs[storeId]['Kitchen_Display_Time'] >= lastTime) & \\\n",
    "                     (restWiseDFs[storeId]['Kitchen_Display_Time'] < dtKitchenDisplay) & \\\n",
    "                                 (restWiseDFs[storeId]['Menu_Code'] == itemCode)]\n",
    "        df2 = df3.loc[df3['Kitchen_Display_Time'] >= lastTimeMinutes]\n",
    "        if len(df2.index) != 0:\n",
    "            restWiseDFs[storeId].at[index, 'avg_kpt_in_last_one_hour'] = df2['prep_time'].mean()\n",
    "        else:\n",
    "            restWiseDFs[storeId].at[index, 'avg_kpt_in_last_one_hour'] =  avgPrepTime\n",
    "        if len(df3.index) != 0:\n",
    "            restWiseDFs[storeId].at[index, 'avg_kpt_in_last_7_days'] = df3['prep_time'].mean()\n",
    "        else:\n",
    "            restWiseDFs[storeId].at[index, 'avg_kpt_in_last_7_days'] =  avgPrepTime\n"
   ]
  },
  {
   "cell_type": "code",
   "execution_count": 46,
   "id": "5d71b1bf",
   "metadata": {
    "ExecuteTime": {
     "end_time": "2023-03-16T14:15:49.907025Z",
     "start_time": "2023-03-16T14:15:49.898797Z"
    }
   },
   "outputs": [],
   "source": [
    "def getPreviousPrepTime(item, timeslot = 60):\n",
    "    if timeslot == 60:\n",
    "        return item['avg_kpt_in_last_one_hour']\n",
    "    elif timeslot == 7*24*60:\n",
    "        return item['avg_kpt_in_last_7_days']\n",
    "    else:\n",
    "        itemCode = item['Menu_Code']\n",
    "        df = restWiseDFs[item['Location_Code']]\n",
    "\n",
    "        dtKitchenDisplay = item['Kitchen_Display_Time']\n",
    "\n",
    "        lastTime = dtKitchenDisplay - timedelta(minutes=timeslot)\n",
    "\n",
    "        df2 = df.loc[(df['Kitchen_Display_Time'] >= lastTime) & \\\n",
    "                     (df['Kitchen_Display_Time'] < dtKitchenDisplay) & \\\n",
    "                                 (df['Menu_Code'] == itemCode)]\n",
    "        if len(df2.index) != 0:\n",
    "            return df2['prep_time'].mean()\n",
    "        else:\n",
    "            return restWiseDFs[storeId]['prep_time'].mean()"
   ]
  },
  {
   "cell_type": "code",
   "execution_count": 47,
   "id": "a4abbd28",
   "metadata": {
    "ExecuteTime": {
     "end_time": "2023-03-16T14:16:01.401354Z",
     "start_time": "2023-03-16T14:15:49.911916Z"
    }
   },
   "outputs": [
    {
     "name": "stderr",
     "output_type": "stream",
     "text": [
      "/tmp/ipykernel_216745/2358782154.py:23: SettingWithCopyWarning: \n",
      "A value is trying to be set on a copy of a slice from a DataFrame.\n",
      "Try using .loc[row_indexer,col_indexer] = value instead\n",
      "\n",
      "See the caveats in the documentation: https://pandas.pydata.org/pandas-docs/stable/user_guide/indexing.html#returning-a-view-versus-a-copy\n",
      "  restWiseDFs[storeId]['hour_wise_avg_kpt_of_the_day'] = hwa\n"
     ]
    }
   ],
   "source": [
    "# Hourwise avg\n",
    "# Feature 9 : Avg prep time of the same item in same store : hour wise + according to the day of the week\n",
    "hourWiseAvg = {}\n",
    "for store in allStoreIds:\n",
    "    hourWiseAvg[store] = {}\n",
    "    for i in range(1, 8):\n",
    "        hourWiseAvg[store][i] = {}\n",
    "\n",
    "for storeId in allStoreIds:\n",
    "    hwa = []\n",
    "    for index, item in restWiseDFs[storeId].iterrows():\n",
    "        ts = getTimeslot(item['Kitchen_Display_Time'])\n",
    "        d = dayOfTheWeek(item['Kitchen_Display_Time'])[0]\n",
    "        if ts not in hourWiseAvg[storeId][d]:\n",
    "            hourWiseAvg[storeId][d][ts] = {'val': 0, 'cnt': 0}\n",
    "        if hourWiseAvg[storeId][d][ts]['cnt'] == 0:\n",
    "            hwa.append(item['avg_kpt_in_last_one_hour'])\n",
    "        else:\n",
    "            hwa.append(hourWiseAvg[storeId][d][ts]['val']/hourWiseAvg[storeId][d][ts]['cnt'])\n",
    "        hourWiseAvg[storeId][d][ts]['val'] += item['prep_time']\n",
    "        hourWiseAvg[storeId][d][ts]['cnt'] += 1\n",
    "\n",
    "    restWiseDFs[storeId]['hour_wise_avg_kpt_of_the_day'] = hwa"
   ]
  },
  {
   "cell_type": "code",
   "execution_count": 48,
   "id": "26414d5f",
   "metadata": {
    "ExecuteTime": {
     "end_time": "2023-03-16T14:16:01.410130Z",
     "start_time": "2023-03-16T14:16:01.405136Z"
    }
   },
   "outputs": [],
   "source": [
    "def getHourWiseAverage(item):\n",
    "    return item[\"hour_wise_avg_kpt_of_the_day\"]"
   ]
  },
  {
   "cell_type": "code",
   "execution_count": 49,
   "id": "b7a13443",
   "metadata": {
    "ExecuteTime": {
     "end_time": "2023-03-16T14:16:01.417591Z",
     "start_time": "2023-03-16T14:16:01.412096Z"
    }
   },
   "outputs": [],
   "source": [
    "# Feature 10 : Item quantity\n",
    "def getQuantity(item):\n",
    "    return item['Quantity']"
   ]
  },
  {
   "cell_type": "code",
   "execution_count": 50,
   "id": "a6c90edd",
   "metadata": {
    "ExecuteTime": {
     "end_time": "2023-03-16T14:16:01.425211Z",
     "start_time": "2023-03-16T14:16:01.419957Z"
    }
   },
   "outputs": [],
   "source": [
    "# Feature 11 : Length of the queue in the store at that time\n",
    "def lengthQueue(item):\n",
    "    dtKitchenDisplay = item['Kitchen_Display_Time']\n",
    "    d = restWiseDFs[item['Location_Code']]\n",
    "    return len(d[(d['Oven_Time'] >= dtKitchenDisplay) & (d['Kitchen_Display_Time'] <= dtKitchenDisplay)].index)"
   ]
  },
  {
   "cell_type": "code",
   "execution_count": 51,
   "id": "7d7f459b",
   "metadata": {
    "ExecuteTime": {
     "end_time": "2023-03-16T14:16:01.460311Z",
     "start_time": "2023-03-16T14:16:01.427457Z"
    }
   },
   "outputs": [],
   "source": [
    "sampleItem=None\n",
    "for index, item in restWiseDFs[storeId].iterrows():\n",
    "    sampleItem = item\n",
    "    break"
   ]
  },
  {
   "cell_type": "code",
   "execution_count": 52,
   "id": "e34eb51d",
   "metadata": {
    "ExecuteTime": {
     "end_time": "2023-03-16T14:16:01.471268Z",
     "start_time": "2023-03-16T14:16:01.463002Z"
    }
   },
   "outputs": [
    {
     "data": {
      "text/plain": [
       "2"
      ]
     },
     "execution_count": 52,
     "metadata": {},
     "output_type": "execute_result"
    }
   ],
   "source": [
    "lengthQueue(sampleItem)"
   ]
  },
  {
   "cell_type": "code",
   "execution_count": 53,
   "id": "7b85e23b",
   "metadata": {
    "ExecuteTime": {
     "end_time": "2023-03-16T14:16:01.478664Z",
     "start_time": "2023-03-16T14:16:01.473352Z"
    }
   },
   "outputs": [],
   "source": [
    "# global variables\n",
    "\n",
    "clubItemsCategoryWise = False\n",
    "\n",
    "splitMethod = 'initial 21 days'\n",
    "slotTimeForPastOrders = 30 # minutes\n",
    "\n",
    "model = 'xgboost'\n",
    "isOneHotEncodingRequired = False\n",
    "isNormalizationRequired = False\n",
    "\n",
    "isCentralModel = True"
   ]
  },
  {
   "cell_type": "code",
   "execution_count": 54,
   "id": "636ecf24",
   "metadata": {
    "ExecuteTime": {
     "end_time": "2023-03-16T14:16:01.486987Z",
     "start_time": "2023-03-16T14:16:01.482284Z"
    }
   },
   "outputs": [],
   "source": [
    "def save_object(obj, filename):\n",
    "    with open(filename, 'wb') as outp:  # Overwrites any existing file.\n",
    "        pickle.dump(obj, outp, pickle.HIGHEST_PROTOCOL)"
   ]
  },
  {
   "cell_type": "code",
   "execution_count": 55,
   "id": "d513b5e3",
   "metadata": {
    "ExecuteTime": {
     "end_time": "2023-03-16T14:16:01.670146Z",
     "start_time": "2023-03-16T14:16:01.488806Z"
    }
   },
   "outputs": [],
   "source": [
    "save_object(restWiseDFs, f'restWiseDFsBeforeFeatureCreation{city}.pkl')"
   ]
  },
  {
   "cell_type": "code",
   "execution_count": 56,
   "id": "ecd2d076",
   "metadata": {
    "ExecuteTime": {
     "end_time": "2023-03-16T14:16:01.685938Z",
     "start_time": "2023-03-16T14:16:01.675612Z"
    }
   },
   "outputs": [],
   "source": [
    "totalFeatures = (0 + # store ID (categorical)\n",
    "                1 + # day of the week (categorical)\n",
    "                1 +  #timeslot of the day (categorical)\n",
    "                1 +  # Item type (categorical)\n",
    "                1 +  #count past orders in last 30 minutes\n",
    "                1 +  #ratio lift in last 30 minutes\n",
    "                1 + # average previous preparation time in last 1 hour\n",
    "                1 + # average previous preparation time in last 7 days\n",
    "                1 + # average kpt time, hour wise according to the day of the week\n",
    "                1 + # Item quantity\n",
    "                1) # length of the current queue\n",
    "\n",
    "if isCentralModel:\n",
    "    totalFeatures += 1\n",
    "if isOneHotEncodingRequired:\n",
    "    ##### DEPRECATED\n",
    "    totalFeatures = (7 + # one hot encoded day of the week\n",
    "                 len(allMenuCodes) +  # Item type\n",
    "                24 +  #timeslot of the day\n",
    "                1 +  #count past orders\n",
    "                1 +  #lift in last 30 minutes\n",
    "                1 + # average previous preparation time in last 1 hour\n",
    "                1 + # average previous preparation time in last 7 days\n",
    "                1) # length of the current queue\n",
    "    if isCentralModel:\n",
    "        totalFeatures += len(allStoreIds)\n",
    "\n",
    "feature_cols = []\n",
    "for i in range(0, totalFeatures):\n",
    "    feature_cols.append('feature_'+str(i+1))"
   ]
  },
  {
   "cell_type": "code",
   "execution_count": 57,
   "id": "d558b02e",
   "metadata": {
    "ExecuteTime": {
     "end_time": "2023-03-16T14:16:01.709341Z",
     "start_time": "2023-03-16T14:16:01.689008Z"
    }
   },
   "outputs": [],
   "source": [
    "def updateFeatures(storeId, Xnp, fc=feature_cols):\n",
    "    restWiseDFs[storeId][fc] = Xnp"
   ]
  },
  {
   "cell_type": "code",
   "execution_count": 58,
   "id": "e135b945",
   "metadata": {
    "ExecuteTime": {
     "end_time": "2023-03-16T14:22:53.333838Z",
     "start_time": "2023-03-16T14:16:01.714708Z"
    }
   },
   "outputs": [
    {
     "name": "stderr",
     "output_type": "stream",
     "text": [
      "/tmp/ipykernel_216745/2517518382.py:2: SettingWithCopyWarning: \n",
      "A value is trying to be set on a copy of a slice from a DataFrame.\n",
      "Try using .loc[row_indexer,col_indexer] = value instead\n",
      "\n",
      "See the caveats in the documentation: https://pandas.pydata.org/pandas-docs/stable/user_guide/indexing.html#returning-a-view-versus-a-copy\n",
      "  restWiseDFs[storeId][fc] = Xnp\n"
     ]
    },
    {
     "name": "stdout",
     "output_type": "stream",
     "text": [
      "(16460, 11)\n",
      "(10763, 11)\n",
      "(18798, 11)\n",
      "(14284, 11)\n",
      "(11443, 11)\n",
      "(12344, 11)\n",
      "(17184, 11)\n",
      "(9330, 11)\n",
      "(10509, 11)\n",
      "(12105, 11)\n",
      "(12230, 11)\n",
      "(10736, 11)\n"
     ]
    }
   ],
   "source": [
    "# TIME CONSUMING (3m 21s for Bhopal)\n",
    "for storeId in restWiseDFs:\n",
    "    X = []\n",
    "    df = restWiseDFs[storeId]\n",
    "    for index, item in df.iterrows():\n",
    "        features = getStoreId(item, False)\n",
    "        features += dayOfTheWeek(item['Kitchen_Display_Time'], isOneHotEncodingRequired)\n",
    "        features += getTimeSlotOfKitchenDisplayTime(item, isOneHotEncodingRequired)\n",
    "        features += getItemType(item, clubItemsCategoryWise, isOneHotEncodingRequired)\n",
    "        features += [countPastOrders(item, slotTimeForPastOrders)]\n",
    "        features += [getLiftInOrders(item, slotTimeForPastOrders)]\n",
    "        features += [getPreviousPrepTime(item, timeslot = 60)]\n",
    "        features += [getPreviousPrepTime(item, timeslot = 7*24*60)]\n",
    "        features += [getHourWiseAverage(item)]\n",
    "        features += [getQuantity(item)]\n",
    "        features += [lengthQueue(item)]\n",
    "        X.append(features)\n",
    "    Xnp = np.array(X)\n",
    "    updateFeatures(storeId, Xnp)\n",
    "    print(Xnp.shape)"
   ]
  },
  {
   "cell_type": "code",
   "execution_count": 59,
   "id": "8a299038",
   "metadata": {
    "ExecuteTime": {
     "end_time": "2023-03-16T14:22:53.381551Z",
     "start_time": "2023-03-16T14:22:53.336779Z"
    }
   },
   "outputs": [
    {
     "name": "stderr",
     "output_type": "stream",
     "text": [
      "/tmp/ipykernel_216745/1619861071.py:5: SettingWithCopyWarning: \n",
      "A value is trying to be set on a copy of a slice from a DataFrame.\n",
      "Try using .loc[row_indexer,col_indexer] = value instead\n",
      "\n",
      "See the caveats in the documentation: https://pandas.pydata.org/pandas-docs/stable/user_guide/indexing.html#returning-a-view-versus-a-copy\n",
      "  restWiseDFs[storeId][feature_cols[i]] = restWiseDFs[storeId][feature_cols[i]].astype(\"category\")\n",
      "/tmp/ipykernel_216745/1619861071.py:5: SettingWithCopyWarning: \n",
      "A value is trying to be set on a copy of a slice from a DataFrame.\n",
      "Try using .loc[row_indexer,col_indexer] = value instead\n",
      "\n",
      "See the caveats in the documentation: https://pandas.pydata.org/pandas-docs/stable/user_guide/indexing.html#returning-a-view-versus-a-copy\n",
      "  restWiseDFs[storeId][feature_cols[i]] = restWiseDFs[storeId][feature_cols[i]].astype(\"category\")\n",
      "/tmp/ipykernel_216745/1619861071.py:5: SettingWithCopyWarning: \n",
      "A value is trying to be set on a copy of a slice from a DataFrame.\n",
      "Try using .loc[row_indexer,col_indexer] = value instead\n",
      "\n",
      "See the caveats in the documentation: https://pandas.pydata.org/pandas-docs/stable/user_guide/indexing.html#returning-a-view-versus-a-copy\n",
      "  restWiseDFs[storeId][feature_cols[i]] = restWiseDFs[storeId][feature_cols[i]].astype(\"category\")\n",
      "/tmp/ipykernel_216745/1619861071.py:5: SettingWithCopyWarning: \n",
      "A value is trying to be set on a copy of a slice from a DataFrame.\n",
      "Try using .loc[row_indexer,col_indexer] = value instead\n",
      "\n",
      "See the caveats in the documentation: https://pandas.pydata.org/pandas-docs/stable/user_guide/indexing.html#returning-a-view-versus-a-copy\n",
      "  restWiseDFs[storeId][feature_cols[i]] = restWiseDFs[storeId][feature_cols[i]].astype(\"category\")\n",
      "/tmp/ipykernel_216745/1619861071.py:5: SettingWithCopyWarning: \n",
      "A value is trying to be set on a copy of a slice from a DataFrame.\n",
      "Try using .loc[row_indexer,col_indexer] = value instead\n",
      "\n",
      "See the caveats in the documentation: https://pandas.pydata.org/pandas-docs/stable/user_guide/indexing.html#returning-a-view-versus-a-copy\n",
      "  restWiseDFs[storeId][feature_cols[i]] = restWiseDFs[storeId][feature_cols[i]].astype(\"category\")\n",
      "/tmp/ipykernel_216745/1619861071.py:5: SettingWithCopyWarning: \n",
      "A value is trying to be set on a copy of a slice from a DataFrame.\n",
      "Try using .loc[row_indexer,col_indexer] = value instead\n",
      "\n",
      "See the caveats in the documentation: https://pandas.pydata.org/pandas-docs/stable/user_guide/indexing.html#returning-a-view-versus-a-copy\n",
      "  restWiseDFs[storeId][feature_cols[i]] = restWiseDFs[storeId][feature_cols[i]].astype(\"category\")\n",
      "/tmp/ipykernel_216745/1619861071.py:5: SettingWithCopyWarning: \n",
      "A value is trying to be set on a copy of a slice from a DataFrame.\n",
      "Try using .loc[row_indexer,col_indexer] = value instead\n",
      "\n",
      "See the caveats in the documentation: https://pandas.pydata.org/pandas-docs/stable/user_guide/indexing.html#returning-a-view-versus-a-copy\n",
      "  restWiseDFs[storeId][feature_cols[i]] = restWiseDFs[storeId][feature_cols[i]].astype(\"category\")\n",
      "/tmp/ipykernel_216745/1619861071.py:5: SettingWithCopyWarning: \n",
      "A value is trying to be set on a copy of a slice from a DataFrame.\n",
      "Try using .loc[row_indexer,col_indexer] = value instead\n",
      "\n",
      "See the caveats in the documentation: https://pandas.pydata.org/pandas-docs/stable/user_guide/indexing.html#returning-a-view-versus-a-copy\n",
      "  restWiseDFs[storeId][feature_cols[i]] = restWiseDFs[storeId][feature_cols[i]].astype(\"category\")\n",
      "/tmp/ipykernel_216745/1619861071.py:5: SettingWithCopyWarning: \n",
      "A value is trying to be set on a copy of a slice from a DataFrame.\n",
      "Try using .loc[row_indexer,col_indexer] = value instead\n",
      "\n",
      "See the caveats in the documentation: https://pandas.pydata.org/pandas-docs/stable/user_guide/indexing.html#returning-a-view-versus-a-copy\n",
      "  restWiseDFs[storeId][feature_cols[i]] = restWiseDFs[storeId][feature_cols[i]].astype(\"category\")\n",
      "/tmp/ipykernel_216745/1619861071.py:5: SettingWithCopyWarning: \n",
      "A value is trying to be set on a copy of a slice from a DataFrame.\n",
      "Try using .loc[row_indexer,col_indexer] = value instead\n",
      "\n",
      "See the caveats in the documentation: https://pandas.pydata.org/pandas-docs/stable/user_guide/indexing.html#returning-a-view-versus-a-copy\n",
      "  restWiseDFs[storeId][feature_cols[i]] = restWiseDFs[storeId][feature_cols[i]].astype(\"category\")\n",
      "/tmp/ipykernel_216745/1619861071.py:5: SettingWithCopyWarning: \n",
      "A value is trying to be set on a copy of a slice from a DataFrame.\n",
      "Try using .loc[row_indexer,col_indexer] = value instead\n",
      "\n",
      "See the caveats in the documentation: https://pandas.pydata.org/pandas-docs/stable/user_guide/indexing.html#returning-a-view-versus-a-copy\n",
      "  restWiseDFs[storeId][feature_cols[i]] = restWiseDFs[storeId][feature_cols[i]].astype(\"category\")\n",
      "/tmp/ipykernel_216745/1619861071.py:5: SettingWithCopyWarning: \n",
      "A value is trying to be set on a copy of a slice from a DataFrame.\n",
      "Try using .loc[row_indexer,col_indexer] = value instead\n",
      "\n",
      "See the caveats in the documentation: https://pandas.pydata.org/pandas-docs/stable/user_guide/indexing.html#returning-a-view-versus-a-copy\n",
      "  restWiseDFs[storeId][feature_cols[i]] = restWiseDFs[storeId][feature_cols[i]].astype(\"category\")\n",
      "/tmp/ipykernel_216745/1619861071.py:5: SettingWithCopyWarning: \n",
      "A value is trying to be set on a copy of a slice from a DataFrame.\n",
      "Try using .loc[row_indexer,col_indexer] = value instead\n",
      "\n",
      "See the caveats in the documentation: https://pandas.pydata.org/pandas-docs/stable/user_guide/indexing.html#returning-a-view-versus-a-copy\n",
      "  restWiseDFs[storeId][feature_cols[i]] = restWiseDFs[storeId][feature_cols[i]].astype(\"category\")\n",
      "/tmp/ipykernel_216745/1619861071.py:5: SettingWithCopyWarning: \n",
      "A value is trying to be set on a copy of a slice from a DataFrame.\n",
      "Try using .loc[row_indexer,col_indexer] = value instead\n",
      "\n",
      "See the caveats in the documentation: https://pandas.pydata.org/pandas-docs/stable/user_guide/indexing.html#returning-a-view-versus-a-copy\n",
      "  restWiseDFs[storeId][feature_cols[i]] = restWiseDFs[storeId][feature_cols[i]].astype(\"category\")\n",
      "/tmp/ipykernel_216745/1619861071.py:5: SettingWithCopyWarning: \n",
      "A value is trying to be set on a copy of a slice from a DataFrame.\n",
      "Try using .loc[row_indexer,col_indexer] = value instead\n",
      "\n",
      "See the caveats in the documentation: https://pandas.pydata.org/pandas-docs/stable/user_guide/indexing.html#returning-a-view-versus-a-copy\n",
      "  restWiseDFs[storeId][feature_cols[i]] = restWiseDFs[storeId][feature_cols[i]].astype(\"category\")\n",
      "/tmp/ipykernel_216745/1619861071.py:5: SettingWithCopyWarning: \n",
      "A value is trying to be set on a copy of a slice from a DataFrame.\n",
      "Try using .loc[row_indexer,col_indexer] = value instead\n",
      "\n",
      "See the caveats in the documentation: https://pandas.pydata.org/pandas-docs/stable/user_guide/indexing.html#returning-a-view-versus-a-copy\n",
      "  restWiseDFs[storeId][feature_cols[i]] = restWiseDFs[storeId][feature_cols[i]].astype(\"category\")\n",
      "/tmp/ipykernel_216745/1619861071.py:5: SettingWithCopyWarning: \n",
      "A value is trying to be set on a copy of a slice from a DataFrame.\n",
      "Try using .loc[row_indexer,col_indexer] = value instead\n",
      "\n",
      "See the caveats in the documentation: https://pandas.pydata.org/pandas-docs/stable/user_guide/indexing.html#returning-a-view-versus-a-copy\n",
      "  restWiseDFs[storeId][feature_cols[i]] = restWiseDFs[storeId][feature_cols[i]].astype(\"category\")\n",
      "/tmp/ipykernel_216745/1619861071.py:5: SettingWithCopyWarning: \n",
      "A value is trying to be set on a copy of a slice from a DataFrame.\n",
      "Try using .loc[row_indexer,col_indexer] = value instead\n",
      "\n",
      "See the caveats in the documentation: https://pandas.pydata.org/pandas-docs/stable/user_guide/indexing.html#returning-a-view-versus-a-copy\n",
      "  restWiseDFs[storeId][feature_cols[i]] = restWiseDFs[storeId][feature_cols[i]].astype(\"category\")\n",
      "/tmp/ipykernel_216745/1619861071.py:5: SettingWithCopyWarning: \n",
      "A value is trying to be set on a copy of a slice from a DataFrame.\n",
      "Try using .loc[row_indexer,col_indexer] = value instead\n",
      "\n",
      "See the caveats in the documentation: https://pandas.pydata.org/pandas-docs/stable/user_guide/indexing.html#returning-a-view-versus-a-copy\n",
      "  restWiseDFs[storeId][feature_cols[i]] = restWiseDFs[storeId][feature_cols[i]].astype(\"category\")\n",
      "/tmp/ipykernel_216745/1619861071.py:5: SettingWithCopyWarning: \n",
      "A value is trying to be set on a copy of a slice from a DataFrame.\n",
      "Try using .loc[row_indexer,col_indexer] = value instead\n",
      "\n",
      "See the caveats in the documentation: https://pandas.pydata.org/pandas-docs/stable/user_guide/indexing.html#returning-a-view-versus-a-copy\n",
      "  restWiseDFs[storeId][feature_cols[i]] = restWiseDFs[storeId][feature_cols[i]].astype(\"category\")\n",
      "/tmp/ipykernel_216745/1619861071.py:5: SettingWithCopyWarning: \n",
      "A value is trying to be set on a copy of a slice from a DataFrame.\n",
      "Try using .loc[row_indexer,col_indexer] = value instead\n",
      "\n",
      "See the caveats in the documentation: https://pandas.pydata.org/pandas-docs/stable/user_guide/indexing.html#returning-a-view-versus-a-copy\n",
      "  restWiseDFs[storeId][feature_cols[i]] = restWiseDFs[storeId][feature_cols[i]].astype(\"category\")\n",
      "/tmp/ipykernel_216745/1619861071.py:5: SettingWithCopyWarning: \n",
      "A value is trying to be set on a copy of a slice from a DataFrame.\n",
      "Try using .loc[row_indexer,col_indexer] = value instead\n",
      "\n",
      "See the caveats in the documentation: https://pandas.pydata.org/pandas-docs/stable/user_guide/indexing.html#returning-a-view-versus-a-copy\n",
      "  restWiseDFs[storeId][feature_cols[i]] = restWiseDFs[storeId][feature_cols[i]].astype(\"category\")\n",
      "/tmp/ipykernel_216745/1619861071.py:5: SettingWithCopyWarning: \n",
      "A value is trying to be set on a copy of a slice from a DataFrame.\n",
      "Try using .loc[row_indexer,col_indexer] = value instead\n",
      "\n",
      "See the caveats in the documentation: https://pandas.pydata.org/pandas-docs/stable/user_guide/indexing.html#returning-a-view-versus-a-copy\n",
      "  restWiseDFs[storeId][feature_cols[i]] = restWiseDFs[storeId][feature_cols[i]].astype(\"category\")\n",
      "/tmp/ipykernel_216745/1619861071.py:5: SettingWithCopyWarning: \n",
      "A value is trying to be set on a copy of a slice from a DataFrame.\n",
      "Try using .loc[row_indexer,col_indexer] = value instead\n",
      "\n",
      "See the caveats in the documentation: https://pandas.pydata.org/pandas-docs/stable/user_guide/indexing.html#returning-a-view-versus-a-copy\n",
      "  restWiseDFs[storeId][feature_cols[i]] = restWiseDFs[storeId][feature_cols[i]].astype(\"category\")\n",
      "/tmp/ipykernel_216745/1619861071.py:5: SettingWithCopyWarning: \n",
      "A value is trying to be set on a copy of a slice from a DataFrame.\n",
      "Try using .loc[row_indexer,col_indexer] = value instead\n",
      "\n",
      "See the caveats in the documentation: https://pandas.pydata.org/pandas-docs/stable/user_guide/indexing.html#returning-a-view-versus-a-copy\n",
      "  restWiseDFs[storeId][feature_cols[i]] = restWiseDFs[storeId][feature_cols[i]].astype(\"category\")\n",
      "/tmp/ipykernel_216745/1619861071.py:5: SettingWithCopyWarning: \n",
      "A value is trying to be set on a copy of a slice from a DataFrame.\n",
      "Try using .loc[row_indexer,col_indexer] = value instead\n",
      "\n",
      "See the caveats in the documentation: https://pandas.pydata.org/pandas-docs/stable/user_guide/indexing.html#returning-a-view-versus-a-copy\n",
      "  restWiseDFs[storeId][feature_cols[i]] = restWiseDFs[storeId][feature_cols[i]].astype(\"category\")\n",
      "/tmp/ipykernel_216745/1619861071.py:5: SettingWithCopyWarning: \n",
      "A value is trying to be set on a copy of a slice from a DataFrame.\n",
      "Try using .loc[row_indexer,col_indexer] = value instead\n",
      "\n",
      "See the caveats in the documentation: https://pandas.pydata.org/pandas-docs/stable/user_guide/indexing.html#returning-a-view-versus-a-copy\n",
      "  restWiseDFs[storeId][feature_cols[i]] = restWiseDFs[storeId][feature_cols[i]].astype(\"category\")\n",
      "/tmp/ipykernel_216745/1619861071.py:5: SettingWithCopyWarning: \n",
      "A value is trying to be set on a copy of a slice from a DataFrame.\n",
      "Try using .loc[row_indexer,col_indexer] = value instead\n",
      "\n",
      "See the caveats in the documentation: https://pandas.pydata.org/pandas-docs/stable/user_guide/indexing.html#returning-a-view-versus-a-copy\n",
      "  restWiseDFs[storeId][feature_cols[i]] = restWiseDFs[storeId][feature_cols[i]].astype(\"category\")\n",
      "/tmp/ipykernel_216745/1619861071.py:5: SettingWithCopyWarning: \n",
      "A value is trying to be set on a copy of a slice from a DataFrame.\n",
      "Try using .loc[row_indexer,col_indexer] = value instead\n",
      "\n",
      "See the caveats in the documentation: https://pandas.pydata.org/pandas-docs/stable/user_guide/indexing.html#returning-a-view-versus-a-copy\n",
      "  restWiseDFs[storeId][feature_cols[i]] = restWiseDFs[storeId][feature_cols[i]].astype(\"category\")\n",
      "/tmp/ipykernel_216745/1619861071.py:5: SettingWithCopyWarning: \n",
      "A value is trying to be set on a copy of a slice from a DataFrame.\n",
      "Try using .loc[row_indexer,col_indexer] = value instead\n",
      "\n",
      "See the caveats in the documentation: https://pandas.pydata.org/pandas-docs/stable/user_guide/indexing.html#returning-a-view-versus-a-copy\n",
      "  restWiseDFs[storeId][feature_cols[i]] = restWiseDFs[storeId][feature_cols[i]].astype(\"category\")\n",
      "/tmp/ipykernel_216745/1619861071.py:5: SettingWithCopyWarning: \n",
      "A value is trying to be set on a copy of a slice from a DataFrame.\n",
      "Try using .loc[row_indexer,col_indexer] = value instead\n",
      "\n",
      "See the caveats in the documentation: https://pandas.pydata.org/pandas-docs/stable/user_guide/indexing.html#returning-a-view-versus-a-copy\n",
      "  restWiseDFs[storeId][feature_cols[i]] = restWiseDFs[storeId][feature_cols[i]].astype(\"category\")\n",
      "/tmp/ipykernel_216745/1619861071.py:5: SettingWithCopyWarning: \n",
      "A value is trying to be set on a copy of a slice from a DataFrame.\n",
      "Try using .loc[row_indexer,col_indexer] = value instead\n",
      "\n",
      "See the caveats in the documentation: https://pandas.pydata.org/pandas-docs/stable/user_guide/indexing.html#returning-a-view-versus-a-copy\n",
      "  restWiseDFs[storeId][feature_cols[i]] = restWiseDFs[storeId][feature_cols[i]].astype(\"category\")\n",
      "/tmp/ipykernel_216745/1619861071.py:5: SettingWithCopyWarning: \n",
      "A value is trying to be set on a copy of a slice from a DataFrame.\n",
      "Try using .loc[row_indexer,col_indexer] = value instead\n",
      "\n",
      "See the caveats in the documentation: https://pandas.pydata.org/pandas-docs/stable/user_guide/indexing.html#returning-a-view-versus-a-copy\n",
      "  restWiseDFs[storeId][feature_cols[i]] = restWiseDFs[storeId][feature_cols[i]].astype(\"category\")\n",
      "/tmp/ipykernel_216745/1619861071.py:5: SettingWithCopyWarning: \n",
      "A value is trying to be set on a copy of a slice from a DataFrame.\n",
      "Try using .loc[row_indexer,col_indexer] = value instead\n",
      "\n",
      "See the caveats in the documentation: https://pandas.pydata.org/pandas-docs/stable/user_guide/indexing.html#returning-a-view-versus-a-copy\n",
      "  restWiseDFs[storeId][feature_cols[i]] = restWiseDFs[storeId][feature_cols[i]].astype(\"category\")\n",
      "/tmp/ipykernel_216745/1619861071.py:5: SettingWithCopyWarning: \n",
      "A value is trying to be set on a copy of a slice from a DataFrame.\n",
      "Try using .loc[row_indexer,col_indexer] = value instead\n",
      "\n",
      "See the caveats in the documentation: https://pandas.pydata.org/pandas-docs/stable/user_guide/indexing.html#returning-a-view-versus-a-copy\n",
      "  restWiseDFs[storeId][feature_cols[i]] = restWiseDFs[storeId][feature_cols[i]].astype(\"category\")\n",
      "/tmp/ipykernel_216745/1619861071.py:5: SettingWithCopyWarning: \n",
      "A value is trying to be set on a copy of a slice from a DataFrame.\n",
      "Try using .loc[row_indexer,col_indexer] = value instead\n",
      "\n",
      "See the caveats in the documentation: https://pandas.pydata.org/pandas-docs/stable/user_guide/indexing.html#returning-a-view-versus-a-copy\n",
      "  restWiseDFs[storeId][feature_cols[i]] = restWiseDFs[storeId][feature_cols[i]].astype(\"category\")\n",
      "/tmp/ipykernel_216745/1619861071.py:5: SettingWithCopyWarning: \n",
      "A value is trying to be set on a copy of a slice from a DataFrame.\n",
      "Try using .loc[row_indexer,col_indexer] = value instead\n",
      "\n",
      "See the caveats in the documentation: https://pandas.pydata.org/pandas-docs/stable/user_guide/indexing.html#returning-a-view-versus-a-copy\n",
      "  restWiseDFs[storeId][feature_cols[i]] = restWiseDFs[storeId][feature_cols[i]].astype(\"category\")\n",
      "/tmp/ipykernel_216745/1619861071.py:5: SettingWithCopyWarning: \n",
      "A value is trying to be set on a copy of a slice from a DataFrame.\n",
      "Try using .loc[row_indexer,col_indexer] = value instead\n",
      "\n",
      "See the caveats in the documentation: https://pandas.pydata.org/pandas-docs/stable/user_guide/indexing.html#returning-a-view-versus-a-copy\n",
      "  restWiseDFs[storeId][feature_cols[i]] = restWiseDFs[storeId][feature_cols[i]].astype(\"category\")\n",
      "/tmp/ipykernel_216745/1619861071.py:5: SettingWithCopyWarning: \n",
      "A value is trying to be set on a copy of a slice from a DataFrame.\n",
      "Try using .loc[row_indexer,col_indexer] = value instead\n",
      "\n",
      "See the caveats in the documentation: https://pandas.pydata.org/pandas-docs/stable/user_guide/indexing.html#returning-a-view-versus-a-copy\n",
      "  restWiseDFs[storeId][feature_cols[i]] = restWiseDFs[storeId][feature_cols[i]].astype(\"category\")\n",
      "/tmp/ipykernel_216745/1619861071.py:5: SettingWithCopyWarning: \n",
      "A value is trying to be set on a copy of a slice from a DataFrame.\n",
      "Try using .loc[row_indexer,col_indexer] = value instead\n",
      "\n",
      "See the caveats in the documentation: https://pandas.pydata.org/pandas-docs/stable/user_guide/indexing.html#returning-a-view-versus-a-copy\n",
      "  restWiseDFs[storeId][feature_cols[i]] = restWiseDFs[storeId][feature_cols[i]].astype(\"category\")\n",
      "/tmp/ipykernel_216745/1619861071.py:5: SettingWithCopyWarning: \n",
      "A value is trying to be set on a copy of a slice from a DataFrame.\n",
      "Try using .loc[row_indexer,col_indexer] = value instead\n",
      "\n",
      "See the caveats in the documentation: https://pandas.pydata.org/pandas-docs/stable/user_guide/indexing.html#returning-a-view-versus-a-copy\n",
      "  restWiseDFs[storeId][feature_cols[i]] = restWiseDFs[storeId][feature_cols[i]].astype(\"category\")\n",
      "/tmp/ipykernel_216745/1619861071.py:5: SettingWithCopyWarning: \n",
      "A value is trying to be set on a copy of a slice from a DataFrame.\n",
      "Try using .loc[row_indexer,col_indexer] = value instead\n",
      "\n",
      "See the caveats in the documentation: https://pandas.pydata.org/pandas-docs/stable/user_guide/indexing.html#returning-a-view-versus-a-copy\n",
      "  restWiseDFs[storeId][feature_cols[i]] = restWiseDFs[storeId][feature_cols[i]].astype(\"category\")\n",
      "/tmp/ipykernel_216745/1619861071.py:5: SettingWithCopyWarning: \n",
      "A value is trying to be set on a copy of a slice from a DataFrame.\n",
      "Try using .loc[row_indexer,col_indexer] = value instead\n",
      "\n",
      "See the caveats in the documentation: https://pandas.pydata.org/pandas-docs/stable/user_guide/indexing.html#returning-a-view-versus-a-copy\n",
      "  restWiseDFs[storeId][feature_cols[i]] = restWiseDFs[storeId][feature_cols[i]].astype(\"category\")\n",
      "/tmp/ipykernel_216745/1619861071.py:5: SettingWithCopyWarning: \n",
      "A value is trying to be set on a copy of a slice from a DataFrame.\n",
      "Try using .loc[row_indexer,col_indexer] = value instead\n",
      "\n",
      "See the caveats in the documentation: https://pandas.pydata.org/pandas-docs/stable/user_guide/indexing.html#returning-a-view-versus-a-copy\n",
      "  restWiseDFs[storeId][feature_cols[i]] = restWiseDFs[storeId][feature_cols[i]].astype(\"category\")\n",
      "/tmp/ipykernel_216745/1619861071.py:5: SettingWithCopyWarning: \n",
      "A value is trying to be set on a copy of a slice from a DataFrame.\n",
      "Try using .loc[row_indexer,col_indexer] = value instead\n",
      "\n",
      "See the caveats in the documentation: https://pandas.pydata.org/pandas-docs/stable/user_guide/indexing.html#returning-a-view-versus-a-copy\n",
      "  restWiseDFs[storeId][feature_cols[i]] = restWiseDFs[storeId][feature_cols[i]].astype(\"category\")\n",
      "/tmp/ipykernel_216745/1619861071.py:5: SettingWithCopyWarning: \n",
      "A value is trying to be set on a copy of a slice from a DataFrame.\n",
      "Try using .loc[row_indexer,col_indexer] = value instead\n",
      "\n",
      "See the caveats in the documentation: https://pandas.pydata.org/pandas-docs/stable/user_guide/indexing.html#returning-a-view-versus-a-copy\n",
      "  restWiseDFs[storeId][feature_cols[i]] = restWiseDFs[storeId][feature_cols[i]].astype(\"category\")\n",
      "/tmp/ipykernel_216745/1619861071.py:5: SettingWithCopyWarning: \n",
      "A value is trying to be set on a copy of a slice from a DataFrame.\n",
      "Try using .loc[row_indexer,col_indexer] = value instead\n",
      "\n",
      "See the caveats in the documentation: https://pandas.pydata.org/pandas-docs/stable/user_guide/indexing.html#returning-a-view-versus-a-copy\n",
      "  restWiseDFs[storeId][feature_cols[i]] = restWiseDFs[storeId][feature_cols[i]].astype(\"category\")\n",
      "/tmp/ipykernel_216745/1619861071.py:5: SettingWithCopyWarning: \n",
      "A value is trying to be set on a copy of a slice from a DataFrame.\n",
      "Try using .loc[row_indexer,col_indexer] = value instead\n",
      "\n",
      "See the caveats in the documentation: https://pandas.pydata.org/pandas-docs/stable/user_guide/indexing.html#returning-a-view-versus-a-copy\n",
      "  restWiseDFs[storeId][feature_cols[i]] = restWiseDFs[storeId][feature_cols[i]].astype(\"category\")\n"
     ]
    }
   ],
   "source": [
    "# categorical data\n",
    "if not isOneHotEncodingRequired:\n",
    "    for i in range(0, 4):\n",
    "        for storeId in allStoreIds:\n",
    "            restWiseDFs[storeId][feature_cols[i]] = restWiseDFs[storeId][feature_cols[i]].astype(\"category\")"
   ]
  },
  {
   "cell_type": "code",
   "execution_count": 60,
   "id": "dd7db4cc",
   "metadata": {
    "ExecuteTime": {
     "end_time": "2023-03-16T14:22:53.602063Z",
     "start_time": "2023-03-16T14:22:53.383620Z"
    }
   },
   "outputs": [],
   "source": [
    "save_object(restWiseDFs, 'WithoutNormalization.pkl')"
   ]
  },
  {
   "cell_type": "code",
   "execution_count": 61,
   "id": "ef377b61",
   "metadata": {
    "ExecuteTime": {
     "end_time": "2023-03-16T14:22:53.617986Z",
     "start_time": "2023-03-16T14:22:53.606705Z"
    }
   },
   "outputs": [],
   "source": [
    "restWiseScalers = {}\n",
    "\n",
    "# normalize feature values\n",
    "if isNormalizationRequired:\n",
    "    for storeId in allStoreIds:\n",
    "        firstTime = datetime(2022, 7, 1)\n",
    "        lastTime = datetime(2022, 7, 21)\n",
    "        trainingData = restWiseDFs[storeId].loc[(restWiseDFs[storeId]['Kitchen_Display_Time'] >= firstTime) & \\\n",
    "              (restWiseDFs[storeId]['Kitchen_Display_Time'] <= lastTime)].loc[:, feature_cols[4:]]\n",
    "        scaler = StandardScaler()\n",
    "        scaler.fit(trainingData)\n",
    "        if isNormalizationRequired:\n",
    "            X = restWiseDFs[storeId].loc[:, feature_cols[4:]]\n",
    "            X_scaled = scaler.transform(X)\n",
    "            X_scalednp = np.array(X_scaled)\n",
    "            restWiseDFs[storeId][feature_cols[4:]] = X_scalednp\n",
    "    save_object(restWiseDFs, f'restWiseDFsWithNormalizedFeatures{city}.pkl')"
   ]
  },
  {
   "cell_type": "code",
   "execution_count": 62,
   "id": "4d647b20",
   "metadata": {
    "ExecuteTime": {
     "end_time": "2023-03-16T14:22:53.725286Z",
     "start_time": "2023-03-16T14:22:53.621212Z"
    }
   },
   "outputs": [],
   "source": [
    "def getRMSE(actual, predictions):\n",
    "    mse = sklearn.metrics.mean_squared_error(actual, predictions)\n",
    "    return math.sqrt(mse)"
   ]
  },
  {
   "cell_type": "code",
   "execution_count": 228,
   "id": "068f2211",
   "metadata": {
    "ExecuteTime": {
     "end_time": "2023-03-16T23:40:16.140160Z",
     "start_time": "2023-03-16T23:38:58.001624Z"
    }
   },
   "outputs": [
    {
     "name": "stdout",
     "output_type": "stream",
     "text": [
      "TRAIN TEST SPLITED\n",
      "FITTING TO GRID SEARCH START\n",
      "Best hyperparameters: {'colsample_bytree': 0.8, 'enable_categorical': True, 'learning_rate': 0.08, 'max_depth': 5, 'n_estimators': 100, 'subsample': 0.6, 'tree_method': 'hist'}\n",
      "Best mean cross-validated score: 0.2382571269274317\n",
      "MODEL PREPARED\n",
      "Test score: 0.3171035961764336\n",
      "ACCURACY ON Train DATA : \n",
      "RMSE score:  76.11903711663432\n",
      "ACCURACY ON Test DATA : \n",
      "RMSE score:  94.26164292948593\n"
     ]
    }
   ],
   "source": [
    "if isCentralModel:\n",
    "    overallDF = pd.DataFrame()\n",
    "    for storeId in allStoreIds:\n",
    "        overallDF = pd.concat([overallDF, restWiseDFs[storeId]], ignore_index=True)\n",
    "        \n",
    "    firstTimeTrain = datetime(2022, 7, 1)\n",
    "    lastTimeTrain = datetime(2022, 7, 21) + timedelta(days=1)\n",
    "    \n",
    "    firstTimeVal = datetime(2022, 7, 22)\n",
    "    lastTimeVal = datetime(2022, 7, 31) + timedelta(days=1)\n",
    "    \n",
    "    firstTimeTest = datetime(2022, 7, 22)\n",
    "    lastTimeTest = datetime(2022, 7, 31) + timedelta(days=1)\n",
    "\n",
    "    trainingData = overallDF.loc[(overallDF['Kitchen_Display_Time'] >= firstTimeTrain) & \\\n",
    "          (overallDF['Kitchen_Display_Time'] < lastTimeTrain)]\n",
    "    X_train = trainingData.loc[:, feature_cols]\n",
    "    y_train = trainingData.prep_time.values.tolist()\n",
    "\n",
    "    validationData = overallDF.loc[(overallDF['Kitchen_Display_Time'] >= firstTimeVal) & \\\n",
    "          (overallDF['Kitchen_Display_Time'] <= lastTimeVal)]\n",
    "\n",
    "    X_train_val = validationData.loc[:, feature_cols]\n",
    "    y_train_val = validationData.prep_time.values.tolist()\n",
    "\n",
    "    testData = overallDF.loc[(overallDF['Kitchen_Display_Time'] >= firstTimeTest) & \\\n",
    "          (overallDF['Kitchen_Display_Time'] <= lastTimeTest)]\n",
    "\n",
    "    X_test = testData.loc[:, feature_cols]\n",
    "    y_test = testData.prep_time.values.tolist()\n",
    "    print(\"TRAIN TEST SPLITED\")\n",
    "\n",
    "\n",
    "    regressor = XGBRegressor()\n",
    "    param_grid = {\n",
    "        'tree_method': ['hist'],\n",
    "        'n_estimators': [100, 150],\n",
    "        'learning_rate': [0.08],\n",
    "        'subsample': [0.6, 0.7, 0.8],\n",
    "        'enable_categorical': [True],\n",
    "        'colsample_bytree': [0.6, 0.7, 0.8],\n",
    "        'max_depth': [5, 6, 7],\n",
    "    }\n",
    "    \n",
    "    {'colsample_bytree': 0.8, 'enable_categorical': True, 'learning_rate': 0.1, 'max_depth': 3, 'n_estimators': 50, 'subsample': 0.9, 'tree_method': 'hist'}\n",
    "\n",
    "    # define the GridSearchCV object with the parameter grid and the XGBRegressor model\n",
    "    grid_search = GridSearchCV(estimator=regressor, param_grid=param_grid, cv=5)\n",
    "    \n",
    "    print(\"FITTING TO GRID SEARCH START\")\n",
    "    # fit the GridSearchCV object on the training set\n",
    "    grid_search.fit(X_train, y_train)\n",
    "\n",
    "    # print the best hyperparameters and the corresponding mean cross-validated score\n",
    "    print(\"Best hyperparameters:\", grid_search.best_params_)\n",
    "    print(\"Best mean cross-validated score:\", grid_search.best_score_)\n",
    "    \n",
    "\n",
    "    # retrain the model on the combined training and validation sets with the best hyperparameters\n",
    "    best_regressor = XGBRegressor(**grid_search.best_params_)\n",
    "    best_regressor.fit(X_train, y_train)\n",
    "    \n",
    "    print(\"MODEL PREPARED\")\n",
    "    # evaluate the final model performance on the test set\n",
    "    test_score = best_regressor.score(X_train_val, y_train_val)\n",
    "    print(\"Test score:\", test_score)\n",
    "\n",
    "    overallPredictions = best_regressor.predict(overallDF.loc[:, feature_cols])\n",
    "    overallDF['predicted_prep_time_central'] = overallPredictions\n",
    "    \n",
    "    trainingData = overallDF.loc[(overallDF['Kitchen_Display_Time'] >= firstTimeTrain) & \\\n",
    "          (overallDF['Kitchen_Display_Time'] < lastTimeTrain)]\n",
    "    X_train = trainingData.loc[:, feature_cols]\n",
    "    y_train = trainingData.prep_time.values.tolist()\n",
    "\n",
    "    validationData = overallDF.loc[(overallDF['Kitchen_Display_Time'] >= firstTimeVal) & \\\n",
    "          (overallDF['Kitchen_Display_Time'] <= lastTimeVal)]\n",
    "\n",
    "    X_train_val = validationData.loc[:, feature_cols]\n",
    "    y_train_val = validationData.prep_time.values.tolist()\n",
    "\n",
    "    testData = overallDF.loc[(overallDF['Kitchen_Display_Time'] >= firstTimeTest) & \\\n",
    "          (overallDF['Kitchen_Display_Time'] <= lastTimeTest)]\n",
    "\n",
    "    X_test = testData.loc[:, feature_cols]\n",
    "    y_test = testData.prep_time.values.tolist()\n",
    "\n",
    "\n",
    "    print(\"ACCURACY ON Train DATA : \")\n",
    "    print(\"RMSE score: \", getRMSE(trainingData.prep_time.values.tolist(), best_regressor.predict(trainingData.loc[:, feature_cols])))\n",
    "        \n",
    "#     print(\"ACCURACY ON Validation DATA : \")\n",
    "#     print(\"RMSE score: \", getRMSE(validationData.prep_time.values.tolist(), best_regressor.predict(validationData.loc[:, feature_cols])))\n",
    "\n",
    "    print(\"ACCURACY ON Test DATA : \")\n",
    "    print(\"RMSE score: \", getRMSE(testData.prep_time.values.tolist(), best_regressor.predict(testData.loc[:, feature_cols])))\n",
    "    \n",
    "\n",
    "    "
   ]
  },
  {
   "cell_type": "code",
   "execution_count": 229,
   "id": "2f85278f",
   "metadata": {
    "ExecuteTime": {
     "end_time": "2023-03-16T23:40:16.441741Z",
     "start_time": "2023-03-16T23:40:16.159176Z"
    }
   },
   "outputs": [
    {
     "data": {
      "image/png": "[encoded data removed]",
      "text/plain": [
       "<Figure size 640x480 with 1 Axes>"
      ]
     },
     "metadata": {},
     "output_type": "display_data"
    },
    {
     "name": "stdout",
     "output_type": "stream",
     "text": [
      "0.9999999087303877\n"
     ]
    }
   ],
   "source": [
    "f = ['storeId', 'dayOfTheWeek', 'Timeslot', 'ItemType', 'countPastOrders', 'ratioOfCountOrders', 'prevAvgKPT60Minutes', 'prepAvgKPT7Days', 'hourDayWiseAvgKPT', 'Quantity', 'QueueLenght']\n",
    "pyplot.bar(f, best_regressor.feature_importances_)\n",
    "pyplot.xticks(rotation=90)\n",
    "pyplot.title(\"Feature Importance\")\n",
    "pyplot.show()\n",
    "print(sum(best_regressor.feature_importances_))"
   ]
  },
  {
   "cell_type": "code",
   "execution_count": 223,
   "id": "35642320",
   "metadata": {
    "ExecuteTime": {
     "end_time": "2023-03-16T23:31:37.175438Z",
     "start_time": "2023-03-16T23:31:32.150237Z"
    }
   },
   "outputs": [
    {
     "name": "stdout",
     "output_type": "stream",
     "text": [
      "lowest: -92.20955703371507, highest: 15.31974726673657, median: -1.2330140301211259\n"
     ]
    }
   ],
   "source": [
    "allDays = overallDF.Order_Date.unique()\n",
    "for storeId in allStoreIds:\n",
    "    df = overallDF.loc[overallDF['Location_Code'] == storeId]\n",
    "    diffs = []\n",
    "    for day in allDays:\n",
    "        df2 = df.loc[df['Order_Date'] == day]\n",
    "        timeslots = df2.feature_3.unique()\n",
    "        for ts in sorted(timeslots):\n",
    "            df3 = df2.loc[df2['feature_3'] == ts]\n",
    "            l1 = df3.prep_time.values.tolist()\n",
    "            l2 = df3.predicted_prep_time_central.values.tolist()\n",
    "            l3 = df3.hour_wise_avg_kpt_of_the_day.values.tolist()\n",
    "            rmseModel = getRMSE(l1, l2)\n",
    "            rmseBaseline = getRMSE(l1, l3)\n",
    "#             print(f\"{day} \\t {ts} \\t {rmseModel} \\t {rmseBaseline}\")\n",
    "            diffs.append(rmseModel-rmseBaseline)\n",
    "# print(sorted(diffs))\n",
    "diffs = sorted(diffs)\n",
    "print(f\"lowest: {diffs[0]}, highest: {diffs[len(diffs)-1]}, median: {diffs[len(diffs)//2]}\")\n"
   ]
  },
  {
   "cell_type": "code",
   "execution_count": 225,
   "id": "b2beb0e4",
   "metadata": {
    "ExecuteTime": {
     "end_time": "2023-03-16T23:32:06.999185Z",
     "start_time": "2023-03-16T23:32:06.020565Z"
    }
   },
   "outputs": [
    {
     "name": "stdout",
     "output_type": "stream",
     "text": [
      "Day : 2022-07-01 00:00:00, Week: 4 Model RMSE: 59.1641484510325, Baseline RMSE : 61.02938198211554\n",
      "Day : 2022-07-02 00:00:00, Week: 5 Model RMSE: 40.199141719912845, Baseline RMSE : 39.86665898587561\n",
      "Day : 2022-07-03 00:00:00, Week: 6 Model RMSE: 65.91262804520693, Baseline RMSE : 63.62060144321747\n",
      "Day : 2022-07-04 00:00:00, Week: 0 Model RMSE: 56.14462440252852, Baseline RMSE : 56.526305906367526\n",
      "Day : 2022-07-05 00:00:00, Week: 1 Model RMSE: 45.86683624547184, Baseline RMSE : 46.840527331753506\n",
      "Day : 2022-07-06 00:00:00, Week: 2 Model RMSE: 39.021882114597055, Baseline RMSE : 40.26392858440662\n",
      "Day : 2022-07-07 00:00:00, Week: 3 Model RMSE: 43.01218178892108, Baseline RMSE : 48.380554444532336\n",
      "Day : 2022-07-08 00:00:00, Week: 4 Model RMSE: 49.78428712573111, Baseline RMSE : 60.63894268759019\n",
      "Day : 2022-07-09 00:00:00, Week: 5 Model RMSE: 47.857208809529865, Baseline RMSE : 48.75788636423479\n",
      "Day : 2022-07-10 00:00:00, Week: 6 Model RMSE: 121.13755910899995, Baseline RMSE : 141.36591828080222\n",
      "Day : 2022-07-11 00:00:00, Week: 0 Model RMSE: 52.29588748688591, Baseline RMSE : 57.378069606497085\n",
      "Day : 2022-07-12 00:00:00, Week: 1 Model RMSE: 51.61958428213599, Baseline RMSE : 52.530134881695666\n",
      "Day : 2022-07-13 00:00:00, Week: 2 Model RMSE: 47.80282698889454, Baseline RMSE : 48.41077514891778\n",
      "Day : 2022-07-14 00:00:00, Week: 3 Model RMSE: 63.50812160788575, Baseline RMSE : 64.33806094729634\n",
      "Day : 2022-07-15 00:00:00, Week: 4 Model RMSE: 80.07682650660999, Baseline RMSE : 86.49064958210654\n",
      "Day : 2022-07-16 00:00:00, Week: 5 Model RMSE: 41.22863351997009, Baseline RMSE : 40.94108115918181\n",
      "Day : 2022-07-17 00:00:00, Week: 6 Model RMSE: 149.71884665908865, Baseline RMSE : 177.26128024574888\n",
      "Day : 2022-07-18 00:00:00, Week: 0 Model RMSE: 49.18391882678242, Baseline RMSE : 50.90612711518065\n",
      "Day : 2022-07-19 00:00:00, Week: 1 Model RMSE: 48.64856749281754, Baseline RMSE : 49.09185513006196\n",
      "Day : 2022-07-20 00:00:00, Week: 2 Model RMSE: 58.97977898478626, Baseline RMSE : 60.22308135162402\n",
      "Day : 2022-07-21 00:00:00, Week: 3 Model RMSE: 62.93012383860168, Baseline RMSE : 64.0884554156896\n",
      "Day : 2022-07-22 00:00:00, Week: 4 Model RMSE: 129.2623450167667, Baseline RMSE : 134.58007801555576\n",
      "Day : 2022-07-23 00:00:00, Week: 5 Model RMSE: 79.75255710033468, Baseline RMSE : 92.62509041066886\n",
      "Day : 2022-07-24 00:00:00, Week: 6 Model RMSE: 120.13565537158208, Baseline RMSE : 131.54098867632572\n",
      "Day : 2022-07-25 00:00:00, Week: 0 Model RMSE: 80.86145087017506, Baseline RMSE : 82.602361395478\n",
      "Day : 2022-07-26 00:00:00, Week: 1 Model RMSE: 125.15290330807002, Baseline RMSE : 127.43827140337288\n",
      "Day : 2022-07-27 00:00:00, Week: 2 Model RMSE: 105.49066447034039, Baseline RMSE : 113.01876047389166\n",
      "Day : 2022-07-28 00:00:00, Week: 3 Model RMSE: 80.72411900664774, Baseline RMSE : 83.880404695634\n",
      "Day : 2022-07-29 00:00:00, Week: 4 Model RMSE: 65.18849277335329, Baseline RMSE : 66.18660183629041\n",
      "Day : 2022-07-30 00:00:00, Week: 5 Model RMSE: 112.68836537421814, Baseline RMSE : 117.0772172436414\n",
      "Day : 2022-07-31 00:00:00, Week: 6 Model RMSE: 93.48865907556217, Baseline RMSE : 95.52555120665495\n",
      "Day : 2022-07-01 00:00:00, Week: 4 Model RMSE: 79.8778228898625, Baseline RMSE : 86.11038960296972\n",
      "Day : 2022-07-02 00:00:00, Week: 5 Model RMSE: 115.74572366447161, Baseline RMSE : 111.31220984955958\n",
      "Day : 2022-07-03 00:00:00, Week: 6 Model RMSE: 92.34393256791387, Baseline RMSE : 92.17155310063727\n",
      "Day : 2022-07-04 00:00:00, Week: 0 Model RMSE: 61.123668733447445, Baseline RMSE : 65.54303410713058\n",
      "Day : 2022-07-05 00:00:00, Week: 1 Model RMSE: 73.2933860434621, Baseline RMSE : 75.91328940061274\n",
      "Day : 2022-07-06 00:00:00, Week: 2 Model RMSE: 78.07016783187827, Baseline RMSE : 76.26135839655461\n",
      "Day : 2022-07-07 00:00:00, Week: 3 Model RMSE: 66.39391844005594, Baseline RMSE : 70.1041409426353\n",
      "Day : 2022-07-08 00:00:00, Week: 4 Model RMSE: 92.2318790707713, Baseline RMSE : 98.93026510304938\n",
      "Day : 2022-07-09 00:00:00, Week: 5 Model RMSE: 105.15930737726337, Baseline RMSE : 116.10878308486811\n",
      "Day : 2022-07-10 00:00:00, Week: 6 Model RMSE: 98.82252652652976, Baseline RMSE : 103.18159777312235\n",
      "Day : 2022-07-11 00:00:00, Week: 0 Model RMSE: 77.96865202422048, Baseline RMSE : 77.6956326468482\n",
      "Day : 2022-07-12 00:00:00, Week: 1 Model RMSE: 52.568071528665826, Baseline RMSE : 55.85764243796805\n",
      "Day : 2022-07-13 00:00:00, Week: 2 Model RMSE: 92.25011206290662, Baseline RMSE : 96.60959299702239\n",
      "Day : 2022-07-14 00:00:00, Week: 3 Model RMSE: 58.6202570085682, Baseline RMSE : 58.21968919935865\n",
      "Day : 2022-07-15 00:00:00, Week: 4 Model RMSE: 61.59354435721042, Baseline RMSE : 66.38241036056039\n",
      "Day : 2022-07-16 00:00:00, Week: 5 Model RMSE: 73.16174219492908, Baseline RMSE : 85.61666894891162\n",
      "Day : 2022-07-17 00:00:00, Week: 6 Model RMSE: 82.96507880441732, Baseline RMSE : 91.55547465572532\n",
      "Day : 2022-07-18 00:00:00, Week: 0 Model RMSE: 77.32225001688359, Baseline RMSE : 76.93155182571705\n",
      "Day : 2022-07-19 00:00:00, Week: 1 Model RMSE: 93.08642961740676, Baseline RMSE : 95.72052063168957\n",
      "Day : 2022-07-20 00:00:00, Week: 2 Model RMSE: 82.99805563759601, Baseline RMSE : 84.64443249729037\n",
      "Day : 2022-07-21 00:00:00, Week: 3 Model RMSE: 78.14707769088218, Baseline RMSE : 80.23871774515948\n",
      "Day : 2022-07-22 00:00:00, Week: 4 Model RMSE: 76.43501604009187, Baseline RMSE : 76.54157199997412\n",
      "Day : 2022-07-23 00:00:00, Week: 5 Model RMSE: 73.84658158111995, Baseline RMSE : 80.87443609478102\n",
      "Day : 2022-07-24 00:00:00, Week: 6 Model RMSE: 123.31178305989529, Baseline RMSE : 131.95978488097103\n",
      "Day : 2022-07-25 00:00:00, Week: 0 Model RMSE: 45.82262294871778, Baseline RMSE : 48.97409104877435\n",
      "Day : 2022-07-26 00:00:00, Week: 1 Model RMSE: 75.36703411602693, Baseline RMSE : 77.69018298254942\n",
      "Day : 2022-07-27 00:00:00, Week: 2 Model RMSE: 88.75454549815159, Baseline RMSE : 92.1613106539709\n",
      "Day : 2022-07-28 00:00:00, Week: 3 Model RMSE: 66.75088400810192, Baseline RMSE : 69.03582535245721\n",
      "Day : 2022-07-29 00:00:00, Week: 4 Model RMSE: 70.11502400631207, Baseline RMSE : 70.33621789468913\n",
      "Day : 2022-07-30 00:00:00, Week: 5 Model RMSE: 116.69722392945226, Baseline RMSE : 119.6464344400091\n",
      "Day : 2022-07-31 00:00:00, Week: 6 Model RMSE: 73.63439463188537, Baseline RMSE : 78.85060912797252\n",
      "Day : 2022-07-01 00:00:00, Week: 4 Model RMSE: 105.73013844657785, Baseline RMSE : 105.76316333203813\n",
      "Day : 2022-07-02 00:00:00, Week: 5 Model RMSE: 98.0251627968022, Baseline RMSE : 105.82432780477325\n",
      "Day : 2022-07-03 00:00:00, Week: 6 Model RMSE: 80.78791214673447, Baseline RMSE : 87.56406852482012\n",
      "Day : 2022-07-04 00:00:00, Week: 0 Model RMSE: 67.85738178375271, Baseline RMSE : 69.35374990387189\n",
      "Day : 2022-07-05 00:00:00, Week: 1 Model RMSE: 63.95246593670519, Baseline RMSE : 69.94234616465198\n",
      "Day : 2022-07-06 00:00:00, Week: 2 Model RMSE: 68.91662626823819, Baseline RMSE : 75.47807871178156\n",
      "Day : 2022-07-07 00:00:00, Week: 3 Model RMSE: 57.05558533449011, Baseline RMSE : 60.31678191880854\n",
      "Day : 2022-07-08 00:00:00, Week: 4 Model RMSE: 71.68685271036487, Baseline RMSE : 98.95153407234889\n",
      "Day : 2022-07-09 00:00:00, Week: 5 Model RMSE: 83.91056062321896, Baseline RMSE : 95.13252003617245\n",
      "Day : 2022-07-10 00:00:00, Week: 6 Model RMSE: 93.57325875839675, Baseline RMSE : 148.6701308234348\n",
      "Day : 2022-07-11 00:00:00, Week: 0 Model RMSE: 51.3754950096738, Baseline RMSE : 55.577111681692415\n",
      "Day : 2022-07-12 00:00:00, Week: 1 Model RMSE: 62.73666471665319, Baseline RMSE : 65.30020811336286\n",
      "Day : 2022-07-13 00:00:00, Week: 2 Model RMSE: 75.58999891606237, Baseline RMSE : 79.30780155608346\n",
      "Day : 2022-07-14 00:00:00, Week: 3 Model RMSE: 98.02876674494513, Baseline RMSE : 103.0569183534958\n",
      "Day : 2022-07-15 00:00:00, Week: 4 Model RMSE: 81.74288006394875, Baseline RMSE : 95.26892785092416\n",
      "Day : 2022-07-16 00:00:00, Week: 5 Model RMSE: 89.64677806113805, Baseline RMSE : 94.92828197357501\n",
      "Day : 2022-07-17 00:00:00, Week: 6 Model RMSE: 79.28639704276532, Baseline RMSE : 90.53531930264596\n",
      "Day : 2022-07-18 00:00:00, Week: 0 Model RMSE: 61.961439577726715, Baseline RMSE : 65.85415703555218\n",
      "Day : 2022-07-19 00:00:00, Week: 1 Model RMSE: 62.25086353264204, Baseline RMSE : 66.01901294424357\n",
      "Day : 2022-07-20 00:00:00, Week: 2 Model RMSE: 64.88069765520932, Baseline RMSE : 68.98482700002945\n",
      "Day : 2022-07-21 00:00:00, Week: 3 Model RMSE: 68.30703121533877, Baseline RMSE : 74.87720473608802\n",
      "Day : 2022-07-22 00:00:00, Week: 4 Model RMSE: 118.24453056421298, Baseline RMSE : 138.58796639310313\n",
      "Day : 2022-07-23 00:00:00, Week: 5 Model RMSE: 89.42843188433464, Baseline RMSE : 87.78331632724664\n"
     ]
    },
    {
     "name": "stdout",
     "output_type": "stream",
     "text": [
      "Day : 2022-07-24 00:00:00, Week: 6 Model RMSE: 95.58475797982348, Baseline RMSE : 95.58892675797631\n",
      "Day : 2022-07-25 00:00:00, Week: 0 Model RMSE: 57.86327233726328, Baseline RMSE : 58.2390781032086\n",
      "Day : 2022-07-26 00:00:00, Week: 1 Model RMSE: 62.306915419055976, Baseline RMSE : 63.03857163205298\n",
      "Day : 2022-07-27 00:00:00, Week: 2 Model RMSE: 71.72365395593194, Baseline RMSE : 75.57943782682\n",
      "Day : 2022-07-28 00:00:00, Week: 3 Model RMSE: 104.51738107319066, Baseline RMSE : 106.8983582290553\n",
      "Day : 2022-07-29 00:00:00, Week: 4 Model RMSE: 83.71050067469353, Baseline RMSE : 81.26211257749041\n",
      "Day : 2022-07-30 00:00:00, Week: 5 Model RMSE: 78.82933274694463, Baseline RMSE : 93.51723820911648\n",
      "Day : 2022-07-31 00:00:00, Week: 6 Model RMSE: 168.5358516825403, Baseline RMSE : 191.5663456760001\n",
      "Day : 2022-07-01 00:00:00, Week: 4 Model RMSE: 95.33598768958434, Baseline RMSE : 96.35248024035832\n",
      "Day : 2022-07-02 00:00:00, Week: 5 Model RMSE: 109.47998837879538, Baseline RMSE : 122.98602566517938\n",
      "Day : 2022-07-03 00:00:00, Week: 6 Model RMSE: 99.78140880296031, Baseline RMSE : 133.18354801432176\n",
      "Day : 2022-07-04 00:00:00, Week: 0 Model RMSE: 99.2519546710607, Baseline RMSE : 101.19602239346355\n",
      "Day : 2022-07-05 00:00:00, Week: 1 Model RMSE: 133.43435290512545, Baseline RMSE : 158.41654281256172\n",
      "Day : 2022-07-06 00:00:00, Week: 2 Model RMSE: 81.85118479264625, Baseline RMSE : 86.48966446921979\n",
      "Day : 2022-07-07 00:00:00, Week: 3 Model RMSE: 68.1006949682331, Baseline RMSE : 74.72011551024119\n",
      "Day : 2022-07-08 00:00:00, Week: 4 Model RMSE: 115.38919362287432, Baseline RMSE : 146.36566568786054\n",
      "Day : 2022-07-09 00:00:00, Week: 5 Model RMSE: 89.42138525462855, Baseline RMSE : 116.88741116529926\n",
      "Day : 2022-07-10 00:00:00, Week: 6 Model RMSE: 97.8183451062608, Baseline RMSE : 168.10065709936103\n",
      "Day : 2022-07-11 00:00:00, Week: 0 Model RMSE: 94.34755167148886, Baseline RMSE : 105.28254680691035\n",
      "Day : 2022-07-12 00:00:00, Week: 1 Model RMSE: 99.33973267495332, Baseline RMSE : 130.5855513795444\n",
      "Day : 2022-07-13 00:00:00, Week: 2 Model RMSE: 81.33985546730777, Baseline RMSE : 93.81574233114762\n",
      "Day : 2022-07-14 00:00:00, Week: 3 Model RMSE: 111.13852991095628, Baseline RMSE : 118.7750635503453\n",
      "Day : 2022-07-15 00:00:00, Week: 4 Model RMSE: 89.39932598242329, Baseline RMSE : 92.77191073805805\n",
      "Day : 2022-07-16 00:00:00, Week: 5 Model RMSE: 116.02302538480289, Baseline RMSE : 133.6287255122935\n",
      "Day : 2022-07-17 00:00:00, Week: 6 Model RMSE: 128.4200839324506, Baseline RMSE : 162.420058246311\n",
      "Day : 2022-07-18 00:00:00, Week: 0 Model RMSE: 83.7161811821354, Baseline RMSE : 91.28240072805549\n",
      "Day : 2022-07-19 00:00:00, Week: 1 Model RMSE: 111.04119790843563, Baseline RMSE : 123.36750330173795\n",
      "Day : 2022-07-20 00:00:00, Week: 2 Model RMSE: 92.67965061768894, Baseline RMSE : 103.55763339132636\n",
      "Day : 2022-07-21 00:00:00, Week: 3 Model RMSE: 96.88821395552662, Baseline RMSE : 106.29691190917501\n",
      "Day : 2022-07-22 00:00:00, Week: 4 Model RMSE: 166.424577813086, Baseline RMSE : 176.53957760151653\n",
      "Day : 2022-07-23 00:00:00, Week: 5 Model RMSE: 139.7673103228922, Baseline RMSE : 151.1751717926767\n",
      "Day : 2022-07-24 00:00:00, Week: 6 Model RMSE: 151.80439905859993, Baseline RMSE : 162.99554424213036\n",
      "Day : 2022-07-25 00:00:00, Week: 0 Model RMSE: 85.85632286760539, Baseline RMSE : 90.15215081860279\n",
      "Day : 2022-07-26 00:00:00, Week: 1 Model RMSE: 140.70754912675184, Baseline RMSE : 138.17604901667687\n",
      "Day : 2022-07-27 00:00:00, Week: 2 Model RMSE: 102.96803650566461, Baseline RMSE : 106.87763244815886\n",
      "Day : 2022-07-28 00:00:00, Week: 3 Model RMSE: 82.2751826501498, Baseline RMSE : 83.3203921907165\n",
      "Day : 2022-07-29 00:00:00, Week: 4 Model RMSE: 136.31554822629636, Baseline RMSE : 139.0748072224794\n",
      "Day : 2022-07-30 00:00:00, Week: 5 Model RMSE: 143.21949363855043, Baseline RMSE : 143.1481597343633\n",
      "Day : 2022-07-31 00:00:00, Week: 6 Model RMSE: 142.19388073341685, Baseline RMSE : 156.00039648205467\n",
      "Day : 2022-07-01 00:00:00, Week: 4 Model RMSE: 80.83824598459152, Baseline RMSE : 78.7850023603751\n",
      "Day : 2022-07-02 00:00:00, Week: 5 Model RMSE: 102.80067630417983, Baseline RMSE : 130.07326925787046\n",
      "Day : 2022-07-03 00:00:00, Week: 6 Model RMSE: 66.68761560484235, Baseline RMSE : 71.53734543133484\n",
      "Day : 2022-07-04 00:00:00, Week: 0 Model RMSE: 80.92877066696917, Baseline RMSE : 79.65214171601632\n",
      "Day : 2022-07-05 00:00:00, Week: 1 Model RMSE: 72.2054472278148, Baseline RMSE : 74.00500104522258\n",
      "Day : 2022-07-06 00:00:00, Week: 2 Model RMSE: 79.92901240622908, Baseline RMSE : 82.84547758956566\n",
      "Day : 2022-07-07 00:00:00, Week: 3 Model RMSE: 70.81575675178541, Baseline RMSE : 80.21836021969366\n",
      "Day : 2022-07-08 00:00:00, Week: 4 Model RMSE: 87.2029090744407, Baseline RMSE : 94.67226947318095\n",
      "Day : 2022-07-09 00:00:00, Week: 5 Model RMSE: 60.68062941408256, Baseline RMSE : 129.16115225093\n",
      "Day : 2022-07-10 00:00:00, Week: 6 Model RMSE: 64.52723563863375, Baseline RMSE : 72.70396704111502\n",
      "Day : 2022-07-11 00:00:00, Week: 0 Model RMSE: 108.55345538903532, Baseline RMSE : 102.38026784678425\n",
      "Day : 2022-07-12 00:00:00, Week: 1 Model RMSE: 96.0592531445377, Baseline RMSE : 104.16372854573143\n",
      "Day : 2022-07-13 00:00:00, Week: 2 Model RMSE: 99.92900817857179, Baseline RMSE : 102.30640742751173\n",
      "Day : 2022-07-14 00:00:00, Week: 3 Model RMSE: 75.32350407515071, Baseline RMSE : 82.79014533222143\n",
      "Day : 2022-07-15 00:00:00, Week: 4 Model RMSE: 83.27449267854034, Baseline RMSE : 87.64914054554369\n",
      "Day : 2022-07-16 00:00:00, Week: 5 Model RMSE: 58.21604167931042, Baseline RMSE : 92.85535733980862\n",
      "Day : 2022-07-17 00:00:00, Week: 6 Model RMSE: 73.75664557816819, Baseline RMSE : 75.47545040351444\n",
      "Day : 2022-07-18 00:00:00, Week: 0 Model RMSE: 68.68880252447603, Baseline RMSE : 99.8243862202887\n",
      "Day : 2022-07-19 00:00:00, Week: 1 Model RMSE: 70.95672551939258, Baseline RMSE : 85.36215129892064\n",
      "Day : 2022-07-20 00:00:00, Week: 2 Model RMSE: 69.93684022819298, Baseline RMSE : 78.13509849843614\n",
      "Day : 2022-07-21 00:00:00, Week: 3 Model RMSE: 94.09117906087924, Baseline RMSE : 96.80835283762913\n",
      "Day : 2022-07-22 00:00:00, Week: 4 Model RMSE: 74.55094662821804, Baseline RMSE : 81.87270367399171\n",
      "Day : 2022-07-23 00:00:00, Week: 5 Model RMSE: 97.00076469159552, Baseline RMSE : 101.45011609267866\n",
      "Day : 2022-07-24 00:00:00, Week: 6 Model RMSE: 80.48868634912394, Baseline RMSE : 86.12338205815846\n",
      "Day : 2022-07-25 00:00:00, Week: 0 Model RMSE: 54.14156541315511, Baseline RMSE : 68.6089803379363\n",
      "Day : 2022-07-26 00:00:00, Week: 1 Model RMSE: 62.032055261540116, Baseline RMSE : 64.763304246937\n",
      "Day : 2022-07-27 00:00:00, Week: 2 Model RMSE: 70.00637893187115, Baseline RMSE : 71.3514163788145\n",
      "Day : 2022-07-28 00:00:00, Week: 3 Model RMSE: 70.98684880752636, Baseline RMSE : 79.53278070360604\n",
      "Day : 2022-07-29 00:00:00, Week: 4 Model RMSE: 66.24913143025492, Baseline RMSE : 69.6043570812517\n",
      "Day : 2022-07-30 00:00:00, Week: 5 Model RMSE: 74.77679273785606, Baseline RMSE : 88.10186057393351\n",
      "Day : 2022-07-31 00:00:00, Week: 6 Model RMSE: 109.31915490591872, Baseline RMSE : 121.39223658912312\n",
      "Day : 2022-07-01 00:00:00, Week: 4 Model RMSE: 20.458346677684833, Baseline RMSE : 21.107963234955278\n",
      "Day : 2022-07-02 00:00:00, Week: 5 Model RMSE: 42.556013872933455, Baseline RMSE : 43.53212490302291\n",
      "Day : 2022-07-03 00:00:00, Week: 6 Model RMSE: 25.45565505226652, Baseline RMSE : 26.25737426198246\n",
      "Day : 2022-07-04 00:00:00, Week: 0 Model RMSE: 30.42656301100108, Baseline RMSE : 30.436890299795955\n",
      "Day : 2022-07-05 00:00:00, Week: 1 Model RMSE: 22.507983655016854, Baseline RMSE : 22.484024905988385\n",
      "Day : 2022-07-06 00:00:00, Week: 2 Model RMSE: 27.173943390617705, Baseline RMSE : 27.561527016278017\n",
      "Day : 2022-07-07 00:00:00, Week: 3 Model RMSE: 23.152677929927147, Baseline RMSE : 23.87612603420709\n",
      "Day : 2022-07-08 00:00:00, Week: 4 Model RMSE: 19.853148450109124, Baseline RMSE : 20.188287938042663\n",
      "Day : 2022-07-09 00:00:00, Week: 5 Model RMSE: 23.759495358177855, Baseline RMSE : 26.39547652484611\n",
      "Day : 2022-07-10 00:00:00, Week: 6 Model RMSE: 36.049159114635174, Baseline RMSE : 38.78833560413396\n",
      "Day : 2022-07-11 00:00:00, Week: 0 Model RMSE: 52.31928516946951, Baseline RMSE : 58.14577418369222\n",
      "Day : 2022-07-12 00:00:00, Week: 1 Model RMSE: 19.771697362150086, Baseline RMSE : 20.40271538432212\n",
      "Day : 2022-07-13 00:00:00, Week: 2 Model RMSE: 45.88873933006945, Baseline RMSE : 45.714481359099025\n",
      "Day : 2022-07-14 00:00:00, Week: 3 Model RMSE: 29.97788579757403, Baseline RMSE : 30.038676544423396\n",
      "Day : 2022-07-15 00:00:00, Week: 4 Model RMSE: 23.355100599910752, Baseline RMSE : 23.760417580845537\n",
      "Day : 2022-07-16 00:00:00, Week: 5 Model RMSE: 21.68527773385719, Baseline RMSE : 23.106169769096354\n",
      "Day : 2022-07-17 00:00:00, Week: 6 Model RMSE: 31.443845396136265, Baseline RMSE : 30.91428709145731\n",
      "Day : 2022-07-18 00:00:00, Week: 0 Model RMSE: 23.050172590495418, Baseline RMSE : 24.392274400356886\n",
      "Day : 2022-07-19 00:00:00, Week: 1 Model RMSE: 18.38419641132079, Baseline RMSE : 17.976423759266638\n",
      "Day : 2022-07-20 00:00:00, Week: 2 Model RMSE: 20.139537301887913, Baseline RMSE : 23.52069220672536\n",
      "Day : 2022-07-21 00:00:00, Week: 3 Model RMSE: 25.980546385261075, Baseline RMSE : 26.240463074430675\n",
      "Day : 2022-07-22 00:00:00, Week: 4 Model RMSE: 66.71777514723264, Baseline RMSE : 72.01878204207354\n",
      "Day : 2022-07-23 00:00:00, Week: 5 Model RMSE: 30.976944063032196, Baseline RMSE : 30.034342568481673\n",
      "Day : 2022-07-24 00:00:00, Week: 6 Model RMSE: 28.76095482015017, Baseline RMSE : 27.95255389170843\n",
      "Day : 2022-07-25 00:00:00, Week: 0 Model RMSE: 24.252121481159286, Baseline RMSE : 26.519163202175474\n",
      "Day : 2022-07-26 00:00:00, Week: 1 Model RMSE: 28.003972867253225, Baseline RMSE : 27.71529273522974\n",
      "Day : 2022-07-27 00:00:00, Week: 2 Model RMSE: 21.65751374572525, Baseline RMSE : 22.112306630128323\n",
      "Day : 2022-07-28 00:00:00, Week: 3 Model RMSE: 25.362747458429084, Baseline RMSE : 25.442247762985776\n",
      "Day : 2022-07-29 00:00:00, Week: 4 Model RMSE: 21.161000676136233, Baseline RMSE : 22.983506190609077\n",
      "Day : 2022-07-30 00:00:00, Week: 5 Model RMSE: 22.371006342579133, Baseline RMSE : 22.627255718872668\n",
      "Day : 2022-07-31 00:00:00, Week: 6 Model RMSE: 30.479895919608616, Baseline RMSE : 30.912473459946963\n",
      "Day : 2022-07-01 00:00:00, Week: 4 Model RMSE: 114.27753870507306, Baseline RMSE : 118.17896465728249\n",
      "Day : 2022-07-02 00:00:00, Week: 5 Model RMSE: 96.53565161859586, Baseline RMSE : 122.03150761271817\n",
      "Day : 2022-07-03 00:00:00, Week: 6 Model RMSE: 108.35757000245708, Baseline RMSE : 131.38629575494937\n",
      "Day : 2022-07-04 00:00:00, Week: 0 Model RMSE: 97.3234963950943, Baseline RMSE : 112.1928683931953\n",
      "Day : 2022-07-05 00:00:00, Week: 1 Model RMSE: 82.97004775147556, Baseline RMSE : 91.07261616490113\n",
      "Day : 2022-07-06 00:00:00, Week: 2 Model RMSE: 106.79077439363161, Baseline RMSE : 114.11141539944748\n",
      "Day : 2022-07-07 00:00:00, Week: 3 Model RMSE: 61.182957570055926, Baseline RMSE : 64.61629267334006\n",
      "Day : 2022-07-08 00:00:00, Week: 4 Model RMSE: 73.1028710091166, Baseline RMSE : 92.44265638925046\n",
      "Day : 2022-07-09 00:00:00, Week: 5 Model RMSE: 115.88411994355441, Baseline RMSE : 129.7653032833931\n",
      "Day : 2022-07-10 00:00:00, Week: 6 Model RMSE: 97.78025711213704, Baseline RMSE : 113.33721223486974\n",
      "Day : 2022-07-11 00:00:00, Week: 0 Model RMSE: 72.06150181796802, Baseline RMSE : 91.7684141946165\n",
      "Day : 2022-07-12 00:00:00, Week: 1 Model RMSE: 110.73033815742598, Baseline RMSE : 116.93836400628743\n",
      "Day : 2022-07-13 00:00:00, Week: 2 Model RMSE: 101.4093130153601, Baseline RMSE : 112.76701288495872\n",
      "Day : 2022-07-14 00:00:00, Week: 3 Model RMSE: 64.91969190397333, Baseline RMSE : 66.07724120746633\n",
      "Day : 2022-07-15 00:00:00, Week: 4 Model RMSE: 75.4347640010847, Baseline RMSE : 92.93899121411832\n",
      "Day : 2022-07-16 00:00:00, Week: 5 Model RMSE: 87.98855491510801, Baseline RMSE : 99.24852810093208\n",
      "Day : 2022-07-17 00:00:00, Week: 6 Model RMSE: 87.31385761910943, Baseline RMSE : 116.38934502821553\n",
      "Day : 2022-07-18 00:00:00, Week: 0 Model RMSE: 63.674868041723215, Baseline RMSE : 82.23746340236595\n",
      "Day : 2022-07-19 00:00:00, Week: 1 Model RMSE: 75.9924476665935, Baseline RMSE : 81.00791429556683\n",
      "Day : 2022-07-20 00:00:00, Week: 2 Model RMSE: 91.88164035779853, Baseline RMSE : 107.95273286925226\n",
      "Day : 2022-07-21 00:00:00, Week: 3 Model RMSE: 51.18586090877344, Baseline RMSE : 50.02315949673354\n",
      "Day : 2022-07-22 00:00:00, Week: 4 Model RMSE: 138.29942591193395, Baseline RMSE : 143.1676784973119\n",
      "Day : 2022-07-23 00:00:00, Week: 5 Model RMSE: 79.76999041367074, Baseline RMSE : 84.7924945585193\n",
      "Day : 2022-07-24 00:00:00, Week: 6 Model RMSE: 150.0753725421028, Baseline RMSE : 132.0692738152442\n",
      "Day : 2022-07-25 00:00:00, Week: 0 Model RMSE: 61.96012228467313, Baseline RMSE : 67.5770066884427\n",
      "Day : 2022-07-26 00:00:00, Week: 1 Model RMSE: 88.72364382772146, Baseline RMSE : 87.8142026372781\n",
      "Day : 2022-07-27 00:00:00, Week: 2 Model RMSE: 69.19829941039066, Baseline RMSE : 78.8091233575772\n",
      "Day : 2022-07-28 00:00:00, Week: 3 Model RMSE: 72.20971202131571, Baseline RMSE : 77.7110804079755\n",
      "Day : 2022-07-29 00:00:00, Week: 4 Model RMSE: 81.55739087166091, Baseline RMSE : 85.1983954380469\n",
      "Day : 2022-07-30 00:00:00, Week: 5 Model RMSE: 89.03185193258179, Baseline RMSE : 77.12211711984301\n",
      "Day : 2022-07-31 00:00:00, Week: 6 Model RMSE: 131.05021298656789, Baseline RMSE : 104.88497159679306\n",
      "Day : 2022-07-01 00:00:00, Week: 4 Model RMSE: 71.8061621787833, Baseline RMSE : 68.37907158946044\n",
      "Day : 2022-07-02 00:00:00, Week: 5 Model RMSE: 47.522931962128425, Baseline RMSE : 47.39485669572838\n",
      "Day : 2022-07-03 00:00:00, Week: 6 Model RMSE: 61.80599153681881, Baseline RMSE : 65.08524281162295\n",
      "Day : 2022-07-04 00:00:00, Week: 0 Model RMSE: 38.32584969302692, Baseline RMSE : 39.203305331405495\n",
      "Day : 2022-07-05 00:00:00, Week: 1 Model RMSE: 75.85962784732405, Baseline RMSE : 72.51379252070474\n",
      "Day : 2022-07-06 00:00:00, Week: 2 Model RMSE: 43.58549031065915, Baseline RMSE : 47.63347884297505\n",
      "Day : 2022-07-07 00:00:00, Week: 3 Model RMSE: 48.87153661773544, Baseline RMSE : 49.1146676101335\n",
      "Day : 2022-07-08 00:00:00, Week: 4 Model RMSE: 49.70514792505727, Baseline RMSE : 62.31497851142257\n",
      "Day : 2022-07-09 00:00:00, Week: 5 Model RMSE: 49.67436520652613, Baseline RMSE : 51.148403007515434\n",
      "Day : 2022-07-10 00:00:00, Week: 6 Model RMSE: 67.70234212208537, Baseline RMSE : 70.39955306631512\n",
      "Day : 2022-07-11 00:00:00, Week: 0 Model RMSE: 43.578816847318514, Baseline RMSE : 46.71285090778149\n",
      "Day : 2022-07-12 00:00:00, Week: 1 Model RMSE: 69.60334885498337, Baseline RMSE : 75.82614259110113\n",
      "Day : 2022-07-13 00:00:00, Week: 2 Model RMSE: 34.60658792621534, Baseline RMSE : 38.10241405093239\n",
      "Day : 2022-07-14 00:00:00, Week: 3 Model RMSE: 64.43079821338826, Baseline RMSE : 71.63917367956532\n",
      "Day : 2022-07-15 00:00:00, Week: 4 Model RMSE: 63.328430074163045, Baseline RMSE : 67.37390944560634\n",
      "Day : 2022-07-16 00:00:00, Week: 5 Model RMSE: 88.6504728074966, Baseline RMSE : 95.46430095794285\n",
      "Day : 2022-07-17 00:00:00, Week: 6 Model RMSE: 48.96649213878549, Baseline RMSE : 49.55218233648334\n",
      "Day : 2022-07-18 00:00:00, Week: 0 Model RMSE: 36.158597010544725, Baseline RMSE : 39.63817097086296\n",
      "Day : 2022-07-19 00:00:00, Week: 1 Model RMSE: 89.4061720436256, Baseline RMSE : 91.6821144046421\n",
      "Day : 2022-07-20 00:00:00, Week: 2 Model RMSE: 60.35852583219428, Baseline RMSE : 59.98870902055227\n",
      "Day : 2022-07-21 00:00:00, Week: 3 Model RMSE: 46.91971881769724, Baseline RMSE : 47.7168146683508\n",
      "Day : 2022-07-22 00:00:00, Week: 4 Model RMSE: 133.88470223410982, Baseline RMSE : 142.4413846485835\n",
      "Day : 2022-07-23 00:00:00, Week: 5 Model RMSE: 92.02480275254075, Baseline RMSE : 91.479789459404\n",
      "Day : 2022-07-24 00:00:00, Week: 6 Model RMSE: 92.2242671162556, Baseline RMSE : 99.05390544506581\n",
      "Day : 2022-07-25 00:00:00, Week: 0 Model RMSE: 57.35646517001291, Baseline RMSE : 57.39711372970119\n",
      "Day : 2022-07-26 00:00:00, Week: 1 Model RMSE: 75.91469004685474, Baseline RMSE : 77.23126260327379\n",
      "Day : 2022-07-27 00:00:00, Week: 2 Model RMSE: 41.76395101385591, Baseline RMSE : 43.30957730712731\n",
      "Day : 2022-07-28 00:00:00, Week: 3 Model RMSE: 46.20480446289995, Baseline RMSE : 46.12311460845081\n",
      "Day : 2022-07-29 00:00:00, Week: 4 Model RMSE: 67.47640688003203, Baseline RMSE : 73.82995017894635\n",
      "Day : 2022-07-30 00:00:00, Week: 5 Model RMSE: 60.0990250841463, Baseline RMSE : 61.61826041038023\n",
      "Day : 2022-07-31 00:00:00, Week: 6 Model RMSE: 56.94833258236606, Baseline RMSE : 57.3002846383985\n",
      "Day : 2022-07-01 00:00:00, Week: 4 Model RMSE: 49.04739280163361, Baseline RMSE : 50.26048251417152\n",
      "Day : 2022-07-02 00:00:00, Week: 5 Model RMSE: 78.54793377662173, Baseline RMSE : 79.40650729140165\n",
      "Day : 2022-07-03 00:00:00, Week: 6 Model RMSE: 73.40141287322804, Baseline RMSE : 74.3637906864874\n",
      "Day : 2022-07-04 00:00:00, Week: 0 Model RMSE: 41.81453381002128, Baseline RMSE : 43.26778169319388\n",
      "Day : 2022-07-05 00:00:00, Week: 1 Model RMSE: 80.06403486242921, Baseline RMSE : 81.81447934310667\n",
      "Day : 2022-07-06 00:00:00, Week: 2 Model RMSE: 51.759753456074236, Baseline RMSE : 52.76219468419126\n",
      "Day : 2022-07-07 00:00:00, Week: 3 Model RMSE: 71.50072171962725, Baseline RMSE : 71.28515716586367\n",
      "Day : 2022-07-08 00:00:00, Week: 4 Model RMSE: 42.67991913014785, Baseline RMSE : 43.95474530309496\n",
      "Day : 2022-07-09 00:00:00, Week: 5 Model RMSE: 67.30836219426043, Baseline RMSE : 70.23482894499688\n"
     ]
    },
    {
     "name": "stdout",
     "output_type": "stream",
     "text": [
      "Day : 2022-07-10 00:00:00, Week: 6 Model RMSE: 103.78373271654691, Baseline RMSE : 110.45527290241523\n",
      "Day : 2022-07-11 00:00:00, Week: 0 Model RMSE: 56.106006532285704, Baseline RMSE : 56.920336527664055\n",
      "Day : 2022-07-12 00:00:00, Week: 1 Model RMSE: 42.825724348700795, Baseline RMSE : 50.91970241468722\n",
      "Day : 2022-07-13 00:00:00, Week: 2 Model RMSE: 43.77694076552019, Baseline RMSE : 45.81715643510774\n",
      "Day : 2022-07-14 00:00:00, Week: 3 Model RMSE: 45.49861549968141, Baseline RMSE : 49.2216620909157\n",
      "Day : 2022-07-15 00:00:00, Week: 4 Model RMSE: 38.65756480096624, Baseline RMSE : 39.052349771760596\n",
      "Day : 2022-07-16 00:00:00, Week: 5 Model RMSE: 61.192780726485026, Baseline RMSE : 63.05687172493639\n",
      "Day : 2022-07-17 00:00:00, Week: 6 Model RMSE: 82.13211976232694, Baseline RMSE : 85.87696937781364\n",
      "Day : 2022-07-18 00:00:00, Week: 0 Model RMSE: 36.3384244873514, Baseline RMSE : 36.89744374838942\n",
      "Day : 2022-07-19 00:00:00, Week: 1 Model RMSE: 43.3642924447858, Baseline RMSE : 48.944696617640695\n",
      "Day : 2022-07-20 00:00:00, Week: 2 Model RMSE: 34.11040931357443, Baseline RMSE : 35.61715151440031\n",
      "Day : 2022-07-21 00:00:00, Week: 3 Model RMSE: 42.408337978747824, Baseline RMSE : 44.20516969085022\n",
      "Day : 2022-07-22 00:00:00, Week: 4 Model RMSE: 40.031436829319496, Baseline RMSE : 39.47657626513807\n",
      "Day : 2022-07-23 00:00:00, Week: 5 Model RMSE: 54.59494320927164, Baseline RMSE : 55.918601192153126\n",
      "Day : 2022-07-24 00:00:00, Week: 6 Model RMSE: 115.57686696971528, Baseline RMSE : 120.61800478228959\n",
      "Day : 2022-07-25 00:00:00, Week: 0 Model RMSE: 46.6575010194161, Baseline RMSE : 50.04943220679417\n",
      "Day : 2022-07-26 00:00:00, Week: 1 Model RMSE: 43.1679234408682, Baseline RMSE : 45.17286822794862\n",
      "Day : 2022-07-27 00:00:00, Week: 2 Model RMSE: 85.60474433480763, Baseline RMSE : 86.98406028222843\n",
      "Day : 2022-07-28 00:00:00, Week: 3 Model RMSE: 37.972665344238806, Baseline RMSE : 38.36540119687522\n",
      "Day : 2022-07-29 00:00:00, Week: 4 Model RMSE: 54.88313852469642, Baseline RMSE : 54.83385554183842\n",
      "Day : 2022-07-30 00:00:00, Week: 5 Model RMSE: 87.50277498298469, Baseline RMSE : 89.20965829585104\n",
      "Day : 2022-07-31 00:00:00, Week: 6 Model RMSE: 84.94185159227415, Baseline RMSE : 85.0989452284585\n",
      "Day : 2022-07-01 00:00:00, Week: 4 Model RMSE: 48.2571213862574, Baseline RMSE : 60.10876526419211\n",
      "Day : 2022-07-02 00:00:00, Week: 5 Model RMSE: 40.78100658092983, Baseline RMSE : 41.267920953735924\n",
      "Day : 2022-07-03 00:00:00, Week: 6 Model RMSE: 50.301344420385206, Baseline RMSE : 48.27248234795184\n",
      "Day : 2022-07-04 00:00:00, Week: 0 Model RMSE: 33.7105950525513, Baseline RMSE : 35.885708552319386\n",
      "Day : 2022-07-05 00:00:00, Week: 1 Model RMSE: 55.942061407273755, Baseline RMSE : 56.31772493982196\n",
      "Day : 2022-07-06 00:00:00, Week: 2 Model RMSE: 81.14929278627666, Baseline RMSE : 83.39453060519673\n",
      "Day : 2022-07-07 00:00:00, Week: 3 Model RMSE: 60.981600711774604, Baseline RMSE : 60.225694587006736\n",
      "Day : 2022-07-08 00:00:00, Week: 4 Model RMSE: 37.7863657441855, Baseline RMSE : 44.259952565525964\n",
      "Day : 2022-07-09 00:00:00, Week: 5 Model RMSE: 63.216882645944196, Baseline RMSE : 65.3559145807295\n",
      "Day : 2022-07-10 00:00:00, Week: 6 Model RMSE: 37.682210399001676, Baseline RMSE : 40.97117205251369\n",
      "Day : 2022-07-11 00:00:00, Week: 0 Model RMSE: 40.403330628488106, Baseline RMSE : 38.79795642669784\n",
      "Day : 2022-07-12 00:00:00, Week: 1 Model RMSE: 60.7657074941294, Baseline RMSE : 82.07104656782788\n",
      "Day : 2022-07-13 00:00:00, Week: 2 Model RMSE: 39.62474834765507, Baseline RMSE : 47.1186074625079\n",
      "Day : 2022-07-14 00:00:00, Week: 3 Model RMSE: 49.77427791120682, Baseline RMSE : 55.76941246302874\n",
      "Day : 2022-07-15 00:00:00, Week: 4 Model RMSE: 23.826120944450295, Baseline RMSE : 24.632349270508602\n",
      "Day : 2022-07-16 00:00:00, Week: 5 Model RMSE: 33.678972723822966, Baseline RMSE : 34.75327570446807\n",
      "Day : 2022-07-17 00:00:00, Week: 6 Model RMSE: 35.13652666267823, Baseline RMSE : 37.1800016696694\n",
      "Day : 2022-07-18 00:00:00, Week: 0 Model RMSE: 59.87923513914814, Baseline RMSE : 57.45005691001485\n",
      "Day : 2022-07-19 00:00:00, Week: 1 Model RMSE: 67.45145579867815, Baseline RMSE : 65.77695815217047\n",
      "Day : 2022-07-20 00:00:00, Week: 2 Model RMSE: 44.30695684869934, Baseline RMSE : 48.08622801347635\n",
      "Day : 2022-07-21 00:00:00, Week: 3 Model RMSE: 46.625727449466105, Baseline RMSE : 47.69342671456789\n",
      "Day : 2022-07-22 00:00:00, Week: 4 Model RMSE: 116.5111884734232, Baseline RMSE : 118.01084399812177\n",
      "Day : 2022-07-23 00:00:00, Week: 5 Model RMSE: 68.70657202633117, Baseline RMSE : 70.1739216254064\n",
      "Day : 2022-07-24 00:00:00, Week: 6 Model RMSE: 49.465817060231046, Baseline RMSE : 47.02815335560049\n",
      "Day : 2022-07-25 00:00:00, Week: 0 Model RMSE: 37.27512300021915, Baseline RMSE : 40.95634819515911\n",
      "Day : 2022-07-26 00:00:00, Week: 1 Model RMSE: 57.10799125038958, Baseline RMSE : 54.769296110708346\n",
      "Day : 2022-07-27 00:00:00, Week: 2 Model RMSE: 89.95944354914623, Baseline RMSE : 86.63086305433119\n",
      "Day : 2022-07-28 00:00:00, Week: 3 Model RMSE: 65.76010050011591, Baseline RMSE : 68.87945538865475\n",
      "Day : 2022-07-29 00:00:00, Week: 4 Model RMSE: 44.01148454473252, Baseline RMSE : 45.023939606535286\n",
      "Day : 2022-07-30 00:00:00, Week: 5 Model RMSE: 38.47435272241159, Baseline RMSE : 42.80722875983638\n",
      "Day : 2022-07-31 00:00:00, Week: 6 Model RMSE: 28.449599632061194, Baseline RMSE : 29.801196858927288\n",
      "Day : 2022-07-01 00:00:00, Week: 4 Model RMSE: 52.700035231604915, Baseline RMSE : 49.67963238069584\n",
      "Day : 2022-07-02 00:00:00, Week: 5 Model RMSE: 44.559655887911, Baseline RMSE : 48.116468131436406\n",
      "Day : 2022-07-03 00:00:00, Week: 6 Model RMSE: 51.285018640023516, Baseline RMSE : 49.91941464802359\n",
      "Day : 2022-07-04 00:00:00, Week: 0 Model RMSE: 41.962128742834345, Baseline RMSE : 41.86097061866532\n",
      "Day : 2022-07-05 00:00:00, Week: 1 Model RMSE: 42.64497213652156, Baseline RMSE : 44.881116229402465\n",
      "Day : 2022-07-06 00:00:00, Week: 2 Model RMSE: 43.40078875846534, Baseline RMSE : 46.63167721401806\n",
      "Day : 2022-07-07 00:00:00, Week: 3 Model RMSE: 50.14254911300605, Baseline RMSE : 52.83998535359643\n",
      "Day : 2022-07-08 00:00:00, Week: 4 Model RMSE: 51.81357018569483, Baseline RMSE : 54.0555475426891\n",
      "Day : 2022-07-09 00:00:00, Week: 5 Model RMSE: 65.40796480748975, Baseline RMSE : 69.62829608406726\n",
      "Day : 2022-07-10 00:00:00, Week: 6 Model RMSE: 112.9087907125832, Baseline RMSE : 202.44865153539618\n",
      "Day : 2022-07-11 00:00:00, Week: 0 Model RMSE: 73.99569910171232, Baseline RMSE : 73.85375961225299\n",
      "Day : 2022-07-12 00:00:00, Week: 1 Model RMSE: 54.95285046478043, Baseline RMSE : 62.08457220149191\n",
      "Day : 2022-07-13 00:00:00, Week: 2 Model RMSE: 75.99717613479874, Baseline RMSE : 74.22620936825187\n",
      "Day : 2022-07-14 00:00:00, Week: 3 Model RMSE: 39.062867025624854, Baseline RMSE : 40.79790242115257\n",
      "Day : 2022-07-15 00:00:00, Week: 4 Model RMSE: 69.63536733952564, Baseline RMSE : 73.9357355347904\n",
      "Day : 2022-07-16 00:00:00, Week: 5 Model RMSE: 70.13514987079289, Baseline RMSE : 75.65990228370838\n",
      "Day : 2022-07-17 00:00:00, Week: 6 Model RMSE: 91.66310584088352, Baseline RMSE : 153.77085432946083\n",
      "Day : 2022-07-18 00:00:00, Week: 0 Model RMSE: 35.5299192241518, Baseline RMSE : 42.62431921558704\n",
      "Day : 2022-07-19 00:00:00, Week: 1 Model RMSE: 41.812609006069685, Baseline RMSE : 44.76696829926602\n",
      "Day : 2022-07-20 00:00:00, Week: 2 Model RMSE: 88.91000935020081, Baseline RMSE : 99.66351882058343\n",
      "Day : 2022-07-21 00:00:00, Week: 3 Model RMSE: 58.782945027776144, Baseline RMSE : 57.90578306346243\n",
      "Day : 2022-07-22 00:00:00, Week: 4 Model RMSE: 148.12288830175177, Baseline RMSE : 156.3289575065136\n",
      "Day : 2022-07-23 00:00:00, Week: 5 Model RMSE: 75.9277993625644, Baseline RMSE : 85.4243768993588\n",
      "Day : 2022-07-24 00:00:00, Week: 6 Model RMSE: 123.01012373613781, Baseline RMSE : 89.78769085852406\n",
      "Day : 2022-07-25 00:00:00, Week: 0 Model RMSE: 45.87836417327688, Baseline RMSE : 46.92512090012721\n",
      "Day : 2022-07-26 00:00:00, Week: 1 Model RMSE: 85.37599096431663, Baseline RMSE : 84.29852048331199\n",
      "Day : 2022-07-27 00:00:00, Week: 2 Model RMSE: 96.65761121672182, Baseline RMSE : 94.41754086008227\n",
      "Day : 2022-07-28 00:00:00, Week: 3 Model RMSE: 77.98649218190425, Baseline RMSE : 82.04193146076959\n",
      "Day : 2022-07-29 00:00:00, Week: 4 Model RMSE: 111.18578412675285, Baseline RMSE : 124.92644307409819\n",
      "Day : 2022-07-30 00:00:00, Week: 5 Model RMSE: 135.74763425624482, Baseline RMSE : 179.78632131250367\n",
      "Day : 2022-07-31 00:00:00, Week: 6 Model RMSE: 134.20628134128447, Baseline RMSE : 146.22155063047808\n",
      "Day : 2022-07-01 00:00:00, Week: 4 Model RMSE: 160.60307745353742, Baseline RMSE : 164.33558846943214\n",
      "Day : 2022-07-02 00:00:00, Week: 5 Model RMSE: 48.79785748914832, Baseline RMSE : 49.94924782863652\n",
      "Day : 2022-07-03 00:00:00, Week: 6 Model RMSE: 105.66596976263773, Baseline RMSE : 138.18360232085502\n",
      "Day : 2022-07-04 00:00:00, Week: 0 Model RMSE: 90.98116024737391, Baseline RMSE : 96.06642601460867\n",
      "Day : 2022-07-05 00:00:00, Week: 1 Model RMSE: 57.97569106494816, Baseline RMSE : 59.43944852587206\n",
      "Day : 2022-07-06 00:00:00, Week: 2 Model RMSE: 112.63899000238504, Baseline RMSE : 113.84219130939691\n",
      "Day : 2022-07-07 00:00:00, Week: 3 Model RMSE: 57.07162361336664, Baseline RMSE : 59.27388410663409\n",
      "Day : 2022-07-08 00:00:00, Week: 4 Model RMSE: 90.87122858449494, Baseline RMSE : 129.740443698852\n",
      "Day : 2022-07-09 00:00:00, Week: 5 Model RMSE: 100.89872690109337, Baseline RMSE : 102.23380489775259\n",
      "Day : 2022-07-10 00:00:00, Week: 6 Model RMSE: 125.1054180152048, Baseline RMSE : 130.21874304144032\n",
      "Day : 2022-07-11 00:00:00, Week: 0 Model RMSE: 82.12877212980841, Baseline RMSE : 83.2071540466196\n",
      "Day : 2022-07-12 00:00:00, Week: 1 Model RMSE: 46.2918268027757, Baseline RMSE : 47.80881631508056\n",
      "Day : 2022-07-13 00:00:00, Week: 2 Model RMSE: 104.89653595458698, Baseline RMSE : 119.46095664977881\n",
      "Day : 2022-07-14 00:00:00, Week: 3 Model RMSE: 99.02832560986843, Baseline RMSE : 106.76581357375595\n",
      "Day : 2022-07-15 00:00:00, Week: 4 Model RMSE: 57.86250554525471, Baseline RMSE : 75.29453269257662\n",
      "Day : 2022-07-16 00:00:00, Week: 5 Model RMSE: 51.08290973502255, Baseline RMSE : 60.20376641636559\n"
     ]
    },
    {
     "name": "stdout",
     "output_type": "stream",
     "text": [
      "Day : 2022-07-17 00:00:00, Week: 6 Model RMSE: 59.73086446450314, Baseline RMSE : 71.39086020712367\n",
      "Day : 2022-07-18 00:00:00, Week: 0 Model RMSE: 58.193236969685486, Baseline RMSE : 68.19655233485294\n",
      "Day : 2022-07-19 00:00:00, Week: 1 Model RMSE: 41.29308920245295, Baseline RMSE : 40.99781108863086\n",
      "Day : 2022-07-20 00:00:00, Week: 2 Model RMSE: 58.91434736217304, Baseline RMSE : 85.15456955953324\n",
      "Day : 2022-07-21 00:00:00, Week: 3 Model RMSE: 51.34941244378713, Baseline RMSE : 57.426515036989656\n",
      "Day : 2022-07-22 00:00:00, Week: 4 Model RMSE: 93.53269282215216, Baseline RMSE : 92.5105836582395\n",
      "Day : 2022-07-23 00:00:00, Week: 5 Model RMSE: 66.59468243941079, Baseline RMSE : 67.70443304327156\n",
      "Day : 2022-07-24 00:00:00, Week: 6 Model RMSE: 56.41162198453641, Baseline RMSE : 59.053728016812485\n",
      "Day : 2022-07-25 00:00:00, Week: 0 Model RMSE: 64.67477432545836, Baseline RMSE : 71.59595934397937\n",
      "Day : 2022-07-26 00:00:00, Week: 1 Model RMSE: 74.94200820997754, Baseline RMSE : 75.06704054492138\n",
      "Day : 2022-07-27 00:00:00, Week: 2 Model RMSE: 64.34494051111581, Baseline RMSE : 70.74277700592467\n",
      "Day : 2022-07-28 00:00:00, Week: 3 Model RMSE: 91.39717776575087, Baseline RMSE : 92.75409185121248\n",
      "Day : 2022-07-29 00:00:00, Week: 4 Model RMSE: 60.85843440403438, Baseline RMSE : 73.82893263200732\n",
      "Day : 2022-07-30 00:00:00, Week: 5 Model RMSE: 42.562412736362795, Baseline RMSE : 45.65419786481273\n",
      "Day : 2022-07-31 00:00:00, Week: 6 Model RMSE: 64.90146441006586, Baseline RMSE : 65.67500002757764\n"
     ]
    }
   ],
   "source": [
    "allDays = overallDF.Order_Date.unique()\n",
    "for storeId in allStoreIds:\n",
    "# for i in range(0, 1):\n",
    "    df = overallDF.loc[overallDF['Location_Code'] == storeId]\n",
    "    diffs = []\n",
    "    for day in allDays:\n",
    "        df2 = df.loc[df['Order_Date'] == day]\n",
    "        rmseModel = getRMSE(df2.prep_time.values.tolist(), df2.predicted_prep_time_central.values.tolist())\n",
    "        rmseBaseline = getRMSE(df2.prep_time.values.tolist(), df2.hour_wise_avg_kpt_of_the_day.values.tolist())\n",
    "        weekday = datetime.strptime(day, \"%Y-%m-%d %H:%M:%S\").weekday()\n",
    "        print(f\"Day : {day}, Week: {weekday} Model RMSE: {rmseModel}, Baseline RMSE : {rmseBaseline}\")"
   ]
  },
  {
   "cell_type": "code",
   "execution_count": 171,
   "id": "e15b809d",
   "metadata": {
    "ExecuteTime": {
     "end_time": "2023-03-16T20:13:26.137260Z",
     "start_time": "2023-03-16T20:13:26.124955Z"
    }
   },
   "outputs": [],
   "source": [
    "allTimeslots = sorted(overallDF.feature_3.unique())"
   ]
  },
  {
   "cell_type": "code",
   "execution_count": 172,
   "id": "c157d800",
   "metadata": {
    "ExecuteTime": {
     "end_time": "2023-03-16T20:13:26.821826Z",
     "start_time": "2023-03-16T20:13:26.807076Z"
    }
   },
   "outputs": [
    {
     "data": {
      "text/plain": [
       "[1.0,\n",
       " 11.0,\n",
       " 12.0,\n",
       " 13.0,\n",
       " 14.0,\n",
       " 15.0,\n",
       " 16.0,\n",
       " 17.0,\n",
       " 18.0,\n",
       " 19.0,\n",
       " 20.0,\n",
       " 21.0,\n",
       " 22.0,\n",
       " 23.0,\n",
       " 24.0]"
      ]
     },
     "execution_count": 172,
     "metadata": {},
     "output_type": "execute_result"
    }
   ],
   "source": [
    "allTimeslots"
   ]
  },
  {
   "cell_type": "code",
   "execution_count": 212,
   "id": "1b9f25c9",
   "metadata": {
    "ExecuteTime": {
     "end_time": "2023-03-16T23:21:54.834459Z",
     "start_time": "2023-03-16T23:21:54.291914Z"
    }
   },
   "outputs": [
    {
     "name": "stdout",
     "output_type": "stream",
     "text": [
      "Day : 2022-07-27 00:00:00, Week: 2, timeslot: 12.0, Model RMSE: 38.71929537172789, Baseline RMSE : 33.56447185074673\n",
      "Day : 2022-07-27 00:00:00, Week: 2, timeslot: 13.0, Model RMSE: 45.02856316840642, Baseline RMSE : 47.21386577939607\n",
      "Day : 2022-07-27 00:00:00, Week: 2, timeslot: 14.0, Model RMSE: 59.40477608850966, Baseline RMSE : 73.11086865665474\n",
      "Day : 2022-07-27 00:00:00, Week: 2, timeslot: 15.0, Model RMSE: 67.88246709951804, Baseline RMSE : 66.9939476028299\n",
      "Day : 2022-07-27 00:00:00, Week: 2, timeslot: 16.0, Model RMSE: 33.07842101902586, Baseline RMSE : 46.350228538940065\n",
      "Day : 2022-07-27 00:00:00, Week: 2, timeslot: 17.0, Model RMSE: 196.30736784236922, Baseline RMSE : 203.7129211528454\n",
      "Day : 2022-07-27 00:00:00, Week: 2, timeslot: 18.0, Model RMSE: 93.05375601228607, Baseline RMSE : 92.31384320295317\n",
      "Day : 2022-07-27 00:00:00, Week: 2, timeslot: 19.0, Model RMSE: 102.61300312308741, Baseline RMSE : 92.63588547227084\n",
      "Day : 2022-07-27 00:00:00, Week: 2, timeslot: 20.0, Model RMSE: 85.0967002922809, Baseline RMSE : 77.32760198419714\n",
      "Day : 2022-07-27 00:00:00, Week: 2, timeslot: 21.0, Model RMSE: 152.92889434052955, Baseline RMSE : 132.638531568948\n",
      "Day : 2022-07-27 00:00:00, Week: 2, timeslot: 22.0, Model RMSE: 118.32313588850393, Baseline RMSE : 130.88257543205694\n",
      "Day : 2022-07-27 00:00:00, Week: 2, timeslot: 23.0, Model RMSE: 40.41699677590915, Baseline RMSE : 53.57307235338348\n",
      "Day : 2022-07-27 00:00:00, Week: 2, timeslot: 24.0, Model RMSE: 27.39534752781401, Baseline RMSE : 10.830342185499168\n",
      "Day : 2022-07-27 00:00:00, Week: 2, timeslot: 12.0, Model RMSE: 14.649356449616265, Baseline RMSE : 42.63392742525175\n",
      "Day : 2022-07-27 00:00:00, Week: 2, timeslot: 13.0, Model RMSE: 34.18571552757705, Baseline RMSE : 61.4604940884556\n",
      "Day : 2022-07-27 00:00:00, Week: 2, timeslot: 14.0, Model RMSE: 43.49745233065064, Baseline RMSE : 35.69478863395264\n",
      "Day : 2022-07-27 00:00:00, Week: 2, timeslot: 15.0, Model RMSE: 42.19615780794474, Baseline RMSE : 38.69457898417369\n",
      "Day : 2022-07-27 00:00:00, Week: 2, timeslot: 16.0, Model RMSE: 46.11954129566296, Baseline RMSE : 62.609565361232924\n",
      "Day : 2022-07-27 00:00:00, Week: 2, timeslot: 17.0, Model RMSE: 28.294199496260134, Baseline RMSE : 42.183241719323775\n",
      "Day : 2022-07-27 00:00:00, Week: 2, timeslot: 18.0, Model RMSE: 26.439832704930584, Baseline RMSE : 39.44389734232018\n",
      "Day : 2022-07-27 00:00:00, Week: 2, timeslot: 19.0, Model RMSE: 42.68482824606867, Baseline RMSE : 45.82908951965524\n",
      "Day : 2022-07-27 00:00:00, Week: 2, timeslot: 20.0, Model RMSE: 69.9765879987603, Baseline RMSE : 51.017525432158585\n",
      "Day : 2022-07-27 00:00:00, Week: 2, timeslot: 21.0, Model RMSE: 145.60526805602214, Baseline RMSE : 157.39166891682453\n",
      "Day : 2022-07-27 00:00:00, Week: 2, timeslot: 22.0, Model RMSE: 150.82770992418955, Baseline RMSE : 168.18876797331657\n",
      "Day : 2022-07-27 00:00:00, Week: 2, timeslot: 23.0, Model RMSE: 70.3904665060167, Baseline RMSE : 83.67165088454274\n",
      "Day : 2022-07-27 00:00:00, Week: 2, timeslot: 24.0, Model RMSE: 27.55994446335178, Baseline RMSE : 40.68516171101775\n",
      "Day : 2022-07-27 00:00:00, Week: 2, timeslot: 12.0, Model RMSE: 24.268779324494226, Baseline RMSE : 48.912179108726036\n",
      "Day : 2022-07-27 00:00:00, Week: 2, timeslot: 13.0, Model RMSE: 45.49353768912298, Baseline RMSE : 79.62706747028957\n",
      "Day : 2022-07-27 00:00:00, Week: 2, timeslot: 14.0, Model RMSE: 94.53394747445347, Baseline RMSE : 110.92708664379859\n",
      "Day : 2022-07-27 00:00:00, Week: 2, timeslot: 15.0, Model RMSE: 59.111371300967114, Baseline RMSE : 77.50486192679398\n",
      "Day : 2022-07-27 00:00:00, Week: 2, timeslot: 16.0, Model RMSE: 75.50171564899813, Baseline RMSE : 73.92927469385938\n",
      "Day : 2022-07-27 00:00:00, Week: 2, timeslot: 17.0, Model RMSE: 54.633940328513624, Baseline RMSE : 57.11207537688781\n",
      "Day : 2022-07-27 00:00:00, Week: 2, timeslot: 18.0, Model RMSE: 84.43858850323042, Baseline RMSE : 95.77128010040629\n",
      "Day : 2022-07-27 00:00:00, Week: 2, timeslot: 19.0, Model RMSE: 64.99528090674102, Baseline RMSE : 69.69335674728322\n",
      "Day : 2022-07-27 00:00:00, Week: 2, timeslot: 20.0, Model RMSE: 73.39493254868921, Baseline RMSE : 78.18372026554744\n",
      "Day : 2022-07-27 00:00:00, Week: 2, timeslot: 21.0, Model RMSE: 86.76372969885435, Baseline RMSE : 96.63070075114078\n",
      "Day : 2022-07-27 00:00:00, Week: 2, timeslot: 22.0, Model RMSE: 77.34650515899926, Baseline RMSE : 93.21750356798117\n",
      "Day : 2022-07-27 00:00:00, Week: 2, timeslot: 23.0, Model RMSE: 39.5214995197211, Baseline RMSE : 65.48229104090575\n",
      "Day : 2022-07-27 00:00:00, Week: 2, timeslot: 24.0, Model RMSE: 60.05774566868941, Baseline RMSE : 65.9435374520854\n",
      "Day : 2022-07-27 00:00:00, Week: 2, timeslot: 12.0, Model RMSE: 61.66561827715034, Baseline RMSE : 93.49331034019234\n",
      "Day : 2022-07-27 00:00:00, Week: 2, timeslot: 13.0, Model RMSE: 94.18020226678387, Baseline RMSE : 137.39512265090931\n",
      "Day : 2022-07-27 00:00:00, Week: 2, timeslot: 14.0, Model RMSE: 39.1837251984047, Baseline RMSE : 113.72574927167715\n",
      "Day : 2022-07-27 00:00:00, Week: 2, timeslot: 15.0, Model RMSE: 119.68354530615258, Baseline RMSE : 139.7473136233816\n",
      "Day : 2022-07-27 00:00:00, Week: 2, timeslot: 16.0, Model RMSE: 103.39978570319423, Baseline RMSE : 128.04770159906082\n",
      "Day : 2022-07-27 00:00:00, Week: 2, timeslot: 17.0, Model RMSE: 48.46214700181133, Baseline RMSE : 145.47822059574716\n",
      "Day : 2022-07-27 00:00:00, Week: 2, timeslot: 18.0, Model RMSE: 106.53921003192961, Baseline RMSE : 136.3250220575198\n",
      "Day : 2022-07-27 00:00:00, Week: 2, timeslot: 19.0, Model RMSE: 103.55457971463365, Baseline RMSE : 120.0663988806445\n",
      "Day : 2022-07-27 00:00:00, Week: 2, timeslot: 20.0, Model RMSE: 99.85658211494334, Baseline RMSE : 106.36497242550331\n",
      "Day : 2022-07-27 00:00:00, Week: 2, timeslot: 21.0, Model RMSE: 90.85967690026199, Baseline RMSE : 98.18969901662119\n",
      "Day : 2022-07-27 00:00:00, Week: 2, timeslot: 22.0, Model RMSE: 146.1129608397341, Baseline RMSE : 119.15194491732211\n",
      "Day : 2022-07-27 00:00:00, Week: 2, timeslot: 23.0, Model RMSE: 118.15640395374226, Baseline RMSE : 154.83396892551693\n",
      "Day : 2022-07-27 00:00:00, Week: 2, timeslot: 24.0, Model RMSE: 142.14697404339807, Baseline RMSE : 144.0109467716684\n",
      "Day : 2022-07-27 00:00:00, Week: 2, timeslot: 11.0, Model RMSE: 27.856982238769533, Baseline RMSE : 47.58054415530772\n",
      "Day : 2022-07-27 00:00:00, Week: 2, timeslot: 12.0, Model RMSE: 85.81443649519197, Baseline RMSE : 59.77934935898531\n",
      "Day : 2022-07-27 00:00:00, Week: 2, timeslot: 13.0, Model RMSE: 67.2965541134323, Baseline RMSE : 62.75624410337997\n",
      "Day : 2022-07-27 00:00:00, Week: 2, timeslot: 14.0, Model RMSE: 30.41004162570565, Baseline RMSE : 67.44665736175845\n",
      "Day : 2022-07-27 00:00:00, Week: 2, timeslot: 15.0, Model RMSE: 30.27440202893704, Baseline RMSE : 45.79356833485127\n",
      "Day : 2022-07-27 00:00:00, Week: 2, timeslot: 16.0, Model RMSE: 33.7496919364318, Baseline RMSE : 46.78694552958901\n",
      "Day : 2022-07-27 00:00:00, Week: 2, timeslot: 17.0, Model RMSE: 29.189056366915615, Baseline RMSE : 54.5061802722352\n",
      "Day : 2022-07-27 00:00:00, Week: 2, timeslot: 18.0, Model RMSE: 34.99094631992507, Baseline RMSE : 49.14498840101345\n",
      "Day : 2022-07-27 00:00:00, Week: 2, timeslot: 19.0, Model RMSE: 72.42458150180882, Baseline RMSE : 84.57423464075933\n",
      "Day : 2022-07-27 00:00:00, Week: 2, timeslot: 20.0, Model RMSE: 85.23479225165141, Baseline RMSE : 117.60554255083917\n",
      "Day : 2022-07-27 00:00:00, Week: 2, timeslot: 21.0, Model RMSE: 87.46887298386339, Baseline RMSE : 108.38142966343871\n",
      "Day : 2022-07-27 00:00:00, Week: 2, timeslot: 22.0, Model RMSE: 66.1577833685334, Baseline RMSE : 53.43790272535106\n",
      "Day : 2022-07-27 00:00:00, Week: 2, timeslot: 23.0, Model RMSE: 89.5786019057177, Baseline RMSE : 89.98823797063855\n",
      "Day : 2022-07-27 00:00:00, Week: 2, timeslot: 24.0, Model RMSE: 38.46529443057535, Baseline RMSE : 41.85061419423547\n",
      "Day : 2022-07-27 00:00:00, Week: 2, timeslot: 12.0, Model RMSE: 26.408775569744726, Baseline RMSE : 23.11450144521155\n",
      "Day : 2022-07-27 00:00:00, Week: 2, timeslot: 13.0, Model RMSE: 21.940720935828868, Baseline RMSE : 18.49488885394499\n",
      "Day : 2022-07-27 00:00:00, Week: 2, timeslot: 14.0, Model RMSE: 18.576698672194713, Baseline RMSE : 17.864655957949488\n",
      "Day : 2022-07-27 00:00:00, Week: 2, timeslot: 15.0, Model RMSE: 19.074377165333654, Baseline RMSE : 16.4339585310096\n",
      "Day : 2022-07-27 00:00:00, Week: 2, timeslot: 16.0, Model RMSE: 19.29959757612784, Baseline RMSE : 14.612762447317062\n",
      "Day : 2022-07-27 00:00:00, Week: 2, timeslot: 17.0, Model RMSE: 33.05347380160887, Baseline RMSE : 42.363562421966456\n",
      "Day : 2022-07-27 00:00:00, Week: 2, timeslot: 18.0, Model RMSE: 14.439708982977661, Baseline RMSE : 23.25106991295441\n",
      "Day : 2022-07-27 00:00:00, Week: 2, timeslot: 19.0, Model RMSE: 23.754915553463366, Baseline RMSE : 24.258438198509612\n",
      "Day : 2022-07-27 00:00:00, Week: 2, timeslot: 20.0, Model RMSE: 23.225455129046154, Baseline RMSE : 25.210791585122703\n",
      "Day : 2022-07-27 00:00:00, Week: 2, timeslot: 21.0, Model RMSE: 17.597437713764315, Baseline RMSE : 22.657086297975457\n",
      "Day : 2022-07-27 00:00:00, Week: 2, timeslot: 22.0, Model RMSE: 19.999391279209274, Baseline RMSE : 19.686219707615695\n",
      "Day : 2022-07-27 00:00:00, Week: 2, timeslot: 23.0, Model RMSE: 22.556234654623733, Baseline RMSE : 23.03933814528111\n",
      "Day : 2022-07-27 00:00:00, Week: 2, timeslot: 24.0, Model RMSE: 48.50912994760625, Baseline RMSE : 17.515580151459464\n",
      "Day : 2022-07-27 00:00:00, Week: 2, timeslot: 12.0, Model RMSE: 30.81231692862253, Baseline RMSE : 55.56556454932336\n",
      "Day : 2022-07-27 00:00:00, Week: 2, timeslot: 13.0, Model RMSE: 23.9563790098581, Baseline RMSE : 86.30785717193953\n",
      "Day : 2022-07-27 00:00:00, Week: 2, timeslot: 14.0, Model RMSE: 59.417510421824815, Baseline RMSE : 86.85250174001258\n",
      "Day : 2022-07-27 00:00:00, Week: 2, timeslot: 15.0, Model RMSE: 104.22895660308559, Baseline RMSE : 114.97774469871948\n",
      "Day : 2022-07-27 00:00:00, Week: 2, timeslot: 16.0, Model RMSE: 39.02926435452743, Baseline RMSE : 82.24065346147728\n",
      "Day : 2022-07-27 00:00:00, Week: 2, timeslot: 17.0, Model RMSE: 44.993937771189756, Baseline RMSE : 61.81987961896048\n",
      "Day : 2022-07-27 00:00:00, Week: 2, timeslot: 18.0, Model RMSE: 56.79829474642088, Baseline RMSE : 67.31792858428759\n",
      "Day : 2022-07-27 00:00:00, Week: 2, timeslot: 19.0, Model RMSE: 50.38783167753497, Baseline RMSE : 55.69999467070501\n",
      "Day : 2022-07-27 00:00:00, Week: 2, timeslot: 20.0, Model RMSE: 74.72310849723665, Baseline RMSE : 81.00115157368626\n",
      "Day : 2022-07-27 00:00:00, Week: 2, timeslot: 21.0, Model RMSE: 70.05955155394915, Baseline RMSE : 69.05699492998903\n",
      "Day : 2022-07-27 00:00:00, Week: 2, timeslot: 22.0, Model RMSE: 65.06457774061052, Baseline RMSE : 91.13842237319801\n",
      "Day : 2022-07-27 00:00:00, Week: 2, timeslot: 23.0, Model RMSE: 108.64001953852144, Baseline RMSE : 99.7570462305205\n",
      "Day : 2022-07-27 00:00:00, Week: 2, timeslot: 24.0, Model RMSE: 60.764794688359785, Baseline RMSE : 79.1734399003503\n",
      "Day : 2022-07-27 00:00:00, Week: 2, timeslot: 12.0, Model RMSE: 42.69046276079874, Baseline RMSE : 59.236161582433\n",
      "Day : 2022-07-27 00:00:00, Week: 2, timeslot: 13.0, Model RMSE: 24.086685296885396, Baseline RMSE : 42.47209159143817\n",
      "Day : 2022-07-27 00:00:00, Week: 2, timeslot: 14.0, Model RMSE: 21.354611298620526, Baseline RMSE : 32.2157564077684\n",
      "Day : 2022-07-27 00:00:00, Week: 2, timeslot: 15.0, Model RMSE: 32.953607131661144, Baseline RMSE : 38.70435695821436\n",
      "Day : 2022-07-27 00:00:00, Week: 2, timeslot: 16.0, Model RMSE: 27.618188688807113, Baseline RMSE : 31.56824948869271\n",
      "Day : 2022-07-27 00:00:00, Week: 2, timeslot: 17.0, Model RMSE: 33.77151325691964, Baseline RMSE : 45.950274727115456\n",
      "Day : 2022-07-27 00:00:00, Week: 2, timeslot: 18.0, Model RMSE: 37.71449745479032, Baseline RMSE : 39.97969824321375\n",
      "Day : 2022-07-27 00:00:00, Week: 2, timeslot: 19.0, Model RMSE: 33.08027363260195, Baseline RMSE : 49.75155951175258\n",
      "Day : 2022-07-27 00:00:00, Week: 2, timeslot: 20.0, Model RMSE: 56.00437182332998, Baseline RMSE : 67.63975310618903\n",
      "Day : 2022-07-27 00:00:00, Week: 2, timeslot: 21.0, Model RMSE: 48.34461540703207, Baseline RMSE : 62.0891477668347\n",
      "Day : 2022-07-27 00:00:00, Week: 2, timeslot: 22.0, Model RMSE: 43.54927928904306, Baseline RMSE : 58.00140234927647\n",
      "Day : 2022-07-27 00:00:00, Week: 2, timeslot: 23.0, Model RMSE: 23.044433328704493, Baseline RMSE : 54.36969562718784\n",
      "Day : 2022-07-27 00:00:00, Week: 2, timeslot: 24.0, Model RMSE: 46.42358277273449, Baseline RMSE : 72.1961691151221\n",
      "Day : 2022-07-27 00:00:00, Week: 2, timeslot: 12.0, Model RMSE: 18.52105092427897, Baseline RMSE : 39.340689784889335\n",
      "Day : 2022-07-27 00:00:00, Week: 2, timeslot: 13.0, Model RMSE: 21.370770186041725, Baseline RMSE : 39.51096341103048\n",
      "Day : 2022-07-27 00:00:00, Week: 2, timeslot: 14.0, Model RMSE: 35.44951354799767, Baseline RMSE : 38.47698415815381\n",
      "Day : 2022-07-27 00:00:00, Week: 2, timeslot: 15.0, Model RMSE: 38.71376580495237, Baseline RMSE : 42.58633320322114\n",
      "Day : 2022-07-27 00:00:00, Week: 2, timeslot: 16.0, Model RMSE: 50.28208378098705, Baseline RMSE : 55.665579600991435\n",
      "Day : 2022-07-27 00:00:00, Week: 2, timeslot: 17.0, Model RMSE: 23.782018050348416, Baseline RMSE : 28.645695558329205\n",
      "Day : 2022-07-27 00:00:00, Week: 2, timeslot: 18.0, Model RMSE: 33.61942617477831, Baseline RMSE : 31.54026854662596\n",
      "Day : 2022-07-27 00:00:00, Week: 2, timeslot: 19.0, Model RMSE: 52.44995343791636, Baseline RMSE : 55.49977889354002\n",
      "Day : 2022-07-27 00:00:00, Week: 2, timeslot: 20.0, Model RMSE: 49.66621445550876, Baseline RMSE : 61.87109750582151\n",
      "Day : 2022-07-27 00:00:00, Week: 2, timeslot: 21.0, Model RMSE: 210.7386496672944, Baseline RMSE : 288.33948888016465\n",
      "Day : 2022-07-27 00:00:00, Week: 2, timeslot: 22.0, Model RMSE: 31.212645721057743, Baseline RMSE : 67.56632599427837\n",
      "Day : 2022-07-27 00:00:00, Week: 2, timeslot: 23.0, Model RMSE: 27.314707647664715, Baseline RMSE : 37.92641515881405\n",
      "Day : 2022-07-27 00:00:00, Week: 2, timeslot: 24.0, Model RMSE: 60.74122692871094, Baseline RMSE : 7.265999999999998\n",
      "Day : 2022-07-27 00:00:00, Week: 2, timeslot: 12.0, Model RMSE: 58.36140847870789, Baseline RMSE : 53.64724779828063\n",
      "Day : 2022-07-27 00:00:00, Week: 2, timeslot: 13.0, Model RMSE: 53.895052508061426, Baseline RMSE : 34.179873794099485\n",
      "Day : 2022-07-27 00:00:00, Week: 2, timeslot: 14.0, Model RMSE: 171.93792644857, Baseline RMSE : 177.79780606248076\n",
      "Day : 2022-07-27 00:00:00, Week: 2, timeslot: 15.0, Model RMSE: 60.391422981473944, Baseline RMSE : 77.07755084539203\n"
     ]
    },
    {
     "name": "stdout",
     "output_type": "stream",
     "text": [
      "Day : 2022-07-27 00:00:00, Week: 2, timeslot: 16.0, Model RMSE: 249.01770994611056, Baseline RMSE : 235.09958136841604\n",
      "Day : 2022-07-27 00:00:00, Week: 2, timeslot: 17.0, Model RMSE: 169.8044944230333, Baseline RMSE : 221.08366040769852\n",
      "Day : 2022-07-27 00:00:00, Week: 2, timeslot: 18.0, Model RMSE: 120.08443320087714, Baseline RMSE : 150.0856642030031\n",
      "Day : 2022-07-27 00:00:00, Week: 2, timeslot: 19.0, Model RMSE: 22.822809251239256, Baseline RMSE : 24.73499697724607\n",
      "Day : 2022-07-27 00:00:00, Week: 2, timeslot: 20.0, Model RMSE: 55.043140899304476, Baseline RMSE : 62.20706625481537\n",
      "Day : 2022-07-27 00:00:00, Week: 2, timeslot: 21.0, Model RMSE: 20.277607114360446, Baseline RMSE : 27.394911756924294\n",
      "Day : 2022-07-27 00:00:00, Week: 2, timeslot: 22.0, Model RMSE: 16.93295838133628, Baseline RMSE : 21.347949549528956\n",
      "Day : 2022-07-27 00:00:00, Week: 2, timeslot: 23.0, Model RMSE: 40.65216801827357, Baseline RMSE : 29.173474445387626\n",
      "Day : 2022-07-27 00:00:00, Week: 2, timeslot: 24.0, Model RMSE: 131.54448770178348, Baseline RMSE : 122.81842020688644\n",
      "Day : 2022-07-27 00:00:00, Week: 2, timeslot: 11.0, Model RMSE: 122.54106945800783, Baseline RMSE : 111.39426406482863\n",
      "Day : 2022-07-27 00:00:00, Week: 2, timeslot: 12.0, Model RMSE: 42.07914640503487, Baseline RMSE : 60.486021748836656\n",
      "Day : 2022-07-27 00:00:00, Week: 2, timeslot: 13.0, Model RMSE: 54.23139985592524, Baseline RMSE : 52.298903698303675\n",
      "Day : 2022-07-27 00:00:00, Week: 2, timeslot: 14.0, Model RMSE: 46.17874984010081, Baseline RMSE : 60.364110830565664\n",
      "Day : 2022-07-27 00:00:00, Week: 2, timeslot: 15.0, Model RMSE: 48.4829634655053, Baseline RMSE : 44.73922676418903\n",
      "Day : 2022-07-27 00:00:00, Week: 2, timeslot: 16.0, Model RMSE: 34.09492287579495, Baseline RMSE : 40.09678335015287\n",
      "Day : 2022-07-27 00:00:00, Week: 2, timeslot: 17.0, Model RMSE: 25.886027368804548, Baseline RMSE : 53.04214139895381\n",
      "Day : 2022-07-27 00:00:00, Week: 2, timeslot: 18.0, Model RMSE: 39.23504946535667, Baseline RMSE : 50.05148894632692\n",
      "Day : 2022-07-27 00:00:00, Week: 2, timeslot: 19.0, Model RMSE: 51.686108261668934, Baseline RMSE : 81.4035320546105\n",
      "Day : 2022-07-27 00:00:00, Week: 2, timeslot: 20.0, Model RMSE: 58.490013943981225, Baseline RMSE : 54.34933426238091\n",
      "Day : 2022-07-27 00:00:00, Week: 2, timeslot: 21.0, Model RMSE: 117.06777528428539, Baseline RMSE : 110.68570562619666\n",
      "Day : 2022-07-27 00:00:00, Week: 2, timeslot: 22.0, Model RMSE: 153.52213892222537, Baseline RMSE : 148.60962910263797\n",
      "Day : 2022-07-27 00:00:00, Week: 2, timeslot: 23.0, Model RMSE: 124.28348503342302, Baseline RMSE : 121.60480425088525\n",
      "Day : 2022-07-27 00:00:00, Week: 2, timeslot: 24.0, Model RMSE: 180.91706599737643, Baseline RMSE : 184.4293377386689\n",
      "Day : 2022-07-27 00:00:00, Week: 2, timeslot: 12.0, Model RMSE: 42.31694619209282, Baseline RMSE : 55.218330815835955\n",
      "Day : 2022-07-27 00:00:00, Week: 2, timeslot: 13.0, Model RMSE: 40.83010201644274, Baseline RMSE : 64.0000734720547\n",
      "Day : 2022-07-27 00:00:00, Week: 2, timeslot: 14.0, Model RMSE: 102.54206540996402, Baseline RMSE : 111.9668428611098\n",
      "Day : 2022-07-27 00:00:00, Week: 2, timeslot: 15.0, Model RMSE: 33.20619588204422, Baseline RMSE : 37.56412087043018\n",
      "Day : 2022-07-27 00:00:00, Week: 2, timeslot: 16.0, Model RMSE: 26.55229620295844, Baseline RMSE : 28.89871780554504\n",
      "Day : 2022-07-27 00:00:00, Week: 2, timeslot: 17.0, Model RMSE: 28.604185086712658, Baseline RMSE : 38.94227844070369\n",
      "Day : 2022-07-27 00:00:00, Week: 2, timeslot: 18.0, Model RMSE: 39.878501062810614, Baseline RMSE : 39.09327342087953\n",
      "Day : 2022-07-27 00:00:00, Week: 2, timeslot: 19.0, Model RMSE: 136.78711275319364, Baseline RMSE : 137.7213264887374\n",
      "Day : 2022-07-27 00:00:00, Week: 2, timeslot: 20.0, Model RMSE: 43.27434465673437, Baseline RMSE : 63.305998772841065\n",
      "Day : 2022-07-27 00:00:00, Week: 2, timeslot: 21.0, Model RMSE: 49.878849078635696, Baseline RMSE : 43.99377524485774\n",
      "Day : 2022-07-27 00:00:00, Week: 2, timeslot: 22.0, Model RMSE: 65.83440908313815, Baseline RMSE : 73.4607240766355\n",
      "Day : 2022-07-27 00:00:00, Week: 2, timeslot: 23.0, Model RMSE: 75.55087153538011, Baseline RMSE : 55.12292468798872\n",
      "Day : 2022-07-27 00:00:00, Week: 2, timeslot: 24.0, Model RMSE: 53.35088710642212, Baseline RMSE : 57.53710599688447\n"
     ]
    }
   ],
   "source": [
    "for storeId in allStoreIds:\n",
    "# for i in range(0, 1):\n",
    "    df = overallDF.loc[overallDF['Location_Code'] == storeId]\n",
    "    diffs = []\n",
    "#     for day in allDays:\n",
    "    for ts in allTimeslots:\n",
    "        day = allDays[26]\n",
    "        df2 = df.loc[(df['Order_Date'] == day) & (df['feature_3'] == ts)]\n",
    "        if(df2.size == 0):\n",
    "            continue\n",
    "        rmseModel = getRMSE(df2.prep_time.values.tolist(), df2.predicted_prep_time_central.values.tolist())\n",
    "        rmseBaseline = getRMSE(df2.prep_time.values.tolist(), df2.avg_kpt_in_last_one_hour.values.tolist())\n",
    "        weekday = datetime.strptime(day, \"%Y-%m-%d %H:%M:%S\").weekday()\n",
    "        print(f\"Day : {day}, Week: {weekday}, timeslot: {ts}, Model RMSE: {rmseModel}, Baseline RMSE : {rmseBaseline}\")    "
   ]
  },
  {
   "cell_type": "code",
   "execution_count": 198,
   "id": "ad9001ea",
   "metadata": {
    "ExecuteTime": {
     "end_time": "2023-03-16T22:58:07.676556Z",
     "start_time": "2023-03-16T22:58:07.082466Z"
    }
   },
   "outputs": [],
   "source": [
    "a = Counter(overallDF.prep_time.values.tolist())\n",
    "a = {}\n",
    "for day in allDays:\n",
    "    d = datetime.strptime(day, \"%Y-%m-%d %H:%M:%S\").weekday()\n",
    "    avgPrepTime = mean(overallDF.loc[overallDF['feature_2'] == d+1].prep_time.values.tolist())\n",
    "    a[d+1] = avgPrepTime"
   ]
  },
  {
   "cell_type": "code",
   "execution_count": 200,
   "id": "39b934dd",
   "metadata": {
    "ExecuteTime": {
     "end_time": "2023-03-16T22:58:22.274863Z",
     "start_time": "2023-03-16T22:58:22.102633Z"
    }
   },
   "outputs": [
    {
     "data": {
      "image/png": "[encoded data removed]",
      "text/plain": [
       "<Figure size 640x480 with 1 Axes>"
      ]
     },
     "metadata": {},
     "output_type": "display_data"
    }
   ],
   "source": [
    "from matplotlib import pyplot\n",
    "x = ['Monday', 'Tueday', 'Wednesday', 'Thursday', 'Friday', 'Saturday', 'Sunday']\n",
    "y = [a[1], a[2], a[3], a[4], a[5], a[6], a[7]]\n",
    "pyplot.bar(x, y)\n",
    "pyplot.xticks(rotation=90)\n",
    "pyplot.title(\"Average Preparation Time on respective week days (Bhopal, July 2022)\")\n",
    "pyplot.show()"
   ]
  },
  {
   "cell_type": "code",
   "execution_count": 202,
   "id": "66e4ad7a",
   "metadata": {
    "ExecuteTime": {
     "end_time": "2023-03-16T23:01:18.444228Z",
     "start_time": "2023-03-16T23:01:18.279676Z"
    }
   },
   "outputs": [
    {
     "name": "stdout",
     "output_type": "stream",
     "text": [
      "1.0\n",
      "11.0\n",
      "12.0\n",
      "13.0\n",
      "14.0\n",
      "15.0\n",
      "16.0\n",
      "17.0\n",
      "18.0\n",
      "19.0\n",
      "20.0\n",
      "21.0\n",
      "22.0\n",
      "23.0\n",
      "24.0\n"
     ]
    }
   ],
   "source": [
    "a = {}\n",
    "for ts in allTimeslots:\n",
    "    print(ts)\n",
    "    avgPrepTime = mean(overallDF.loc[overallDF['feature_3'] == ts].prep_time.values.tolist())\n",
    "    a[ts] = avgPrepTime"
   ]
  },
  {
   "cell_type": "code",
   "execution_count": 205,
   "id": "3af25fea",
   "metadata": {
    "ExecuteTime": {
     "end_time": "2023-03-16T23:02:29.520176Z",
     "start_time": "2023-03-16T23:02:29.286647Z"
    }
   },
   "outputs": [
    {
     "data": {
      "image/png": "[encoded data removed]",
      "text/plain": [
       "<Figure size 640x480 with 1 Axes>"
      ]
     },
     "metadata": {},
     "output_type": "display_data"
    }
   ],
   "source": [
    "from matplotlib import pyplot\n",
    "x = [i for i in range(11, 25)]\n",
    "y = [a[i] for i in range(11, 25)]\n",
    "pyplot.bar(x, y)\n",
    "pyplot.xticks(rotation=90)\n",
    "pyplot.title(\"Average Preparation Time on respective timeslots (Bhopal, July 2022)\")\n",
    "pyplot.show()"
   ]
  },
  {
   "cell_type": "code",
   "execution_count": 226,
   "id": "0886f05b",
   "metadata": {
    "ExecuteTime": {
     "end_time": "2023-03-16T23:36:57.242454Z",
     "start_time": "2023-03-16T23:36:56.931948Z"
    }
   },
   "outputs": [
    {
     "data": {
      "image/png": "[encoded data removed]",
      "text/plain": [
       "<Figure size 640x480 with 1 Axes>"
      ]
     },
     "metadata": {},
     "output_type": "display_data"
    },
    {
     "name": "stdout",
     "output_type": "stream",
     "text": [
      "0.9999999087303877\n"
     ]
    }
   ],
   "source": [
    "from matplotlib import pyplot\n",
    "f = ['storeId', 'dayOfTheWeek', 'Timeslot', 'ItemType', 'countPastOrders', 'ratioOfCountOrders', 'prevAvgKPT60Minutes', 'prepAvgKPT7Days', 'hourDayWiseAvgKPT', 'Quantity', 'QueueLenght']\n",
    "pyplot.bar(f, best_regressor.feature_importances_)\n",
    "pyplot.xticks(rotation=90)\n",
    "pyplot.title(\"Feature Importance\")\n",
    "pyplot.show()\n",
    "print(sum(best_regressor.feature_importances_))"
   ]
  },
  {
   "cell_type": "code",
   "execution_count": null,
   "id": "5d3be2c9",
   "metadata": {
    "ExecuteTime": {
     "end_time": "2023-03-16T09:10:15.575369Z",
     "start_time": "2023-03-16T09:10:15.575357Z"
    }
   },
   "outputs": [],
   "source": [
    "# Experiment 1\n",
    "# remove feature with feature value less than 0.05\n",
    "# Remaining Features : 1,2,3,5,7,8,9\n",
    "totalFeatures = (1 +  # store ID (categorical)\n",
    "                 1 +  # day of the week (categorical)\n",
    "                 1 +  #timeslot of the day (categorical)\n",
    "                 1 +  #count past orders in last 30 minutes\n",
    "                 1 +  # average previous preparation time in last 1 hour\n",
    "                 1 +  # average previous preparation time in last 7 days\n",
    "                 1  # average kpt time, hour wise according to the day of the week\n",
    "                 )  # length of the current queue\n",
    "\n",
    "feature_cols = []\n",
    "for i in range(0, totalFeatures):\n",
    "    feature_cols.append('feature_' + str(i + 1))\n",
    "# TIME CONSUMING (3m 21s for Bhopal)\n",
    "for storeId in restWiseDFs:\n",
    "    X = []\n",
    "    df = restWiseDFs[storeId]\n",
    "    for index, item in df.iterrows():\n",
    "        features = getStoreId(item, False)\n",
    "        features += dayOfTheWeek(item['Kitchen_Display_Time'], isOneHotEncodingRequired)\n",
    "        features += getTimeSlotOfKitchenDisplayTime(item, isOneHotEncodingRequired)\n",
    "        # features += getItemType(item, clubItemsCategoryWise, isOneHotEncodingRequired)\n",
    "        features += [countPastOrders(item, slotTimeForPastOrders)]\n",
    "        # features += [getLiftInOrders(item, slotTimeForPastOrders)]\n",
    "        features += [getPreviousPrepTime(item, timeslot=60)]\n",
    "        features += [getPreviousPrepTime(item, timeslot=7 * 24 * 60)]\n",
    "        features += [getHourWiseAverage(item)]\n",
    "        # features += [getQuantity(item)]\n",
    "        # features += [lengthQueue(item)]\n",
    "        X.append(features)\n",
    "    Xnp = np.array(X)\n",
    "    updateFeatures(storeId, Xnp)\n",
    "    print(Xnp.shape)\n",
    "# categorical data\n",
    "if not isOneHotEncodingRequired:\n",
    "    for i in range(0, 4):\n",
    "        for storeId in allStoreIds:\n",
    "            restWiseDFs[storeId][feature_cols[i]] = restWiseDFs[storeId][feature_cols[i]].astype(\"category\")\n",
    "restWiseScalers = {}\n",
    "\n",
    "# normalize feature values\n",
    "if isNormalizationRequired:\n",
    "    for storeId in allStoreIds:\n",
    "        firstTime = datetime(2022, 7, 1)\n",
    "        lastTime = datetime(2022, 7, 14)\n",
    "        trainingData = restWiseDFs[storeId].loc[(restWiseDFs[storeId]['Kitchen_Display_Time'] >= firstTime) & \\\n",
    "                                                (restWiseDFs[storeId]['Kitchen_Display_Time'] <= lastTime)].loc[:,\n",
    "                       feature_cols]\n",
    "        scaler = StandardScaler()\n",
    "        scaler.fit(trainingData)\n",
    "        if isNormalizationRequired:\n",
    "            X = restWiseDFs[storeId].loc[:, feature_cols]\n",
    "            X_scaled = scaler.transform(X)\n",
    "            X_scalednp = np.array(X_scaled)\n",
    "            updateFeatures(storeId, X_scalednp)\n",
    "    save_object(restWiseDFs, f'restWiseDFsWithNormalizedFeatures{city}.pkl')\n",
    "\n",
    "\n",
    "if isCentralModel:\n",
    "    overallDF = pd.DataFrame()\n",
    "    for storeId in allStoreIds:\n",
    "        overallDF = pd.concat([overallDF, restWiseDFs[storeId]], ignore_index=True)\n",
    "    firstTime = datetime(2022, 7, 1)\n",
    "    lastTime = datetime(2022, 7, 14)\n",
    "    trainingData = overallDF.loc[(overallDF['Kitchen_Display_Time'] >= firstTime) & \\\n",
    "                                 (overallDF['Kitchen_Display_Time'] <= lastTime)]\n",
    "    X_train = trainingData.loc[:, feature_cols]\n",
    "    y_train = trainingData.prep_time.values.tolist()\n",
    "\n",
    "    firstTime = datetime(2022, 7, 15)\n",
    "    lastTime = datetime(2022, 7, 21)\n",
    "    validationData = overallDF.loc[(overallDF['Kitchen_Display_Time'] >= firstTime) & \\\n",
    "                                   (overallDF['Kitchen_Display_Time'] <= lastTime)]\n",
    "\n",
    "    X_train_val = validationData.loc[:, feature_cols]\n",
    "    y_train_val = validationData.prep_time.values.tolist()\n",
    "\n",
    "    firstTime = datetime(2022, 7, 22)\n",
    "    lastTime = datetime(2022, 7, 31)\n",
    "    testData = overallDF.loc[(overallDF['Kitchen_Display_Time'] >= firstTime) & \\\n",
    "                             (overallDF['Kitchen_Display_Time'] <= lastTime)]\n",
    "\n",
    "    X_test = testData.loc[:, feature_cols]\n",
    "    y_test = testData.prep_time.values.tolist()\n",
    "\n",
    "    regressor = XGBRegressor()\n",
    "    param_grid = {\n",
    "        'tree_method': ['approx', 'hist'],\n",
    "        'n_estimators': [50, 100, 200],\n",
    "        'max_depth': [3, 5, 7, 10, 12, 14],\n",
    "        'learning_rate': [0.2, 0.1, 0.01],\n",
    "        'subsample': [0.6, 0.7, 0.8],\n",
    "        'colsample_bytree': [0.6, 0.7, 0.8],\n",
    "        'enable_categorical': [True],\n",
    "    }\n",
    "\n",
    "    # define the GridSearchCV object with the parameter grid and the XGBRegressor model\n",
    "    grid_search = GridSearchCV(estimator=regressor, param_grid=param_grid, cv=5)\n",
    "\n",
    "    # fit the GridSearchCV object on the training set\n",
    "    grid_search.fit(X_train, y_train)\n",
    "\n",
    "    # print the best hyperparameters and the corresponding mean cross-validated score\n",
    "    print(\"Best hyperparameters:\", grid_search.best_params_)\n",
    "    print(\"Best mean cross-validated score:\", grid_search.best_score_)\n",
    "\n",
    "    # retrain the model on the combined training and validation sets with the best hyperparameters\n",
    "    best_regressor = XGBRegressor(**grid_search.best_params_)\n",
    "    best_regressor.fit(X_train_val, y_train_val)\n",
    "\n",
    "    # evaluate the final model performance on the test set\n",
    "    test_score = best_regressor.score(X_test, y_test)\n",
    "    print(\"Test score:\", test_score)\n",
    "\n",
    "    # regressor.fit(X_train, y_train)\n",
    "    # restWiseModelsXGB[storeId] = best_regressor\n",
    "\n",
    "    for storeId in allStoreIds:\n",
    "        X = restWiseDFs[storeId].loc[:, feature_cols]\n",
    "        y = restWiseDFs[storeId].prep_time.values.tolist()\n",
    "        predictions = best_regressor.predict(X)\n",
    "        restWiseDFs[storeId]['predicted_prep_time_central'] = predictions\n",
    "\n",
    "        a = getRMSE(y, predictions)\n",
    "        print(\"RMSE score overall for store central model (30 days) \" + storeId + \" :  \", a)"
   ]
  },
  {
   "cell_type": "code",
   "execution_count": null,
   "id": "25f74d80",
   "metadata": {
    "ExecuteTime": {
     "end_time": "2023-03-16T09:10:15.576328Z",
     "start_time": "2023-03-16T09:10:15.576304Z"
    }
   },
   "outputs": [],
   "source": [
    "\n",
    "rmse1 = ((trainingData.prep_time - trainingData.predicted_prep_time_central) ** 2).mean() ** .5\n",
    "rmse2 = ((trainingData.prep_time - trainingData.hour_wise_avg_kpt_of_the_day) ** 2).mean() ** .5\n",
    "# hour_wise_avg_kpt_of_the_day\n",
    "# rmse = ((df.prep_time - df.predicted_prep_time) ** 2).mean() ** .5\n",
    "#\n",
    "absError = (abs(trainingData.prep_time - trainingData.predicted_prep_time_central)).values.tolist()\n",
    "absError2 = (abs(trainingData.prep_time - trainingData.hour_wise_avg_kpt_of_the_day)).values.tolist()\n",
    "meanAbsError = statistics.mean(absError)\n",
    "medianAbsError = statistics.median(absError)\n",
    "\n",
    "meanAbsError2 = statistics.mean(absError2)\n",
    "medianAbsError2 = statistics.median(absError2)\n",
    "# stdAbsError = statistics.stdev(absError)\n",
    "#\n",
    "# error = (df.prep_time - df.predicted_prep_time).values.tolist()\n",
    "# meanError = statistics.mean(error)\n",
    "# medianError = statistics.median(error)\n",
    "# stdError = statistics.stdev(error)\n",
    "#\n",
    "# accuracy = (((df.prep_time - df.predicted_prep_time))/(7*60+df.prep_time)).values.tolist()"
   ]
  },
  {
   "cell_type": "code",
   "execution_count": null,
   "id": "5f74bd49",
   "metadata": {
    "ExecuteTime": {
     "end_time": "2023-03-16T09:10:15.577942Z",
     "start_time": "2023-03-16T09:10:15.577931Z"
    }
   },
   "outputs": [],
   "source": [
    "rmse1, rmse2, meanAbsError, meanAbsError2, medianAbsError, medianAbsError21"
   ]
  },
  {
   "cell_type": "code",
   "execution_count": null,
   "id": "8f4d378c",
   "metadata": {
    "ExecuteTime": {
     "end_time": "2023-03-16T09:10:15.578863Z",
     "start_time": "2023-03-16T09:10:15.578852Z"
    }
   },
   "outputs": [],
   "source": [
    "if isCentralModel:\n",
    "    overallDF = pd.DataFrame()\n",
    "    for storeId in allStoreIds:\n",
    "        overallDF = pd.concat([overallDF, restWiseDFs[storeId]], ignore_index=True)\n",
    "    firstTime = datetime(2022, 7, 1)\n",
    "    lastTime = datetime(2022, 7, 21)\n",
    "    trainingData = overallDF.loc[(overallDF['Kitchen_Display_Time'] >= firstTime) & \\\n",
    "          (overallDF['Kitchen_Display_Time'] <= lastTime)]\n",
    "    X_train = trainingData.loc[:, feature_cols]\n",
    "    y_train = trainingData.prep_time.values.tolist()\n",
    "\n",
    "    firstTime = datetime(2022, 7, 24)\n",
    "    lastTime = datetime(2022, 7, 22)\n",
    "    validationData = overallDF.loc[(overallDF['Kitchen_Display_Time'] >= firstTime) & \\\n",
    "          (overallDF['Kitchen_Display_Time'] <= lastTime)]\n",
    "\n",
    "    X_train_val = validationData.loc[:, feature_cols]\n",
    "    y_train_val = validationData.prep_time.values.tolist()\n",
    "\n",
    "    firstTime = datetime(2022, 7, 25)\n",
    "    lastTime = datetime(2022, 7, 31)\n",
    "    testData = overallDF.loc[(overallDF['Kitchen_Display_Time'] >= firstTime) & \\\n",
    "          (overallDF['Kitchen_Display_Time'] <= lastTime)]\n",
    "\n",
    "    X_test = testData.loc[:, feature_cols]\n",
    "    y_test = testData.prep_time.values.tolist()\n",
    "\n",
    "\n",
    "    regressor = XGBRegressor()\n",
    "    param_grid = {\n",
    "        'tree_method': ['approx', 'hist'],\n",
    "        'n_estimators': [50, 100, 200],\n",
    "        'max_depth': [5, 7, 10, 13],\n",
    "        'learning_rate': [0.2, 0.1, 0.01],\n",
    "        'subsample': [0.6, 0.7, 0.8],\n",
    "        'colsample_bytree': [0.6, 0.7, 0.8],\n",
    "        'enable_categorical': [True],\n",
    "    }\n",
    "\n",
    "    # define the GridSearchCV object with the parameter grid and the XGBRegressor model\n",
    "    grid_search = GridSearchCV(estimator=regressor, param_grid=param_grid, cv=5)\n",
    "\n",
    "    # fit the GridSearchCV object on the training set\n",
    "    grid_search.fit(X_train, y_train)\n",
    "\n",
    "    # print the best hyperparameters and the corresponding mean cross-validated score\n",
    "    print(\"Best hyperparameters:\", grid_search.best_params_)\n",
    "    print(\"Best mean cross-validated score:\", grid_search.best_score_)\n",
    "\n",
    "    # retrain the model on the combined training and validation sets with the best hyperparameters\n",
    "    best_regressor = XGBRegressor(**grid_search.best_params_)\n",
    "    best_regressor.fit(X_train_val, y_train_val)\n",
    "\n",
    "    # evaluate the final model performance on the test set\n",
    "    test_score = best_regressor.score(X_test, y_test)\n",
    "    print(\"Test score:\", test_score)\n",
    "\n",
    "    # regressor.fit(X_train, y_train)\n",
    "    # restWiseModelsXGB[storeId] = best_regressor\n",
    "\n",
    "    for storeId in allStoreIds:\n",
    "        X = restWiseDFs[storeId].loc[:, feature_cols]\n",
    "        y = restWiseDFs[storeId].prep_time.values.tolist()\n",
    "        predictions = best_regressor.predict(X)\n",
    "        restWiseDFs[storeId]['predicted_prep_time_central'] = predictions\n",
    "\n",
    "        a = getRMSE(y, predictions)\n",
    "        print(\"RMSE score overall for store central model (30 days) \"+storeId+\" :  \", a)"
   ]
  },
  {
   "cell_type": "code",
   "execution_count": null,
   "id": "cf4f659c",
   "metadata": {},
   "outputs": [],
   "source": []
  },
  {
   "cell_type": "code",
   "execution_count": null,
   "id": "96185470",
   "metadata": {
    "ExecuteTime": {
     "end_time": "2023-03-16T09:10:15.580106Z",
     "start_time": "2023-03-16T09:10:15.580093Z"
    }
   },
   "outputs": [],
   "source": [
    "\n",
    "rmse1 = ((testingData.prep_time - testingData.predicted_prep_time_central) ** 2).mean() ** .5\n",
    "rmse2 = ((testingData.prep_time - testingData.hour_wise_avg_kpt_of_the_day) ** 2).mean() ** .5\n",
    "# hour_wise_avg_kpt_of_the_day\n",
    "# rmse = ((df.prep_time - df.predicted_prep_time) ** 2).mean() ** .5\n",
    "#\n",
    "absError = (abs(trainingData.prep_time - trainingData.predicted_prep_time_central)).values.tolist()\n",
    "absError2 = (abs(trainingData.prep_time - trainingData.hour_wise_avg_kpt_of_the_day)).values.tolist()\n",
    "meanAbsError = statistics.mean(absError)\n",
    "medianAbsError = statistics.median(absError)\n",
    "\n",
    "meanAbsError2 = statistics.mean(absError2)\n",
    "medianAbsError2 = statistics.median(absError2)\n",
    "# stdAbsError = statistics.stdev(absError)\n",
    "#\n",
    "# error = (df.prep_time - df.predicted_prep_time).values.tolist()\n",
    "# meanError = statistics.mean(error)\n",
    "# medianError = statistics.median(error)\n",
    "# stdError = statistics.stdev(error)\n",
    "#\n",
    "# accuracy = (((df.prep_time - df.predicted_prep_time))/(7*60+df.prep_time)).values.tolist()"
   ]
  },
  {
   "cell_type": "code",
   "execution_count": null,
   "id": "335de2ba",
   "metadata": {
    "ExecuteTime": {
     "end_time": "2023-03-16T09:10:15.581138Z",
     "start_time": "2023-03-16T09:10:15.581125Z"
    }
   },
   "outputs": [],
   "source": [
    "# Time Consuming (training on first 14 days of July)\n",
    "restWiseModelsXGB = {}\n",
    "\n",
    "for storeId in allStoreIds:\n",
    "    firstTime = datetime(2022, 7, 1)\n",
    "    lastTime = datetime(2022, 7, 14)\n",
    "    trainingData = restWiseDFs[storeId].loc[(restWiseDFs[storeId]['Kitchen_Display_Time'] >= firstTime) & \\\n",
    "          (restWiseDFs[storeId]['Kitchen_Display_Time'] <= lastTime)]\n",
    "    \n",
    "    X_train = trainingData.loc[:, feature_cols]\n",
    "    y_train = trainingData.prep_time.values.tolist()\n",
    "\n",
    "    firstTime = datetime(2022, 7, 15)\n",
    "    lastTime = datetime(2022, 7, 21)\n",
    "    validationData = restWiseDFs[storeId].loc[(restWiseDFs[storeId]['Kitchen_Display_Time'] >= firstTime) & \\\n",
    "          (restWiseDFs[storeId]['Kitchen_Display_Time'] <= lastTime)]\n",
    "\n",
    "    X_train_val = validationData.loc[:, feature_cols]\n",
    "    y_train_val = validationData.prep_time.values.tolist()\n",
    "\n",
    "    firstTime = datetime(2022, 7, 22)\n",
    "    lastTime = datetime(2022, 7, 31)\n",
    "    testData = restWiseDFs[storeId].loc[(restWiseDFs[storeId]['Kitchen_Display_Time'] >= firstTime) & \\\n",
    "          (restWiseDFs[storeId]['Kitchen_Display_Time'] <= lastTime)]\n",
    "\n",
    "    X_test = testData.loc[:, feature_cols]\n",
    "    y_test = testData.prep_time.values.tolist()\n",
    "\n",
    "\n",
    "    regressor = XGBRegressor()\n",
    "    # define the parameter grid to search\n",
    "    param_grid = {\n",
    "        'tree_method': ['approx', 'hist', 'auto'],\n",
    "        'n_estimators': [50, 100, 200],\n",
    "        'max_depth': [5, 7, 10, 13],\n",
    "        'learning_rate': [0.1, 0.01, 0.001],\n",
    "        'subsample': [0.6, 0.7, 0.8],\n",
    "        'colsample_bytree': [0.6, 0.7, 0.8],\n",
    "        'enable_categorical': [True],\n",
    "    }\n",
    "\n",
    "    # define the GridSearchCV object with the parameter grid and the XGBRegressor model\n",
    "    grid_search = GridSearchCV(estimator=regressor, param_grid=param_grid, cv=5)\n",
    "\n",
    "    # fit the GridSearchCV object on the training set\n",
    "    grid_search.fit(X_train, y_train)\n",
    "\n",
    "    # print the best hyperparameters and the corresponding mean cross-validated score\n",
    "    print(\"Best hyperparameters:\", grid_search.best_params_)\n",
    "    print(\"Best mean cross-validated score:\", grid_search.best_score_)\n",
    "\n",
    "    # retrain the model on the combined training and validation sets with the best hyperparameters\n",
    "    best_regressor = XGBRegressor(**grid_search.best_params_)\n",
    "    best_regressor.fit(X_train_val, y_train_val)\n",
    "\n",
    "    # evaluate the final model performance on the test set\n",
    "    test_score = best_regressor.score(X_test, y_test)\n",
    "    print(\"Test score:\", test_score)\n",
    "\n",
    "    # regressor.fit(X_train, y_train)\n",
    "    restWiseModelsXGB[storeId] = best_regressor\n",
    "    \n",
    "    \n",
    "    X = restWiseDFs[storeId].loc[:, feature_cols]\n",
    "    y = restWiseDFs[storeId].prep_time.values.tolist()\n",
    "    predictions = best_regressor.predict(X)\n",
    "    restWiseDFs[storeId]['predicted_prep_time'] = predictions\n",
    "    \n",
    "    a = getRMSE(y, predictions)\n",
    "    print(\"RMSE score overall for store (30 days) \"+storeId+\" :  \", a)"
   ]
  },
  {
   "cell_type": "code",
   "execution_count": null,
   "id": "c8011b50",
   "metadata": {
    "ExecuteTime": {
     "end_time": "2023-03-16T09:10:15.582097Z",
     "start_time": "2023-03-16T09:10:15.582085Z"
    }
   },
   "outputs": [],
   "source": [
    "save_object(restWiseDFs, f'restWiseDFsWithPredictions{city}.pkl')"
   ]
  },
  {
   "cell_type": "code",
   "execution_count": null,
   "id": "c39c659c",
   "metadata": {
    "ExecuteTime": {
     "end_time": "2023-03-16T09:10:15.583139Z",
     "start_time": "2023-03-16T09:10:15.583127Z"
    }
   },
   "outputs": [],
   "source": [
    "save_object(restWiseModelsXGB, f'restWiseModels{city}.pkl')"
   ]
  },
  {
   "cell_type": "code",
   "execution_count": null,
   "id": "1417dc6e",
   "metadata": {},
   "outputs": [],
   "source": []
  },
  {
   "cell_type": "code",
   "execution_count": null,
   "id": "7b8d7565",
   "metadata": {
    "ExecuteTime": {
     "end_time": "2023-03-16T09:10:15.584505Z",
     "start_time": "2023-03-16T09:10:15.584493Z"
    }
   },
   "outputs": [],
   "source": [
    "def getPredictionHyperparameters(startDay, endDay): # both are included\n",
    "    df = pd.DataFrame()\n",
    "    firstTime = datetime(2022, 7, startDay)\n",
    "    lastTime = datetime(2022, 7, endDay) + timedelta(days=1)\n",
    "    for storeId in allStoreIds:\n",
    "        df2 = restWiseDFs[storeId].loc[(restWiseDFs[storeId]['Kitchen_Display_Time'] >= firstTime) & \\\n",
    "          (restWiseDFs[storeId]['Kitchen_Display_Time'] < lastTime) & \\\n",
    "                                       (restWiseDFs[storeId]['prep_time'] != timedelta(0))]\n",
    "        df = pd.concat([df, df2], ignore_index = True)\n",
    "    \n",
    "    rmse = ((df.prep_time - df.predicted_prep_time) ** 2).mean() ** .5\n",
    "    \n",
    "    absError = (abs(df.prep_time - df.predicted_prep_time)).values.tolist()\n",
    "    meanAbsError = statistics.mean(absError)\n",
    "    medianAbsError = statistics.median(absError)\n",
    "    stdAbsError = statistics.stdev(absError)\n",
    "    \n",
    "    error = (df.prep_time - df.predicted_prep_time).values.tolist()\n",
    "    meanError = statistics.mean(error)\n",
    "    medianError = statistics.median(error)\n",
    "    stdError = statistics.stdev(error)\n",
    "    \n",
    "    accuracy = (((df.prep_time - df.predicted_prep_time))/(7*60+df.prep_time)).values.tolist()\n",
    "    for i in range(0, len(accuracy)):\n",
    "        if accuracy[i] < 0:\n",
    "            accuracy[i] = -1*accuracy[i]\n",
    "        accuracy[i] = 1-accuracy[i]\n",
    "    meanAccuracy = statistics.mean(accuracy)\n",
    "    if not(meanAccuracy > 0 and meanAccuracy < 1):\n",
    "        print(\"Mean accuracy is zero: \")\n",
    "        print(meanAccuracy)\n",
    "    medianAccuracy = statistics.median(accuracy)\n",
    "    stdAccuracy = statistics.stdev(accuracy)\n",
    "    return rmse, (meanAbsError, medianAbsError, stdAbsError), (meanError, medianError, stdError), (meanAccuracy, medianAccuracy, stdAccuracy)"
   ]
  },
  {
   "cell_type": "code",
   "execution_count": null,
   "id": "87e1f424",
   "metadata": {
    "ExecuteTime": {
     "end_time": "2023-03-16T09:10:15.585544Z",
     "start_time": "2023-03-16T09:10:15.585531Z"
    }
   },
   "outputs": [],
   "source": [
    "rmseList = []\n",
    "meanAbsErrorList = []\n",
    "medianAbsErrorList = []\n",
    "stdAbsErrorList = []\n",
    "meanErrorList = []\n",
    "medianErrorList = []\n",
    "stdErrorList = []\n",
    "meanAccuracyList = []\n",
    "medianAccuracyList = []\n",
    "stdAccuracyList = []\n",
    "\n",
    "x = [15, 16, 17, 18, 19, 20, 21, 22, 23, 24, 25, 26, 27, 28, 29, 30, 31]\n",
    "\n",
    "for i in x:\n",
    "    (rmse, (meanAbsError, medianAbsError, stdAbsError), \n",
    "    (meanError, medianError, stdError), \n",
    "    (meanAccuracy, medianAccuracy, stdAccuracy)) = getPredictionHyperparameters(i,i)\n",
    "    rmseList.append(rmse)\n",
    "    meanAbsErrorList.append(meanAbsError)\n",
    "    medianAbsErrorList.append(medianAbsError)\n",
    "    stdAbsErrorList.append(stdAbsError)\n",
    "    meanErrorList.append(meanError)\n",
    "    medianErrorList.append(medianError)\n",
    "    stdErrorList.append(stdError)\n",
    "    meanAccuracyList.append(meanAccuracy)\n",
    "    medianAccuracyList.append(medianAccuracy)\n",
    "    stdAccuracyList.append(stdAccuracy)"
   ]
  },
  {
   "cell_type": "code",
   "execution_count": null,
   "id": "3da6820d",
   "metadata": {
    "ExecuteTime": {
     "end_time": "2023-03-16T09:10:15.586353Z",
     "start_time": "2023-03-16T09:10:15.586342Z"
    }
   },
   "outputs": [],
   "source": [
    "# plot for 15, 20, 25, 30 july \n",
    "plt.bar(x, rmseList)\n",
    "plt.xticks(x)\n",
    "plt.xlabel(\"Date\")\n",
    "plt.ylabel(\"RMSE value on the respective day\")\n",
    "plt.title(\"Model predictions with days\")\n",
    "plt.savefig(f'{city}_1.png')"
   ]
  },
  {
   "cell_type": "code",
   "execution_count": null,
   "id": "a7275d7e",
   "metadata": {
    "ExecuteTime": {
     "end_time": "2023-03-16T09:10:15.587228Z",
     "start_time": "2023-03-16T09:10:15.587217Z"
    }
   },
   "outputs": [],
   "source": [
    "# plot for 15, 20, 25, 30 july \n",
    "plt.bar(x, medianAbsErrorList)\n",
    "plt.xticks(x)\n",
    "plt.xlabel(\"Date\")\n",
    "plt.ylabel(\"Absolute Value of error (median) on the respective day\")\n",
    "plt.title(\"Model predictions with days\")\n",
    "plt.savefig(f'{city}_3.png')"
   ]
  },
  {
   "cell_type": "code",
   "execution_count": null,
   "id": "9d98e9e6",
   "metadata": {
    "ExecuteTime": {
     "end_time": "2023-03-16T09:10:15.588079Z",
     "start_time": "2023-03-16T09:10:15.588068Z"
    }
   },
   "outputs": [],
   "source": [
    "# plot for 15, 20, 25, 30 july \n",
    "plt.errorbar(x, meanErrorList, stdErrorList)\n",
    "plt.xticks(x)\n",
    "plt.xlabel(\"Date\")\n",
    "plt.ylabel(\"error (mean, std dev of the day) on the respective day\")\n",
    "plt.title(\"Model predictions with days\")\n",
    "plt.savefig(f'{city}_4.png')"
   ]
  },
  {
   "cell_type": "code",
   "execution_count": null,
   "id": "e4180da9",
   "metadata": {
    "ExecuteTime": {
     "end_time": "2023-03-16T09:10:15.588909Z",
     "start_time": "2023-03-16T09:10:15.588898Z"
    }
   },
   "outputs": [],
   "source": [
    "# plot for 15, 20, 25, 30 july \n",
    "plt.bar(x, medianErrorList)\n",
    "plt.xticks(x)\n",
    "plt.xlabel(\"Date\")\n",
    "plt.ylabel(\"error (median) on the respective day\")\n",
    "plt.title(\"Model predictions with days\")\n",
    "plt.savefig(f'{city}_5.png')"
   ]
  },
  {
   "cell_type": "code",
   "execution_count": null,
   "id": "96ca9374",
   "metadata": {
    "ExecuteTime": {
     "end_time": "2023-03-16T09:10:15.590292Z",
     "start_time": "2023-03-16T09:10:15.590281Z"
    }
   },
   "outputs": [],
   "source": [
    "# plot for 15, 20, 25, 30 july \n",
    "plt.errorbar(x, meanAccuracyList, stdAccuracyList)\n",
    "plt.xticks(x)\n",
    "plt.xlabel(\"Date\")\n",
    "plt.ylabel(\"Accuracy (mean, std dev of the day) on the respective day\")\n",
    "plt.title(\"Model predictions with days\")\n",
    "plt.savefig(f'{city}_6.png')\n",
    "\n"
   ]
  },
  {
   "cell_type": "code",
   "execution_count": null,
   "id": "06a29c30",
   "metadata": {
    "ExecuteTime": {
     "end_time": "2023-03-16T09:10:15.591105Z",
     "start_time": "2023-03-16T09:10:15.591094Z"
    }
   },
   "outputs": [],
   "source": [
    "overallDf = pd.DataFrame()\n",
    "for storeId in allStoreIds:\n",
    "        overallDf = pd.concat([overallDf, restWiseDFs[storeId]], ignore_index = True)"
   ]
  },
  {
   "cell_type": "code",
   "execution_count": null,
   "id": "7bc79ae7",
   "metadata": {
    "ExecuteTime": {
     "end_time": "2023-03-16T09:10:15.591916Z",
     "start_time": "2023-03-16T09:10:15.591906Z"
    }
   },
   "outputs": [],
   "source": [
    "a = overallDf.loc[(overallDf['Oven_Time'] - overallDf['Kitchen_Display_Time'] < timedelta(seconds=1))]"
   ]
  },
  {
   "cell_type": "code",
   "execution_count": null,
   "id": "3c9bc55e",
   "metadata": {
    "ExecuteTime": {
     "end_time": "2023-03-16T09:10:15.592729Z",
     "start_time": "2023-03-16T09:10:15.592718Z"
    }
   },
   "outputs": [],
   "source": [
    "a"
   ]
  },
  {
   "cell_type": "code",
   "execution_count": null,
   "id": "bcdf4bd8",
   "metadata": {
    "ExecuteTime": {
     "end_time": "2023-03-16T09:10:15.593655Z",
     "start_time": "2023-03-16T09:10:15.593643Z"
    }
   },
   "outputs": [],
   "source": [
    "# plot for 15, 20, 25, 30 july \n",
    "plt.ylim(0.8, 1)\n",
    "plt.bar(x, medianAccuracyList)\n",
    "plt.xticks(x)\n",
    "plt.xlabel(\"Date\")\n",
    "plt.ylabel(\"Accuracy (median) on the respective day\")\n",
    "plt.title(\"Model predictions with days\")\n",
    "plt.savefig(f'{city}_7.png')\n"
   ]
  },
  {
   "cell_type": "code",
   "execution_count": null,
   "id": "e05bfe46",
   "metadata": {
    "ExecuteTime": {
     "end_time": "2023-03-16T09:10:15.594646Z",
     "start_time": "2023-03-16T09:10:15.594633Z"
    }
   },
   "outputs": [],
   "source": [
    "# baseline approach\n",
    "# Hourwise avg \n",
    "\n",
    "weekdayHourWiseAvg = {}\n",
    "weekendHourWiseAvg = {}\n",
    "for store in allStoreIds:\n",
    "    weekdayHourWiseAvg[store] = {}\n",
    "    weekendHourWiseAvg[store] = {}\n",
    "for i in range(1, 15):\n",
    "    dt = datetime(2022, 7, i)\n",
    "    for storeId in allStoreIds:\n",
    "        df = restWiseDFs[storeId].loc[(restWiseDFs[storeId]['Kitchen_Display_Time'] >= dt) & \\\n",
    "          (restWiseDFs[storeId]['Kitchen_Display_Time'] < dt+timedelta(days=1))]\n",
    "        for index, item in df.iterrows():\n",
    "            ts = getTimeslot(item['Kitchen_Display_Time'])\n",
    "            if(dayOfTheWeek(item['Kitchen_Display_Time']) >= 5):\n",
    "                if ts not in weekendHourWiseAvg[storeId]:\n",
    "                    weekendHourWiseAvg[storeId][ts] = {'val': 0, 'cnt': 0}\n",
    "                weekendHourWiseAvg[storeId][ts]['val'] += item['prep_time']\n",
    "                weekendHourWiseAvg[storeId][ts]['cnt'] += 1\n",
    "            else:\n",
    "                if ts not in weekdayHourWiseAvg[storeId]:\n",
    "                    weekdayHourWiseAvg[storeId][ts] = {'val': 0, 'cnt': 0}\n",
    "                weekdayHourWiseAvg[storeId][ts]['val'] += item['prep_time']\n",
    "                weekdayHourWiseAvg[storeId][ts]['cnt'] += 1\n",
    "\n",
    "for storeId in allStoreIds:\n",
    "    for ts in weekdayHourWiseAvg[storeId].keys():\n",
    "        weekdayHourWiseAvg[storeId][ts]['val'] = weekdayHourWiseAvg[storeId][ts]['val']/weekdayHourWiseAvg[storeId][ts]['cnt']\n",
    "    for ts in weekendHourWiseAvg[storeId].keys():\n",
    "        weekendHourWiseAvg[storeId][ts]['val'] = weekendHourWiseAvg[storeId][ts]['val']/weekendHourWiseAvg[storeId][ts]['cnt']\n",
    "        \n",
    "\n",
    "        \n",
    "        "
   ]
  },
  {
   "cell_type": "code",
   "execution_count": null,
   "id": "f8ba4d96",
   "metadata": {
    "ExecuteTime": {
     "end_time": "2023-03-16T09:10:15.595521Z",
     "start_time": "2023-03-16T09:10:15.595510Z"
    }
   },
   "outputs": [],
   "source": [
    "overallDF = pd.DataFrame()\n",
    "for storeId in allStoreIds:\n",
    "    overallDF = pd.concat([overallDF, restWiseDFs[storeId]], ignore_index = True)"
   ]
  },
  {
   "cell_type": "code",
   "execution_count": null,
   "id": "e6f27b15",
   "metadata": {
    "ExecuteTime": {
     "end_time": "2023-03-16T09:10:15.596473Z",
     "start_time": "2023-03-16T09:10:15.596461Z"
    }
   },
   "outputs": [],
   "source": [
    "avgs = []\n",
    "for index, item in overallDF.iterrows():\n",
    "    ts = getTimeslot(item['Kitchen_Display_Time'])\n",
    "    storeId = item['Location_Code']\n",
    "    if(dayOfTheWeek(item['Kitchen_Display_Time']) >= 5):\n",
    "        if(ts not in weekendHourWiseAvg[storeId]):\n",
    "            avgs.append(0)\n",
    "        else:\n",
    "            avgs.append(weekendHourWiseAvg[storeId][ts]['val'] )\n",
    "    else:\n",
    "        if(ts not in weekdayHourWiseAvg[storeId]):\n",
    "            avgs.append(0)\n",
    "        else:\n",
    "            avgs.append(weekdayHourWiseAvg[storeId][ts]['val'] )\n"
   ]
  },
  {
   "cell_type": "code",
   "execution_count": null,
   "id": "e1550749",
   "metadata": {
    "ExecuteTime": {
     "end_time": "2023-03-16T09:10:15.597428Z",
     "start_time": "2023-03-16T09:10:15.597417Z"
    }
   },
   "outputs": [],
   "source": [
    "overallDF['hourwise_avg'] = avgs"
   ]
  },
  {
   "cell_type": "code",
   "execution_count": null,
   "id": "8ef84e7d",
   "metadata": {
    "ExecuteTime": {
     "end_time": "2023-03-16T09:10:15.598559Z",
     "start_time": "2023-03-16T09:10:15.598547Z"
    }
   },
   "outputs": [],
   "source": [
    "restWiseDFs = {}\n",
    "for storeId in allStoreIds:\n",
    "    restWiseDFs[storeId] = overallDF.loc[overallDF['Location_Code'] == storeId]"
   ]
  },
  {
   "cell_type": "code",
   "execution_count": null,
   "id": "ad81ec9e",
   "metadata": {
    "ExecuteTime": {
     "end_time": "2023-03-16T09:10:15.599459Z",
     "start_time": "2023-03-16T09:10:15.599448Z"
    }
   },
   "outputs": [],
   "source": [
    "def getBaselineHyperparameters(startDay, endDay): # both are included\n",
    "    df = pd.DataFrame()\n",
    "    firstTime = datetime(2022, 7, startDay)\n",
    "    lastTime = datetime(2022, 7, endDay) + timedelta(days=1)\n",
    "    for storeId in allStoreIds:\n",
    "        df2 = restWiseDFs[storeId].loc[(restWiseDFs[storeId]['Kitchen_Display_Time'] >= firstTime) & \\\n",
    "          (restWiseDFs[storeId]['Kitchen_Display_Time'] < lastTime)]\n",
    "        df = pd.concat([df, df2], ignore_index = True)\n",
    "    \n",
    "    rmse = ((df.prep_time - df.hourwise_avg) ** 2).mean() ** .5\n",
    "    \n",
    "    absError = (abs(df.prep_time - df.hourwise_avg)).values.tolist()\n",
    "    meanAbsError = statistics.mean(absError)\n",
    "    medianAbsError = statistics.median(absError)\n",
    "    stdAbsError = statistics.stdev(absError)\n",
    "    \n",
    "    error = (df.prep_time - df.hourwise_avg).values.tolist()\n",
    "    meanError = statistics.mean(error)\n",
    "    medianError = statistics.median(error)\n",
    "    stdError = statistics.stdev(error)\n",
    "    \n",
    "    accuracy = ((df.prep_time - abs(df.prep_time - df.hourwise_avg))/df.prep_time).values.tolist()\n",
    "    meanAccuracy = statistics.mean(accuracy)\n",
    "    medianAccuracy = statistics.median(accuracy)\n",
    "    stdAccuracy = statistics.stdev(accuracy)\n",
    "    return rmse, (meanAbsError, medianAbsError, stdAbsError), (meanError, medianError, stdError), (meanAccuracy, medianAccuracy, stdAccuracy)"
   ]
  },
  {
   "cell_type": "code",
   "execution_count": null,
   "id": "327b6871",
   "metadata": {
    "ExecuteTime": {
     "end_time": "2023-03-16T09:10:15.600558Z",
     "start_time": "2023-03-16T09:10:15.600547Z"
    }
   },
   "outputs": [],
   "source": [
    "rmseListBL = []\n",
    "meanAbsErrorListBL = []\n",
    "medianAbsErrorListBL = []\n",
    "stdAbsErrorListBL = []\n",
    "meanErrorListBL = []\n",
    "medianErrorListBL = []\n",
    "stdErrorListBL = []\n",
    "meanAccuracyListBL = []\n",
    "medianAccuracyListBL = []\n",
    "stdAccuracyListBL = []\n",
    "\n",
    "x = [15, 16, 17, 18, 19, 20, 21, 22, 23, 24, 25, 26, 27, 28, 29, 30, 31]\n",
    "\n",
    "for i in x:\n",
    "    (rmse, (meanAbsError, medianAbsError, stdAbsError), \n",
    "    (meanError, medianError, stdError), \n",
    "    (meanAccuracy, medianAccuracy, stdAccuracy)) = getBaselineHyperparameters(i,i)\n",
    "    rmseListBL.append(rmse)\n",
    "    meanAbsErrorListBL.append(meanAbsError)\n",
    "    medianAbsErrorListBL.append(medianAbsError)\n",
    "    stdAbsErrorListBL.append(stdAbsError)\n",
    "    meanErrorListBL.append(meanError)\n",
    "    medianErrorListBL.append(medianError)\n",
    "    stdErrorListBL.append(stdError)\n",
    "    meanAccuracyListBL.append(meanAccuracy)\n",
    "    medianAccuracyListBL.append(medianAccuracy)\n",
    "    stdAccuracyListBL.append(stdAccuracy)"
   ]
  },
  {
   "cell_type": "code",
   "execution_count": null,
   "id": "16c1fd68",
   "metadata": {
    "ExecuteTime": {
     "end_time": "2023-03-16T09:10:15.601398Z",
     "start_time": "2023-03-16T09:10:15.601386Z"
    }
   },
   "outputs": [],
   "source": [
    "# plot for 15, 20, 25, 30 july \n",
    "plt.bar(x, rmseListBL)\n",
    "plt.xticks(x)\n",
    "plt.xlabel(\"Date\")\n",
    "plt.ylabel(\"RMSE value on the respective day\")\n",
    "plt.title(\"Baseline prediction\")\n",
    "plt.savefig(f'BL_{city}_1.png')"
   ]
  },
  {
   "cell_type": "code",
   "execution_count": null,
   "id": "954fa3a2",
   "metadata": {
    "ExecuteTime": {
     "end_time": "2023-03-16T09:10:15.602333Z",
     "start_time": "2023-03-16T09:10:15.602322Z"
    }
   },
   "outputs": [],
   "source": [
    "rmseListBL"
   ]
  },
  {
   "cell_type": "code",
   "execution_count": null,
   "id": "d2d27811",
   "metadata": {},
   "outputs": [],
   "source": []
  },
  {
   "cell_type": "code",
   "execution_count": null,
   "id": "bf96bec6",
   "metadata": {
    "ExecuteTime": {
     "end_time": "2023-03-16T09:10:15.603194Z",
     "start_time": "2023-03-16T09:10:15.603182Z"
    }
   },
   "outputs": [],
   "source": [
    "# plot for 15, 20, 25, 30 july \n",
    "plt.bar(x, medianAbsErrorListBL)\n",
    "plt.xticks(x)\n",
    "plt.xlabel(\"Date\")\n",
    "plt.ylabel(\"Absolute Value of error (median) on the respective day\")\n",
    "plt.title(\"Baseline Prediction\")\n",
    "plt.savefig(f'BL_{city}_3.png')"
   ]
  },
  {
   "cell_type": "code",
   "execution_count": null,
   "id": "2cc67186",
   "metadata": {
    "ExecuteTime": {
     "end_time": "2023-03-16T09:10:15.604420Z",
     "start_time": "2023-03-16T09:10:15.604409Z"
    }
   },
   "outputs": [],
   "source": [
    "# plot for 15, 20, 25, 30 july \n",
    "plt.errorbar(x, meanErrorListBL, stdErrorListBL)\n",
    "plt.xticks(x)\n",
    "plt.xlabel(\"Date\")\n",
    "plt.ylabel(\"error (mean, std dev of the day) on the respective day\")\n",
    "plt.title(\"Baseline Prediction\")\n",
    "plt.savefig(f'BL_{city}_4.png')"
   ]
  },
  {
   "cell_type": "code",
   "execution_count": null,
   "id": "f78dcc1a",
   "metadata": {
    "ExecuteTime": {
     "end_time": "2023-03-16T09:10:15.605482Z",
     "start_time": "2023-03-16T09:10:15.605471Z"
    }
   },
   "outputs": [],
   "source": [
    "# plot for 15, 20, 25, 30 july \n",
    "plt.bar(x, medianErrorListBL)\n",
    "plt.xticks(x)\n",
    "plt.xlabel(\"Date\")\n",
    "plt.ylabel(\"error (median) on the respective day\")\n",
    "plt.title(\"Baseline Prediction\")\n",
    "plt.savefig(f'BL_{city}_5.png')"
   ]
  },
  {
   "cell_type": "code",
   "execution_count": null,
   "id": "67bed860",
   "metadata": {
    "ExecuteTime": {
     "end_time": "2023-03-16T09:10:15.606390Z",
     "start_time": "2023-03-16T09:10:15.606379Z"
    }
   },
   "outputs": [],
   "source": [
    "# plot for 15, 20, 25, 30 july \n",
    "plt.errorbar(x, meanAccuracyListBL, stdAccuracyListBL)\n",
    "plt.xticks(x)\n",
    "plt.xlabel(\"Date\")\n",
    "plt.ylabel(\"Accuracy (mean, std dev of the day) on the respective day\")\n",
    "plt.title(\"Baseline Prediction\")\n",
    "plt.savefig(f'BL_{city}_6.png')\n",
    "\n"
   ]
  },
  {
   "cell_type": "code",
   "execution_count": null,
   "id": "26d9b44a",
   "metadata": {
    "ExecuteTime": {
     "end_time": "2023-03-16T09:10:15.607270Z",
     "start_time": "2023-03-16T09:10:15.607259Z"
    }
   },
   "outputs": [],
   "source": [
    "# plot for 15, 20, 25, 30 july \n",
    "plt.ylim(0.7, 1)\n",
    "plt.bar(x, medianAccuracyListBL)\n",
    "plt.xticks(x)\n",
    "plt.xlabel(\"Date\")\n",
    "plt.ylabel(\"Accuracy (median) on the respective day\")\n",
    "plt.title(\"Baseline Prediction\")\n",
    "plt.savefig(f'BL_{city}_7.png')\n"
   ]
  },
  {
   "cell_type": "code",
   "execution_count": null,
   "id": "77100fb3",
   "metadata": {},
   "outputs": [],
   "source": []
  },
  {
   "cell_type": "code",
   "execution_count": null,
   "id": "68cee0a3",
   "metadata": {
    "ExecuteTime": {
     "end_time": "2023-03-16T09:10:15.608301Z",
     "start_time": "2023-03-16T09:10:15.608291Z"
    }
   },
   "outputs": [],
   "source": [
    "(rmseTr, (meanAbsErrorTr, medianAbsErrorTr, stdAbsErrorTr), \n",
    "    (meanErrorTr, medianErrorTr, stdErrorTr), \n",
    "    (meanAccuracyTr, medianAccuracyTr, stdAccuracyTr)) = getPredictionHyperparameters(1, 14)"
   ]
  },
  {
   "cell_type": "code",
   "execution_count": null,
   "id": "c174c632",
   "metadata": {
    "ExecuteTime": {
     "end_time": "2023-03-16T09:10:15.609192Z",
     "start_time": "2023-03-16T09:10:15.609182Z"
    }
   },
   "outputs": [],
   "source": [
    "(rmseTe, (meanAbsErrorTe, medianAbsErrorTe, stdAbsErrorTe), \n",
    "    (meanErrorTe, medianErrorTe, stdErrorTe), \n",
    "    (meanAccuracyTe, medianAccuracyTe, stdAccuracyTe)) = getPredictionHyperparameters(15, 31)"
   ]
  },
  {
   "cell_type": "code",
   "execution_count": null,
   "id": "e47b7600",
   "metadata": {
    "ExecuteTime": {
     "end_time": "2023-03-16T09:10:15.610077Z",
     "start_time": "2023-03-16T09:10:15.610066Z"
    }
   },
   "outputs": [],
   "source": [
    "(rmseTr, (meanAbsErrorTr, medianAbsErrorTr, stdAbsErrorTr), \n",
    "    (meanErrorTr, medianErrorTr, stdErrorTr), \n",
    "    (meanAccuracyTr, medianAccuracyTr, stdAccuracyTr))"
   ]
  },
  {
   "cell_type": "code",
   "execution_count": null,
   "id": "d37efa14",
   "metadata": {
    "ExecuteTime": {
     "end_time": "2023-03-16T09:10:15.610951Z",
     "start_time": "2023-03-16T09:10:15.610940Z"
    }
   },
   "outputs": [],
   "source": [
    "(rmseTe, (meanAbsErrorTe, medianAbsErrorTe, stdAbsErrorTe), \n",
    "    (meanErrorTe, medianErrorTe, stdErrorTe), \n",
    "    (meanAccuracyTe, medianAccuracyTe, stdAccuracyTe))"
   ]
  },
  {
   "cell_type": "code",
   "execution_count": null,
   "id": "5c2d9cc9",
   "metadata": {
    "ExecuteTime": {
     "end_time": "2023-03-16T09:10:15.611896Z",
     "start_time": "2023-03-16T09:10:15.611884Z"
    }
   },
   "outputs": [],
   "source": [
    "x = [15, 16, 17, 18, 19, 20, 21, 22, 23, 24, 25, 26, 27, 28, 29, 30, 31]\n",
    "plt.plot(x, rmseList, label=\"xgboost model\")\n",
    "plt.plot(x, rmseListBL, label='baseline')\n",
    "plt.xticks(x)\n",
    "plt.xlabel(\"Date\")\n",
    "plt.ylabel(\"RMSE Comparison on the respective day\")\n",
    "plt.title(\"Model vs Baseline in RMSE values\")\n",
    "plt.legend()\n",
    "plt.savefig(f'BL_{city}_7.png')\n"
   ]
  },
  {
   "cell_type": "code",
   "execution_count": null,
   "id": "a275958a",
   "metadata": {
    "ExecuteTime": {
     "end_time": "2023-03-16T09:10:15.612865Z",
     "start_time": "2023-03-16T09:10:15.612852Z"
    }
   },
   "outputs": [],
   "source": [
    "x = [15, 16, 17, 18, 19, 20, 21, 22, 23, 24, 25, 26, 27, 28, 29, 30, 31]\n",
    "plt.plot(x, medianAbsErrorList, label=\"xgboost model\")\n",
    "plt.plot(x, medianAbsErrorListBL, label='baseline')\n",
    "plt.xticks(x)\n",
    "plt.xlabel(\"Date\")\n",
    "plt.ylabel(\"Median Abs Error Comparison on the respective day\")\n",
    "plt.title(\"Model vs Baseline in Median Abs Error\")\n",
    "plt.legend()\n",
    "plt.savefig(f'BL_{city}_8.png')"
   ]
  },
  {
   "cell_type": "code",
   "execution_count": null,
   "id": "b93a62a3",
   "metadata": {
    "ExecuteTime": {
     "end_time": "2023-03-16T09:10:15.614991Z",
     "start_time": "2023-03-16T09:10:15.614979Z"
    }
   },
   "outputs": [],
   "source": [
    "def getErrorSlot(error):\n",
    "    return (error//5)*5\n",
    "\n",
    "cnt = {}\n",
    "for index, item in overallDF.iterrows():\n",
    "    error = (item['prep_time'] - item['predicted_prep_time'])/60\n",
    "    lts = getErrorSlot(error)\n",
    "    if(lts not in cnt):\n",
    "        cnt[lts]=1\n",
    "    else:\n",
    "        cnt[lts]+=1"
   ]
  },
  {
   "cell_type": "code",
   "execution_count": null,
   "id": "5e1997ec",
   "metadata": {
    "ExecuteTime": {
     "end_time": "2023-03-16T09:10:15.615914Z",
     "start_time": "2023-03-16T09:10:15.615903Z"
    }
   },
   "outputs": [],
   "source": [
    "ranges = sorted(cnt.keys())"
   ]
  },
  {
   "cell_type": "code",
   "execution_count": null,
   "id": "6ed57caa",
   "metadata": {
    "ExecuteTime": {
     "end_time": "2023-03-16T09:10:15.617488Z",
     "start_time": "2023-03-16T09:10:15.617477Z"
    }
   },
   "outputs": [],
   "source": [
    "cnt[-10]"
   ]
  },
  {
   "cell_type": "code",
   "execution_count": null,
   "id": "3ecbdd43",
   "metadata": {
    "ExecuteTime": {
     "end_time": "2023-03-16T09:10:15.618467Z",
     "start_time": "2023-03-16T09:10:15.618455Z"
    }
   },
   "outputs": [],
   "source": [
    "cnt[-5]"
   ]
  },
  {
   "cell_type": "code",
   "execution_count": null,
   "id": "4bb5d0cb",
   "metadata": {
    "ExecuteTime": {
     "end_time": "2023-03-16T09:10:15.619392Z",
     "start_time": "2023-03-16T09:10:15.619381Z"
    }
   },
   "outputs": [],
   "source": [
    "cnt[0]"
   ]
  },
  {
   "cell_type": "code",
   "execution_count": null,
   "id": "2b1d7ce7",
   "metadata": {
    "ExecuteTime": {
     "end_time": "2023-03-16T09:10:15.620182Z",
     "start_time": "2023-03-16T09:10:15.620170Z"
    }
   },
   "outputs": [],
   "source": [
    "for i in range(-)"
   ]
  },
  {
   "cell_type": "code",
   "execution_count": null,
   "id": "8eade10b",
   "metadata": {},
   "outputs": [],
   "source": []
  },
  {
   "cell_type": "code",
   "execution_count": null,
   "id": "a28e25c9",
   "metadata": {},
   "outputs": [],
   "source": []
  },
  {
   "cell_type": "code",
   "execution_count": null,
   "id": "e24840d2",
   "metadata": {},
   "outputs": [],
   "source": []
  },
  {
   "cell_type": "code",
   "execution_count": null,
   "id": "643e39c4",
   "metadata": {},
   "outputs": [],
   "source": []
  },
  {
   "cell_type": "code",
   "execution_count": null,
   "id": "37998c04",
   "metadata": {},
   "outputs": [],
   "source": []
  },
  {
   "cell_type": "code",
   "execution_count": null,
   "id": "e2987534",
   "metadata": {},
   "outputs": [],
   "source": []
  },
  {
   "cell_type": "code",
   "execution_count": null,
   "id": "a9b71d3d",
   "metadata": {},
   "outputs": [],
   "source": []
  },
  {
   "cell_type": "code",
   "execution_count": null,
   "id": "4e163cf3",
   "metadata": {},
   "outputs": [],
   "source": []
  },
  {
   "cell_type": "code",
   "execution_count": null,
   "id": "69030144",
   "metadata": {},
   "outputs": [],
   "source": []
  },
  {
   "cell_type": "code",
   "execution_count": null,
   "id": "e7aea9f2",
   "metadata": {},
   "outputs": [],
   "source": []
  },
  {
   "cell_type": "code",
   "execution_count": null,
   "id": "09f6969b",
   "metadata": {},
   "outputs": [],
   "source": []
  },
  {
   "cell_type": "code",
   "execution_count": null,
   "id": "c0aaf46a",
   "metadata": {},
   "outputs": [],
   "source": []
  },
  {
   "cell_type": "code",
   "execution_count": null,
   "id": "07375c6c",
   "metadata": {},
   "outputs": [],
   "source": []
  },
  {
   "cell_type": "code",
   "execution_count": null,
   "id": "af35e731",
   "metadata": {},
   "outputs": [],
   "source": []
  },
  {
   "cell_type": "code",
   "execution_count": null,
   "id": "5a30a4c0",
   "metadata": {},
   "outputs": [],
   "source": []
  },
  {
   "cell_type": "code",
   "execution_count": null,
   "id": "75f8bebb",
   "metadata": {},
   "outputs": [],
   "source": []
  },
  {
   "cell_type": "code",
   "execution_count": null,
   "id": "068d3e08",
   "metadata": {},
   "outputs": [],
   "source": []
  },
  {
   "cell_type": "code",
   "execution_count": null,
   "id": "484d1850",
   "metadata": {},
   "outputs": [],
   "source": []
  },
  {
   "cell_type": "code",
   "execution_count": null,
   "id": "10369e7e",
   "metadata": {},
   "outputs": [],
   "source": []
  }
 ],
 "metadata": {
  "kernelspec": {
   "display_name": "Python 3 (ipykernel)",
   "language": "python",
   "name": "python3"
  },
  "language_info": {
   "codemirror_mode": {
    "name": "ipython",
    "version": 3
   },
   "file_extension": ".py",
   "mimetype": "text/x-python",
   "name": "python",
   "nbconvert_exporter": "python",
   "pygments_lexer": "ipython3",
   "version": "3.10.6"
  }
 },
 "nbformat": 4,
 "nbformat_minor": 5
}
