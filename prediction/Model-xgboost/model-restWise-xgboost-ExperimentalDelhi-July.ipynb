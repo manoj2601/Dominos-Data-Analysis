{
 "cells": [
  {
   "cell_type": "code",
   "execution_count": 1,
   "id": "3488f333",
   "metadata": {
    "ExecuteTime": {
     "end_time": "2023-03-19T22:16:48.283358Z",
     "start_time": "2023-03-19T22:16:47.022505Z"
    },
    "pycharm": {
     "is_executing": true
    }
   },
   "outputs": [],
   "source": [
    "# imports\n",
    "import json\n",
    "import pandas as pd\n",
    "import numpy as np\n",
    "import random\n",
    "from datetime import datetime, timedelta\n",
    "import sklearn\n",
    "import math\n",
    "from sklearn.feature_extraction.text import CountVectorizer\n",
    "from sklearn.feature_extraction.text import TfidfVectorizer\n",
    "from sklearn.linear_model import LogisticRegression\n",
    "from sklearn.model_selection import train_test_split\n",
    "\n",
    "import time\n",
    "import matplotlib.pyplot as plt\n",
    "\n",
    "from sklearn.model_selection import train_test_split\n",
    "from sklearn.preprocessing import StandardScaler\n",
    "from sklearn.neural_network import MLPClassifier\n",
    "from sklearn.metrics import classification_report, confusion_matrix\n",
    "from sklearn.ensemble import RandomForestRegressor \n",
    "from statistics import mean\n",
    "import pickle\n",
    "import statistics\n",
    "\n",
    "from sklearn.model_selection import cross_val_score\n",
    "from sklearn.model_selection import RepeatedKFold\n",
    "from xgboost import XGBRegressor\n",
    "from numpy import absolute\n",
    "from sklearn.model_selection import GridSearchCV\n",
    "import seaborn as sns\n",
    "from collections import Counter\n",
    "from matplotlib import pyplot"
   ]
  },
  {
   "cell_type": "code",
   "execution_count": 2,
   "id": "03a22cbb",
   "metadata": {
    "ExecuteTime": {
     "end_time": "2023-03-19T22:16:48.873133Z",
     "start_time": "2023-03-19T22:16:48.867013Z"
    }
   },
   "outputs": [],
   "source": [
    "city = 'Delhi'\n",
    "month = 'July'\n",
    "PATH = f'./../../Item_wise_data/{city}/'\n",
    "# PATH = './../'\n"
   ]
  },
  {
   "cell_type": "code",
   "execution_count": 3,
   "id": "500b335e",
   "metadata": {
    "ExecuteTime": {
     "end_time": "2023-03-19T22:17:36.494598Z",
     "start_time": "2023-03-19T22:16:50.422517Z"
    },
    "pycharm": {
     "is_executing": true
    }
   },
   "outputs": [
    {
     "name": "stderr",
     "output_type": "stream",
     "text": [
      "/tmp/ipykernel_264479/70406848.py:2: DtypeWarning: Columns (24) have mixed types. Specify dtype option on import or set low_memory=False.\n",
      "  df = pd.read_csv(PATH+f'{month}.csv')\n"
     ]
    }
   ],
   "source": [
    "# exclude non baking items\n",
    "df = pd.read_csv(PATH+f'{month}.csv')\n",
    "df = df[pd.notna(df['Oven_Time'])]\n",
    "df = df.sort_values(by =['Kitchen_Display_Time', 'Location_Code', 'Order_Number'])\n",
    "# df"
   ]
  },
  {
   "cell_type": "code",
   "execution_count": 4,
   "id": "ec45c79b",
   "metadata": {
    "ExecuteTime": {
     "end_time": "2023-03-19T22:17:37.070384Z",
     "start_time": "2023-03-19T22:17:36.497440Z"
    }
   },
   "outputs": [
    {
     "name": "stdout",
     "output_type": "stream",
     "text": [
      "(2389570, 29)\n",
      "(2389570, 10)\n"
     ]
    }
   ],
   "source": [
    "print(df.shape)\n",
    "df = df.drop(['storedesc', 'city', 'Customer_Code', 'Customer_Name', 'Actual_Order_Date', 'Order_Status_Code', 'Order_Type_Code', 'Order_Saved', 'Order_Time', 'Driver_ID', 'Route_Time', 'Return_Time', 'Delayed_Order', 'Order_Taker_ID','Order_Taker_Shift', 'Closed_Order_Time', 'Customer_Address_Id', 'Original_Location_Code', 'Order_Id',], axis=1)\n",
    "print(df.shape)\n"
   ]
  },
  {
   "cell_type": "code",
   "execution_count": 5,
   "id": "be15fa7d",
   "metadata": {
    "ExecuteTime": {
     "end_time": "2023-03-19T22:17:38.952746Z",
     "start_time": "2023-03-19T22:17:37.072231Z"
    }
   },
   "outputs": [
    {
     "name": "stdout",
     "output_type": "stream",
     "text": [
      "(2389570, 11)\n"
     ]
    },
    {
     "data": {
      "text/html": [
       "<div>\n",
       "<style scoped>\n",
       "    .dataframe tbody tr th:only-of-type {\n",
       "        vertical-align: middle;\n",
       "    }\n",
       "\n",
       "    .dataframe tbody tr th {\n",
       "        vertical-align: top;\n",
       "    }\n",
       "\n",
       "    .dataframe thead th {\n",
       "        text-align: right;\n",
       "    }\n",
       "</style>\n",
       "<table border=\"1\" class=\"dataframe\">\n",
       "  <thead>\n",
       "    <tr style=\"text-align: right;\">\n",
       "      <th></th>\n",
       "      <th>Location_Code</th>\n",
       "      <th>Order_Date</th>\n",
       "      <th>Order_Number</th>\n",
       "      <th>Driver_Shift</th>\n",
       "      <th>Kitchen_Display_Time</th>\n",
       "      <th>Oven_Time</th>\n",
       "      <th>Menu_Code</th>\n",
       "      <th>Item Description</th>\n",
       "      <th>Quantity</th>\n",
       "      <th>Delivery_Time</th>\n",
       "      <th>prep_time</th>\n",
       "    </tr>\n",
       "  </thead>\n",
       "  <tbody>\n",
       "    <tr>\n",
       "      <th>1447916</th>\n",
       "      <td>DPI63889</td>\n",
       "      <td>2022-07-01</td>\n",
       "      <td>4</td>\n",
       "      <td>0</td>\n",
       "      <td>2022-07-01 10:00:08.343</td>\n",
       "      <td>2022-07-01 10:36:14.447</td>\n",
       "      <td>PIZ0121</td>\n",
       "      <td>VG2-1Mexican Green</td>\n",
       "      <td>1</td>\n",
       "      <td>NaN</td>\n",
       "      <td>2166.104</td>\n",
       "    </tr>\n",
       "    <tr>\n",
       "      <th>1447917</th>\n",
       "      <td>DPI63889</td>\n",
       "      <td>2022-07-01</td>\n",
       "      <td>4</td>\n",
       "      <td>0</td>\n",
       "      <td>2022-07-01 10:00:08.343</td>\n",
       "      <td>2022-07-01 10:36:18.980</td>\n",
       "      <td>BRD0024</td>\n",
       "      <td>BR-Stuffed Garlic Breadsticks</td>\n",
       "      <td>1</td>\n",
       "      <td>NaN</td>\n",
       "      <td>2170.637</td>\n",
       "    </tr>\n",
       "    <tr>\n",
       "      <th>1447929</th>\n",
       "      <td>DPI63889</td>\n",
       "      <td>2022-07-01</td>\n",
       "      <td>6</td>\n",
       "      <td>0</td>\n",
       "      <td>2022-07-01 10:25:07.227</td>\n",
       "      <td>2022-07-01 10:51:54.243</td>\n",
       "      <td>BRD0020</td>\n",
       "      <td>BR-Garlic Breadsticks</td>\n",
       "      <td>1</td>\n",
       "      <td>NaN</td>\n",
       "      <td>1607.016</td>\n",
       "    </tr>\n",
       "    <tr>\n",
       "      <th>1447931</th>\n",
       "      <td>DPI63889</td>\n",
       "      <td>2022-07-01</td>\n",
       "      <td>6</td>\n",
       "      <td>0</td>\n",
       "      <td>2022-07-01 10:25:07.227</td>\n",
       "      <td>2022-07-01 10:51:54.070</td>\n",
       "      <td>PIZ0125</td>\n",
       "      <td>Veg Paradise Pizza</td>\n",
       "      <td>1</td>\n",
       "      <td>NaN</td>\n",
       "      <td>1606.843</td>\n",
       "    </tr>\n",
       "    <tr>\n",
       "      <th>1491115</th>\n",
       "      <td>DPI66168</td>\n",
       "      <td>2022-07-01</td>\n",
       "      <td>1</td>\n",
       "      <td>0</td>\n",
       "      <td>2022-07-01 10:40:11.857</td>\n",
       "      <td>2022-07-01 10:40:48.220</td>\n",
       "      <td>PIZ0129</td>\n",
       "      <td>_PIZ35-Pizza Mania Onion</td>\n",
       "      <td>1</td>\n",
       "      <td>2022-07-01 10:54:39.127</td>\n",
       "      <td>36.363</td>\n",
       "    </tr>\n",
       "  </tbody>\n",
       "</table>\n",
       "</div>"
      ],
      "text/plain": [
       "        Location_Code  Order_Date  Order_Number  Driver_Shift  \\\n",
       "1447916      DPI63889  2022-07-01             4             0   \n",
       "1447917      DPI63889  2022-07-01             4             0   \n",
       "1447929      DPI63889  2022-07-01             6             0   \n",
       "1447931      DPI63889  2022-07-01             6             0   \n",
       "1491115      DPI66168  2022-07-01             1             0   \n",
       "\n",
       "           Kitchen_Display_Time               Oven_Time Menu_Code  \\\n",
       "1447916 2022-07-01 10:00:08.343 2022-07-01 10:36:14.447   PIZ0121   \n",
       "1447917 2022-07-01 10:00:08.343 2022-07-01 10:36:18.980   BRD0024   \n",
       "1447929 2022-07-01 10:25:07.227 2022-07-01 10:51:54.243   BRD0020   \n",
       "1447931 2022-07-01 10:25:07.227 2022-07-01 10:51:54.070   PIZ0125   \n",
       "1491115 2022-07-01 10:40:11.857 2022-07-01 10:40:48.220   PIZ0129   \n",
       "\n",
       "                      Item Description  Quantity            Delivery_Time  \\\n",
       "1447916             VG2-1Mexican Green         1                      NaN   \n",
       "1447917  BR-Stuffed Garlic Breadsticks         1                      NaN   \n",
       "1447929          BR-Garlic Breadsticks         1                      NaN   \n",
       "1447931             Veg Paradise Pizza         1                      NaN   \n",
       "1491115       _PIZ35-Pizza Mania Onion         1  2022-07-01 10:54:39.127   \n",
       "\n",
       "         prep_time  \n",
       "1447916   2166.104  \n",
       "1447917   2170.637  \n",
       "1447929   1607.016  \n",
       "1447931   1606.843  \n",
       "1491115     36.363  "
      ]
     },
     "execution_count": 5,
     "metadata": {},
     "output_type": "execute_result"
    }
   ],
   "source": [
    "df['Kitchen_Display_Time'] = pd.to_datetime(df['Kitchen_Display_Time'])\n",
    "df['Oven_Time'] = pd.to_datetime(df['Oven_Time'])\n",
    "df['prep_time'] = df['Oven_Time'] - df['Kitchen_Display_Time']\n",
    "df['prep_time'] = (df['prep_time']/np.timedelta64(1, 's')).astype(float)\n",
    "print(df.shape)\n",
    "df.head()"
   ]
  },
  {
   "cell_type": "code",
   "execution_count": 6,
   "id": "b36a4fbb",
   "metadata": {
    "ExecuteTime": {
     "end_time": "2023-03-19T22:17:39.148385Z",
     "start_time": "2023-03-19T22:17:38.957945Z"
    }
   },
   "outputs": [
    {
     "name": "stdout",
     "output_type": "stream",
     "text": [
      "(2367728, 11)\n"
     ]
    },
    {
     "data": {
      "text/html": [
       "<div>\n",
       "<style scoped>\n",
       "    .dataframe tbody tr th:only-of-type {\n",
       "        vertical-align: middle;\n",
       "    }\n",
       "\n",
       "    .dataframe tbody tr th {\n",
       "        vertical-align: top;\n",
       "    }\n",
       "\n",
       "    .dataframe thead th {\n",
       "        text-align: right;\n",
       "    }\n",
       "</style>\n",
       "<table border=\"1\" class=\"dataframe\">\n",
       "  <thead>\n",
       "    <tr style=\"text-align: right;\">\n",
       "      <th></th>\n",
       "      <th>Location_Code</th>\n",
       "      <th>Order_Date</th>\n",
       "      <th>Order_Number</th>\n",
       "      <th>Driver_Shift</th>\n",
       "      <th>Kitchen_Display_Time</th>\n",
       "      <th>Oven_Time</th>\n",
       "      <th>Menu_Code</th>\n",
       "      <th>Item Description</th>\n",
       "      <th>Quantity</th>\n",
       "      <th>Delivery_Time</th>\n",
       "      <th>prep_time</th>\n",
       "    </tr>\n",
       "  </thead>\n",
       "  <tbody>\n",
       "    <tr>\n",
       "      <th>1491115</th>\n",
       "      <td>DPI66168</td>\n",
       "      <td>2022-07-01</td>\n",
       "      <td>1</td>\n",
       "      <td>0</td>\n",
       "      <td>2022-07-01 10:40:11.857</td>\n",
       "      <td>2022-07-01 10:40:48.220</td>\n",
       "      <td>PIZ0129</td>\n",
       "      <td>_PIZ35-Pizza Mania Onion</td>\n",
       "      <td>1</td>\n",
       "      <td>2022-07-01 10:54:39.127</td>\n",
       "      <td>36.363</td>\n",
       "    </tr>\n",
       "    <tr>\n",
       "      <th>1491117</th>\n",
       "      <td>DPI66168</td>\n",
       "      <td>2022-07-01</td>\n",
       "      <td>1</td>\n",
       "      <td>0</td>\n",
       "      <td>2022-07-01 10:40:11.857</td>\n",
       "      <td>2022-07-01 10:40:48.267</td>\n",
       "      <td>PIZ0130</td>\n",
       "      <td>_PM39-Pizza Mania Golden Corn</td>\n",
       "      <td>1</td>\n",
       "      <td>2022-07-01 10:54:39.127</td>\n",
       "      <td>36.410</td>\n",
       "    </tr>\n",
       "    <tr>\n",
       "      <th>1464200</th>\n",
       "      <td>DPI65804</td>\n",
       "      <td>2022-07-01</td>\n",
       "      <td>2</td>\n",
       "      <td>1</td>\n",
       "      <td>2022-07-01 10:43:16.300</td>\n",
       "      <td>2022-07-01 10:51:22.140</td>\n",
       "      <td>BRD0020</td>\n",
       "      <td>BR-Garlic Breadsticks</td>\n",
       "      <td>1</td>\n",
       "      <td>2022-07-01 11:04:08.000</td>\n",
       "      <td>485.840</td>\n",
       "    </tr>\n",
       "    <tr>\n",
       "      <th>1464202</th>\n",
       "      <td>DPI65804</td>\n",
       "      <td>2022-07-01</td>\n",
       "      <td>2</td>\n",
       "      <td>1</td>\n",
       "      <td>2022-07-01 10:43:16.300</td>\n",
       "      <td>2022-07-01 10:51:21.687</td>\n",
       "      <td>BRD0030</td>\n",
       "      <td>Paneer Tikka Stuffed Garlic Br</td>\n",
       "      <td>1</td>\n",
       "      <td>2022-07-01 11:04:08.000</td>\n",
       "      <td>485.387</td>\n",
       "    </tr>\n",
       "    <tr>\n",
       "      <th>1464203</th>\n",
       "      <td>DPI65804</td>\n",
       "      <td>2022-07-01</td>\n",
       "      <td>2</td>\n",
       "      <td>1</td>\n",
       "      <td>2022-07-01 10:43:16.300</td>\n",
       "      <td>2022-07-01 10:51:21.250</td>\n",
       "      <td>PIZ0170</td>\n",
       "      <td>Cheese Dominator Pizza</td>\n",
       "      <td>1</td>\n",
       "      <td>2022-07-01 11:04:08.000</td>\n",
       "      <td>484.950</td>\n",
       "    </tr>\n",
       "  </tbody>\n",
       "</table>\n",
       "</div>"
      ],
      "text/plain": [
       "        Location_Code  Order_Date  Order_Number  Driver_Shift  \\\n",
       "1491115      DPI66168  2022-07-01             1             0   \n",
       "1491117      DPI66168  2022-07-01             1             0   \n",
       "1464200      DPI65804  2022-07-01             2             1   \n",
       "1464202      DPI65804  2022-07-01             2             1   \n",
       "1464203      DPI65804  2022-07-01             2             1   \n",
       "\n",
       "           Kitchen_Display_Time               Oven_Time Menu_Code  \\\n",
       "1491115 2022-07-01 10:40:11.857 2022-07-01 10:40:48.220   PIZ0129   \n",
       "1491117 2022-07-01 10:40:11.857 2022-07-01 10:40:48.267   PIZ0130   \n",
       "1464200 2022-07-01 10:43:16.300 2022-07-01 10:51:22.140   BRD0020   \n",
       "1464202 2022-07-01 10:43:16.300 2022-07-01 10:51:21.687   BRD0030   \n",
       "1464203 2022-07-01 10:43:16.300 2022-07-01 10:51:21.250   PIZ0170   \n",
       "\n",
       "                       Item Description  Quantity            Delivery_Time  \\\n",
       "1491115        _PIZ35-Pizza Mania Onion         1  2022-07-01 10:54:39.127   \n",
       "1491117   _PM39-Pizza Mania Golden Corn         1  2022-07-01 10:54:39.127   \n",
       "1464200           BR-Garlic Breadsticks         1  2022-07-01 11:04:08.000   \n",
       "1464202  Paneer Tikka Stuffed Garlic Br         1  2022-07-01 11:04:08.000   \n",
       "1464203          Cheese Dominator Pizza         1  2022-07-01 11:04:08.000   \n",
       "\n",
       "         prep_time  \n",
       "1491115     36.363  \n",
       "1491117     36.410  \n",
       "1464200    485.840  \n",
       "1464202    485.387  \n",
       "1464203    484.950  "
      ]
     },
     "execution_count": 6,
     "metadata": {},
     "output_type": "execute_result"
    }
   ],
   "source": [
    "isThresholdForPreparationTime = True\n",
    "thresholdForPreparationTimeUpper = 15 # minutes for preparation time (threshold)\n",
    "thresholdForPreparationTimeLower = 0 # minutes for lowest preparation time (threshold)\n",
    "df2 = pd.DataFrame()\n",
    "if (isThresholdForPreparationTime):\n",
    "    df = df.loc[(df['prep_time'] <= thresholdForPreparationTimeUpper*60) & \\\n",
    "        (df['prep_time'] >= thresholdForPreparationTimeLower*60) ]\n",
    "print(df.shape)\n",
    "df.head()"
   ]
  },
  {
   "cell_type": "code",
   "execution_count": 7,
   "id": "6e5caf87",
   "metadata": {
    "ExecuteTime": {
     "end_time": "2023-03-19T22:17:40.326791Z",
     "start_time": "2023-03-19T22:17:39.150278Z"
    }
   },
   "outputs": [
    {
     "data": {
      "text/plain": [
       "Delivery_Time           0.011608\n",
       "Location_Code           0.000000\n",
       "Order_Date              0.000000\n",
       "Order_Number            0.000000\n",
       "Driver_Shift            0.000000\n",
       "Kitchen_Display_Time    0.000000\n",
       "Oven_Time               0.000000\n",
       "Menu_Code               0.000000\n",
       "Item Description        0.000000\n",
       "Quantity                0.000000\n",
       "prep_time               0.000000\n",
       "dtype: float64"
      ]
     },
     "execution_count": 7,
     "metadata": {},
     "output_type": "execute_result"
    }
   ],
   "source": [
    "df.isnull().sum().sort_values(ascending=False)/df.shape[0]"
   ]
  },
  {
   "cell_type": "code",
   "execution_count": 8,
   "id": "1700996a",
   "metadata": {
    "ExecuteTime": {
     "end_time": "2023-03-19T22:19:10.751387Z",
     "start_time": "2023-03-19T22:17:40.328782Z"
    }
   },
   "outputs": [
    {
     "data": {
      "text/plain": [
       "<seaborn.axisgrid.PairGrid at 0x7f86ad1f9360>"
      ]
     },
     "execution_count": 8,
     "metadata": {},
     "output_type": "execute_result"
    },
    {
     "data": {
      "image/png": "[encoded data removed]",
      "text/plain": [
       "<Figure size 1000x1000 with 20 Axes>"
      ]
     },
     "metadata": {},
     "output_type": "display_data"
    }
   ],
   "source": [
    "sns.pairplot(data=df)"
   ]
  },
  {
   "cell_type": "code",
   "execution_count": 9,
   "id": "77f37d95",
   "metadata": {
    "ExecuteTime": {
     "end_time": "2023-03-19T22:19:14.649640Z",
     "start_time": "2023-03-19T22:19:10.753855Z"
    }
   },
   "outputs": [
    {
     "data": {
      "text/plain": [
       "<Axes: >"
      ]
     },
     "execution_count": 9,
     "metadata": {},
     "output_type": "execute_result"
    },
    {
     "data": {
      "image/png": "[encoded data removed]",
      "text/plain": [
       "<Figure size 640x480 with 1 Axes>"
      ]
     },
     "metadata": {},
     "output_type": "display_data"
    }
   ],
   "source": [
    "sns.boxplot(df)"
   ]
  },
  {
   "cell_type": "code",
   "execution_count": 10,
   "id": "4877e791",
   "metadata": {
    "ExecuteTime": {
     "end_time": "2023-03-19T22:19:14.889838Z",
     "start_time": "2023-03-19T22:19:14.652060Z"
    }
   },
   "outputs": [
    {
     "name": "stdout",
     "output_type": "stream",
     "text": [
      "191\n",
      "114\n"
     ]
    }
   ],
   "source": [
    "allMenuCodes = df['Menu_Code'].unique()\n",
    "allStoreIds = sorted(Counter(df['Location_Code'].values.tolist()), reverse=True)\n",
    "# allMenuCodes,\n",
    "# allStoreIds\n",
    "print(len(allMenuCodes))\n",
    "print(len(allStoreIds))"
   ]
  },
  {
   "cell_type": "code",
   "execution_count": 11,
   "id": "dd82fb15",
   "metadata": {
    "ExecuteTime": {
     "end_time": "2023-03-19T22:19:28.192722Z",
     "start_time": "2023-03-19T22:19:14.892254Z"
    }
   },
   "outputs": [],
   "source": [
    "restWiseDFs = {}\n",
    "for storeId in allStoreIds:\n",
    "    restWiseDFs[storeId] = df.loc[df['Location_Code'] == storeId]"
   ]
  },
  {
   "cell_type": "code",
   "execution_count": 12,
   "id": "0a83c42a",
   "metadata": {
    "ExecuteTime": {
     "end_time": "2023-03-19T22:19:28.201289Z",
     "start_time": "2023-03-19T22:19:28.196927Z"
    }
   },
   "outputs": [],
   "source": [
    "def get_preparation_time(item):\n",
    "    return item['prep_time']"
   ]
  },
  {
   "cell_type": "code",
   "execution_count": 13,
   "id": "3259a2ba",
   "metadata": {
    "ExecuteTime": {
     "end_time": "2023-03-19T22:19:34.595425Z",
     "start_time": "2023-03-19T22:19:28.203311Z"
    }
   },
   "outputs": [],
   "source": [
    "sampleItem=None\n",
    "for index, item in df.iterrows():\n",
    "    sampleItem = item\n",
    "    break"
   ]
  },
  {
   "cell_type": "code",
   "execution_count": 14,
   "id": "4ed902e2",
   "metadata": {
    "ExecuteTime": {
     "end_time": "2023-03-19T22:19:34.603142Z",
     "start_time": "2023-03-19T22:19:34.597381Z"
    }
   },
   "outputs": [],
   "source": [
    "# Feature 1: store id\n",
    "def getOneHotEncodingStore(storeId, stores=allStoreIds):\n",
    "    oneHotEncodingList = []\n",
    "    for i in range(0, len(stores)):\n",
    "        if stores[i] == storeId:\n",
    "            oneHotEncodingList.append(1)\n",
    "        else:\n",
    "            oneHotEncodingList.append(0)\n",
    "    return oneHotEncodingList\n",
    "\n",
    "# returns the feature store id for an order\n",
    "def getStoreId(item, isOneHotEncodingRequired=False):\n",
    "    if isOneHotEncodingRequired:\n",
    "        return getOneHotEncodingStore(item['Location_Code'], allStoreIds)\n",
    "    else:\n",
    "        for i in range(0, len(allStoreIds)):\n",
    "            if item['Location_Code'] == allStoreIds[i]:\n",
    "                return [i+1]\n",
    "        return [-1]"
   ]
  },
  {
   "cell_type": "code",
   "execution_count": 15,
   "id": "9bd329c3",
   "metadata": {
    "ExecuteTime": {
     "end_time": "2023-03-19T22:19:34.618035Z",
     "start_time": "2023-03-19T22:19:34.604807Z"
    }
   },
   "outputs": [],
   "source": [
    "# Feature 2 : Day of the week\n",
    "def dayOfTheWeek(dt, isOneHotEncodingRequired=False):\n",
    "    day = dt.weekday()\n",
    "    if isOneHotEncodingRequired:\n",
    "        days = [0, 0, 0, 0, 0, 0, 0]\n",
    "        days[day] = 1\n",
    "        return days\n",
    "    else:\n",
    "        return [day+1]"
   ]
  },
  {
   "cell_type": "code",
   "execution_count": 16,
   "id": "517c95d9",
   "metadata": {
    "ExecuteTime": {
     "end_time": "2023-03-19T22:19:34.637060Z",
     "start_time": "2023-03-19T22:19:34.619876Z"
    }
   },
   "outputs": [
    {
     "name": "stdout",
     "output_type": "stream",
     "text": [
      "[52]\n",
      "[0, 0, 0, 0, 0, 0, 0, 0, 0, 0, 0, 0, 0, 0, 0, 0, 0, 0, 0, 0, 0, 0, 0, 0, 0, 0, 0, 0, 0, 0, 0, 0, 0, 0, 0, 0, 0, 0, 0, 0, 0, 0, 0, 0, 0, 0, 0, 0, 0, 0, 0, 1, 0, 0, 0, 0, 0, 0, 0, 0, 0, 0, 0, 0, 0, 0, 0, 0, 0, 0, 0, 0, 0, 0, 0, 0, 0, 0, 0, 0, 0, 0, 0, 0, 0, 0, 0, 0, 0, 0, 0, 0, 0, 0, 0, 0, 0, 0, 0, 0, 0, 0, 0, 0, 0, 0, 0, 0, 0, 0, 0, 0, 0, 0]\n"
     ]
    }
   ],
   "source": [
    "print(getStoreId(sampleItem))\n",
    "print(getStoreId(sampleItem, True))"
   ]
  },
  {
   "cell_type": "code",
   "execution_count": 17,
   "id": "2d7aca59",
   "metadata": {
    "ExecuteTime": {
     "end_time": "2023-03-19T22:19:34.656111Z",
     "start_time": "2023-03-19T22:19:34.639342Z"
    }
   },
   "outputs": [],
   "source": [
    "# Feature 3: TimeSlot of kitchen display time\n",
    "total_slots = 24\n",
    "def getTimeslot(dt, slots=total_slots):\n",
    "\tcurrent = datetime(2011, 1, 1)\n",
    "\tt1 = current.time()\n",
    "\tt2 = dt.time()\n",
    "\tfor i in range(0, slots):\n",
    "\t\tcurrent = current + timedelta(minutes = 60*24/slots)\n",
    "\t\tif(current.time() > t2):\n",
    "\t\t\treturn i\n",
    "\treturn slots-1\n",
    "\n",
    "def getOneHotEncodingTimeSlot(timeslot):\n",
    "    oneHotEncodingList = []\n",
    "    for i in range(0, 24):\n",
    "        oneHotEncodingList.append(0)\n",
    "    oneHotEncodingList[timeslot] = 1\n",
    "    return oneHotEncodingList\n",
    "\n",
    "def getTimeSlotOfKitchenDisplayTime(item, isOneHotEncodingRequired=False):\n",
    "    timeslot = getTimeslot(item['Kitchen_Display_Time'], 24)\n",
    "    if (isOneHotEncodingRequired):\n",
    "        return getOneHotEncodingTimeSlot(timeslot)\n",
    "    else:\n",
    "        return [1+timeslot]"
   ]
  },
  {
   "cell_type": "code",
   "execution_count": 18,
   "id": "73180e66",
   "metadata": {
    "ExecuteTime": {
     "end_time": "2023-03-19T22:19:34.677047Z",
     "start_time": "2023-03-19T22:19:34.660052Z"
    }
   },
   "outputs": [],
   "source": [
    "# Feature 4: Item Type\n",
    "def getOneHotEncodedItemList(item, items=allMenuCodes, clubCategoryWise=False):\n",
    "    if clubCategoryWise:\n",
    "        newItemsList = []\n",
    "        newItemsList = [i[0:3] for i in items]\n",
    "        unique_items = list(dict.fromkeys(newItemsList))\n",
    "        return getOneHotEncodedItemList(item[0:3], unique_items, False)\n",
    "    \n",
    "    oneHotEncodingList=[]\n",
    "    for i in range(0, len(items)):\n",
    "        if items[i] == item:\n",
    "            oneHotEncodingList.append(1)\n",
    "        else:\n",
    "            oneHotEncodingList.append(0)\n",
    "    return oneHotEncodingList\n",
    "\n",
    "def getItemType(item, clubCategoryWise=False, isOneHotEncodingRequired=False):\n",
    "    if isOneHotEncodingRequired:\n",
    "        return getOneHotEncodedItemList(item['Menu_Code'], allMenuCodes, clubCategoryWise)\n",
    "    else:\n",
    "        for i in range(0, len(allMenuCodes)):\n",
    "            if allMenuCodes[i] == item['Menu_Code']:\n",
    "                return [i+1]\n",
    "        print(\"DANGER DANGER DANGER \\n\\n\\n\")\n",
    "        return [-1]"
   ]
  },
  {
   "cell_type": "code",
   "execution_count": 19,
   "id": "042b3f08",
   "metadata": {
    "ExecuteTime": {
     "end_time": "2023-03-19T22:19:34.691787Z",
     "start_time": "2023-03-19T22:19:34.680920Z"
    }
   },
   "outputs": [
    {
     "name": "stdout",
     "output_type": "stream",
     "text": [
      "[1, 0, 0, 0, 0, 0, 0, 0, 0, 0, 0, 0, 0, 0, 0, 0, 0, 0, 0, 0, 0, 0, 0, 0, 0, 0, 0, 0, 0, 0, 0, 0, 0, 0, 0, 0, 0, 0, 0, 0, 0, 0, 0, 0, 0, 0, 0, 0, 0, 0, 0, 0, 0, 0, 0, 0, 0, 0, 0, 0, 0, 0, 0, 0, 0, 0, 0, 0, 0, 0, 0, 0, 0, 0, 0, 0, 0, 0, 0, 0, 0, 0, 0, 0, 0, 0, 0, 0, 0, 0, 0, 0, 0, 0, 0, 0, 0, 0, 0, 0, 0, 0, 0, 0, 0, 0, 0, 0, 0, 0, 0, 0, 0, 0, 0, 0, 0, 0, 0, 0, 0, 0, 0, 0, 0, 0, 0, 0, 0, 0, 0, 0, 0, 0, 0, 0, 0, 0, 0, 0, 0, 0, 0, 0, 0, 0, 0, 0, 0, 0, 0, 0, 0, 0, 0, 0, 0, 0, 0, 0, 0, 0, 0, 0, 0, 0, 0, 0, 0, 0, 0, 0, 0, 0, 0, 0, 0, 0, 0, 0, 0, 0, 0, 0, 0, 0, 0, 0, 0, 0, 0]\n",
      "[1]\n",
      "[1]\n",
      "[1]\n"
     ]
    }
   ],
   "source": [
    "print(getItemType(sampleItem, False, True))\n",
    "print(getItemType(sampleItem, True, False))\n",
    "print(getItemType(sampleItem, clubCategoryWise=True))\n",
    "print(getItemType(sampleItem, True))"
   ]
  },
  {
   "cell_type": "code",
   "execution_count": 20,
   "id": "98906d7e",
   "metadata": {
    "ExecuteTime": {
     "end_time": "2023-03-19T22:19:34.745873Z",
     "start_time": "2023-03-19T22:19:34.696587Z"
    }
   },
   "outputs": [],
   "source": [
    "# Feature 5 : Count of all baking items of all orders received by the store in the last 30 minutes.\n",
    "\n",
    "def countPastOrders(item, slotTime=30):\n",
    "    storeId = item['Location_Code']\n",
    "    df = restWiseDFs[storeId]\n",
    "    dtKitchenDisplay = item['Kitchen_Display_Time']\n",
    "    lastTime = dtKitchenDisplay - timedelta(minutes=slotTime)\n",
    "    return len(df.loc[(df['Kitchen_Display_Time'] >= lastTime) & \\\n",
    "          (df['Kitchen_Display_Time'] <= dtKitchenDisplay)].index)"
   ]
  },
  {
   "cell_type": "code",
   "execution_count": 21,
   "id": "7a72af53",
   "metadata": {
    "ExecuteTime": {
     "end_time": "2023-03-19T22:19:34.764548Z",
     "start_time": "2023-03-19T22:19:34.750763Z"
    }
   },
   "outputs": [],
   "source": [
    "# Feature 6: ratio of items in last 30 minutes with items in the window of last 60 to 30 minutes (increment in orders)\n",
    "def getLiftInOrders(item, slotTime = 30):\n",
    "    a = countPastOrders(item, slotTime)\n",
    "    item2 = item\n",
    "    item2['Kitchen_Display_Time'] = item2['Kitchen_Display_Time'] - timedelta(minutes=slotTime)\n",
    "    b = countPastOrders(item2, slotTime)\n",
    "    if b != 0:\n",
    "        return a/b\n",
    "    else:\n",
    "        return 1\n"
   ]
  },
  {
   "cell_type": "code",
   "execution_count": null,
   "id": "13d55221",
   "metadata": {
    "ExecuteTime": {
     "start_time": "2023-03-19T22:17:20.125Z"
    },
    "scrolled": true
   },
   "outputs": [
    {
     "name": "stderr",
     "output_type": "stream",
     "text": [
      "/tmp/ipykernel_264479/916470234.py:6: SettingWithCopyWarning: \n",
      "A value is trying to be set on a copy of a slice from a DataFrame.\n",
      "Try using .loc[row_indexer,col_indexer] = value instead\n",
      "\n",
      "See the caveats in the documentation: https://pandas.pydata.org/pandas-docs/stable/user_guide/indexing.html#returning-a-view-versus-a-copy\n",
      "  restWiseDFs[storeId]['avg_kpt_in_last_one_hour'] = 0 # to create a new column with initial values 0\n",
      "/tmp/ipykernel_264479/916470234.py:7: SettingWithCopyWarning: \n",
      "A value is trying to be set on a copy of a slice from a DataFrame.\n",
      "Try using .loc[row_indexer,col_indexer] = value instead\n",
      "\n",
      "See the caveats in the documentation: https://pandas.pydata.org/pandas-docs/stable/user_guide/indexing.html#returning-a-view-versus-a-copy\n",
      "  restWiseDFs[storeId]['avg_kpt_in_last_7_days'] = 0\n",
      "/tmp/ipykernel_264479/916470234.py:8: SettingWithCopyWarning: \n",
      "A value is trying to be set on a copy of a slice from a DataFrame.\n",
      "Try using .loc[row_indexer,col_indexer] = value instead\n",
      "\n",
      "See the caveats in the documentation: https://pandas.pydata.org/pandas-docs/stable/user_guide/indexing.html#returning-a-view-versus-a-copy\n",
      "  restWiseDFs[storeId]['hourswise_avg_kpt'] = 0\n",
      "/tmp/ipykernel_264479/916470234.py:6: SettingWithCopyWarning: \n",
      "A value is trying to be set on a copy of a slice from a DataFrame.\n",
      "Try using .loc[row_indexer,col_indexer] = value instead\n",
      "\n",
      "See the caveats in the documentation: https://pandas.pydata.org/pandas-docs/stable/user_guide/indexing.html#returning-a-view-versus-a-copy\n",
      "  restWiseDFs[storeId]['avg_kpt_in_last_one_hour'] = 0 # to create a new column with initial values 0\n",
      "/tmp/ipykernel_264479/916470234.py:7: SettingWithCopyWarning: \n",
      "A value is trying to be set on a copy of a slice from a DataFrame.\n",
      "Try using .loc[row_indexer,col_indexer] = value instead\n",
      "\n",
      "See the caveats in the documentation: https://pandas.pydata.org/pandas-docs/stable/user_guide/indexing.html#returning-a-view-versus-a-copy\n",
      "  restWiseDFs[storeId]['avg_kpt_in_last_7_days'] = 0\n",
      "/tmp/ipykernel_264479/916470234.py:8: SettingWithCopyWarning: \n",
      "A value is trying to be set on a copy of a slice from a DataFrame.\n",
      "Try using .loc[row_indexer,col_indexer] = value instead\n",
      "\n",
      "See the caveats in the documentation: https://pandas.pydata.org/pandas-docs/stable/user_guide/indexing.html#returning-a-view-versus-a-copy\n",
      "  restWiseDFs[storeId]['hourswise_avg_kpt'] = 0\n",
      "/tmp/ipykernel_264479/916470234.py:6: SettingWithCopyWarning: \n",
      "A value is trying to be set on a copy of a slice from a DataFrame.\n",
      "Try using .loc[row_indexer,col_indexer] = value instead\n",
      "\n",
      "See the caveats in the documentation: https://pandas.pydata.org/pandas-docs/stable/user_guide/indexing.html#returning-a-view-versus-a-copy\n",
      "  restWiseDFs[storeId]['avg_kpt_in_last_one_hour'] = 0 # to create a new column with initial values 0\n",
      "/tmp/ipykernel_264479/916470234.py:7: SettingWithCopyWarning: \n",
      "A value is trying to be set on a copy of a slice from a DataFrame.\n",
      "Try using .loc[row_indexer,col_indexer] = value instead\n",
      "\n",
      "See the caveats in the documentation: https://pandas.pydata.org/pandas-docs/stable/user_guide/indexing.html#returning-a-view-versus-a-copy\n",
      "  restWiseDFs[storeId]['avg_kpt_in_last_7_days'] = 0\n",
      "/tmp/ipykernel_264479/916470234.py:8: SettingWithCopyWarning: \n",
      "A value is trying to be set on a copy of a slice from a DataFrame.\n",
      "Try using .loc[row_indexer,col_indexer] = value instead\n",
      "\n",
      "See the caveats in the documentation: https://pandas.pydata.org/pandas-docs/stable/user_guide/indexing.html#returning-a-view-versus-a-copy\n",
      "  restWiseDFs[storeId]['hourswise_avg_kpt'] = 0\n",
      "/tmp/ipykernel_264479/916470234.py:6: SettingWithCopyWarning: \n",
      "A value is trying to be set on a copy of a slice from a DataFrame.\n",
      "Try using .loc[row_indexer,col_indexer] = value instead\n",
      "\n",
      "See the caveats in the documentation: https://pandas.pydata.org/pandas-docs/stable/user_guide/indexing.html#returning-a-view-versus-a-copy\n",
      "  restWiseDFs[storeId]['avg_kpt_in_last_one_hour'] = 0 # to create a new column with initial values 0\n",
      "/tmp/ipykernel_264479/916470234.py:7: SettingWithCopyWarning: \n",
      "A value is trying to be set on a copy of a slice from a DataFrame.\n",
      "Try using .loc[row_indexer,col_indexer] = value instead\n",
      "\n",
      "See the caveats in the documentation: https://pandas.pydata.org/pandas-docs/stable/user_guide/indexing.html#returning-a-view-versus-a-copy\n",
      "  restWiseDFs[storeId]['avg_kpt_in_last_7_days'] = 0\n",
      "/tmp/ipykernel_264479/916470234.py:8: SettingWithCopyWarning: \n",
      "A value is trying to be set on a copy of a slice from a DataFrame.\n",
      "Try using .loc[row_indexer,col_indexer] = value instead\n",
      "\n",
      "See the caveats in the documentation: https://pandas.pydata.org/pandas-docs/stable/user_guide/indexing.html#returning-a-view-versus-a-copy\n",
      "  restWiseDFs[storeId]['hourswise_avg_kpt'] = 0\n",
      "/tmp/ipykernel_264479/916470234.py:6: SettingWithCopyWarning: \n",
      "A value is trying to be set on a copy of a slice from a DataFrame.\n",
      "Try using .loc[row_indexer,col_indexer] = value instead\n",
      "\n",
      "See the caveats in the documentation: https://pandas.pydata.org/pandas-docs/stable/user_guide/indexing.html#returning-a-view-versus-a-copy\n",
      "  restWiseDFs[storeId]['avg_kpt_in_last_one_hour'] = 0 # to create a new column with initial values 0\n",
      "/tmp/ipykernel_264479/916470234.py:7: SettingWithCopyWarning: \n",
      "A value is trying to be set on a copy of a slice from a DataFrame.\n",
      "Try using .loc[row_indexer,col_indexer] = value instead\n",
      "\n",
      "See the caveats in the documentation: https://pandas.pydata.org/pandas-docs/stable/user_guide/indexing.html#returning-a-view-versus-a-copy\n",
      "  restWiseDFs[storeId]['avg_kpt_in_last_7_days'] = 0\n",
      "/tmp/ipykernel_264479/916470234.py:8: SettingWithCopyWarning: \n",
      "A value is trying to be set on a copy of a slice from a DataFrame.\n",
      "Try using .loc[row_indexer,col_indexer] = value instead\n",
      "\n",
      "See the caveats in the documentation: https://pandas.pydata.org/pandas-docs/stable/user_guide/indexing.html#returning-a-view-versus-a-copy\n",
      "  restWiseDFs[storeId]['hourswise_avg_kpt'] = 0\n"
     ]
    }
   ],
   "source": [
    "# TIME CONSUMING (4 m 14 seconds for Bhopal)\n",
    "# Feature 7 : Avg prep time of the same item in the same store in last 60 minutes.\n",
    "# Feature 8 : Avg prep time of the same item in the same store in last 7 days.\n",
    "for storeId in restWiseDFs:\n",
    "    avgPrepTime = restWiseDFs[storeId]['prep_time'].mean()    \n",
    "    restWiseDFs[storeId]['avg_kpt_in_last_one_hour'] = 0 # to create a new column with initial values 0\n",
    "    restWiseDFs[storeId]['avg_kpt_in_last_7_days'] = 0\n",
    "    restWiseDFs[storeId]['hourswise_avg_kpt'] = 0\n",
    "    for index, item in restWiseDFs[storeId].iterrows():\n",
    "        itemCode = item['Menu_Code']\n",
    "        dtKitchenDisplay = item['Kitchen_Display_Time']\n",
    "        lastTimeMinutes = dtKitchenDisplay - timedelta(minutes=60)\n",
    "        lastTime = dtKitchenDisplay - timedelta(days=7)\n",
    "        df3 = restWiseDFs[storeId].loc[(restWiseDFs[storeId]['Kitchen_Display_Time'] >= lastTime) & \\\n",
    "                     (restWiseDFs[storeId]['Kitchen_Display_Time'] < dtKitchenDisplay) & \\\n",
    "                                 (restWiseDFs[storeId]['Menu_Code'] == itemCode)]\n",
    "        df2 = df3.loc[df3['Kitchen_Display_Time'] >= lastTimeMinutes]\n",
    "        if len(df2.index) != 0:\n",
    "            restWiseDFs[storeId].at[index, 'avg_kpt_in_last_one_hour'] = df2['prep_time'].mean()\n",
    "        else:\n",
    "            restWiseDFs[storeId].at[index, 'avg_kpt_in_last_one_hour'] =  avgPrepTime\n",
    "        if len(df3.index) != 0:\n",
    "            restWiseDFs[storeId].at[index, 'avg_kpt_in_last_7_days'] = df3['prep_time'].mean()\n",
    "        else:\n",
    "            restWiseDFs[storeId].at[index, 'avg_kpt_in_last_7_days'] =  avgPrepTime\n"
   ]
  },
  {
   "cell_type": "code",
   "execution_count": null,
   "id": "5d71b1bf",
   "metadata": {
    "ExecuteTime": {
     "start_time": "2023-03-19T22:17:20.464Z"
    }
   },
   "outputs": [],
   "source": [
    "def getPreviousPrepTime(item, timeslot = 60):\n",
    "    if timeslot == 60:\n",
    "        return item['avg_kpt_in_last_one_hour']\n",
    "    elif timeslot == 7*24*60:\n",
    "        return item['avg_kpt_in_last_7_days']\n",
    "    else:\n",
    "        itemCode = item['Menu_Code']\n",
    "        df = restWiseDFs[item['Location_Code']]\n",
    "\n",
    "        dtKitchenDisplay = item['Kitchen_Display_Time']\n",
    "\n",
    "        lastTime = dtKitchenDisplay - timedelta(minutes=timeslot)\n",
    "\n",
    "        df2 = df.loc[(df['Kitchen_Display_Time'] >= lastTime) & \\\n",
    "                     (df['Kitchen_Display_Time'] < dtKitchenDisplay) & \\\n",
    "                                 (df['Menu_Code'] == itemCode)]\n",
    "        if len(df2.index) != 0:\n",
    "            return df2['prep_time'].mean()\n",
    "        else:\n",
    "            return restWiseDFs[storeId]['prep_time'].mean()"
   ]
  },
  {
   "cell_type": "code",
   "execution_count": null,
   "id": "a4abbd28",
   "metadata": {
    "ExecuteTime": {
     "start_time": "2023-03-19T22:17:20.874Z"
    }
   },
   "outputs": [],
   "source": [
    "# Hourwise avg\n",
    "# Feature 9 : Avg prep time of the same item in same store : hour wise + according to the day of the week\n",
    "hourWiseAvg = {}\n",
    "for store in allStoreIds:\n",
    "    hourWiseAvg[store] = {}\n",
    "    for i in range(1, 8):\n",
    "        hourWiseAvg[store][i] = {}\n",
    "\n",
    "for storeId in allStoreIds:\n",
    "    hwa = []\n",
    "    for index, item in restWiseDFs[storeId].iterrows():\n",
    "        ts = getTimeslot(item['Kitchen_Display_Time'])\n",
    "        d = dayOfTheWeek(item['Kitchen_Display_Time'])[0]\n",
    "        if ts not in hourWiseAvg[storeId][d]:\n",
    "            hourWiseAvg[storeId][d][ts] = {'val': 0, 'cnt': 0}\n",
    "        if hourWiseAvg[storeId][d][ts]['cnt'] == 0:\n",
    "            hwa.append(item['avg_kpt_in_last_one_hour'])\n",
    "        else:\n",
    "            hwa.append(hourWiseAvg[storeId][d][ts]['val']/hourWiseAvg[storeId][d][ts]['cnt'])\n",
    "        hourWiseAvg[storeId][d][ts]['val'] += item['prep_time']\n",
    "        hourWiseAvg[storeId][d][ts]['cnt'] += 1\n",
    "\n",
    "    restWiseDFs[storeId]['hour_wise_avg_kpt_of_the_day'] = hwa"
   ]
  },
  {
   "cell_type": "code",
   "execution_count": null,
   "id": "26414d5f",
   "metadata": {
    "ExecuteTime": {
     "start_time": "2023-03-19T22:17:21.363Z"
    }
   },
   "outputs": [],
   "source": [
    "def getHourWiseAverage(item):\n",
    "    return item[\"hour_wise_avg_kpt_of_the_day\"]"
   ]
  },
  {
   "cell_type": "code",
   "execution_count": null,
   "id": "b7a13443",
   "metadata": {
    "ExecuteTime": {
     "start_time": "2023-03-19T22:17:21.746Z"
    }
   },
   "outputs": [],
   "source": [
    "# Feature 10 : Item quantity\n",
    "def getQuantity(item):\n",
    "    return item['Quantity']"
   ]
  },
  {
   "cell_type": "code",
   "execution_count": null,
   "id": "a6c90edd",
   "metadata": {
    "ExecuteTime": {
     "start_time": "2023-03-19T22:17:22.278Z"
    }
   },
   "outputs": [],
   "source": [
    "# Feature 11 : Length of the queue in the store at that time\n",
    "def lengthQueue(item):\n",
    "    dtKitchenDisplay = item['Kitchen_Display_Time']\n",
    "    d = restWiseDFs[item['Location_Code']]\n",
    "    return len(d[(d['Oven_Time'] >= dtKitchenDisplay) & (d['Kitchen_Display_Time'] <= dtKitchenDisplay)].index)"
   ]
  },
  {
   "cell_type": "code",
   "execution_count": null,
   "id": "7d7f459b",
   "metadata": {
    "ExecuteTime": {
     "start_time": "2023-03-19T22:17:22.855Z"
    }
   },
   "outputs": [],
   "source": [
    "sampleItem=None\n",
    "for index, item in restWiseDFs[storeId].iterrows():\n",
    "    sampleItem = item\n",
    "    break"
   ]
  },
  {
   "cell_type": "code",
   "execution_count": null,
   "id": "e34eb51d",
   "metadata": {
    "ExecuteTime": {
     "start_time": "2023-03-19T22:17:23.299Z"
    }
   },
   "outputs": [],
   "source": [
    "lengthQueue(sampleItem)"
   ]
  },
  {
   "cell_type": "code",
   "execution_count": null,
   "id": "7b85e23b",
   "metadata": {
    "ExecuteTime": {
     "start_time": "2023-03-19T22:17:23.956Z"
    }
   },
   "outputs": [],
   "source": [
    "# global variables\n",
    "\n",
    "clubItemsCategoryWise = False\n",
    "\n",
    "splitMethod = 'initial 21 days'\n",
    "slotTimeForPastOrders = 30 # minutes\n",
    "\n",
    "model = 'xgboost'\n",
    "isOneHotEncodingRequired = False\n",
    "isNormalizationRequired = False\n",
    "\n",
    "isCentralModel = True"
   ]
  },
  {
   "cell_type": "code",
   "execution_count": null,
   "id": "636ecf24",
   "metadata": {
    "ExecuteTime": {
     "start_time": "2023-03-19T22:17:26.690Z"
    }
   },
   "outputs": [],
   "source": [
    "def save_object(obj, filename):\n",
    "    with open(filename, 'wb') as outp:  # Overwrites any existing file.\n",
    "        pickle.dump(obj, outp, pickle.HIGHEST_PROTOCOL)"
   ]
  },
  {
   "cell_type": "code",
   "execution_count": null,
   "id": "d513b5e3",
   "metadata": {
    "ExecuteTime": {
     "start_time": "2023-03-19T22:17:27.317Z"
    }
   },
   "outputs": [],
   "source": [
    "save_object(restWiseDFs, f'restWiseDFsBeforeFeatureCreation{city}.pkl')"
   ]
  },
  {
   "cell_type": "code",
   "execution_count": null,
   "id": "ecd2d076",
   "metadata": {
    "ExecuteTime": {
     "start_time": "2023-03-19T22:17:32.859Z"
    }
   },
   "outputs": [],
   "source": [
    "totalFeatures = (0 + # store ID (categorical)\n",
    "                1 + # day of the week (categorical)\n",
    "                1 +  #timeslot of the day (categorical)\n",
    "                0 +  # Item type (categorical)\n",
    "                1 +  #count past orders in last 30 minutes\n",
    "                1 +  #ratio lift in last 30 minutes\n",
    "                1 + # average previous preparation time in last 1 hour\n",
    "                1 + # average previous preparation time in last 7 days\n",
    "                1 + # average kpt time, hour wise according to the day of the week\n",
    "                0 + # Item quantity\n",
    "                1) # length of the current queue\n",
    "\n",
    "if isCentralModel:\n",
    "    totalFeatures += 1\n",
    "if isOneHotEncodingRequired:\n",
    "    ##### DEPRECATED\n",
    "    totalFeatures = (7 + # one hot encoded day of the week\n",
    "                 len(allMenuCodes) +  # Item type\n",
    "                24 +  #timeslot of the day\n",
    "                1 +  #count past orders\n",
    "                1 +  #lift in last 30 minutes\n",
    "                1 + # average previous preparation time in last 1 hour\n",
    "                1 + # average previous preparation time in last 7 days\n",
    "                1) # length of the current queue\n",
    "    if isCentralModel:\n",
    "        totalFeatures += len(allStoreIds)\n",
    "\n",
    "feature_cols = []\n",
    "for i in range(0, totalFeatures):\n",
    "    feature_cols.append('feature_'+str(i+1))"
   ]
  },
  {
   "cell_type": "code",
   "execution_count": null,
   "id": "d558b02e",
   "metadata": {
    "ExecuteTime": {
     "start_time": "2023-03-19T22:17:34.306Z"
    }
   },
   "outputs": [],
   "source": [
    "def updateFeatures(storeId, Xnp, fc=feature_cols):\n",
    "    restWiseDFs[storeId][fc] = Xnp"
   ]
  },
  {
   "cell_type": "code",
   "execution_count": null,
   "id": "e135b945",
   "metadata": {
    "ExecuteTime": {
     "start_time": "2023-03-19T22:17:36.125Z"
    }
   },
   "outputs": [],
   "source": [
    "# TIME CONSUMING (3m 21s for Bhopal) 46 minutes for Delhi december\n",
    "for storeId in restWiseDFs:\n",
    "    X = []\n",
    "    df = restWiseDFs[storeId]\n",
    "    for index, item in df.iterrows():\n",
    "        features = getStoreId(item, False)\n",
    "        features += dayOfTheWeek(item['Kitchen_Display_Time'], isOneHotEncodingRequired)\n",
    "        features += getTimeSlotOfKitchenDisplayTime(item, isOneHotEncodingRequired)\n",
    "#         features += getItemType(item, clubItemsCategoryWise, isOneHotEncodingRequired)\n",
    "        features += [countPastOrders(item, slotTimeForPastOrders)]\n",
    "        features += [getLiftInOrders(item, slotTimeForPastOrders)]\n",
    "        features += [getPreviousPrepTime(item, timeslot = 60)]\n",
    "        features += [getPreviousPrepTime(item, timeslot = 7*24*60)]\n",
    "        features += [getHourWiseAverage(item)]\n",
    "#         features += [getQuantity(item)]\n",
    "        features += [lengthQueue(item)]\n",
    "        X.append(features)\n",
    "    Xnp = np.array(X)\n",
    "    updateFeatures(storeId, Xnp)\n",
    "    print(Xnp.shape)"
   ]
  },
  {
   "cell_type": "code",
   "execution_count": null,
   "id": "8a299038",
   "metadata": {
    "ExecuteTime": {
     "start_time": "2023-03-19T22:17:39.156Z"
    }
   },
   "outputs": [],
   "source": [
    "# categorical data\n",
    "if not isOneHotEncodingRequired:\n",
    "    for i in range(0, 3):\n",
    "        for storeId in allStoreIds:\n",
    "            restWiseDFs[storeId][feature_cols[i]] = restWiseDFs[storeId][feature_cols[i]].astype(\"category\")"
   ]
  },
  {
   "cell_type": "code",
   "execution_count": null,
   "id": "dd7db4cc",
   "metadata": {
    "ExecuteTime": {
     "start_time": "2023-03-19T22:17:50.099Z"
    }
   },
   "outputs": [],
   "source": [
    "save_object(restWiseDFs, 'WithoutNormalizationDelhiJuly.pkl')"
   ]
  },
  {
   "cell_type": "code",
   "execution_count": null,
   "id": "ef377b61",
   "metadata": {
    "ExecuteTime": {
     "start_time": "2023-03-19T22:17:53.977Z"
    }
   },
   "outputs": [],
   "source": [
    "restWiseScalers = {}\n",
    "\n",
    "# normalize feature values\n",
    "if isNormalizationRequired:\n",
    "    for storeId in allStoreIds:\n",
    "        firstTime = datetime(2022, 7, 1)\n",
    "        lastTime = datetime(2022, 7, 21)\n",
    "        trainingData = restWiseDFs[storeId].loc[(restWiseDFs[storeId]['Kitchen_Display_Time'] >= firstTime) & \\\n",
    "              (restWiseDFs[storeId]['Kitchen_Display_Time'] <= lastTime)].loc[:, feature_cols[4:]]\n",
    "        scaler = StandardScaler()\n",
    "        scaler.fit(trainingData)\n",
    "        if isNormalizationRequired:\n",
    "            X = restWiseDFs[storeId].loc[:, feature_cols[3:]]\n",
    "            X_scaled = scaler.transform(X)\n",
    "            X_scalednp = np.array(X_scaled)\n",
    "            restWiseDFs[storeId][feature_cols[3:]] = X_scalednp\n",
    "    save_object(restWiseDFs, f'restWiseDFsWithNormalizedFeatures{city}.pkl')"
   ]
  },
  {
   "cell_type": "code",
   "execution_count": null,
   "id": "4d647b20",
   "metadata": {
    "ExecuteTime": {
     "start_time": "2023-03-19T22:17:54.887Z"
    }
   },
   "outputs": [],
   "source": [
    "def getRMSE(actual, predictions):\n",
    "    mse = sklearn.metrics.mean_squared_error(actual, predictions)\n",
    "    return math.sqrt(mse)"
   ]
  },
  {
   "cell_type": "code",
   "execution_count": null,
   "id": "068f2211",
   "metadata": {
    "ExecuteTime": {
     "start_time": "2023-03-19T22:18:49.544Z"
    }
   },
   "outputs": [],
   "source": [
    "if isCentralModel:\n",
    "    overallDF = pd.DataFrame()\n",
    "    for storeId in allStoreIds:\n",
    "        overallDF = pd.concat([overallDF, restWiseDFs[storeId]], ignore_index=True)\n",
    "        \n",
    "    firstTimeTrain = datetime(2022, 7, 1)\n",
    "    lastTimeTrain = datetime(2022, 7, 14) + timedelta(days=1)\n",
    "    \n",
    "    firstTimeVal = datetime(2022, 7, 15)\n",
    "    lastTimeVal = datetime(2022, 7, 31) + timedelta(days=1)\n",
    "    \n",
    "    firstTimeTest = datetime(2022, 7, 15)\n",
    "    lastTimeTest = datetime(2022, 7, 31) + timedelta(days=1)\n",
    "\n",
    "    trainingData = overallDF.loc[(overallDF['Kitchen_Display_Time'] >= firstTimeTrain) & \\\n",
    "          (overallDF['Kitchen_Display_Time'] < lastTimeTrain)]\n",
    "    X_train = trainingData.loc[:, feature_cols]\n",
    "    y_train = trainingData.prep_time.values.tolist()\n",
    "\n",
    "    validationData = overallDF.loc[(overallDF['Kitchen_Display_Time'] >= firstTimeVal) & \\\n",
    "          (overallDF['Kitchen_Display_Time'] <= lastTimeVal)]\n",
    "\n",
    "    X_train_val = validationData.loc[:, feature_cols]\n",
    "    y_train_val = validationData.prep_time.values.tolist()\n",
    "\n",
    "    testData = overallDF.loc[(overallDF['Kitchen_Display_Time'] >= firstTimeTest) & \\\n",
    "          (overallDF['Kitchen_Display_Time'] <= lastTimeTest)]\n",
    "\n",
    "    X_test = testData.loc[:, feature_cols]\n",
    "    y_test = testData.prep_time.values.tolist()\n",
    "    print(\"TRAIN TEST SPLITED\")\n",
    "\n",
    "\n",
    "    regressor = XGBRegressor()\n",
    "    param_grid = {\n",
    "        'tree_method': ['hist'],\n",
    "        'n_estimators': [100, 150],\n",
    "        'learning_rate': [0.08],\n",
    "        'subsample': [0.6, 0.7, 0.8],\n",
    "        'enable_categorical': [True],\n",
    "        'colsample_bytree': [0.6, 0.7, 0.8],\n",
    "        'max_depth': [5, 6, 7],\n",
    "    }\n",
    "    \n",
    "    {'colsample_bytree': 0.8, 'enable_categorical': True, 'learning_rate': 0.1, 'max_depth': 3, 'n_estimators': 50, 'subsample': 0.9, 'tree_method': 'hist'}\n",
    "\n",
    "    # define the GridSearchCV object with the parameter grid and the XGBRegressor model\n",
    "    grid_search = GridSearchCV(estimator=regressor, param_grid=param_grid, cv=5)\n",
    "    \n",
    "    print(\"FITTING TO GRID SEARCH START\")\n",
    "    # fit the GridSearchCV object on the training set\n",
    "    grid_search.fit(X_train, y_train)\n",
    "\n",
    "    # print the best hyperparameters and the corresponding mean cross-validated score\n",
    "    print(\"Best hyperparameters:\", grid_search.best_params_)\n",
    "    print(\"Best mean cross-validated score:\", grid_search.best_score_)\n",
    "    \n",
    "\n",
    "    # retrain the model on the combined training and validation sets with the best hyperparameters\n",
    "    best_regressor = XGBRegressor(**grid_search.best_params_)\n",
    "    best_regressor.fit(X_train, y_train)\n",
    "    \n",
    "    print(\"MODEL PREPARED\")\n",
    "    # evaluate the final model performance on the test set\n",
    "    test_score = best_regressor.score(X_train_val, y_train_val)\n",
    "    print(\"Test score:\", test_score)\n",
    "\n",
    "    overallPredictions = best_regressor.predict(overallDF.loc[:, feature_cols])\n",
    "    overallDF['predicted_prep_time_central'] = overallPredictions\n",
    "    \n",
    "    trainingData = overallDF.loc[(overallDF['Kitchen_Display_Time'] >= firstTimeTrain) & \\\n",
    "          (overallDF['Kitchen_Display_Time'] < lastTimeTrain)]\n",
    "    X_train = trainingData.loc[:, feature_cols]\n",
    "    y_train = trainingData.prep_time.values.tolist()\n",
    "\n",
    "    validationData = overallDF.loc[(overallDF['Kitchen_Display_Time'] >= firstTimeVal) & \\\n",
    "          (overallDF['Kitchen_Display_Time'] <= lastTimeVal)]\n",
    "\n",
    "    X_train_val = validationData.loc[:, feature_cols]\n",
    "    y_train_val = validationData.prep_time.values.tolist()\n",
    "\n",
    "    testData = overallDF.loc[(overallDF['Kitchen_Display_Time'] >= firstTimeTest) & \\\n",
    "          (overallDF['Kitchen_Display_Time'] <= lastTimeTest)]\n",
    "\n",
    "    X_test = testData.loc[:, feature_cols]\n",
    "    y_test = testData.prep_time.values.tolist()\n",
    "\n",
    "\n",
    "    print(\"ACCURACY ON Train DATA : \")\n",
    "    print(\"RMSE score: \", getRMSE(trainingData.prep_time.values.tolist(), best_regressor.predict(trainingData.loc[:, feature_cols])))\n",
    "        \n",
    "#     print(\"ACCURACY ON Validation DATA : \")\n",
    "#     print(\"RMSE score: \", getRMSE(validationData.prep_time.values.tolist(), best_regressor.predict(validationData.loc[:, feature_cols])))\n",
    "\n",
    "    print(\"ACCURACY ON Test DATA : \")\n",
    "    print(\"RMSE score: \", getRMSE(testData.prep_time.values.tolist(), best_regressor.predict(testData.loc[:, feature_cols])))\n",
    "    \n",
    "\n",
    "    "
   ]
  },
  {
   "cell_type": "code",
   "execution_count": null,
   "id": "2d39d07a",
   "metadata": {
    "ExecuteTime": {
     "start_time": "2023-03-19T22:18:51.971Z"
    }
   },
   "outputs": [],
   "source": [
    "f = ['storeId', 'dayOfTheWeek', 'Timeslot', 'countPastOrders', 'ratioOfCountOrders', 'prevAvgKPT60Minutes', 'prepAvgKPT7Days', 'hourDayWiseAvgKPT', 'QueueLenght']\n",
    "pyplot.bar(f, best_regressor.feature_importances_)\n",
    "pyplot.xticks(rotation=90)\n",
    "pyplot.title(\"Feature Importance\")\n",
    "pyplot.show()\n",
    "print(sum(best_regressor.feature_importances_))"
   ]
  },
  {
   "cell_type": "code",
   "execution_count": null,
   "id": "35642320",
   "metadata": {
    "ExecuteTime": {
     "start_time": "2023-03-19T22:18:58.921Z"
    }
   },
   "outputs": [],
   "source": [
    "allDays = overallDF.Order_Date.unique()\n",
    "for storeId in allStoreIds:\n",
    "    df = overallDF.loc[overallDF['Location_Code'] == storeId]\n",
    "    diffs = []\n",
    "    for day in allDays:\n",
    "        df2 = df.loc[df['Order_Date'] == day]\n",
    "        timeslots = df2.feature_3.unique()\n",
    "        for ts in sorted(timeslots):\n",
    "            df3 = df2.loc[df2['feature_3'] == ts]\n",
    "            l1 = df3.prep_time.values.tolist()\n",
    "            l2 = df3.predicted_prep_time_central.values.tolist()\n",
    "            l3 = df3.hour_wise_avg_kpt_of_the_day.values.tolist()\n",
    "            rmseModel = getRMSE(l1, l2)\n",
    "            rmseBaseline = getRMSE(l1, l3)\n",
    "#             print(f\"{day} \\t {ts} \\t {rmseModel} \\t {rmseBaseline}\")\n",
    "            diffs.append(rmseModel-rmseBaseline)\n",
    "# print(sorted(diffs))\n",
    "diffs = sorted(diffs)\n",
    "print(f\"lowest: {diffs[0]}, highest: {diffs[len(diffs)-1]}, median: {diffs[len(diffs)//2]}\")\n"
   ]
  },
  {
   "cell_type": "code",
   "execution_count": null,
   "id": "40d28018",
   "metadata": {
    "ExecuteTime": {
     "start_time": "2023-03-19T22:19:01.098Z"
    }
   },
   "outputs": [],
   "source": [
    "def getMAE(actual, predictions):\n",
    "    mse = sklearn.metrics.mean_absolute_error(actual, predictions)\n",
    "    return mse\n",
    "\n",
    "def getSTD(actual, predictions):\n",
    "    a = []\n",
    "    for i in range(0, len(actual)):\n",
    "        a.append(abs(actual[i]-predictions[i]))\n",
    "    return np.std(a)\n",
    "\n",
    "def getDayOfTheWeek(a):\n",
    "    if a==1:\n",
    "        return \"Monday\"\n",
    "    if a==2:\n",
    "        return \"Tuesday\"\n",
    "    if a==3:\n",
    "        return \"Wednesday\"\n",
    "    if a==4:\n",
    "        return \"Thursday\"\n",
    "    if a==5:\n",
    "        return \"Friday\"\n",
    "    if a==6:\n",
    "        return \"Saturday\"\n",
    "    if a==7:\n",
    "        return \"Sunday\""
   ]
  },
  {
   "cell_type": "code",
   "execution_count": null,
   "id": "34459dcb",
   "metadata": {
    "ExecuteTime": {
     "start_time": "2023-03-19T22:19:23.313Z"
    }
   },
   "outputs": [],
   "source": [
    "allDays[14:]"
   ]
  },
  {
   "cell_type": "code",
   "execution_count": null,
   "id": "427b1353",
   "metadata": {
    "ExecuteTime": {
     "start_time": "2023-03-19T22:19:48.550Z"
    }
   },
   "outputs": [],
   "source": [
    "dfError = pd.DataFrame()\n",
    "allDays = overallDF.Order_Date.unique()\n",
    "diffs = []\n",
    "diffsRMSE = []\n",
    "diffsFestival = []\n",
    "dayWiseDiffs = []\n",
    "for storeId in allStoreIds:\n",
    "# for i in range(0, 1):\n",
    "    df = overallDF.loc[overallDF['Location_Code'] == storeId]\n",
    "    for day in allDays[14:]: # test data only\n",
    "        df2 = df.loc[df['Order_Date'] == day]\n",
    "        for ts in sorted(timeslots):\n",
    "            df3 = df2.loc[df['feature_3'] == ts]\n",
    "            if(df3.size == 0):\n",
    "                continue\n",
    "            rmseModel = getRMSE(df3.prep_time.values.tolist(), df3.predicted_prep_time_central.values.tolist())\n",
    "            rmseBaseline = getRMSE(df3.prep_time.values.tolist(), df3.hour_wise_avg_kpt_of_the_day.values.tolist())\n",
    "\n",
    "            maeModel = getMAE(df3.prep_time.values.tolist(), df3.predicted_prep_time_central.values.tolist())\n",
    "            maeBaseline = getMAE(df3.prep_time.values.tolist(), df3.hour_wise_avg_kpt_of_the_day.values.tolist())\n",
    "            \n",
    "            stdModel = getSTD(df3.prep_time.values.tolist(), df3.predicted_prep_time_central.values.tolist())\n",
    "            stdBaseline = getSTD(df3.prep_time.values.tolist(), df3.hour_wise_avg_kpt_of_the_day.values.tolist())\n",
    "\n",
    "            weekday = datetime.strptime(day, \"%Y-%m-%d\").weekday()+1\n",
    "            a = {\"storeId\":[storeId], \\\n",
    "                 \"date\":[day], \\\n",
    "                 \"timeslot\":ts, \\\n",
    "                 \"weekday\": [getDayOfTheWeek(weekday)], \\\n",
    "                 \"total_orders\":[df3.size], \\\n",
    "                 \"mean_kpt\":[np.mean(df3.prep_time.values.tolist())], \\\n",
    "                 \"std_kpt\":[np.std(df3.prep_time.values.tolist())], \\\n",
    "                 \"model rmse\": [rmseModel], \\\n",
    "                 \"baseline rmse\": [rmseBaseline], \\\n",
    "                 \"model mae\": [maeModel], \\\n",
    "                 \"baseline mae\": [maeBaseline], \\\n",
    "                 \"model std AE\": [stdModel], \\\n",
    "                 \"baseline std AE\": [stdBaseline]\n",
    "                }\n",
    "            diffs.append(maeModel-maeBaseline)\n",
    "            diffsRMSE.append(rmseModel-rmseBaseline)\n",
    "            if (a[\"std_kpt\"][0] > 100):\n",
    "                diffsFestival.append(maeModel-maeBaseline)\n",
    "            print(a)\n",
    "            b = pd.DataFrame(a)\n",
    "            dfError = pd.concat([dfError, b], ignore_index= True)\n",
    "        \n",
    "        "
   ]
  },
  {
   "cell_type": "code",
   "execution_count": null,
   "id": "d076de3f",
   "metadata": {
    "ExecuteTime": {
     "start_time": "2023-03-19T22:19:54.958Z"
    }
   },
   "outputs": [],
   "source": [
    "dfError.to_excel('./dfErrorForLessFeautureDelhiJuly.xlsx')"
   ]
  },
  {
   "cell_type": "code",
   "execution_count": null,
   "id": "15799042",
   "metadata": {
    "ExecuteTime": {
     "start_time": "2023-03-19T22:19:56.560Z"
    }
   },
   "outputs": [],
   "source": [
    "diffs = sorted(diffs)\n",
    "diffsRMSE = sorted(diffsRMSE)\n",
    "diffsFestival = sorted(diffsFestival)\n",
    "diffs[0], diffs[len(diffs)//2], diffs[len(diffs)-1], \\\n",
    "diffsRMSE[0], diffsRMSE[len(diffsRMSE)//2], diffsRMSE[len(diffsRMSE)-1], \\\n",
    "diffsFestival[0], diffsFestival[len(diffsFestival)//2], diffsFestival[len(diffsFestival)-1]"
   ]
  },
  {
   "cell_type": "code",
   "execution_count": null,
   "id": "4bd90d21",
   "metadata": {
    "ExecuteTime": {
     "start_time": "2023-03-19T22:20:14.059Z"
    }
   },
   "outputs": [],
   "source": [
    "def count_ranges(numbers, range_size):\n",
    "    range_counts = {}\n",
    "    for num in numbers:\n",
    "        range_start = num // range_size * range_size\n",
    "        range_end = range_start + range_size\n",
    "        range_label = f\"{range_start}-{range_end}\"\n",
    "        if range_label not in range_counts:\n",
    "            range_counts[range_label] = 0\n",
    "        range_counts[range_label] += 1\n",
    "    return range_counts\n",
    "\n",
    "\n",
    "range_counts = count_ranges(diffs, 10)\n",
    "for label, count in range_counts.items():\n",
    "    print(f\"{label}: {count}\")\n",
    "labels = list(range_counts.keys())\n",
    "values = list(range_counts.values())\n",
    "\n",
    "# Creating the bar chart\n",
    "plt.bar(labels, values)\n",
    "\n",
    "# Adding a title and axis labels\n",
    "plt.title(\"Count of timeslots for diffs of model MAE - baseline MAE (Delhi - July)\")\n",
    "plt.xlabel(\"difference between model MAE and baseline MAE\")\n",
    "plt.ylabel(\"Count\")\n",
    "plt.xticks(rotation=90)\n",
    "# Displaying the chart\n",
    "plt.show()"
   ]
  },
  {
   "cell_type": "code",
   "execution_count": null,
   "id": "32a49787",
   "metadata": {
    "ExecuteTime": {
     "start_time": "2023-03-19T22:21:02.358Z"
    }
   },
   "outputs": [],
   "source": [
    "def count_ranges(numbers, range_size):\n",
    "    range_counts = {}\n",
    "    for num in numbers:\n",
    "        range_start = num // range_size * range_size\n",
    "        range_end = range_start + range_size\n",
    "        range_label = f\"{range_start}-{range_end}\"\n",
    "        if range_label not in range_counts:\n",
    "            range_counts[range_label] = 0\n",
    "        range_counts[range_label] += 1\n",
    "    return range_counts\n",
    "\n",
    "\n",
    "range_counts = count_ranges(diffsFestival, 10)\n",
    "for label, count in range_counts.items():\n",
    "    print(f\"{label}: {count}\")\n",
    "labels = list(range_counts.keys())\n",
    "values = list(range_counts.values())\n",
    "\n",
    "# Creating the bar chart\n",
    "plt.bar(labels, values)\n",
    "\n",
    "# Adding a title and axis labels\n",
    "plt.title(\"Count of timeslots for diffs of model MAE - baseline MAE (Delhi - July) : In rush hours\")\n",
    "plt.xlabel(\"difference between model MAE and baseline MAE\")\n",
    "plt.ylabel(\"Count\")\n",
    "plt.xticks(rotation=90)\n",
    "# maxValue = sorted(values)[len(values)-1]\n",
    "# plt.yticks([10*i for i in range(0, 1+(maxValue//10))])\n",
    "# Displaying the chart\n",
    "plt.show()"
   ]
  },
  {
   "cell_type": "code",
   "execution_count": null,
   "id": "b6b9a976",
   "metadata": {
    "ExecuteTime": {
     "start_time": "2023-03-19T22:22:23.185Z"
    }
   },
   "outputs": [],
   "source": [
    "x = []\n",
    "for day in allDays[14:]:\n",
    "    dd = getDayOfTheWeek(datetime.strptime(day, \"%Y-%m-%d\").weekday()+1)\n",
    "    x.append(day + str(dd))\n",
    "dayWiseDiffs = []\n",
    "rmseDayWise = []\n",
    "maeDayWise = []\n",
    "for day in allDays:\n",
    "    df2 = overallDF.loc[overallDF['Order_Date'] == day]\n",
    "    if(df2.size == 0):\n",
    "        continue\n",
    "    maeModel = getMAE(df2.prep_time.values.tolist(), df2.predicted_prep_time_central.values.tolist())\n",
    "    maeBaseline = getMAE(df2.prep_time.values.tolist(), df2.hour_wise_avg_kpt_of_the_day.values.tolist())\n",
    "    dayWiseDiffs.append(maeModel-maeBaseline)\n",
    "    maeDayWise.append(maeModel)\n",
    "    rmseDayWise.append(getRMSE(df2.prep_time.values.tolist(), df2.predicted_prep_time_central.values.tolist()))\n",
    "y = dayWiseDiffs[14:]\n",
    "\n",
    "# Creating the bar chart\n",
    "plt.bar(x, y)\n",
    "\n",
    "# Adding a title and axis labels\n",
    "plt.title(\"Difference of model MAE - baseline MAE (Delhi - July) : Day Wise on test data\")\n",
    "plt.xlabel(\"Days\")\n",
    "plt.ylabel(\"In Seconds\")\n",
    "plt.xticks(rotation=90)\n",
    "# maxValue = sorted(values)[len(values)-1]\n",
    "# plt.yticks([10*i for i in range(0, 1+(maxValue//10))])\n",
    "# Displaying the chart\n",
    "plt.show()"
   ]
  },
  {
   "cell_type": "code",
   "execution_count": null,
   "id": "08540350",
   "metadata": {
    "ExecuteTime": {
     "start_time": "2023-03-19T22:22:40.130Z"
    }
   },
   "outputs": [],
   "source": [
    "y = maeDayWise[14:]\n",
    "\n",
    "# Creating the bar chart\n",
    "plt.bar(x, y)\n",
    "\n",
    "# Adding a title and axis labels\n",
    "plt.title(\"MAE (Delhi - July) : Day Wise on test data\")\n",
    "plt.xlabel(\"Days\")\n",
    "plt.ylabel(\"In Seconds\")\n",
    "plt.xticks(rotation=90)\n",
    "# maxValue = sorted(values)[len(values)-1]\n",
    "# plt.yticks([10*i for i in range(0, 1+(maxValue//10))])\n",
    "# Displaying the chart\n",
    "plt.show()"
   ]
  },
  {
   "cell_type": "code",
   "execution_count": 99,
   "id": "43560c62",
   "metadata": {
    "ExecuteTime": {
     "end_time": "2023-03-19T21:58:38.553371Z",
     "start_time": "2023-03-19T21:58:37.405523Z"
    }
   },
   "outputs": [
    {
     "data": {
      "text/plain": [
       "[<matplotlib.lines.Line2D at 0x7fddd512fd30>]"
      ]
     },
     "execution_count": 99,
     "metadata": {},
     "output_type": "execute_result"
    },
    {
     "data": {
      "image/png": "[encoded data removed]",
      "text/plain": [
       "<Figure size 640x480 with 1 Axes>"
      ]
     },
     "metadata": {},
     "output_type": "display_data"
    }
   ],
   "source": [
    "plt.plot(x, y)"
   ]
  },
  {
   "cell_type": "code",
   "execution_count": 212,
   "id": "02cde098",
   "metadata": {
    "ExecuteTime": {
     "end_time": "2023-03-16T23:21:54.834459Z",
     "start_time": "2023-03-16T23:21:54.291914Z"
    }
   },
   "outputs": [
    {
     "name": "stdout",
     "output_type": "stream",
     "text": [
      "Day : 2022-07-27 00:00:00, Week: 2, timeslot: 12.0, Model RMSE: 38.71929537172789, Baseline RMSE : 33.56447185074673\n",
      "Day : 2022-07-27 00:00:00, Week: 2, timeslot: 13.0, Model RMSE: 45.02856316840642, Baseline RMSE : 47.21386577939607\n",
      "Day : 2022-07-27 00:00:00, Week: 2, timeslot: 14.0, Model RMSE: 59.40477608850966, Baseline RMSE : 73.11086865665474\n",
      "Day : 2022-07-27 00:00:00, Week: 2, timeslot: 15.0, Model RMSE: 67.88246709951804, Baseline RMSE : 66.9939476028299\n",
      "Day : 2022-07-27 00:00:00, Week: 2, timeslot: 16.0, Model RMSE: 33.07842101902586, Baseline RMSE : 46.350228538940065\n",
      "Day : 2022-07-27 00:00:00, Week: 2, timeslot: 17.0, Model RMSE: 196.30736784236922, Baseline RMSE : 203.7129211528454\n",
      "Day : 2022-07-27 00:00:00, Week: 2, timeslot: 18.0, Model RMSE: 93.05375601228607, Baseline RMSE : 92.31384320295317\n",
      "Day : 2022-07-27 00:00:00, Week: 2, timeslot: 19.0, Model RMSE: 102.61300312308741, Baseline RMSE : 92.63588547227084\n",
      "Day : 2022-07-27 00:00:00, Week: 2, timeslot: 20.0, Model RMSE: 85.0967002922809, Baseline RMSE : 77.32760198419714\n",
      "Day : 2022-07-27 00:00:00, Week: 2, timeslot: 21.0, Model RMSE: 152.92889434052955, Baseline RMSE : 132.638531568948\n",
      "Day : 2022-07-27 00:00:00, Week: 2, timeslot: 22.0, Model RMSE: 118.32313588850393, Baseline RMSE : 130.88257543205694\n",
      "Day : 2022-07-27 00:00:00, Week: 2, timeslot: 23.0, Model RMSE: 40.41699677590915, Baseline RMSE : 53.57307235338348\n",
      "Day : 2022-07-27 00:00:00, Week: 2, timeslot: 24.0, Model RMSE: 27.39534752781401, Baseline RMSE : 10.830342185499168\n",
      "Day : 2022-07-27 00:00:00, Week: 2, timeslot: 12.0, Model RMSE: 14.649356449616265, Baseline RMSE : 42.63392742525175\n",
      "Day : 2022-07-27 00:00:00, Week: 2, timeslot: 13.0, Model RMSE: 34.18571552757705, Baseline RMSE : 61.4604940884556\n",
      "Day : 2022-07-27 00:00:00, Week: 2, timeslot: 14.0, Model RMSE: 43.49745233065064, Baseline RMSE : 35.69478863395264\n",
      "Day : 2022-07-27 00:00:00, Week: 2, timeslot: 15.0, Model RMSE: 42.19615780794474, Baseline RMSE : 38.69457898417369\n",
      "Day : 2022-07-27 00:00:00, Week: 2, timeslot: 16.0, Model RMSE: 46.11954129566296, Baseline RMSE : 62.609565361232924\n",
      "Day : 2022-07-27 00:00:00, Week: 2, timeslot: 17.0, Model RMSE: 28.294199496260134, Baseline RMSE : 42.183241719323775\n",
      "Day : 2022-07-27 00:00:00, Week: 2, timeslot: 18.0, Model RMSE: 26.439832704930584, Baseline RMSE : 39.44389734232018\n",
      "Day : 2022-07-27 00:00:00, Week: 2, timeslot: 19.0, Model RMSE: 42.68482824606867, Baseline RMSE : 45.82908951965524\n",
      "Day : 2022-07-27 00:00:00, Week: 2, timeslot: 20.0, Model RMSE: 69.9765879987603, Baseline RMSE : 51.017525432158585\n",
      "Day : 2022-07-27 00:00:00, Week: 2, timeslot: 21.0, Model RMSE: 145.60526805602214, Baseline RMSE : 157.39166891682453\n",
      "Day : 2022-07-27 00:00:00, Week: 2, timeslot: 22.0, Model RMSE: 150.82770992418955, Baseline RMSE : 168.18876797331657\n",
      "Day : 2022-07-27 00:00:00, Week: 2, timeslot: 23.0, Model RMSE: 70.3904665060167, Baseline RMSE : 83.67165088454274\n",
      "Day : 2022-07-27 00:00:00, Week: 2, timeslot: 24.0, Model RMSE: 27.55994446335178, Baseline RMSE : 40.68516171101775\n",
      "Day : 2022-07-27 00:00:00, Week: 2, timeslot: 12.0, Model RMSE: 24.268779324494226, Baseline RMSE : 48.912179108726036\n",
      "Day : 2022-07-27 00:00:00, Week: 2, timeslot: 13.0, Model RMSE: 45.49353768912298, Baseline RMSE : 79.62706747028957\n",
      "Day : 2022-07-27 00:00:00, Week: 2, timeslot: 14.0, Model RMSE: 94.53394747445347, Baseline RMSE : 110.92708664379859\n",
      "Day : 2022-07-27 00:00:00, Week: 2, timeslot: 15.0, Model RMSE: 59.111371300967114, Baseline RMSE : 77.50486192679398\n",
      "Day : 2022-07-27 00:00:00, Week: 2, timeslot: 16.0, Model RMSE: 75.50171564899813, Baseline RMSE : 73.92927469385938\n",
      "Day : 2022-07-27 00:00:00, Week: 2, timeslot: 17.0, Model RMSE: 54.633940328513624, Baseline RMSE : 57.11207537688781\n",
      "Day : 2022-07-27 00:00:00, Week: 2, timeslot: 18.0, Model RMSE: 84.43858850323042, Baseline RMSE : 95.77128010040629\n",
      "Day : 2022-07-27 00:00:00, Week: 2, timeslot: 19.0, Model RMSE: 64.99528090674102, Baseline RMSE : 69.69335674728322\n",
      "Day : 2022-07-27 00:00:00, Week: 2, timeslot: 20.0, Model RMSE: 73.39493254868921, Baseline RMSE : 78.18372026554744\n",
      "Day : 2022-07-27 00:00:00, Week: 2, timeslot: 21.0, Model RMSE: 86.76372969885435, Baseline RMSE : 96.63070075114078\n",
      "Day : 2022-07-27 00:00:00, Week: 2, timeslot: 22.0, Model RMSE: 77.34650515899926, Baseline RMSE : 93.21750356798117\n",
      "Day : 2022-07-27 00:00:00, Week: 2, timeslot: 23.0, Model RMSE: 39.5214995197211, Baseline RMSE : 65.48229104090575\n",
      "Day : 2022-07-27 00:00:00, Week: 2, timeslot: 24.0, Model RMSE: 60.05774566868941, Baseline RMSE : 65.9435374520854\n",
      "Day : 2022-07-27 00:00:00, Week: 2, timeslot: 12.0, Model RMSE: 61.66561827715034, Baseline RMSE : 93.49331034019234\n",
      "Day : 2022-07-27 00:00:00, Week: 2, timeslot: 13.0, Model RMSE: 94.18020226678387, Baseline RMSE : 137.39512265090931\n",
      "Day : 2022-07-27 00:00:00, Week: 2, timeslot: 14.0, Model RMSE: 39.1837251984047, Baseline RMSE : 113.72574927167715\n",
      "Day : 2022-07-27 00:00:00, Week: 2, timeslot: 15.0, Model RMSE: 119.68354530615258, Baseline RMSE : 139.7473136233816\n",
      "Day : 2022-07-27 00:00:00, Week: 2, timeslot: 16.0, Model RMSE: 103.39978570319423, Baseline RMSE : 128.04770159906082\n",
      "Day : 2022-07-27 00:00:00, Week: 2, timeslot: 17.0, Model RMSE: 48.46214700181133, Baseline RMSE : 145.47822059574716\n",
      "Day : 2022-07-27 00:00:00, Week: 2, timeslot: 18.0, Model RMSE: 106.53921003192961, Baseline RMSE : 136.3250220575198\n",
      "Day : 2022-07-27 00:00:00, Week: 2, timeslot: 19.0, Model RMSE: 103.55457971463365, Baseline RMSE : 120.0663988806445\n",
      "Day : 2022-07-27 00:00:00, Week: 2, timeslot: 20.0, Model RMSE: 99.85658211494334, Baseline RMSE : 106.36497242550331\n",
      "Day : 2022-07-27 00:00:00, Week: 2, timeslot: 21.0, Model RMSE: 90.85967690026199, Baseline RMSE : 98.18969901662119\n",
      "Day : 2022-07-27 00:00:00, Week: 2, timeslot: 22.0, Model RMSE: 146.1129608397341, Baseline RMSE : 119.15194491732211\n",
      "Day : 2022-07-27 00:00:00, Week: 2, timeslot: 23.0, Model RMSE: 118.15640395374226, Baseline RMSE : 154.83396892551693\n",
      "Day : 2022-07-27 00:00:00, Week: 2, timeslot: 24.0, Model RMSE: 142.14697404339807, Baseline RMSE : 144.0109467716684\n",
      "Day : 2022-07-27 00:00:00, Week: 2, timeslot: 11.0, Model RMSE: 27.856982238769533, Baseline RMSE : 47.58054415530772\n",
      "Day : 2022-07-27 00:00:00, Week: 2, timeslot: 12.0, Model RMSE: 85.81443649519197, Baseline RMSE : 59.77934935898531\n",
      "Day : 2022-07-27 00:00:00, Week: 2, timeslot: 13.0, Model RMSE: 67.2965541134323, Baseline RMSE : 62.75624410337997\n",
      "Day : 2022-07-27 00:00:00, Week: 2, timeslot: 14.0, Model RMSE: 30.41004162570565, Baseline RMSE : 67.44665736175845\n",
      "Day : 2022-07-27 00:00:00, Week: 2, timeslot: 15.0, Model RMSE: 30.27440202893704, Baseline RMSE : 45.79356833485127\n",
      "Day : 2022-07-27 00:00:00, Week: 2, timeslot: 16.0, Model RMSE: 33.7496919364318, Baseline RMSE : 46.78694552958901\n",
      "Day : 2022-07-27 00:00:00, Week: 2, timeslot: 17.0, Model RMSE: 29.189056366915615, Baseline RMSE : 54.5061802722352\n",
      "Day : 2022-07-27 00:00:00, Week: 2, timeslot: 18.0, Model RMSE: 34.99094631992507, Baseline RMSE : 49.14498840101345\n",
      "Day : 2022-07-27 00:00:00, Week: 2, timeslot: 19.0, Model RMSE: 72.42458150180882, Baseline RMSE : 84.57423464075933\n",
      "Day : 2022-07-27 00:00:00, Week: 2, timeslot: 20.0, Model RMSE: 85.23479225165141, Baseline RMSE : 117.60554255083917\n",
      "Day : 2022-07-27 00:00:00, Week: 2, timeslot: 21.0, Model RMSE: 87.46887298386339, Baseline RMSE : 108.38142966343871\n",
      "Day : 2022-07-27 00:00:00, Week: 2, timeslot: 22.0, Model RMSE: 66.1577833685334, Baseline RMSE : 53.43790272535106\n",
      "Day : 2022-07-27 00:00:00, Week: 2, timeslot: 23.0, Model RMSE: 89.5786019057177, Baseline RMSE : 89.98823797063855\n",
      "Day : 2022-07-27 00:00:00, Week: 2, timeslot: 24.0, Model RMSE: 38.46529443057535, Baseline RMSE : 41.85061419423547\n",
      "Day : 2022-07-27 00:00:00, Week: 2, timeslot: 12.0, Model RMSE: 26.408775569744726, Baseline RMSE : 23.11450144521155\n",
      "Day : 2022-07-27 00:00:00, Week: 2, timeslot: 13.0, Model RMSE: 21.940720935828868, Baseline RMSE : 18.49488885394499\n",
      "Day : 2022-07-27 00:00:00, Week: 2, timeslot: 14.0, Model RMSE: 18.576698672194713, Baseline RMSE : 17.864655957949488\n",
      "Day : 2022-07-27 00:00:00, Week: 2, timeslot: 15.0, Model RMSE: 19.074377165333654, Baseline RMSE : 16.4339585310096\n",
      "Day : 2022-07-27 00:00:00, Week: 2, timeslot: 16.0, Model RMSE: 19.29959757612784, Baseline RMSE : 14.612762447317062\n",
      "Day : 2022-07-27 00:00:00, Week: 2, timeslot: 17.0, Model RMSE: 33.05347380160887, Baseline RMSE : 42.363562421966456\n",
      "Day : 2022-07-27 00:00:00, Week: 2, timeslot: 18.0, Model RMSE: 14.439708982977661, Baseline RMSE : 23.25106991295441\n",
      "Day : 2022-07-27 00:00:00, Week: 2, timeslot: 19.0, Model RMSE: 23.754915553463366, Baseline RMSE : 24.258438198509612\n",
      "Day : 2022-07-27 00:00:00, Week: 2, timeslot: 20.0, Model RMSE: 23.225455129046154, Baseline RMSE : 25.210791585122703\n",
      "Day : 2022-07-27 00:00:00, Week: 2, timeslot: 21.0, Model RMSE: 17.597437713764315, Baseline RMSE : 22.657086297975457\n",
      "Day : 2022-07-27 00:00:00, Week: 2, timeslot: 22.0, Model RMSE: 19.999391279209274, Baseline RMSE : 19.686219707615695\n",
      "Day : 2022-07-27 00:00:00, Week: 2, timeslot: 23.0, Model RMSE: 22.556234654623733, Baseline RMSE : 23.03933814528111\n",
      "Day : 2022-07-27 00:00:00, Week: 2, timeslot: 24.0, Model RMSE: 48.50912994760625, Baseline RMSE : 17.515580151459464\n",
      "Day : 2022-07-27 00:00:00, Week: 2, timeslot: 12.0, Model RMSE: 30.81231692862253, Baseline RMSE : 55.56556454932336\n",
      "Day : 2022-07-27 00:00:00, Week: 2, timeslot: 13.0, Model RMSE: 23.9563790098581, Baseline RMSE : 86.30785717193953\n",
      "Day : 2022-07-27 00:00:00, Week: 2, timeslot: 14.0, Model RMSE: 59.417510421824815, Baseline RMSE : 86.85250174001258\n",
      "Day : 2022-07-27 00:00:00, Week: 2, timeslot: 15.0, Model RMSE: 104.22895660308559, Baseline RMSE : 114.97774469871948\n",
      "Day : 2022-07-27 00:00:00, Week: 2, timeslot: 16.0, Model RMSE: 39.02926435452743, Baseline RMSE : 82.24065346147728\n",
      "Day : 2022-07-27 00:00:00, Week: 2, timeslot: 17.0, Model RMSE: 44.993937771189756, Baseline RMSE : 61.81987961896048\n",
      "Day : 2022-07-27 00:00:00, Week: 2, timeslot: 18.0, Model RMSE: 56.79829474642088, Baseline RMSE : 67.31792858428759\n",
      "Day : 2022-07-27 00:00:00, Week: 2, timeslot: 19.0, Model RMSE: 50.38783167753497, Baseline RMSE : 55.69999467070501\n",
      "Day : 2022-07-27 00:00:00, Week: 2, timeslot: 20.0, Model RMSE: 74.72310849723665, Baseline RMSE : 81.00115157368626\n",
      "Day : 2022-07-27 00:00:00, Week: 2, timeslot: 21.0, Model RMSE: 70.05955155394915, Baseline RMSE : 69.05699492998903\n",
      "Day : 2022-07-27 00:00:00, Week: 2, timeslot: 22.0, Model RMSE: 65.06457774061052, Baseline RMSE : 91.13842237319801\n",
      "Day : 2022-07-27 00:00:00, Week: 2, timeslot: 23.0, Model RMSE: 108.64001953852144, Baseline RMSE : 99.7570462305205\n",
      "Day : 2022-07-27 00:00:00, Week: 2, timeslot: 24.0, Model RMSE: 60.764794688359785, Baseline RMSE : 79.1734399003503\n",
      "Day : 2022-07-27 00:00:00, Week: 2, timeslot: 12.0, Model RMSE: 42.69046276079874, Baseline RMSE : 59.236161582433\n",
      "Day : 2022-07-27 00:00:00, Week: 2, timeslot: 13.0, Model RMSE: 24.086685296885396, Baseline RMSE : 42.47209159143817\n",
      "Day : 2022-07-27 00:00:00, Week: 2, timeslot: 14.0, Model RMSE: 21.354611298620526, Baseline RMSE : 32.2157564077684\n",
      "Day : 2022-07-27 00:00:00, Week: 2, timeslot: 15.0, Model RMSE: 32.953607131661144, Baseline RMSE : 38.70435695821436\n",
      "Day : 2022-07-27 00:00:00, Week: 2, timeslot: 16.0, Model RMSE: 27.618188688807113, Baseline RMSE : 31.56824948869271\n",
      "Day : 2022-07-27 00:00:00, Week: 2, timeslot: 17.0, Model RMSE: 33.77151325691964, Baseline RMSE : 45.950274727115456\n",
      "Day : 2022-07-27 00:00:00, Week: 2, timeslot: 18.0, Model RMSE: 37.71449745479032, Baseline RMSE : 39.97969824321375\n",
      "Day : 2022-07-27 00:00:00, Week: 2, timeslot: 19.0, Model RMSE: 33.08027363260195, Baseline RMSE : 49.75155951175258\n",
      "Day : 2022-07-27 00:00:00, Week: 2, timeslot: 20.0, Model RMSE: 56.00437182332998, Baseline RMSE : 67.63975310618903\n",
      "Day : 2022-07-27 00:00:00, Week: 2, timeslot: 21.0, Model RMSE: 48.34461540703207, Baseline RMSE : 62.0891477668347\n",
      "Day : 2022-07-27 00:00:00, Week: 2, timeslot: 22.0, Model RMSE: 43.54927928904306, Baseline RMSE : 58.00140234927647\n",
      "Day : 2022-07-27 00:00:00, Week: 2, timeslot: 23.0, Model RMSE: 23.044433328704493, Baseline RMSE : 54.36969562718784\n",
      "Day : 2022-07-27 00:00:00, Week: 2, timeslot: 24.0, Model RMSE: 46.42358277273449, Baseline RMSE : 72.1961691151221\n",
      "Day : 2022-07-27 00:00:00, Week: 2, timeslot: 12.0, Model RMSE: 18.52105092427897, Baseline RMSE : 39.340689784889335\n",
      "Day : 2022-07-27 00:00:00, Week: 2, timeslot: 13.0, Model RMSE: 21.370770186041725, Baseline RMSE : 39.51096341103048\n",
      "Day : 2022-07-27 00:00:00, Week: 2, timeslot: 14.0, Model RMSE: 35.44951354799767, Baseline RMSE : 38.47698415815381\n",
      "Day : 2022-07-27 00:00:00, Week: 2, timeslot: 15.0, Model RMSE: 38.71376580495237, Baseline RMSE : 42.58633320322114\n",
      "Day : 2022-07-27 00:00:00, Week: 2, timeslot: 16.0, Model RMSE: 50.28208378098705, Baseline RMSE : 55.665579600991435\n",
      "Day : 2022-07-27 00:00:00, Week: 2, timeslot: 17.0, Model RMSE: 23.782018050348416, Baseline RMSE : 28.645695558329205\n",
      "Day : 2022-07-27 00:00:00, Week: 2, timeslot: 18.0, Model RMSE: 33.61942617477831, Baseline RMSE : 31.54026854662596\n",
      "Day : 2022-07-27 00:00:00, Week: 2, timeslot: 19.0, Model RMSE: 52.44995343791636, Baseline RMSE : 55.49977889354002\n",
      "Day : 2022-07-27 00:00:00, Week: 2, timeslot: 20.0, Model RMSE: 49.66621445550876, Baseline RMSE : 61.87109750582151\n",
      "Day : 2022-07-27 00:00:00, Week: 2, timeslot: 21.0, Model RMSE: 210.7386496672944, Baseline RMSE : 288.33948888016465\n",
      "Day : 2022-07-27 00:00:00, Week: 2, timeslot: 22.0, Model RMSE: 31.212645721057743, Baseline RMSE : 67.56632599427837\n",
      "Day : 2022-07-27 00:00:00, Week: 2, timeslot: 23.0, Model RMSE: 27.314707647664715, Baseline RMSE : 37.92641515881405\n",
      "Day : 2022-07-27 00:00:00, Week: 2, timeslot: 24.0, Model RMSE: 60.74122692871094, Baseline RMSE : 7.265999999999998\n",
      "Day : 2022-07-27 00:00:00, Week: 2, timeslot: 12.0, Model RMSE: 58.36140847870789, Baseline RMSE : 53.64724779828063\n",
      "Day : 2022-07-27 00:00:00, Week: 2, timeslot: 13.0, Model RMSE: 53.895052508061426, Baseline RMSE : 34.179873794099485\n",
      "Day : 2022-07-27 00:00:00, Week: 2, timeslot: 14.0, Model RMSE: 171.93792644857, Baseline RMSE : 177.79780606248076\n",
      "Day : 2022-07-27 00:00:00, Week: 2, timeslot: 15.0, Model RMSE: 60.391422981473944, Baseline RMSE : 77.07755084539203\n"
     ]
    },
    {
     "name": "stdout",
     "output_type": "stream",
     "text": [
      "Day : 2022-07-27 00:00:00, Week: 2, timeslot: 16.0, Model RMSE: 249.01770994611056, Baseline RMSE : 235.09958136841604\n",
      "Day : 2022-07-27 00:00:00, Week: 2, timeslot: 17.0, Model RMSE: 169.8044944230333, Baseline RMSE : 221.08366040769852\n",
      "Day : 2022-07-27 00:00:00, Week: 2, timeslot: 18.0, Model RMSE: 120.08443320087714, Baseline RMSE : 150.0856642030031\n",
      "Day : 2022-07-27 00:00:00, Week: 2, timeslot: 19.0, Model RMSE: 22.822809251239256, Baseline RMSE : 24.73499697724607\n",
      "Day : 2022-07-27 00:00:00, Week: 2, timeslot: 20.0, Model RMSE: 55.043140899304476, Baseline RMSE : 62.20706625481537\n",
      "Day : 2022-07-27 00:00:00, Week: 2, timeslot: 21.0, Model RMSE: 20.277607114360446, Baseline RMSE : 27.394911756924294\n",
      "Day : 2022-07-27 00:00:00, Week: 2, timeslot: 22.0, Model RMSE: 16.93295838133628, Baseline RMSE : 21.347949549528956\n",
      "Day : 2022-07-27 00:00:00, Week: 2, timeslot: 23.0, Model RMSE: 40.65216801827357, Baseline RMSE : 29.173474445387626\n",
      "Day : 2022-07-27 00:00:00, Week: 2, timeslot: 24.0, Model RMSE: 131.54448770178348, Baseline RMSE : 122.81842020688644\n",
      "Day : 2022-07-27 00:00:00, Week: 2, timeslot: 11.0, Model RMSE: 122.54106945800783, Baseline RMSE : 111.39426406482863\n",
      "Day : 2022-07-27 00:00:00, Week: 2, timeslot: 12.0, Model RMSE: 42.07914640503487, Baseline RMSE : 60.486021748836656\n",
      "Day : 2022-07-27 00:00:00, Week: 2, timeslot: 13.0, Model RMSE: 54.23139985592524, Baseline RMSE : 52.298903698303675\n",
      "Day : 2022-07-27 00:00:00, Week: 2, timeslot: 14.0, Model RMSE: 46.17874984010081, Baseline RMSE : 60.364110830565664\n",
      "Day : 2022-07-27 00:00:00, Week: 2, timeslot: 15.0, Model RMSE: 48.4829634655053, Baseline RMSE : 44.73922676418903\n",
      "Day : 2022-07-27 00:00:00, Week: 2, timeslot: 16.0, Model RMSE: 34.09492287579495, Baseline RMSE : 40.09678335015287\n",
      "Day : 2022-07-27 00:00:00, Week: 2, timeslot: 17.0, Model RMSE: 25.886027368804548, Baseline RMSE : 53.04214139895381\n",
      "Day : 2022-07-27 00:00:00, Week: 2, timeslot: 18.0, Model RMSE: 39.23504946535667, Baseline RMSE : 50.05148894632692\n",
      "Day : 2022-07-27 00:00:00, Week: 2, timeslot: 19.0, Model RMSE: 51.686108261668934, Baseline RMSE : 81.4035320546105\n",
      "Day : 2022-07-27 00:00:00, Week: 2, timeslot: 20.0, Model RMSE: 58.490013943981225, Baseline RMSE : 54.34933426238091\n",
      "Day : 2022-07-27 00:00:00, Week: 2, timeslot: 21.0, Model RMSE: 117.06777528428539, Baseline RMSE : 110.68570562619666\n",
      "Day : 2022-07-27 00:00:00, Week: 2, timeslot: 22.0, Model RMSE: 153.52213892222537, Baseline RMSE : 148.60962910263797\n",
      "Day : 2022-07-27 00:00:00, Week: 2, timeslot: 23.0, Model RMSE: 124.28348503342302, Baseline RMSE : 121.60480425088525\n",
      "Day : 2022-07-27 00:00:00, Week: 2, timeslot: 24.0, Model RMSE: 180.91706599737643, Baseline RMSE : 184.4293377386689\n",
      "Day : 2022-07-27 00:00:00, Week: 2, timeslot: 12.0, Model RMSE: 42.31694619209282, Baseline RMSE : 55.218330815835955\n",
      "Day : 2022-07-27 00:00:00, Week: 2, timeslot: 13.0, Model RMSE: 40.83010201644274, Baseline RMSE : 64.0000734720547\n",
      "Day : 2022-07-27 00:00:00, Week: 2, timeslot: 14.0, Model RMSE: 102.54206540996402, Baseline RMSE : 111.9668428611098\n",
      "Day : 2022-07-27 00:00:00, Week: 2, timeslot: 15.0, Model RMSE: 33.20619588204422, Baseline RMSE : 37.56412087043018\n",
      "Day : 2022-07-27 00:00:00, Week: 2, timeslot: 16.0, Model RMSE: 26.55229620295844, Baseline RMSE : 28.89871780554504\n",
      "Day : 2022-07-27 00:00:00, Week: 2, timeslot: 17.0, Model RMSE: 28.604185086712658, Baseline RMSE : 38.94227844070369\n",
      "Day : 2022-07-27 00:00:00, Week: 2, timeslot: 18.0, Model RMSE: 39.878501062810614, Baseline RMSE : 39.09327342087953\n",
      "Day : 2022-07-27 00:00:00, Week: 2, timeslot: 19.0, Model RMSE: 136.78711275319364, Baseline RMSE : 137.7213264887374\n",
      "Day : 2022-07-27 00:00:00, Week: 2, timeslot: 20.0, Model RMSE: 43.27434465673437, Baseline RMSE : 63.305998772841065\n",
      "Day : 2022-07-27 00:00:00, Week: 2, timeslot: 21.0, Model RMSE: 49.878849078635696, Baseline RMSE : 43.99377524485774\n",
      "Day : 2022-07-27 00:00:00, Week: 2, timeslot: 22.0, Model RMSE: 65.83440908313815, Baseline RMSE : 73.4607240766355\n",
      "Day : 2022-07-27 00:00:00, Week: 2, timeslot: 23.0, Model RMSE: 75.55087153538011, Baseline RMSE : 55.12292468798872\n",
      "Day : 2022-07-27 00:00:00, Week: 2, timeslot: 24.0, Model RMSE: 53.35088710642212, Baseline RMSE : 57.53710599688447\n"
     ]
    }
   ],
   "source": [
    "for storeId in allStoreIds:\n",
    "# for i in range(0, 1):\n",
    "    df = overallDF.loc[overallDF['Location_Code'] == storeId]\n",
    "    diffs = []\n",
    "#     for day in allDays:\n",
    "    for ts in allTimeslots:\n",
    "        day = allDays[26]\n",
    "        df2 = df.loc[(df['Order_Date'] == day) & (df['feature_3'] == ts)]\n",
    "        if(df2.size == 0):\n",
    "            continue\n",
    "        rmseModel = getRMSE(df2.prep_time.values.tolist(), df2.predicted_prep_time_central.values.tolist())\n",
    "        rmseBaseline = getRMSE(df2.prep_time.values.tolist(), df2.avg_kpt_in_last_one_hour.values.tolist())\n",
    "        weekday = datetime.strptime(day, \"%Y-%m-%d %H:%M:%S\").weekday()\n",
    "        print(f\"Day : {day}, Week: {weekday}, timeslot: {ts}, Model RMSE: {rmseModel}, Baseline RMSE : {rmseBaseline}\")    "
   ]
  },
  {
   "cell_type": "code",
   "execution_count": 198,
   "id": "4fae8476",
   "metadata": {
    "ExecuteTime": {
     "end_time": "2023-03-16T22:58:07.676556Z",
     "start_time": "2023-03-16T22:58:07.082466Z"
    }
   },
   "outputs": [],
   "source": [
    "a = Counter(overallDF.prep_time.values.tolist())\n",
    "a = {}\n",
    "for day in allDays:\n",
    "    d = datetime.strptime(day, \"%Y-%m-%d %H:%M:%S\").weekday()\n",
    "    avgPrepTime = mean(overallDF.loc[overallDF['feature_2'] == d+1].prep_time.values.tolist())\n",
    "    a[d+1] = avgPrepTime"
   ]
  },
  {
   "cell_type": "code",
   "execution_count": 200,
   "id": "60f5a81c",
   "metadata": {
    "ExecuteTime": {
     "end_time": "2023-03-16T22:58:22.274863Z",
     "start_time": "2023-03-16T22:58:22.102633Z"
    }
   },
   "outputs": [
    {
     "data": {
      "image/png": "[encoded data removed]",
      "text/plain": [
       "<Figure size 640x480 with 1 Axes>"
      ]
     },
     "metadata": {},
     "output_type": "display_data"
    }
   ],
   "source": [
    "from matplotlib import pyplot\n",
    "x = ['Monday', 'Tueday', 'Wednesday', 'Thursday', 'Friday', 'Saturday', 'Sunday']\n",
    "y = [a[1], a[2], a[3], a[4], a[5], a[6], a[7]]\n",
    "pyplot.bar(x, y)\n",
    "pyplot.xticks(rotation=90)\n",
    "pyplot.title(\"Average Preparation Time on respective week days (Bhopal, July 2022)\")\n",
    "pyplot.show()"
   ]
  },
  {
   "cell_type": "code",
   "execution_count": 202,
   "id": "63f2e7ac",
   "metadata": {
    "ExecuteTime": {
     "end_time": "2023-03-16T23:01:18.444228Z",
     "start_time": "2023-03-16T23:01:18.279676Z"
    }
   },
   "outputs": [
    {
     "name": "stdout",
     "output_type": "stream",
     "text": [
      "1.0\n",
      "11.0\n",
      "12.0\n",
      "13.0\n",
      "14.0\n",
      "15.0\n",
      "16.0\n",
      "17.0\n",
      "18.0\n",
      "19.0\n",
      "20.0\n",
      "21.0\n",
      "22.0\n",
      "23.0\n",
      "24.0\n"
     ]
    }
   ],
   "source": [
    "a = {}\n",
    "for ts in allTimeslots:\n",
    "    print(ts)\n",
    "    avgPrepTime = mean(overallDF.loc[overallDF['feature_3'] == ts].prep_time.values.tolist())\n",
    "    a[ts] = avgPrepTime"
   ]
  },
  {
   "cell_type": "code",
   "execution_count": 205,
   "id": "5f34b1f2",
   "metadata": {
    "ExecuteTime": {
     "end_time": "2023-03-16T23:02:29.520176Z",
     "start_time": "2023-03-16T23:02:29.286647Z"
    }
   },
   "outputs": [
    {
     "data": {
      "image/png": "[encoded data removed]",
      "text/plain": [
       "<Figure size 640x480 with 1 Axes>"
      ]
     },
     "metadata": {},
     "output_type": "display_data"
    }
   ],
   "source": [
    "from matplotlib import pyplot\n",
    "x = [i for i in range(11, 25)]\n",
    "y = [a[i] for i in range(11, 25)]\n",
    "pyplot.bar(x, y)\n",
    "pyplot.xticks(rotation=90)\n",
    "pyplot.title(\"Average Preparation Time on respective timeslots (Bhopal, July 2022)\")\n",
    "pyplot.show()"
   ]
  },
  {
   "cell_type": "code",
   "execution_count": 226,
   "id": "0886f05b",
   "metadata": {
    "ExecuteTime": {
     "end_time": "2023-03-16T23:36:57.242454Z",
     "start_time": "2023-03-16T23:36:56.931948Z"
    }
   },
   "outputs": [
    {
     "data": {
      "image/png": "[encoded data removed]",
      "text/plain": [
       "<Figure size 640x480 with 1 Axes>"
      ]
     },
     "metadata": {},
     "output_type": "display_data"
    },
    {
     "name": "stdout",
     "output_type": "stream",
     "text": [
      "0.9999999087303877\n"
     ]
    }
   ],
   "source": [
    "from matplotlib import pyplot\n",
    "f = ['storeId', 'dayOfTheWeek', 'Timeslot', 'ItemType', 'countPastOrders', 'ratioOfCountOrders', 'prevAvgKPT60Minutes', 'prepAvgKPT7Days', 'hourDayWiseAvgKPT', 'Quantity', 'QueueLenght']\n",
    "pyplot.bar(f, best_regressor.feature_importances_)\n",
    "pyplot.xticks(rotation=90)\n",
    "pyplot.title(\"Feature Importance\")\n",
    "pyplot.show()\n",
    "print(sum(best_regressor.feature_importances_))"
   ]
  },
  {
   "cell_type": "code",
   "execution_count": null,
   "id": "5d3be2c9",
   "metadata": {
    "ExecuteTime": {
     "end_time": "2023-03-16T09:10:15.575369Z",
     "start_time": "2023-03-16T09:10:15.575357Z"
    }
   },
   "outputs": [],
   "source": [
    "# Experiment 1\n",
    "# remove feature with feature value less than 0.05\n",
    "# Remaining Features : 1,2,3,5,7,8,9\n",
    "totalFeatures = (1 +  # store ID (categorical)\n",
    "                 1 +  # day of the week (categorical)\n",
    "                 1 +  #timeslot of the day (categorical)\n",
    "                 1 +  #count past orders in last 30 minutes\n",
    "                 1 +  # average previous preparation time in last 1 hour\n",
    "                 1 +  # average previous preparation time in last 7 days\n",
    "                 1  # average kpt time, hour wise according to the day of the week\n",
    "                 )  # length of the current queue\n",
    "\n",
    "feature_cols = []\n",
    "for i in range(0, totalFeatures):\n",
    "    feature_cols.append('feature_' + str(i + 1))\n",
    "# TIME CONSUMING (3m 21s for Bhopal)\n",
    "for storeId in restWiseDFs:\n",
    "    X = []\n",
    "    df = restWiseDFs[storeId]\n",
    "    for index, item in df.iterrows():\n",
    "        features = getStoreId(item, False)\n",
    "        features += dayOfTheWeek(item['Kitchen_Display_Time'], isOneHotEncodingRequired)\n",
    "        features += getTimeSlotOfKitchenDisplayTime(item, isOneHotEncodingRequired)\n",
    "        # features += getItemType(item, clubItemsCategoryWise, isOneHotEncodingRequired)\n",
    "        features += [countPastOrders(item, slotTimeForPastOrders)]\n",
    "        # features += [getLiftInOrders(item, slotTimeForPastOrders)]\n",
    "        features += [getPreviousPrepTime(item, timeslot=60)]\n",
    "        features += [getPreviousPrepTime(item, timeslot=7 * 24 * 60)]\n",
    "        features += [getHourWiseAverage(item)]\n",
    "        # features += [getQuantity(item)]\n",
    "        # features += [lengthQueue(item)]\n",
    "        X.append(features)\n",
    "    Xnp = np.array(X)\n",
    "    updateFeatures(storeId, Xnp)\n",
    "    print(Xnp.shape)\n",
    "# categorical data\n",
    "if not isOneHotEncodingRequired:\n",
    "    for i in range(0, 4):\n",
    "        for storeId in allStoreIds:\n",
    "            restWiseDFs[storeId][feature_cols[i]] = restWiseDFs[storeId][feature_cols[i]].astype(\"category\")\n",
    "restWiseScalers = {}\n",
    "\n",
    "# normalize feature values\n",
    "if isNormalizationRequired:\n",
    "    for storeId in allStoreIds:\n",
    "        firstTime = datetime(2022, 7, 1)\n",
    "        lastTime = datetime(2022, 7, 14)\n",
    "        trainingData = restWiseDFs[storeId].loc[(restWiseDFs[storeId]['Kitchen_Display_Time'] >= firstTime) & \\\n",
    "                                                (restWiseDFs[storeId]['Kitchen_Display_Time'] <= lastTime)].loc[:,\n",
    "                       feature_cols]\n",
    "        scaler = StandardScaler()\n",
    "        scaler.fit(trainingData)\n",
    "        if isNormalizationRequired:\n",
    "            X = restWiseDFs[storeId].loc[:, feature_cols]\n",
    "            X_scaled = scaler.transform(X)\n",
    "            X_scalednp = np.array(X_scaled)\n",
    "            updateFeatures(storeId, X_scalednp)\n",
    "    save_object(restWiseDFs, f'restWiseDFsWithNormalizedFeatures{city}.pkl')\n",
    "\n",
    "\n",
    "if isCentralModel:\n",
    "    overallDF = pd.DataFrame()\n",
    "    for storeId in allStoreIds:\n",
    "        overallDF = pd.concat([overallDF, restWiseDFs[storeId]], ignore_index=True)\n",
    "    firstTime = datetime(2022, 7, 1)\n",
    "    lastTime = datetime(2022, 7, 14)\n",
    "    trainingData = overallDF.loc[(overallDF['Kitchen_Display_Time'] >= firstTime) & \\\n",
    "                                 (overallDF['Kitchen_Display_Time'] <= lastTime)]\n",
    "    X_train = trainingData.loc[:, feature_cols]\n",
    "    y_train = trainingData.prep_time.values.tolist()\n",
    "\n",
    "    firstTime = datetime(2022, 7, 15)\n",
    "    lastTime = datetime(2022, 7, 21)\n",
    "    validationData = overallDF.loc[(overallDF['Kitchen_Display_Time'] >= firstTime) & \\\n",
    "                                   (overallDF['Kitchen_Display_Time'] <= lastTime)]\n",
    "\n",
    "    X_train_val = validationData.loc[:, feature_cols]\n",
    "    y_train_val = validationData.prep_time.values.tolist()\n",
    "\n",
    "    firstTime = datetime(2022, 7, 22)\n",
    "    lastTime = datetime(2022, 7, 31)\n",
    "    testData = overallDF.loc[(overallDF['Kitchen_Display_Time'] >= firstTime) & \\\n",
    "                             (overallDF['Kitchen_Display_Time'] <= lastTime)]\n",
    "\n",
    "    X_test = testData.loc[:, feature_cols]\n",
    "    y_test = testData.prep_time.values.tolist()\n",
    "\n",
    "    regressor = XGBRegressor()\n",
    "    param_grid = {\n",
    "        'tree_method': ['approx', 'hist'],\n",
    "        'n_estimators': [50, 100, 200],\n",
    "        'max_depth': [3, 5, 7, 10, 12, 14],\n",
    "        'learning_rate': [0.2, 0.1, 0.01],\n",
    "        'subsample': [0.6, 0.7, 0.8],\n",
    "        'colsample_bytree': [0.6, 0.7, 0.8],\n",
    "        'enable_categorical': [True],\n",
    "    }\n",
    "\n",
    "    # define the GridSearchCV object with the parameter grid and the XGBRegressor model\n",
    "    grid_search = GridSearchCV(estimator=regressor, param_grid=param_grid, cv=5)\n",
    "\n",
    "    # fit the GridSearchCV object on the training set\n",
    "    grid_search.fit(X_train, y_train)\n",
    "\n",
    "    # print the best hyperparameters and the corresponding mean cross-validated score\n",
    "    print(\"Best hyperparameters:\", grid_search.best_params_)\n",
    "    print(\"Best mean cross-validated score:\", grid_search.best_score_)\n",
    "\n",
    "    # retrain the model on the combined training and validation sets with the best hyperparameters\n",
    "    best_regressor = XGBRegressor(**grid_search.best_params_)\n",
    "    best_regressor.fit(X_train_val, y_train_val)\n",
    "\n",
    "    # evaluate the final model performance on the test set\n",
    "    test_score = best_regressor.score(X_test, y_test)\n",
    "    print(\"Test score:\", test_score)\n",
    "\n",
    "    # regressor.fit(X_train, y_train)\n",
    "    # restWiseModelsXGB[storeId] = best_regressor\n",
    "\n",
    "    for storeId in allStoreIds:\n",
    "        X = restWiseDFs[storeId].loc[:, feature_cols]\n",
    "        y = restWiseDFs[storeId].prep_time.values.tolist()\n",
    "        predictions = best_regressor.predict(X)\n",
    "        restWiseDFs[storeId]['predicted_prep_time_central'] = predictions\n",
    "\n",
    "        a = getRMSE(y, predictions)\n",
    "        print(\"RMSE score overall for store central model (30 days) \" + storeId + \" :  \", a)"
   ]
  },
  {
   "cell_type": "code",
   "execution_count": null,
   "id": "25f74d80",
   "metadata": {
    "ExecuteTime": {
     "end_time": "2023-03-16T09:10:15.576328Z",
     "start_time": "2023-03-16T09:10:15.576304Z"
    }
   },
   "outputs": [],
   "source": [
    "\n",
    "rmse1 = ((trainingData.prep_time - trainingData.predicted_prep_time_central) ** 2).mean() ** .5\n",
    "rmse2 = ((trainingData.prep_time - trainingData.hour_wise_avg_kpt_of_the_day) ** 2).mean() ** .5\n",
    "# hour_wise_avg_kpt_of_the_day\n",
    "# rmse = ((df.prep_time - df.predicted_prep_time) ** 2).mean() ** .5\n",
    "#\n",
    "absError = (abs(trainingData.prep_time - trainingData.predicted_prep_time_central)).values.tolist()\n",
    "absError2 = (abs(trainingData.prep_time - trainingData.hour_wise_avg_kpt_of_the_day)).values.tolist()\n",
    "meanAbsError = statistics.mean(absError)\n",
    "medianAbsError = statistics.median(absError)\n",
    "\n",
    "meanAbsError2 = statistics.mean(absError2)\n",
    "medianAbsError2 = statistics.median(absError2)\n",
    "# stdAbsError = statistics.stdev(absError)\n",
    "#\n",
    "# error = (df.prep_time - df.predicted_prep_time).values.tolist()\n",
    "# meanError = statistics.mean(error)\n",
    "# medianError = statistics.median(error)\n",
    "# stdError = statistics.stdev(error)\n",
    "#\n",
    "# accuracy = (((df.prep_time - df.predicted_prep_time))/(7*60+df.prep_time)).values.tolist()"
   ]
  },
  {
   "cell_type": "code",
   "execution_count": null,
   "id": "5f74bd49",
   "metadata": {
    "ExecuteTime": {
     "end_time": "2023-03-16T09:10:15.577942Z",
     "start_time": "2023-03-16T09:10:15.577931Z"
    }
   },
   "outputs": [],
   "source": [
    "rmse1, rmse2, meanAbsError, meanAbsError2, medianAbsError, medianAbsError21"
   ]
  },
  {
   "cell_type": "code",
   "execution_count": null,
   "id": "8f4d378c",
   "metadata": {
    "ExecuteTime": {
     "end_time": "2023-03-16T09:10:15.578863Z",
     "start_time": "2023-03-16T09:10:15.578852Z"
    }
   },
   "outputs": [],
   "source": [
    "if isCentralModel:\n",
    "    overallDF = pd.DataFrame()\n",
    "    for storeId in allStoreIds:\n",
    "        overallDF = pd.concat([overallDF, restWiseDFs[storeId]], ignore_index=True)\n",
    "    firstTime = datetime(2022, 7, 1)\n",
    "    lastTime = datetime(2022, 7, 21)\n",
    "    trainingData = overallDF.loc[(overallDF['Kitchen_Display_Time'] >= firstTime) & \\\n",
    "          (overallDF['Kitchen_Display_Time'] <= lastTime)]\n",
    "    X_train = trainingData.loc[:, feature_cols]\n",
    "    y_train = trainingData.prep_time.values.tolist()\n",
    "\n",
    "    firstTime = datetime(2022, 7, 24)\n",
    "    lastTime = datetime(2022, 7, 22)\n",
    "    validationData = overallDF.loc[(overallDF['Kitchen_Display_Time'] >= firstTime) & \\\n",
    "          (overallDF['Kitchen_Display_Time'] <= lastTime)]\n",
    "\n",
    "    X_train_val = validationData.loc[:, feature_cols]\n",
    "    y_train_val = validationData.prep_time.values.tolist()\n",
    "\n",
    "    firstTime = datetime(2022, 7, 25)\n",
    "    lastTime = datetime(2022, 7, 31)\n",
    "    testData = overallDF.loc[(overallDF['Kitchen_Display_Time'] >= firstTime) & \\\n",
    "          (overallDF['Kitchen_Display_Time'] <= lastTime)]\n",
    "\n",
    "    X_test = testData.loc[:, feature_cols]\n",
    "    y_test = testData.prep_time.values.tolist()\n",
    "\n",
    "\n",
    "    regressor = XGBRegressor()\n",
    "    param_grid = {\n",
    "        'tree_method': ['approx', 'hist'],\n",
    "        'n_estimators': [50, 100, 200],\n",
    "        'max_depth': [5, 7, 10, 13],\n",
    "        'learning_rate': [0.2, 0.1, 0.01],\n",
    "        'subsample': [0.6, 0.7, 0.8],\n",
    "        'colsample_bytree': [0.6, 0.7, 0.8],\n",
    "        'enable_categorical': [True],\n",
    "    }\n",
    "\n",
    "    # define the GridSearchCV object with the parameter grid and the XGBRegressor model\n",
    "    grid_search = GridSearchCV(estimator=regressor, param_grid=param_grid, cv=5)\n",
    "\n",
    "    # fit the GridSearchCV object on the training set\n",
    "    grid_search.fit(X_train, y_train)\n",
    "\n",
    "    # print the best hyperparameters and the corresponding mean cross-validated score\n",
    "    print(\"Best hyperparameters:\", grid_search.best_params_)\n",
    "    print(\"Best mean cross-validated score:\", grid_search.best_score_)\n",
    "\n",
    "    # retrain the model on the combined training and validation sets with the best hyperparameters\n",
    "    best_regressor = XGBRegressor(**grid_search.best_params_)\n",
    "    best_regressor.fit(X_train_val, y_train_val)\n",
    "\n",
    "    # evaluate the final model performance on the test set\n",
    "    test_score = best_regressor.score(X_test, y_test)\n",
    "    print(\"Test score:\", test_score)\n",
    "\n",
    "    # regressor.fit(X_train, y_train)\n",
    "    # restWiseModelsXGB[storeId] = best_regressor\n",
    "\n",
    "    for storeId in allStoreIds:\n",
    "        X = restWiseDFs[storeId].loc[:, feature_cols]\n",
    "        y = restWiseDFs[storeId].prep_time.values.tolist()\n",
    "        predictions = best_regressor.predict(X)\n",
    "        restWiseDFs[storeId]['predicted_prep_time_central'] = predictions\n",
    "\n",
    "        a = getRMSE(y, predictions)\n",
    "        print(\"RMSE score overall for store central model (30 days) \"+storeId+\" :  \", a)"
   ]
  },
  {
   "cell_type": "code",
   "execution_count": null,
   "id": "cf4f659c",
   "metadata": {},
   "outputs": [],
   "source": []
  },
  {
   "cell_type": "code",
   "execution_count": null,
   "id": "96185470",
   "metadata": {
    "ExecuteTime": {
     "end_time": "2023-03-16T09:10:15.580106Z",
     "start_time": "2023-03-16T09:10:15.580093Z"
    }
   },
   "outputs": [],
   "source": [
    "\n",
    "rmse1 = ((testingData.prep_time - testingData.predicted_prep_time_central) ** 2).mean() ** .5\n",
    "rmse2 = ((testingData.prep_time - testingData.hour_wise_avg_kpt_of_the_day) ** 2).mean() ** .5\n",
    "# hour_wise_avg_kpt_of_the_day\n",
    "# rmse = ((df.prep_time - df.predicted_prep_time) ** 2).mean() ** .5\n",
    "#\n",
    "absError = (abs(trainingData.prep_time - trainingData.predicted_prep_time_central)).values.tolist()\n",
    "absError2 = (abs(trainingData.prep_time - trainingData.hour_wise_avg_kpt_of_the_day)).values.tolist()\n",
    "meanAbsError = statistics.mean(absError)\n",
    "medianAbsError = statistics.median(absError)\n",
    "\n",
    "meanAbsError2 = statistics.mean(absError2)\n",
    "medianAbsError2 = statistics.median(absError2)\n",
    "# stdAbsError = statistics.stdev(absError)\n",
    "#\n",
    "# error = (df.prep_time - df.predicted_prep_time).values.tolist()\n",
    "# meanError = statistics.mean(error)\n",
    "# medianError = statistics.median(error)\n",
    "# stdError = statistics.stdev(error)\n",
    "#\n",
    "# accuracy = (((df.prep_time - df.predicted_prep_time))/(7*60+df.prep_time)).values.tolist()"
   ]
  },
  {
   "cell_type": "code",
   "execution_count": null,
   "id": "335de2ba",
   "metadata": {
    "ExecuteTime": {
     "end_time": "2023-03-16T09:10:15.581138Z",
     "start_time": "2023-03-16T09:10:15.581125Z"
    }
   },
   "outputs": [],
   "source": [
    "# Time Consuming (training on first 14 days of July)\n",
    "restWiseModelsXGB = {}\n",
    "\n",
    "for storeId in allStoreIds:\n",
    "    firstTime = datetime(2022, 7, 1)\n",
    "    lastTime = datetime(2022, 7, 14)\n",
    "    trainingData = restWiseDFs[storeId].loc[(restWiseDFs[storeId]['Kitchen_Display_Time'] >= firstTime) & \\\n",
    "          (restWiseDFs[storeId]['Kitchen_Display_Time'] <= lastTime)]\n",
    "    \n",
    "    X_train = trainingData.loc[:, feature_cols]\n",
    "    y_train = trainingData.prep_time.values.tolist()\n",
    "\n",
    "    firstTime = datetime(2022, 7, 15)\n",
    "    lastTime = datetime(2022, 7, 21)\n",
    "    validationData = restWiseDFs[storeId].loc[(restWiseDFs[storeId]['Kitchen_Display_Time'] >= firstTime) & \\\n",
    "          (restWiseDFs[storeId]['Kitchen_Display_Time'] <= lastTime)]\n",
    "\n",
    "    X_train_val = validationData.loc[:, feature_cols]\n",
    "    y_train_val = validationData.prep_time.values.tolist()\n",
    "\n",
    "    firstTime = datetime(2022, 7, 22)\n",
    "    lastTime = datetime(2022, 7, 31)\n",
    "    testData = restWiseDFs[storeId].loc[(restWiseDFs[storeId]['Kitchen_Display_Time'] >= firstTime) & \\\n",
    "          (restWiseDFs[storeId]['Kitchen_Display_Time'] <= lastTime)]\n",
    "\n",
    "    X_test = testData.loc[:, feature_cols]\n",
    "    y_test = testData.prep_time.values.tolist()\n",
    "\n",
    "\n",
    "    regressor = XGBRegressor()\n",
    "    # define the parameter grid to search\n",
    "    param_grid = {\n",
    "        'tree_method': ['approx', 'hist', 'auto'],\n",
    "        'n_estimators': [50, 100, 200],\n",
    "        'max_depth': [5, 7, 10, 13],\n",
    "        'learning_rate': [0.1, 0.01, 0.001],\n",
    "        'subsample': [0.6, 0.7, 0.8],\n",
    "        'colsample_bytree': [0.6, 0.7, 0.8],\n",
    "        'enable_categorical': [True],\n",
    "    }\n",
    "\n",
    "    # define the GridSearchCV object with the parameter grid and the XGBRegressor model\n",
    "    grid_search = GridSearchCV(estimator=regressor, param_grid=param_grid, cv=5)\n",
    "\n",
    "    # fit the GridSearchCV object on the training set\n",
    "    grid_search.fit(X_train, y_train)\n",
    "\n",
    "    # print the best hyperparameters and the corresponding mean cross-validated score\n",
    "    print(\"Best hyperparameters:\", grid_search.best_params_)\n",
    "    print(\"Best mean cross-validated score:\", grid_search.best_score_)\n",
    "\n",
    "    # retrain the model on the combined training and validation sets with the best hyperparameters\n",
    "    best_regressor = XGBRegressor(**grid_search.best_params_)\n",
    "    best_regressor.fit(X_train_val, y_train_val)\n",
    "\n",
    "    # evaluate the final model performance on the test set\n",
    "    test_score = best_regressor.score(X_test, y_test)\n",
    "    print(\"Test score:\", test_score)\n",
    "\n",
    "    # regressor.fit(X_train, y_train)\n",
    "    restWiseModelsXGB[storeId] = best_regressor\n",
    "    \n",
    "    \n",
    "    X = restWiseDFs[storeId].loc[:, feature_cols]\n",
    "    y = restWiseDFs[storeId].prep_time.values.tolist()\n",
    "    predictions = best_regressor.predict(X)\n",
    "    restWiseDFs[storeId]['predicted_prep_time'] = predictions\n",
    "    \n",
    "    a = getRMSE(y, predictions)\n",
    "    print(\"RMSE score overall for store (30 days) \"+storeId+\" :  \", a)"
   ]
  },
  {
   "cell_type": "code",
   "execution_count": null,
   "id": "c8011b50",
   "metadata": {
    "ExecuteTime": {
     "end_time": "2023-03-16T09:10:15.582097Z",
     "start_time": "2023-03-16T09:10:15.582085Z"
    }
   },
   "outputs": [],
   "source": [
    "save_object(restWiseDFs, f'restWiseDFsWithPredictions{city}.pkl')"
   ]
  },
  {
   "cell_type": "code",
   "execution_count": null,
   "id": "c39c659c",
   "metadata": {
    "ExecuteTime": {
     "end_time": "2023-03-16T09:10:15.583139Z",
     "start_time": "2023-03-16T09:10:15.583127Z"
    }
   },
   "outputs": [],
   "source": [
    "save_object(restWiseModelsXGB, f'restWiseModels{city}.pkl')"
   ]
  },
  {
   "cell_type": "code",
   "execution_count": null,
   "id": "1417dc6e",
   "metadata": {},
   "outputs": [],
   "source": []
  },
  {
   "cell_type": "code",
   "execution_count": null,
   "id": "7b8d7565",
   "metadata": {
    "ExecuteTime": {
     "end_time": "2023-03-16T09:10:15.584505Z",
     "start_time": "2023-03-16T09:10:15.584493Z"
    }
   },
   "outputs": [],
   "source": [
    "def getPredictionHyperparameters(startDay, endDay): # both are included\n",
    "    df = pd.DataFrame()\n",
    "    firstTime = datetime(2022, 7, startDay)\n",
    "    lastTime = datetime(2022, 7, endDay) + timedelta(days=1)\n",
    "    for storeId in allStoreIds:\n",
    "        df2 = restWiseDFs[storeId].loc[(restWiseDFs[storeId]['Kitchen_Display_Time'] >= firstTime) & \\\n",
    "          (restWiseDFs[storeId]['Kitchen_Display_Time'] < lastTime) & \\\n",
    "                                       (restWiseDFs[storeId]['prep_time'] != timedelta(0))]\n",
    "        df = pd.concat([df, df2], ignore_index = True)\n",
    "    \n",
    "    rmse = ((df.prep_time - df.predicted_prep_time) ** 2).mean() ** .5\n",
    "    \n",
    "    absError = (abs(df.prep_time - df.predicted_prep_time)).values.tolist()\n",
    "    meanAbsError = statistics.mean(absError)\n",
    "    medianAbsError = statistics.median(absError)\n",
    "    stdAbsError = statistics.stdev(absError)\n",
    "    \n",
    "    error = (df.prep_time - df.predicted_prep_time).values.tolist()\n",
    "    meanError = statistics.mean(error)\n",
    "    medianError = statistics.median(error)\n",
    "    stdError = statistics.stdev(error)\n",
    "    \n",
    "    accuracy = (((df.prep_time - df.predicted_prep_time))/(7*60+df.prep_time)).values.tolist()\n",
    "    for i in range(0, len(accuracy)):\n",
    "        if accuracy[i] < 0:\n",
    "            accuracy[i] = -1*accuracy[i]\n",
    "        accuracy[i] = 1-accuracy[i]\n",
    "    meanAccuracy = statistics.mean(accuracy)\n",
    "    if not(meanAccuracy > 0 and meanAccuracy < 1):\n",
    "        print(\"Mean accuracy is zero: \")\n",
    "        print(meanAccuracy)\n",
    "    medianAccuracy = statistics.median(accuracy)\n",
    "    stdAccuracy = statistics.stdev(accuracy)\n",
    "    return rmse, (meanAbsError, medianAbsError, stdAbsError), (meanError, medianError, stdError), (meanAccuracy, medianAccuracy, stdAccuracy)"
   ]
  },
  {
   "cell_type": "code",
   "execution_count": null,
   "id": "87e1f424",
   "metadata": {
    "ExecuteTime": {
     "end_time": "2023-03-16T09:10:15.585544Z",
     "start_time": "2023-03-16T09:10:15.585531Z"
    }
   },
   "outputs": [],
   "source": [
    "rmseList = []\n",
    "meanAbsErrorList = []\n",
    "medianAbsErrorList = []\n",
    "stdAbsErrorList = []\n",
    "meanErrorList = []\n",
    "medianErrorList = []\n",
    "stdErrorList = []\n",
    "meanAccuracyList = []\n",
    "medianAccuracyList = []\n",
    "stdAccuracyList = []\n",
    "\n",
    "x = [15, 16, 17, 18, 19, 20, 21, 22, 23, 24, 25, 26, 27, 28, 29, 30, 31]\n",
    "\n",
    "for i in x:\n",
    "    (rmse, (meanAbsError, medianAbsError, stdAbsError), \n",
    "    (meanError, medianError, stdError), \n",
    "    (meanAccuracy, medianAccuracy, stdAccuracy)) = getPredictionHyperparameters(i,i)\n",
    "    rmseList.append(rmse)\n",
    "    meanAbsErrorList.append(meanAbsError)\n",
    "    medianAbsErrorList.append(medianAbsError)\n",
    "    stdAbsErrorList.append(stdAbsError)\n",
    "    meanErrorList.append(meanError)\n",
    "    medianErrorList.append(medianError)\n",
    "    stdErrorList.append(stdError)\n",
    "    meanAccuracyList.append(meanAccuracy)\n",
    "    medianAccuracyList.append(medianAccuracy)\n",
    "    stdAccuracyList.append(stdAccuracy)"
   ]
  },
  {
   "cell_type": "code",
   "execution_count": null,
   "id": "3da6820d",
   "metadata": {
    "ExecuteTime": {
     "end_time": "2023-03-16T09:10:15.586353Z",
     "start_time": "2023-03-16T09:10:15.586342Z"
    }
   },
   "outputs": [],
   "source": [
    "# plot for 15, 20, 25, 30 july \n",
    "plt.bar(x, rmseList)\n",
    "plt.xticks(x)\n",
    "plt.xlabel(\"Date\")\n",
    "plt.ylabel(\"RMSE value on the respective day\")\n",
    "plt.title(\"Model predictions with days\")\n",
    "plt.savefig(f'{city}_1.png')"
   ]
  },
  {
   "cell_type": "code",
   "execution_count": null,
   "id": "a7275d7e",
   "metadata": {
    "ExecuteTime": {
     "end_time": "2023-03-16T09:10:15.587228Z",
     "start_time": "2023-03-16T09:10:15.587217Z"
    }
   },
   "outputs": [],
   "source": [
    "# plot for 15, 20, 25, 30 july \n",
    "plt.bar(x, medianAbsErrorList)\n",
    "plt.xticks(x)\n",
    "plt.xlabel(\"Date\")\n",
    "plt.ylabel(\"Absolute Value of error (median) on the respective day\")\n",
    "plt.title(\"Model predictions with days\")\n",
    "plt.savefig(f'{city}_3.png')"
   ]
  },
  {
   "cell_type": "code",
   "execution_count": null,
   "id": "9d98e9e6",
   "metadata": {
    "ExecuteTime": {
     "end_time": "2023-03-16T09:10:15.588079Z",
     "start_time": "2023-03-16T09:10:15.588068Z"
    }
   },
   "outputs": [],
   "source": [
    "# plot for 15, 20, 25, 30 july \n",
    "plt.errorbar(x, meanErrorList, stdErrorList)\n",
    "plt.xticks(x)\n",
    "plt.xlabel(\"Date\")\n",
    "plt.ylabel(\"error (mean, std dev of the day) on the respective day\")\n",
    "plt.title(\"Model predictions with days\")\n",
    "plt.savefig(f'{city}_4.png')"
   ]
  },
  {
   "cell_type": "code",
   "execution_count": null,
   "id": "e4180da9",
   "metadata": {
    "ExecuteTime": {
     "end_time": "2023-03-16T09:10:15.588909Z",
     "start_time": "2023-03-16T09:10:15.588898Z"
    }
   },
   "outputs": [],
   "source": [
    "# plot for 15, 20, 25, 30 july \n",
    "plt.bar(x, medianErrorList)\n",
    "plt.xticks(x)\n",
    "plt.xlabel(\"Date\")\n",
    "plt.ylabel(\"error (median) on the respective day\")\n",
    "plt.title(\"Model predictions with days\")\n",
    "plt.savefig(f'{city}_5.png')"
   ]
  },
  {
   "cell_type": "code",
   "execution_count": null,
   "id": "96ca9374",
   "metadata": {
    "ExecuteTime": {
     "end_time": "2023-03-16T09:10:15.590292Z",
     "start_time": "2023-03-16T09:10:15.590281Z"
    }
   },
   "outputs": [],
   "source": [
    "# plot for 15, 20, 25, 30 july \n",
    "plt.errorbar(x, meanAccuracyList, stdAccuracyList)\n",
    "plt.xticks(x)\n",
    "plt.xlabel(\"Date\")\n",
    "plt.ylabel(\"Accuracy (mean, std dev of the day) on the respective day\")\n",
    "plt.title(\"Model predictions with days\")\n",
    "plt.savefig(f'{city}_6.png')\n",
    "\n"
   ]
  },
  {
   "cell_type": "code",
   "execution_count": null,
   "id": "06a29c30",
   "metadata": {
    "ExecuteTime": {
     "end_time": "2023-03-16T09:10:15.591105Z",
     "start_time": "2023-03-16T09:10:15.591094Z"
    }
   },
   "outputs": [],
   "source": [
    "overallDf = pd.DataFrame()\n",
    "for storeId in allStoreIds:\n",
    "        overallDf = pd.concat([overallDf, restWiseDFs[storeId]], ignore_index = True)"
   ]
  },
  {
   "cell_type": "code",
   "execution_count": null,
   "id": "7bc79ae7",
   "metadata": {
    "ExecuteTime": {
     "end_time": "2023-03-16T09:10:15.591916Z",
     "start_time": "2023-03-16T09:10:15.591906Z"
    }
   },
   "outputs": [],
   "source": [
    "a = overallDf.loc[(overallDf['Oven_Time'] - overallDf['Kitchen_Display_Time'] < timedelta(seconds=1))]"
   ]
  },
  {
   "cell_type": "code",
   "execution_count": null,
   "id": "3c9bc55e",
   "metadata": {
    "ExecuteTime": {
     "end_time": "2023-03-16T09:10:15.592729Z",
     "start_time": "2023-03-16T09:10:15.592718Z"
    }
   },
   "outputs": [],
   "source": [
    "a"
   ]
  },
  {
   "cell_type": "code",
   "execution_count": null,
   "id": "bcdf4bd8",
   "metadata": {
    "ExecuteTime": {
     "end_time": "2023-03-16T09:10:15.593655Z",
     "start_time": "2023-03-16T09:10:15.593643Z"
    }
   },
   "outputs": [],
   "source": [
    "# plot for 15, 20, 25, 30 july \n",
    "plt.ylim(0.8, 1)\n",
    "plt.bar(x, medianAccuracyList)\n",
    "plt.xticks(x)\n",
    "plt.xlabel(\"Date\")\n",
    "plt.ylabel(\"Accuracy (median) on the respective day\")\n",
    "plt.title(\"Model predictions with days\")\n",
    "plt.savefig(f'{city}_7.png')\n"
   ]
  },
  {
   "cell_type": "code",
   "execution_count": null,
   "id": "e05bfe46",
   "metadata": {
    "ExecuteTime": {
     "end_time": "2023-03-16T09:10:15.594646Z",
     "start_time": "2023-03-16T09:10:15.594633Z"
    }
   },
   "outputs": [],
   "source": [
    "# baseline approach\n",
    "# Hourwise avg \n",
    "\n",
    "weekdayHourWiseAvg = {}\n",
    "weekendHourWiseAvg = {}\n",
    "for store in allStoreIds:\n",
    "    weekdayHourWiseAvg[store] = {}\n",
    "    weekendHourWiseAvg[store] = {}\n",
    "for i in range(1, 15):\n",
    "    dt = datetime(2022, 7, i)\n",
    "    for storeId in allStoreIds:\n",
    "        df = restWiseDFs[storeId].loc[(restWiseDFs[storeId]['Kitchen_Display_Time'] >= dt) & \\\n",
    "          (restWiseDFs[storeId]['Kitchen_Display_Time'] < dt+timedelta(days=1))]\n",
    "        for index, item in df.iterrows():\n",
    "            ts = getTimeslot(item['Kitchen_Display_Time'])\n",
    "            if(dayOfTheWeek(item['Kitchen_Display_Time']) >= 5):\n",
    "                if ts not in weekendHourWiseAvg[storeId]:\n",
    "                    weekendHourWiseAvg[storeId][ts] = {'val': 0, 'cnt': 0}\n",
    "                weekendHourWiseAvg[storeId][ts]['val'] += item['prep_time']\n",
    "                weekendHourWiseAvg[storeId][ts]['cnt'] += 1\n",
    "            else:\n",
    "                if ts not in weekdayHourWiseAvg[storeId]:\n",
    "                    weekdayHourWiseAvg[storeId][ts] = {'val': 0, 'cnt': 0}\n",
    "                weekdayHourWiseAvg[storeId][ts]['val'] += item['prep_time']\n",
    "                weekdayHourWiseAvg[storeId][ts]['cnt'] += 1\n",
    "\n",
    "for storeId in allStoreIds:\n",
    "    for ts in weekdayHourWiseAvg[storeId].keys():\n",
    "        weekdayHourWiseAvg[storeId][ts]['val'] = weekdayHourWiseAvg[storeId][ts]['val']/weekdayHourWiseAvg[storeId][ts]['cnt']\n",
    "    for ts in weekendHourWiseAvg[storeId].keys():\n",
    "        weekendHourWiseAvg[storeId][ts]['val'] = weekendHourWiseAvg[storeId][ts]['val']/weekendHourWiseAvg[storeId][ts]['cnt']\n",
    "        \n",
    "\n",
    "        \n",
    "        "
   ]
  },
  {
   "cell_type": "code",
   "execution_count": null,
   "id": "f8ba4d96",
   "metadata": {
    "ExecuteTime": {
     "end_time": "2023-03-16T09:10:15.595521Z",
     "start_time": "2023-03-16T09:10:15.595510Z"
    }
   },
   "outputs": [],
   "source": [
    "overallDF = pd.DataFrame()\n",
    "for storeId in allStoreIds:\n",
    "    overallDF = pd.concat([overallDF, restWiseDFs[storeId]], ignore_index = True)"
   ]
  },
  {
   "cell_type": "code",
   "execution_count": null,
   "id": "e6f27b15",
   "metadata": {
    "ExecuteTime": {
     "end_time": "2023-03-16T09:10:15.596473Z",
     "start_time": "2023-03-16T09:10:15.596461Z"
    }
   },
   "outputs": [],
   "source": [
    "avgs = []\n",
    "for index, item in overallDF.iterrows():\n",
    "    ts = getTimeslot(item['Kitchen_Display_Time'])\n",
    "    storeId = item['Location_Code']\n",
    "    if(dayOfTheWeek(item['Kitchen_Display_Time']) >= 5):\n",
    "        if(ts not in weekendHourWiseAvg[storeId]):\n",
    "            avgs.append(0)\n",
    "        else:\n",
    "            avgs.append(weekendHourWiseAvg[storeId][ts]['val'] )\n",
    "    else:\n",
    "        if(ts not in weekdayHourWiseAvg[storeId]):\n",
    "            avgs.append(0)\n",
    "        else:\n",
    "            avgs.append(weekdayHourWiseAvg[storeId][ts]['val'] )\n"
   ]
  },
  {
   "cell_type": "code",
   "execution_count": null,
   "id": "e1550749",
   "metadata": {
    "ExecuteTime": {
     "end_time": "2023-03-16T09:10:15.597428Z",
     "start_time": "2023-03-16T09:10:15.597417Z"
    }
   },
   "outputs": [],
   "source": [
    "overallDF['hourwise_avg'] = avgs"
   ]
  },
  {
   "cell_type": "code",
   "execution_count": null,
   "id": "8ef84e7d",
   "metadata": {
    "ExecuteTime": {
     "end_time": "2023-03-16T09:10:15.598559Z",
     "start_time": "2023-03-16T09:10:15.598547Z"
    }
   },
   "outputs": [],
   "source": [
    "restWiseDFs = {}\n",
    "for storeId in allStoreIds:\n",
    "    restWiseDFs[storeId] = overallDF.loc[overallDF['Location_Code'] == storeId]"
   ]
  },
  {
   "cell_type": "code",
   "execution_count": null,
   "id": "ad81ec9e",
   "metadata": {
    "ExecuteTime": {
     "end_time": "2023-03-16T09:10:15.599459Z",
     "start_time": "2023-03-16T09:10:15.599448Z"
    }
   },
   "outputs": [],
   "source": [
    "def getBaselineHyperparameters(startDay, endDay): # both are included\n",
    "    df = pd.DataFrame()\n",
    "    firstTime = datetime(2022, 7, startDay)\n",
    "    lastTime = datetime(2022, 7, endDay) + timedelta(days=1)\n",
    "    for storeId in allStoreIds:\n",
    "        df2 = restWiseDFs[storeId].loc[(restWiseDFs[storeId]['Kitchen_Display_Time'] >= firstTime) & \\\n",
    "          (restWiseDFs[storeId]['Kitchen_Display_Time'] < lastTime)]\n",
    "        df = pd.concat([df, df2], ignore_index = True)\n",
    "    \n",
    "    rmse = ((df.prep_time - df.hourwise_avg) ** 2).mean() ** .5\n",
    "    \n",
    "    absError = (abs(df.prep_time - df.hourwise_avg)).values.tolist()\n",
    "    meanAbsError = statistics.mean(absError)\n",
    "    medianAbsError = statistics.median(absError)\n",
    "    stdAbsError = statistics.stdev(absError)\n",
    "    \n",
    "    error = (df.prep_time - df.hourwise_avg).values.tolist()\n",
    "    meanError = statistics.mean(error)\n",
    "    medianError = statistics.median(error)\n",
    "    stdError = statistics.stdev(error)\n",
    "    \n",
    "    accuracy = ((df.prep_time - abs(df.prep_time - df.hourwise_avg))/df.prep_time).values.tolist()\n",
    "    meanAccuracy = statistics.mean(accuracy)\n",
    "    medianAccuracy = statistics.median(accuracy)\n",
    "    stdAccuracy = statistics.stdev(accuracy)\n",
    "    return rmse, (meanAbsError, medianAbsError, stdAbsError), (meanError, medianError, stdError), (meanAccuracy, medianAccuracy, stdAccuracy)"
   ]
  },
  {
   "cell_type": "code",
   "execution_count": null,
   "id": "327b6871",
   "metadata": {
    "ExecuteTime": {
     "end_time": "2023-03-16T09:10:15.600558Z",
     "start_time": "2023-03-16T09:10:15.600547Z"
    }
   },
   "outputs": [],
   "source": [
    "rmseListBL = []\n",
    "meanAbsErrorListBL = []\n",
    "medianAbsErrorListBL = []\n",
    "stdAbsErrorListBL = []\n",
    "meanErrorListBL = []\n",
    "medianErrorListBL = []\n",
    "stdErrorListBL = []\n",
    "meanAccuracyListBL = []\n",
    "medianAccuracyListBL = []\n",
    "stdAccuracyListBL = []\n",
    "\n",
    "x = [15, 16, 17, 18, 19, 20, 21, 22, 23, 24, 25, 26, 27, 28, 29, 30, 31]\n",
    "\n",
    "for i in x:\n",
    "    (rmse, (meanAbsError, medianAbsError, stdAbsError), \n",
    "    (meanError, medianError, stdError), \n",
    "    (meanAccuracy, medianAccuracy, stdAccuracy)) = getBaselineHyperparameters(i,i)\n",
    "    rmseListBL.append(rmse)\n",
    "    meanAbsErrorListBL.append(meanAbsError)\n",
    "    medianAbsErrorListBL.append(medianAbsError)\n",
    "    stdAbsErrorListBL.append(stdAbsError)\n",
    "    meanErrorListBL.append(meanError)\n",
    "    medianErrorListBL.append(medianError)\n",
    "    stdErrorListBL.append(stdError)\n",
    "    meanAccuracyListBL.append(meanAccuracy)\n",
    "    medianAccuracyListBL.append(medianAccuracy)\n",
    "    stdAccuracyListBL.append(stdAccuracy)"
   ]
  },
  {
   "cell_type": "code",
   "execution_count": null,
   "id": "16c1fd68",
   "metadata": {
    "ExecuteTime": {
     "end_time": "2023-03-16T09:10:15.601398Z",
     "start_time": "2023-03-16T09:10:15.601386Z"
    }
   },
   "outputs": [],
   "source": [
    "# plot for 15, 20, 25, 30 july \n",
    "plt.bar(x, rmseListBL)\n",
    "plt.xticks(x)\n",
    "plt.xlabel(\"Date\")\n",
    "plt.ylabel(\"RMSE value on the respective day\")\n",
    "plt.title(\"Baseline prediction\")\n",
    "plt.savefig(f'BL_{city}_1.png')"
   ]
  },
  {
   "cell_type": "code",
   "execution_count": null,
   "id": "954fa3a2",
   "metadata": {
    "ExecuteTime": {
     "end_time": "2023-03-16T09:10:15.602333Z",
     "start_time": "2023-03-16T09:10:15.602322Z"
    }
   },
   "outputs": [],
   "source": [
    "rmseListBL"
   ]
  },
  {
   "cell_type": "code",
   "execution_count": null,
   "id": "d2d27811",
   "metadata": {},
   "outputs": [],
   "source": []
  },
  {
   "cell_type": "code",
   "execution_count": null,
   "id": "bf96bec6",
   "metadata": {
    "ExecuteTime": {
     "end_time": "2023-03-16T09:10:15.603194Z",
     "start_time": "2023-03-16T09:10:15.603182Z"
    }
   },
   "outputs": [],
   "source": [
    "# plot for 15, 20, 25, 30 july \n",
    "plt.bar(x, medianAbsErrorListBL)\n",
    "plt.xticks(x)\n",
    "plt.xlabel(\"Date\")\n",
    "plt.ylabel(\"Absolute Value of error (median) on the respective day\")\n",
    "plt.title(\"Baseline Prediction\")\n",
    "plt.savefig(f'BL_{city}_3.png')"
   ]
  },
  {
   "cell_type": "code",
   "execution_count": null,
   "id": "2cc67186",
   "metadata": {
    "ExecuteTime": {
     "end_time": "2023-03-16T09:10:15.604420Z",
     "start_time": "2023-03-16T09:10:15.604409Z"
    }
   },
   "outputs": [],
   "source": [
    "# plot for 15, 20, 25, 30 july \n",
    "plt.errorbar(x, meanErrorListBL, stdErrorListBL)\n",
    "plt.xticks(x)\n",
    "plt.xlabel(\"Date\")\n",
    "plt.ylabel(\"error (mean, std dev of the day) on the respective day\")\n",
    "plt.title(\"Baseline Prediction\")\n",
    "plt.savefig(f'BL_{city}_4.png')"
   ]
  },
  {
   "cell_type": "code",
   "execution_count": null,
   "id": "f78dcc1a",
   "metadata": {
    "ExecuteTime": {
     "end_time": "2023-03-16T09:10:15.605482Z",
     "start_time": "2023-03-16T09:10:15.605471Z"
    }
   },
   "outputs": [],
   "source": [
    "# plot for 15, 20, 25, 30 july \n",
    "plt.bar(x, medianErrorListBL)\n",
    "plt.xticks(x)\n",
    "plt.xlabel(\"Date\")\n",
    "plt.ylabel(\"error (median) on the respective day\")\n",
    "plt.title(\"Baseline Prediction\")\n",
    "plt.savefig(f'BL_{city}_5.png')"
   ]
  },
  {
   "cell_type": "code",
   "execution_count": null,
   "id": "67bed860",
   "metadata": {
    "ExecuteTime": {
     "end_time": "2023-03-16T09:10:15.606390Z",
     "start_time": "2023-03-16T09:10:15.606379Z"
    }
   },
   "outputs": [],
   "source": [
    "# plot for 15, 20, 25, 30 july \n",
    "plt.errorbar(x, meanAccuracyListBL, stdAccuracyListBL)\n",
    "plt.xticks(x)\n",
    "plt.xlabel(\"Date\")\n",
    "plt.ylabel(\"Accuracy (mean, std dev of the day) on the respective day\")\n",
    "plt.title(\"Baseline Prediction\")\n",
    "plt.savefig(f'BL_{city}_6.png')\n",
    "\n"
   ]
  },
  {
   "cell_type": "code",
   "execution_count": null,
   "id": "26d9b44a",
   "metadata": {
    "ExecuteTime": {
     "end_time": "2023-03-16T09:10:15.607270Z",
     "start_time": "2023-03-16T09:10:15.607259Z"
    }
   },
   "outputs": [],
   "source": [
    "# plot for 15, 20, 25, 30 july \n",
    "plt.ylim(0.7, 1)\n",
    "plt.bar(x, medianAccuracyListBL)\n",
    "plt.xticks(x)\n",
    "plt.xlabel(\"Date\")\n",
    "plt.ylabel(\"Accuracy (median) on the respective day\")\n",
    "plt.title(\"Baseline Prediction\")\n",
    "plt.savefig(f'BL_{city}_7.png')\n"
   ]
  },
  {
   "cell_type": "code",
   "execution_count": null,
   "id": "77100fb3",
   "metadata": {},
   "outputs": [],
   "source": []
  },
  {
   "cell_type": "code",
   "execution_count": null,
   "id": "68cee0a3",
   "metadata": {
    "ExecuteTime": {
     "end_time": "2023-03-16T09:10:15.608301Z",
     "start_time": "2023-03-16T09:10:15.608291Z"
    }
   },
   "outputs": [],
   "source": [
    "(rmseTr, (meanAbsErrorTr, medianAbsErrorTr, stdAbsErrorTr), \n",
    "    (meanErrorTr, medianErrorTr, stdErrorTr), \n",
    "    (meanAccuracyTr, medianAccuracyTr, stdAccuracyTr)) = getPredictionHyperparameters(1, 14)"
   ]
  },
  {
   "cell_type": "code",
   "execution_count": null,
   "id": "c174c632",
   "metadata": {
    "ExecuteTime": {
     "end_time": "2023-03-16T09:10:15.609192Z",
     "start_time": "2023-03-16T09:10:15.609182Z"
    }
   },
   "outputs": [],
   "source": [
    "(rmseTe, (meanAbsErrorTe, medianAbsErrorTe, stdAbsErrorTe), \n",
    "    (meanErrorTe, medianErrorTe, stdErrorTe), \n",
    "    (meanAccuracyTe, medianAccuracyTe, stdAccuracyTe)) = getPredictionHyperparameters(15, 31)"
   ]
  },
  {
   "cell_type": "code",
   "execution_count": null,
   "id": "e47b7600",
   "metadata": {
    "ExecuteTime": {
     "end_time": "2023-03-16T09:10:15.610077Z",
     "start_time": "2023-03-16T09:10:15.610066Z"
    }
   },
   "outputs": [],
   "source": [
    "(rmseTr, (meanAbsErrorTr, medianAbsErrorTr, stdAbsErrorTr), \n",
    "    (meanErrorTr, medianErrorTr, stdErrorTr), \n",
    "    (meanAccuracyTr, medianAccuracyTr, stdAccuracyTr))"
   ]
  },
  {
   "cell_type": "code",
   "execution_count": null,
   "id": "d37efa14",
   "metadata": {
    "ExecuteTime": {
     "end_time": "2023-03-16T09:10:15.610951Z",
     "start_time": "2023-03-16T09:10:15.610940Z"
    }
   },
   "outputs": [],
   "source": [
    "(rmseTe, (meanAbsErrorTe, medianAbsErrorTe, stdAbsErrorTe), \n",
    "    (meanErrorTe, medianErrorTe, stdErrorTe), \n",
    "    (meanAccuracyTe, medianAccuracyTe, stdAccuracyTe))"
   ]
  },
  {
   "cell_type": "code",
   "execution_count": null,
   "id": "5c2d9cc9",
   "metadata": {
    "ExecuteTime": {
     "end_time": "2023-03-16T09:10:15.611896Z",
     "start_time": "2023-03-16T09:10:15.611884Z"
    }
   },
   "outputs": [],
   "source": [
    "x = [15, 16, 17, 18, 19, 20, 21, 22, 23, 24, 25, 26, 27, 28, 29, 30, 31]\n",
    "plt.plot(x, rmseList, label=\"xgboost model\")\n",
    "plt.plot(x, rmseListBL, label='baseline')\n",
    "plt.xticks(x)\n",
    "plt.xlabel(\"Date\")\n",
    "plt.ylabel(\"RMSE Comparison on the respective day\")\n",
    "plt.title(\"Model vs Baseline in RMSE values\")\n",
    "plt.legend()\n",
    "plt.savefig(f'BL_{city}_7.png')\n"
   ]
  },
  {
   "cell_type": "code",
   "execution_count": null,
   "id": "a275958a",
   "metadata": {
    "ExecuteTime": {
     "end_time": "2023-03-16T09:10:15.612865Z",
     "start_time": "2023-03-16T09:10:15.612852Z"
    }
   },
   "outputs": [],
   "source": [
    "x = [15, 16, 17, 18, 19, 20, 21, 22, 23, 24, 25, 26, 27, 28, 29, 30, 31]\n",
    "plt.plot(x, medianAbsErrorList, label=\"xgboost model\")\n",
    "plt.plot(x, medianAbsErrorListBL, label='baseline')\n",
    "plt.xticks(x)\n",
    "plt.xlabel(\"Date\")\n",
    "plt.ylabel(\"Median Abs Error Comparison on the respective day\")\n",
    "plt.title(\"Model vs Baseline in Median Abs Error\")\n",
    "plt.legend()\n",
    "plt.savefig(f'BL_{city}_8.png')"
   ]
  },
  {
   "cell_type": "code",
   "execution_count": null,
   "id": "b93a62a3",
   "metadata": {
    "ExecuteTime": {
     "end_time": "2023-03-16T09:10:15.614991Z",
     "start_time": "2023-03-16T09:10:15.614979Z"
    }
   },
   "outputs": [],
   "source": [
    "def getErrorSlot(error):\n",
    "    return (error//5)*5\n",
    "\n",
    "cnt = {}\n",
    "for index, item in overallDF.iterrows():\n",
    "    error = (item['prep_time'] - item['predicted_prep_time'])/60\n",
    "    lts = getErrorSlot(error)\n",
    "    if(lts not in cnt):\n",
    "        cnt[lts]=1\n",
    "    else:\n",
    "        cnt[lts]+=1"
   ]
  },
  {
   "cell_type": "code",
   "execution_count": null,
   "id": "5e1997ec",
   "metadata": {
    "ExecuteTime": {
     "end_time": "2023-03-16T09:10:15.615914Z",
     "start_time": "2023-03-16T09:10:15.615903Z"
    }
   },
   "outputs": [],
   "source": [
    "ranges = sorted(cnt.keys())"
   ]
  },
  {
   "cell_type": "code",
   "execution_count": null,
   "id": "6ed57caa",
   "metadata": {
    "ExecuteTime": {
     "end_time": "2023-03-16T09:10:15.617488Z",
     "start_time": "2023-03-16T09:10:15.617477Z"
    }
   },
   "outputs": [],
   "source": [
    "cnt[-10]"
   ]
  },
  {
   "cell_type": "code",
   "execution_count": null,
   "id": "3ecbdd43",
   "metadata": {
    "ExecuteTime": {
     "end_time": "2023-03-16T09:10:15.618467Z",
     "start_time": "2023-03-16T09:10:15.618455Z"
    }
   },
   "outputs": [],
   "source": [
    "cnt[-5]"
   ]
  },
  {
   "cell_type": "code",
   "execution_count": null,
   "id": "4bb5d0cb",
   "metadata": {
    "ExecuteTime": {
     "end_time": "2023-03-16T09:10:15.619392Z",
     "start_time": "2023-03-16T09:10:15.619381Z"
    }
   },
   "outputs": [],
   "source": [
    "cnt[0]"
   ]
  },
  {
   "cell_type": "code",
   "execution_count": null,
   "id": "2b1d7ce7",
   "metadata": {
    "ExecuteTime": {
     "end_time": "2023-03-16T09:10:15.620182Z",
     "start_time": "2023-03-16T09:10:15.620170Z"
    }
   },
   "outputs": [],
   "source": [
    "for i in range(-)"
   ]
  },
  {
   "cell_type": "code",
   "execution_count": null,
   "id": "8eade10b",
   "metadata": {},
   "outputs": [],
   "source": []
  },
  {
   "cell_type": "code",
   "execution_count": null,
   "id": "a28e25c9",
   "metadata": {},
   "outputs": [],
   "source": []
  },
  {
   "cell_type": "code",
   "execution_count": null,
   "id": "e24840d2",
   "metadata": {},
   "outputs": [],
   "source": []
  },
  {
   "cell_type": "code",
   "execution_count": null,
   "id": "643e39c4",
   "metadata": {},
   "outputs": [],
   "source": []
  },
  {
   "cell_type": "code",
   "execution_count": null,
   "id": "37998c04",
   "metadata": {},
   "outputs": [],
   "source": []
  },
  {
   "cell_type": "code",
   "execution_count": null,
   "id": "e2987534",
   "metadata": {},
   "outputs": [],
   "source": []
  },
  {
   "cell_type": "code",
   "execution_count": null,
   "id": "a9b71d3d",
   "metadata": {},
   "outputs": [],
   "source": []
  },
  {
   "cell_type": "code",
   "execution_count": null,
   "id": "4e163cf3",
   "metadata": {},
   "outputs": [],
   "source": []
  },
  {
   "cell_type": "code",
   "execution_count": null,
   "id": "69030144",
   "metadata": {},
   "outputs": [],
   "source": []
  },
  {
   "cell_type": "code",
   "execution_count": null,
   "id": "e7aea9f2",
   "metadata": {},
   "outputs": [],
   "source": []
  },
  {
   "cell_type": "code",
   "execution_count": null,
   "id": "09f6969b",
   "metadata": {},
   "outputs": [],
   "source": []
  },
  {
   "cell_type": "code",
   "execution_count": null,
   "id": "c0aaf46a",
   "metadata": {},
   "outputs": [],
   "source": []
  },
  {
   "cell_type": "code",
   "execution_count": null,
   "id": "07375c6c",
   "metadata": {},
   "outputs": [],
   "source": []
  },
  {
   "cell_type": "code",
   "execution_count": null,
   "id": "af35e731",
   "metadata": {},
   "outputs": [],
   "source": []
  },
  {
   "cell_type": "code",
   "execution_count": null,
   "id": "5a30a4c0",
   "metadata": {},
   "outputs": [],
   "source": []
  },
  {
   "cell_type": "code",
   "execution_count": null,
   "id": "75f8bebb",
   "metadata": {},
   "outputs": [],
   "source": []
  },
  {
   "cell_type": "code",
   "execution_count": null,
   "id": "068d3e08",
   "metadata": {},
   "outputs": [],
   "source": []
  },
  {
   "cell_type": "code",
   "execution_count": null,
   "id": "484d1850",
   "metadata": {},
   "outputs": [],
   "source": []
  },
  {
   "cell_type": "code",
   "execution_count": null,
   "id": "10369e7e",
   "metadata": {},
   "outputs": [],
   "source": []
  }
 ],
 "metadata": {
  "kernelspec": {
   "display_name": "Python 3 (ipykernel)",
   "language": "python",
   "name": "python3"
  },
  "language_info": {
   "codemirror_mode": {
    "name": "ipython",
    "version": 3
   },
   "file_extension": ".py",
   "mimetype": "text/x-python",
   "name": "python",
   "nbconvert_exporter": "python",
   "pygments_lexer": "ipython3",
   "version": "3.10.6"
  }
 },
 "nbformat": 4,
 "nbformat_minor": 5
}
