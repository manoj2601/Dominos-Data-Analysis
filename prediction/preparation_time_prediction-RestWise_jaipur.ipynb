{
 "cells": [
  {
   "cell_type": "code",
   "execution_count": 1,
   "id": "c2f4650d",
   "metadata": {
    "ExecuteTime": {
     "end_time": "2022-10-27T09:06:23.973950Z",
     "start_time": "2022-10-27T09:06:18.747171Z"
    }
   },
   "outputs": [],
   "source": [
    "# imports\n",
    "import json\n",
    "import pandas as pd\n",
    "import numpy as np\n",
    "import random\n",
    "from datetime import datetime, timedelta\n",
    "import sklearn\n",
    "import math\n",
    "from sklearn.feature_extraction.text import CountVectorizer\n",
    "from sklearn.feature_extraction.text import TfidfVectorizer\n",
    "from sklearn.linear_model import LogisticRegression\n",
    "from sklearn.model_selection import train_test_split\n",
    "\n",
    "from time import time\n",
    "import matplotlib.pyplot as plt\n",
    "\n",
    "from sklearn.model_selection import train_test_split\n",
    "from sklearn.preprocessing import StandardScaler\n",
    "from sklearn.neural_network import MLPClassifier\n",
    "from sklearn.metrics import classification_report, confusion_matrix\n",
    "from sklearn.ensemble import RandomForestRegressor \n",
    "from statistics import mean"
   ]
  },
  {
   "cell_type": "code",
   "execution_count": 2,
   "id": "c83d6951",
   "metadata": {
    "ExecuteTime": {
     "end_time": "2022-10-27T09:06:23.982615Z",
     "start_time": "2022-10-27T09:06:23.978279Z"
    }
   },
   "outputs": [],
   "source": [
    "city = 'Jaipur'\n",
    "PATH = f'/media/root/data/analysis/data/Item_wise_data/{city}/'"
   ]
  },
  {
   "cell_type": "code",
   "execution_count": 3,
   "id": "8cf6c28f",
   "metadata": {
    "ExecuteTime": {
     "end_time": "2022-10-27T09:11:20.285955Z",
     "start_time": "2022-10-27T09:06:23.986796Z"
    }
   },
   "outputs": [],
   "source": [
    "# data read\n",
    "df1 = pd.read_excel(PATH+f'Item_wise-details-{city}-17-23-Dec-2021.xlsx')\n",
    "df2 = pd.read_excel(PATH+f'Item_wise-details-{city}-24-31-Dec-2021.xlsx')"
   ]
  },
  {
   "cell_type": "code",
   "execution_count": 4,
   "id": "f632ce37",
   "metadata": {
    "ExecuteTime": {
     "end_time": "2022-10-27T09:11:21.200990Z",
     "start_time": "2022-10-27T09:11:20.293744Z"
    }
   },
   "outputs": [],
   "source": [
    "# exclude non baking items\n",
    "df = pd.concat([df1, df2])\n",
    "df = df[pd.notna(df['Oven_Time'])]\n",
    "df = df.sort_values(by =['Kitchen_Display_Time', 'Location_Code', 'Order_Number'])"
   ]
  },
  {
   "cell_type": "code",
   "execution_count": 5,
   "id": "90698808",
   "metadata": {
    "ExecuteTime": {
     "end_time": "2022-10-27T09:11:21.681096Z",
     "start_time": "2022-10-27T09:11:21.204242Z"
    }
   },
   "outputs": [
    {
     "name": "stdout",
     "output_type": "stream",
     "text": [
      "(326587, 29)\n",
      "(326587, 9)\n",
      "(326587, 10)\n"
     ]
    },
    {
     "data": {
      "text/html": [
       "<div>\n",
       "<style scoped>\n",
       "    .dataframe tbody tr th:only-of-type {\n",
       "        vertical-align: middle;\n",
       "    }\n",
       "\n",
       "    .dataframe tbody tr th {\n",
       "        vertical-align: top;\n",
       "    }\n",
       "\n",
       "    .dataframe thead th {\n",
       "        text-align: right;\n",
       "    }\n",
       "</style>\n",
       "<table border=\"1\" class=\"dataframe\">\n",
       "  <thead>\n",
       "    <tr style=\"text-align: right;\">\n",
       "      <th></th>\n",
       "      <th>Location_Code</th>\n",
       "      <th>Order_Date</th>\n",
       "      <th>Order_Number</th>\n",
       "      <th>Kitchen_Display_Time</th>\n",
       "      <th>Oven_Time</th>\n",
       "      <th>Menu_Code</th>\n",
       "      <th>Item Description</th>\n",
       "      <th>Quantity</th>\n",
       "      <th>Delivery_Time</th>\n",
       "      <th>prep_time</th>\n",
       "    </tr>\n",
       "  </thead>\n",
       "  <tbody>\n",
       "    <tr>\n",
       "      <th>42816</th>\n",
       "      <td>DPI67185</td>\n",
       "      <td>2021-12-17</td>\n",
       "      <td>1</td>\n",
       "      <td>2021-12-17 10:58:45.843</td>\n",
       "      <td>2021-12-17 10:59:02.437</td>\n",
       "      <td>BRD0031</td>\n",
       "      <td>Chicken Pepperoni Stuffed Garl</td>\n",
       "      <td>1</td>\n",
       "      <td>2021-12-17 11:31:41</td>\n",
       "      <td>437</td>\n",
       "    </tr>\n",
       "    <tr>\n",
       "      <th>28664</th>\n",
       "      <td>DPI66444</td>\n",
       "      <td>2021-12-17</td>\n",
       "      <td>1</td>\n",
       "      <td>2021-12-17 10:59:03.653</td>\n",
       "      <td>2021-12-17 11:01:11.420</td>\n",
       "      <td>PIZ0117</td>\n",
       "      <td>_SV-Margherita</td>\n",
       "      <td>1</td>\n",
       "      <td>2021-12-17 11:21:15</td>\n",
       "      <td>548</td>\n",
       "    </tr>\n",
       "    <tr>\n",
       "      <th>29760</th>\n",
       "      <td>DPI66981</td>\n",
       "      <td>2021-12-17</td>\n",
       "      <td>1</td>\n",
       "      <td>2021-12-17 10:59:10.207</td>\n",
       "      <td>2021-12-17 10:59:52.817</td>\n",
       "      <td>PIZ0130</td>\n",
       "      <td>_PM39-Pizza Mania Golden Corn</td>\n",
       "      <td>1</td>\n",
       "      <td>2021-12-17 11:16:08</td>\n",
       "      <td>463</td>\n",
       "    </tr>\n",
       "    <tr>\n",
       "      <th>29761</th>\n",
       "      <td>DPI66981</td>\n",
       "      <td>2021-12-17</td>\n",
       "      <td>1</td>\n",
       "      <td>2021-12-17 10:59:10.207</td>\n",
       "      <td>2021-12-17 10:59:52.880</td>\n",
       "      <td>PIZ0130</td>\n",
       "      <td>_PM39-Pizza Mania Golden Corn</td>\n",
       "      <td>1</td>\n",
       "      <td>2021-12-17 11:16:08</td>\n",
       "      <td>463</td>\n",
       "    </tr>\n",
       "    <tr>\n",
       "      <th>39261</th>\n",
       "      <td>DPI66981</td>\n",
       "      <td>2021-12-17</td>\n",
       "      <td>1</td>\n",
       "      <td>2021-12-17 10:59:10.207</td>\n",
       "      <td>2021-12-17 10:59:52.957</td>\n",
       "      <td>BRD0020</td>\n",
       "      <td>BR-Garlic Breadsticks</td>\n",
       "      <td>1</td>\n",
       "      <td>2021-12-17 11:16:08</td>\n",
       "      <td>463</td>\n",
       "    </tr>\n",
       "  </tbody>\n",
       "</table>\n",
       "</div>"
      ],
      "text/plain": [
       "      Location_Code Order_Date  Order_Number    Kitchen_Display_Time  \\\n",
       "42816      DPI67185 2021-12-17             1 2021-12-17 10:58:45.843   \n",
       "28664      DPI66444 2021-12-17             1 2021-12-17 10:59:03.653   \n",
       "29760      DPI66981 2021-12-17             1 2021-12-17 10:59:10.207   \n",
       "29761      DPI66981 2021-12-17             1 2021-12-17 10:59:10.207   \n",
       "39261      DPI66981 2021-12-17             1 2021-12-17 10:59:10.207   \n",
       "\n",
       "                    Oven_Time Menu_Code                Item Description  \\\n",
       "42816 2021-12-17 10:59:02.437   BRD0031  Chicken Pepperoni Stuffed Garl   \n",
       "28664 2021-12-17 11:01:11.420   PIZ0117                  _SV-Margherita   \n",
       "29760 2021-12-17 10:59:52.817   PIZ0130   _PM39-Pizza Mania Golden Corn   \n",
       "29761 2021-12-17 10:59:52.880   PIZ0130   _PM39-Pizza Mania Golden Corn   \n",
       "39261 2021-12-17 10:59:52.957   BRD0020           BR-Garlic Breadsticks   \n",
       "\n",
       "       Quantity       Delivery_Time  prep_time  \n",
       "42816         1 2021-12-17 11:31:41        437  \n",
       "28664         1 2021-12-17 11:21:15        548  \n",
       "29760         1 2021-12-17 11:16:08        463  \n",
       "29761         1 2021-12-17 11:16:08        463  \n",
       "39261         1 2021-12-17 11:16:08        463  "
      ]
     },
     "execution_count": 5,
     "metadata": {},
     "output_type": "execute_result"
    }
   ],
   "source": [
    "print(df.shape)\n",
    "df = df.drop(['storedesc', 'city', 'Customer_Code', 'Customer_Name', 'Actual_Order_Date', 'Order_Status_Code', 'Order_Type_Code', 'Order_Saved', 'Order_Time', 'Driver_ID', 'Driver_Shift', 'Route_Time', 'Return_Time', 'Delayed_Order', 'Order_Taker_ID','Order_Taker_Shift', 'Closed_Order_Time', 'Customer_Address_Id', 'Original_Location_Code', 'Order_Id',], axis=1)\n",
    "print(df.shape)\n",
    "df['Kitchen_Display_Time'] = pd.to_datetime(df['Kitchen_Display_Time'])\n",
    "df['Oven_Time'] = pd.to_datetime(df['Oven_Time'])\n",
    "df['prep_time'] = df['Oven_Time'] - df['Kitchen_Display_Time']\n",
    "df['prep_time'] = round(df['prep_time']/np.timedelta64(1, 's')).astype(int) + 7*60\n",
    "print(df.shape)\n",
    "df.head()"
   ]
  },
  {
   "cell_type": "code",
   "execution_count": 6,
   "id": "5b1180d6",
   "metadata": {
    "ExecuteTime": {
     "end_time": "2022-10-27T09:13:55.804616Z",
     "start_time": "2022-10-27T09:13:55.733101Z"
    }
   },
   "outputs": [
    {
     "data": {
      "text/plain": [
       "(165, 18)"
      ]
     },
     "execution_count": 6,
     "metadata": {},
     "output_type": "execute_result"
    }
   ],
   "source": [
    "allMenuCodes = df['Menu_Code'].unique()\n",
    "allStoreIds = df['Location_Code'].unique()\n",
    "len(allMenuCodes), len(allStoreIds)"
   ]
  },
  {
   "cell_type": "code",
   "execution_count": 7,
   "id": "9f85e8d0",
   "metadata": {
    "ExecuteTime": {
     "end_time": "2022-10-27T09:14:02.195646Z",
     "start_time": "2022-10-27T09:13:58.843902Z"
    }
   },
   "outputs": [],
   "source": [
    "sampleItem=None\n",
    "for index, item in df.iterrows():\n",
    "    sampleItem = item\n",
    "    break"
   ]
  },
  {
   "cell_type": "code",
   "execution_count": 8,
   "id": "a366b592",
   "metadata": {
    "ExecuteTime": {
     "end_time": "2022-10-27T09:14:02.210368Z",
     "start_time": "2022-10-27T09:14:02.202701Z"
    }
   },
   "outputs": [
    {
     "data": {
      "text/plain": [
       "Location_Code                                 DPI67185\n",
       "Order_Date                         2021-12-17 00:00:00\n",
       "Order_Number                                         1\n",
       "Kitchen_Display_Time        2021-12-17 10:58:45.843000\n",
       "Oven_Time                   2021-12-17 10:59:02.437000\n",
       "Menu_Code                                      BRD0031\n",
       "Item Description        Chicken Pepperoni Stuffed Garl\n",
       "Quantity                                             1\n",
       "Delivery_Time                      2021-12-17 11:31:41\n",
       "prep_time                                          437\n",
       "Name: 42816, dtype: object"
      ]
     },
     "execution_count": 8,
     "metadata": {},
     "output_type": "execute_result"
    }
   ],
   "source": [
    "sampleItem"
   ]
  },
  {
   "cell_type": "code",
   "execution_count": 9,
   "id": "82ae6338",
   "metadata": {
    "ExecuteTime": {
     "end_time": "2022-10-27T09:14:03.349096Z",
     "start_time": "2022-10-27T09:14:03.342704Z"
    }
   },
   "outputs": [],
   "source": [
    "# Feature 1: store id\n",
    "def getOneHotEncodingStore(storeId, stores=allStoreIds):\n",
    "    oneHotEncodingList = []\n",
    "    for i in range(0, len(stores)):\n",
    "        if(stores[i] == storeId):\n",
    "            oneHotEncodingList.append(1)\n",
    "        else:\n",
    "            oneHotEncodingList.append(0)\n",
    "    return oneHotEncodingList\n",
    "\n",
    "# returns the feature store id for an order\n",
    "def getStoreId(item, isOneHotEncodingRequired=False):\n",
    "    if isOneHotEncodingRequired:\n",
    "        return getOneHotEncodingStore(item['Location_Code'], allStoreIds)\n",
    "    else:\n",
    "        return [item['Location_Code']]"
   ]
  },
  {
   "cell_type": "code",
   "execution_count": 10,
   "id": "00c99098",
   "metadata": {
    "ExecuteTime": {
     "end_time": "2022-10-27T09:14:04.457693Z",
     "start_time": "2022-10-27T09:14:04.451295Z"
    }
   },
   "outputs": [
    {
     "name": "stdout",
     "output_type": "stream",
     "text": [
      "['DPI67185']\n",
      "[1, 0, 0, 0, 0, 0, 0, 0, 0, 0, 0, 0, 0, 0, 0, 0, 0, 0]\n"
     ]
    }
   ],
   "source": [
    "print(getStoreId(sampleItem))\n",
    "print(getStoreId(sampleItem, True))"
   ]
  },
  {
   "cell_type": "code",
   "execution_count": 11,
   "id": "efc16550",
   "metadata": {
    "ExecuteTime": {
     "end_time": "2022-10-27T09:14:05.505743Z",
     "start_time": "2022-10-27T09:14:05.496404Z"
    }
   },
   "outputs": [],
   "source": [
    "# Feature 2: Item Type\n",
    "def getOneHotEncodingItem(item, items=allMenuCodes, clubCategoryWise=False):\n",
    "    if clubCategoryWise:\n",
    "        newItemsList = []\n",
    "        newItemsList = [i[0:3] for i in items]\n",
    "        unique_items = list(dict.fromkeys(newItemsList))\n",
    "        return getOneHotEncodingItem(item[0:3], unique_items, False)\n",
    "    \n",
    "    oneHotEncodingList=[]\n",
    "    for i in range(0, len(items)):\n",
    "        if (items[i] == item):\n",
    "            oneHotEncodingList.append(1)\n",
    "        else:\n",
    "            oneHotEncodingList.append(0)\n",
    "    return oneHotEncodingList\n",
    "\n",
    "def getItemType(item, isOneHotEncodingRequired=False, clubCategoryWise=False):\n",
    "    if (not isOneHotEncodingRequired):\n",
    "        if clubCategoryWise:\n",
    "            return [item['Menu_Code'][0:3]]\n",
    "        return [item['Menu_Code']]\n",
    "    else:\n",
    "        return getOneHotEncodingItem(item['Menu_Code'], allMenuCodes, clubCategoryWise)"
   ]
  },
  {
   "cell_type": "code",
   "execution_count": 12,
   "id": "f32862ec",
   "metadata": {
    "ExecuteTime": {
     "end_time": "2022-10-27T09:14:06.406885Z",
     "start_time": "2022-10-27T09:14:06.399179Z"
    }
   },
   "outputs": [
    {
     "name": "stdout",
     "output_type": "stream",
     "text": [
      "['BRD0031']\n",
      "[1, 0, 0, 0, 0, 0, 0, 0, 0, 0, 0, 0, 0, 0, 0, 0, 0, 0, 0, 0, 0, 0, 0, 0, 0, 0, 0, 0, 0, 0, 0, 0, 0, 0, 0, 0, 0, 0, 0, 0, 0, 0, 0, 0, 0, 0, 0, 0, 0, 0, 0, 0, 0, 0, 0, 0, 0, 0, 0, 0, 0, 0, 0, 0, 0, 0, 0, 0, 0, 0, 0, 0, 0, 0, 0, 0, 0, 0, 0, 0, 0, 0, 0, 0, 0, 0, 0, 0, 0, 0, 0, 0, 0, 0, 0, 0, 0, 0, 0, 0, 0, 0, 0, 0, 0, 0, 0, 0, 0, 0, 0, 0, 0, 0, 0, 0, 0, 0, 0, 0, 0, 0, 0, 0, 0, 0, 0, 0, 0, 0, 0, 0, 0, 0, 0, 0, 0, 0, 0, 0, 0, 0, 0, 0, 0, 0, 0, 0, 0, 0, 0, 0, 0, 0, 0, 0, 0, 0, 0, 0, 0, 0, 0, 0, 0]\n",
      "['BRD']\n",
      "[1, 0, 0, 0, 0, 0, 0]\n"
     ]
    }
   ],
   "source": [
    "print(getItemType(sampleItem))\n",
    "print(getItemType(sampleItem, True))\n",
    "print(getItemType(sampleItem, clubCategoryWise=True))\n",
    "print(getItemType(sampleItem, True, True))"
   ]
  },
  {
   "cell_type": "code",
   "execution_count": 13,
   "id": "69429a92",
   "metadata": {
    "ExecuteTime": {
     "end_time": "2022-10-27T09:14:08.161823Z",
     "start_time": "2022-10-27T09:14:08.152485Z"
    }
   },
   "outputs": [],
   "source": [
    "# Feature 3: TimeSlot of kitchen display time\n",
    "total_slots = 24\n",
    "def getTimeslot(dt, slots=total_slots):\n",
    "\tcurrent = datetime(2011, 1, 1)\n",
    "\tt1 = current.time()\n",
    "\tt2 = dt.time()\n",
    "\tfor i in range(0, slots):\n",
    "\t\tcurrent = current + timedelta(minutes = 60*24/slots)\n",
    "\t\tif(current.time() > t2):\n",
    "\t\t\treturn i\n",
    "\treturn slots-1\n",
    "\n",
    "def getOneHotEncodingTimeSlot(timeslot):\n",
    "    oneHotEncodingList = []\n",
    "    for i in range(0, 24):\n",
    "        oneHotEncodingList.append(0)\n",
    "    oneHotEncodingList[timeslot] = 1\n",
    "    return oneHotEncodingList\n",
    "\n",
    "def getTimeSlotOfKitchenDisplayTime(item, isOneHotEncodingRequired=False):\n",
    "    timeslot = getTimeslot(item['Kitchen_Display_Time'], 24)\n",
    "    if isOneHotEncodingRequired:\n",
    "        return getOneHotEncodingTimeSlot(timeslot)\n",
    "    else:\n",
    "        return [timeslot]"
   ]
  },
  {
   "cell_type": "code",
   "execution_count": 14,
   "id": "e017e620",
   "metadata": {
    "ExecuteTime": {
     "end_time": "2022-10-27T09:14:39.607525Z",
     "start_time": "2022-10-27T09:14:39.603508Z"
    }
   },
   "outputs": [],
   "source": [
    "def get_preparation_time(item):\n",
    "    return item['prep_time']\n",
    "# \tdiff = item['Oven_Time'] - item['Kitchen_Display_Time']\n",
    "# \treturn diff.total_seconds() + 7*60"
   ]
  },
  {
   "cell_type": "code",
   "execution_count": null,
   "id": "ab5dcdcb",
   "metadata": {
    "ExecuteTime": {
     "start_time": "2022-10-27T09:14:40.995Z"
    }
   },
   "outputs": [
    {
     "name": "stderr",
     "output_type": "stream",
     "text": [
      "/tmp/ipykernel_66698/2016951000.py:29: SettingWithCopyWarning: \n",
      "A value is trying to be set on a copy of a slice from a DataFrame\n",
      "\n",
      "See the caveats in the documentation: https://pandas.pydata.org/pandas-docs/stable/user_guide/indexing.html#returning-a-view-versus-a-copy\n",
      "  df['pre_prep_time'][index] = 10*60\n",
      "/tmp/ipykernel_66698/2016951000.py:25: SettingWithCopyWarning: \n",
      "A value is trying to be set on a copy of a slice from a DataFrame\n",
      "\n",
      "See the caveats in the documentation: https://pandas.pydata.org/pandas-docs/stable/user_guide/indexing.html#returning-a-view-versus-a-copy\n",
      "  df['pre_prep_time'][index] = 10*60\n",
      "/tmp/ipykernel_66698/2016951000.py:23: SettingWithCopyWarning: \n",
      "A value is trying to be set on a copy of a slice from a DataFrame\n",
      "\n",
      "See the caveats in the documentation: https://pandas.pydata.org/pandas-docs/stable/user_guide/indexing.html#returning-a-view-versus-a-copy\n",
      "  df['pre_prep_time'][index] = pt/count\n"
     ]
    }
   ],
   "source": [
    "#DON\"T RUN IT AGAIN AND AGAIN, it will take much more time\n",
    "# Feature 4 : Count of all baking items of all orders received by the store in the last 20 minutes.\n",
    "\n",
    "# Pre-preparation of data\n",
    "df['pre_prep_time'] = 0\n",
    "\n",
    "StoreWiseItems = {}\n",
    "for index, item in df.iterrows():\n",
    "    store = item['Location_Code']\n",
    "    if store in StoreWiseItems:\n",
    "        dtKitchenDisplay = item['Kitchen_Display_Time']\n",
    "        lastTime = dtKitchenDisplay - timedelta(minutes=60)\n",
    "        count = 0\n",
    "        pt = 0\n",
    "        for i in reversed(range(len(StoreWiseItems[store]))):\n",
    "            if(StoreWiseItems[store][i]['Kitchen_Display_Time'] >= lastTime and StoreWiseItems[store][i]['Kitchen_Display_Time'] < dtKitchenDisplay):\n",
    "                if(StoreWiseItems[store][i]['Menu_Code'] == item['Menu_Code']):\n",
    "                    pt += get_preparation_time(item)\n",
    "                    count+=1\n",
    "            else:\n",
    "                break\n",
    "        if count != 0:\n",
    "            df['pre_prep_time'][index] = pt/count\n",
    "        else:\n",
    "            df['pre_prep_time'][index] = 10*60\n",
    "        StoreWiseItems[store].append(item)\n",
    "    else:\n",
    "        StoreWiseItems[store] = [item]\n",
    "        df['pre_prep_time'][index] = 10*60\n",
    "\n",
    "        \n",
    "storeWiseCumulativeItems = {}\n",
    "StoreWiseDFs = {}\n",
    "for store in StoreWiseItems.keys():\n",
    "    StoreWiseDFs[store] = pd.DataFrame.from_dict(StoreWiseItems[store])\n",
    "    storeWiseCumulativeItems[store] = {}\n",
    "\n",
    "# item count per slot\n",
    "for store in StoreWiseItems.keys():\n",
    "    for item in StoreWiseItems[store]:\n",
    "        date = item['Order_Date']\n",
    "        minuteSlot = getTimeslot(item['Kitchen_Display_Time'], 24*60)\n",
    "        if date in storeWiseCumulativeItems[store]:\n",
    "            storeWiseCumulativeItems[store][date][minuteSlot]+=1\n",
    "        else:\n",
    "            t = []\n",
    "            for i in range(0, 24*60):\n",
    "                t.append(0)\n",
    "            storeWiseCumulativeItems[store][date] = t\n",
    "            storeWiseCumulativeItems[store][date][minuteSlot] = 1\n",
    "            \n",
    "#prefix sum            \n",
    "for store in storeWiseCumulativeItems.keys():\n",
    "    for date in storeWiseCumulativeItems[store].keys():\n",
    "        for i in range(1, 24*60):\n",
    "            storeWiseCumulativeItems[store][date][i] += storeWiseCumulativeItems[store][date][i-1]\n",
    "            \n",
    "            \n",
    "def countPastOrders(item, storeWiseCumulativeItems=storeWiseCumulativeItems, slotTime=30):\n",
    "    minuteSlot = getTimeslot(item['Kitchen_Display_Time'], 24*60)\n",
    "    total = storeWiseCumulativeItems[item['Location_Code']][item['Order_Date']][minuteSlot]\n",
    "    prev = storeWiseCumulativeItems[item['Location_Code']][item['Order_Date']][max(minuteSlot-slotTime, 0)]\n",
    "    return [(total-prev)]"
   ]
  },
  {
   "cell_type": "code",
   "execution_count": 25,
   "id": "deff2369",
   "metadata": {
    "ExecuteTime": {
     "end_time": "2022-10-27T12:52:57.047890Z",
     "start_time": "2022-10-27T12:52:57.036135Z"
    }
   },
   "outputs": [
    {
     "name": "stdout",
     "output_type": "stream",
     "text": [
      "[1]\n",
      "[1]\n"
     ]
    }
   ],
   "source": [
    "print(countPastOrders(sampleItem))\n",
    "print(countPastOrders(sampleItem, slotTime=10))\n",
    "\n",
    "d = datetime.strptime('2021-12-20 00:00:00', '%Y-%m-%d %H:%M:%S')\n",
    "# storeWiseCumulativeItems[sampleItem['Location_Code']][d]"
   ]
  },
  {
   "cell_type": "code",
   "execution_count": null,
   "id": "16758989",
   "metadata": {
    "ExecuteTime": {
     "start_time": "2022-10-27T09:14:50.958Z"
    }
   },
   "outputs": [],
   "source": [
    "type(StoreWiseItems[sampleItem['Location_Code']])"
   ]
  },
  {
   "cell_type": "code",
   "execution_count": null,
   "id": "1871e71a",
   "metadata": {
    "ExecuteTime": {
     "start_time": "2022-10-27T09:14:52.751Z"
    }
   },
   "outputs": [],
   "source": [
    "# Feature 5 : Avg prep time of the same item in the same store in last 60 minutes.\n",
    "\n",
    "def getPreviousPrepTime(item, StoreWiseItems=StoreWiseItems, clubCategoryWise=False, timeslot = 60):\n",
    "    dtKitchenDisplay = item['Kitchen_Display_Time']\n",
    "    lastTime = dtKitchenDisplay - timedelta(minutes=timeslot)\n",
    "    \n",
    "    orderedItem = item['Menu_Code']\n",
    "    prepTime = []\n",
    "    if clubCategoryWise:\n",
    "        orderedItem = orderedItem[0:3]\n",
    "    d = StoreWiseDFs[item['Location_Code']]\n",
    "    tdf = d[(d['Menu_Code'].str[0:len(orderedItem)]==orderedItem) \\\n",
    "             & (d['Kitchen_Display_Time'] >= lastTime) & (d['Kitchen_Display_Time'] <= dtKitchenDisplay)]\n",
    "\n",
    "    if(len(tdf)>0):\n",
    "        return [tdf['prep_time'].mean()]\n",
    "    else:\n",
    "        return [10*60]\n",
    "\n",
    "\n",
    "# def getPreviousPrepTime(item, StoreWiseItems=StoreWiseItems, clubCategoryWise=False, timeslot = 60):\n",
    "#     dtKitchenDisplay = item['Kitchen_Display_Time']\n",
    "#     lastTime = dtKitchenDisplay - timedelta(minutes=timeslot)\n",
    "    \n",
    "#     orderedItem = item['Menu_Code']\n",
    "#     prepTime = []\n",
    "#     if clubCategoryWise:\n",
    "#         orderedItem = orderedItem[0:3]\n",
    "#     tdf = df[(df['Location_Code']==item['Location_Code']) & (df['Menu_Code'].str[0:len(orderedItem)]==orderedItem) \\\n",
    "#              & (df['Kitchen_Display_Time'] >= lastTime) & (df['Kitchen_Display_Time'] <= dtKitchenDisplay)]\n",
    "\n",
    "#     if(len(tdf)>0):\n",
    "#         return [tdf['prep_time'].mean()]\n",
    "#     else:\n",
    "#         return [10*60]\n",
    "\n",
    "    \n",
    "# Feature 6 : Length of the queue in the store at that time\n",
    "def lengthQueue(item):\n",
    "    dtKitchenDisplay = item['Kitchen_Display_Time']\n",
    "    d = StoreWiseDFs[item['Location_Code']]\n",
    "    tdf = d[(d['Oven_Time'] >= dtKitchenDisplay) & (d['Kitchen_Display_Time'] <= dtKitchenDisplay)]\n",
    "    \n",
    "#     prepTime = []\n",
    "#     tdf = df[(df['Location_Code']==item['Location_Code']) & \\\n",
    "#              (df['Oven_Time'] >= dtKitchenDisplay) & (df['Kitchen_Display_Time'] <= dtKitchenDisplay)]\n",
    "    return len(tdf.index)\n",
    "#     for order in StoreWiseItems[item['Location_Code']]:\n",
    "#         if(order['Kitchen_Display_Time'] >= lastTime and order['Kitchen_Display_Time'] <= dtKitchenDisplay):\n",
    "#             if (order['Menu_Code'][0:len(orderedItem)] == orderedItem):\n",
    "#                 prepTime.append(get_preparation_time(order))\n",
    "#     if(len(prepTime) > 0):\n",
    "#         return [mean(prepTime)]\n",
    "#     else:\n",
    "#         return [10*60] # POINT OF DISCUSSION, For now taking 10 minutes"
   ]
  },
  {
   "cell_type": "code",
   "execution_count": null,
   "id": "d888e7ad",
   "metadata": {
    "ExecuteTime": {
     "start_time": "2022-10-27T09:14:53.749Z"
    }
   },
   "outputs": [],
   "source": [
    "getPreviousPrepTime(sampleItem, StoreWiseItems, False, 60)\n",
    "lengthQueue(sampleItem)"
   ]
  },
  {
   "cell_type": "code",
   "execution_count": null,
   "id": "6fafe112",
   "metadata": {
    "ExecuteTime": {
     "start_time": "2022-10-27T09:14:54.516Z"
    },
    "scrolled": true
   },
   "outputs": [],
   "source": [
    "item = sampleItem\n",
    "orderedItem = item['Menu_Code']\n",
    "orderedItem = orderedItem[0:3]\n",
    "dtKitchenDisplay = item['Kitchen_Display_Time']\n",
    "lastTime = dtKitchenDisplay - timedelta(minutes=60)\n",
    "tdf = df[(df['Location_Code']==item['Location_Code']) & (df['Menu_Code'].str[0:len(orderedItem)]==orderedItem) \\\n",
    "         & (df['Kitchen_Display_Time'] >= lastTime) & (df['Kitchen_Display_Time'] <= dtKitchenDisplay)]\n",
    "print(item, len(tdf)) \n",
    "if(len(tdf)>0):\n",
    "    print([round(tdf['prep_time'].mean())])\n",
    "tdf"
   ]
  },
  {
   "cell_type": "code",
   "execution_count": null,
   "id": "66e020fb",
   "metadata": {
    "ExecuteTime": {
     "start_time": "2022-10-27T09:14:56.173Z"
    }
   },
   "outputs": [],
   "source": [
    "# global variables\n",
    "\n",
    "isThresholdForPreparationTime = False\n",
    "thresholdForPreparationTime = 30 # minutes for preparation time (threshold)\n",
    "\n",
    "clubItemsCategoryWise = False\n",
    "\n",
    "splitMethod = 'random'\n",
    "slotTimeForPastOrders = 20 # minutes\n",
    "\n",
    "model = 'RF'\n",
    "isOneHotEncodingRequired = True\n",
    "isNormalizationRequired = True"
   ]
  },
  {
   "cell_type": "code",
   "execution_count": null,
   "id": "fb107226",
   "metadata": {
    "ExecuteTime": {
     "start_time": "2022-10-27T09:14:57.337Z"
    }
   },
   "outputs": [],
   "source": [
    "sampleItem"
   ]
  },
  {
   "cell_type": "code",
   "execution_count": 53,
   "id": "fd3e4965",
   "metadata": {
    "ExecuteTime": {
     "end_time": "2022-10-26T19:47:16.652217Z",
     "start_time": "2022-10-26T19:35:22.429380Z"
    }
   },
   "outputs": [
    {
     "name": "stdout",
     "output_type": "stream",
     "text": [
      "0.03513073921203613 0.04001951217651367 0.059610843658447266 1.3206377029418945 5.232754945755005 1.3103673458099365 0.02314591407775879\n",
      "0.07103919982910156 0.08067703247070312 0.12557363510131836 2.918303966522217 10.461041450500488 2.630033016204834 0.046590328216552734\n",
      "0.10741543769836426 0.12194633483886719 0.19578099250793457 4.723565340042114 15.739164352416992 3.9697153568267822 0.07084870338439941\n",
      "0.14417600631713867 0.16269230842590332 0.26776766777038574 6.6501784324646 21.072232246398926 5.310716390609741 0.09488534927368164\n",
      "0.17983627319335938 0.2023937702178955 0.3304286003112793 8.10477089881897 26.22684669494629 6.631551504135132 0.11853909492492676\n",
      "0.2154231071472168 0.2416543960571289 0.39308834075927734 9.524775981903076 31.428694486618042 7.960343360900879 0.14212846755981445\n",
      "0.25078415870666504 0.2806432247161865 0.45739293098449707 11.103805780410767 36.484747886657715 9.270932912826538 0.16578030586242676\n",
      "0.2865767478942871 0.32022762298583984 0.5254647731781006 12.839102029800415 41.7167272567749 10.571863651275635 0.18944764137268066\n",
      "0.3222818374633789 0.3600270748138428 0.5950090885162354 14.671544790267944 46.86624073982239 11.869889974594116 0.21290969848632812\n",
      "0.3590571880340576 0.40183258056640625 0.6688523292541504 16.635000228881836 52.16832256317139 13.187975645065308 0.23657798767089844\n",
      "0.3947160243988037 0.4421830177307129 0.7309761047363281 18.008214712142944 57.252389907836914 14.491174459457397 0.2599928379058838\n",
      "0.4308664798736572 0.48372936248779297 0.7959082126617432 19.467081308364868 62.54271340370178 15.818362712860107 0.28371453285217285\n",
      "0.4658467769622803 0.5226738452911377 0.860755205154419 21.038440465927124 67.60536479949951 17.108229160308838 0.30706143379211426\n",
      "0.5015079975128174 0.5628829002380371 0.9287228584289551 22.777276277542114 72.81920576095581 18.41453456878662 0.33070969581604004\n",
      "0.536637544631958 0.6027305126190186 0.9968254566192627 24.54270911216736 77.86037254333496 19.702012538909912 0.3539278507232666\n",
      "0.5715439319610596 0.6420581340789795 1.0664215087890625 26.375683069229126 82.89773106575012 20.983155012130737 0.3772926330566406\n",
      "0.6055288314819336 0.6806836128234863 1.1359622478485107 28.295717239379883 87.98956084251404 22.243569374084473 0.39963293075561523\n",
      "0.6396336555480957 0.7196426391601562 1.1941337585449219 29.60395359992981 92.9781596660614 23.50319480895996 0.421612024307251\n",
      "0.6726372241973877 0.7567508220672607 1.255277156829834 31.13564896583557 97.83050513267517 24.74149227142334 0.443051815032959\n",
      "0.7016959190368652 0.7896146774291992 1.3131706714630127 32.691450119018555 102.25365424156189 25.89539885520935 0.462749719619751\n",
      "0.7363288402557373 0.8290183544158936 1.3826320171356201 34.57684254646301 107.35983204841614 27.1593656539917 0.48488712310791016\n",
      "0.7717981338500977 0.8716049194335938 1.4447283744812012 35.972376346588135 112.6215410232544 28.47817039489746 0.5079209804534912\n",
      "0.8083243370056152 0.913999080657959 1.5109949111938477 37.622684717178345 117.93872833251953 29.80902934074402 0.531790018081665\n",
      "0.8438446521759033 0.9554479122161865 1.5788583755493164 39.43860077857971 123.1745994091034 31.130717515945435 0.5552854537963867\n",
      "0.8793125152587891 0.9975221157073975 1.650576114654541 41.418055057525635 128.4143033027649 32.434680461883545 0.5783913135528564\n",
      "0.9147229194641113 1.0389173030853271 1.7123284339904785 42.89176392555237 133.64551448822021 33.76978015899658 0.6020169258117676\n",
      "0.9508287906646729 1.0801591873168945 1.7748463153839111 44.402310609817505 138.8164074420929 35.10305976867676 0.6261076927185059\n",
      "0.9862644672393799 1.1212680339813232 1.842113971710205 46.14678645133972 143.994211435318 36.41289925575256 0.6494810581207275\n",
      "1.0213665962219238 1.1619629859924316 1.9120852947235107 48.05396890640259 149.15128874778748 37.71041560173035 0.6725883483886719\n",
      "1.05637788772583 1.2037289142608643 1.9759128093719482 49.64395236968994 154.3889193534851 39.020856857299805 0.6959598064422607\n",
      "1.0907273292541504 1.2433373928070068 2.036728620529175 51.105005741119385 159.41938543319702 40.30559158325195 0.718855619430542\n",
      "1.1261935234069824 1.285231590270996 2.1035194396972656 52.84584283828735 164.5715413093567 41.60923647880554 0.7424135208129883\n",
      "1.1626670360565186 1.3271489143371582 2.175079107284546 54.74302554130554 169.84975838661194 42.941747188568115 0.7663552761077881\n",
      "1.1979784965515137 1.369175672531128 2.243342638015747 56.5710883140564 175.0633680820465 44.240652561187744 0.7891619205474854\n",
      "1.2334530353546143 1.4104559421539307 2.303173303604126 57.96099781990051 180.21805715560913 45.54428243637085 0.8122105598449707\n",
      "1.2686128616333008 1.4520633220672607 2.3677098751068115 59.60554790496826 185.43621635437012 46.83566403388977 0.8354897499084473\n",
      "1.303703784942627 1.4930217266082764 2.434549331665039 61.375815868377686 190.56235265731812 48.118473291397095 0.858497142791748\n",
      "1.3381023406982422 1.531836986541748 2.500422954559326 63.16580510139465 195.60623979568481 49.39631175994873 0.8810431957244873\n",
      "1.374187707901001 1.5736315250396729 2.569906711578369 65.04162764549255 200.85411143302917 50.703574657440186 0.9043838977813721\n",
      "1.4107029438018799 1.6170568466186523 2.630126714706421 66.3646252155304 206.1642382144928 52.04445219039917 0.9280369281768799\n",
      "1.4459946155548096 1.658947467803955 2.6918745040893555 67.8279640674591 211.36588501930237 53.338046073913574 0.9512631893157959\n",
      "1.480663537979126 1.6992249488830566 2.753883123397827 69.39320015907288 216.46045112609863 54.608901262283325 0.9737982749938965\n",
      "1.5165441036224365 1.741340160369873 2.8208653926849365 71.12297081947327 221.76989006996155 55.92008185386658 0.9972052574157715\n",
      "1.5520424842834473 1.7827210426330566 2.8877243995666504 72.88854265213013 226.9892818927765 57.22765398025513 1.02052640914917\n",
      "1.5877859592437744 1.8244001865386963 2.956568479537964 74.73229217529297 232.17398715019226 58.54008436203003 1.0436151027679443\n",
      "1.6239233016967773 1.8667984008789062 3.0269200801849365 76.69552755355835 237.49140167236328 59.851075410842896 1.067187786102295\n",
      "1.6592013835906982 1.9081926345825195 3.098675489425659 78.66074895858765 242.66086053848267 61.167805671691895 1.0903396606445312\n",
      "1.6933271884918213 1.948819875717163 3.1657984256744385 80.45641136169434 247.76501536369324 62.457114458084106 1.112586498260498\n",
      "1.7293391227722168 1.9901883602142334 3.2256598472595215 81.81556677818298 252.96603775024414 63.79642581939697 1.1362457275390625\n",
      "1.7653276920318604 2.0319221019744873 3.2896571159362793 83.3493595123291 258.2509469985962 65.14897060394287 1.1600861549377441\n",
      "1.8014216423034668 2.0735888481140137 3.3561465740203857 85.02845597267151 263.48885560035706 66.48388814926147 1.1844863891601562\n",
      "1.838332176208496 2.1161296367645264 3.4254989624023438 86.82078671455383 268.81657886505127 67.83455085754395 1.2086055278778076\n",
      "1.8715267181396484 2.154893636703491 3.491356372833252 88.61174654960632 273.83717679977417 69.10968852043152 1.2306010723114014\n",
      "1.9064104557037354 2.1950693130493164 3.560542106628418 90.52199602127075 278.94786071777344 70.39019322395325 1.2533695697784424\n",
      "1.9387156963348389 2.240342855453491 3.62245512008667 92.1305582523346 283.7784240245819 71.61178708076477 1.2747156620025635\n",
      "1.9694421291351318 2.276104211807251 3.676462411880493 93.4320375919342 288.397629737854 72.80069851875305 1.29498291015625\n",
      "1.9958720207214355 2.306523323059082 3.727591037750244 94.80566048622131 292.54873514175415 73.86269950866699 1.3126366138458252\n",
      "2.02531361579895 2.3398680686950684 3.7873759269714355 96.48188900947571 297.2300329208374 75.04773092269897 1.3330013751983643\n",
      "2.0559685230255127 2.3747360706329346 3.8481943607330322 98.1726861000061 302.0298910140991 76.2824957370758 1.3536128997802734\n",
      "2.089158535003662 2.4138057231903076 3.9053804874420166 99.51106548309326 306.9631152153015 77.55215001106262 1.3753681182861328\n",
      "2.1261281967163086 2.4564473628997803 3.9712815284729004 101.16392779350281 312.2830080986023 78.90368008613586 1.3993895053863525\n",
      "2.1630029678344727 2.498664379119873 4.040405750274658 102.96158266067505 317.5662226676941 80.2444384098053 1.4233572483062744\n",
      "2.199389934539795 2.541372299194336 4.112039804458618 104.93484234809875 322.8097445964813 81.57548499107361 1.4470531940460205\n"
     ]
    },
    {
     "name": "stdout",
     "output_type": "stream",
     "text": [
      "2.2335195541381836 2.5818588733673096 4.175889492034912 106.54505467414856 327.91507029533386 82.87337493896484 1.4697282314300537\n",
      "2.2704379558563232 2.624523401260376 4.24113917350769 108.1054790019989 333.229553937912 84.2304265499115 1.4947514533996582\n",
      "2.3087363243103027 2.669220447540283 4.312583684921265 109.94489669799805 338.7506446838379 85.60371398925781 1.5194158554077148\n",
      "2.3453869819641113 2.711085796356201 4.381859540939331 111.81079745292664 344.0103385448456 86.9432361125946 1.5434024333953857\n",
      "2.382643461227417 2.754300594329834 4.450257062911987 113.56805419921875 349.3545322418213 88.30313491821289 1.5676543712615967\n",
      "2.41904616355896 2.7967095375061035 4.513312578201294 115.04118204116821 354.68721175193787 89.64115190505981 1.5915887355804443\n",
      "2.4548089504241943 2.8385305404663086 4.580286502838135 116.79338002204895 359.9447612762451 90.95221066474915 1.615023136138916\n",
      "2.4899673461914062 2.880108118057251 4.649165630340576 118.64383101463318 365.17938256263733 92.24505376815796 1.6382451057434082\n",
      "2.525357723236084 2.9222466945648193 4.720523834228516 120.63986539840698 370.4197030067444 93.54595637321472 1.6614494323730469\n",
      "2.560549020767212 2.963792085647583 4.781556606292725 122.06029391288757 375.6792435646057 94.84371757507324 1.6849937438964844\n",
      "2.596316337585449 3.004953145980835 4.8431737422943115 123.49234628677368 380.83359837532043 96.16297888755798 1.7084722518920898\n",
      "2.631582498550415 3.045677661895752 4.907122373580933 125.08305621147156 385.87414956092834 97.46298575401306 1.731919765472412\n",
      "2.6673014163970947 3.088035821914673 4.974277019500732 126.80685329437256 391.16564202308655 98.78188300132751 1.7556676864624023\n",
      "2.7045717239379883 3.1316614151000977 5.045217275619507 128.69259881973267 396.5204691886902 100.13876700401306 1.7797613143920898\n",
      "2.7402751445770264 3.172908067703247 5.114331483840942 130.52586913108826 401.68099188804626 101.4512357711792 1.8032729625701904\n",
      "2.7760937213897705 3.215391159057617 5.18392276763916 132.39996123313904 406.8905715942383 102.78135967254639 1.8272144794464111\n",
      "2.8112869262695312 3.256786823272705 5.254686594009399 134.32444024085999 412.23290967941284 104.12757635116577 1.8506770133972168\n",
      "2.8462767601013184 3.2969138622283936 5.325098037719727 136.27957201004028 417.40665078163147 105.46585893630981 1.8738884925842285\n",
      "2.881925344467163 3.3380162715911865 5.3972251415252686 138.302232503891 422.654185295105 106.81949543952942 1.897895336151123\n",
      "2.9167044162750244 3.3778834342956543 5.4682371616363525 140.27332067489624 427.7376778125763 108.15267276763916 1.9212307929992676\n",
      "2.9506263732910156 3.4166855812072754 5.537827491760254 142.2729516029358 432.7841544151306 109.44200468063354 1.9434330463409424\n",
      "2.9693119525909424 3.4382801055908203 5.577394008636475 143.41328382492065 435.58599305152893 110.15519762039185 1.9558942317962646\n"
     ]
    }
   ],
   "source": [
    "X_train, X_test, y_train, y_test = [], [], [], []\n",
    "X = []\n",
    "y = []\n",
    "import time\n",
    "t1 = t2 = t3 = t4 = t5 = t6 = t7 = 0\n",
    "i = 0\n",
    "for index, item in df.iterrows():\n",
    "    i+=1\n",
    "    if(i%1000==0): print(t1, t2, t3, t4, t5, t6, t7)\n",
    "    if(isThresholdForPreparationTime and (get_preparation_time(item) > thresholdForPreparationTime*60)): #removing inputs \n",
    "        continue\n",
    "        \n",
    "    features = []\n",
    "    t = time.time()\n",
    "    features = features + getStoreId(item, isOneHotEncodingRequired)\n",
    "    t1 += time.time() - t\n",
    "    \n",
    "    t = time.time()\n",
    "    features = features + getItemType(item, isOneHotEncodingRequired=isOneHotEncodingRequired, clubCategoryWise=clubItemsCategoryWise)\n",
    "    t2 += time.time() - t\n",
    "\n",
    "    t = time.time()    \n",
    "    features = features + getTimeSlotOfKitchenDisplayTime(item, isOneHotEncodingRequired=isOneHotEncodingRequired)\n",
    "    t3 += time.time() - t\n",
    "\n",
    "    t = time.time()\n",
    "    features = features + countPastOrders(item, storeWiseCumulativeItems, slotTimeForPastOrders) \n",
    "    t4 += time.time() - t\n",
    "\n",
    "    t = time.time()\n",
    "    features = features + getPreviousPrepTime(item, clubCategoryWise=clubItemsCategoryWise, timeslot = 60)  \n",
    "    t5 += time.time() - t\n",
    "\n",
    "    t = time.time()    \n",
    "    \n",
    "    features = features + [lengthQueue(item)]\n",
    "    \n",
    "    t6 += time.time() - t\n",
    "    t = time.time()\n",
    "    X.append(features)\n",
    "    \n",
    "    y.append(get_preparation_time(item))\n",
    "    t7 += time.time() - t\n",
    "\n",
    "#     if((order['ORDER_DATE'] >='2021-12-20' and order['ORDER_DATE'] <= '2021-12-24') or (order['ORDER_DATE'] >='2021-12-27' and order['ORDER_DATE'] <= '2021-12-29')):\n",
    "#         X_train.append(features)\n",
    "#         y_train.append(420+round(get_preparation_time(order)))\n",
    "#     elif(order['ORDER_DATE'] =='2021-12-30'):\n",
    "#         X_test.append(features)\n",
    "#         y_test.append(420+round(get_preparation_time(order)))\n",
    "print(t1, t2, t3, t4, t5, t6, t7)"
   ]
  },
  {
   "cell_type": "code",
   "execution_count": 26,
   "id": "0a28dbf0",
   "metadata": {
    "ExecuteTime": {
     "end_time": "2022-10-27T12:53:10.116366Z",
     "start_time": "2022-10-27T12:53:10.107892Z"
    }
   },
   "outputs": [
    {
     "data": {
      "text/plain": [
       "(326587, 326587, 210)"
      ]
     },
     "execution_count": 26,
     "metadata": {},
     "output_type": "execute_result"
    }
   ],
   "source": [
    "len(X), len(y), len(X[0])"
   ]
  },
  {
   "cell_type": "code",
   "execution_count": 62,
   "id": "25e2e04d",
   "metadata": {
    "ExecuteTime": {
     "end_time": "2022-10-26T19:59:23.112065Z",
     "start_time": "2022-10-26T19:59:23.106829Z"
    }
   },
   "outputs": [],
   "source": [
    "bakeup_X = X\n",
    "bakeup_y = y"
   ]
  },
  {
   "cell_type": "code",
   "execution_count": 63,
   "id": "2f31c653",
   "metadata": {
    "ExecuteTime": {
     "end_time": "2022-10-26T19:59:32.159672Z",
     "start_time": "2022-10-26T19:59:31.566249Z"
    }
   },
   "outputs": [],
   "source": [
    "n = len(allStoreIds)\n",
    "store_wise_X = [[] for _ in range(n)]\n",
    "store_wise_y = [[] for _ in range(n)]\n",
    "\n",
    "for j in range(n):\n",
    "    for i in range(len(X)):\n",
    "        if X[i][j] > 0:\n",
    "            store_wise_X[j].append(X[i][n:])\n",
    "            store_wise_y[j].append(y[i])\n",
    "\n",
    "# store_wise_X = [[x for x in X] for j in range(n)]\n",
    "# store_wise_X = [x for j in range(n) for _,y in zip(X,y) if x[j]>0]"
   ]
  },
  {
   "cell_type": "code",
   "execution_count": 64,
   "id": "bf03da4a",
   "metadata": {
    "ExecuteTime": {
     "end_time": "2022-10-26T20:00:41.070036Z",
     "start_time": "2022-10-26T19:59:36.531972Z"
    }
   },
   "outputs": [
    {
     "data": {
      "text/plain": [
       "[(18.546003170587817, 46.20067367695243, 7785, 1947),\n",
       " (11.570884019191867, 29.902409673769686, 6954, 1739),\n",
       " (19.876884476880075, 52.04437978154525, 8168, 2043),\n",
       " (15.554651852431618, 38.60970257186415, 3782, 946),\n",
       " (13.014989336860484, 32.40118288810427, 4944, 1237),\n",
       " (6.65193912341794, 17.389537221658966, 4546, 1137),\n",
       " (16.577605496937057, 41.24907456376325, 5149, 1288),\n",
       " (18.787366568005062, 54.37880200928217, 6744, 1687),\n",
       " (10.114216708862948, 26.41233547228314, 5093, 1274),\n",
       " (15.314460882861377, 41.28464382734169, 7277, 1820),\n",
       " (9.431175736786551, 29.776145739433094, 7198, 1800)]"
      ]
     },
     "execution_count": 64,
     "metadata": {},
     "output_type": "execute_result"
    }
   ],
   "source": [
    "l = []\n",
    "\n",
    "for i in range(n):\n",
    "    X = store_wise_X[i]\n",
    "    y = store_wise_y[i]\n",
    "    X_train, X_test, y_train, y_test = train_test_split(X, y, test_size = 0.20, random_state = 42)\n",
    "    \n",
    "#     print(\"Random Forest Model\", i, len(y_train), len(y_test))\n",
    "    regressor = RandomForestRegressor()\n",
    "    if(isNormalizationRequired):\n",
    "        scaler = StandardScaler()\n",
    "        scaler.fit(X_train)\n",
    "\n",
    "        X_train = scaler.transform(X_train)\n",
    "        X_test = scaler.transform(X_test)\n",
    "    \n",
    "    regressor.fit(X_train, y_train)\n",
    "    predictions = regressor.predict(X_train)\n",
    "    a = getRMSE(y_train, predictions)\n",
    "#     print(\"RMSE score on train set: \", a)\n",
    "    \n",
    "    predictions = regressor.predict(X_test)\n",
    "    b = getRMSE(y_test, predictions)\n",
    "#     print(\"RMSE score on test set: \", b)\n",
    "    l.append((a, b, len(y_train), len(y_test)))\n",
    "l"
   ]
  },
  {
   "cell_type": "code",
   "execution_count": 65,
   "id": "20201a1f",
   "metadata": {
    "ExecuteTime": {
     "end_time": "2022-10-26T20:00:41.408044Z",
     "start_time": "2022-10-26T20:00:41.074201Z"
    },
    "collapsed": true
   },
   "outputs": [
    {
     "data": {
      "image/png": "[encoded data removed]",
      "text/plain": [
       "<Figure size 432x288 with 1 Axes>"
      ]
     },
     "metadata": {
      "needs_background": "light"
     },
     "output_type": "display_data"
    },
    {
     "data": {
      "text/plain": [
       "[46.20067367695243,\n",
       " 29.902409673769686,\n",
       " 52.04437978154525,\n",
       " 38.60970257186415,\n",
       " 32.40118288810427,\n",
       " 17.389537221658966,\n",
       " 41.24907456376325,\n",
       " 54.37880200928217,\n",
       " 26.41233547228314,\n",
       " 41.28464382734169,\n",
       " 29.776145739433094]"
      ]
     },
     "execution_count": 65,
     "metadata": {},
     "output_type": "execute_result"
    }
   ],
   "source": [
    "X_t = [i for i in range(11)]\n",
    "Y_t = [x[1] for x in l]\n",
    "Y_t, X_t\n",
    "plt.bar(X_t, Y_t)\n",
    "plt.xticks(X_t)\n",
    "plt.xlabel(\"Store Id\")\n",
    "plt.ylabel(\"RMSE value of test set\")\n",
    "plt.title(\"Preparation time prediction\")\n",
    "plt.show()\n",
    "Y_t"
   ]
  },
  {
   "cell_type": "code",
   "execution_count": 49,
   "id": "7821b248",
   "metadata": {
    "ExecuteTime": {
     "end_time": "2022-10-26T19:32:50.255603Z",
     "start_time": "2022-10-26T19:32:50.245177Z"
    },
    "collapsed": true
   },
   "outputs": [
    {
     "data": {
      "text/plain": [
       "([46.474329866513,\n",
       "  30.378945504039407,\n",
       "  51.76135265403258,\n",
       "  38.465051022292506,\n",
       "  32.30800862059353,\n",
       "  17.65975373869952,\n",
       "  41.47104984259385,\n",
       "  54.02779294717718,\n",
       "  26.479798936643498,\n",
       "  41.46850661965206,\n",
       "  29.7014803993898],\n",
       " [0, 1, 2, 3, 4, 5, 6, 7, 8, 9, 10])"
      ]
     },
     "execution_count": 49,
     "metadata": {},
     "output_type": "execute_result"
    }
   ],
   "source": [
    "# l = [len(x) for x in store_wise_y]\n",
    "# sum(l)\n",
    "# len(store_wise_X[0][0]), n\n",
    "# Y_t = l[:][1]\n",
    "# Y_t\n",
    "X_t = [i for i in range(11)]\n",
    "Y_t = [x[1] for x in l]\n",
    "Y_t, X_t"
   ]
  },
  {
   "cell_type": "code",
   "execution_count": 68,
   "id": "3170e2ef",
   "metadata": {
    "ExecuteTime": {
     "end_time": "2022-10-26T20:22:51.681428Z",
     "start_time": "2022-10-26T20:22:51.672001Z"
    }
   },
   "outputs": [
    {
     "data": {
      "text/plain": [
       "39.99643963990101"
      ]
     },
     "execution_count": 68,
     "metadata": {},
     "output_type": "execute_result"
    }
   ],
   "source": [
    "l2 = [(a**2)*b for _,a,_,b in l]\n",
    "l3 = [b for _,_,_,b in l]\n",
    "combine_rmse = (sum(l2)/sum(l3))**(1/2)\n",
    "combine_rmse"
   ]
  },
  {
   "cell_type": "code",
   "execution_count": 55,
   "id": "ec7c7446",
   "metadata": {
    "ExecuteTime": {
     "end_time": "2022-10-26T19:47:16.725382Z",
     "start_time": "2022-10-26T19:47:16.667916Z"
    }
   },
   "outputs": [],
   "source": [
    "if splitMethod == 'random':\n",
    "    X_train, X_test, y_train, y_test = train_test_split(X, y, test_size = 0.20, random_state = 42)"
   ]
  },
  {
   "cell_type": "code",
   "execution_count": 56,
   "id": "86367044",
   "metadata": {
    "ExecuteTime": {
     "end_time": "2022-10-26T19:47:16.735685Z",
     "start_time": "2022-10-26T19:47:16.730409Z"
    }
   },
   "outputs": [],
   "source": [
    "def getRMSE(actual, predictions):\n",
    "    mse = sklearn.metrics.mean_squared_error(actual, predictions)\n",
    "    return math.sqrt(mse)"
   ]
  },
  {
   "cell_type": "code",
   "execution_count": 57,
   "id": "16ee20d2",
   "metadata": {
    "ExecuteTime": {
     "end_time": "2022-10-26T19:50:00.611492Z",
     "start_time": "2022-10-26T19:47:16.739605Z"
    }
   },
   "outputs": [
    {
     "name": "stdout",
     "output_type": "stream",
     "text": [
      "Random Forest Model\n",
      "RMSE score on train set:  15.505474488066628\n",
      "RMSE score on test set:  40.61493904814495\n"
     ]
    }
   ],
   "source": [
    "# random forest\n",
    "if (model=='RF'):\n",
    "    print(\"Random Forest Model\")\n",
    "    regressor = RandomForestRegressor()\n",
    "    if(isNormalizationRequired):\n",
    "        scaler = StandardScaler()\n",
    "        scaler.fit(X_train)\n",
    "\n",
    "        X_train = scaler.transform(X_train)\n",
    "        X_test = scaler.transform(X_test)\n",
    "    \n",
    "    regressor.fit(X_train, y_train)\n",
    "    predictions = regressor.predict(X_train)\n",
    "    print(\"RMSE score on train set: \", getRMSE(y_train, predictions))\n",
    "        \n",
    "    predictions = regressor.predict(X_test)\n",
    "    print(\"RMSE score on test set: \", getRMSE(y_test, predictions))\n",
    "    "
   ]
  },
  {
   "cell_type": "code",
   "execution_count": 27,
   "id": "7d120e85",
   "metadata": {
    "ExecuteTime": {
     "end_time": "2022-10-26T18:58:38.250056Z",
     "start_time": "2022-10-26T18:58:34.435597Z"
    }
   },
   "outputs": [
    {
     "name": "stdout",
     "output_type": "stream",
     "text": [
      "RMSE score on train set:  15.48396217619703\n",
      "RMSE score on test set:  40.74616528012841\n"
     ]
    }
   ],
   "source": [
    "predictions = regressor.predict(X_train)\n",
    "print(\"RMSE score on train set: \", getRMSE(y_train, predictions))\n",
    "\n",
    "predictions = regressor.predict(X_test)\n",
    "print(\"RMSE score on test set: \", getRMSE(y_test, predictions))"
   ]
  },
  {
   "cell_type": "code",
   "execution_count": 58,
   "id": "9802daa7",
   "metadata": {
    "ExecuteTime": {
     "end_time": "2022-10-26T19:50:28.022644Z",
     "start_time": "2022-10-26T19:50:26.398633Z"
    },
    "scrolled": true
   },
   "outputs": [
    {
     "data": {
      "image/png": "[encoded data removed]",
      "text/plain": [
       "<Figure size 432x288 with 1 Axes>"
      ]
     },
     "metadata": {
      "needs_background": "light"
     },
     "output_type": "display_data"
    }
   ],
   "source": [
    "X_t = []\n",
    "Y_t = []\n",
    "for j in range(0, len(allStoreIds)):\n",
    "    xx = []\n",
    "    yy = []\n",
    "    for i in range(0, len(X_test)):\n",
    "        if(X_test[i][j] > 0):\n",
    "            xx.append(X_test[i])\n",
    "            yy.append(y_test[i])\n",
    "    X_t.append(j)\n",
    "    Y_t.append(getRMSE(yy, regressor.predict(xx)))\n",
    "    \n",
    "plt.bar(X_t, Y_t)\n",
    "plt.xticks(X_t)\n",
    "plt.xlabel(\"Store Id\")\n",
    "plt.ylabel(\"RMSE value of test set\")\n",
    "plt.title(\"Preparation time prediction\")\n",
    "plt.show()"
   ]
  },
  {
   "cell_type": "code",
   "execution_count": 60,
   "id": "c38cadb4",
   "metadata": {
    "ExecuteTime": {
     "end_time": "2022-10-26T19:56:34.755490Z",
     "start_time": "2022-10-26T19:56:34.747846Z"
    }
   },
   "outputs": [
    {
     "data": {
      "text/plain": [
       "[50.06500761458387,\n",
       " 30.791504301726302,\n",
       " 54.38019089324753,\n",
       " 41.08481611853637,\n",
       " 33.85700041073424,\n",
       " 17.447795882728666,\n",
       " 43.453666175875064,\n",
       " 53.31073821329999,\n",
       " 25.182759213882008,\n",
       " 39.937293076362835,\n",
       " 23.17185346045179]"
      ]
     },
     "execution_count": 60,
     "metadata": {},
     "output_type": "execute_result"
    }
   ],
   "source": [
    "Y_t_all = Y_t\n",
    "Y_t_all"
   ]
  },
  {
   "cell_type": "code",
   "execution_count": 61,
   "id": "0cf848b8",
   "metadata": {
    "ExecuteTime": {
     "end_time": "2022-10-26T19:56:41.934865Z",
     "start_time": "2022-10-26T19:56:40.187701Z"
    }
   },
   "outputs": [
    {
     "data": {
      "image/png": "[encoded data removed]",
      "text/plain": [
       "<Figure size 432x288 with 1 Axes>"
      ]
     },
     "metadata": {
      "needs_background": "light"
     },
     "output_type": "display_data"
    }
   ],
   "source": [
    "X_Axis = [i for i in range(10, 24)]\n",
    "RMSETimeSlotWise = {}\n",
    "total_items = len(allMenuCodes)+len(allStoreIds)\n",
    "for x in X_Axis:\n",
    "    x1 = []\n",
    "    y1 = []\n",
    "    for i in range(0, len(X_test)):\n",
    "        if(X_test[i][total_items+x] > 0):\n",
    "            x1.append(X_test[i])\n",
    "            y1.append(y_test[i])\n",
    "    RMSETimeSlotWise[x] = getRMSE(y1, regressor.predict(x1))\n",
    "    \n",
    "X_axis = list(RMSETimeSlotWise.keys())\n",
    "Y_axis = list(RMSETimeSlotWise.values())\n",
    "\n",
    "plt.bar(X_axis, Y_axis)\n",
    "plt.xticks(X_axis)\n",
    "plt.xlabel(\"Time slot\")\n",
    "plt.ylabel(\"RMSE value of test set\")\n",
    "plt.title(\"Preparation time prediction over different time slots\")\n",
    "plt.show()"
   ]
  },
  {
   "cell_type": "code",
   "execution_count": null,
   "id": "47f58822",
   "metadata": {},
   "outputs": [],
   "source": []
  },
  {
   "cell_type": "code",
   "execution_count": null,
   "id": "ad6f0602",
   "metadata": {},
   "outputs": [],
   "source": []
  },
  {
   "cell_type": "code",
   "execution_count": 76,
   "id": "9a8cd69d",
   "metadata": {
    "ExecuteTime": {
     "end_time": "2022-10-26T20:34:53.603632Z",
     "start_time": "2022-10-26T20:34:53.587537Z"
    }
   },
   "outputs": [
    {
     "name": "stdout",
     "output_type": "stream",
     "text": [
      "0 46.20067367695243 50.06500761458387\n",
      "1 29.902409673769686 30.791504301726302\n",
      "2 52.04437978154525 54.38019089324753\n",
      "3 38.60970257186415 41.08481611853637\n",
      "4 32.40118288810427 33.85700041073424\n",
      "5 17.389537221658966 17.447795882728666\n",
      "6 41.24907456376325 43.453666175875064\n",
      "7 54.37880200928217 53.31073821329999\n",
      "8 26.41233547228314 25.182759213882008\n",
      "9 41.28464382734169 39.937293076362835\n",
      "10 29.776145739433094 23.17185346045179\n"
     ]
    }
   ],
   "source": [
    "y = []\n",
    "for i in X_t:\n",
    "#     y.append((Y_t[i], Y_t_all[i]))\n",
    "    print(i, Y_t[i], Y_t_all[i])\n",
    "#     if Y_t_all[x][y] = 4\n",
    "    \n",
    "# y"
   ]
  },
  {
   "cell_type": "code",
   "execution_count": 75,
   "id": "fee73cb4",
   "metadata": {
    "ExecuteTime": {
     "end_time": "2022-10-26T20:32:39.168821Z",
     "start_time": "2022-10-26T20:32:38.805430Z"
    }
   },
   "outputs": [
    {
     "data": {
      "image/png": "[encoded data removed]",
      "text/plain": [
       "<Figure size 432x288 with 1 Axes>"
      ]
     },
     "metadata": {
      "needs_background": "light"
     },
     "output_type": "display_data"
    }
   ],
   "source": [
    "# plt.plot(X_t, Y_t, label = 'Single Model Prediction')\n",
    "# plt.plot(X_t, Y_t_all, label = 'Restaurent Wise Prediction')\n",
    "\n",
    "plt.plot(X_t, y)\n",
    "plt.legend(['Single Model Prediction', 'Restaurent Wise Prediction'])\n",
    "\n",
    "plt.xticks(X_t)\n",
    "plt.xlabel(\"Store Id\")\n",
    "plt.ylabel(\"RMSE value of test set\")\n",
    "plt.title(\"Preparation time prediction\")\n",
    "plt.show()"
   ]
  },
  {
   "cell_type": "code",
   "execution_count": 89,
   "id": "5a01c598",
   "metadata": {},
   "outputs": [],
   "source": [
    "# #activation: relu, logistic\n",
    "# def ModelResults(X_train, X_test, y_train, y_test, model, isNormalizationRequired=True):\n",
    "    \n",
    "#     if(isNormalizationRequired):\n",
    "#         scaler = StandardScaler()\n",
    "#         scaler.fit(X_train)\n",
    "\n",
    "#         X_train = scaler.transform(X_train)\n",
    "#         X_test = scaler.transform(X_test)\n",
    "        \n",
    "#     if(model=='NN'):\n",
    "#         hidden_layer_sizes=(80, 30, 10)\n",
    "#         activation='relu'\n",
    "#         print(\"Neural Network model\")\n",
    "#         print(\"Hidden layers: \", hidden_layer_sizes)\n",
    "#         print(\"Activation function: \", activation)\n",
    "#         mlp = MLPClassifier(hidden_layer_sizes=hidden_layer_sizes, activation=activation, max_iter=1000, verbose=True, learning_rate='constant', learning_rate_init=0.01)\n",
    "#         mlp.fit(X_train, y_train)\n",
    "#         print(mlp.best_loss_)\n",
    "        \n",
    "#         predictions = mlp.predict(X_train)\n",
    "#         print(\"RMSE score on validation set: \", getRMSE(y_train, predictions))\n",
    "        \n",
    "#         predictions = mlp.predict(X_test)\n",
    "#         print(\"RMSE score on test set: \", getRMSE(y_test, predictions))\n",
    "        \n",
    "#     elif(model=='RF'):\n",
    "#         print(\"Random Forest Model\")\n",
    "#         regressor = RandomForestRegressor()\n",
    "#         regressor.fit(X_train, y_train)\n",
    "        \n",
    "#         predictions = regressor.predict(X_train)\n",
    "#         print(\"RMSE score on validation set: \", getRMSE(y_train, predictions))\n",
    "        \n",
    "#         predictions = regressor.predict(X_test)\n",
    "#         print(\"RMSE score on test set: \", getRMSE(y_test, predictions))\n",
    "#     else:\n",
    "#         print(\"Model not implemented yet\")"
   ]
  },
  {
   "cell_type": "code",
   "execution_count": 86,
   "id": "ab069e8d",
   "metadata": {
    "collapsed": true
   },
   "outputs": [
    {
     "data": {
      "text/plain": [
       "array([[ -9.68770891,  -7.18229529,  -7.05802898, ..., -10.05756664,\n",
       "        -11.47823238,  -9.53518635],\n",
       "       [ -9.68770891,  -7.18229529,  -7.05802898, ..., -10.05756664,\n",
       "        -11.47823238,  -9.53518635],\n",
       "       [ -9.68770891,  -7.18229529,  -7.05802898, ..., -10.05756664,\n",
       "        -11.47823238,  -9.53518635],\n",
       "       ...,\n",
       "       [ -9.68770891,  -7.18229529,  -7.05802898, ..., -10.05756664,\n",
       "        -11.47823238,  -9.53518635],\n",
       "       [ -9.68770891,  -7.18229529,  -7.05802898, ..., -10.05756664,\n",
       "        -11.47823238,  -9.53518635],\n",
       "       [ -9.68770891,  -7.18229529,  -7.05802898, ..., -10.05756664,\n",
       "        -11.47823238,  -9.53518635]])"
      ]
     },
     "execution_count": 86,
     "metadata": {},
     "output_type": "execute_result"
    }
   ],
   "source": [
    "# mlp.predict_log_proba(X)"
   ]
  },
  {
   "cell_type": "code",
   "execution_count": null,
   "id": "ab797e2d",
   "metadata": {},
   "outputs": [],
   "source": [
    "\n",
    "# scaler = StandardScaler()\n",
    "# scaler.fit(X_train)\n",
    "\n",
    "# X_train = scaler.transform(X_train)\n",
    "# X_test = scaler.transform(X_test)\n",
    "\n",
    "# regressor = RandomForestRegressor()\n",
    "# regressor.fit(X_train, y_train)\n",
    "# predictions = regressor.predict(X_train)"
   ]
  },
  {
   "cell_type": "code",
   "execution_count": 39,
   "id": "bbfeb934",
   "metadata": {
    "ExecuteTime": {
     "end_time": "2022-10-26T19:20:53.339534Z",
     "start_time": "2022-10-26T19:19:47.552739Z"
    },
    "collapsed": true
   },
   "outputs": [
    {
     "name": "stdout",
     "output_type": "stream",
     "text": [
      "Random Forest Model\n",
      "RMSE score on train set:  18.25602531368394\n",
      "RMSE score on test set:  45.815872729249435\n",
      "Random Forest Model\n",
      "RMSE score on train set:  11.559987090939433\n",
      "RMSE score on test set:  30.044338900434187\n",
      "Random Forest Model\n",
      "RMSE score on train set:  19.8160462425246\n",
      "RMSE score on test set:  51.44029530615877\n",
      "Random Forest Model\n",
      "RMSE score on train set:  15.56732234897142\n",
      "RMSE score on test set:  38.72006453737753\n",
      "Random Forest Model\n",
      "RMSE score on train set:  13.430966752860824\n",
      "RMSE score on test set:  32.58723421931361\n",
      "Random Forest Model\n",
      "RMSE score on train set:  6.599369874774\n",
      "RMSE score on test set:  17.39437297020862\n",
      "Random Forest Model\n",
      "RMSE score on train set:  16.52015385356523\n",
      "RMSE score on test set:  41.19153062656546\n",
      "Random Forest Model\n",
      "RMSE score on train set:  18.478996784796827\n",
      "RMSE score on test set:  54.17347072479103\n",
      "Random Forest Model\n",
      "RMSE score on train set:  9.99238771234968\n",
      "RMSE score on test set:  26.468487048872355\n",
      "Random Forest Model\n",
      "RMSE score on train set:  15.503932972555091\n",
      "RMSE score on test set:  41.53821356771909\n",
      "Random Forest Model\n",
      "RMSE score on train set:  9.62944229964895\n",
      "RMSE score on test set:  29.919059100669166\n"
     ]
    }
   ],
   "source": [
    "for i in range(n):\n",
    "    X = store_wise_X[i]\n",
    "    y = store_wise_y[i]\n",
    "    X_train, X_test, y_train, y_test = train_test_split(X, y, test_size = 0.20, random_state = 42)\n",
    "    \n",
    "    print(\"Random Forest Model\")\n",
    "    regressor = RandomForestRegressor()\n",
    "    if(isNormalizationRequired):\n",
    "        scaler = StandardScaler()\n",
    "        scaler.fit(X_train)\n",
    "\n",
    "        X_train = scaler.transform(X_train)\n",
    "        X_test = scaler.transform(X_test)\n",
    "    \n",
    "    regressor.fit(X_train, y_train)\n",
    "    predictions = regressor.predict(X_train)\n",
    "    print(\"RMSE score on train set: \", getRMSE(y_train, predictions))\n",
    "        \n",
    "    predictions = regressor.predict(X_test)\n",
    "    print(\"RMSE score on test set: \", getRMSE(y_test, predictions))\n",
    "    "
   ]
  },
  {
   "cell_type": "code",
   "execution_count": null,
   "id": "325642ff",
   "metadata": {},
   "outputs": [],
   "source": [
    "# mse = sklearn.metrics.mean_squared_error(y_train, predictions)  \n",
    "# rmse = math.sqrt(mse)  \n",
    "# rmse"
   ]
  },
  {
   "cell_type": "code",
   "execution_count": null,
   "id": "8cee6941",
   "metadata": {},
   "outputs": [],
   "source": []
  }
 ],
 "metadata": {
  "kernelspec": {
   "display_name": "Python 3 (ipykernel)",
   "language": "python",
   "name": "python3"
  },
  "language_info": {
   "codemirror_mode": {
    "name": "ipython",
    "version": 3
   },
   "file_extension": ".py",
   "mimetype": "text/x-python",
   "name": "python",
   "nbconvert_exporter": "python",
   "pygments_lexer": "ipython3",
   "version": "3.8.10"
  }
 },
 "nbformat": 4,
 "nbformat_minor": 5
}
