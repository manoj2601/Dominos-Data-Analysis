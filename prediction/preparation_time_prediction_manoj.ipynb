{
 "cells": [
  {
   "cell_type": "code",
   "execution_count": 1,
   "id": "c2f4650d",
   "metadata": {
    "ExecuteTime": {
     "end_time": "2022-10-26T16:05:25.427385Z",
     "start_time": "2022-10-26T16:05:11.431701Z"
    }
   },
   "outputs": [],
   "source": [
    "# imports\n",
    "import json\n",
    "import pandas as pd\n",
    "import numpy as np\n",
    "import random\n",
    "from datetime import datetime, timedelta\n",
    "import sklearn\n",
    "import math\n",
    "from sklearn.feature_extraction.text import CountVectorizer\n",
    "from sklearn.feature_extraction.text import TfidfVectorizer\n",
    "from sklearn.linear_model import LogisticRegression\n",
    "from sklearn.model_selection import train_test_split\n",
    "\n",
    "from time import time\n",
    "import matplotlib.pyplot as plt\n",
    "\n",
    "from sklearn.model_selection import train_test_split\n",
    "from sklearn.preprocessing import StandardScaler\n",
    "from sklearn.neural_network import MLPClassifier\n",
    "from sklearn.metrics import classification_report, confusion_matrix\n",
    "from sklearn.ensemble import RandomForestRegressor \n",
    "from statistics import mean"
   ]
  },
  {
   "cell_type": "code",
   "execution_count": 2,
   "id": "c83d6951",
   "metadata": {
    "ExecuteTime": {
     "end_time": "2022-10-26T16:05:25.436479Z",
     "start_time": "2022-10-26T16:05:25.431439Z"
    }
   },
   "outputs": [],
   "source": [
    "city = 'Bhopal'\n",
    "PATH = f'/media/root/data/analysis/data/Item_wise_data/{city}/'"
   ]
  },
  {
   "cell_type": "code",
   "execution_count": 3,
   "id": "8cf6c28f",
   "metadata": {
    "ExecuteTime": {
     "end_time": "2022-10-26T16:06:36.711947Z",
     "start_time": "2022-10-26T16:05:25.439202Z"
    }
   },
   "outputs": [],
   "source": [
    "# data read\n",
    "df1 = pd.read_excel(PATH+f'Item_wise-details-{city}-17-23-Dec-2021.xlsx')\n",
    "df2 = pd.read_excel(PATH+f'Item_wise-details-{city}-24-31-Dec-2021.xlsx')"
   ]
  },
  {
   "cell_type": "code",
   "execution_count": 4,
   "id": "f632ce37",
   "metadata": {
    "ExecuteTime": {
     "end_time": "2022-10-26T16:06:37.021288Z",
     "start_time": "2022-10-26T16:06:36.716105Z"
    }
   },
   "outputs": [],
   "source": [
    "# exclude non baking items\n",
    "df = pd.concat([df1, df2])\n",
    "df = df[pd.notna(df['Oven_Time'])]\n",
    "df = df.sort_values(by =['Kitchen_Display_Time', 'Location_Code', 'Order_Number'])"
   ]
  },
  {
   "cell_type": "code",
   "execution_count": 5,
   "id": "90698808",
   "metadata": {
    "ExecuteTime": {
     "end_time": "2022-10-26T16:06:37.138625Z",
     "start_time": "2022-10-26T16:06:37.025252Z"
    },
    "scrolled": true
   },
   "outputs": [
    {
     "name": "stdout",
     "output_type": "stream",
     "text": [
      "(84558, 27)\n",
      "(84558, 7)\n",
      "(84558, 8)\n"
     ]
    },
    {
     "data": {
      "text/html": [
       "<div>\n",
       "<style scoped>\n",
       "    .dataframe tbody tr th:only-of-type {\n",
       "        vertical-align: middle;\n",
       "    }\n",
       "\n",
       "    .dataframe tbody tr th {\n",
       "        vertical-align: top;\n",
       "    }\n",
       "\n",
       "    .dataframe thead th {\n",
       "        text-align: right;\n",
       "    }\n",
       "</style>\n",
       "<table border=\"1\" class=\"dataframe\">\n",
       "  <thead>\n",
       "    <tr style=\"text-align: right;\">\n",
       "      <th></th>\n",
       "      <th>Location_Code</th>\n",
       "      <th>Order_Date</th>\n",
       "      <th>Order_Number</th>\n",
       "      <th>Kitchen_Display_Time</th>\n",
       "      <th>Oven_Time</th>\n",
       "      <th>Menu_Code</th>\n",
       "      <th>Item Description</th>\n",
       "      <th>prep_time</th>\n",
       "    </tr>\n",
       "  </thead>\n",
       "  <tbody>\n",
       "    <tr>\n",
       "      <th>4250</th>\n",
       "      <td>DPI66221</td>\n",
       "      <td>2021-12-17</td>\n",
       "      <td>1</td>\n",
       "      <td>2021-12-17 10:58:16.347</td>\n",
       "      <td>2021-12-17 10:58:31.240</td>\n",
       "      <td>BRD0020</td>\n",
       "      <td>BR-Garlic Breadsticks</td>\n",
       "      <td>435</td>\n",
       "    </tr>\n",
       "    <tr>\n",
       "      <th>32961</th>\n",
       "      <td>DPI66221</td>\n",
       "      <td>2021-12-17</td>\n",
       "      <td>1</td>\n",
       "      <td>2021-12-17 10:58:16.347</td>\n",
       "      <td>2021-12-17 10:58:30.833</td>\n",
       "      <td>PIZ0117</td>\n",
       "      <td>_SV-Margherita</td>\n",
       "      <td>434</td>\n",
       "    </tr>\n",
       "    <tr>\n",
       "      <th>26674</th>\n",
       "      <td>DPI66373</td>\n",
       "      <td>2021-12-17</td>\n",
       "      <td>1</td>\n",
       "      <td>2021-12-17 10:58:35.500</td>\n",
       "      <td>2021-12-17 11:03:53.140</td>\n",
       "      <td>PIZ5127</td>\n",
       "      <td>PM Loaded NV</td>\n",
       "      <td>738</td>\n",
       "    </tr>\n",
       "    <tr>\n",
       "      <th>28840</th>\n",
       "      <td>DPI66373</td>\n",
       "      <td>2021-12-17</td>\n",
       "      <td>1</td>\n",
       "      <td>2021-12-17 10:58:35.500</td>\n",
       "      <td>2021-12-17 11:03:52.823</td>\n",
       "      <td>PIZ0140</td>\n",
       "      <td>PM Loaded VG</td>\n",
       "      <td>737</td>\n",
       "    </tr>\n",
       "    <tr>\n",
       "      <th>36120</th>\n",
       "      <td>DPI66449</td>\n",
       "      <td>2021-12-17</td>\n",
       "      <td>1</td>\n",
       "      <td>2021-12-17 11:01:13.280</td>\n",
       "      <td>2021-12-17 11:02:13.377</td>\n",
       "      <td>PIZ0134</td>\n",
       "      <td>Pizza Mania Tomato</td>\n",
       "      <td>480</td>\n",
       "    </tr>\n",
       "  </tbody>\n",
       "</table>\n",
       "</div>"
      ],
      "text/plain": [
       "      Location_Code Order_Date  Order_Number    Kitchen_Display_Time  \\\n",
       "4250       DPI66221 2021-12-17             1 2021-12-17 10:58:16.347   \n",
       "32961      DPI66221 2021-12-17             1 2021-12-17 10:58:16.347   \n",
       "26674      DPI66373 2021-12-17             1 2021-12-17 10:58:35.500   \n",
       "28840      DPI66373 2021-12-17             1 2021-12-17 10:58:35.500   \n",
       "36120      DPI66449 2021-12-17             1 2021-12-17 11:01:13.280   \n",
       "\n",
       "                    Oven_Time Menu_Code       Item Description  prep_time  \n",
       "4250  2021-12-17 10:58:31.240   BRD0020  BR-Garlic Breadsticks        435  \n",
       "32961 2021-12-17 10:58:30.833   PIZ0117         _SV-Margherita        434  \n",
       "26674 2021-12-17 11:03:53.140   PIZ5127           PM Loaded NV        738  \n",
       "28840 2021-12-17 11:03:52.823   PIZ0140           PM Loaded VG        737  \n",
       "36120 2021-12-17 11:02:13.377   PIZ0134     Pizza Mania Tomato        480  "
      ]
     },
     "execution_count": 5,
     "metadata": {},
     "output_type": "execute_result"
    }
   ],
   "source": [
    "print(df.shape)\n",
    "df = df.drop(['storedesc', 'city', 'Customer_Code', 'Customer_Name', 'Actual_Order_Date', 'Order_Status_Code', 'Order_Type_Code', 'Order_Saved', 'Order_Time', 'Driver_ID', 'Driver_Shift', 'Route_Time', 'Return_Time', 'Delayed_Order', 'Order_Taker_ID','Order_Taker_Shift', 'Closed_Order_Time', 'Customer_Address_Id', 'Original_Location_Code', 'Order_Id',], axis=1)\n",
    "print(df.shape)\n",
    "df['Kitchen_Display_Time'] = pd.to_datetime(df['Kitchen_Display_Time'])\n",
    "df['Oven_Time'] = pd.to_datetime(df['Oven_Time'])\n",
    "df['prep_time'] = df['Oven_Time'] - df['Kitchen_Display_Time']\n",
    "df['prep_time'] = round(df['prep_time']/np.timedelta64(1, 's')).astype(int) + 7*60\n",
    "print(df.shape)\n",
    "df.head()"
   ]
  },
  {
   "cell_type": "code",
   "execution_count": 6,
   "id": "5b1180d6",
   "metadata": {
    "ExecuteTime": {
     "end_time": "2022-10-26T16:06:37.157642Z",
     "start_time": "2022-10-26T16:06:37.142078Z"
    }
   },
   "outputs": [],
   "source": [
    "allMenuCodes = df['Menu_Code'].unique()\n",
    "allStoreIds = df['Location_Code'].unique()"
   ]
  },
  {
   "cell_type": "code",
   "execution_count": 7,
   "id": "9f85e8d0",
   "metadata": {
    "ExecuteTime": {
     "end_time": "2022-10-26T16:06:37.801361Z",
     "start_time": "2022-10-26T16:06:37.161017Z"
    }
   },
   "outputs": [],
   "source": [
    "sampleItem=None\n",
    "for index, item in df.iterrows():\n",
    "    sampleItem = item\n",
    "    break"
   ]
  },
  {
   "cell_type": "code",
   "execution_count": 8,
   "id": "a366b592",
   "metadata": {
    "ExecuteTime": {
     "end_time": "2022-10-26T16:06:37.813265Z",
     "start_time": "2022-10-26T16:06:37.805167Z"
    }
   },
   "outputs": [
    {
     "data": {
      "text/plain": [
       "Location_Code                             DPI66221\n",
       "Order_Date                     2021-12-17 00:00:00\n",
       "Order_Number                                     1\n",
       "Kitchen_Display_Time    2021-12-17 10:58:16.347000\n",
       "Oven_Time               2021-12-17 10:58:31.240000\n",
       "Menu_Code                                  BRD0020\n",
       "Item Description             BR-Garlic Breadsticks\n",
       "prep_time                                      435\n",
       "Name: 4250, dtype: object"
      ]
     },
     "execution_count": 8,
     "metadata": {},
     "output_type": "execute_result"
    }
   ],
   "source": [
    "sampleItem"
   ]
  },
  {
   "cell_type": "code",
   "execution_count": 9,
   "id": "82ae6338",
   "metadata": {
    "ExecuteTime": {
     "end_time": "2022-10-26T16:06:37.823770Z",
     "start_time": "2022-10-26T16:06:37.816219Z"
    }
   },
   "outputs": [],
   "source": [
    "# Feature 1: store id\n",
    "def getOneHotEncodingStore(storeId, stores=allStoreIds):\n",
    "    oneHotEncodingList = []\n",
    "    for i in range(0, len(stores)):\n",
    "        if(stores[i] == storeId):\n",
    "            oneHotEncodingList.append(1)\n",
    "        else:\n",
    "            oneHotEncodingList.append(0)\n",
    "    return oneHotEncodingList\n",
    "\n",
    "# returns the feature store id for an order\n",
    "def getStoreId(item, isOneHotEncodingRequired=False):\n",
    "    if isOneHotEncodingRequired:\n",
    "        return getOneHotEncodingStore(item['Location_Code'], allStoreIds)\n",
    "    else:\n",
    "        return [item['Location_Code']]"
   ]
  },
  {
   "cell_type": "code",
   "execution_count": 10,
   "id": "00c99098",
   "metadata": {
    "ExecuteTime": {
     "end_time": "2022-10-26T16:06:37.835129Z",
     "start_time": "2022-10-26T16:06:37.828902Z"
    }
   },
   "outputs": [
    {
     "name": "stdout",
     "output_type": "stream",
     "text": [
      "['DPI66221']\n",
      "[1, 0, 0, 0, 0, 0, 0, 0, 0, 0, 0]\n"
     ]
    }
   ],
   "source": [
    "print(getStoreId(sampleItem))\n",
    "print(getStoreId(sampleItem, True))"
   ]
  },
  {
   "cell_type": "code",
   "execution_count": 11,
   "id": "efc16550",
   "metadata": {
    "ExecuteTime": {
     "end_time": "2022-10-26T16:06:37.847340Z",
     "start_time": "2022-10-26T16:06:37.837970Z"
    }
   },
   "outputs": [],
   "source": [
    "# Feature 2: Item Type\n",
    "def getOneHotEncodingItem(item, items=allMenuCodes, clubCategoryWise=False):\n",
    "    if clubCategoryWise:\n",
    "        newItemsList = []\n",
    "        newItemsList = [i[0:3] for i in items]\n",
    "        unique_items = list(dict.fromkeys(newItemsList))\n",
    "        return getOneHotEncodingItem(item[0:3], unique_items, False)\n",
    "    \n",
    "    oneHotEncodingList=[]\n",
    "    for i in range(0, len(items)):\n",
    "        if (items[i] == item):\n",
    "            oneHotEncodingList.append(1)\n",
    "        else:\n",
    "            oneHotEncodingList.append(0)\n",
    "    return oneHotEncodingList\n",
    "\n",
    "def getItemType(item, isOneHotEncodingRequired=False, clubCategoryWise=False):\n",
    "    if (not isOneHotEncodingRequired):\n",
    "        if clubCategoryWise:\n",
    "            return [item['Menu_Code'][0:3]]\n",
    "        return [item['Menu_Code']]\n",
    "    else:\n",
    "        return getOneHotEncodingItem(item['Menu_Code'], allMenuCodes, clubCategoryWise)"
   ]
  },
  {
   "cell_type": "code",
   "execution_count": 12,
   "id": "f32862ec",
   "metadata": {
    "ExecuteTime": {
     "end_time": "2022-10-26T16:06:37.858719Z",
     "start_time": "2022-10-26T16:06:37.850295Z"
    }
   },
   "outputs": [
    {
     "name": "stdout",
     "output_type": "stream",
     "text": [
      "['BRD0020']\n",
      "[1, 0, 0, 0, 0, 0, 0, 0, 0, 0, 0, 0, 0, 0, 0, 0, 0, 0, 0, 0, 0, 0, 0, 0, 0, 0, 0, 0, 0, 0, 0, 0, 0, 0, 0, 0, 0, 0, 0, 0, 0, 0, 0, 0, 0, 0, 0, 0, 0, 0, 0, 0, 0, 0, 0, 0, 0, 0, 0, 0, 0, 0, 0, 0, 0, 0, 0, 0, 0]\n",
      "['BRD']\n",
      "[1, 0, 0, 0, 0, 0, 0]\n"
     ]
    }
   ],
   "source": [
    "print(getItemType(sampleItem))\n",
    "print(getItemType(sampleItem, True))\n",
    "print(getItemType(sampleItem, clubCategoryWise=True))\n",
    "print(getItemType(sampleItem, True, True))"
   ]
  },
  {
   "cell_type": "code",
   "execution_count": 13,
   "id": "69429a92",
   "metadata": {
    "ExecuteTime": {
     "end_time": "2022-10-26T16:06:37.870621Z",
     "start_time": "2022-10-26T16:06:37.861673Z"
    }
   },
   "outputs": [],
   "source": [
    "# Feature 3: TimeSlot of kitchen display time\n",
    "total_slots = 24\n",
    "def getTimeslot(dt, slots=total_slots):\n",
    "\tcurrent = datetime(2011, 1, 1)\n",
    "\tt1 = current.time()\n",
    "\tt2 = dt.time()\n",
    "\tfor i in range(0, slots):\n",
    "\t\tcurrent = current + timedelta(minutes = 60*24/slots)\n",
    "\t\tif(current.time() > t2):\n",
    "\t\t\treturn i\n",
    "\treturn slots-1\n",
    "\n",
    "def getOneHotEncodingTimeSlot(timeslot):\n",
    "    oneHotEncodingList = []\n",
    "    for i in range(0, 24):\n",
    "        oneHotEncodingList.append(0)\n",
    "    oneHotEncodingList[timeslot] = 1\n",
    "    return oneHotEncodingList\n",
    "\n",
    "def getTimeSlotOfKitchenDisplayTime(item, isOneHotEncodingRequired=False):\n",
    "    timeslot = getTimeslot(item['Kitchen_Display_Time'], 24)\n",
    "    if isOneHotEncodingRequired:\n",
    "        return getOneHotEncodingTimeSlot(timeslot)\n",
    "    else:\n",
    "        return [timeslot]"
   ]
  },
  {
   "cell_type": "code",
   "execution_count": 14,
   "id": "e017e620",
   "metadata": {
    "ExecuteTime": {
     "end_time": "2022-10-26T16:06:37.878490Z",
     "start_time": "2022-10-26T16:06:37.873627Z"
    }
   },
   "outputs": [],
   "source": [
    "def get_preparation_time(item):\n",
    "    return item['prep_time']\n",
    "# \tdiff = item['Oven_Time'] - item['Kitchen_Display_Time']\n",
    "# \treturn diff.total_seconds() + 7*60"
   ]
  },
  {
   "cell_type": "code",
   "execution_count": 15,
   "id": "ab5dcdcb",
   "metadata": {
    "ExecuteTime": {
     "end_time": "2022-10-26T16:38:10.840588Z",
     "start_time": "2022-10-26T16:20:29.621655Z"
    },
    "collapsed": true
   },
   "outputs": [
    {
     "name": "stderr",
     "output_type": "stream",
     "text": [
      "/tmp/ipykernel_59665/2016951000.py:29: SettingWithCopyWarning: \n",
      "A value is trying to be set on a copy of a slice from a DataFrame\n",
      "\n",
      "See the caveats in the documentation: https://pandas.pydata.org/pandas-docs/stable/user_guide/indexing.html#returning-a-view-versus-a-copy\n",
      "  df['pre_prep_time'][index] = 10*60\n",
      "/tmp/ipykernel_59665/2016951000.py:25: SettingWithCopyWarning: \n",
      "A value is trying to be set on a copy of a slice from a DataFrame\n",
      "\n",
      "See the caveats in the documentation: https://pandas.pydata.org/pandas-docs/stable/user_guide/indexing.html#returning-a-view-versus-a-copy\n",
      "  df['pre_prep_time'][index] = 10*60\n",
      "/tmp/ipykernel_59665/2016951000.py:23: SettingWithCopyWarning: \n",
      "A value is trying to be set on a copy of a slice from a DataFrame\n",
      "\n",
      "See the caveats in the documentation: https://pandas.pydata.org/pandas-docs/stable/user_guide/indexing.html#returning-a-view-versus-a-copy\n",
      "  df['pre_prep_time'][index] = pt/count\n"
     ]
    }
   ],
   "source": [
    "#DON\"T RUN IT AGAIN AND AGAIN, it will take much more time\n",
    "# Feature 4 : Count of all baking items of all orders received by the store in the last 20 minutes.\n",
    "\n",
    "# Pre-preparation of data\n",
    "df['pre_prep_time'] = 0\n",
    "\n",
    "StoreWiseItems = {}\n",
    "for index, item in df.iterrows():\n",
    "    store = item['Location_Code']\n",
    "    if store in StoreWiseItems:\n",
    "        dtKitchenDisplay = item['Kitchen_Display_Time']\n",
    "        lastTime = dtKitchenDisplay - timedelta(minutes=60)\n",
    "        count = 0\n",
    "        pt = 0\n",
    "        for i in reversed(range(len(StoreWiseItems[store]))):\n",
    "            if(StoreWiseItems[store][i]['Kitchen_Display_Time'] >= lastTime and StoreWiseItems[store][i]['Kitchen_Display_Time'] < dtKitchenDisplay):\n",
    "                if(StoreWiseItems[store][i]['Menu_Code'] == item['Menu_Code']):\n",
    "                    pt += get_preparation_time(item)\n",
    "                    count+=1\n",
    "            else:\n",
    "                break\n",
    "        if count != 0:\n",
    "            df['pre_prep_time'][index] = pt/count\n",
    "        else:\n",
    "            df['pre_prep_time'][index] = 10*60\n",
    "        StoreWiseItems[store].append(item)\n",
    "    else:\n",
    "        StoreWiseItems[store] = [item]\n",
    "        df['pre_prep_time'][index] = 10*60\n",
    "\n",
    "        \n",
    "storeWiseCumulativeItems = {}\n",
    "StoreWiseDFs = {}\n",
    "for store in StoreWiseItems.keys():\n",
    "    StoreWiseDFs[store] = pd.DataFrame.from_dict(StoreWiseItems[store])\n",
    "    storeWiseCumulativeItems[store] = {}\n",
    "\n",
    "# item count per slot\n",
    "for store in StoreWiseItems.keys():\n",
    "    for item in StoreWiseItems[store]:\n",
    "        date = item['Order_Date']\n",
    "        minuteSlot = getTimeslot(item['Kitchen_Display_Time'], 24*60)\n",
    "        if date in storeWiseCumulativeItems[store]:\n",
    "            storeWiseCumulativeItems[store][date][minuteSlot]+=1\n",
    "        else:\n",
    "            t = []\n",
    "            for i in range(0, 24*60):\n",
    "                t.append(0)\n",
    "            storeWiseCumulativeItems[store][date] = t\n",
    "            storeWiseCumulativeItems[store][date][minuteSlot] = 1\n",
    "            \n",
    "#prefix sum            \n",
    "for store in storeWiseCumulativeItems.keys():\n",
    "    for date in storeWiseCumulativeItems[store].keys():\n",
    "        for i in range(1, 24*60):\n",
    "            storeWiseCumulativeItems[store][date][i] += storeWiseCumulativeItems[store][date][i-1]\n",
    "            \n",
    "            \n",
    "def countPastOrders(item, storeWiseCumulativeItems=storeWiseCumulativeItems, slotTime=30):\n",
    "    minuteSlot = getTimeslot(item['Kitchen_Display_Time'], 24*60)\n",
    "    total = storeWiseCumulativeItems[item['Location_Code']][item['Order_Date']][minuteSlot]\n",
    "    prev = storeWiseCumulativeItems[item['Location_Code']][item['Order_Date']][max(minuteSlot-slotTime, 0)]\n",
    "    return [(total-prev)]"
   ]
  },
  {
   "cell_type": "code",
   "execution_count": 16,
   "id": "deff2369",
   "metadata": {
    "ExecuteTime": {
     "end_time": "2022-10-26T16:38:10.858315Z",
     "start_time": "2022-10-26T16:38:10.845828Z"
    }
   },
   "outputs": [
    {
     "name": "stdout",
     "output_type": "stream",
     "text": [
      "[2]\n",
      "[2]\n"
     ]
    }
   ],
   "source": [
    "print(countPastOrders(sampleItem))\n",
    "print(countPastOrders(sampleItem, slotTime=10))\n",
    "\n",
    "d = datetime.strptime('2021-12-20 00:00:00', '%Y-%m-%d %H:%M:%S')\n",
    "# storeWiseCumulativeItems[sampleItem['Location_Code']][d]"
   ]
  },
  {
   "cell_type": "code",
   "execution_count": 17,
   "id": "16758989",
   "metadata": {
    "ExecuteTime": {
     "end_time": "2022-10-26T16:44:38.680587Z",
     "start_time": "2022-10-26T16:44:38.673478Z"
    }
   },
   "outputs": [
    {
     "data": {
      "text/plain": [
       "list"
      ]
     },
     "execution_count": 17,
     "metadata": {},
     "output_type": "execute_result"
    }
   ],
   "source": [
    "type(StoreWiseItems[sampleItem['Location_Code']])"
   ]
  },
  {
   "cell_type": "code",
   "execution_count": 18,
   "id": "1871e71a",
   "metadata": {
    "ExecuteTime": {
     "end_time": "2022-10-26T16:45:14.670426Z",
     "start_time": "2022-10-26T16:45:14.656715Z"
    }
   },
   "outputs": [],
   "source": [
    "# Feature 5 : Avg prep time of the same item in the same store in last 60 minutes.\n",
    "\n",
    "def getPreviousPrepTime(item, StoreWiseItems=StoreWiseItems, clubCategoryWise=False, timeslot = 60):\n",
    "    dtKitchenDisplay = item['Kitchen_Display_Time']\n",
    "    lastTime = dtKitchenDisplay - timedelta(minutes=timeslot)\n",
    "    \n",
    "    orderedItem = item['Menu_Code']\n",
    "    prepTime = []\n",
    "    if clubCategoryWise:\n",
    "        orderedItem = orderedItem[0:3]\n",
    "    d = StoreWiseDFs[item['Location_Code']]\n",
    "    tdf = d[(d['Menu_Code'].str[0:len(orderedItem)]==orderedItem) \\\n",
    "             & (d['Kitchen_Display_Time'] >= lastTime) & (d['Kitchen_Display_Time'] <= dtKitchenDisplay)]\n",
    "\n",
    "    if(len(tdf)>0):\n",
    "        return [tdf['prep_time'].mean()]\n",
    "    else:\n",
    "        return [10*60]\n",
    "\n",
    "\n",
    "# def getPreviousPrepTime(item, StoreWiseItems=StoreWiseItems, clubCategoryWise=False, timeslot = 60):\n",
    "#     dtKitchenDisplay = item['Kitchen_Display_Time']\n",
    "#     lastTime = dtKitchenDisplay - timedelta(minutes=timeslot)\n",
    "    \n",
    "#     orderedItem = item['Menu_Code']\n",
    "#     prepTime = []\n",
    "#     if clubCategoryWise:\n",
    "#         orderedItem = orderedItem[0:3]\n",
    "#     tdf = df[(df['Location_Code']==item['Location_Code']) & (df['Menu_Code'].str[0:len(orderedItem)]==orderedItem) \\\n",
    "#              & (df['Kitchen_Display_Time'] >= lastTime) & (df['Kitchen_Display_Time'] <= dtKitchenDisplay)]\n",
    "\n",
    "#     if(len(tdf)>0):\n",
    "#         return [tdf['prep_time'].mean()]\n",
    "#     else:\n",
    "#         return [10*60]\n",
    "\n",
    "    \n",
    "# Feature 6 : Length of the queue in the store at that time\n",
    "def lengthQueue(item):\n",
    "    dtKitchenDisplay = item['Kitchen_Display_Time']\n",
    "    d = StoreWiseDFs[item['Location_Code']]\n",
    "    tdf = d[(d['Oven_Time'] >= dtKitchenDisplay) & (d['Kitchen_Display_Time'] <= dtKitchenDisplay)]\n",
    "    \n",
    "#     prepTime = []\n",
    "#     tdf = df[(df['Location_Code']==item['Location_Code']) & \\\n",
    "#              (df['Oven_Time'] >= dtKitchenDisplay) & (df['Kitchen_Display_Time'] <= dtKitchenDisplay)]\n",
    "    return len(tdf.index)\n",
    "#     for order in StoreWiseItems[item['Location_Code']]:\n",
    "#         if(order['Kitchen_Display_Time'] >= lastTime and order['Kitchen_Display_Time'] <= dtKitchenDisplay):\n",
    "#             if (order['Menu_Code'][0:len(orderedItem)] == orderedItem):\n",
    "#                 prepTime.append(get_preparation_time(order))\n",
    "#     if(len(prepTime) > 0):\n",
    "#         return [mean(prepTime)]\n",
    "#     else:\n",
    "#         return [10*60] # POINT OF DISCUSSION, For now taking 10 minutes"
   ]
  },
  {
   "cell_type": "code",
   "execution_count": 19,
   "id": "d888e7ad",
   "metadata": {
    "ExecuteTime": {
     "end_time": "2022-10-26T16:45:16.089925Z",
     "start_time": "2022-10-26T16:45:16.059884Z"
    }
   },
   "outputs": [
    {
     "data": {
      "text/plain": [
       "2"
      ]
     },
     "execution_count": 19,
     "metadata": {},
     "output_type": "execute_result"
    }
   ],
   "source": [
    "getPreviousPrepTime(sampleItem, StoreWiseItems, False, 60)\n",
    "lengthQueue(sampleItem)"
   ]
  },
  {
   "cell_type": "code",
   "execution_count": 20,
   "id": "6fafe112",
   "metadata": {
    "ExecuteTime": {
     "end_time": "2022-10-26T16:45:22.043364Z",
     "start_time": "2022-10-26T16:45:21.952525Z"
    },
    "scrolled": true
   },
   "outputs": [
    {
     "name": "stdout",
     "output_type": "stream",
     "text": [
      "Location_Code                             DPI66221\n",
      "Order_Date                     2021-12-17 00:00:00\n",
      "Order_Number                                     1\n",
      "Kitchen_Display_Time    2021-12-17 10:58:16.347000\n",
      "Oven_Time               2021-12-17 10:58:31.240000\n",
      "Menu_Code                                  BRD0020\n",
      "Item Description             BR-Garlic Breadsticks\n",
      "prep_time                                      435\n",
      "Name: 4250, dtype: object 1\n",
      "[435]\n"
     ]
    },
    {
     "data": {
      "text/html": [
       "<div>\n",
       "<style scoped>\n",
       "    .dataframe tbody tr th:only-of-type {\n",
       "        vertical-align: middle;\n",
       "    }\n",
       "\n",
       "    .dataframe tbody tr th {\n",
       "        vertical-align: top;\n",
       "    }\n",
       "\n",
       "    .dataframe thead th {\n",
       "        text-align: right;\n",
       "    }\n",
       "</style>\n",
       "<table border=\"1\" class=\"dataframe\">\n",
       "  <thead>\n",
       "    <tr style=\"text-align: right;\">\n",
       "      <th></th>\n",
       "      <th>Location_Code</th>\n",
       "      <th>Order_Date</th>\n",
       "      <th>Order_Number</th>\n",
       "      <th>Kitchen_Display_Time</th>\n",
       "      <th>Oven_Time</th>\n",
       "      <th>Menu_Code</th>\n",
       "      <th>Item Description</th>\n",
       "      <th>prep_time</th>\n",
       "      <th>pre_prep_time</th>\n",
       "    </tr>\n",
       "  </thead>\n",
       "  <tbody>\n",
       "    <tr>\n",
       "      <th>4250</th>\n",
       "      <td>DPI66221</td>\n",
       "      <td>2021-12-17</td>\n",
       "      <td>1</td>\n",
       "      <td>2021-12-17 10:58:16.347</td>\n",
       "      <td>2021-12-17 10:58:31.240</td>\n",
       "      <td>BRD0020</td>\n",
       "      <td>BR-Garlic Breadsticks</td>\n",
       "      <td>435</td>\n",
       "      <td>561</td>\n",
       "    </tr>\n",
       "  </tbody>\n",
       "</table>\n",
       "</div>"
      ],
      "text/plain": [
       "     Location_Code Order_Date  Order_Number    Kitchen_Display_Time  \\\n",
       "4250      DPI66221 2021-12-17             1 2021-12-17 10:58:16.347   \n",
       "\n",
       "                   Oven_Time Menu_Code       Item Description  prep_time  \\\n",
       "4250 2021-12-17 10:58:31.240   BRD0020  BR-Garlic Breadsticks        435   \n",
       "\n",
       "      pre_prep_time  \n",
       "4250            561  "
      ]
     },
     "execution_count": 20,
     "metadata": {},
     "output_type": "execute_result"
    }
   ],
   "source": [
    "item = sampleItem\n",
    "orderedItem = item['Menu_Code']\n",
    "orderedItem = orderedItem[0:3]\n",
    "dtKitchenDisplay = item['Kitchen_Display_Time']\n",
    "lastTime = dtKitchenDisplay - timedelta(minutes=60)\n",
    "tdf = df[(df['Location_Code']==item['Location_Code']) & (df['Menu_Code'].str[0:len(orderedItem)]==orderedItem) \\\n",
    "         & (df['Kitchen_Display_Time'] >= lastTime) & (df['Kitchen_Display_Time'] <= dtKitchenDisplay)]\n",
    "print(item, len(tdf)) \n",
    "if(len(tdf)>0):\n",
    "    print([round(tdf['prep_time'].mean())])\n",
    "tdf"
   ]
  },
  {
   "cell_type": "code",
   "execution_count": 21,
   "id": "66e020fb",
   "metadata": {
    "ExecuteTime": {
     "end_time": "2022-10-26T16:48:29.819023Z",
     "start_time": "2022-10-26T16:48:29.813112Z"
    }
   },
   "outputs": [],
   "source": [
    "# global variables\n",
    "\n",
    "isThresholdForPreparationTime = False\n",
    "thresholdForPreparationTime = 30 # minutes for preparation time (threshold)\n",
    "\n",
    "clubItemsCategoryWise = False\n",
    "\n",
    "splitMethod = 'random'\n",
    "slotTimeForPastOrders = 20 # minutes\n",
    "\n",
    "model = 'RF'\n",
    "isOneHotEncodingRequired = True\n",
    "isNormalizationRequired = True"
   ]
  },
  {
   "cell_type": "code",
   "execution_count": 22,
   "id": "fb107226",
   "metadata": {
    "ExecuteTime": {
     "end_time": "2022-10-26T16:48:30.461749Z",
     "start_time": "2022-10-26T16:48:30.454768Z"
    }
   },
   "outputs": [
    {
     "data": {
      "text/plain": [
       "Location_Code                             DPI66221\n",
       "Order_Date                     2021-12-17 00:00:00\n",
       "Order_Number                                     1\n",
       "Kitchen_Display_Time    2021-12-17 10:58:16.347000\n",
       "Oven_Time               2021-12-17 10:58:31.240000\n",
       "Menu_Code                                  BRD0020\n",
       "Item Description             BR-Garlic Breadsticks\n",
       "prep_time                                      435\n",
       "Name: 4250, dtype: object"
      ]
     },
     "execution_count": 22,
     "metadata": {},
     "output_type": "execute_result"
    }
   ],
   "source": [
    "sampleItem"
   ]
  },
  {
   "cell_type": "code",
   "execution_count": 23,
   "id": "79e6bca5",
   "metadata": {
    "ExecuteTime": {
     "end_time": "2022-10-26T17:00:46.782974Z",
     "start_time": "2022-10-26T16:48:31.163213Z"
    },
    "collapsed": true
   },
   "outputs": [
    {
     "name": "stdout",
     "output_type": "stream",
     "text": [
      "0.035752296447753906 0.040241241455078125 0.060504913330078125 1.334658145904541 5.4647417068481445 1.339904546737671 0.022867918014526367\n",
      "0.07192516326904297 0.07909440994262695 0.12621355056762695 2.9655356407165527 10.751380443572998 2.656160593032837 0.044997453689575195\n",
      "0.10735821723937988 0.11863541603088379 0.19392681121826172 4.733525037765503 16.12092614173889 3.954514741897583 0.06721854209899902\n",
      "0.14258527755737305 0.15847468376159668 0.26581454277038574 6.671976804733276 21.590702056884766 5.260011434555054 0.0899055004119873\n",
      "0.17690825462341309 0.19655108451843262 0.3272268772125244 8.119941234588623 26.869171857833862 6.551637411117554 0.11213302612304688\n",
      "0.21245265007019043 0.2364051342010498 0.38994288444519043 9.560359716415405 32.22954058647156 7.863281965255737 0.13476014137268066\n",
      "0.24790334701538086 0.27631402015686035 0.4558117389678955 11.1911141872406 37.54002642631531 9.15530776977539 0.15703845024108887\n",
      "0.2838747501373291 0.3170487880706787 0.5252656936645508 13.009286642074585 43.037046909332275 10.47019100189209 0.18004679679870605\n",
      "0.31900572776794434 0.35619282722473145 0.593435525894165 14.823868751525879 48.321096420288086 11.756064414978027 0.20267653465270996\n",
      "0.35411787033081055 0.39532017707824707 0.6663703918457031 16.848833560943604 53.75473141670227 13.050871849060059 0.22556161880493164\n",
      "0.3902280330657959 0.4359276294708252 0.7296538352966309 18.29699993133545 59.21201133728027 14.404243469238281 0.24898338317871094\n",
      "0.4256465435028076 0.475322961807251 0.7912096977233887 19.72983956336975 64.55426812171936 15.70181679725647 0.27136707305908203\n",
      "0.4601154327392578 0.5137965679168701 0.855154275894165 21.345776557922363 69.83143925666809 16.976452350616455 0.2936422824859619\n",
      "0.5015709400177002 0.552685022354126 0.921396017074585 23.073158979415894 75.13743185997009 18.283249855041504 0.3161766529083252\n",
      "0.5365233421325684 0.590827465057373 0.9887473583221436 24.85319471359253 80.36446714401245 19.58630657196045 0.3387751579284668\n",
      "0.5720443725585938 0.630997896194458 1.0588274002075195 26.728344678878784 85.6085877418518 20.864389657974243 0.36136412620544434\n",
      "0.6088600158691406 0.6724655628204346 1.1320114135742188 28.701916694641113 91.07327842712402 22.18774914741516 0.384859561920166\n",
      "0.6461975574493408 0.7149879932403564 1.195993423461914 30.07419466972351 96.55416464805603 23.54316997528076 0.4085812568664551\n",
      "0.68294358253479 0.7561566829681396 1.2628107070922852 31.678572177886963 101.91745615005493 24.87053680419922 0.43213319778442383\n",
      "0.7206134796142578 0.7981488704681396 1.3346662521362305 33.52771067619324 107.41001224517822 26.218560695648193 0.4559757709503174\n",
      "0.757742166519165 0.8397204875946045 1.4082918167114258 35.49217772483826 112.93152642250061 27.553160667419434 0.47953367233276367\n",
      "0.7926359176635742 0.8794307708740234 1.4676182270050049 36.79383301734924 118.11592149734497 28.820382118225098 0.5018959045410156\n",
      "0.8267979621887207 0.918269157409668 1.5308325290679932 38.37218475341797 123.28242921829224 30.079692363739014 0.5242104530334473\n",
      "0.8606564998626709 0.9563043117523193 1.5962731838226318 40.06373596191406 128.38878655433655 31.339755296707153 0.5463898181915283\n",
      "0.895662784576416 0.9952657222747803 1.6652154922485352 41.94491457939148 133.55882811546326 32.637229681015015 0.5689589977264404\n",
      "0.9282991886138916 1.031813144683838 1.7225701808929443 43.31487417221069 138.61352109909058 33.892489433288574 0.5907785892486572\n",
      "0.9625287055969238 1.0714917182922363 1.785240888595581 44.848628282547 143.8491027355194 35.17617082595825 0.6130187511444092\n",
      "0.9989230632781982 1.112525224685669 1.854015588760376 46.575475215911865 149.14222645759583 36.48308062553406 0.6364977359771729\n",
      "1.0357065200805664 1.1538655757904053 1.9260444641113281 48.472421169281006 154.49971294403076 37.80122947692871 0.6707231998443604\n",
      "1.0726301670074463 1.1953048706054688 1.9919521808624268 50.04353404045105 159.88691234588623 39.144301414489746 0.7012491226196289\n",
      "1.109783411026001 1.237358570098877 2.057002544403076 51.55272674560547 165.25164699554443 40.458359241485596 0.7245512008666992\n",
      "1.1467499732971191 1.2787189483642578 2.1265087127685547 53.276806592941284 170.59330463409424 41.78781318664551 0.7482609748840332\n",
      "1.1825757026672363 1.318504810333252 2.1960041522979736 55.107126235961914 175.92394518852234 43.106889486312866 0.7710847854614258\n",
      "1.2172482013702393 1.356372594833374 2.2616753578186035 56.80666136741638 181.09739017486572 44.40243363380432 0.7934191226959229\n",
      "1.2529337406158447 1.3986682891845703 2.3215548992156982 58.11605215072632 186.29410409927368 45.716646909713745 0.8164546489715576\n",
      "1.2878859043121338 1.4372589588165283 2.3859333992004395 59.712180852890015 191.52492547035217 47.009522914886475 0.8393032550811768\n",
      "1.3234221935272217 1.4767546653747559 2.453247547149658 61.48364758491516 196.79376244544983 48.30439782142639 0.8620438575744629\n",
      "1.3594768047332764 1.5170204639434814 2.5228970050811768 63.37347173690796 202.1467249393463 49.624507665634155 0.8852169513702393\n",
      "1.3954322338104248 1.5563764572143555 2.5928924083709717 65.21974086761475 207.48413968086243 50.94341325759888 0.9082415103912354\n",
      "1.4304890632629395 1.5949089527130127 2.650266408920288 66.44760084152222 212.6882381439209 52.25241041183472 0.9309139251708984\n",
      "1.4651539325714111 1.6338386535644531 2.711150646209717 67.85844659805298 217.89639925956726 53.536704301834106 0.9538943767547607\n",
      "1.5012834072113037 1.6747329235076904 2.777161121368408 69.46293830871582 223.2666084766388 54.857685565948486 0.9769368171691895\n",
      "1.536546230316162 1.714690923690796 2.8443124294281006 71.1826958656311 228.6476411819458 56.15671157836914 0.9999675750732422\n",
      "1.5708298683166504 1.7533104419708252 2.910297393798828 72.9136917591095 233.84796118736267 57.42447257041931 1.0221385955810547\n",
      "1.605562448501587 1.7927186489105225 2.9789106845855713 74.72900247573853 239.08235573768616 58.7081995010376 1.0448276996612549\n",
      "1.641502857208252 1.832488775253296 3.049438238143921 76.61683511734009 244.46438336372375 60.00865602493286 1.0702273845672607\n",
      "1.6774928569793701 1.8724486827850342 3.121300220489502 78.56528902053833 249.77917313575745 61.32888650894165 1.0935492515563965\n",
      "1.713197946548462 1.9124910831451416 3.1898953914642334 80.35409164428711 255.12542009353638 62.64475655555725 1.1166777610778809\n",
      "1.7485809326171875 1.9521746635437012 3.2495977878570557 81.67383337020874 260.37028527259827 63.94639277458191 1.1396868228912354\n",
      "1.7834179401397705 1.9915971755981445 3.3114113807678223 83.17498779296875 265.61758756637573 65.21317744255066 1.1617927551269531\n",
      "1.820507287979126 2.0337765216827393 3.380601644515991 84.9078016281128 271.10396456718445 66.56048393249512 1.1858735084533691\n",
      "1.8562119007110596 2.0730855464935303 3.4480252265930176 86.64916467666626 276.4343960285187 67.87567067146301 1.2087163925170898\n",
      "1.8908934593200684 2.111497402191162 3.5154221057891846 88.4559895992279 281.7538254261017 69.15870022773743 1.2314136028289795\n",
      "1.9260942935943604 2.150801420211792 3.5853662490844727 90.33186864852905 286.95373272895813 70.44528269767761 1.254194974899292\n",
      "1.9611680507659912 2.189762830734253 3.650284767150879 91.96291637420654 292.1559913158417 71.73578023910522 1.2767925262451172\n",
      "1.9971468448638916 2.230095863342285 3.7127420902252197 93.37896966934204 297.39545822143555 73.03350901603699 1.2999818325042725\n",
      "2.032219171524048 2.271023988723755 3.7789981365203857 95.07414221763611 302.6785001754761 74.30431866645813 1.3225691318511963\n",
      "2.0688443183898926 2.3127763271331787 3.8484878540039062 96.90621852874756 308.09781217575073 75.61722660064697 1.3464276790618896\n",
      "2.105541467666626 2.35434889793396 3.9178881645202637 98.71646046638489 313.47284603118896 76.927330493927 1.3698675632476807\n",
      "2.1416518688201904 2.3962321281433105 3.9790775775909424 100.09990239143372 318.773464679718 78.20628213882446 1.3930683135986328\n",
      "2.17582106590271 2.4353554248809814 4.0438172817230225 101.68524384498596 323.91554021835327 79.45969271659851 1.415254831314087\n",
      "2.2111940383911133 2.475985527038574 4.112030506134033 103.4871473312378 329.2138545513153 80.73085832595825 1.4376516342163086\n",
      "2.246483325958252 2.5167319774627686 4.182888984680176 105.40738844871521 334.4850277900696 81.99754452705383 1.4605610370635986\n"
     ]
    },
    {
     "name": "stdout",
     "output_type": "stream",
     "text": [
      "2.2832067012786865 2.5588181018829346 4.248523950576782 107.0102744102478 339.8888075351715 83.3222827911377 1.4840877056121826\n",
      "2.32100510597229 2.602790355682373 4.314615726470947 108.57470273971558 345.3863296508789 84.65197563171387 1.5087883472442627\n",
      "2.3594179153442383 2.647552013397217 4.386985540390015 110.39013004302979 351.06610202789307 86.00627064704895 1.533137321472168\n",
      "2.3979392051696777 2.6922786235809326 4.460047245025635 112.32988953590393 356.6143054962158 87.36284852027893 1.5576488971710205\n",
      "2.4365317821502686 2.7368717193603516 4.531354665756226 114.14981603622437 362.2773928642273 88.73032999038696 1.582024335861206\n",
      "2.474325180053711 2.7813968658447266 4.5975341796875 115.67600893974304 367.9684500694275 90.07011604309082 1.6065113544464111\n",
      "2.5125396251678467 2.826176643371582 4.667999982833862 117.4580430984497 373.5422840118408 91.40848231315613 1.6306777000427246\n",
      "2.5524747371673584 2.872603178024292 4.744813442230225 119.43108129501343 379.354056596756 92.80236768722534 1.655669927597046\n",
      "2.591158390045166 2.917386293411255 4.821134567260742 121.47958016395569 384.9404630661011 94.16662359237671 1.680173635482788\n",
      "2.629220962524414 2.9616966247558594 4.885617256164551 122.96240830421448 390.5373463630676 95.5008134841919 1.7054708003997803\n",
      "2.6660706996917725 3.004859685897827 4.950151443481445 124.45920729637146 396.0315194129944 96.8051986694336 1.7290658950805664\n",
      "2.705000638961792 3.0503034591674805 5.020591974258423 126.18326187133789 401.5866732597351 98.16033148765564 1.7533032894134521\n",
      "2.7449424266815186 3.097425699234009 5.093950510025024 128.00109601020813 407.41560649871826 99.54205584526062 1.7783923149108887\n",
      "2.7835872173309326 3.14182186126709 5.166348218917847 129.84850597381592 412.9981050491333 100.90393233299255 1.803224802017212\n",
      "2.8215224742889404 3.185818910598755 5.239154815673828 131.7091658115387 418.4527814388275 102.24767065048218 1.8276867866516113\n",
      "2.8592612743377686 3.2301530838012695 5.311304092407227 133.63415384292603 423.934410572052 103.57745623588562 1.851477861404419\n",
      "2.8982419967651367 3.275223970413208 5.386490106582642 135.60010409355164 429.59963846206665 104.95198488235474 1.8763213157653809\n",
      "2.9354677200317383 3.31878662109375 5.461089611053467 137.62302470207214 435.07150888442993 106.28695774078369 1.9003710746765137\n",
      "2.974069595336914 3.363271951675415 5.536272048950195 139.68104934692383 440.62649059295654 107.64825749397278 1.926029920578003\n",
      "3.011794328689575 3.4074289798736572 5.613378047943115 141.82862067222595 446.1093850135803 108.99948954582214 1.9501166343688965\n",
      "3.0474603176116943 3.4494731426239014 5.688012361526489 143.96406245231628 451.53347539901733 110.31002593040466 1.9727704524993896\n",
      "3.068366050720215 3.4738357067108154 5.7310028076171875 145.15993809700012 454.56816124916077 111.0472948551178 1.9857826232910156\n"
     ]
    }
   ],
   "source": [
    "# RUN IT AGAIN AND AGAIN TO CHECK THE IMPORTANCE OF THE FEATURE\n",
    "X_train, X_test, y_train, y_test = [], [], [], []\n",
    "X = []\n",
    "y = []\n",
    "import time\n",
    "t1 = t2 = t3 = t4 = t5 = t6 = t7 = 0\n",
    "i = 0\n",
    "for index, item in df.iterrows():\n",
    "    i+=1\n",
    "    if(i%1000==0): print(t1, t2, t3, t4, t5, t6, t7)\n",
    "    if(isThresholdForPreparationTime and (get_preparation_time(item) > thresholdForPreparationTime*60)): #removing inputs \n",
    "        continue\n",
    "        \n",
    "    features = []\n",
    "    t = time.time()\n",
    "    features = features + getStoreId(item, isOneHotEncodingRequired)\n",
    "    t1 += time.time() - t\n",
    "    \n",
    "    t = time.time()\n",
    "    features = features + getItemType(item, isOneHotEncodingRequired=isOneHotEncodingRequired, clubCategoryWise=clubItemsCategoryWise)\n",
    "    t2 += time.time() - t\n",
    "\n",
    "    t = time.time()    \n",
    "    features = features + getTimeSlotOfKitchenDisplayTime(item, isOneHotEncodingRequired=isOneHotEncodingRequired)\n",
    "    t3 += time.time() - t\n",
    "\n",
    "    t = time.time()\n",
    "    features = features + countPastOrders(item, storeWiseCumulativeItems, slotTimeForPastOrders) \n",
    "    t4 += time.time() - t\n",
    "\n",
    "    t = time.time()\n",
    "    features = features + getPreviousPrepTime(item, clubCategoryWise=clubItemsCategoryWise, timeslot = 60)  \n",
    "    t5 += time.time() - t\n",
    "\n",
    "    t = time.time()    \n",
    "    \n",
    "    features = features + [lengthQueue(item)]\n",
    "    \n",
    "    t6 += time.time() - t\n",
    "    t = time.time()\n",
    "    X.append(features)\n",
    "    \n",
    "    y.append(get_preparation_time(item))\n",
    "    t7 += time.time() - t\n",
    "\n",
    "#     if((order['ORDER_DATE'] >='2021-12-20' and order['ORDER_DATE'] <= '2021-12-24') or (order['ORDER_DATE'] >='2021-12-27' and order['ORDER_DATE'] <= '2021-12-29')):\n",
    "#         X_train.append(features)\n",
    "#         y_train.append(420+round(get_preparation_time(order)))\n",
    "#     elif(order['ORDER_DATE'] =='2021-12-30'):\n",
    "#         X_test.append(features)\n",
    "#         y_test.append(420+round(get_preparation_time(order)))\n",
    "print(t1, t2, t3, t4, t5, t6, t7)"
   ]
  },
  {
   "cell_type": "code",
   "execution_count": null,
   "id": "24e26fa4",
   "metadata": {},
   "outputs": [],
   "source": []
  },
  {
   "cell_type": "code",
   "execution_count": 24,
   "id": "ec7c7446",
   "metadata": {
    "ExecuteTime": {
     "end_time": "2022-10-26T17:54:48.867611Z",
     "start_time": "2022-10-26T17:54:48.817927Z"
    }
   },
   "outputs": [],
   "source": [
    "if splitMethod == 'random':\n",
    "    X_train, X_test, y_train, y_test = train_test_split(X, y, test_size = 0.20, random_state = 42)"
   ]
  },
  {
   "cell_type": "code",
   "execution_count": 25,
   "id": "86367044",
   "metadata": {
    "ExecuteTime": {
     "end_time": "2022-10-26T17:54:49.382592Z",
     "start_time": "2022-10-26T17:54:49.377824Z"
    }
   },
   "outputs": [],
   "source": [
    "def getRMSE(actual, predictions):\n",
    "    mse = sklearn.metrics.mean_squared_error(actual, predictions)\n",
    "    return math.sqrt(mse)"
   ]
  },
  {
   "cell_type": "code",
   "execution_count": 26,
   "id": "16ee20d2",
   "metadata": {
    "ExecuteTime": {
     "end_time": "2022-10-26T17:56:27.917031Z",
     "start_time": "2022-10-26T17:54:50.428824Z"
    }
   },
   "outputs": [
    {
     "name": "stdout",
     "output_type": "stream",
     "text": [
      "Random Forest Model\n",
      "RMSE score on train set:  15.527373609963119\n",
      "RMSE score on test set:  40.65363294720847\n"
     ]
    }
   ],
   "source": [
    "# random forest\n",
    "if (model=='RF'):\n",
    "    print(\"Random Forest Model\")\n",
    "    regressor = RandomForestRegressor()\n",
    "    if(isNormalizationRequired):\n",
    "        scaler = StandardScaler()\n",
    "        scaler.fit(X_train)\n",
    "\n",
    "        X_train = scaler.transform(X_train)\n",
    "        X_test = scaler.transform(X_test)\n",
    "    \n",
    "    regressor.fit(X_train, y_train)\n",
    "    predictions = regressor.predict(X_train)\n",
    "    print(\"RMSE score on train set: \", getRMSE(y_train, predictions))\n",
    "        \n",
    "    predictions = regressor.predict(X_test)\n",
    "    print(\"RMSE score on test set: \", getRMSE(y_test, predictions))\n",
    "    "
   ]
  },
  {
   "cell_type": "code",
   "execution_count": 27,
   "id": "7d120e85",
   "metadata": {
    "ExecuteTime": {
     "end_time": "2022-10-26T17:56:31.757941Z",
     "start_time": "2022-10-26T17:56:27.920543Z"
    }
   },
   "outputs": [
    {
     "name": "stdout",
     "output_type": "stream",
     "text": [
      "RMSE score on train set:  15.527373609963119\n",
      "RMSE score on test set:  40.65363294720847\n"
     ]
    }
   ],
   "source": [
    "predictions = regressor.predict(X_train)\n",
    "print(\"RMSE score on train set: \", getRMSE(y_train, predictions))\n",
    "\n",
    "predictions = regressor.predict(X_test)\n",
    "print(\"RMSE score on test set: \", getRMSE(y_test, predictions))"
   ]
  },
  {
   "cell_type": "code",
   "execution_count": 28,
   "id": "2eab2c35",
   "metadata": {
    "ExecuteTime": {
     "end_time": "2022-10-26T17:56:33.704482Z",
     "start_time": "2022-10-26T17:56:31.761747Z"
    },
    "scrolled": true
   },
   "outputs": [
    {
     "data": {
      "image/png": "[encoded data removed]",
      "text/plain": [
       "<Figure size 432x288 with 1 Axes>"
      ]
     },
     "metadata": {
      "needs_background": "light"
     },
     "output_type": "display_data"
    }
   ],
   "source": [
    "X_t = []\n",
    "Y_t = []\n",
    "for j in range(0, len(allStoreIds)):\n",
    "    xx = []\n",
    "    yy = []\n",
    "    for i in range(0, len(X_test)):\n",
    "        if(X_test[i][j] > 0):\n",
    "            xx.append(X_test[i])\n",
    "            yy.append(y_test[i])\n",
    "    X_t.append(j)\n",
    "    Y_t.append(getRMSE(yy, regressor.predict(xx)))\n",
    "    \n",
    "plt.bar(X_t, Y_t)\n",
    "plt.xticks(X_t)\n",
    "plt.xlabel(\"Store Id\")\n",
    "plt.ylabel(\"RMSE value of test set\")\n",
    "plt.title(\"Preparation time prediction\")\n",
    "plt.show()"
   ]
  },
  {
   "cell_type": "code",
   "execution_count": 29,
   "id": "0cf848b8",
   "metadata": {
    "ExecuteTime": {
     "end_time": "2022-10-26T17:56:35.491407Z",
     "start_time": "2022-10-26T17:56:33.709837Z"
    }
   },
   "outputs": [
    {
     "data": {
      "image/png": "[encoded data removed]",
      "text/plain": [
       "<Figure size 432x288 with 1 Axes>"
      ]
     },
     "metadata": {
      "needs_background": "light"
     },
     "output_type": "display_data"
    }
   ],
   "source": [
    "X_Axis = [i for i in range(10, 24)]\n",
    "RMSETimeSlotWise = {}\n",
    "total_items = len(allMenuCodes)+len(allStoreIds)\n",
    "for x in X_Axis:\n",
    "    x1 = []\n",
    "    y1 = []\n",
    "    for i in range(0, len(X_test)):\n",
    "        if(X_test[i][total_items+x] > 0):\n",
    "            x1.append(X_test[i])\n",
    "            y1.append(y_test[i])\n",
    "    RMSETimeSlotWise[x] = getRMSE(y1, regressor.predict(x1))\n",
    "    \n",
    "X_axis = list(RMSETimeSlotWise.keys())\n",
    "Y_axis = list(RMSETimeSlotWise.values())\n",
    "\n",
    "plt.bar(X_axis, Y_axis)\n",
    "plt.xticks(X_axis)\n",
    "plt.xlabel(\"Time slot\")\n",
    "plt.ylabel(\"RMSE value of test set\")\n",
    "plt.title(\"Preparation time prediction over different time slots\")\n",
    "plt.show()"
   ]
  },
  {
   "cell_type": "code",
   "execution_count": 89,
   "id": "5a01c598",
   "metadata": {},
   "outputs": [],
   "source": [
    "# #activation: relu, logistic\n",
    "# def ModelResults(X_train, X_test, y_train, y_test, model, isNormalizationRequired=True):\n",
    "    \n",
    "#     if(isNormalizationRequired):\n",
    "#         scaler = StandardScaler()\n",
    "#         scaler.fit(X_train)\n",
    "\n",
    "#         X_train = scaler.transform(X_train)\n",
    "#         X_test = scaler.transform(X_test)\n",
    "        \n",
    "#     if(model=='NN'):\n",
    "#         hidden_layer_sizes=(80, 30, 10)\n",
    "#         activation='relu'\n",
    "#         print(\"Neural Network model\")\n",
    "#         print(\"Hidden layers: \", hidden_layer_sizes)\n",
    "#         print(\"Activation function: \", activation)\n",
    "#         mlp = MLPClassifier(hidden_layer_sizes=hidden_layer_sizes, activation=activation, max_iter=1000, verbose=True, learning_rate='constant', learning_rate_init=0.01)\n",
    "#         mlp.fit(X_train, y_train)\n",
    "#         print(mlp.best_loss_)\n",
    "        \n",
    "#         predictions = mlp.predict(X_train)\n",
    "#         print(\"RMSE score on validation set: \", getRMSE(y_train, predictions))\n",
    "        \n",
    "#         predictions = mlp.predict(X_test)\n",
    "#         print(\"RMSE score on test set: \", getRMSE(y_test, predictions))\n",
    "        \n",
    "#     elif(model=='RF'):\n",
    "#         print(\"Random Forest Model\")\n",
    "#         regressor = RandomForestRegressor()\n",
    "#         regressor.fit(X_train, y_train)\n",
    "        \n",
    "#         predictions = regressor.predict(X_train)\n",
    "#         print(\"RMSE score on validation set: \", getRMSE(y_train, predictions))\n",
    "        \n",
    "#         predictions = regressor.predict(X_test)\n",
    "#         print(\"RMSE score on test set: \", getRMSE(y_test, predictions))\n",
    "#     else:\n",
    "#         print(\"Model not implemented yet\")"
   ]
  },
  {
   "cell_type": "code",
   "execution_count": 86,
   "id": "ab069e8d",
   "metadata": {
    "collapsed": true
   },
   "outputs": [
    {
     "data": {
      "text/plain": [
       "array([[ -9.68770891,  -7.18229529,  -7.05802898, ..., -10.05756664,\n",
       "        -11.47823238,  -9.53518635],\n",
       "       [ -9.68770891,  -7.18229529,  -7.05802898, ..., -10.05756664,\n",
       "        -11.47823238,  -9.53518635],\n",
       "       [ -9.68770891,  -7.18229529,  -7.05802898, ..., -10.05756664,\n",
       "        -11.47823238,  -9.53518635],\n",
       "       ...,\n",
       "       [ -9.68770891,  -7.18229529,  -7.05802898, ..., -10.05756664,\n",
       "        -11.47823238,  -9.53518635],\n",
       "       [ -9.68770891,  -7.18229529,  -7.05802898, ..., -10.05756664,\n",
       "        -11.47823238,  -9.53518635],\n",
       "       [ -9.68770891,  -7.18229529,  -7.05802898, ..., -10.05756664,\n",
       "        -11.47823238,  -9.53518635]])"
      ]
     },
     "execution_count": 86,
     "metadata": {},
     "output_type": "execute_result"
    }
   ],
   "source": [
    "# mlp.predict_log_proba(X)"
   ]
  },
  {
   "cell_type": "code",
   "execution_count": null,
   "id": "ab797e2d",
   "metadata": {},
   "outputs": [],
   "source": [
    "\n",
    "# scaler = StandardScaler()\n",
    "# scaler.fit(X_train)\n",
    "\n",
    "# X_train = scaler.transform(X_train)\n",
    "# X_test = scaler.transform(X_test)\n",
    "\n",
    "# regressor = RandomForestRegressor()\n",
    "# regressor.fit(X_train, y_train)\n",
    "# predictions = regressor.predict(X_train)"
   ]
  },
  {
   "cell_type": "code",
   "execution_count": null,
   "id": "325642ff",
   "metadata": {},
   "outputs": [],
   "source": [
    "# mse = sklearn.metrics.mean_squared_error(y_train, predictions)  \n",
    "# rmse = math.sqrt(mse)  \n",
    "# rmse"
   ]
  },
  {
   "cell_type": "code",
   "execution_count": null,
   "id": "8cee6941",
   "metadata": {},
   "outputs": [],
   "source": []
  }
 ],
 "metadata": {
  "kernelspec": {
   "display_name": "Python 3 (ipykernel)",
   "language": "python",
   "name": "python3"
  },
  "language_info": {
   "codemirror_mode": {
    "name": "ipython",
    "version": 3
   },
   "file_extension": ".py",
   "mimetype": "text/x-python",
   "name": "python",
   "nbconvert_exporter": "python",
   "pygments_lexer": "ipython3",
   "version": "3.8.10"
  }
 },
 "nbformat": 4,
 "nbformat_minor": 5
}
